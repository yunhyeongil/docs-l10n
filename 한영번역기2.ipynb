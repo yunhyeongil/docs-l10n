{
  "nbformat": 4,
  "nbformat_minor": 0,
  "metadata": {
    "colab": {
      "name": "한영번역기2.ipynb",
      "provenance": [],
      "collapsed_sections": [],
      "authorship_tag": "ABX9TyPZ1sKnTIVBoRUsjYLOiFCo",
      "include_colab_link": true
    },
    "kernelspec": {
      "name": "python3",
      "display_name": "Python 3"
    },
    "language_info": {
      "name": "python"
    },
    "accelerator": "GPU"
  },
  "cells": [
    {
      "cell_type": "markdown",
      "metadata": {
        "id": "view-in-github",
        "colab_type": "text"
      },
      "source": [
        "<a href=\"https://colab.research.google.com/github/yunhyeongil/docs-l10n/blob/master/%ED%95%9C%EC%98%81%EB%B2%88%EC%97%AD%EA%B8%B02.ipynb\" target=\"_parent\"><img src=\"https://colab.research.google.com/assets/colab-badge.svg\" alt=\"Open In Colab\"/></a>"
      ]
    },
    {
      "cell_type": "code",
      "metadata": {
        "id": "dYVOMpm34I_U"
      },
      "source": [
        "import tensorflow as tf\n",
        "import numpy as np\n",
        "import pandas as pd\n",
        "\n",
        "from sklearn.model_selection import train_test_split\n",
        "\n",
        "import matplotlib.ticker as ticker\n",
        "import matplotlib.pyplot as plt\n",
        "import matplotlib as mpl\n",
        "\n",
        "#from konlpy.tag import Mecab\n",
        "\n",
        "import time\n",
        "import re\n",
        "import os\n",
        "import io\n"
      ],
      "execution_count": 8,
      "outputs": []
    },
    {
      "cell_type": "code",
      "metadata": {
        "id": "whrtb-_drAVL"
      },
      "source": [
        "#!sudo apt -qq -y install fonts-nanum"
      ],
      "execution_count": 9,
      "outputs": []
    },
    {
      "cell_type": "code",
      "metadata": {
        "colab": {
          "base_uri": "https://localhost:8080/",
          "height": 70
        },
        "id": "g5htpRAgrOqQ",
        "outputId": "c57ff3c9-56db-48f5-d329-6991b052674b"
      },
      "source": [
        "'''\n",
        "%config InlineBackend.figure_format = 'retina'\n",
        " \n",
        "import matplotlib.font_manager as fm\n",
        "fontpath = '/usr/share/fonts/truetype/humor-sans/Humor-Sans.ttf'\n",
        "font = fm.FontProperties(fname=fontpath, size=10)\n",
        "plt.rc('font', family='NanumBarunGothic') \n",
        "mpl.font_manager._rebuild()\n",
        "'''"
      ],
      "execution_count": 10,
      "outputs": [
        {
          "output_type": "execute_result",
          "data": {
            "application/vnd.google.colaboratory.intrinsic+json": {
              "type": "string"
            },
            "text/plain": [
              "\"\\n%config InlineBackend.figure_format = 'retina'\\n \\nimport matplotlib.font_manager as fm\\nfontpath = '/usr/share/fonts/truetype/humor-sans/Humor-Sans.ttf'\\nfont = fm.FontProperties(fname=fontpath, size=10)\\nplt.rc('font', family='NanumBarunGothic') \\nmpl.font_manager._rebuild()\\n\""
            ]
          },
          "metadata": {
            "tags": []
          },
          "execution_count": 10
        }
      ]
    },
    {
      "cell_type": "code",
      "metadata": {
        "id": "f7VPqU-crRkY"
      },
      "source": [
        ""
      ],
      "execution_count": 10,
      "outputs": []
    },
    {
      "cell_type": "code",
      "metadata": {
        "colab": {
          "base_uri": "https://localhost:8080/"
        },
        "id": "BqLI8fjL49Bu",
        "outputId": "be4687d1-9fd4-4965-de6c-c1ae6878bb21"
      },
      "source": [
        "#%% 데이터 준비하기\n",
        "path_to_file_ko = './korean-english-park.train.ko'\n",
        "path_to_file_en = './korean-english-park.train.en'\n",
        "\n",
        "eng_df = pd.read_fwf(path_to_file_en, header=None)\n",
        "kor_df = pd.read_fwf(path_to_file_ko, header=None)\n",
        "\n",
        "print(eng_df.head())\n",
        "print(kor_df.head())"
      ],
      "execution_count": 11,
      "outputs": [
        {
          "output_type": "stream",
          "text": [
            "                                                   0    1    2    3\n",
            "0  Much of personal computing is about \"can you t...  NaN  NaN  NaN\n",
            "1  so a mention a few weeks ago about a rechargea...  NaN  NaN  NaN\n",
            "2  Like all optical mice, But it also doesn't nee...  NaN  NaN  NaN\n",
            "3  uses gyroscopic sensors to control the cursor ...  NaN  NaN  NaN\n",
            "4  Intelligence officials have revealed a spate o...  NaN  NaN  NaN\n",
            "                                                   0    1    2    3    4\n",
            "0               개인용 컴퓨터 사용의 상당 부분은 \"이것보다 뛰어날 수 있느냐?\"  NaN  NaN  NaN  NaN\n",
            "1  모든 광마우스와 마찬가지 로 이 광마우스도 책상 위에 놓는 마우스 패드를 필요로 하...  NaN  NaN  NaN  NaN\n",
            "2                         그러나 이것은 또한 책상도 필요로 하지 않는다.  NaN  NaN  NaN  NaN\n",
            "3  79.95달러하는 이 최첨단 무선 광마우스는 허공에서 팔목, 팔, 그외에 어떤 부분...  NaN  NaN  NaN  NaN\n",
            "4  정보 관리들은 동남 아시아에서의 선박들에 대한 많은 (테러) 계획들이 실패로 돌아갔...  NaN  NaN  NaN  NaN\n"
          ],
          "name": "stdout"
        }
      ]
    },
    {
      "cell_type": "code",
      "metadata": {
        "colab": {
          "base_uri": "https://localhost:8080/"
        },
        "id": "TcMm_q025ITU",
        "outputId": "fc5e2373-69ae-4bf0-d58e-84af1106b649"
      },
      "source": [
        "#%% 데이터확인\n",
        "\n",
        "print(eng_df.info())\n",
        "print(kor_df.info())\n",
        "\n",
        "eng_df.isna().sum()\n",
        "kor_df.isna().sum()\n",
        "\n",
        "print(eng_df[0])\n",
        "print(kor_df[0])\n",
        "\n",
        "print(eng_df.head())\n",
        "print(kor_df.head())\n",
        "\n",
        "kor_ndf = kor_df[0]\n",
        "eng_ndf = eng_df[0]\n",
        "\n",
        "print(kor_ndf.head())\n",
        "kor_eng_corpos = pd.concat([kor_ndf,eng_ndf],axis=1,ignore_index=True)\n",
        "print(kor_eng_corpos.head())\n",
        "\n",
        "\n",
        "print(kor_eng_corpos.shape)\n",
        "#print(kor_eng_corpos[0][0])  #한글\n",
        "#print(kor_eng_corpos[1][0])  #영문\n",
        "#print(list(kor_eng_corpos.values))\n",
        "\n",
        "kor_eng_corpos.isna().sum()\n",
        "\n",
        "kor_eng_corpos.dropna(inplace=True)\n",
        "\n",
        "kor_eng_corpos.info()\n",
        "\n",
        "kor_eng_corpos.drop_duplicates(inplace=True)\n",
        "kor_eng_corpos.info()\n",
        "\n",
        "korlist = kor_eng_corpos[0].tolist()\n",
        "englist = kor_eng_corpos[1].tolist()\n",
        "\n",
        "#print(korlist[:5])\n",
        "#print(englist[:5])"
      ],
      "execution_count": 12,
      "outputs": [
        {
          "output_type": "stream",
          "text": [
            "<class 'pandas.core.frame.DataFrame'>\n",
            "RangeIndex: 94123 entries, 0 to 94122\n",
            "Data columns (total 4 columns):\n",
            " #   Column  Non-Null Count  Dtype \n",
            "---  ------  --------------  ----- \n",
            " 0   0       94123 non-null  object\n",
            " 1   1       3989 non-null   object\n",
            " 2   2       3317 non-null   object\n",
            " 3   3       2951 non-null   object\n",
            "dtypes: object(4)\n",
            "memory usage: 2.9+ MB\n",
            "None\n",
            "<class 'pandas.core.frame.DataFrame'>\n",
            "RangeIndex: 94123 entries, 0 to 94122\n",
            "Data columns (total 5 columns):\n",
            " #   Column  Non-Null Count  Dtype \n",
            "---  ------  --------------  ----- \n",
            " 0   0       94123 non-null  object\n",
            " 1   1       738 non-null    object\n",
            " 2   2       607 non-null    object\n",
            " 3   3       498 non-null    object\n",
            " 4   4       363 non-null    object\n",
            "dtypes: object(5)\n",
            "memory usage: 3.6+ MB\n",
            "None\n",
            "0        Much of personal computing is about \"can you t...\n",
            "1        so a mention a few weeks ago about a rechargea...\n",
            "2        Like all optical mice, But it also doesn't nee...\n",
            "3        uses gyroscopic sensors to control the cursor ...\n",
            "4        Intelligence officials have revealed a spate o...\n",
            "                               ...                        \n",
            "94118    ””We are hoping to seize material evidence to ...\n",
            "94119    ” On Monday, police secured statements from si...\n",
            "94120    But the lack of material evidence is making it...\n",
            "94121           Kim and his son both deny the allegations.\n",
            "94122    Police are planning to seek arrest warrants fo...\n",
            "Name: 0, Length: 94123, dtype: object\n",
            "0                     개인용 컴퓨터 사용의 상당 부분은 \"이것보다 뛰어날 수 있느냐?\"\n",
            "1        모든 광마우스와 마찬가지 로 이 광마우스도 책상 위에 놓는 마우스 패드를 필요로 하...\n",
            "2                               그러나 이것은 또한 책상도 필요로 하지 않는다.\n",
            "3        79.95달러하는 이 최첨단 무선 광마우스는 허공에서 팔목, 팔, 그외에 어떤 부분...\n",
            "4        정보 관리들은 동남 아시아에서의 선박들에 대한 많은 (테러) 계획들이 실패로 돌아갔...\n",
            "                               ...                        \n",
            "94118    “우리는 3월 8일 김승연 회장과 그의 아들이 보복폭행에 가담한 혐의를 찾기 위해 ...\n",
            "94119     월요일 술집 종업원 6명은 김회장과 아들에게 폭행을 당했음을 진술했다고 경찰은 말했다.\n",
            "94120                         그러나 불충분한 증거 확보로 수사에 어려움이 있다.\n",
            "94121                    김회장과 그의 아들은 보복폭행 혐의를 강력히 부인하고 있다.\n",
            "94122    경찰은 김회장의 집무실에서 추가 증거를 찾은 이후 가능한 한 오늘 김회장과 아들을 ...\n",
            "Name: 0, Length: 94123, dtype: object\n",
            "                                                   0    1    2    3\n",
            "0  Much of personal computing is about \"can you t...  NaN  NaN  NaN\n",
            "1  so a mention a few weeks ago about a rechargea...  NaN  NaN  NaN\n",
            "2  Like all optical mice, But it also doesn't nee...  NaN  NaN  NaN\n",
            "3  uses gyroscopic sensors to control the cursor ...  NaN  NaN  NaN\n",
            "4  Intelligence officials have revealed a spate o...  NaN  NaN  NaN\n",
            "                                                   0    1    2    3    4\n",
            "0               개인용 컴퓨터 사용의 상당 부분은 \"이것보다 뛰어날 수 있느냐?\"  NaN  NaN  NaN  NaN\n",
            "1  모든 광마우스와 마찬가지 로 이 광마우스도 책상 위에 놓는 마우스 패드를 필요로 하...  NaN  NaN  NaN  NaN\n",
            "2                         그러나 이것은 또한 책상도 필요로 하지 않는다.  NaN  NaN  NaN  NaN\n",
            "3  79.95달러하는 이 최첨단 무선 광마우스는 허공에서 팔목, 팔, 그외에 어떤 부분...  NaN  NaN  NaN  NaN\n",
            "4  정보 관리들은 동남 아시아에서의 선박들에 대한 많은 (테러) 계획들이 실패로 돌아갔...  NaN  NaN  NaN  NaN\n",
            "0                 개인용 컴퓨터 사용의 상당 부분은 \"이것보다 뛰어날 수 있느냐?\"\n",
            "1    모든 광마우스와 마찬가지 로 이 광마우스도 책상 위에 놓는 마우스 패드를 필요로 하...\n",
            "2                           그러나 이것은 또한 책상도 필요로 하지 않는다.\n",
            "3    79.95달러하는 이 최첨단 무선 광마우스는 허공에서 팔목, 팔, 그외에 어떤 부분...\n",
            "4    정보 관리들은 동남 아시아에서의 선박들에 대한 많은 (테러) 계획들이 실패로 돌아갔...\n",
            "Name: 0, dtype: object\n",
            "                                                   0                                                  1\n",
            "0               개인용 컴퓨터 사용의 상당 부분은 \"이것보다 뛰어날 수 있느냐?\"  Much of personal computing is about \"can you t...\n",
            "1  모든 광마우스와 마찬가지 로 이 광마우스도 책상 위에 놓는 마우스 패드를 필요로 하...  so a mention a few weeks ago about a rechargea...\n",
            "2                         그러나 이것은 또한 책상도 필요로 하지 않는다.  Like all optical mice, But it also doesn't nee...\n",
            "3  79.95달러하는 이 최첨단 무선 광마우스는 허공에서 팔목, 팔, 그외에 어떤 부분...  uses gyroscopic sensors to control the cursor ...\n",
            "4  정보 관리들은 동남 아시아에서의 선박들에 대한 많은 (테러) 계획들이 실패로 돌아갔...  Intelligence officials have revealed a spate o...\n",
            "(94123, 2)\n",
            "<class 'pandas.core.frame.DataFrame'>\n",
            "Int64Index: 94123 entries, 0 to 94122\n",
            "Data columns (total 2 columns):\n",
            " #   Column  Non-Null Count  Dtype \n",
            "---  ------  --------------  ----- \n",
            " 0   0       94123 non-null  object\n",
            " 1   1       94123 non-null  object\n",
            "dtypes: object(2)\n",
            "memory usage: 2.2+ MB\n",
            "<class 'pandas.core.frame.DataFrame'>\n",
            "Int64Index: 78940 entries, 0 to 94122\n",
            "Data columns (total 2 columns):\n",
            " #   Column  Non-Null Count  Dtype \n",
            "---  ------  --------------  ----- \n",
            " 0   0       78940 non-null  object\n",
            " 1   1       78940 non-null  object\n",
            "dtypes: object(2)\n",
            "memory usage: 1.8+ MB\n"
          ],
          "name": "stdout"
        }
      ]
    },
    {
      "cell_type": "code",
      "metadata": {
        "colab": {
          "base_uri": "https://localhost:8080/",
          "height": 352
        },
        "id": "CcHzLjMS5b0s",
        "outputId": "5715ea02-96b3-4462-ed64-e5113142cb9f"
      },
      "source": [
        "#%%한국어 데이터 그래프로 확인\n",
        "\n",
        "min_len = 999\n",
        "max_len = 0\n",
        "sum_len = 0\n",
        "\n",
        "\n",
        "print(len(set(korlist)))\n",
        "\n",
        "for sen in korlist:\n",
        "  length = len(sen)\n",
        "  if min_len > length: min_len = length\n",
        "  if max_len < length: max_len = length\n",
        "  sum_len += length\n",
        "\n",
        "print(\"문장의 최단 길이: \",min_len)\n",
        "print(\"문장의 최장 길이: \",max_len)\n",
        "print(\"문장의 평균길이:\", sum_len/len(korlist))\n",
        "\n",
        "sentence_length = np.zeros((max_len), dtype=np.int)\n",
        "\n",
        "for sen in korlist:\n",
        "  sentence_length[len(sen)-1] += 1  # 길이의 빈도수 \n",
        "\n",
        "plt.bar(range(max_len), sentence_length,width=1.0)\n",
        "plt.title(\"Sentence legnth distroutin\")\n",
        "\n",
        "\n",
        "\n",
        "max_len = 40\n",
        "min_len = 10\n",
        "\n",
        "korlist = [s for s in korlist if (len(s)< max_len)& (len(s) >= min_len)]\n",
        "\n",
        "sentence_length = np.zeros((max_len), dtype=np.int)\n",
        "\n",
        "for sen in korlist:\n",
        "  sentence_length[len(sen)-1] += 1\n",
        "\n",
        "plt.bar(range(max_len), sentence_length, width=1.0)\n",
        "\n",
        "plt.title(\"sentence legnth distriution\")\n",
        "plt.show()"
      ],
      "execution_count": 13,
      "outputs": [
        {
          "output_type": "stream",
          "text": [
            "77564\n",
            "문장의 최단 길이:  1\n",
            "문장의 최장 길이:  145\n",
            "문장의 평균길이: 63.78251836838105\n"
          ],
          "name": "stdout"
        },
        {
          "output_type": "display_data",
          "data": {
            "image/png": "[encoded data removed]",
            "text/plain": [
              "<Figure size 432x288 with 1 Axes>"
            ]
          },
          "metadata": {
            "tags": [],
            "image/png": {
              "width": 379,
              "height": 265
            },
            "needs_background": "light"
          }
        }
      ]
    },
    {
      "cell_type": "code",
      "metadata": {
        "colab": {
          "base_uri": "https://localhost:8080/",
          "height": 387
        },
        "id": "bB0lh3jl5zyS",
        "outputId": "45ed9818-5878-439b-d280-432468f21747"
      },
      "source": [
        "#%%영어 데이터 그래프로 확인\n",
        "\n",
        "\n",
        "print(len(set(englist)))\n",
        "\n",
        "for sen in englist:\n",
        "  length = len(sen)\n",
        "  if min_len > length: min_len = length\n",
        "  if max_len < length: max_len = length\n",
        "  sum_len += length\n",
        "\n",
        "print(\"문장의 최단 길이: \",min_len)\n",
        "print(\"문장의 최장 길이: \",max_len)\n",
        "print(\"문장의 평균길이:\", sum_len/len(englist))\n",
        "\n",
        "sentence_length = np.zeros((max_len), dtype=np.int)\n",
        "\n",
        "for sen in englist:\n",
        "  sentence_length[len(sen)-1] += 1  # 길이의 빈도수 \n",
        "\n",
        "plt.bar(range(max_len), sentence_length,width=1.0)\n",
        "plt.title(\"Sentence legnth distroutin\")\n",
        "\n",
        "\n",
        "\n",
        "max_len = 150\n",
        "min_len = 10\n",
        "\n",
        "englist = [s for s in englist if (len(s)< max_len)& (len(s) >= min_len)]\n",
        "\n",
        "sentence_length = np.zeros((max_len), dtype=np.int)\n",
        "\n",
        "for sen in englist:\n",
        "  sentence_length[len(sen)-1] += 1\n",
        "\n",
        "plt.bar(range(max_len), sentence_length, width=1.0)\n",
        "\n",
        "plt.title(\"sentence legnth distriution\")\n",
        "plt.show()\n",
        "\n",
        "print(len(korlist))\n",
        "print(len(englist))"
      ],
      "execution_count": 14,
      "outputs": [
        {
          "output_type": "stream",
          "text": [
            "75597\n",
            "문장의 최단 길이:  1\n",
            "문장의 최장 길이:  243\n",
            "문장의 평균길이: 196.06594882189003\n"
          ],
          "name": "stdout"
        },
        {
          "output_type": "display_data",
          "data": {
            "image/png": "[encoded data removed]",
            "text/plain": [
              "<Figure size 432x288 with 1 Axes>"
            ]
          },
          "metadata": {
            "tags": [],
            "image/png": {
              "width": 382,
              "height": 265
            },
            "needs_background": "light"
          }
        },
        {
          "output_type": "stream",
          "text": [
            "14514\n",
            "49716\n"
          ],
          "name": "stdout"
        }
      ]
    },
    {
      "cell_type": "code",
      "metadata": {
        "colab": {
          "base_uri": "https://localhost:8080/"
        },
        "id": "NWCZKzBL53Q8",
        "outputId": "ef3a1bb9-a93e-4a41-e465-99749950610f"
      },
      "source": [
        "#%% 데이타 전처리 \n",
        "\n",
        "def preprocess_sentence(sentence, s_token=False, e_token=False, mode='kor'):\n",
        "    \n",
        "    if mode == 'eng':\n",
        "      sentence = sentence.lower().strip()\n",
        "      \n",
        "      sentence = re.sub(r\"([?.!,])\", r\" \\1 \", sentence)\n",
        "      sentence = re.sub(r'[\" \"]+', \" \", sentence)\n",
        "      sentence = re.sub(r\"[^a-zA-Z?.!,]+\", \" \", sentence)\n",
        "      sentence = sentence.strip()\n",
        "\n",
        "    if mode == 'kor':\n",
        "      sentence = re.sub(r\"([?.!,])\", r\" \\1 \", sentence)\n",
        "      sentence = re.sub(r'[\" \"]+', \" \", sentence)\n",
        "      sentence = re.sub(r\"[^ㄱ-ㅎ가-힣?.!,]\", \" \", sentence)\n",
        "      sentence = sentence.strip()\n",
        "    \n",
        "# 수정 ###############################################\n",
        "    #if s_token:\n",
        "    #    sentence = '<start> ' + sentence\n",
        "\n",
        "    #if e_token:\n",
        "    #    sentence += ' <end>'\n",
        "#######################################################\n",
        "    \n",
        "    sentence =  '<start> ' + sentence + ' <end>'\n",
        "    return sentence\n",
        "\n",
        "\n",
        "num_examples = 500\n",
        "\n",
        "eng_corpus = []\n",
        "\n",
        "for line in englist[:num_examples]: \n",
        "   eng_corpus.append(preprocess_sentence(line, s_token=True, e_token=True,mode='eng'))\n",
        "\n",
        "print(\"English :\", eng_corpus[499])\n",
        "print(\"English :\", eng_corpus[0])\n",
        "\n",
        "print(len(eng_corpus))\n",
        "\n",
        "\n",
        "\n",
        "kor_corpus = []\n",
        "\n",
        "for line in korlist[:num_examples]: \n",
        "   kor_corpus.append(preprocess_sentence(line))\n",
        "\n",
        "print(\"Korean :\", kor_corpus[499])\n",
        "print(\"Korean :\", kor_corpus[0])\n",
        "\n",
        "print(len(kor_corpus))"
      ],
      "execution_count": 15,
      "outputs": [
        {
          "output_type": "stream",
          "text": [
            "English : <start> if the bacteria is not killed and it becomes resistant , it can leave the individual and go to somebody else . <end>\n",
            "English : <start> much of personal computing is about can you top this ? <end>\n",
            "500\n",
            "Korean : <start> 이 로봇을 작업대와 혼동하는 사람이 있을 지도 모른다 . <end>\n",
            "Korean : <start> 개인용 컴퓨터 사용의 상당 부분은 이것보다 뛰어날 수 있느냐 ? <end>\n",
            "500\n"
          ],
          "name": "stdout"
        }
      ]
    },
    {
      "cell_type": "code",
      "metadata": {
        "colab": {
          "base_uri": "https://localhost:8080/"
        },
        "id": "kdG3Xc4E5_bc",
        "outputId": "a2158501-1f14-4161-9efc-795e2f156b60"
      },
      "source": [
        "#%% 토큰화\n",
        "'''\n",
        "!pip install konlpy\n",
        "\n",
        "from konlpy.tag import Mecab \n",
        "mecab = Mecab('C:/Mecab/mecab-ko-dic')\n",
        "text = u\"\"\"Colab에서 Mecab-ko-dic을 쉽게 설치할 수 있는 도와주는 쉘스크립트이빈다.\"\"\"\n",
        "my_morphs = mecab.morphs(text)\n",
        "\n",
        "print(my_morphs)\n",
        "'''\n",
        "\n",
        "def tokenize(corpus):\n",
        "  tokenizer = tf.keras.preprocessing.text.Tokenizer(filters='')\n",
        "  tokenizer.fit_on_texts(corpus)\n",
        "\n",
        "  tensor = tokenizer.texts_to_sequences(corpus)\n",
        "  tensor = tf.keras.preprocessing.sequence.pad_sequences(tensor, padding='post')\n",
        "  return tensor, tokenizer\n",
        "\n",
        "'''\n",
        "# 공백 기반 토큰화 <-> [형태소 기반 토큰화 ] \n",
        "def mecab_split(sentence):\n",
        "\n",
        "  return mecab.morphs(sentence)\n",
        "\n",
        "mecab_corpus = []\n",
        "\n",
        "for kor in kor_corpus:\n",
        "    mecab_corpus.append(mecab_split(kor))\n",
        "\n",
        "print(\"한글 corpus->\",len(mecab_corpus))\n",
        "'''\n",
        "############################################################### 한글토큰화\n",
        "kor_split_tensor, kor_split_tokenizer = tokenize(kor_corpus) # 형태소 분석한다음 토큰화\n",
        "################################################################\n",
        "\n",
        "print(kor_corpus[:5])\n",
        "\n",
        "\n",
        "# TOKENIZER\n",
        "########################################################################\n",
        "#kor_split_tensor, kor_split_tokenizer = tokenize(split_corpus)\n",
        "########################################################################\n",
        "print(len(kor_split_tokenizer.index_word))\n",
        "\n",
        "for idx, word in enumerate(kor_split_tokenizer.word_index):\n",
        "\n",
        "  print(idx,\":\",word)\n",
        "\n",
        "  if idx > 10 : break\n",
        "\n",
        "print(list(enumerate(kor_split_tokenizer.word_index))[0:5])\n",
        "print(list(enumerate(kor_split_tokenizer.index_word))[0:5])\n",
        "\n",
        "print(kor_split_tensor[100])\n",
        "\n",
        "texts = kor_split_tokenizer.sequences_to_texts([kor_split_tensor[100]])\n",
        "\n",
        "print(texts)\n",
        "\n",
        "################################# filtered corpus eng -> tokenize ###################\n",
        "print(len(eng_corpus))\n",
        "\n",
        "eng_tensor, eng_tokenizer = tokenize(eng_corpus)\n",
        "\n",
        "print(eng_tokenizer.sequences_to_texts([eng_tensor[100]]))\n",
        "####################################################################################\n",
        "\n",
        "sentence = \" \"\n",
        "\n",
        "for w in kor_split_tensor[100]:\n",
        "   if w == 0: continue \n",
        "   sentence += kor_split_tokenizer.index_word[w] + \" \"\n",
        "\n",
        "print(sentence)\n",
        "\n",
        "#%% 데이터분리\n",
        "######################################################################################\n",
        "# 그리고 변환된 텐서를 80%의 훈련데이터와 20% 검증데이터로 분리하세요\n",
        "# 단 Tokenizer의 단어수는 자유롭게 진행하세요!\n",
        "# encoding -> 한글 decoding -> 영어\n",
        "enc_train, enc_val, dec_train, dec_val = train_test_split(kor_split_tensor,eng_tensor , test_size = 0.2)\n",
        "\n",
        "\n",
        "print(enc_train.shape)\n",
        "print(enc_val.shape)\n",
        "print(dec_train.shape)\n",
        "print(dec_val.shape)\n",
        "\n",
        "print('Korean Vocab Size :',len(kor_split_tokenizer.index_word))\n",
        "print('English Vocab Size :',len(eng_tokenizer.index_word))"
      ],
      "execution_count": 16,
      "outputs": [
        {
          "output_type": "stream",
          "text": [
            "['<start> 개인용 컴퓨터 사용의 상당 부분은 이것보다 뛰어날 수 있느냐 ? <end>', '<start> 그러나 이것은 또한 책상도 필요로 하지 않는다 . <end>', '<start> 많은 인질들이 화학 가스의 영향으로 고통을 겪으며 병원으로 옮겨졌다 . <end>', '<start> 여명의 사망자가 예상되는 베트남 빌딩 화재 <end>', '<start> 그와 동시 에 노동 비용은 더욱 상승하고 있습니다 . 라고 말했다 . <end>']\n",
            "2290\n",
            "0 : <start>\n",
            "1 : <end>\n",
            "2 : .\n",
            "3 : 있다\n",
            "4 : ,\n",
            "5 : 것이다\n",
            "6 : ?\n",
            "7 : 그\n",
            "8 : 수\n",
            "9 : 이\n",
            "10 : 있는\n",
            "11 : 그러나\n",
            "[(0, '<start>'), (1, '<end>'), (2, '.'), (3, '있다'), (4, ',')]\n",
            "[(0, 1), (1, 2), (2, 3), (3, 4), (4, 5)]\n",
            "[  1  86  44 766 767 768  45 769 255   3   2   0   0   0   0]\n",
            "['<start> 그들이 아주 몸집이 크고 강인해야 할 필요는 없습니다 . <end>']\n",
            "500\n",
            "['<start> officials have wrestled for months over what to do with the mir , which moscow can no longer afford to maintain . <end>']\n",
            " <start> 그들이 아주 몸집이 크고 강인해야 할 필요는 없습니다 . <end> \n",
            "(400, 15)\n",
            "(100, 15)\n",
            "(400, 36)\n",
            "(100, 36)\n",
            "Korean Vocab Size : 2290\n",
            "English Vocab Size : 2399\n"
          ],
          "name": "stdout"
        }
      ]
    },
    {
      "cell_type": "code",
      "metadata": {
        "id": "82Z9XBxx6K3U"
      },
      "source": [
        "\n",
        "############################################# modeling\n",
        "class BahdanauAttention(tf.keras.layers.Layer):\n",
        "  def __init__(self, units):\n",
        "    super(BahdanauAttention, self).__init__()\n",
        "    self.w_dec = tf.keras.layers.Dense(units)\n",
        "    self.w_enc = tf.keras.layers.Dense(units)\n",
        "    self.w_com = tf.keras.layers.Dense(1)\n",
        "\n",
        "  def call(self, h_enc, h_dec):\n",
        "   # print(\"[H_encoder] Shape :\", h_enc.shape)\n",
        "    # h_enc shape : [batch x length x units]\n",
        "    # h_dec shape : [batch x units]\n",
        "\n",
        "    h_enc = self.w_enc(h_enc) # h_enc -> w_enc -> Dense\n",
        "    #print(\"[W_encoder X H_encoder] Shape:\", h_enc.shape)\n",
        "\n",
        "    #print(\"\\n[H_decoder] Shape: \", h_dec.shape)\n",
        "    h_dec = tf.expand_dims(h_dec, 1)\n",
        "    h_dec = self.w_dec(h_dec)\n",
        "\n",
        "    #print(\"[W_decoder X H_decoder] Shape:\", h_dec.shape)\n",
        "\n",
        "    score = self.w_com(tf.nn.tanh(h_dec + h_enc))\n",
        "    #print(\"[Score_alignment]Shape :\", score.shape)\n",
        "\n",
        "    attn = tf.nn.softmax(score, axis =1)\n",
        "    #print(\"\\n최종 weight : \\n\", attn.numpy())\n",
        "\n",
        "    context_vec = attn * h_enc\n",
        "    context_vec = tf.reduce_sum(context_vec, axis=1)\n",
        "    return context_vec, attn\n",
        "\n",
        "W_size = 100\n",
        "\n",
        "#print(\"Hidden State를 {0}차원으로 Mapping\\n\".format(W_size))\n",
        "\n",
        "attention = BahdanauAttention(W_size)\n",
        "\n",
        "enc_state = tf.random.uniform((1, 10, 512))\n",
        "dec_state = tf.random.uniform((1, 512))\n",
        "\n",
        "_ = attention(enc_state, dec_state) # call을 부른다"
      ],
      "execution_count": 17,
      "outputs": []
    },
    {
      "cell_type": "code",
      "metadata": {
        "colab": {
          "base_uri": "https://localhost:8080/"
        },
        "id": "mYecaIBp6XEn",
        "outputId": "4604a0d6-fe09-4327-9640-761e3eb52bab"
      },
      "source": [
        "class Encoder(tf.keras.Model):\n",
        "  def __init__(self, vocab_size, embedding_dim, enc_units):\n",
        "    super(Encoder, self).__init__()\n",
        "    # todo\n",
        "    self.enc_units = enc_units\n",
        "    self.embedding = tf.keras.layers.Embedding(vocab_size, embedding_dim)\n",
        "    self.gru = tf.keras.layers.GRU(enc_units, return_sequences=True)\n",
        "\n",
        "  def call(self, x):\n",
        "    # todo \n",
        "    out = self.embedding(x)\n",
        "    out = self.gru(out)\n",
        "\n",
        "    return out\n",
        "\n",
        "class Decoder(tf.keras.Model):\n",
        "  def __init__(self, vocab_size, embedding_dim, dec_units):\n",
        "    super(Decoder, self).__init__()\n",
        "    ## Todo\n",
        "    self.dec_units = dec_units\n",
        "    self.embedding = tf.keras.layers.Embedding(vocab_size, embedding_dim)\n",
        "    self.gru = tf.keras.layers.GRU(dec_units, return_sequences=True, return_state=True)\n",
        "    self.fc = tf.keras.layers.Dense(vocab_size)\n",
        "    self.attention = BahdanauAttention(self.dec_units)\n",
        "\n",
        "  def call(self, x, h_dec, enc_out):\n",
        "    ## Todo\n",
        "    context_vec, attn = self.attention(enc_out, h_dec)\n",
        "    \n",
        "    out = self.embedding(x)\n",
        "    out = tf.concat([tf.expand_dims(context_vec, 1), out], axis=-1)\n",
        "\n",
        "    out, h_dec = self.gru(out)\n",
        "    #print(\"out.shape->\",out.shape)\n",
        "    out = tf.reshape(out, (-1, out.shape[2]))\n",
        "    out = self.fc(out)\n",
        "\n",
        "    return out, h_dec, attn\n",
        "\n",
        "BATCH_SIZE = 64\n",
        "src_vocab_size = len(kor_split_tokenizer.index_word) + 1\n",
        "tgt_vocab_size = len(eng_tokenizer.index_word) + 1\n",
        "\n",
        "units = 1024\n",
        "embedding_dim = 512\n",
        "\n",
        "#[H_encoder] Shape : (1, 10, 512)\n",
        "\n",
        "# 52279 , 512, 1024\n",
        "encoder = Encoder(src_vocab_size, embedding_dim, units)\n",
        "decoder = Decoder(tgt_vocab_size, embedding_dim, units)\n",
        "\n",
        "# sample input\n",
        "sequence_len = 30\n",
        "\n",
        "sample_enc = tf.random.uniform((BATCH_SIZE, sequence_len))  # 64, 10\n",
        "sample_output = encoder(sample_enc)\n",
        "\n",
        "print('Encoder Output:', sample_output.shape)\n",
        "\n",
        "sample_state = tf.random.uniform((BATCH_SIZE, units))\n",
        "sample_logits, h_dec, attn = decoder(tf.random.uniform((BATCH_SIZE, 1)), sample_state, sample_output)\n",
        "\n",
        "print('Decoder output :', sample_logits.shape)\n",
        "print('Decoder Hidden State :', h_dec.shape)\n",
        "print('Attention :', attn.shape)\n",
        "\n",
        "optimizer = tf.keras.optimizers.Adam()\n",
        "loss_object = tf.keras.losses.SparseCategoricalCrossentropy(from_logits=True, reduction='none')\n",
        "# Categorical Crossentropy()\n",
        "# [0.1, 0.2, 0.7] --> onehot encoding [0, 0, 1]\n",
        "# SparseCategoricalCrossentropy()\n",
        "# [0.1, 0.2, 0.7] ---> 정수 인덱스 2\n",
        "# True --> 모델의 출력값을 그대로 전달"
      ],
      "execution_count": 18,
      "outputs": [
        {
          "output_type": "stream",
          "text": [
            "Encoder Output: (64, 30, 1024)\n",
            "Decoder output : (64, 2400)\n",
            "Decoder Hidden State : (64, 1024)\n",
            "Attention : (64, 30, 1)\n"
          ],
          "name": "stdout"
        }
      ]
    },
    {
      "cell_type": "code",
      "metadata": {
        "id": "ZH7aURVY6d1f"
      },
      "source": [
        "\n",
        "def loss_function(real, pred):\n",
        "  mask = tf.math.logical_not(tf.math.equal(real, 0))\n",
        "  loss = loss_object(real, pred)\n",
        "\n",
        "  mask = tf.cast(mask, dtype=loss.dtype)\n",
        "  loss *= mask\n",
        "\n",
        "  return tf.reduce_mean(loss)\n",
        "\n",
        "#%%\n",
        "@tf.function\n",
        "def train_step(src, tgt, encoder, decoder, optimizer, dec_tok):\n",
        "  bsz = src.shape[0]\n",
        "  loss = 0\n",
        "\n",
        "  with tf.GradientTape() as tape:\n",
        "    enc_out = encoder(src)\n",
        "    h_dec = enc_out[:, -1]\n",
        "\n",
        "    dec_src = tf.expand_dims([dec_tok.word_index['<start>']] * bsz, 1)\n",
        "\n",
        "    for t in range(1, tgt.shape[1]):\n",
        "      pred, h_dec, _ = decoder(dec_src, h_dec, enc_out)\n",
        "\n",
        "      loss += loss_function(tgt[:, t], pred)\n",
        "      dec_src = tf.expand_dims(tgt[:,t], 1)\n",
        "\n",
        "  batch_loss = (loss/int(tgt.shape[1]))\n",
        "\n",
        "  variables = encoder.trainable_variables + decoder.trainable_variables\n",
        "  gradients = tape.gradient(loss, variables)\n",
        "  optimizer.apply_gradients(zip(gradients, variables))\n",
        "  return batch_loss\n",
        "#%%"
      ],
      "execution_count": 19,
      "outputs": []
    },
    {
      "cell_type": "code",
      "metadata": {
        "colab": {
          "base_uri": "https://localhost:8080/"
        },
        "id": "K64XgTVp6ilX",
        "outputId": "46ce0b21-8b4c-4007-af6e-72311c42c2ff"
      },
      "source": [
        "\n",
        "from tqdm import tqdm\n",
        "import random\n",
        "\n",
        "epochs = 10\n",
        "\n",
        "#print(enc_train[:5])\n",
        "for epoch in range(epochs):\n",
        "  total_loss = 0\n",
        "  \n",
        "  idx_list = list(range(0, enc_train.shape[0], BATCH_SIZE))\n",
        "  #print(idx_list[:5])\n",
        "  random.shuffle(idx_list)\n",
        "  t = tqdm(idx_list)\n",
        "  #print(list(t)[:5])\n",
        "\n",
        "  for (batch, idx) in enumerate(t):\n",
        "    batch_loss = train_step(enc_train[idx:idx+BATCH_SIZE],\n",
        "                            dec_train[idx:idx+BATCH_SIZE],\n",
        "                            encoder,\n",
        "                            decoder,\n",
        "                            optimizer,\n",
        "                            eng_tokenizer)\n",
        "    total_loss += batch_loss\n",
        "\n",
        "    t.set_description_str('Epoch %2d' % (epoch+1))\n",
        "    t.set_postfix_str('Loss %.4f' % (total_loss.numpy() / (batch+1)))\n",
        "\n",
        "#print(eng_tokenizer.word_index['<start>'])"
      ],
      "execution_count": 20,
      "outputs": [
        {
          "output_type": "stream",
          "text": [
            "Epoch  1: 100%|██████████| 7/7 [01:20<00:00, 11.48s/it, Loss 3.4863]\n",
            "Epoch  2: 100%|██████████| 7/7 [00:03<00:00,  1.98it/s, Loss 3.0458]\n",
            "Epoch  3: 100%|██████████| 7/7 [00:03<00:00,  1.96it/s, Loss 2.9571]\n",
            "Epoch  4: 100%|██████████| 7/7 [00:03<00:00,  1.96it/s, Loss 2.8644]\n",
            "Epoch  5: 100%|██████████| 7/7 [00:03<00:00,  1.97it/s, Loss 2.8185]\n",
            "Epoch  6: 100%|██████████| 7/7 [00:03<00:00,  1.95it/s, Loss 2.7677]\n",
            "Epoch  7: 100%|██████████| 7/7 [00:03<00:00,  1.95it/s, Loss 2.7142]\n",
            "Epoch  8: 100%|██████████| 7/7 [00:03<00:00,  1.96it/s, Loss 2.6361]\n",
            "Epoch  9: 100%|██████████| 7/7 [00:03<00:00,  1.95it/s, Loss 2.5631]\n",
            "Epoch 10: 100%|██████████| 7/7 [00:03<00:00,  1.94it/s, Loss 2.4860]\n"
          ],
          "name": "stderr"
        }
      ]
    },
    {
      "cell_type": "code",
      "metadata": {
        "id": "A6pOaGnJ7cOE"
      },
      "source": [
        "#%%\n",
        "@tf.function\n",
        "def eval_step(src, tgt, encoder, decoder, dec_tok):\n",
        "    bsz = src.shape[0]\n",
        "    \n",
        "    print(\"bsz->\", bsz)\n",
        "    loss = 0\n",
        "\n",
        "    enc_out = encoder(src)\n",
        "\n",
        "    h_dec = enc_out[:, -1]\n",
        "    \n",
        "    dec_src = tf.expand_dims([dec_tok.word_index['<start>']] * bsz, 1)\n",
        "\n",
        "    for t in range(1, tgt.shape[1]):\n",
        "        pred, h_dec, _ = decoder(dec_src, h_dec, enc_out)\n",
        "\n",
        "        loss += loss_function(tgt[:, t], pred)\n",
        "        dec_src = tf.expand_dims(tgt[:, t], 1)\n",
        "        \n",
        "    batch_loss = (loss / int(tgt.shape[1]))\n",
        "    \n",
        "    return batch_loss"
      ],
      "execution_count": 21,
      "outputs": []
    },
    {
      "cell_type": "code",
      "metadata": {
        "colab": {
          "base_uri": "https://localhost:8080/"
        },
        "id": "-l_v4v1g6vkT",
        "outputId": "d1f2eeee-13fb-406c-bdbd-8c04bb298e4b"
      },
      "source": [
        "#%%\n",
        "\n",
        "# Training Process\n",
        "\n",
        "from tqdm import tqdm\n",
        "\n",
        "EPOCHS = 10\n",
        "\n",
        "\n",
        "for epoch in range(EPOCHS):\n",
        "    total_loss = 0\n",
        "    \n",
        "    idx_list = list(range(0, enc_train.shape[0], BATCH_SIZE))\n",
        "    random.shuffle(idx_list)\n",
        "    t = tqdm(idx_list)\n",
        "\n",
        "    for (batch, idx) in enumerate(t):\n",
        "        batch_loss = train_step(enc_train[idx:idx+BATCH_SIZE],\n",
        "                                dec_train[idx:idx+BATCH_SIZE],\n",
        "                                encoder,\n",
        "                                decoder,\n",
        "                                optimizer,\n",
        "                                eng_tokenizer)\n",
        "    \n",
        "        total_loss += batch_loss\n",
        "        \n",
        "        t.set_description_str('Epoch %2d' % (epoch + 1))\n",
        "        t.set_postfix_str('Loss %.4f' % (total_loss.numpy() / (batch + 1)))\n",
        "    \n",
        "    test_loss = 0\n",
        "    \n",
        "    idx_list = list(range(0, enc_val.shape[0], BATCH_SIZE))\n",
        "    random.shuffle(idx_list)\n",
        "    t = tqdm(idx_list)\n",
        "\n",
        "\n",
        "    for (test_batch, idx) in enumerate(t):\n",
        "        test_batch_loss = eval_step(enc_val[idx:idx+BATCH_SIZE],\n",
        "                                    dec_val[idx:idx+BATCH_SIZE],\n",
        "                                    encoder,\n",
        "                                    decoder,\n",
        "                                    eng_tokenizer)\n",
        "    \n",
        "        test_loss += test_batch_loss\n",
        "\n",
        "        t.set_description_str('Test Epoch %2d' % (epoch + 1))\n",
        "        t.set_postfix_str('Test Loss %.4f' % (test_loss.numpy() / (test_batch + 1)))"
      ],
      "execution_count": 22,
      "outputs": [
        {
          "output_type": "stream",
          "text": [
            "Epoch  1: 100%|██████████| 7/7 [00:03<00:00,  1.95it/s, Loss 2.3856]\n",
            "  0%|          | 0/2 [00:00<?, ?it/s]"
          ],
          "name": "stderr"
        },
        {
          "output_type": "stream",
          "text": [
            "bsz-> 64\n"
          ],
          "name": "stdout"
        },
        {
          "output_type": "stream",
          "text": [
            "Test Epoch  1:  50%|█████     | 1/2 [00:13<00:13, 13.91s/it, Test Loss 3.1402]"
          ],
          "name": "stderr"
        },
        {
          "output_type": "stream",
          "text": [
            "bsz-> 36\n"
          ],
          "name": "stdout"
        },
        {
          "output_type": "stream",
          "text": [
            "Test Epoch  1: 100%|██████████| 2/2 [00:27<00:00, 13.58s/it, Test Loss 3.2946]\n",
            "Epoch  2: 100%|██████████| 7/7 [00:03<00:00,  1.88it/s, Loss 2.2840]\n",
            "Test Epoch  2: 100%|██████████| 2/2 [00:00<00:00,  5.00it/s, Test Loss 3.4225]\n",
            "Epoch  3: 100%|██████████| 7/7 [00:03<00:00,  1.94it/s, Loss 2.2229]\n",
            "Test Epoch  3: 100%|██████████| 2/2 [00:00<00:00,  4.91it/s, Test Loss 3.5713]\n",
            "Epoch  4: 100%|██████████| 7/7 [00:03<00:00,  1.94it/s, Loss 2.1293]\n",
            "Test Epoch  4: 100%|██████████| 2/2 [00:00<00:00,  4.98it/s, Test Loss 3.4884]\n",
            "Epoch  5: 100%|██████████| 7/7 [00:03<00:00,  1.93it/s, Loss 2.0516]\n",
            "Test Epoch  5: 100%|██████████| 2/2 [00:00<00:00,  5.11it/s, Test Loss 3.6843]\n",
            "Epoch  6: 100%|██████████| 7/7 [00:03<00:00,  1.94it/s, Loss 1.9807]\n",
            "Test Epoch  6: 100%|██████████| 2/2 [00:00<00:00,  5.03it/s, Test Loss 3.7120]\n",
            "Epoch  7: 100%|██████████| 7/7 [00:03<00:00,  1.93it/s, Loss 1.9028]\n",
            "Test Epoch  7: 100%|██████████| 2/2 [00:00<00:00,  4.92it/s, Test Loss 3.8810]\n",
            "Epoch  8: 100%|██████████| 7/7 [00:03<00:00,  1.93it/s, Loss 1.8926]\n",
            "Test Epoch  8: 100%|██████████| 2/2 [00:00<00:00,  5.07it/s, Test Loss 3.6641]\n",
            "Epoch  9: 100%|██████████| 7/7 [00:03<00:00,  1.93it/s, Loss 1.7753]\n",
            "Test Epoch  9: 100%|██████████| 2/2 [00:00<00:00,  5.03it/s, Test Loss 3.8388]\n",
            "Epoch 10: 100%|██████████| 7/7 [00:03<00:00,  1.94it/s, Loss 1.6597]\n",
            "Test Epoch 10: 100%|██████████| 2/2 [00:00<00:00,  4.83it/s, Test Loss 3.9152]\n"
          ],
          "name": "stderr"
        }
      ]
    },
    {
      "cell_type": "code",
      "metadata": {
        "id": "dTbPqIbx9mHD",
        "colab": {
          "base_uri": "https://localhost:8080/",
          "height": 70
        },
        "outputId": "4b05b3f7-e362-485f-b160-80ed58010b34"
      },
      "source": [
        "'''\n",
        "import matplotlib as mpl\n",
        "import matplotlib.pyplot as plt\n",
        "\n",
        "\n",
        "%config InlineBackend.figure_format = 'retina'\n",
        " \n",
        "import matplotlib.font_manager as fm\n",
        "fontpath = '/usr/share/fonts/truetype/nanum/NanumBarunGothic.ttf'\n",
        "font = fm.FontProperties(fname=fontpath, size=10)\n",
        "plt.rc('font', family='NanumBarunGothic') \n",
        "mpl.font_manager._rebuild()\n",
        "'''"
      ],
      "execution_count": 23,
      "outputs": [
        {
          "output_type": "execute_result",
          "data": {
            "application/vnd.google.colaboratory.intrinsic+json": {
              "type": "string"
            },
            "text/plain": [
              "\"\\nimport matplotlib as mpl\\nimport matplotlib.pyplot as plt\\n\\n\\n%config InlineBackend.figure_format = 'retina'\\n \\nimport matplotlib.font_manager as fm\\nfontpath = '/usr/share/fonts/truetype/nanum/NanumBarunGothic.ttf'\\nfont = fm.FontProperties(fname=fontpath, size=10)\\nplt.rc('font', family='NanumBarunGothic') \\nmpl.font_manager._rebuild()\\n\""
            ]
          },
          "metadata": {
            "tags": []
          },
          "execution_count": 23
        }
      ]
    },
    {
      "cell_type": "code",
      "metadata": {
        "colab": {
          "base_uri": "https://localhost:8080/",
          "height": 1000
        },
        "id": "aP3rxvvl8Y1-",
        "outputId": "936cd251-33f7-4323-88d2-8c757971d811"
      },
      "source": [
        "#%%\n",
        "\n",
        "def evaluate(sentence, encoder, decoder):\n",
        "    attention = np.zeros((dec_train.shape[-1], enc_train.shape[-1]))\n",
        "    # dec_train -> 61   enc_train -> 11\n",
        "    #print(attention) #(61 x 11)\n",
        "    #sentence = preprocess_sentence(sentence)   \n",
        "    inputs = kor_split_tokenizer.texts_to_sequences([sentence.split()])\n",
        "    inputs = tf.keras.preprocessing.sequence.pad_sequences(inputs,\n",
        "                                                           maxlen=enc_train.shape[-1],\n",
        "                                                           padding='post')\n",
        "\n",
        "    result = ''\n",
        "\n",
        "    enc_out = encoder(inputs)\n",
        "    print(\"enc_out->\",enc_out)\n",
        "    \n",
        "    dec_hidden = enc_out[:, -1]\n",
        "    dec_input = tf.expand_dims([eng_tokenizer.word_index['<start>']], 0)\n",
        "\n",
        "    for t in range(dec_train.shape[-1]):\n",
        "        predictions, dec_hidden, attention_weights = decoder(dec_input,\n",
        "                                                             dec_hidden,\n",
        "                                                             enc_out)\n",
        "\n",
        "        attention_weights = tf.reshape(attention_weights, (-1, ))\n",
        "        attention[t] = attention_weights.numpy()\n",
        "\n",
        "        predicted_id = \\\n",
        "        tf.argmax(tf.math.softmax(predictions, axis=-1)[0]).numpy()\n",
        "\n",
        "        result += eng_tokenizer.index_word[predicted_id] + ' '\n",
        "\n",
        "        if eng_tokenizer.index_word[predicted_id] == '<end>':\n",
        "            return result, sentence, attention\n",
        "\n",
        "        dec_input = tf.expand_dims([predicted_id], 0)\n",
        "\n",
        "    return result, sentence, attention\n",
        "\n",
        "\n",
        "def plot_attention(attention, sentence, predicted_sentence):\n",
        "    fig = plt.figure(figsize=(5,20))\n",
        "    ax = fig.add_subplot(1, 1, 1)\n",
        "    ax.matshow(attention, cmap='viridis')\n",
        "\n",
        "    fontdict = {'fontsize': 14}\n",
        "\n",
        "    ax.set_xticklabels([''] + sentence, fontdict=fontdict, rotation=90)\n",
        "    ax.set_yticklabels([''] + predicted_sentence, fontdict=fontdict)\n",
        "\n",
        "    ax.xaxis.set_major_locator(ticker.MultipleLocator(1))\n",
        "    ax.yaxis.set_major_locator(ticker.MultipleLocator(1))\n",
        "\n",
        "    plt.show()\n",
        "\n",
        "\n",
        "def translate(sentence, encoder, decoder):\n",
        "    print(sentence)\n",
        "    result, sentence, attention = evaluate(sentence, encoder, decoder)\n",
        "\n",
        "    print('Input: %s' % (sentence))\n",
        "    print('Predicted translation: {}'.format(result))\n",
        "    \n",
        "    attention = attention[:len(result.split()), :len(sentence.split())]\n",
        "    plot_attention(attention, sentence.split(), result.split(' '))\n",
        "\n",
        "\n",
        "translate('개인용 컴퓨터 사용의 상당부분은 이것보다 뛰어날 수 있느냐',encoder,decoder)\n",
        "\n",
        "\n",
        "\n",
        "#enc_train, enc_val, dec_train, dec_val = train_test_split(kor_split_tensor,eng_tensor , test_size = 0.2)\n",
        "\n",
        "print(enc_train.shape)\n",
        "print(enc_val.shape)\n",
        "print(dec_train.shape)\n",
        "print(dec_val.shape)\n",
        "\n",
        "'''\n",
        "(400, 11)\n",
        "(100, 11)\n",
        "(400, 61)\n",
        "(100, 61)\n",
        "'''"
      ],
      "execution_count": 24,
      "outputs": [
        {
          "output_type": "stream",
          "text": [
            "개인용 컴퓨터 사용의 상당부분은 이것보다 뛰어날 수 있느냐\n",
            "enc_out-> tf.Tensor(\n",
            "[[[-0.00577291 -0.00226828  0.00702798 ... -0.00277872  0.00194671\n",
            "   -0.01249901]\n",
            "  [ 0.00604215 -0.02142305  0.00876698 ... -0.01642376  0.02809782\n",
            "   -0.00350604]\n",
            "  [ 0.0040093  -0.02831799  0.01453312 ... -0.00640876  0.01734241\n",
            "   -0.00071935]\n",
            "  ...\n",
            "  [ 0.07068352 -0.10232046 -0.01453488 ...  0.01183752  0.04804406\n",
            "    0.00056125]\n",
            "  [ 0.07665563 -0.10141226 -0.01221235 ...  0.01652693  0.04811571\n",
            "    0.00065043]\n",
            "  [ 0.08105896 -0.10058563 -0.0103741  ...  0.02025972  0.04822794\n",
            "    0.00078602]]], shape=(1, 15, 1024), dtype=float32)\n",
            "Input: 개인용 컴퓨터 사용의 상당부분은 이것보다 뛰어날 수 있느냐\n",
            "Predicted translation: the united states and the united states and the united states and the united states and the united states and the united states and the united states and the united states and the united states and \n"
          ],
          "name": "stdout"
        },
        {
          "output_type": "display_data",
          "data": {
            "image/png": "[encoded data removed]",
            "text/plain": [
              "<Figure size 360x1440 with 1 Axes>"
            ]
          },
          "metadata": {
            "tags": [],
            "image/png": {
              "width": 304,
              "height": 1174
            },
            "needs_background": "light"
          }
        },
        {
          "output_type": "execute_result",
          "data": {
            "application/vnd.google.colaboratory.intrinsic+json": {
              "type": "string"
            },
            "text/plain": [
              "'\\n(400, 11)\\n(100, 11)\\n(400, 61)\\n(100, 61)\\n'"
            ]
          },
          "metadata": {
            "tags": []
          },
          "execution_count": 24
        },
        {
          "output_type": "stream",
          "text": [
            "(400, 15)\n",
            "(100, 15)\n",
            "(400, 36)\n",
            "(100, 36)\n"
          ],
          "name": "stdout"
        }
      ]
    },
    {
      "cell_type": "code",
      "metadata": {
        "colab": {
          "base_uri": "https://localhost:8080/",
          "height": 1000
        },
        "id": "sg6ErBYIxipB",
        "outputId": "0e241958-55c7-40fa-f1ac-266032b54779"
      },
      "source": [
        "translate('그러나 이것은 또한 책상도 필요로 하지 않는다.',encoder,decoder)"
      ],
      "execution_count": 35,
      "outputs": [
        {
          "output_type": "stream",
          "text": [
            "그러나 이것은 또한 책상도 필요로 하지 않는다.\n",
            "enc_out-> tf.Tensor(\n",
            "[[[-1.0010751e-02 -5.4062051e-03 -1.2270801e-02 ... -8.8417698e-03\n",
            "   -3.5014302e-03  3.4238824e-03]\n",
            "  [ 8.8006826e-03 -4.7210868e-02 -2.1610407e-02 ... -8.3682354e-04\n",
            "    3.4632087e-02  1.1611924e-02]\n",
            "  [ 1.8248707e-02 -5.1613137e-02 -2.9446244e-02 ... -6.2076487e-03\n",
            "    2.4283066e-02 -4.9048685e-03]\n",
            "  ...\n",
            "  [ 9.0313889e-02 -9.7598970e-02 -6.6983355e-03 ...  2.9100578e-02\n",
            "    4.6817552e-02 -1.8109080e-03]\n",
            "  [ 9.1440454e-02 -9.7640172e-02 -5.9704897e-03 ...  3.0080289e-02\n",
            "    4.7623977e-02 -7.6599797e-04]\n",
            "  [ 9.2181556e-02 -9.7631425e-02 -5.4387394e-03 ...  3.0808294e-02\n",
            "    4.8187334e-02 -4.0683623e-05]]], shape=(1, 15, 1024), dtype=float32)\n",
            "Input: 그러나 이것은 또한 책상도 필요로 하지 않는다.\n",
            "Predicted translation: why the united states and rural tests in the united states and rural tests in the united states and rural tests in the united states and rural tests in the united states and rural tests in \n"
          ],
          "name": "stdout"
        },
        {
          "output_type": "display_data",
          "data": {
            "image/png": "[encoded data removed]",
            "text/plain": [
              "<Figure size 360x1440 with 1 Axes>"
            ]
          },
          "metadata": {
            "tags": [],
            "image/png": {
              "width": 273,
              "height": 1153
            },
            "needs_background": "light"
          }
        }
      ]
    },
    {
      "cell_type": "markdown",
      "metadata": {
        "id": "m4CmnAzTysEP"
      },
      "source": [
        "# 한글코드 문제 때문에 어려움이 있었음"
      ]
    },
    {
      "cell_type": "code",
      "metadata": {
        "id": "FQLJOSfB84_7",
        "colab": {
          "base_uri": "https://localhost:8080/",
          "height": 34
        },
        "outputId": "97326f03-11aa-4ae7-8649-d261cfddcb0a"
      },
      "source": [
        "'''\n",
        "import numpy as np\n",
        "\n",
        "data = np.random.randint(-200, 100, 50).cumsum()\n",
        "data\n",
        "'''"
      ],
      "execution_count": 25,
      "outputs": [
        {
          "output_type": "execute_result",
          "data": {
            "application/vnd.google.colaboratory.intrinsic+json": {
              "type": "string"
            },
            "text/plain": [
              "'\\nimport numpy as np\\n\\ndata = np.random.randint(-200, 100, 50).cumsum()\\ndata\\n'"
            ]
          },
          "metadata": {
            "tags": []
          },
          "execution_count": 25
        }
      ]
    },
    {
      "cell_type": "code",
      "metadata": {
        "id": "cH8VDYNx9Dxd"
      },
      "source": [
        "#!sudo apt -qq -y install fonts-nanum"
      ],
      "execution_count": 26,
      "outputs": []
    },
    {
      "cell_type": "code",
      "metadata": {
        "id": "NmlKtFhepzZh"
      },
      "source": [
        "#import matplotlib as mpl\n",
        "#import matplotlib.pyplot as plt"
      ],
      "execution_count": 27,
      "outputs": []
    },
    {
      "cell_type": "code",
      "metadata": {
        "colab": {
          "base_uri": "https://localhost:8080/",
          "height": 70
        },
        "id": "r_p51lXtJ_81",
        "outputId": "3d705b31-772c-4d6f-e8a3-966b09305b72"
      },
      "source": [
        "'''\n",
        "%config InlineBackend.figure_format = 'retina'\n",
        " \n",
        "import matplotlib.font_manager as fm\n",
        "fontpath = '/usr/share/fonts/truetype/humor-sans/Humor-Sans.ttf'\n",
        "#fontpath = '/usr/share/fonts/truetype/nanum/NanumBarunGothic.ttf'\n",
        "font = fm.FontProperties(fname=fontpath, size=10)\n",
        "plt.rc('font', family='NanumBarunGothic') \n",
        "mpl.font_manager._rebuild()\n",
        "'''"
      ],
      "execution_count": 28,
      "outputs": [
        {
          "output_type": "execute_result",
          "data": {
            "application/vnd.google.colaboratory.intrinsic+json": {
              "type": "string"
            },
            "text/plain": [
              "\"\\n%config InlineBackend.figure_format = 'retina'\\n \\nimport matplotlib.font_manager as fm\\nfontpath = '/usr/share/fonts/truetype/humor-sans/Humor-Sans.ttf'\\n#fontpath = '/usr/share/fonts/truetype/nanum/NanumBarunGothic.ttf'\\nfont = fm.FontProperties(fname=fontpath, size=10)\\nplt.rc('font', family='NanumBarunGothic') \\nmpl.font_manager._rebuild()\\n\""
            ]
          },
          "metadata": {
            "tags": []
          },
          "execution_count": 28
        }
      ]
    },
    {
      "cell_type": "code",
      "metadata": {
        "colab": {
          "base_uri": "https://localhost:8080/",
          "height": 52
        },
        "id": "WczUFoVNJgWe",
        "outputId": "491bd561-1e83-4d9f-e65c-54f8ccefba18"
      },
      "source": [
        "'''\n",
        "import matplotlib as mpl\n",
        "import matplotlib.pyplot as plt\n",
        "\n",
        "\n",
        "# 한글을 넣어놓고 그러보면 깨진다\n",
        "plt.figure(figsize=(10,8))\n",
        "plt.plot(range(50), data, 'r')\n",
        "plt.title('시간별 가격추이')\n",
        "plt.ylabel('주식가격')\n",
        "\n",
        "plt.xlabel('시간(분)')\n",
        "'''"
      ],
      "execution_count": 29,
      "outputs": [
        {
          "output_type": "execute_result",
          "data": {
            "application/vnd.google.colaboratory.intrinsic+json": {
              "type": "string"
            },
            "text/plain": [
              "\"\\nimport matplotlib as mpl\\nimport matplotlib.pyplot as plt\\n\\n\\n# 한글을 넣어놓고 그러보면 깨진다\\nplt.figure(figsize=(10,8))\\nplt.plot(range(50), data, 'r')\\nplt.title('시간별 가격추이')\\nplt.ylabel('주식가격')\\n\\nplt.xlabel('시간(분)')\\n\""
            ]
          },
          "metadata": {
            "tags": []
          },
          "execution_count": 29
        }
      ]
    },
    {
      "cell_type": "code",
      "metadata": {
        "id": "pGVp6Bq1tE17"
      },
      "source": [
        "#!apt-get update -qq\n",
        "#!apt-get install fonts-nanum* -qq"
      ],
      "execution_count": 30,
      "outputs": []
    },
    {
      "cell_type": "code",
      "metadata": {
        "colab": {
          "base_uri": "https://localhost:8080/",
          "height": 52
        },
        "id": "S4TM2qMGuQpP",
        "outputId": "4df66614-27ee-4d41-cf41-96df00b2fa01"
      },
      "source": [
        "'''\n",
        "sys_font=fm.findSystemFonts()\n",
        "print(f\"sys_font number: {len(sys_font)}\")\n",
        "\n",
        "nanum_font = [f for f in sys_font if 'Nanum' in f]\n",
        "print(f\"nanum_font number: {len(nanum_font)}\")\n",
        "'''"
      ],
      "execution_count": 31,
      "outputs": [
        {
          "output_type": "execute_result",
          "data": {
            "application/vnd.google.colaboratory.intrinsic+json": {
              "type": "string"
            },
            "text/plain": [
              "'\\nsys_font=fm.findSystemFonts()\\nprint(f\"sys_font number: {len(sys_font)}\")\\n\\nnanum_font = [f for f in sys_font if \\'Nanum\\' in f]\\nprint(f\"nanum_font number: {len(nanum_font)}\")\\n'"
            ]
          },
          "metadata": {
            "tags": []
          },
          "execution_count": 31
        }
      ]
    },
    {
      "cell_type": "code",
      "metadata": {
        "id": "31smtMs7uWgo"
      },
      "source": [
        "#nanum_font"
      ],
      "execution_count": 32,
      "outputs": []
    },
    {
      "cell_type": "code",
      "metadata": {
        "colab": {
          "base_uri": "https://localhost:8080/",
          "height": 52
        },
        "id": "Gf405rIYuZTJ",
        "outputId": "5c990231-643c-483f-9098-358cebc9d6e9"
      },
      "source": [
        "'''\n",
        "# 현재 설정되어 있는 폰트 사이즈와 글꼴을 알아보자\n",
        "!python --version\n",
        "def current_font():\n",
        "  print(f\"설정 폰트 글꼴: {plt.rcParams['font.family']}, 설정 폰트 사이즈: {plt.rcParams['font.size']}\")  # 파이썬 3.6 이상 사용가능하다\n",
        "        \n",
        "current_font()\n",
        "'''"
      ],
      "execution_count": 33,
      "outputs": [
        {
          "output_type": "execute_result",
          "data": {
            "application/vnd.google.colaboratory.intrinsic+json": {
              "type": "string"
            },
            "text/plain": [
              "'\\n# 현재 설정되어 있는 폰트 사이즈와 글꼴을 알아보자\\n!python --version\\ndef current_font():\\n  print(f\"설정 폰트 글꼴: {plt.rcParams[\\'font.family\\']}, 설정 폰트 사이즈: {plt.rcParams[\\'font.size\\']}\")  # 파이썬 3.6 이상 사용가능하다\\n        \\ncurrent_font()\\n'"
            ]
          },
          "metadata": {
            "tags": []
          },
          "execution_count": 33
        }
      ]
    },
    {
      "cell_type": "code",
      "metadata": {
        "colab": {
          "base_uri": "https://localhost:8080/",
          "height": 52
        },
        "id": "vLpZKQAIub4x",
        "outputId": "b30d5325-3808-4bef-c6c9-320cc87f4c44"
      },
      "source": [
        "'''\n",
        "plt.plot(range(50), data, 'r')\n",
        "plt.title('시간별 가격 추이')\n",
        "plt.ylabel('주식 가격')\n",
        "plt.xlabel('시간(분)')\n",
        "plt.style.use('seaborn-pastel')\n",
        "plt.show()\n",
        "'''"
      ],
      "execution_count": 34,
      "outputs": [
        {
          "output_type": "execute_result",
          "data": {
            "application/vnd.google.colaboratory.intrinsic+json": {
              "type": "string"
            },
            "text/plain": [
              "\"\\nplt.plot(range(50), data, 'r')\\nplt.title('시간별 가격 추이')\\nplt.ylabel('주식 가격')\\nplt.xlabel('시간(분)')\\nplt.style.use('seaborn-pastel')\\nplt.show()\\n\""
            ]
          },
          "metadata": {
            "tags": []
          },
          "execution_count": 34
        }
      ]
    },
    {
      "cell_type": "code",
      "metadata": {
        "id": "pBOW5inLvIrA"
      },
      "source": [
        ""
      ],
      "execution_count": 34,
      "outputs": []
    }
  ]
}