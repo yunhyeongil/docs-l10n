{
  "nbformat": 4,
  "nbformat_minor": 0,
  "metadata": {
    "colab": {
      "name": "이미지실습.ipynb",
      "provenance": [],
      "collapsed_sections": [],
      "authorship_tag": "ABX9TyOjsE2Nx+c8XVLHFnTd/n7x",
      "include_colab_link": true
    },
    "kernelspec": {
      "name": "python3",
      "display_name": "Python 3"
    },
    "language_info": {
      "name": "python"
    }
  },
  "cells": [
    {
      "cell_type": "markdown",
      "metadata": {
        "id": "view-in-github",
        "colab_type": "text"
      },
      "source": [
        "<a href=\"https://colab.research.google.com/github/yunhyeongil/docs-l10n/blob/master/%EC%9D%B4%EB%AF%B8%EC%A7%80%EC%8B%A4%EC%8A%B5.ipynb\" target=\"_parent\"><img src=\"https://colab.research.google.com/assets/colab-badge.svg\" alt=\"Open In Colab\"/></a>"
      ]
    },
    {
      "cell_type": "markdown",
      "metadata": {
        "id": "K6i5KFv7pDoU"
      },
      "source": [
        "\n",
        "Review : convolutional neural networks (CNNs)"
      ]
    },
    {
      "cell_type": "code",
      "metadata": {
        "colab": {
          "base_uri": "https://localhost:8080/"
        },
        "id": "rkb65ZYcvhJR",
        "outputId": "489a9830-9ec8-4af9-d6e6-d0cf0b66ace3"
      },
      "source": [
        "!pwd\n"
      ],
      "execution_count": 21,
      "outputs": [
        {
          "output_type": "stream",
          "text": [
            "/content\n"
          ],
          "name": "stdout"
        }
      ]
    },
    {
      "cell_type": "code",
      "metadata": {
        "id": "JIS0muYhvmEo"
      },
      "source": [
        ""
      ],
      "execution_count": 1,
      "outputs": []
    },
    {
      "cell_type": "code",
      "metadata": {
        "colab": {
          "base_uri": "https://localhost:8080/"
        },
        "id": "HzrfyUCinYaB",
        "outputId": "2e1bc894-cce7-409f-b8f9-1a47a941e37d"
      },
      "source": [
        "from google.colab import drive\n",
        "drive.mount('/content/drive')"
      ],
      "execution_count": 2,
      "outputs": [
        {
          "output_type": "stream",
          "text": [
            "Mounted at /content/drive\n"
          ],
          "name": "stdout"
        }
      ]
    },
    {
      "cell_type": "code",
      "metadata": {
        "colab": {
          "base_uri": "https://localhost:8080/"
        },
        "id": "_5509xHTvm6Z",
        "outputId": "75efa067-0f78-404e-a8b4-067b3c42c15b"
      },
      "source": [
        "!cd content"
      ],
      "execution_count": 20,
      "outputs": [
        {
          "output_type": "stream",
          "text": [
            "/bin/bash: line 0: cd: content: No such file or directory\n"
          ],
          "name": "stdout"
        }
      ]
    },
    {
      "cell_type": "code",
      "metadata": {
        "colab": {
          "base_uri": "https://localhost:8080/"
        },
        "id": "3yCaI4Tmv1mR",
        "outputId": "86e49932-e7cf-479d-df64-e8d9dde76c9c"
      },
      "source": [
        "!pwd\n"
      ],
      "execution_count": 4,
      "outputs": [
        {
          "output_type": "stream",
          "text": [
            "/content\n"
          ],
          "name": "stdout"
        }
      ]
    },
    {
      "cell_type": "code",
      "metadata": {
        "colab": {
          "base_uri": "https://localhost:8080/"
        },
        "id": "TxLWE6Cxv_y5",
        "outputId": "d27587b9-3ad4-46bb-df0b-74c732995920"
      },
      "source": [
        "!mkdir image"
      ],
      "execution_count": 22,
      "outputs": [
        {
          "output_type": "stream",
          "text": [
            "mkdir: cannot create directory ‘image’: File exists\n"
          ],
          "name": "stdout"
        }
      ]
    },
    {
      "cell_type": "code",
      "metadata": {
        "colab": {
          "base_uri": "https://localhost:8080/"
        },
        "id": "TjQLpHfMwBj7",
        "outputId": "24013469-b55c-4be3-de7e-e24d4f7d3248"
      },
      "source": [
        "!ls"
      ],
      "execution_count": 6,
      "outputs": [
        {
          "output_type": "stream",
          "text": [
            "drive  image  sample_data\n"
          ],
          "name": "stdout"
        }
      ]
    },
    {
      "cell_type": "code",
      "metadata": {
        "id": "c_Ni9LugwDb1"
      },
      "source": [
        "!cp /content/101_ObjectCategories.tar.gz ./image/"
      ],
      "execution_count": 23,
      "outputs": []
    },
    {
      "cell_type": "code",
      "metadata": {
        "colab": {
          "base_uri": "https://localhost:8080/"
        },
        "id": "xzUXXj0KwW4U",
        "outputId": "a25ac609-07ed-49ae-dbde-f966582c4169"
      },
      "source": [
        "!ls -al"
      ],
      "execution_count": 24,
      "outputs": [
        {
          "output_type": "stream",
          "text": [
            "total 128684\n",
            "drwxr-xr-x 1 root root      4096 Jul  9 04:20 .\n",
            "drwxr-xr-x 1 root root      4096 Jul  9 04:11 ..\n",
            "-rw-r--r-- 1 root root 131740031 Jul  9 04:32 101_ObjectCategories.tar.gz\n",
            "drwxr-xr-x 4 root root      4096 Jul  1 13:41 .config\n",
            "drwx------ 6 root root      4096 Jul  9 04:18 drive\n",
            "drwxr-xr-x 2 root root      4096 Jul  9 04:33 image\n",
            "drwxr-xr-x 1 root root      4096 Jul  1 13:42 sample_data\n"
          ],
          "name": "stdout"
        }
      ]
    },
    {
      "cell_type": "code",
      "metadata": {
        "colab": {
          "base_uri": "https://localhost:8080/"
        },
        "id": "GwEPqbYswb_s",
        "outputId": "4698bf14-c3b3-4a86-c321-c2af8b2cf9b6"
      },
      "source": [
        "%cd image"
      ],
      "execution_count": 25,
      "outputs": [
        {
          "output_type": "stream",
          "text": [
            "/content/image\n"
          ],
          "name": "stdout"
        }
      ]
    },
    {
      "cell_type": "code",
      "metadata": {
        "colab": {
          "base_uri": "https://localhost:8080/"
        },
        "id": "Xp9ZTNc2witW",
        "outputId": "a7750e5f-4d23-4079-fe8b-a139be53a25b"
      },
      "source": [
        "!ls -al"
      ],
      "execution_count": 10,
      "outputs": [
        {
          "output_type": "stream",
          "text": [
            "total 8\n",
            "drwxr-xr-x 2 root root 4096 Jul  9 04:18 .\n",
            "drwxr-xr-x 1 root root 4096 Jul  9 04:18 ..\n"
          ],
          "name": "stdout"
        }
      ]
    },
    {
      "cell_type": "code",
      "metadata": {
        "id": "vUhHCUZYwkci"
      },
      "source": [
        "!tar xvfz ./101_ObjectCategories.tar.gz > test.log"
      ],
      "execution_count": 26,
      "outputs": []
    },
    {
      "cell_type": "code",
      "metadata": {
        "colab": {
          "base_uri": "https://localhost:8080/"
        },
        "id": "wvohGzlxw014",
        "outputId": "ccaed295-6ddc-461a-c37c-842d753acae4"
      },
      "source": [
        "!ls -al"
      ],
      "execution_count": 27,
      "outputs": [
        {
          "output_type": "stream",
          "text": [
            "total 129080\n",
            "drwxr-xr-x   3 root root      4096 Jul  9 04:33 .\n",
            "drwxr-xr-x   1 root root      4096 Jul  9 04:20 ..\n",
            "drwxr-xr-x 104  411  300      4096 Nov  9  2004 101_ObjectCategories\n",
            "-rw-r--r--   1 root root 131740031 Jul  9 04:33 101_ObjectCategories.tar.gz\n",
            "-rw-r--r--   1 root root    418726 Jul  9 04:33 test.log\n"
          ],
          "name": "stdout"
        }
      ]
    },
    {
      "cell_type": "code",
      "metadata": {
        "colab": {
          "base_uri": "https://localhost:8080/",
          "height": 34
        },
        "id": "z-OmxZCdw3WT",
        "outputId": "a87bee2a-4089-4827-8fe5-cf20cf5472a6"
      },
      "source": [
        "import os\n",
        "os.chdir('../')\n",
        "os.getcwd()"
      ],
      "execution_count": 28,
      "outputs": [
        {
          "output_type": "execute_result",
          "data": {
            "application/vnd.google.colaboratory.intrinsic+json": {
              "type": "string"
            },
            "text/plain": [
              "'/content'"
            ]
          },
          "metadata": {
            "tags": []
          },
          "execution_count": 28
        }
      ]
    },
    {
      "cell_type": "code",
      "metadata": {
        "id": "HlH7imFVxChC"
      },
      "source": [
        "import numpy as np\n",
        "import os, glob\n",
        "import cv2 \n",
        "from sklearn.model_selection import train_test_split\n",
        "\n",
        "caltech_dir = './image/101_ObjectCategories'\n",
        "categories = ['chair', 'camera', 'butterfly', 'elephant', 'flamingo']\n",
        "num_classes = len(categories)"
      ],
      "execution_count": 29,
      "outputs": []
    },
    {
      "cell_type": "code",
      "metadata": {
        "colab": {
          "base_uri": "https://localhost:8080/"
        },
        "id": "VBMz_DZExZnA",
        "outputId": "dc3a8c64-0c4e-499e-936c-b3bcd78b663e"
      },
      "source": [
        "w = 64\n",
        "h = 64\n",
        "pixels = w*h*3\n",
        "\n",
        "X = []\n",
        "Y = []\n",
        "\n",
        "for idx, cat in enumerate(categories):\n",
        "  label = [0 for i in range(num_classes)]\n",
        "  label[idx] = 1\n",
        "  print(f'label of {cat}: {label}')\n",
        "\n",
        "  image_dir = os.path.join(caltech_dir,cat)\n",
        "  print(image_dir)\n",
        "  files = glob.glob(os.path.join(image_dir,'*.jpg'))\n",
        "\n",
        "  for i, f in enumerate(files):\n",
        "    \n",
        "    img = cv2.imread(f) #img = Image.open(f)\n",
        "    img = cv2.cvtColor(img,cv2.COLOR_BGR2RGB) #img = img.convert('RGB')\n",
        "    img = cv2.resize(img, (w,h))\n",
        "    \n",
        "    X.append(img)\n",
        "    Y.append(label)    \n",
        "\n",
        "# convert to ndarray!\n",
        "X = np.array(X)\n",
        "Y = np.array(Y)"
      ],
      "execution_count": 30,
      "outputs": [
        {
          "output_type": "stream",
          "text": [
            "label of chair: [1, 0, 0, 0, 0]\n",
            "./image/101_ObjectCategories/chair\n",
            "label of camera: [0, 1, 0, 0, 0]\n",
            "./image/101_ObjectCategories/camera\n",
            "label of butterfly: [0, 0, 1, 0, 0]\n",
            "./image/101_ObjectCategories/butterfly\n",
            "label of elephant: [0, 0, 0, 1, 0]\n",
            "./image/101_ObjectCategories/elephant\n",
            "label of flamingo: [0, 0, 0, 0, 1]\n",
            "./image/101_ObjectCategories/flamingo\n"
          ],
          "name": "stdout"
        }
      ]
    },
    {
      "cell_type": "code",
      "metadata": {
        "colab": {
          "base_uri": "https://localhost:8080/"
        },
        "id": "Kbs2ejUV35pi",
        "outputId": "7a566d1c-a967-45eb-da62-09399d8cf8d4"
      },
      "source": [
        "X_train, X_test, y_train, y_test = train_test_split(X,Y)\n",
        "\n",
        "xy = (X_train,X_test,y_train,y_test)\n",
        "np.save('./image/5cat.npy',xy)\n",
        "print('ok!', np.shape)\n",
        "print('# of train samples:',len(X_train))\n",
        "print('# of test samples:', len(X_test))"
      ],
      "execution_count": 31,
      "outputs": [
        {
          "output_type": "stream",
          "text": [
            "ok! <function shape at 0x7f09366197a0>\n",
            "# of train samples: 250\n",
            "# of test samples: 84\n"
          ],
          "name": "stdout"
        },
        {
          "output_type": "stream",
          "text": [
            "/usr/local/lib/python3.7/dist-packages/numpy/core/_asarray.py:136: VisibleDeprecationWarning: Creating an ndarray from ragged nested sequences (which is a list-or-tuple of lists-or-tuples-or ndarrays with different lengths or shapes) is deprecated. If you meant to do this, you must specify 'dtype=object' when creating the ndarray\n",
            "  return array(a, dtype, copy=False, order=order, subok=True)\n"
          ],
          "name": "stderr"
        }
      ]
    },
    {
      "cell_type": "code",
      "metadata": {
        "colab": {
          "base_uri": "https://localhost:8080/",
          "height": 99
        },
        "id": "guO8w1fD4AkI",
        "outputId": "ce6bcbee-218a-445d-f6a1-c8f710229270"
      },
      "source": [
        "from google.colab.patches import cv2_imshow\n",
        "\n",
        "idx = 10\n",
        "print(y_train[idx])\n",
        "# cv2_imshow(X_train[idx],cv2.COLOR_BGR2RGB)\n",
        "cv2_imshow(cv2.cvtColor(X_train[idx],cv2.COLOR_BGR2RGB))"
      ],
      "execution_count": 32,
      "outputs": [
        {
          "output_type": "stream",
          "text": [
            "[0 0 0 1 0]\n"
          ],
          "name": "stdout"
        },
        {
          "output_type": "display_data",
          "data": {
            "image/png": "[encoded data removed]",
            "text/plain": [
              "<PIL.Image.Image image mode=RGB size=64x64 at 0x7F0909BF9550>"
            ]
          },
          "metadata": {
            "tags": []
          }
        }
      ]
    },
    {
      "cell_type": "code",
      "metadata": {
        "colab": {
          "base_uri": "https://localhost:8080/"
        },
        "id": "Pzb4mI0H4E-w",
        "outputId": "ca065511-3c9f-4c0f-9b16-983f9e0205b5"
      },
      "source": [
        "import tensorflow_datasets as tfds\n",
        "import tensorflow as tf\n",
        "\n",
        "train_dataset = tf.data.Dataset.from_tensor_slices((X_train,y_train))\n",
        "test_dataset = tf.data.Dataset.from_tensor_slices((X_test,y_test))\n",
        "train_dataset"
      ],
      "execution_count": 33,
      "outputs": [
        {
          "output_type": "execute_result",
          "data": {
            "text/plain": [
              "<TensorSliceDataset shapes: ((64, 64, 3), (5,)), types: (tf.uint8, tf.int64)>"
            ]
          },
          "metadata": {
            "tags": []
          },
          "execution_count": 33
        }
      ]
    },
    {
      "cell_type": "code",
      "metadata": {
        "colab": {
          "base_uri": "https://localhost:8080/"
        },
        "id": "p9cOJH834IZz",
        "outputId": "64b03bdc-b976-41da-b2a7-b15ecb1b9902"
      },
      "source": [
        "batch_train_dataset = train_dataset.batch(batch_size=8,drop_remainder=True)\n",
        "batch_test_dataset = test_dataset.batch(batch_size=8,drop_remainder=True)\n",
        "batch_train_dataset"
      ],
      "execution_count": 34,
      "outputs": [
        {
          "output_type": "execute_result",
          "data": {
            "text/plain": [
              "<BatchDataset shapes: ((8, 64, 64, 3), (8, 5)), types: (tf.uint8, tf.int64)>"
            ]
          },
          "metadata": {
            "tags": []
          },
          "execution_count": 34
        }
      ]
    },
    {
      "cell_type": "code",
      "metadata": {
        "id": "XDIXxFGd4NdG"
      },
      "source": [
        "def format_label(label):\n",
        "  string_label = categories[tf.math.argmax(label)]\n",
        "  return string_label\n"
      ],
      "execution_count": 35,
      "outputs": []
    },
    {
      "cell_type": "code",
      "metadata": {
        "colab": {
          "base_uri": "https://localhost:8080/",
          "height": 264
        },
        "id": "w-0tUcaB4QWm",
        "outputId": "21bba725-50a4-4c4d-d59f-a0d525afd901"
      },
      "source": [
        "import matplotlib.pyplot as plt\n",
        "\n",
        "for i, (image, label) in enumerate(train_dataset.take(9)):\n",
        "    ax = plt.subplot(3, 3, i + 1)\n",
        "    plt.imshow(image.numpy().astype(\"uint8\"))\n",
        "    plt.title(f\"{format_label(label)}\")\n",
        "    plt.axis(\"off\")"
      ],
      "execution_count": 36,
      "outputs": [
        {
          "output_type": "display_data",
          "data": {
            "image/png": "[encoded data removed]",
            "text/plain": [
              "<Figure size 432x288 with 9 Axes>"
            ]
          },
          "metadata": {
            "tags": [],
            "needs_background": "light"
          }
        }
      ]
    },
    {
      "cell_type": "code",
      "metadata": {
        "id": "-VFJuo9B4Sh3"
      },
      "source": [
        "from tensorflow.keras import layers, models"
      ],
      "execution_count": 37,
      "outputs": []
    },
    {
      "cell_type": "code",
      "metadata": {
        "colab": {
          "base_uri": "https://localhost:8080/"
        },
        "id": "AHL1aoa67l3Y",
        "outputId": "de69283f-24c0-4f88-fef3-e1dd1fd65cc3"
      },
      "source": [
        "inputs = layers.Input(shape=(w,h,3))\n",
        "x = layers.Conv2D(32,3,3,\n",
        "                  #activation='relu',\n",
        "                  padding='same')(inputs)\n",
        "x = layers.Activation('relu')(x)\n",
        "x = layers.MaxPooling2D(pool_size=(2,2))(x)\n",
        "x = layers.Dropout(0.25)(x)\n",
        "\n",
        "x = layers.Conv2D(64,3,3,\n",
        "                  #activation='relu',\n",
        "                  padding='same')(x)\n",
        "x = layers.Activation('relu')(x)\n",
        "x = layers.Conv2D(64,3,3,                  \n",
        "                  #activation='relu',\n",
        "                  padding='same')(x)                  \n",
        "x = layers.MaxPooling2D(pool_size=(2,2))(x)\n",
        "x = layers.Dropout(0.25)(x)\n",
        "\n",
        "x = layers.Flatten()(x)\n",
        "x = layers.Dense(512)(x)\n",
        "x = layers.Activation('relu')(x)\n",
        "x = layers.Dropout(0.5)(x)\n",
        "x = layers.Dense(num_classes)(x)\n",
        "outputs = layers.Activation('softmax')(x)\n",
        "\n",
        "model = models.Model(inputs = inputs, outputs= outputs)\n",
        "model.compile(\n",
        "    optimizer='adam',\n",
        "    loss='categorical_crossentropy',\n",
        "    metrics=['accuracy']\n",
        ")\n",
        "model.summary()\n",
        "\n",
        "epochs = 40 # @param {type:'slider', min:10, max:100}\n",
        "hist = model.fit(batch_train_dataset,\n",
        "                 epochs=epochs,\n",
        "                 validation_data = batch_test_dataset,\n",
        "                 verbose=2)"
      ],
      "execution_count": 38,
      "outputs": [
        {
          "output_type": "stream",
          "text": [
            "Model: \"model\"\n",
            "_________________________________________________________________\n",
            "Layer (type)                 Output Shape              Param #   \n",
            "=================================================================\n",
            "input_1 (InputLayer)         [(None, 64, 64, 3)]       0         \n",
            "_________________________________________________________________\n",
            "conv2d (Conv2D)              (None, 22, 22, 32)        896       \n",
            "_________________________________________________________________\n",
            "activation (Activation)      (None, 22, 22, 32)        0         \n",
            "_________________________________________________________________\n",
            "max_pooling2d (MaxPooling2D) (None, 11, 11, 32)        0         \n",
            "_________________________________________________________________\n",
            "dropout (Dropout)            (None, 11, 11, 32)        0         \n",
            "_________________________________________________________________\n",
            "conv2d_1 (Conv2D)            (None, 4, 4, 64)          18496     \n",
            "_________________________________________________________________\n",
            "activation_1 (Activation)    (None, 4, 4, 64)          0         \n",
            "_________________________________________________________________\n",
            "conv2d_2 (Conv2D)            (None, 2, 2, 64)          36928     \n",
            "_________________________________________________________________\n",
            "max_pooling2d_1 (MaxPooling2 (None, 1, 1, 64)          0         \n",
            "_________________________________________________________________\n",
            "dropout_1 (Dropout)          (None, 1, 1, 64)          0         \n",
            "_________________________________________________________________\n",
            "flatten (Flatten)            (None, 64)                0         \n",
            "_________________________________________________________________\n",
            "dense (Dense)                (None, 512)               33280     \n",
            "_________________________________________________________________\n",
            "activation_2 (Activation)    (None, 512)               0         \n",
            "_________________________________________________________________\n",
            "dropout_2 (Dropout)          (None, 512)               0         \n",
            "_________________________________________________________________\n",
            "dense_1 (Dense)              (None, 5)                 2565      \n",
            "_________________________________________________________________\n",
            "activation_3 (Activation)    (None, 5)                 0         \n",
            "=================================================================\n",
            "Total params: 92,165\n",
            "Trainable params: 92,165\n",
            "Non-trainable params: 0\n",
            "_________________________________________________________________\n",
            "Epoch 1/40\n",
            "31/31 - 32s - loss: 9.5482 - accuracy: 0.2137 - val_loss: 1.5618 - val_accuracy: 0.3625\n",
            "Epoch 2/40\n",
            "31/31 - 0s - loss: 2.3567 - accuracy: 0.2903 - val_loss: 1.5169 - val_accuracy: 0.3000\n",
            "Epoch 3/40\n",
            "31/31 - 0s - loss: 1.7284 - accuracy: 0.2984 - val_loss: 1.5128 - val_accuracy: 0.2625\n",
            "Epoch 4/40\n",
            "31/31 - 0s - loss: 1.5694 - accuracy: 0.3508 - val_loss: 1.5003 - val_accuracy: 0.3250\n",
            "Epoch 5/40\n",
            "31/31 - 0s - loss: 1.5391 - accuracy: 0.3750 - val_loss: 1.4826 - val_accuracy: 0.3750\n",
            "Epoch 6/40\n",
            "31/31 - 0s - loss: 1.5050 - accuracy: 0.3710 - val_loss: 1.4336 - val_accuracy: 0.4375\n",
            "Epoch 7/40\n",
            "31/31 - 0s - loss: 1.4418 - accuracy: 0.3911 - val_loss: 1.4335 - val_accuracy: 0.3625\n",
            "Epoch 8/40\n",
            "31/31 - 0s - loss: 1.3743 - accuracy: 0.4234 - val_loss: 1.4240 - val_accuracy: 0.3500\n",
            "Epoch 9/40\n",
            "31/31 - 0s - loss: 1.2704 - accuracy: 0.4758 - val_loss: 1.4692 - val_accuracy: 0.3625\n",
            "Epoch 10/40\n",
            "31/31 - 0s - loss: 1.3953 - accuracy: 0.4556 - val_loss: 1.3188 - val_accuracy: 0.4750\n",
            "Epoch 11/40\n",
            "31/31 - 0s - loss: 1.1951 - accuracy: 0.4919 - val_loss: 1.3220 - val_accuracy: 0.4875\n",
            "Epoch 12/40\n",
            "31/31 - 0s - loss: 1.0737 - accuracy: 0.5645 - val_loss: 1.3120 - val_accuracy: 0.5000\n",
            "Epoch 13/40\n",
            "31/31 - 0s - loss: 1.0304 - accuracy: 0.5806 - val_loss: 1.2962 - val_accuracy: 0.4750\n",
            "Epoch 14/40\n",
            "31/31 - 0s - loss: 0.9765 - accuracy: 0.6411 - val_loss: 1.2409 - val_accuracy: 0.5500\n",
            "Epoch 15/40\n",
            "31/31 - 0s - loss: 0.8933 - accuracy: 0.6492 - val_loss: 1.3473 - val_accuracy: 0.4375\n",
            "Epoch 16/40\n",
            "31/31 - 0s - loss: 0.8328 - accuracy: 0.6573 - val_loss: 1.3231 - val_accuracy: 0.4875\n",
            "Epoch 17/40\n",
            "31/31 - 0s - loss: 0.7595 - accuracy: 0.7097 - val_loss: 1.3156 - val_accuracy: 0.5000\n",
            "Epoch 18/40\n",
            "31/31 - 0s - loss: 0.7268 - accuracy: 0.7298 - val_loss: 1.3247 - val_accuracy: 0.5250\n",
            "Epoch 19/40\n",
            "31/31 - 0s - loss: 0.6717 - accuracy: 0.7419 - val_loss: 1.2050 - val_accuracy: 0.5375\n",
            "Epoch 20/40\n",
            "31/31 - 0s - loss: 0.6620 - accuracy: 0.7581 - val_loss: 1.1965 - val_accuracy: 0.5625\n",
            "Epoch 21/40\n",
            "31/31 - 0s - loss: 0.5662 - accuracy: 0.7944 - val_loss: 1.2132 - val_accuracy: 0.5250\n",
            "Epoch 22/40\n",
            "31/31 - 0s - loss: 0.4963 - accuracy: 0.8226 - val_loss: 1.2516 - val_accuracy: 0.5375\n",
            "Epoch 23/40\n",
            "31/31 - 0s - loss: 0.5840 - accuracy: 0.7500 - val_loss: 1.2144 - val_accuracy: 0.6125\n",
            "Epoch 24/40\n",
            "31/31 - 0s - loss: 0.4225 - accuracy: 0.8387 - val_loss: 1.2438 - val_accuracy: 0.6375\n",
            "Epoch 25/40\n",
            "31/31 - 0s - loss: 0.4454 - accuracy: 0.8629 - val_loss: 1.2450 - val_accuracy: 0.5875\n",
            "Epoch 26/40\n",
            "31/31 - 0s - loss: 0.3621 - accuracy: 0.8468 - val_loss: 1.3204 - val_accuracy: 0.6125\n",
            "Epoch 27/40\n",
            "31/31 - 0s - loss: 0.3491 - accuracy: 0.8790 - val_loss: 1.4465 - val_accuracy: 0.5250\n",
            "Epoch 28/40\n",
            "31/31 - 0s - loss: 0.3619 - accuracy: 0.8669 - val_loss: 1.3444 - val_accuracy: 0.5500\n",
            "Epoch 29/40\n",
            "31/31 - 0s - loss: 0.2392 - accuracy: 0.8952 - val_loss: 1.3845 - val_accuracy: 0.5875\n",
            "Epoch 30/40\n",
            "31/31 - 0s - loss: 0.2950 - accuracy: 0.8952 - val_loss: 1.4452 - val_accuracy: 0.5625\n",
            "Epoch 31/40\n",
            "31/31 - 0s - loss: 0.1797 - accuracy: 0.9435 - val_loss: 1.7399 - val_accuracy: 0.5625\n",
            "Epoch 32/40\n",
            "31/31 - 0s - loss: 0.1859 - accuracy: 0.9315 - val_loss: 1.6200 - val_accuracy: 0.6000\n",
            "Epoch 33/40\n",
            "31/31 - 0s - loss: 0.2855 - accuracy: 0.8992 - val_loss: 1.6229 - val_accuracy: 0.5500\n",
            "Epoch 34/40\n",
            "31/31 - 0s - loss: 0.3391 - accuracy: 0.8831 - val_loss: 1.8565 - val_accuracy: 0.5375\n",
            "Epoch 35/40\n",
            "31/31 - 0s - loss: 0.2755 - accuracy: 0.9073 - val_loss: 1.3492 - val_accuracy: 0.6500\n",
            "Epoch 36/40\n",
            "31/31 - 0s - loss: 0.2651 - accuracy: 0.9113 - val_loss: 1.9223 - val_accuracy: 0.4500\n",
            "Epoch 37/40\n",
            "31/31 - 0s - loss: 0.2295 - accuracy: 0.9113 - val_loss: 1.4249 - val_accuracy: 0.5750\n",
            "Epoch 38/40\n",
            "31/31 - 0s - loss: 0.2187 - accuracy: 0.9234 - val_loss: 1.3862 - val_accuracy: 0.5875\n",
            "Epoch 39/40\n",
            "31/31 - 0s - loss: 0.2398 - accuracy: 0.9153 - val_loss: 1.5407 - val_accuracy: 0.5500\n",
            "Epoch 40/40\n",
            "31/31 - 0s - loss: 0.1287 - accuracy: 0.9476 - val_loss: 1.8203 - val_accuracy: 0.5375\n"
          ],
          "name": "stdout"
        }
      ]
    },
    {
      "cell_type": "code",
      "metadata": {
        "colab": {
          "base_uri": "https://localhost:8080/"
        },
        "id": "cvbxtjntAnRF",
        "outputId": "32bfcbbc-0a8c-4d2c-9e16-d408e6dbf680"
      },
      "source": [
        "score = model.evaluate(batch_test_dataset)\n",
        "print(f'loss={score[0]}')\n",
        "print(f'accuracy={score[1]}')"
      ],
      "execution_count": 39,
      "outputs": [
        {
          "output_type": "stream",
          "text": [
            "10/10 [==============================] - 0s 2ms/step - loss: 1.8203 - accuracy: 0.5375\n",
            "loss=1.8202688694000244\n",
            "accuracy=0.5375000238418579\n"
          ],
          "name": "stdout"
        }
      ]
    },
    {
      "cell_type": "code",
      "metadata": {
        "colab": {
          "base_uri": "https://localhost:8080/",
          "height": 295
        },
        "id": "LDHuHfduFQyB",
        "outputId": "30931095-d263-4861-cd90-d4e85ee4eb78"
      },
      "source": [
        "import matplotlib.pyplot as plt\n",
        "\n",
        "\n",
        "def plot_hist(hist):\n",
        "    plt.plot(hist.history[\"accuracy\"])\n",
        "    plt.plot(hist.history[\"val_accuracy\"])\n",
        "    plt.title(\"model accuracy\")\n",
        "    plt.ylabel(\"accuracy\")\n",
        "    plt.xlabel(\"epoch\")\n",
        "    plt.legend([\"train\", \"validation\"], loc=\"upper left\")\n",
        "    plt.show()\n",
        "\n",
        "plot_hist(hist)"
      ],
      "execution_count": 40,
      "outputs": [
        {
          "output_type": "display_data",
          "data": {
            "image/png": "[encoded data removed]",
            "text/plain": [
              "<Figure size 432x288 with 1 Axes>"
            ]
          },
          "metadata": {
            "tags": [],
            "needs_background": "light"
          }
        }
      ]
    },
    {
      "cell_type": "code",
      "metadata": {
        "colab": {
          "base_uri": "https://localhost:8080/"
        },
        "id": "aRyu2xS6FTNT",
        "outputId": "64facd34-f093-42e7-8163-e44e1e950c72"
      },
      "source": [
        "pres = model.predict(X_test)\n",
        "print(pres.shape)\n",
        "\n",
        "error_img_dir = os.path.join('.','error')\n",
        "try: \n",
        "  os.mkdir('error')\n",
        "except FileExistsError as e:\n",
        "  print(e)\n",
        "\n",
        "cnt = 0\n",
        "for idx,(pre_prob,ans_onehot) in enumerate(zip(pres, y_test)):  \n",
        "  pre = pre_prob.argmax()\n",
        "  ans = ans_onehot.argmax()\n",
        "  if pre == ans:\n",
        "    continue\n",
        "  cnt += 1\n",
        "  print(f'Error: predicted {format_label(pre_prob)} != label {format_label(ans_onehot)}')\n",
        "  fstr = os.path.join(error_img_dir,f'{idx:02d}-{format_label(pre_prob)}-ne-{format_label(ans_onehot)}.png')\n",
        "  cv2.imwrite(fstr, X_test[idx])\n",
        "\n",
        "print(f'Error Rate = {cnt}/{len(X_test)}')\n",
        "  "
      ],
      "execution_count": 41,
      "outputs": [
        {
          "output_type": "stream",
          "text": [
            "(84, 5)\n",
            "Error: predicted flamingo != label butterfly\n",
            "Error: predicted flamingo != label chair\n",
            "Error: predicted flamingo != label elephant\n",
            "Error: predicted flamingo != label chair\n",
            "Error: predicted elephant != label camera\n",
            "Error: predicted chair != label elephant\n",
            "Error: predicted elephant != label camera\n",
            "Error: predicted flamingo != label camera\n",
            "Error: predicted elephant != label camera\n",
            "Error: predicted flamingo != label butterfly\n",
            "Error: predicted flamingo != label butterfly\n",
            "Error: predicted flamingo != label butterfly\n",
            "Error: predicted flamingo != label elephant\n",
            "Error: predicted butterfly != label flamingo\n",
            "Error: predicted chair != label elephant\n",
            "Error: predicted flamingo != label chair\n",
            "Error: predicted camera != label butterfly\n",
            "Error: predicted flamingo != label butterfly\n",
            "Error: predicted flamingo != label elephant\n",
            "Error: predicted elephant != label chair\n",
            "Error: predicted elephant != label flamingo\n",
            "Error: predicted butterfly != label chair\n",
            "Error: predicted flamingo != label butterfly\n",
            "Error: predicted elephant != label chair\n",
            "Error: predicted elephant != label chair\n",
            "Error: predicted camera != label butterfly\n",
            "Error: predicted camera != label chair\n",
            "Error: predicted flamingo != label chair\n",
            "Error: predicted flamingo != label elephant\n",
            "Error: predicted butterfly != label elephant\n",
            "Error: predicted flamingo != label elephant\n",
            "Error: predicted camera != label chair\n",
            "Error: predicted flamingo != label chair\n",
            "Error: predicted flamingo != label elephant\n",
            "Error: predicted flamingo != label butterfly\n",
            "Error: predicted flamingo != label elephant\n",
            "Error: predicted chair != label elephant\n",
            "Error: predicted flamingo != label chair\n",
            "Error: predicted butterfly != label camera\n",
            "Error Rate = 39/84\n"
          ],
          "name": "stdout"
        }
      ]
    },
    {
      "cell_type": "code",
      "metadata": {
        "colab": {
          "base_uri": "https://localhost:8080/"
        },
        "id": "nzm5ILA_FbE6",
        "outputId": "921f91c0-ca13-4f92-fe7e-92cfa1b290f8"
      },
      "source": [
        "from tensorflow.keras import models\n",
        "# Calling `save('my_model')` creates a SavedModel folder `my_model`.\n",
        "model.save(\"my_model\")\n",
        "\n",
        "# It can be used to reconstruct the model identically.\n",
        "reconstructed_model = models.load_model(\"my_model\")\n",
        "\n",
        "# Let's check:\n",
        "np.testing.assert_allclose(\n",
        "    model.predict(X_test), reconstructed_model.predict(X_test)\n",
        ")\n",
        "\n",
        "# ============================================================\n",
        "# The reconstructed model is already compiled and has retained the optimizer\n",
        "# state, so training can resume:\n",
        "reconstructed_model.fit(batch_train_dataset) # batch를 잡고...\n",
        "#reconstructed_model.fit(X_test, X_test)"
      ],
      "execution_count": 42,
      "outputs": [
        {
          "output_type": "stream",
          "text": [
            "INFO:tensorflow:Assets written to: my_model/assets\n",
            "31/31 [==============================] - 1s 3ms/step - loss: 0.2759 - accuracy: 0.9032\n"
          ],
          "name": "stdout"
        },
        {
          "output_type": "execute_result",
          "data": {
            "text/plain": [
              "<tensorflow.python.keras.callbacks.History at 0x7f085855fc90>"
            ]
          },
          "metadata": {
            "tags": []
          },
          "execution_count": 42
        }
      ]
    },
    {
      "cell_type": "code",
      "metadata": {
        "colab": {
          "base_uri": "https://localhost:8080/"
        },
        "id": "1oxz4BJyFjKT",
        "outputId": "9c404a55-c1d9-48ef-d85c-482ddb5b40b0"
      },
      "source": [
        "from tensorflow.keras.applications.resnet50 import  ResNet50\n",
        "inputs = layers.Input(shape=(w,h,3))\n",
        "outputs = ResNet50(include_top=True, \n",
        "                         weights=None,\n",
        "                         input_shape=(w,h,3),\n",
        "                         classes=num_classes)(inputs)\n",
        "\n",
        "model = models.Model(inputs = inputs, outputs= outputs)\n",
        "model.compile(\n",
        "    optimizer='adam',\n",
        "    loss='categorical_crossentropy',\n",
        "    metrics=['accuracy']\n",
        ")\n",
        "model.summary()\n",
        "\n",
        "epochs = 40 # @param {type:'slider', min:10, max:100}\n",
        "\n",
        "# hist = model.fit(X_train, y_train,\n",
        "#                  epochs=epochs,\n",
        "#                  #validation_data = (X_test, y_test),\n",
        "#                  )\n",
        "hist = model.fit(batch_train_dataset,\n",
        "                 epochs=epochs,\n",
        "                 validation_data = batch_test_dataset,\n",
        "                 verbose=2)"
      ],
      "execution_count": 43,
      "outputs": [
        {
          "output_type": "stream",
          "text": [
            "Model: \"model_1\"\n",
            "_________________________________________________________________\n",
            "Layer (type)                 Output Shape              Param #   \n",
            "=================================================================\n",
            "input_2 (InputLayer)         [(None, 64, 64, 3)]       0         \n",
            "_________________________________________________________________\n",
            "resnet50 (Functional)        (None, 5)                 23597957  \n",
            "=================================================================\n",
            "Total params: 23,597,957\n",
            "Trainable params: 23,544,837\n",
            "Non-trainable params: 53,120\n",
            "_________________________________________________________________\n",
            "Epoch 1/40\n",
            "31/31 - 8s - loss: 3.8579 - accuracy: 0.2379 - val_loss: 45.6355 - val_accuracy: 0.2750\n",
            "Epoch 2/40\n",
            "31/31 - 1s - loss: 1.9297 - accuracy: 0.3387 - val_loss: 3.5967 - val_accuracy: 0.3000\n",
            "Epoch 3/40\n",
            "31/31 - 1s - loss: 0.9051 - accuracy: 0.6855 - val_loss: 2.1204 - val_accuracy: 0.3250\n",
            "Epoch 4/40\n",
            "31/31 - 1s - loss: 1.7287 - accuracy: 0.5081 - val_loss: 12.7479 - val_accuracy: 0.2750\n",
            "Epoch 5/40\n",
            "31/31 - 1s - loss: 1.6056 - accuracy: 0.5202 - val_loss: 4.0700 - val_accuracy: 0.3750\n",
            "Epoch 6/40\n",
            "31/31 - 1s - loss: 1.3769 - accuracy: 0.6815 - val_loss: 6.0964 - val_accuracy: 0.3250\n",
            "Epoch 7/40\n",
            "31/31 - 1s - loss: 1.2952 - accuracy: 0.6532 - val_loss: 3.9385 - val_accuracy: 0.4000\n",
            "Epoch 8/40\n",
            "31/31 - 1s - loss: 1.1151 - accuracy: 0.7016 - val_loss: 3.3825 - val_accuracy: 0.4625\n",
            "Epoch 9/40\n",
            "31/31 - 1s - loss: 0.7390 - accuracy: 0.8185 - val_loss: 7.1161 - val_accuracy: 0.4125\n",
            "Epoch 10/40\n",
            "31/31 - 1s - loss: 0.3873 - accuracy: 0.8750 - val_loss: 2.5040 - val_accuracy: 0.5250\n",
            "Epoch 11/40\n",
            "31/31 - 1s - loss: 0.2359 - accuracy: 0.9274 - val_loss: 2.1203 - val_accuracy: 0.5250\n",
            "Epoch 12/40\n",
            "31/31 - 1s - loss: 0.1916 - accuracy: 0.9274 - val_loss: 3.2134 - val_accuracy: 0.5000\n",
            "Epoch 13/40\n",
            "31/31 - 1s - loss: 0.3274 - accuracy: 0.9073 - val_loss: 6.9165 - val_accuracy: 0.5750\n",
            "Epoch 14/40\n",
            "31/31 - 1s - loss: 0.8460 - accuracy: 0.8347 - val_loss: 6.7428 - val_accuracy: 0.4750\n",
            "Epoch 15/40\n",
            "31/31 - 1s - loss: 0.7958 - accuracy: 0.7581 - val_loss: 9.2412 - val_accuracy: 0.3500\n",
            "Epoch 16/40\n",
            "31/31 - 1s - loss: 0.5212 - accuracy: 0.8508 - val_loss: 7.7296 - val_accuracy: 0.4375\n",
            "Epoch 17/40\n",
            "31/31 - 1s - loss: 0.2774 - accuracy: 0.9153 - val_loss: 2.5416 - val_accuracy: 0.5250\n",
            "Epoch 18/40\n",
            "31/31 - 1s - loss: 0.2031 - accuracy: 0.9516 - val_loss: 2.9076 - val_accuracy: 0.6000\n",
            "Epoch 19/40\n",
            "31/31 - 1s - loss: 0.1446 - accuracy: 0.9637 - val_loss: 1.9831 - val_accuracy: 0.5875\n",
            "Epoch 20/40\n",
            "31/31 - 1s - loss: 0.1708 - accuracy: 0.9516 - val_loss: 2.1659 - val_accuracy: 0.6000\n",
            "Epoch 21/40\n",
            "31/31 - 1s - loss: 0.0496 - accuracy: 0.9839 - val_loss: 2.3115 - val_accuracy: 0.6125\n",
            "Epoch 22/40\n",
            "31/31 - 1s - loss: 0.0498 - accuracy: 0.9839 - val_loss: 2.4717 - val_accuracy: 0.5750\n",
            "Epoch 23/40\n",
            "31/31 - 1s - loss: 0.0287 - accuracy: 0.9919 - val_loss: 1.9697 - val_accuracy: 0.6125\n",
            "Epoch 24/40\n",
            "31/31 - 1s - loss: 0.0341 - accuracy: 0.9960 - val_loss: 2.6810 - val_accuracy: 0.5250\n",
            "Epoch 25/40\n",
            "31/31 - 1s - loss: 0.0034 - accuracy: 1.0000 - val_loss: 2.1282 - val_accuracy: 0.5750\n",
            "Epoch 26/40\n",
            "31/31 - 1s - loss: 0.0059 - accuracy: 0.9960 - val_loss: 1.9471 - val_accuracy: 0.6250\n",
            "Epoch 27/40\n",
            "31/31 - 1s - loss: 0.0129 - accuracy: 0.9919 - val_loss: 1.9003 - val_accuracy: 0.6375\n",
            "Epoch 28/40\n",
            "31/31 - 1s - loss: 0.0017 - accuracy: 1.0000 - val_loss: 2.0870 - val_accuracy: 0.6250\n",
            "Epoch 29/40\n",
            "31/31 - 1s - loss: 4.8657e-04 - accuracy: 1.0000 - val_loss: 1.9174 - val_accuracy: 0.6500\n",
            "Epoch 30/40\n",
            "31/31 - 1s - loss: 2.9266e-04 - accuracy: 1.0000 - val_loss: 1.8305 - val_accuracy: 0.6500\n",
            "Epoch 31/40\n",
            "31/31 - 1s - loss: 2.4036e-04 - accuracy: 1.0000 - val_loss: 1.7842 - val_accuracy: 0.6250\n",
            "Epoch 32/40\n",
            "31/31 - 1s - loss: 2.0874e-04 - accuracy: 1.0000 - val_loss: 1.7652 - val_accuracy: 0.6375\n",
            "Epoch 33/40\n",
            "31/31 - 1s - loss: 1.8608e-04 - accuracy: 1.0000 - val_loss: 1.7438 - val_accuracy: 0.6375\n",
            "Epoch 34/40\n",
            "31/31 - 1s - loss: 1.6863e-04 - accuracy: 1.0000 - val_loss: 1.7320 - val_accuracy: 0.6250\n",
            "Epoch 35/40\n",
            "31/31 - 1s - loss: 1.5457e-04 - accuracy: 1.0000 - val_loss: 1.7261 - val_accuracy: 0.6250\n",
            "Epoch 36/40\n",
            "31/31 - 1s - loss: 1.4288e-04 - accuracy: 1.0000 - val_loss: 1.7218 - val_accuracy: 0.6250\n",
            "Epoch 37/40\n",
            "31/31 - 1s - loss: 1.3297e-04 - accuracy: 1.0000 - val_loss: 1.7185 - val_accuracy: 0.6250\n",
            "Epoch 38/40\n",
            "31/31 - 1s - loss: 1.2443e-04 - accuracy: 1.0000 - val_loss: 1.7164 - val_accuracy: 0.6250\n",
            "Epoch 39/40\n",
            "31/31 - 1s - loss: 1.1697e-04 - accuracy: 1.0000 - val_loss: 1.7148 - val_accuracy: 0.6250\n",
            "Epoch 40/40\n",
            "31/31 - 1s - loss: 1.1038e-04 - accuracy: 1.0000 - val_loss: 1.7140 - val_accuracy: 0.6250\n"
          ],
          "name": "stdout"
        }
      ]
    },
    {
      "cell_type": "code",
      "metadata": {
        "colab": {
          "base_uri": "https://localhost:8080/"
        },
        "id": "x6lQI4PwGSHX",
        "outputId": "ff0679bb-ec69-4964-d338-9d1a5b94008e"
      },
      "source": [
        "from tensorflow.keras.applications.efficientnet import  EfficientNetB0\n",
        "\n",
        "inputs = layers.Input(shape=(w,h,3))\n",
        "outputs = EfficientNetB0(include_top=True, \n",
        "                         weights=None,\n",
        "                         input_shape=(w,h,3),\n",
        "                         classes=num_classes)(inputs)\n",
        "\n",
        "model = models.Model(inputs = inputs, outputs= outputs)\n",
        "model.compile(\n",
        "    optimizer='adam',\n",
        "    loss='categorical_crossentropy',\n",
        "    metrics=['accuracy']\n",
        ")\n",
        "model.summary()\n",
        "\n",
        "epochs = 40 # @param {type:'slider', min:10, max:100}\n",
        "\n",
        "# hist = model.fit(X_train, y_train,\n",
        "#                  epochs=epochs,\n",
        "#                  #validation_data = (X_test, y_test),\n",
        "#                  )\n",
        "hist = model.fit(batch_train_dataset,\n",
        "                 epochs=epochs,\n",
        "                 validation_data = batch_test_dataset,\n",
        "                 verbose=2)"
      ],
      "execution_count": 44,
      "outputs": [
        {
          "output_type": "stream",
          "text": [
            "Model: \"model_2\"\n",
            "_________________________________________________________________\n",
            "Layer (type)                 Output Shape              Param #   \n",
            "=================================================================\n",
            "input_4 (InputLayer)         [(None, 64, 64, 3)]       0         \n",
            "_________________________________________________________________\n",
            "efficientnetb0 (Functional)  (None, 5)                 4055976   \n",
            "=================================================================\n",
            "Total params: 4,055,976\n",
            "Trainable params: 4,013,953\n",
            "Non-trainable params: 42,023\n",
            "_________________________________________________________________\n",
            "Epoch 1/40\n",
            "31/31 - 10s - loss: 6.8475 - accuracy: 0.2581 - val_loss: 2.0212 - val_accuracy: 0.1125\n",
            "Epoch 2/40\n",
            "31/31 - 1s - loss: 4.7617 - accuracy: 0.2581 - val_loss: 1.9780 - val_accuracy: 0.2750\n",
            "Epoch 3/40\n",
            "31/31 - 1s - loss: 2.9473 - accuracy: 0.4556 - val_loss: 1.7563 - val_accuracy: 0.1250\n",
            "Epoch 4/40\n",
            "31/31 - 1s - loss: 1.9777 - accuracy: 0.5565 - val_loss: 1.7409 - val_accuracy: 0.2250\n",
            "Epoch 5/40\n",
            "31/31 - 1s - loss: 1.9206 - accuracy: 0.6331 - val_loss: 2.1615 - val_accuracy: 0.2625\n",
            "Epoch 6/40\n",
            "31/31 - 1s - loss: 1.4342 - accuracy: 0.7016 - val_loss: 1.9977 - val_accuracy: 0.2750\n",
            "Epoch 7/40\n",
            "31/31 - 1s - loss: 1.5239 - accuracy: 0.7379 - val_loss: 2.2279 - val_accuracy: 0.2750\n",
            "Epoch 8/40\n",
            "31/31 - 1s - loss: 1.4361 - accuracy: 0.7218 - val_loss: 2.2452 - val_accuracy: 0.2750\n",
            "Epoch 9/40\n",
            "31/31 - 1s - loss: 1.7241 - accuracy: 0.6613 - val_loss: 1.9810 - val_accuracy: 0.2625\n",
            "Epoch 10/40\n",
            "31/31 - 1s - loss: 1.7236 - accuracy: 0.7097 - val_loss: 2.2439 - val_accuracy: 0.1250\n",
            "Epoch 11/40\n",
            "31/31 - 1s - loss: 1.3664 - accuracy: 0.7258 - val_loss: 3.0956 - val_accuracy: 0.2750\n",
            "Epoch 12/40\n",
            "31/31 - 1s - loss: 1.3324 - accuracy: 0.7218 - val_loss: 1.7880 - val_accuracy: 0.3000\n",
            "Epoch 13/40\n",
            "31/31 - 1s - loss: 1.1385 - accuracy: 0.7782 - val_loss: 1.8339 - val_accuracy: 0.3125\n",
            "Epoch 14/40\n",
            "31/31 - 1s - loss: 0.9703 - accuracy: 0.8105 - val_loss: 4.2838 - val_accuracy: 0.1375\n",
            "Epoch 15/40\n",
            "31/31 - 1s - loss: 1.0337 - accuracy: 0.7661 - val_loss: 1.7106 - val_accuracy: 0.3625\n",
            "Epoch 16/40\n",
            "31/31 - 1s - loss: 0.6194 - accuracy: 0.8710 - val_loss: 2.2438 - val_accuracy: 0.3750\n",
            "Epoch 17/40\n",
            "31/31 - 1s - loss: 0.7993 - accuracy: 0.7863 - val_loss: 2.8063 - val_accuracy: 0.3625\n",
            "Epoch 18/40\n",
            "31/31 - 1s - loss: 0.9159 - accuracy: 0.8226 - val_loss: 2.3715 - val_accuracy: 0.3625\n",
            "Epoch 19/40\n",
            "31/31 - 1s - loss: 0.7494 - accuracy: 0.8508 - val_loss: 3.0097 - val_accuracy: 0.3625\n",
            "Epoch 20/40\n",
            "31/31 - 1s - loss: 0.6685 - accuracy: 0.8589 - val_loss: 2.7900 - val_accuracy: 0.2875\n",
            "Epoch 21/40\n",
            "31/31 - 1s - loss: 0.7012 - accuracy: 0.8347 - val_loss: 1.9830 - val_accuracy: 0.3500\n",
            "Epoch 22/40\n",
            "31/31 - 1s - loss: 0.4641 - accuracy: 0.8589 - val_loss: 10.3311 - val_accuracy: 0.3125\n",
            "Epoch 23/40\n",
            "31/31 - 1s - loss: 0.4377 - accuracy: 0.8831 - val_loss: 33.2554 - val_accuracy: 0.4500\n",
            "Epoch 24/40\n",
            "31/31 - 1s - loss: 0.2095 - accuracy: 0.9476 - val_loss: 18.2398 - val_accuracy: 0.3250\n",
            "Epoch 25/40\n",
            "31/31 - 1s - loss: 0.3214 - accuracy: 0.9073 - val_loss: 31.1912 - val_accuracy: 0.3750\n",
            "Epoch 26/40\n",
            "31/31 - 1s - loss: 0.7671 - accuracy: 0.8992 - val_loss: 6.9129 - val_accuracy: 0.3750\n",
            "Epoch 27/40\n",
            "31/31 - 1s - loss: 0.2744 - accuracy: 0.9194 - val_loss: 6.5946 - val_accuracy: 0.3750\n",
            "Epoch 28/40\n",
            "31/31 - 1s - loss: 0.1965 - accuracy: 0.9355 - val_loss: 4.4811 - val_accuracy: 0.3500\n",
            "Epoch 29/40\n",
            "31/31 - 1s - loss: 0.1991 - accuracy: 0.9597 - val_loss: 4.2702 - val_accuracy: 0.3875\n",
            "Epoch 30/40\n",
            "31/31 - 1s - loss: 0.4527 - accuracy: 0.8992 - val_loss: 8.9507 - val_accuracy: 0.3500\n",
            "Epoch 31/40\n",
            "31/31 - 1s - loss: 0.6525 - accuracy: 0.8750 - val_loss: 8.3119 - val_accuracy: 0.4375\n",
            "Epoch 32/40\n",
            "31/31 - 1s - loss: 0.2596 - accuracy: 0.9274 - val_loss: 3.5697 - val_accuracy: 0.4125\n",
            "Epoch 33/40\n",
            "31/31 - 1s - loss: 0.2789 - accuracy: 0.9355 - val_loss: 3.4346 - val_accuracy: 0.5250\n",
            "Epoch 34/40\n",
            "31/31 - 1s - loss: 0.2820 - accuracy: 0.9355 - val_loss: 6.1170 - val_accuracy: 0.4375\n",
            "Epoch 35/40\n",
            "31/31 - 1s - loss: 0.2570 - accuracy: 0.9355 - val_loss: 4.9070 - val_accuracy: 0.4250\n",
            "Epoch 36/40\n",
            "31/31 - 1s - loss: 0.1405 - accuracy: 0.9597 - val_loss: 4.5096 - val_accuracy: 0.4375\n",
            "Epoch 37/40\n",
            "31/31 - 1s - loss: 0.1852 - accuracy: 0.9556 - val_loss: 3.5236 - val_accuracy: 0.5000\n",
            "Epoch 38/40\n",
            "31/31 - 1s - loss: 0.1719 - accuracy: 0.9718 - val_loss: 4.8331 - val_accuracy: 0.4375\n",
            "Epoch 39/40\n",
            "31/31 - 1s - loss: 0.2439 - accuracy: 0.9516 - val_loss: 5.7325 - val_accuracy: 0.3500\n",
            "Epoch 40/40\n",
            "31/31 - 1s - loss: 0.1896 - accuracy: 0.9355 - val_loss: 5.7136 - val_accuracy: 0.4500\n"
          ],
          "name": "stdout"
        }
      ]
    },
    {
      "cell_type": "code",
      "metadata": {
        "colab": {
          "base_uri": "https://localhost:8080/",
          "height": 295
        },
        "id": "bS8u6BwmZG1A",
        "outputId": "229913a6-8f3a-4dba-8142-203abebe9fac"
      },
      "source": [
        "plot_hist(hist)"
      ],
      "execution_count": 45,
      "outputs": [
        {
          "output_type": "display_data",
          "data": {
            "image/png": "[encoded data removed]",
            "text/plain": [
              "<Figure size 432x288 with 1 Axes>"
            ]
          },
          "metadata": {
            "tags": [],
            "needs_background": "light"
          }
        }
      ]
    },
    {
      "cell_type": "code",
      "metadata": {
        "id": "GMkQ600ybhxX"
      },
      "source": [
        "from tensorflow.keras.layers.experimental import preprocessing\n",
        "from tensorflow.keras.models import Sequential\n",
        "from tensorflow.keras import layers\n",
        "\n",
        "img_augmentation = Sequential(\n",
        "  [\n",
        "    # representing lower and upper bound for rotating clockwise and counter-clockwise. \n",
        "    preprocessing.RandomRotation(factor=0.15), # a float represented as fraction of 2pi, ex :0.15 (= 54 degree!) \n",
        "    \n",
        "    preprocessing.RandomTranslation(height_factor=0.1, # lower and upper bound for shifting vertically\n",
        "                                    width_factor=0.1 #lower and upper bound for shifting horizontally.\n",
        "                                    ),\n",
        "    preprocessing.RandomFlip(), # Randomly flip each image horizontally and vertically.\n",
        "    preprocessing.RandomContrast(factor=0.1),\n",
        "  ],\n",
        "  name=\"img_augmentation\",\n",
        ")"
      ],
      "execution_count": 46,
      "outputs": []
    },
    {
      "cell_type": "code",
      "metadata": {
        "colab": {
          "base_uri": "https://localhost:8080/",
          "height": 264
        },
        "id": "Rm0JjI1fbmQP",
        "outputId": "f7586d2b-d2f1-4a66-990a-1cf4fd5e0ea1"
      },
      "source": [
        "for image, label in train_dataset.take(1):\n",
        "  for i in range(9):\n",
        "    ax = plt.subplot(3, 3, i + 1)\n",
        "    aug_img = img_augmentation(tf.expand_dims(image, axis=0))\n",
        "    plt.imshow(aug_img[0].numpy().astype(\"uint8\"))\n",
        "    \n",
        "    plt.title(f\"{format_label(label)}\")\n",
        "    plt.axis(\"off\")"
      ],
      "execution_count": 47,
      "outputs": [
        {
          "output_type": "display_data",
          "data": {
            "image/png": "[encoded data removed]",
            "text/plain": [
              "<Figure size 432x288 with 9 Axes>"
            ]
          },
          "metadata": {
            "tags": [],
            "needs_background": "light"
          }
        }
      ]
    },
    {
      "cell_type": "code",
      "metadata": {
        "colab": {
          "base_uri": "https://localhost:8080/"
        },
        "id": "PRFQOeSxbbx7",
        "outputId": "dd23c5f2-f513-450d-9ddb-f540a4221fba"
      },
      "source": [
        "from tensorflow.keras.applications.efficientnet import  EfficientNetB0\n",
        "from tensorflow.keras import layers, models\n",
        "from tensorflow.keras import layers\n",
        "\n",
        "inputs = layers.Input(shape=(w,h,3))\n",
        "x = img_augmentation(inputs)\n",
        "outputs = EfficientNetB0(include_top=True, \n",
        "                         weights=None,\n",
        "                         input_shape=(w,h,3),\n",
        "                         classes=num_classes)(x)\n",
        "\n",
        "model = models.Model(inputs = inputs, outputs= outputs)\n",
        "model.compile(\n",
        "    optimizer='adam',\n",
        "    loss='categorical_crossentropy',\n",
        "    metrics=['accuracy']\n",
        ")\n",
        "model.summary()\n",
        "\n",
        "epochs = 200 # @param {type:'slider', min:10, max:200}\n",
        "batch_size = 8\n",
        "\n",
        "hist = model.fit(batch_train_dataset,\n",
        "                 epochs=epochs,\n",
        "                 validation_data = batch_test_dataset,\n",
        "                 verbose=2)"
      ],
      "execution_count": 48,
      "outputs": [
        {
          "output_type": "stream",
          "text": [
            "Model: \"model_3\"\n",
            "_________________________________________________________________\n",
            "Layer (type)                 Output Shape              Param #   \n",
            "=================================================================\n",
            "input_6 (InputLayer)         [(None, 64, 64, 3)]       0         \n",
            "_________________________________________________________________\n",
            "img_augmentation (Sequential (None, 64, 64, 3)         0         \n",
            "_________________________________________________________________\n",
            "efficientnetb0 (Functional)  (None, 5)                 4055976   \n",
            "=================================================================\n",
            "Total params: 4,055,976\n",
            "Trainable params: 4,013,953\n",
            "Non-trainable params: 42,023\n",
            "_________________________________________________________________\n",
            "Epoch 1/200\n",
            "31/31 - 9s - loss: 6.6825 - accuracy: 0.2097 - val_loss: 1.8496 - val_accuracy: 0.1250\n",
            "Epoch 2/200\n",
            "31/31 - 1s - loss: 5.7986 - accuracy: 0.1976 - val_loss: 2.3119 - val_accuracy: 0.1250\n",
            "Epoch 3/200\n",
            "31/31 - 1s - loss: 3.5617 - accuracy: 0.2540 - val_loss: 1.9186 - val_accuracy: 0.1125\n",
            "Epoch 4/200\n",
            "31/31 - 1s - loss: 2.8299 - accuracy: 0.2863 - val_loss: 2.3134 - val_accuracy: 0.1250\n",
            "Epoch 5/200\n",
            "31/31 - 1s - loss: 2.7424 - accuracy: 0.2500 - val_loss: 2.8614 - val_accuracy: 0.1250\n",
            "Epoch 6/200\n",
            "31/31 - 1s - loss: 3.3903 - accuracy: 0.2419 - val_loss: 2.7533 - val_accuracy: 0.1250\n",
            "Epoch 7/200\n",
            "31/31 - 1s - loss: 3.0372 - accuracy: 0.2742 - val_loss: 2.8278 - val_accuracy: 0.1250\n",
            "Epoch 8/200\n",
            "31/31 - 1s - loss: 2.6331 - accuracy: 0.2419 - val_loss: 2.2276 - val_accuracy: 0.1250\n",
            "Epoch 9/200\n",
            "31/31 - 1s - loss: 2.5883 - accuracy: 0.2702 - val_loss: 2.0380 - val_accuracy: 0.1250\n",
            "Epoch 10/200\n",
            "31/31 - 1s - loss: 2.4952 - accuracy: 0.3024 - val_loss: 1.7031 - val_accuracy: 0.2750\n",
            "Epoch 11/200\n",
            "31/31 - 1s - loss: 2.4698 - accuracy: 0.2379 - val_loss: 1.7237 - val_accuracy: 0.2750\n",
            "Epoch 12/200\n",
            "31/31 - 1s - loss: 2.8044 - accuracy: 0.2460 - val_loss: 2.3483 - val_accuracy: 0.2625\n",
            "Epoch 13/200\n",
            "31/31 - 1s - loss: 2.9508 - accuracy: 0.2903 - val_loss: 2.3007 - val_accuracy: 0.1250\n",
            "Epoch 14/200\n",
            "31/31 - 1s - loss: 2.3397 - accuracy: 0.3266 - val_loss: 1.8317 - val_accuracy: 0.1375\n",
            "Epoch 15/200\n",
            "31/31 - 1s - loss: 2.4693 - accuracy: 0.3105 - val_loss: 1.9894 - val_accuracy: 0.2000\n",
            "Epoch 16/200\n",
            "31/31 - 1s - loss: 2.5287 - accuracy: 0.2944 - val_loss: 4.1541 - val_accuracy: 0.3375\n",
            "Epoch 17/200\n",
            "31/31 - 1s - loss: 2.4844 - accuracy: 0.2984 - val_loss: 4.1472 - val_accuracy: 0.2000\n",
            "Epoch 18/200\n",
            "31/31 - 1s - loss: 2.4200 - accuracy: 0.3387 - val_loss: 11.6242 - val_accuracy: 0.3625\n",
            "Epoch 19/200\n",
            "31/31 - 1s - loss: 2.4410 - accuracy: 0.2823 - val_loss: 21.9540 - val_accuracy: 0.2625\n",
            "Epoch 20/200\n",
            "31/31 - 1s - loss: 2.1644 - accuracy: 0.2944 - val_loss: 5.2290 - val_accuracy: 0.2625\n",
            "Epoch 21/200\n",
            "31/31 - 1s - loss: 2.2902 - accuracy: 0.3266 - val_loss: 6.7660 - val_accuracy: 0.3750\n",
            "Epoch 22/200\n",
            "31/31 - 1s - loss: 2.3925 - accuracy: 0.3145 - val_loss: 9.3529 - val_accuracy: 0.3750\n",
            "Epoch 23/200\n",
            "31/31 - 1s - loss: 2.2463 - accuracy: 0.2863 - val_loss: 5.5482 - val_accuracy: 0.3250\n",
            "Epoch 24/200\n",
            "31/31 - 1s - loss: 1.9758 - accuracy: 0.3629 - val_loss: 2.9651 - val_accuracy: 0.4125\n",
            "Epoch 25/200\n",
            "31/31 - 1s - loss: 2.3054 - accuracy: 0.2742 - val_loss: 2.1143 - val_accuracy: 0.4625\n",
            "Epoch 26/200\n",
            "31/31 - 1s - loss: 2.1527 - accuracy: 0.3347 - val_loss: 2.4163 - val_accuracy: 0.3500\n",
            "Epoch 27/200\n",
            "31/31 - 1s - loss: 2.1333 - accuracy: 0.3226 - val_loss: 1.9986 - val_accuracy: 0.4000\n",
            "Epoch 28/200\n",
            "31/31 - 1s - loss: 2.2162 - accuracy: 0.3387 - val_loss: 1.6802 - val_accuracy: 0.3750\n",
            "Epoch 29/200\n",
            "31/31 - 1s - loss: 1.9737 - accuracy: 0.3669 - val_loss: 1.7637 - val_accuracy: 0.4000\n",
            "Epoch 30/200\n",
            "31/31 - 1s - loss: 2.1540 - accuracy: 0.3710 - val_loss: 1.6633 - val_accuracy: 0.4250\n",
            "Epoch 31/200\n",
            "31/31 - 1s - loss: 2.0383 - accuracy: 0.3024 - val_loss: 1.7854 - val_accuracy: 0.3750\n",
            "Epoch 32/200\n",
            "31/31 - 1s - loss: 2.2662 - accuracy: 0.3024 - val_loss: 3.2803 - val_accuracy: 0.2125\n",
            "Epoch 33/200\n",
            "31/31 - 1s - loss: 2.3745 - accuracy: 0.2621 - val_loss: 2.7652 - val_accuracy: 0.2625\n",
            "Epoch 34/200\n",
            "31/31 - 1s - loss: 2.2527 - accuracy: 0.3468 - val_loss: 2.3352 - val_accuracy: 0.3875\n",
            "Epoch 35/200\n",
            "31/31 - 1s - loss: 2.0692 - accuracy: 0.3024 - val_loss: 2.5168 - val_accuracy: 0.3500\n",
            "Epoch 36/200\n",
            "31/31 - 1s - loss: 2.0954 - accuracy: 0.3508 - val_loss: 1.9803 - val_accuracy: 0.4000\n",
            "Epoch 37/200\n",
            "31/31 - 1s - loss: 1.9731 - accuracy: 0.3508 - val_loss: 4.4225 - val_accuracy: 0.3125\n",
            "Epoch 38/200\n",
            "31/31 - 1s - loss: 2.1305 - accuracy: 0.3508 - val_loss: 6.3748 - val_accuracy: 0.3250\n",
            "Epoch 39/200\n",
            "31/31 - 1s - loss: 2.1221 - accuracy: 0.3427 - val_loss: 7.2825 - val_accuracy: 0.3500\n",
            "Epoch 40/200\n",
            "31/31 - 1s - loss: 2.0538 - accuracy: 0.3508 - val_loss: 14.8354 - val_accuracy: 0.3625\n",
            "Epoch 41/200\n",
            "31/31 - 1s - loss: 1.9963 - accuracy: 0.3427 - val_loss: 5.8838 - val_accuracy: 0.3375\n",
            "Epoch 42/200\n",
            "31/31 - 1s - loss: 1.8983 - accuracy: 0.3750 - val_loss: 1.7378 - val_accuracy: 0.4000\n",
            "Epoch 43/200\n",
            "31/31 - 1s - loss: 2.1429 - accuracy: 0.3992 - val_loss: 1.5708 - val_accuracy: 0.4625\n",
            "Epoch 44/200\n",
            "31/31 - 1s - loss: 1.9554 - accuracy: 0.3710 - val_loss: 4.5063 - val_accuracy: 0.3875\n",
            "Epoch 45/200\n",
            "31/31 - 1s - loss: 1.9633 - accuracy: 0.3508 - val_loss: 5.9406 - val_accuracy: 0.3750\n",
            "Epoch 46/200\n",
            "31/31 - 1s - loss: 2.0381 - accuracy: 0.3226 - val_loss: 2.1275 - val_accuracy: 0.4125\n",
            "Epoch 47/200\n",
            "31/31 - 1s - loss: 1.9175 - accuracy: 0.3952 - val_loss: 2.2805 - val_accuracy: 0.4125\n",
            "Epoch 48/200\n",
            "31/31 - 1s - loss: 1.7939 - accuracy: 0.4113 - val_loss: 3.0647 - val_accuracy: 0.3750\n",
            "Epoch 49/200\n",
            "31/31 - 1s - loss: 1.8305 - accuracy: 0.4758 - val_loss: 2.5286 - val_accuracy: 0.3500\n",
            "Epoch 50/200\n",
            "31/31 - 1s - loss: 1.8965 - accuracy: 0.4718 - val_loss: 2.4532 - val_accuracy: 0.4750\n",
            "Epoch 51/200\n",
            "31/31 - 1s - loss: 1.7936 - accuracy: 0.4194 - val_loss: 1.9761 - val_accuracy: 0.4875\n",
            "Epoch 52/200\n",
            "31/31 - 1s - loss: 1.6323 - accuracy: 0.4718 - val_loss: 1.8196 - val_accuracy: 0.3875\n",
            "Epoch 53/200\n",
            "31/31 - 1s - loss: 2.0140 - accuracy: 0.4435 - val_loss: 1.5933 - val_accuracy: 0.4375\n",
            "Epoch 54/200\n",
            "31/31 - 1s - loss: 1.7081 - accuracy: 0.4234 - val_loss: 1.7376 - val_accuracy: 0.4000\n",
            "Epoch 55/200\n",
            "31/31 - 1s - loss: 1.8112 - accuracy: 0.4395 - val_loss: 45.9076 - val_accuracy: 0.3000\n",
            "Epoch 56/200\n",
            "31/31 - 1s - loss: 2.2045 - accuracy: 0.2903 - val_loss: 59.3631 - val_accuracy: 0.3125\n",
            "Epoch 57/200\n",
            "31/31 - 1s - loss: 2.2977 - accuracy: 0.2419 - val_loss: 13.3705 - val_accuracy: 0.2625\n",
            "Epoch 58/200\n",
            "31/31 - 1s - loss: 1.9534 - accuracy: 0.3226 - val_loss: 3.9604 - val_accuracy: 0.1375\n",
            "Epoch 59/200\n",
            "31/31 - 1s - loss: 2.1090 - accuracy: 0.3306 - val_loss: 3.6895 - val_accuracy: 0.2375\n",
            "Epoch 60/200\n",
            "31/31 - 1s - loss: 2.1948 - accuracy: 0.3105 - val_loss: 5.5066 - val_accuracy: 0.2375\n",
            "Epoch 61/200\n",
            "31/31 - 1s - loss: 2.0440 - accuracy: 0.3387 - val_loss: 9.9782 - val_accuracy: 0.1875\n",
            "Epoch 62/200\n",
            "31/31 - 1s - loss: 2.2090 - accuracy: 0.3145 - val_loss: 6.6847 - val_accuracy: 0.2000\n",
            "Epoch 63/200\n",
            "31/31 - 1s - loss: 2.0231 - accuracy: 0.3589 - val_loss: 4.0207 - val_accuracy: 0.3250\n",
            "Epoch 64/200\n",
            "31/31 - 1s - loss: 1.9482 - accuracy: 0.3790 - val_loss: 6.5642 - val_accuracy: 0.2625\n",
            "Epoch 65/200\n",
            "31/31 - 1s - loss: 2.2169 - accuracy: 0.3266 - val_loss: 4.2271 - val_accuracy: 0.3625\n",
            "Epoch 66/200\n",
            "31/31 - 1s - loss: 1.9209 - accuracy: 0.3629 - val_loss: 3.1644 - val_accuracy: 0.2875\n",
            "Epoch 67/200\n",
            "31/31 - 1s - loss: 2.1114 - accuracy: 0.3710 - val_loss: 8.7103 - val_accuracy: 0.2500\n",
            "Epoch 68/200\n",
            "31/31 - 1s - loss: 1.9056 - accuracy: 0.3992 - val_loss: 11.7006 - val_accuracy: 0.2625\n",
            "Epoch 69/200\n",
            "31/31 - 1s - loss: 1.9081 - accuracy: 0.3548 - val_loss: 119.9531 - val_accuracy: 0.3375\n",
            "Epoch 70/200\n",
            "31/31 - 1s - loss: 2.1752 - accuracy: 0.3790 - val_loss: 96.6908 - val_accuracy: 0.2250\n",
            "Epoch 71/200\n",
            "31/31 - 1s - loss: 2.1103 - accuracy: 0.3185 - val_loss: 29.7866 - val_accuracy: 0.2500\n",
            "Epoch 72/200\n",
            "31/31 - 1s - loss: 2.1604 - accuracy: 0.3266 - val_loss: 21.5379 - val_accuracy: 0.2500\n",
            "Epoch 73/200\n",
            "31/31 - 1s - loss: 1.9901 - accuracy: 0.3669 - val_loss: 5.9423 - val_accuracy: 0.3500\n",
            "Epoch 74/200\n",
            "31/31 - 1s - loss: 2.1461 - accuracy: 0.3629 - val_loss: 6.0544 - val_accuracy: 0.2375\n",
            "Epoch 75/200\n",
            "31/31 - 1s - loss: 2.0331 - accuracy: 0.3831 - val_loss: 3.3833 - val_accuracy: 0.3625\n",
            "Epoch 76/200\n",
            "31/31 - 1s - loss: 2.0477 - accuracy: 0.3629 - val_loss: 3.1656 - val_accuracy: 0.2625\n",
            "Epoch 77/200\n",
            "31/31 - 1s - loss: 2.0414 - accuracy: 0.3427 - val_loss: 2.2526 - val_accuracy: 0.3750\n",
            "Epoch 78/200\n",
            "31/31 - 1s - loss: 1.8314 - accuracy: 0.4073 - val_loss: 3.4915 - val_accuracy: 0.3000\n",
            "Epoch 79/200\n",
            "31/31 - 1s - loss: 2.0729 - accuracy: 0.3589 - val_loss: 2.8914 - val_accuracy: 0.2875\n",
            "Epoch 80/200\n",
            "31/31 - 1s - loss: 1.9961 - accuracy: 0.3831 - val_loss: 6.1849 - val_accuracy: 0.4500\n",
            "Epoch 81/200\n",
            "31/31 - 1s - loss: 2.0512 - accuracy: 0.4032 - val_loss: 32.9229 - val_accuracy: 0.2500\n",
            "Epoch 82/200\n",
            "31/31 - 1s - loss: 2.1162 - accuracy: 0.3669 - val_loss: 10.7358 - val_accuracy: 0.3125\n",
            "Epoch 83/200\n",
            "31/31 - 1s - loss: 2.0310 - accuracy: 0.3508 - val_loss: 275.9564 - val_accuracy: 0.2625\n",
            "Epoch 84/200\n",
            "31/31 - 1s - loss: 2.0208 - accuracy: 0.3871 - val_loss: 66.9665 - val_accuracy: 0.2500\n",
            "Epoch 85/200\n",
            "31/31 - 1s - loss: 1.9125 - accuracy: 0.4395 - val_loss: 54.3509 - val_accuracy: 0.1875\n",
            "Epoch 86/200\n",
            "31/31 - 1s - loss: 1.8977 - accuracy: 0.4153 - val_loss: 44.9818 - val_accuracy: 0.3625\n",
            "Epoch 87/200\n",
            "31/31 - 1s - loss: 2.0675 - accuracy: 0.3992 - val_loss: 3.4611 - val_accuracy: 0.4875\n",
            "Epoch 88/200\n",
            "31/31 - 1s - loss: 1.8307 - accuracy: 0.3790 - val_loss: 3.1338 - val_accuracy: 0.4125\n",
            "Epoch 89/200\n",
            "31/31 - 1s - loss: 1.8352 - accuracy: 0.4315 - val_loss: 2.2893 - val_accuracy: 0.4375\n",
            "Epoch 90/200\n",
            "31/31 - 1s - loss: 1.8466 - accuracy: 0.4073 - val_loss: 1.7546 - val_accuracy: 0.3750\n",
            "Epoch 91/200\n",
            "31/31 - 1s - loss: 1.7835 - accuracy: 0.4395 - val_loss: 1.5745 - val_accuracy: 0.4375\n",
            "Epoch 92/200\n",
            "31/31 - 1s - loss: 1.7517 - accuracy: 0.3669 - val_loss: 1.7293 - val_accuracy: 0.2875\n",
            "Epoch 93/200\n",
            "31/31 - 1s - loss: 1.8222 - accuracy: 0.4032 - val_loss: 1.6297 - val_accuracy: 0.3375\n",
            "Epoch 94/200\n",
            "31/31 - 1s - loss: 1.6328 - accuracy: 0.4395 - val_loss: 1.7398 - val_accuracy: 0.4750\n",
            "Epoch 95/200\n",
            "31/31 - 1s - loss: 1.5685 - accuracy: 0.4194 - val_loss: 2.4094 - val_accuracy: 0.4375\n",
            "Epoch 96/200\n",
            "31/31 - 1s - loss: 1.7602 - accuracy: 0.4153 - val_loss: 2.3600 - val_accuracy: 0.4375\n",
            "Epoch 97/200\n",
            "31/31 - 1s - loss: 1.6970 - accuracy: 0.4435 - val_loss: 1.8143 - val_accuracy: 0.4875\n",
            "Epoch 98/200\n",
            "31/31 - 1s - loss: 1.6826 - accuracy: 0.4395 - val_loss: 2.5346 - val_accuracy: 0.4750\n",
            "Epoch 99/200\n",
            "31/31 - 1s - loss: 1.7394 - accuracy: 0.4476 - val_loss: 2.0953 - val_accuracy: 0.4875\n",
            "Epoch 100/200\n",
            "31/31 - 1s - loss: 1.6240 - accuracy: 0.4315 - val_loss: 1.9871 - val_accuracy: 0.4625\n",
            "Epoch 101/200\n",
            "31/31 - 1s - loss: 1.5429 - accuracy: 0.4677 - val_loss: 1.4644 - val_accuracy: 0.3875\n",
            "Epoch 102/200\n",
            "31/31 - 1s - loss: 1.4738 - accuracy: 0.4960 - val_loss: 1.5395 - val_accuracy: 0.3750\n",
            "Epoch 103/200\n",
            "31/31 - 1s - loss: 1.5888 - accuracy: 0.4355 - val_loss: 2.3014 - val_accuracy: 0.4000\n",
            "Epoch 104/200\n",
            "31/31 - 1s - loss: 1.5350 - accuracy: 0.4879 - val_loss: 1.8792 - val_accuracy: 0.3750\n",
            "Epoch 105/200\n",
            "31/31 - 1s - loss: 1.6717 - accuracy: 0.4516 - val_loss: 1.5141 - val_accuracy: 0.4375\n",
            "Epoch 106/200\n",
            "31/31 - 1s - loss: 1.4989 - accuracy: 0.4677 - val_loss: 1.4618 - val_accuracy: 0.3750\n",
            "Epoch 107/200\n",
            "31/31 - 1s - loss: 1.6847 - accuracy: 0.4556 - val_loss: 1.7406 - val_accuracy: 0.3625\n",
            "Epoch 108/200\n",
            "31/31 - 1s - loss: 1.5298 - accuracy: 0.4637 - val_loss: 1.8105 - val_accuracy: 0.3875\n",
            "Epoch 109/200\n",
            "31/31 - 1s - loss: 1.5365 - accuracy: 0.5040 - val_loss: 1.4631 - val_accuracy: 0.3875\n",
            "Epoch 110/200\n",
            "31/31 - 1s - loss: 1.5922 - accuracy: 0.5040 - val_loss: 1.4578 - val_accuracy: 0.4375\n",
            "Epoch 111/200\n",
            "31/31 - 1s - loss: 1.5767 - accuracy: 0.4758 - val_loss: 1.3699 - val_accuracy: 0.3750\n",
            "Epoch 112/200\n",
            "31/31 - 1s - loss: 1.5759 - accuracy: 0.5000 - val_loss: 2.2347 - val_accuracy: 0.4500\n",
            "Epoch 113/200\n",
            "31/31 - 1s - loss: 1.4707 - accuracy: 0.5363 - val_loss: 1.5703 - val_accuracy: 0.4375\n",
            "Epoch 114/200\n",
            "31/31 - 1s - loss: 1.3584 - accuracy: 0.5242 - val_loss: 1.4128 - val_accuracy: 0.3750\n",
            "Epoch 115/200\n",
            "31/31 - 1s - loss: 1.5896 - accuracy: 0.4798 - val_loss: 1.4124 - val_accuracy: 0.3875\n",
            "Epoch 116/200\n",
            "31/31 - 1s - loss: 1.3487 - accuracy: 0.5282 - val_loss: 1.3333 - val_accuracy: 0.4750\n",
            "Epoch 117/200\n",
            "31/31 - 1s - loss: 1.6189 - accuracy: 0.4556 - val_loss: 1.9849 - val_accuracy: 0.4250\n",
            "Epoch 118/200\n",
            "31/31 - 1s - loss: 1.4320 - accuracy: 0.5121 - val_loss: 1.6534 - val_accuracy: 0.3875\n",
            "Epoch 119/200\n",
            "31/31 - 1s - loss: 1.3726 - accuracy: 0.5565 - val_loss: 1.8960 - val_accuracy: 0.3875\n",
            "Epoch 120/200\n",
            "31/31 - 1s - loss: 1.3279 - accuracy: 0.5444 - val_loss: 4.9905 - val_accuracy: 0.3750\n",
            "Epoch 121/200\n",
            "31/31 - 1s - loss: 1.5078 - accuracy: 0.4758 - val_loss: 3.0793 - val_accuracy: 0.4750\n",
            "Epoch 122/200\n",
            "31/31 - 1s - loss: 1.2619 - accuracy: 0.5887 - val_loss: 2.0799 - val_accuracy: 0.5250\n",
            "Epoch 123/200\n",
            "31/31 - 1s - loss: 1.3620 - accuracy: 0.5887 - val_loss: 2.0957 - val_accuracy: 0.4250\n",
            "Epoch 124/200\n",
            "31/31 - 1s - loss: 1.3189 - accuracy: 0.5685 - val_loss: 2.0620 - val_accuracy: 0.4250\n",
            "Epoch 125/200\n",
            "31/31 - 1s - loss: 1.1724 - accuracy: 0.5645 - val_loss: 1.8565 - val_accuracy: 0.4000\n",
            "Epoch 126/200\n",
            "31/31 - 1s - loss: 1.3800 - accuracy: 0.5202 - val_loss: 1.5577 - val_accuracy: 0.5000\n",
            "Epoch 127/200\n",
            "31/31 - 1s - loss: 1.2184 - accuracy: 0.5968 - val_loss: 1.5546 - val_accuracy: 0.5125\n",
            "Epoch 128/200\n",
            "31/31 - 1s - loss: 1.3252 - accuracy: 0.5887 - val_loss: 1.7702 - val_accuracy: 0.4750\n",
            "Epoch 129/200\n",
            "31/31 - 1s - loss: 1.2393 - accuracy: 0.5927 - val_loss: 1.6454 - val_accuracy: 0.3875\n",
            "Epoch 130/200\n",
            "31/31 - 1s - loss: 1.1669 - accuracy: 0.6008 - val_loss: 1.6562 - val_accuracy: 0.5000\n",
            "Epoch 131/200\n",
            "31/31 - 1s - loss: 1.0106 - accuracy: 0.6452 - val_loss: 1.7972 - val_accuracy: 0.4500\n",
            "Epoch 132/200\n",
            "31/31 - 1s - loss: 1.0047 - accuracy: 0.6129 - val_loss: 1.9673 - val_accuracy: 0.4375\n",
            "Epoch 133/200\n",
            "31/31 - 1s - loss: 1.1685 - accuracy: 0.5605 - val_loss: 1.6652 - val_accuracy: 0.4875\n",
            "Epoch 134/200\n",
            "31/31 - 1s - loss: 1.0153 - accuracy: 0.6492 - val_loss: 1.4057 - val_accuracy: 0.4625\n",
            "Epoch 135/200\n",
            "31/31 - 1s - loss: 1.0412 - accuracy: 0.6895 - val_loss: 1.7810 - val_accuracy: 0.5125\n",
            "Epoch 136/200\n",
            "31/31 - 1s - loss: 1.3625 - accuracy: 0.6048 - val_loss: 1.9462 - val_accuracy: 0.4000\n",
            "Epoch 137/200\n",
            "31/31 - 1s - loss: 1.1392 - accuracy: 0.6210 - val_loss: 1.5198 - val_accuracy: 0.3625\n",
            "Epoch 138/200\n",
            "31/31 - 1s - loss: 1.3090 - accuracy: 0.5605 - val_loss: 1.7467 - val_accuracy: 0.4375\n",
            "Epoch 139/200\n",
            "31/31 - 1s - loss: 1.3519 - accuracy: 0.5605 - val_loss: 1.9397 - val_accuracy: 0.4750\n",
            "Epoch 140/200\n",
            "31/31 - 1s - loss: 1.1101 - accuracy: 0.6290 - val_loss: 1.4920 - val_accuracy: 0.5375\n",
            "Epoch 141/200\n",
            "31/31 - 1s - loss: 1.0298 - accuracy: 0.6694 - val_loss: 1.9789 - val_accuracy: 0.5375\n",
            "Epoch 142/200\n",
            "31/31 - 1s - loss: 0.9810 - accuracy: 0.6331 - val_loss: 1.8515 - val_accuracy: 0.5125\n",
            "Epoch 143/200\n",
            "31/31 - 1s - loss: 1.2037 - accuracy: 0.6371 - val_loss: 1.7452 - val_accuracy: 0.4625\n",
            "Epoch 144/200\n",
            "31/31 - 1s - loss: 0.9294 - accuracy: 0.6452 - val_loss: 1.5153 - val_accuracy: 0.5000\n",
            "Epoch 145/200\n",
            "31/31 - 1s - loss: 0.8058 - accuracy: 0.6895 - val_loss: 2.2492 - val_accuracy: 0.4250\n",
            "Epoch 146/200\n",
            "31/31 - 1s - loss: 1.1750 - accuracy: 0.6089 - val_loss: 3.2359 - val_accuracy: 0.4250\n",
            "Epoch 147/200\n",
            "31/31 - 1s - loss: 1.1141 - accuracy: 0.6371 - val_loss: 3.0253 - val_accuracy: 0.4250\n",
            "Epoch 148/200\n",
            "31/31 - 1s - loss: 1.0405 - accuracy: 0.6734 - val_loss: 2.0323 - val_accuracy: 0.4625\n",
            "Epoch 149/200\n",
            "31/31 - 1s - loss: 1.0142 - accuracy: 0.6492 - val_loss: 1.9130 - val_accuracy: 0.4375\n",
            "Epoch 150/200\n",
            "31/31 - 1s - loss: 0.9843 - accuracy: 0.6613 - val_loss: 1.8516 - val_accuracy: 0.4750\n",
            "Epoch 151/200\n",
            "31/31 - 1s - loss: 1.0613 - accuracy: 0.6694 - val_loss: 1.5378 - val_accuracy: 0.4250\n",
            "Epoch 152/200\n",
            "31/31 - 1s - loss: 0.9432 - accuracy: 0.6573 - val_loss: 2.0468 - val_accuracy: 0.4000\n",
            "Epoch 153/200\n",
            "31/31 - 1s - loss: 0.8583 - accuracy: 0.6976 - val_loss: 1.8159 - val_accuracy: 0.4750\n",
            "Epoch 154/200\n",
            "31/31 - 1s - loss: 0.9089 - accuracy: 0.6895 - val_loss: 2.0926 - val_accuracy: 0.4500\n",
            "Epoch 155/200\n",
            "31/31 - 1s - loss: 0.7659 - accuracy: 0.7016 - val_loss: 2.1626 - val_accuracy: 0.4500\n",
            "Epoch 156/200\n",
            "31/31 - 1s - loss: 0.7383 - accuracy: 0.7137 - val_loss: 1.7418 - val_accuracy: 0.4875\n",
            "Epoch 157/200\n",
            "31/31 - 1s - loss: 0.7716 - accuracy: 0.7016 - val_loss: 1.8579 - val_accuracy: 0.4625\n",
            "Epoch 158/200\n",
            "31/31 - 1s - loss: 0.7314 - accuracy: 0.7137 - val_loss: 1.8761 - val_accuracy: 0.4625\n",
            "Epoch 159/200\n",
            "31/31 - 1s - loss: 0.8031 - accuracy: 0.7218 - val_loss: 1.3776 - val_accuracy: 0.5125\n",
            "Epoch 160/200\n",
            "31/31 - 1s - loss: 0.6057 - accuracy: 0.7661 - val_loss: 2.0071 - val_accuracy: 0.4500\n",
            "Epoch 161/200\n",
            "31/31 - 1s - loss: 0.6827 - accuracy: 0.7621 - val_loss: 1.5993 - val_accuracy: 0.5000\n",
            "Epoch 162/200\n",
            "31/31 - 1s - loss: 0.7230 - accuracy: 0.7460 - val_loss: 1.8236 - val_accuracy: 0.4750\n",
            "Epoch 163/200\n",
            "31/31 - 1s - loss: 0.5495 - accuracy: 0.8024 - val_loss: 2.1917 - val_accuracy: 0.4000\n",
            "Epoch 164/200\n",
            "31/31 - 1s - loss: 0.6919 - accuracy: 0.7581 - val_loss: 1.8469 - val_accuracy: 0.4625\n",
            "Epoch 165/200\n",
            "31/31 - 1s - loss: 0.5650 - accuracy: 0.8306 - val_loss: 2.0512 - val_accuracy: 0.5000\n",
            "Epoch 166/200\n",
            "31/31 - 1s - loss: 0.6795 - accuracy: 0.7500 - val_loss: 1.8894 - val_accuracy: 0.5000\n",
            "Epoch 167/200\n",
            "31/31 - 1s - loss: 0.6983 - accuracy: 0.7742 - val_loss: 2.2820 - val_accuracy: 0.4750\n",
            "Epoch 168/200\n",
            "31/31 - 1s - loss: 0.5820 - accuracy: 0.7702 - val_loss: 1.9105 - val_accuracy: 0.4500\n",
            "Epoch 169/200\n",
            "31/31 - 1s - loss: 0.5038 - accuracy: 0.8145 - val_loss: 2.1372 - val_accuracy: 0.4625\n",
            "Epoch 170/200\n",
            "31/31 - 1s - loss: 0.5499 - accuracy: 0.8266 - val_loss: 2.6094 - val_accuracy: 0.4875\n",
            "Epoch 171/200\n",
            "31/31 - 1s - loss: 0.6663 - accuracy: 0.7903 - val_loss: 1.7754 - val_accuracy: 0.4750\n",
            "Epoch 172/200\n",
            "31/31 - 1s - loss: 0.4176 - accuracy: 0.8831 - val_loss: 2.0569 - val_accuracy: 0.4625\n",
            "Epoch 173/200\n",
            "31/31 - 1s - loss: 0.3977 - accuracy: 0.8427 - val_loss: 2.3081 - val_accuracy: 0.4000\n",
            "Epoch 174/200\n",
            "31/31 - 1s - loss: 0.3942 - accuracy: 0.8589 - val_loss: 2.3195 - val_accuracy: 0.4250\n",
            "Epoch 175/200\n",
            "31/31 - 1s - loss: 0.5850 - accuracy: 0.8065 - val_loss: 1.9731 - val_accuracy: 0.4625\n",
            "Epoch 176/200\n",
            "31/31 - 1s - loss: 0.6922 - accuracy: 0.7581 - val_loss: 2.2872 - val_accuracy: 0.4500\n",
            "Epoch 177/200\n",
            "31/31 - 1s - loss: 0.7108 - accuracy: 0.7581 - val_loss: 1.9307 - val_accuracy: 0.5000\n",
            "Epoch 178/200\n",
            "31/31 - 1s - loss: 0.7328 - accuracy: 0.7258 - val_loss: 4.5480 - val_accuracy: 0.4000\n",
            "Epoch 179/200\n",
            "31/31 - 1s - loss: 0.5759 - accuracy: 0.8185 - val_loss: 2.4179 - val_accuracy: 0.4375\n",
            "Epoch 180/200\n",
            "31/31 - 1s - loss: 0.5106 - accuracy: 0.8226 - val_loss: 2.6053 - val_accuracy: 0.4125\n",
            "Epoch 181/200\n",
            "31/31 - 1s - loss: 0.4326 - accuracy: 0.8508 - val_loss: 2.1645 - val_accuracy: 0.4250\n",
            "Epoch 182/200\n",
            "31/31 - 1s - loss: 0.3665 - accuracy: 0.8831 - val_loss: 1.9813 - val_accuracy: 0.4625\n",
            "Epoch 183/200\n",
            "31/31 - 1s - loss: 0.5215 - accuracy: 0.7782 - val_loss: 2.7020 - val_accuracy: 0.4500\n",
            "Epoch 184/200\n",
            "31/31 - 1s - loss: 0.3514 - accuracy: 0.8831 - val_loss: 1.9804 - val_accuracy: 0.4875\n",
            "Epoch 185/200\n",
            "31/31 - 1s - loss: 0.3076 - accuracy: 0.8790 - val_loss: 1.6519 - val_accuracy: 0.4875\n",
            "Epoch 186/200\n",
            "31/31 - 1s - loss: 0.1925 - accuracy: 0.9194 - val_loss: 2.0875 - val_accuracy: 0.5250\n",
            "Epoch 187/200\n",
            "31/31 - 1s - loss: 0.4366 - accuracy: 0.8790 - val_loss: 1.8862 - val_accuracy: 0.4250\n",
            "Epoch 188/200\n",
            "31/31 - 1s - loss: 0.5663 - accuracy: 0.8306 - val_loss: 1.6336 - val_accuracy: 0.4875\n",
            "Epoch 189/200\n",
            "31/31 - 1s - loss: 0.3332 - accuracy: 0.8911 - val_loss: 2.2316 - val_accuracy: 0.4750\n",
            "Epoch 190/200\n",
            "31/31 - 1s - loss: 0.3924 - accuracy: 0.8750 - val_loss: 1.7812 - val_accuracy: 0.5750\n",
            "Epoch 191/200\n",
            "31/31 - 1s - loss: 0.3766 - accuracy: 0.8629 - val_loss: 2.7899 - val_accuracy: 0.4250\n",
            "Epoch 192/200\n",
            "31/31 - 1s - loss: 0.3298 - accuracy: 0.8911 - val_loss: 2.3489 - val_accuracy: 0.4250\n",
            "Epoch 193/200\n",
            "31/31 - 1s - loss: 0.3627 - accuracy: 0.8669 - val_loss: 3.6657 - val_accuracy: 0.4625\n",
            "Epoch 194/200\n",
            "31/31 - 1s - loss: 0.3536 - accuracy: 0.8871 - val_loss: 1.8387 - val_accuracy: 0.4125\n",
            "Epoch 195/200\n",
            "31/31 - 1s - loss: 0.3334 - accuracy: 0.8831 - val_loss: 1.8146 - val_accuracy: 0.4500\n",
            "Epoch 196/200\n",
            "31/31 - 1s - loss: 0.4713 - accuracy: 0.8548 - val_loss: 2.2570 - val_accuracy: 0.3875\n",
            "Epoch 197/200\n",
            "31/31 - 1s - loss: 0.2913 - accuracy: 0.9073 - val_loss: 3.1391 - val_accuracy: 0.4250\n",
            "Epoch 198/200\n",
            "31/31 - 1s - loss: 0.3846 - accuracy: 0.8911 - val_loss: 2.7385 - val_accuracy: 0.4750\n",
            "Epoch 199/200\n",
            "31/31 - 1s - loss: 0.3146 - accuracy: 0.8952 - val_loss: 2.0727 - val_accuracy: 0.4500\n",
            "Epoch 200/200\n",
            "31/31 - 1s - loss: 0.3421 - accuracy: 0.8952 - val_loss: 2.4829 - val_accuracy: 0.4500\n"
          ],
          "name": "stdout"
        }
      ]
    },
    {
      "cell_type": "code",
      "metadata": {
        "colab": {
          "base_uri": "https://localhost:8080/",
          "height": 295
        },
        "id": "mYvhljotb_TQ",
        "outputId": "d3012e22-a315-4a72-8e30-125ce69bf4d6"
      },
      "source": [
        "plot_hist(hist)"
      ],
      "execution_count": 49,
      "outputs": [
        {
          "output_type": "display_data",
          "data": {
            "image/png": "[encoded data removed]",
            "text/plain": [
              "<Figure size 432x288 with 1 Axes>"
            ]
          },
          "metadata": {
            "tags": [],
            "needs_background": "light"
          }
        }
      ]
    },
    {
      "cell_type": "code",
      "metadata": {
        "colab": {
          "base_uri": "https://localhost:8080/",
          "height": 1000
        },
        "id": "lYnKqD3Ha5mh",
        "outputId": "d360a7df-c26c-4e6c-9968-5757c3c95e81"
      },
      "source": [
        "inputs = layers.Input(shape=(w,h,3))\n",
        "x = img_augmentation(inputs)\n",
        "model = EfficientNetB0(include_top=False, \n",
        "                       input_tensor=x, \n",
        "                       weights=\"imagenet\")\n",
        "\n",
        "# Freeze the pretrained weights\n",
        "model.trainable = False\n",
        "\n",
        "# Rebuild top\n",
        "x = layers.GlobalAveragePooling2D(name=\"avg_pool\")(model.output)\n",
        "x = layers.BatchNormalization()(x)\n",
        "\n",
        "top_dropout_rate = 0.2\n",
        "x = layers.Dropout(top_dropout_rate, name=\"top_dropout\")(x)\n",
        "outputs = layers.Dense(num_classes, \n",
        "                       activation=\"softmax\", \n",
        "                       name=\"pred\")(x)\n",
        "\n",
        "# Compile\n",
        "model = tf.keras.Model(inputs, outputs, name=\"EfficientNet\")\n",
        "optimizer = tf.keras.optimizers.Adam(learning_rate=1e-2)\n",
        "model.compile(optimizer=optimizer, \n",
        "              loss=\"categorical_crossentropy\", \n",
        "              metrics=[\"accuracy\"])\n",
        "\n",
        "epochs = 25  # @param {type: \"slider\", min:8, max:80}\n",
        "hist = model.fit(batch_train_dataset,\n",
        "                 epochs=epochs,\n",
        "                 validation_data = batch_test_dataset,\n",
        "                 verbose=2)\n",
        "plot_hist(hist)"
      ],
      "execution_count": 50,
      "outputs": [
        {
          "output_type": "stream",
          "text": [
            "Downloading data from https://storage.googleapis.com/keras-applications/efficientnetb0_notop.h5\n",
            "16711680/16705208 [==============================] - 0s 0us/step\n",
            "Epoch 1/25\n",
            "31/31 - 6s - loss: 1.6716 - accuracy: 0.5806 - val_loss: 1.3044 - val_accuracy: 0.6750\n",
            "Epoch 2/25\n",
            "31/31 - 0s - loss: 1.1559 - accuracy: 0.7500 - val_loss: 0.8472 - val_accuracy: 0.7375\n",
            "Epoch 3/25\n",
            "31/31 - 0s - loss: 1.0152 - accuracy: 0.7944 - val_loss: 0.6722 - val_accuracy: 0.7500\n",
            "Epoch 4/25\n",
            "31/31 - 0s - loss: 0.5422 - accuracy: 0.8669 - val_loss: 0.8147 - val_accuracy: 0.7625\n",
            "Epoch 5/25\n",
            "31/31 - 0s - loss: 0.8095 - accuracy: 0.8226 - val_loss: 1.3448 - val_accuracy: 0.6625\n",
            "Epoch 6/25\n",
            "31/31 - 0s - loss: 0.8810 - accuracy: 0.8548 - val_loss: 0.9457 - val_accuracy: 0.8000\n",
            "Epoch 7/25\n",
            "31/31 - 0s - loss: 0.6960 - accuracy: 0.8468 - val_loss: 0.6879 - val_accuracy: 0.8500\n",
            "Epoch 8/25\n",
            "31/31 - 0s - loss: 0.7084 - accuracy: 0.8669 - val_loss: 0.6418 - val_accuracy: 0.8375\n",
            "Epoch 9/25\n",
            "31/31 - 0s - loss: 0.7967 - accuracy: 0.8548 - val_loss: 0.6615 - val_accuracy: 0.8125\n",
            "Epoch 10/25\n",
            "31/31 - 0s - loss: 0.8714 - accuracy: 0.8589 - val_loss: 0.9103 - val_accuracy: 0.8500\n",
            "Epoch 11/25\n",
            "31/31 - 0s - loss: 0.6802 - accuracy: 0.8508 - val_loss: 1.2997 - val_accuracy: 0.7625\n",
            "Epoch 12/25\n",
            "31/31 - 0s - loss: 0.9096 - accuracy: 0.8468 - val_loss: 1.7042 - val_accuracy: 0.8000\n",
            "Epoch 13/25\n",
            "31/31 - 0s - loss: 1.0000 - accuracy: 0.8468 - val_loss: 1.3143 - val_accuracy: 0.8625\n",
            "Epoch 14/25\n",
            "31/31 - 0s - loss: 0.7592 - accuracy: 0.8871 - val_loss: 1.3931 - val_accuracy: 0.8000\n",
            "Epoch 15/25\n",
            "31/31 - 0s - loss: 0.9962 - accuracy: 0.8750 - val_loss: 1.4407 - val_accuracy: 0.8250\n",
            "Epoch 16/25\n",
            "31/31 - 0s - loss: 1.0231 - accuracy: 0.8347 - val_loss: 1.6507 - val_accuracy: 0.8375\n",
            "Epoch 17/25\n",
            "31/31 - 0s - loss: 0.8517 - accuracy: 0.8508 - val_loss: 1.9749 - val_accuracy: 0.8250\n",
            "Epoch 18/25\n",
            "31/31 - 0s - loss: 0.9036 - accuracy: 0.8468 - val_loss: 1.7170 - val_accuracy: 0.8250\n",
            "Epoch 19/25\n",
            "31/31 - 0s - loss: 0.8196 - accuracy: 0.8468 - val_loss: 2.4011 - val_accuracy: 0.8250\n",
            "Epoch 20/25\n",
            "31/31 - 0s - loss: 1.1753 - accuracy: 0.8427 - val_loss: 2.2595 - val_accuracy: 0.7750\n",
            "Epoch 21/25\n",
            "31/31 - 0s - loss: 1.1826 - accuracy: 0.8790 - val_loss: 2.0778 - val_accuracy: 0.8000\n",
            "Epoch 22/25\n",
            "31/31 - 0s - loss: 0.9959 - accuracy: 0.8669 - val_loss: 2.5402 - val_accuracy: 0.7875\n",
            "Epoch 23/25\n",
            "31/31 - 0s - loss: 0.8048 - accuracy: 0.8710 - val_loss: 2.1564 - val_accuracy: 0.8000\n",
            "Epoch 24/25\n",
            "31/31 - 0s - loss: 0.8188 - accuracy: 0.8952 - val_loss: 2.6943 - val_accuracy: 0.7625\n",
            "Epoch 25/25\n",
            "31/31 - 0s - loss: 0.9410 - accuracy: 0.8871 - val_loss: 2.4438 - val_accuracy: 0.7750\n"
          ],
          "name": "stdout"
        },
        {
          "output_type": "display_data",
          "data": {
            "image/png": "[encoded data removed]",
            "text/plain": [
              "<Figure size 432x288 with 1 Axes>"
            ]
          },
          "metadata": {
            "tags": [],
            "needs_background": "light"
          }
        }
      ]
    },
    {
      "cell_type": "code",
      "metadata": {
        "colab": {
          "base_uri": "https://localhost:8080/"
        },
        "id": "P4nf4tC_bFdK",
        "outputId": "be675b96-87b8-4a49-999d-af3f6fa3a2a3"
      },
      "source": [
        "model.summary()"
      ],
      "execution_count": 51,
      "outputs": [
        {
          "output_type": "stream",
          "text": [
            "Model: \"EfficientNet\"\n",
            "__________________________________________________________________________________________________\n",
            "Layer (type)                    Output Shape         Param #     Connected to                     \n",
            "==================================================================================================\n",
            "input_8 (InputLayer)            [(None, 64, 64, 3)]  0                                            \n",
            "__________________________________________________________________________________________________\n",
            "img_augmentation (Sequential)   (None, 64, 64, 3)    0           input_8[0][0]                    \n",
            "__________________________________________________________________________________________________\n",
            "rescaling_2 (Rescaling)         (None, 64, 64, 3)    0           img_augmentation[1][0]           \n",
            "__________________________________________________________________________________________________\n",
            "normalization_2 (Normalization) (None, 64, 64, 3)    7           rescaling_2[0][0]                \n",
            "__________________________________________________________________________________________________\n",
            "stem_conv_pad (ZeroPadding2D)   (None, 65, 65, 3)    0           normalization_2[0][0]            \n",
            "__________________________________________________________________________________________________\n",
            "stem_conv (Conv2D)              (None, 32, 32, 32)   864         stem_conv_pad[0][0]              \n",
            "__________________________________________________________________________________________________\n",
            "stem_bn (BatchNormalization)    (None, 32, 32, 32)   128         stem_conv[0][0]                  \n",
            "__________________________________________________________________________________________________\n",
            "stem_activation (Activation)    (None, 32, 32, 32)   0           stem_bn[0][0]                    \n",
            "__________________________________________________________________________________________________\n",
            "block1a_dwconv (DepthwiseConv2D (None, 32, 32, 32)   288         stem_activation[0][0]            \n",
            "__________________________________________________________________________________________________\n",
            "block1a_bn (BatchNormalization) (None, 32, 32, 32)   128         block1a_dwconv[0][0]             \n",
            "__________________________________________________________________________________________________\n",
            "block1a_activation (Activation) (None, 32, 32, 32)   0           block1a_bn[0][0]                 \n",
            "__________________________________________________________________________________________________\n",
            "block1a_se_squeeze (GlobalAvera (None, 32)           0           block1a_activation[0][0]         \n",
            "__________________________________________________________________________________________________\n",
            "block1a_se_reshape (Reshape)    (None, 1, 1, 32)     0           block1a_se_squeeze[0][0]         \n",
            "__________________________________________________________________________________________________\n",
            "block1a_se_reduce (Conv2D)      (None, 1, 1, 8)      264         block1a_se_reshape[0][0]         \n",
            "__________________________________________________________________________________________________\n",
            "block1a_se_expand (Conv2D)      (None, 1, 1, 32)     288         block1a_se_reduce[0][0]          \n",
            "__________________________________________________________________________________________________\n",
            "block1a_se_excite (Multiply)    (None, 32, 32, 32)   0           block1a_activation[0][0]         \n",
            "                                                                 block1a_se_expand[0][0]          \n",
            "__________________________________________________________________________________________________\n",
            "block1a_project_conv (Conv2D)   (None, 32, 32, 16)   512         block1a_se_excite[0][0]          \n",
            "__________________________________________________________________________________________________\n",
            "block1a_project_bn (BatchNormal (None, 32, 32, 16)   64          block1a_project_conv[0][0]       \n",
            "__________________________________________________________________________________________________\n",
            "block2a_expand_conv (Conv2D)    (None, 32, 32, 96)   1536        block1a_project_bn[0][0]         \n",
            "__________________________________________________________________________________________________\n",
            "block2a_expand_bn (BatchNormali (None, 32, 32, 96)   384         block2a_expand_conv[0][0]        \n",
            "__________________________________________________________________________________________________\n",
            "block2a_expand_activation (Acti (None, 32, 32, 96)   0           block2a_expand_bn[0][0]          \n",
            "__________________________________________________________________________________________________\n",
            "block2a_dwconv_pad (ZeroPadding (None, 33, 33, 96)   0           block2a_expand_activation[0][0]  \n",
            "__________________________________________________________________________________________________\n",
            "block2a_dwconv (DepthwiseConv2D (None, 16, 16, 96)   864         block2a_dwconv_pad[0][0]         \n",
            "__________________________________________________________________________________________________\n",
            "block2a_bn (BatchNormalization) (None, 16, 16, 96)   384         block2a_dwconv[0][0]             \n",
            "__________________________________________________________________________________________________\n",
            "block2a_activation (Activation) (None, 16, 16, 96)   0           block2a_bn[0][0]                 \n",
            "__________________________________________________________________________________________________\n",
            "block2a_se_squeeze (GlobalAvera (None, 96)           0           block2a_activation[0][0]         \n",
            "__________________________________________________________________________________________________\n",
            "block2a_se_reshape (Reshape)    (None, 1, 1, 96)     0           block2a_se_squeeze[0][0]         \n",
            "__________________________________________________________________________________________________\n",
            "block2a_se_reduce (Conv2D)      (None, 1, 1, 4)      388         block2a_se_reshape[0][0]         \n",
            "__________________________________________________________________________________________________\n",
            "block2a_se_expand (Conv2D)      (None, 1, 1, 96)     480         block2a_se_reduce[0][0]          \n",
            "__________________________________________________________________________________________________\n",
            "block2a_se_excite (Multiply)    (None, 16, 16, 96)   0           block2a_activation[0][0]         \n",
            "                                                                 block2a_se_expand[0][0]          \n",
            "__________________________________________________________________________________________________\n",
            "block2a_project_conv (Conv2D)   (None, 16, 16, 24)   2304        block2a_se_excite[0][0]          \n",
            "__________________________________________________________________________________________________\n",
            "block2a_project_bn (BatchNormal (None, 16, 16, 24)   96          block2a_project_conv[0][0]       \n",
            "__________________________________________________________________________________________________\n",
            "block2b_expand_conv (Conv2D)    (None, 16, 16, 144)  3456        block2a_project_bn[0][0]         \n",
            "__________________________________________________________________________________________________\n",
            "block2b_expand_bn (BatchNormali (None, 16, 16, 144)  576         block2b_expand_conv[0][0]        \n",
            "__________________________________________________________________________________________________\n",
            "block2b_expand_activation (Acti (None, 16, 16, 144)  0           block2b_expand_bn[0][0]          \n",
            "__________________________________________________________________________________________________\n",
            "block2b_dwconv (DepthwiseConv2D (None, 16, 16, 144)  1296        block2b_expand_activation[0][0]  \n",
            "__________________________________________________________________________________________________\n",
            "block2b_bn (BatchNormalization) (None, 16, 16, 144)  576         block2b_dwconv[0][0]             \n",
            "__________________________________________________________________________________________________\n",
            "block2b_activation (Activation) (None, 16, 16, 144)  0           block2b_bn[0][0]                 \n",
            "__________________________________________________________________________________________________\n",
            "block2b_se_squeeze (GlobalAvera (None, 144)          0           block2b_activation[0][0]         \n",
            "__________________________________________________________________________________________________\n",
            "block2b_se_reshape (Reshape)    (None, 1, 1, 144)    0           block2b_se_squeeze[0][0]         \n",
            "__________________________________________________________________________________________________\n",
            "block2b_se_reduce (Conv2D)      (None, 1, 1, 6)      870         block2b_se_reshape[0][0]         \n",
            "__________________________________________________________________________________________________\n",
            "block2b_se_expand (Conv2D)      (None, 1, 1, 144)    1008        block2b_se_reduce[0][0]          \n",
            "__________________________________________________________________________________________________\n",
            "block2b_se_excite (Multiply)    (None, 16, 16, 144)  0           block2b_activation[0][0]         \n",
            "                                                                 block2b_se_expand[0][0]          \n",
            "__________________________________________________________________________________________________\n",
            "block2b_project_conv (Conv2D)   (None, 16, 16, 24)   3456        block2b_se_excite[0][0]          \n",
            "__________________________________________________________________________________________________\n",
            "block2b_project_bn (BatchNormal (None, 16, 16, 24)   96          block2b_project_conv[0][0]       \n",
            "__________________________________________________________________________________________________\n",
            "block2b_drop (Dropout)          (None, 16, 16, 24)   0           block2b_project_bn[0][0]         \n",
            "__________________________________________________________________________________________________\n",
            "block2b_add (Add)               (None, 16, 16, 24)   0           block2b_drop[0][0]               \n",
            "                                                                 block2a_project_bn[0][0]         \n",
            "__________________________________________________________________________________________________\n",
            "block3a_expand_conv (Conv2D)    (None, 16, 16, 144)  3456        block2b_add[0][0]                \n",
            "__________________________________________________________________________________________________\n",
            "block3a_expand_bn (BatchNormali (None, 16, 16, 144)  576         block3a_expand_conv[0][0]        \n",
            "__________________________________________________________________________________________________\n",
            "block3a_expand_activation (Acti (None, 16, 16, 144)  0           block3a_expand_bn[0][0]          \n",
            "__________________________________________________________________________________________________\n",
            "block3a_dwconv_pad (ZeroPadding (None, 19, 19, 144)  0           block3a_expand_activation[0][0]  \n",
            "__________________________________________________________________________________________________\n",
            "block3a_dwconv (DepthwiseConv2D (None, 8, 8, 144)    3600        block3a_dwconv_pad[0][0]         \n",
            "__________________________________________________________________________________________________\n",
            "block3a_bn (BatchNormalization) (None, 8, 8, 144)    576         block3a_dwconv[0][0]             \n",
            "__________________________________________________________________________________________________\n",
            "block3a_activation (Activation) (None, 8, 8, 144)    0           block3a_bn[0][0]                 \n",
            "__________________________________________________________________________________________________\n",
            "block3a_se_squeeze (GlobalAvera (None, 144)          0           block3a_activation[0][0]         \n",
            "__________________________________________________________________________________________________\n",
            "block3a_se_reshape (Reshape)    (None, 1, 1, 144)    0           block3a_se_squeeze[0][0]         \n",
            "__________________________________________________________________________________________________\n",
            "block3a_se_reduce (Conv2D)      (None, 1, 1, 6)      870         block3a_se_reshape[0][0]         \n",
            "__________________________________________________________________________________________________\n",
            "block3a_se_expand (Conv2D)      (None, 1, 1, 144)    1008        block3a_se_reduce[0][0]          \n",
            "__________________________________________________________________________________________________\n",
            "block3a_se_excite (Multiply)    (None, 8, 8, 144)    0           block3a_activation[0][0]         \n",
            "                                                                 block3a_se_expand[0][0]          \n",
            "__________________________________________________________________________________________________\n",
            "block3a_project_conv (Conv2D)   (None, 8, 8, 40)     5760        block3a_se_excite[0][0]          \n",
            "__________________________________________________________________________________________________\n",
            "block3a_project_bn (BatchNormal (None, 8, 8, 40)     160         block3a_project_conv[0][0]       \n",
            "__________________________________________________________________________________________________\n",
            "block3b_expand_conv (Conv2D)    (None, 8, 8, 240)    9600        block3a_project_bn[0][0]         \n",
            "__________________________________________________________________________________________________\n",
            "block3b_expand_bn (BatchNormali (None, 8, 8, 240)    960         block3b_expand_conv[0][0]        \n",
            "__________________________________________________________________________________________________\n",
            "block3b_expand_activation (Acti (None, 8, 8, 240)    0           block3b_expand_bn[0][0]          \n",
            "__________________________________________________________________________________________________\n",
            "block3b_dwconv (DepthwiseConv2D (None, 8, 8, 240)    6000        block3b_expand_activation[0][0]  \n",
            "__________________________________________________________________________________________________\n",
            "block3b_bn (BatchNormalization) (None, 8, 8, 240)    960         block3b_dwconv[0][0]             \n",
            "__________________________________________________________________________________________________\n",
            "block3b_activation (Activation) (None, 8, 8, 240)    0           block3b_bn[0][0]                 \n",
            "__________________________________________________________________________________________________\n",
            "block3b_se_squeeze (GlobalAvera (None, 240)          0           block3b_activation[0][0]         \n",
            "__________________________________________________________________________________________________\n",
            "block3b_se_reshape (Reshape)    (None, 1, 1, 240)    0           block3b_se_squeeze[0][0]         \n",
            "__________________________________________________________________________________________________\n",
            "block3b_se_reduce (Conv2D)      (None, 1, 1, 10)     2410        block3b_se_reshape[0][0]         \n",
            "__________________________________________________________________________________________________\n",
            "block3b_se_expand (Conv2D)      (None, 1, 1, 240)    2640        block3b_se_reduce[0][0]          \n",
            "__________________________________________________________________________________________________\n",
            "block3b_se_excite (Multiply)    (None, 8, 8, 240)    0           block3b_activation[0][0]         \n",
            "                                                                 block3b_se_expand[0][0]          \n",
            "__________________________________________________________________________________________________\n",
            "block3b_project_conv (Conv2D)   (None, 8, 8, 40)     9600        block3b_se_excite[0][0]          \n",
            "__________________________________________________________________________________________________\n",
            "block3b_project_bn (BatchNormal (None, 8, 8, 40)     160         block3b_project_conv[0][0]       \n",
            "__________________________________________________________________________________________________\n",
            "block3b_drop (Dropout)          (None, 8, 8, 40)     0           block3b_project_bn[0][0]         \n",
            "__________________________________________________________________________________________________\n",
            "block3b_add (Add)               (None, 8, 8, 40)     0           block3b_drop[0][0]               \n",
            "                                                                 block3a_project_bn[0][0]         \n",
            "__________________________________________________________________________________________________\n",
            "block4a_expand_conv (Conv2D)    (None, 8, 8, 240)    9600        block3b_add[0][0]                \n",
            "__________________________________________________________________________________________________\n",
            "block4a_expand_bn (BatchNormali (None, 8, 8, 240)    960         block4a_expand_conv[0][0]        \n",
            "__________________________________________________________________________________________________\n",
            "block4a_expand_activation (Acti (None, 8, 8, 240)    0           block4a_expand_bn[0][0]          \n",
            "__________________________________________________________________________________________________\n",
            "block4a_dwconv_pad (ZeroPadding (None, 9, 9, 240)    0           block4a_expand_activation[0][0]  \n",
            "__________________________________________________________________________________________________\n",
            "block4a_dwconv (DepthwiseConv2D (None, 4, 4, 240)    2160        block4a_dwconv_pad[0][0]         \n",
            "__________________________________________________________________________________________________\n",
            "block4a_bn (BatchNormalization) (None, 4, 4, 240)    960         block4a_dwconv[0][0]             \n",
            "__________________________________________________________________________________________________\n",
            "block4a_activation (Activation) (None, 4, 4, 240)    0           block4a_bn[0][0]                 \n",
            "__________________________________________________________________________________________________\n",
            "block4a_se_squeeze (GlobalAvera (None, 240)          0           block4a_activation[0][0]         \n",
            "__________________________________________________________________________________________________\n",
            "block4a_se_reshape (Reshape)    (None, 1, 1, 240)    0           block4a_se_squeeze[0][0]         \n",
            "__________________________________________________________________________________________________\n",
            "block4a_se_reduce (Conv2D)      (None, 1, 1, 10)     2410        block4a_se_reshape[0][0]         \n",
            "__________________________________________________________________________________________________\n",
            "block4a_se_expand (Conv2D)      (None, 1, 1, 240)    2640        block4a_se_reduce[0][0]          \n",
            "__________________________________________________________________________________________________\n",
            "block4a_se_excite (Multiply)    (None, 4, 4, 240)    0           block4a_activation[0][0]         \n",
            "                                                                 block4a_se_expand[0][0]          \n",
            "__________________________________________________________________________________________________\n",
            "block4a_project_conv (Conv2D)   (None, 4, 4, 80)     19200       block4a_se_excite[0][0]          \n",
            "__________________________________________________________________________________________________\n",
            "block4a_project_bn (BatchNormal (None, 4, 4, 80)     320         block4a_project_conv[0][0]       \n",
            "__________________________________________________________________________________________________\n",
            "block4b_expand_conv (Conv2D)    (None, 4, 4, 480)    38400       block4a_project_bn[0][0]         \n",
            "__________________________________________________________________________________________________\n",
            "block4b_expand_bn (BatchNormali (None, 4, 4, 480)    1920        block4b_expand_conv[0][0]        \n",
            "__________________________________________________________________________________________________\n",
            "block4b_expand_activation (Acti (None, 4, 4, 480)    0           block4b_expand_bn[0][0]          \n",
            "__________________________________________________________________________________________________\n",
            "block4b_dwconv (DepthwiseConv2D (None, 4, 4, 480)    4320        block4b_expand_activation[0][0]  \n",
            "__________________________________________________________________________________________________\n",
            "block4b_bn (BatchNormalization) (None, 4, 4, 480)    1920        block4b_dwconv[0][0]             \n",
            "__________________________________________________________________________________________________\n",
            "block4b_activation (Activation) (None, 4, 4, 480)    0           block4b_bn[0][0]                 \n",
            "__________________________________________________________________________________________________\n",
            "block4b_se_squeeze (GlobalAvera (None, 480)          0           block4b_activation[0][0]         \n",
            "__________________________________________________________________________________________________\n",
            "block4b_se_reshape (Reshape)    (None, 1, 1, 480)    0           block4b_se_squeeze[0][0]         \n",
            "__________________________________________________________________________________________________\n",
            "block4b_se_reduce (Conv2D)      (None, 1, 1, 20)     9620        block4b_se_reshape[0][0]         \n",
            "__________________________________________________________________________________________________\n",
            "block4b_se_expand (Conv2D)      (None, 1, 1, 480)    10080       block4b_se_reduce[0][0]          \n",
            "__________________________________________________________________________________________________\n",
            "block4b_se_excite (Multiply)    (None, 4, 4, 480)    0           block4b_activation[0][0]         \n",
            "                                                                 block4b_se_expand[0][0]          \n",
            "__________________________________________________________________________________________________\n",
            "block4b_project_conv (Conv2D)   (None, 4, 4, 80)     38400       block4b_se_excite[0][0]          \n",
            "__________________________________________________________________________________________________\n",
            "block4b_project_bn (BatchNormal (None, 4, 4, 80)     320         block4b_project_conv[0][0]       \n",
            "__________________________________________________________________________________________________\n",
            "block4b_drop (Dropout)          (None, 4, 4, 80)     0           block4b_project_bn[0][0]         \n",
            "__________________________________________________________________________________________________\n",
            "block4b_add (Add)               (None, 4, 4, 80)     0           block4b_drop[0][0]               \n",
            "                                                                 block4a_project_bn[0][0]         \n",
            "__________________________________________________________________________________________________\n",
            "block4c_expand_conv (Conv2D)    (None, 4, 4, 480)    38400       block4b_add[0][0]                \n",
            "__________________________________________________________________________________________________\n",
            "block4c_expand_bn (BatchNormali (None, 4, 4, 480)    1920        block4c_expand_conv[0][0]        \n",
            "__________________________________________________________________________________________________\n",
            "block4c_expand_activation (Acti (None, 4, 4, 480)    0           block4c_expand_bn[0][0]          \n",
            "__________________________________________________________________________________________________\n",
            "block4c_dwconv (DepthwiseConv2D (None, 4, 4, 480)    4320        block4c_expand_activation[0][0]  \n",
            "__________________________________________________________________________________________________\n",
            "block4c_bn (BatchNormalization) (None, 4, 4, 480)    1920        block4c_dwconv[0][0]             \n",
            "__________________________________________________________________________________________________\n",
            "block4c_activation (Activation) (None, 4, 4, 480)    0           block4c_bn[0][0]                 \n",
            "__________________________________________________________________________________________________\n",
            "block4c_se_squeeze (GlobalAvera (None, 480)          0           block4c_activation[0][0]         \n",
            "__________________________________________________________________________________________________\n",
            "block4c_se_reshape (Reshape)    (None, 1, 1, 480)    0           block4c_se_squeeze[0][0]         \n",
            "__________________________________________________________________________________________________\n",
            "block4c_se_reduce (Conv2D)      (None, 1, 1, 20)     9620        block4c_se_reshape[0][0]         \n",
            "__________________________________________________________________________________________________\n",
            "block4c_se_expand (Conv2D)      (None, 1, 1, 480)    10080       block4c_se_reduce[0][0]          \n",
            "__________________________________________________________________________________________________\n",
            "block4c_se_excite (Multiply)    (None, 4, 4, 480)    0           block4c_activation[0][0]         \n",
            "                                                                 block4c_se_expand[0][0]          \n",
            "__________________________________________________________________________________________________\n",
            "block4c_project_conv (Conv2D)   (None, 4, 4, 80)     38400       block4c_se_excite[0][0]          \n",
            "__________________________________________________________________________________________________\n",
            "block4c_project_bn (BatchNormal (None, 4, 4, 80)     320         block4c_project_conv[0][0]       \n",
            "__________________________________________________________________________________________________\n",
            "block4c_drop (Dropout)          (None, 4, 4, 80)     0           block4c_project_bn[0][0]         \n",
            "__________________________________________________________________________________________________\n",
            "block4c_add (Add)               (None, 4, 4, 80)     0           block4c_drop[0][0]               \n",
            "                                                                 block4b_add[0][0]                \n",
            "__________________________________________________________________________________________________\n",
            "block5a_expand_conv (Conv2D)    (None, 4, 4, 480)    38400       block4c_add[0][0]                \n",
            "__________________________________________________________________________________________________\n",
            "block5a_expand_bn (BatchNormali (None, 4, 4, 480)    1920        block5a_expand_conv[0][0]        \n",
            "__________________________________________________________________________________________________\n",
            "block5a_expand_activation (Acti (None, 4, 4, 480)    0           block5a_expand_bn[0][0]          \n",
            "__________________________________________________________________________________________________\n",
            "block5a_dwconv (DepthwiseConv2D (None, 4, 4, 480)    12000       block5a_expand_activation[0][0]  \n",
            "__________________________________________________________________________________________________\n",
            "block5a_bn (BatchNormalization) (None, 4, 4, 480)    1920        block5a_dwconv[0][0]             \n",
            "__________________________________________________________________________________________________\n",
            "block5a_activation (Activation) (None, 4, 4, 480)    0           block5a_bn[0][0]                 \n",
            "__________________________________________________________________________________________________\n",
            "block5a_se_squeeze (GlobalAvera (None, 480)          0           block5a_activation[0][0]         \n",
            "__________________________________________________________________________________________________\n",
            "block5a_se_reshape (Reshape)    (None, 1, 1, 480)    0           block5a_se_squeeze[0][0]         \n",
            "__________________________________________________________________________________________________\n",
            "block5a_se_reduce (Conv2D)      (None, 1, 1, 20)     9620        block5a_se_reshape[0][0]         \n",
            "__________________________________________________________________________________________________\n",
            "block5a_se_expand (Conv2D)      (None, 1, 1, 480)    10080       block5a_se_reduce[0][0]          \n",
            "__________________________________________________________________________________________________\n",
            "block5a_se_excite (Multiply)    (None, 4, 4, 480)    0           block5a_activation[0][0]         \n",
            "                                                                 block5a_se_expand[0][0]          \n",
            "__________________________________________________________________________________________________\n",
            "block5a_project_conv (Conv2D)   (None, 4, 4, 112)    53760       block5a_se_excite[0][0]          \n",
            "__________________________________________________________________________________________________\n",
            "block5a_project_bn (BatchNormal (None, 4, 4, 112)    448         block5a_project_conv[0][0]       \n",
            "__________________________________________________________________________________________________\n",
            "block5b_expand_conv (Conv2D)    (None, 4, 4, 672)    75264       block5a_project_bn[0][0]         \n",
            "__________________________________________________________________________________________________\n",
            "block5b_expand_bn (BatchNormali (None, 4, 4, 672)    2688        block5b_expand_conv[0][0]        \n",
            "__________________________________________________________________________________________________\n",
            "block5b_expand_activation (Acti (None, 4, 4, 672)    0           block5b_expand_bn[0][0]          \n",
            "__________________________________________________________________________________________________\n",
            "block5b_dwconv (DepthwiseConv2D (None, 4, 4, 672)    16800       block5b_expand_activation[0][0]  \n",
            "__________________________________________________________________________________________________\n",
            "block5b_bn (BatchNormalization) (None, 4, 4, 672)    2688        block5b_dwconv[0][0]             \n",
            "__________________________________________________________________________________________________\n",
            "block5b_activation (Activation) (None, 4, 4, 672)    0           block5b_bn[0][0]                 \n",
            "__________________________________________________________________________________________________\n",
            "block5b_se_squeeze (GlobalAvera (None, 672)          0           block5b_activation[0][0]         \n",
            "__________________________________________________________________________________________________\n",
            "block5b_se_reshape (Reshape)    (None, 1, 1, 672)    0           block5b_se_squeeze[0][0]         \n",
            "__________________________________________________________________________________________________\n",
            "block5b_se_reduce (Conv2D)      (None, 1, 1, 28)     18844       block5b_se_reshape[0][0]         \n",
            "__________________________________________________________________________________________________\n",
            "block5b_se_expand (Conv2D)      (None, 1, 1, 672)    19488       block5b_se_reduce[0][0]          \n",
            "__________________________________________________________________________________________________\n",
            "block5b_se_excite (Multiply)    (None, 4, 4, 672)    0           block5b_activation[0][0]         \n",
            "                                                                 block5b_se_expand[0][0]          \n",
            "__________________________________________________________________________________________________\n",
            "block5b_project_conv (Conv2D)   (None, 4, 4, 112)    75264       block5b_se_excite[0][0]          \n",
            "__________________________________________________________________________________________________\n",
            "block5b_project_bn (BatchNormal (None, 4, 4, 112)    448         block5b_project_conv[0][0]       \n",
            "__________________________________________________________________________________________________\n",
            "block5b_drop (Dropout)          (None, 4, 4, 112)    0           block5b_project_bn[0][0]         \n",
            "__________________________________________________________________________________________________\n",
            "block5b_add (Add)               (None, 4, 4, 112)    0           block5b_drop[0][0]               \n",
            "                                                                 block5a_project_bn[0][0]         \n",
            "__________________________________________________________________________________________________\n",
            "block5c_expand_conv (Conv2D)    (None, 4, 4, 672)    75264       block5b_add[0][0]                \n",
            "__________________________________________________________________________________________________\n",
            "block5c_expand_bn (BatchNormali (None, 4, 4, 672)    2688        block5c_expand_conv[0][0]        \n",
            "__________________________________________________________________________________________________\n",
            "block5c_expand_activation (Acti (None, 4, 4, 672)    0           block5c_expand_bn[0][0]          \n",
            "__________________________________________________________________________________________________\n",
            "block5c_dwconv (DepthwiseConv2D (None, 4, 4, 672)    16800       block5c_expand_activation[0][0]  \n",
            "__________________________________________________________________________________________________\n",
            "block5c_bn (BatchNormalization) (None, 4, 4, 672)    2688        block5c_dwconv[0][0]             \n",
            "__________________________________________________________________________________________________\n",
            "block5c_activation (Activation) (None, 4, 4, 672)    0           block5c_bn[0][0]                 \n",
            "__________________________________________________________________________________________________\n",
            "block5c_se_squeeze (GlobalAvera (None, 672)          0           block5c_activation[0][0]         \n",
            "__________________________________________________________________________________________________\n",
            "block5c_se_reshape (Reshape)    (None, 1, 1, 672)    0           block5c_se_squeeze[0][0]         \n",
            "__________________________________________________________________________________________________\n",
            "block5c_se_reduce (Conv2D)      (None, 1, 1, 28)     18844       block5c_se_reshape[0][0]         \n",
            "__________________________________________________________________________________________________\n",
            "block5c_se_expand (Conv2D)      (None, 1, 1, 672)    19488       block5c_se_reduce[0][0]          \n",
            "__________________________________________________________________________________________________\n",
            "block5c_se_excite (Multiply)    (None, 4, 4, 672)    0           block5c_activation[0][0]         \n",
            "                                                                 block5c_se_expand[0][0]          \n",
            "__________________________________________________________________________________________________\n",
            "block5c_project_conv (Conv2D)   (None, 4, 4, 112)    75264       block5c_se_excite[0][0]          \n",
            "__________________________________________________________________________________________________\n",
            "block5c_project_bn (BatchNormal (None, 4, 4, 112)    448         block5c_project_conv[0][0]       \n",
            "__________________________________________________________________________________________________\n",
            "block5c_drop (Dropout)          (None, 4, 4, 112)    0           block5c_project_bn[0][0]         \n",
            "__________________________________________________________________________________________________\n",
            "block5c_add (Add)               (None, 4, 4, 112)    0           block5c_drop[0][0]               \n",
            "                                                                 block5b_add[0][0]                \n",
            "__________________________________________________________________________________________________\n",
            "block6a_expand_conv (Conv2D)    (None, 4, 4, 672)    75264       block5c_add[0][0]                \n",
            "__________________________________________________________________________________________________\n",
            "block6a_expand_bn (BatchNormali (None, 4, 4, 672)    2688        block6a_expand_conv[0][0]        \n",
            "__________________________________________________________________________________________________\n",
            "block6a_expand_activation (Acti (None, 4, 4, 672)    0           block6a_expand_bn[0][0]          \n",
            "__________________________________________________________________________________________________\n",
            "block6a_dwconv_pad (ZeroPadding (None, 7, 7, 672)    0           block6a_expand_activation[0][0]  \n",
            "__________________________________________________________________________________________________\n",
            "block6a_dwconv (DepthwiseConv2D (None, 2, 2, 672)    16800       block6a_dwconv_pad[0][0]         \n",
            "__________________________________________________________________________________________________\n",
            "block6a_bn (BatchNormalization) (None, 2, 2, 672)    2688        block6a_dwconv[0][0]             \n",
            "__________________________________________________________________________________________________\n",
            "block6a_activation (Activation) (None, 2, 2, 672)    0           block6a_bn[0][0]                 \n",
            "__________________________________________________________________________________________________\n",
            "block6a_se_squeeze (GlobalAvera (None, 672)          0           block6a_activation[0][0]         \n",
            "__________________________________________________________________________________________________\n",
            "block6a_se_reshape (Reshape)    (None, 1, 1, 672)    0           block6a_se_squeeze[0][0]         \n",
            "__________________________________________________________________________________________________\n",
            "block6a_se_reduce (Conv2D)      (None, 1, 1, 28)     18844       block6a_se_reshape[0][0]         \n",
            "__________________________________________________________________________________________________\n",
            "block6a_se_expand (Conv2D)      (None, 1, 1, 672)    19488       block6a_se_reduce[0][0]          \n",
            "__________________________________________________________________________________________________\n",
            "block6a_se_excite (Multiply)    (None, 2, 2, 672)    0           block6a_activation[0][0]         \n",
            "                                                                 block6a_se_expand[0][0]          \n",
            "__________________________________________________________________________________________________\n",
            "block6a_project_conv (Conv2D)   (None, 2, 2, 192)    129024      block6a_se_excite[0][0]          \n",
            "__________________________________________________________________________________________________\n",
            "block6a_project_bn (BatchNormal (None, 2, 2, 192)    768         block6a_project_conv[0][0]       \n",
            "__________________________________________________________________________________________________\n",
            "block6b_expand_conv (Conv2D)    (None, 2, 2, 1152)   221184      block6a_project_bn[0][0]         \n",
            "__________________________________________________________________________________________________\n",
            "block6b_expand_bn (BatchNormali (None, 2, 2, 1152)   4608        block6b_expand_conv[0][0]        \n",
            "__________________________________________________________________________________________________\n",
            "block6b_expand_activation (Acti (None, 2, 2, 1152)   0           block6b_expand_bn[0][0]          \n",
            "__________________________________________________________________________________________________\n",
            "block6b_dwconv (DepthwiseConv2D (None, 2, 2, 1152)   28800       block6b_expand_activation[0][0]  \n",
            "__________________________________________________________________________________________________\n",
            "block6b_bn (BatchNormalization) (None, 2, 2, 1152)   4608        block6b_dwconv[0][0]             \n",
            "__________________________________________________________________________________________________\n",
            "block6b_activation (Activation) (None, 2, 2, 1152)   0           block6b_bn[0][0]                 \n",
            "__________________________________________________________________________________________________\n",
            "block6b_se_squeeze (GlobalAvera (None, 1152)         0           block6b_activation[0][0]         \n",
            "__________________________________________________________________________________________________\n",
            "block6b_se_reshape (Reshape)    (None, 1, 1, 1152)   0           block6b_se_squeeze[0][0]         \n",
            "__________________________________________________________________________________________________\n",
            "block6b_se_reduce (Conv2D)      (None, 1, 1, 48)     55344       block6b_se_reshape[0][0]         \n",
            "__________________________________________________________________________________________________\n",
            "block6b_se_expand (Conv2D)      (None, 1, 1, 1152)   56448       block6b_se_reduce[0][0]          \n",
            "__________________________________________________________________________________________________\n",
            "block6b_se_excite (Multiply)    (None, 2, 2, 1152)   0           block6b_activation[0][0]         \n",
            "                                                                 block6b_se_expand[0][0]          \n",
            "__________________________________________________________________________________________________\n",
            "block6b_project_conv (Conv2D)   (None, 2, 2, 192)    221184      block6b_se_excite[0][0]          \n",
            "__________________________________________________________________________________________________\n",
            "block6b_project_bn (BatchNormal (None, 2, 2, 192)    768         block6b_project_conv[0][0]       \n",
            "__________________________________________________________________________________________________\n",
            "block6b_drop (Dropout)          (None, 2, 2, 192)    0           block6b_project_bn[0][0]         \n",
            "__________________________________________________________________________________________________\n",
            "block6b_add (Add)               (None, 2, 2, 192)    0           block6b_drop[0][0]               \n",
            "                                                                 block6a_project_bn[0][0]         \n",
            "__________________________________________________________________________________________________\n",
            "block6c_expand_conv (Conv2D)    (None, 2, 2, 1152)   221184      block6b_add[0][0]                \n",
            "__________________________________________________________________________________________________\n",
            "block6c_expand_bn (BatchNormali (None, 2, 2, 1152)   4608        block6c_expand_conv[0][0]        \n",
            "__________________________________________________________________________________________________\n",
            "block6c_expand_activation (Acti (None, 2, 2, 1152)   0           block6c_expand_bn[0][0]          \n",
            "__________________________________________________________________________________________________\n",
            "block6c_dwconv (DepthwiseConv2D (None, 2, 2, 1152)   28800       block6c_expand_activation[0][0]  \n",
            "__________________________________________________________________________________________________\n",
            "block6c_bn (BatchNormalization) (None, 2, 2, 1152)   4608        block6c_dwconv[0][0]             \n",
            "__________________________________________________________________________________________________\n",
            "block6c_activation (Activation) (None, 2, 2, 1152)   0           block6c_bn[0][0]                 \n",
            "__________________________________________________________________________________________________\n",
            "block6c_se_squeeze (GlobalAvera (None, 1152)         0           block6c_activation[0][0]         \n",
            "__________________________________________________________________________________________________\n",
            "block6c_se_reshape (Reshape)    (None, 1, 1, 1152)   0           block6c_se_squeeze[0][0]         \n",
            "__________________________________________________________________________________________________\n",
            "block6c_se_reduce (Conv2D)      (None, 1, 1, 48)     55344       block6c_se_reshape[0][0]         \n",
            "__________________________________________________________________________________________________\n",
            "block6c_se_expand (Conv2D)      (None, 1, 1, 1152)   56448       block6c_se_reduce[0][0]          \n",
            "__________________________________________________________________________________________________\n",
            "block6c_se_excite (Multiply)    (None, 2, 2, 1152)   0           block6c_activation[0][0]         \n",
            "                                                                 block6c_se_expand[0][0]          \n",
            "__________________________________________________________________________________________________\n",
            "block6c_project_conv (Conv2D)   (None, 2, 2, 192)    221184      block6c_se_excite[0][0]          \n",
            "__________________________________________________________________________________________________\n",
            "block6c_project_bn (BatchNormal (None, 2, 2, 192)    768         block6c_project_conv[0][0]       \n",
            "__________________________________________________________________________________________________\n",
            "block6c_drop (Dropout)          (None, 2, 2, 192)    0           block6c_project_bn[0][0]         \n",
            "__________________________________________________________________________________________________\n",
            "block6c_add (Add)               (None, 2, 2, 192)    0           block6c_drop[0][0]               \n",
            "                                                                 block6b_add[0][0]                \n",
            "__________________________________________________________________________________________________\n",
            "block6d_expand_conv (Conv2D)    (None, 2, 2, 1152)   221184      block6c_add[0][0]                \n",
            "__________________________________________________________________________________________________\n",
            "block6d_expand_bn (BatchNormali (None, 2, 2, 1152)   4608        block6d_expand_conv[0][0]        \n",
            "__________________________________________________________________________________________________\n",
            "block6d_expand_activation (Acti (None, 2, 2, 1152)   0           block6d_expand_bn[0][0]          \n",
            "__________________________________________________________________________________________________\n",
            "block6d_dwconv (DepthwiseConv2D (None, 2, 2, 1152)   28800       block6d_expand_activation[0][0]  \n",
            "__________________________________________________________________________________________________\n",
            "block6d_bn (BatchNormalization) (None, 2, 2, 1152)   4608        block6d_dwconv[0][0]             \n",
            "__________________________________________________________________________________________________\n",
            "block6d_activation (Activation) (None, 2, 2, 1152)   0           block6d_bn[0][0]                 \n",
            "__________________________________________________________________________________________________\n",
            "block6d_se_squeeze (GlobalAvera (None, 1152)         0           block6d_activation[0][0]         \n",
            "__________________________________________________________________________________________________\n",
            "block6d_se_reshape (Reshape)    (None, 1, 1, 1152)   0           block6d_se_squeeze[0][0]         \n",
            "__________________________________________________________________________________________________\n",
            "block6d_se_reduce (Conv2D)      (None, 1, 1, 48)     55344       block6d_se_reshape[0][0]         \n",
            "__________________________________________________________________________________________________\n",
            "block6d_se_expand (Conv2D)      (None, 1, 1, 1152)   56448       block6d_se_reduce[0][0]          \n",
            "__________________________________________________________________________________________________\n",
            "block6d_se_excite (Multiply)    (None, 2, 2, 1152)   0           block6d_activation[0][0]         \n",
            "                                                                 block6d_se_expand[0][0]          \n",
            "__________________________________________________________________________________________________\n",
            "block6d_project_conv (Conv2D)   (None, 2, 2, 192)    221184      block6d_se_excite[0][0]          \n",
            "__________________________________________________________________________________________________\n",
            "block6d_project_bn (BatchNormal (None, 2, 2, 192)    768         block6d_project_conv[0][0]       \n",
            "__________________________________________________________________________________________________\n",
            "block6d_drop (Dropout)          (None, 2, 2, 192)    0           block6d_project_bn[0][0]         \n",
            "__________________________________________________________________________________________________\n",
            "block6d_add (Add)               (None, 2, 2, 192)    0           block6d_drop[0][0]               \n",
            "                                                                 block6c_add[0][0]                \n",
            "__________________________________________________________________________________________________\n",
            "block7a_expand_conv (Conv2D)    (None, 2, 2, 1152)   221184      block6d_add[0][0]                \n",
            "__________________________________________________________________________________________________\n",
            "block7a_expand_bn (BatchNormali (None, 2, 2, 1152)   4608        block7a_expand_conv[0][0]        \n",
            "__________________________________________________________________________________________________\n",
            "block7a_expand_activation (Acti (None, 2, 2, 1152)   0           block7a_expand_bn[0][0]          \n",
            "__________________________________________________________________________________________________\n",
            "block7a_dwconv (DepthwiseConv2D (None, 2, 2, 1152)   10368       block7a_expand_activation[0][0]  \n",
            "__________________________________________________________________________________________________\n",
            "block7a_bn (BatchNormalization) (None, 2, 2, 1152)   4608        block7a_dwconv[0][0]             \n",
            "__________________________________________________________________________________________________\n",
            "block7a_activation (Activation) (None, 2, 2, 1152)   0           block7a_bn[0][0]                 \n",
            "__________________________________________________________________________________________________\n",
            "block7a_se_squeeze (GlobalAvera (None, 1152)         0           block7a_activation[0][0]         \n",
            "__________________________________________________________________________________________________\n",
            "block7a_se_reshape (Reshape)    (None, 1, 1, 1152)   0           block7a_se_squeeze[0][0]         \n",
            "__________________________________________________________________________________________________\n",
            "block7a_se_reduce (Conv2D)      (None, 1, 1, 48)     55344       block7a_se_reshape[0][0]         \n",
            "__________________________________________________________________________________________________\n",
            "block7a_se_expand (Conv2D)      (None, 1, 1, 1152)   56448       block7a_se_reduce[0][0]          \n",
            "__________________________________________________________________________________________________\n",
            "block7a_se_excite (Multiply)    (None, 2, 2, 1152)   0           block7a_activation[0][0]         \n",
            "                                                                 block7a_se_expand[0][0]          \n",
            "__________________________________________________________________________________________________\n",
            "block7a_project_conv (Conv2D)   (None, 2, 2, 320)    368640      block7a_se_excite[0][0]          \n",
            "__________________________________________________________________________________________________\n",
            "block7a_project_bn (BatchNormal (None, 2, 2, 320)    1280        block7a_project_conv[0][0]       \n",
            "__________________________________________________________________________________________________\n",
            "top_conv (Conv2D)               (None, 2, 2, 1280)   409600      block7a_project_bn[0][0]         \n",
            "__________________________________________________________________________________________________\n",
            "top_bn (BatchNormalization)     (None, 2, 2, 1280)   5120        top_conv[0][0]                   \n",
            "__________________________________________________________________________________________________\n",
            "top_activation (Activation)     (None, 2, 2, 1280)   0           top_bn[0][0]                     \n",
            "__________________________________________________________________________________________________\n",
            "avg_pool (GlobalAveragePooling2 (None, 1280)         0           top_activation[0][0]             \n",
            "__________________________________________________________________________________________________\n",
            "batch_normalization (BatchNorma (None, 1280)         5120        avg_pool[0][0]                   \n",
            "__________________________________________________________________________________________________\n",
            "top_dropout (Dropout)           (None, 1280)         0           batch_normalization[0][0]        \n",
            "__________________________________________________________________________________________________\n",
            "pred (Dense)                    (None, 5)            6405        top_dropout[0][0]                \n",
            "==================================================================================================\n",
            "Total params: 4,061,096\n",
            "Trainable params: 8,965\n",
            "Non-trainable params: 4,052,131\n",
            "__________________________________________________________________________________________________\n"
          ],
          "name": "stdout"
        }
      ]
    },
    {
      "cell_type": "code",
      "metadata": {
        "colab": {
          "base_uri": "https://localhost:8080/",
          "height": 822
        },
        "id": "midgHfA4kZPG",
        "outputId": "20c0bf1a-570f-404f-9d21-916737dc92ae"
      },
      "source": [
        "def unfreeze_model(model):\n",
        "    # We unfreeze the top 20 layers while leaving BatchNorm layers frozen\n",
        "    for layer in model.layers[-20:]:\n",
        "        if not isinstance(layer, layers.BatchNormalization):\n",
        "            layer.trainable = True\n",
        "\n",
        "    optimizer = tf.keras.optimizers.Adam(learning_rate=1e-4)\n",
        "    model.compile(\n",
        "        optimizer=optimizer, loss=\"categorical_crossentropy\", metrics=[\"accuracy\"]\n",
        "    )\n",
        "\n",
        "\n",
        "unfreeze_model(model)\n",
        "\n",
        "epochs = 15  # @param {type: \"slider\", min:8, max:50}\n",
        "hist = model.fit(batch_train_dataset,\n",
        "                 epochs=epochs,\n",
        "                 validation_data = batch_test_dataset,\n",
        "                 verbose=2)\n",
        "plot_hist(hist)"
      ],
      "execution_count": 52,
      "outputs": [
        {
          "output_type": "stream",
          "text": [
            "Epoch 1/15\n",
            "31/31 - 7s - loss: 0.8187 - accuracy: 0.8952 - val_loss: 2.5060 - val_accuracy: 0.8125\n",
            "Epoch 2/15\n",
            "31/31 - 0s - loss: 0.6024 - accuracy: 0.8992 - val_loss: 2.2930 - val_accuracy: 0.8250\n",
            "Epoch 3/15\n",
            "31/31 - 0s - loss: 0.4024 - accuracy: 0.9274 - val_loss: 2.0621 - val_accuracy: 0.8250\n",
            "Epoch 4/15\n",
            "31/31 - 0s - loss: 0.3632 - accuracy: 0.9476 - val_loss: 2.1733 - val_accuracy: 0.8000\n",
            "Epoch 5/15\n",
            "31/31 - 0s - loss: 0.6324 - accuracy: 0.9355 - val_loss: 2.1368 - val_accuracy: 0.8000\n",
            "Epoch 6/15\n",
            "31/31 - 0s - loss: 0.7405 - accuracy: 0.8831 - val_loss: 1.8534 - val_accuracy: 0.8500\n",
            "Epoch 7/15\n",
            "31/31 - 0s - loss: 0.3391 - accuracy: 0.9476 - val_loss: 1.6169 - val_accuracy: 0.8625\n",
            "Epoch 8/15\n",
            "31/31 - 0s - loss: 0.4502 - accuracy: 0.9194 - val_loss: 1.3913 - val_accuracy: 0.9125\n",
            "Epoch 9/15\n",
            "31/31 - 0s - loss: 0.3055 - accuracy: 0.9476 - val_loss: 1.5519 - val_accuracy: 0.9125\n",
            "Epoch 10/15\n",
            "31/31 - 0s - loss: 0.3117 - accuracy: 0.9234 - val_loss: 1.6085 - val_accuracy: 0.9000\n",
            "Epoch 11/15\n",
            "31/31 - 0s - loss: 0.5038 - accuracy: 0.9315 - val_loss: 1.8458 - val_accuracy: 0.8875\n",
            "Epoch 12/15\n",
            "31/31 - 0s - loss: 0.2998 - accuracy: 0.9395 - val_loss: 1.7989 - val_accuracy: 0.8750\n",
            "Epoch 13/15\n",
            "31/31 - 1s - loss: 0.3695 - accuracy: 0.9435 - val_loss: 1.9264 - val_accuracy: 0.8750\n",
            "Epoch 14/15\n",
            "31/31 - 0s - loss: 0.4019 - accuracy: 0.9274 - val_loss: 1.8244 - val_accuracy: 0.8750\n",
            "Epoch 15/15\n",
            "31/31 - 0s - loss: 0.4032 - accuracy: 0.9153 - val_loss: 1.7984 - val_accuracy: 0.8750\n"
          ],
          "name": "stdout"
        },
        {
          "output_type": "display_data",
          "data": {
            "image/png": "[encoded data removed]",
            "text/plain": [
              "<Figure size 432x288 with 1 Axes>"
            ]
          },
          "metadata": {
            "tags": [],
            "needs_background": "light"
          }
        }
      ]
    },
    {
      "cell_type": "code",
      "metadata": {
        "id": "ll4lP3_akg4_"
      },
      "source": [
        ""
      ],
      "execution_count": null,
      "outputs": []
    }
  ]
}