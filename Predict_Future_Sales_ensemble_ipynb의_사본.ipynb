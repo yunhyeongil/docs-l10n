{
  "nbformat": 4,
  "nbformat_minor": 0,
  "metadata": {
    "colab": {
      "name": "Predict Future Sales_ensemble.ipynb의 사본",
      "provenance": [],
      "collapsed_sections": [
        "8iSjFiT2Jcoh",
        "XD1Hl-0cinQp",
        "T68pf3pjoF7G",
        "HNQSgq7MoNMm",
        "pqhhxDzSo3-D",
        "Hc8yPdFlpJpp"
      ],
      "include_colab_link": true
    },
    "kernelspec": {
      "display_name": "Python 3",
      "language": "python",
      "name": "python3"
    },
    "language_info": {
      "codemirror_mode": {
        "name": "ipython",
        "version": 3
      },
      "file_extension": ".py",
      "mimetype": "text/x-python",
      "name": "python",
      "nbconvert_exporter": "python",
      "pygments_lexer": "ipython3",
      "version": "3.8.5"
    }
  },
  "cells": [
    {
      "cell_type": "markdown",
      "metadata": {
        "id": "view-in-github",
        "colab_type": "text"
      },
      "source": [
        "<a href=\"https://colab.research.google.com/github/yunhyeongil/docs-l10n/blob/master/Predict_Future_Sales_ensemble_ipynb%EC%9D%98_%EC%82%AC%EB%B3%B8.ipynb\" target=\"_parent\"><img src=\"https://colab.research.google.com/assets/colab-badge.svg\" alt=\"Open In Colab\"/></a>"
      ]
    },
    {
      "cell_type": "code",
      "metadata": {
        "id": "KGxkejQMJcn2"
      },
      "source": [
        "import numpy as np\n",
        "import pandas as pd\n",
        "import warnings\n",
        "\n",
        "\n",
        "\n",
        "warnings.filterwarnings(action='ignore') # Ignore warning message\n",
        "\n",
        "# date path\n",
        "data_path = 'C:/Users/User/0_Project/kaggle/competitive-data-science-predict-future-sales/'\n",
        "\n",
        "sales_train = pd.read_csv(data_path + 'sales_train.csv')\n",
        "shops = pd.read_csv(data_path + 'shops.csv')\n",
        "items = pd.read_csv(data_path + 'items.csv')\n",
        "item_categories = pd.read_csv(data_path + 'item_categories.csv')\n",
        "test = pd.read_csv(data_path + 'test.csv')\n",
        "submission = pd.read_csv(data_path + 'sample_submission.csv')"
      ],
      "execution_count": null,
      "outputs": []
    },
    {
      "cell_type": "code",
      "metadata": {
        "id": "cMJKfq6iJcoA"
      },
      "source": [
        "def downcast(df, verbose=True):\n",
        "    start_mem = df.memory_usage().sum() / 1024**2\n",
        "    for col in df.columns:\n",
        "        dtype_name = df[col].dtype.name\n",
        "        if dtype_name == 'object':\n",
        "            pass\n",
        "        elif dtype_name == 'bool':\n",
        "            df[col] = df[col].astype('int8')\n",
        "        elif dtype_name.startswith('int') or (df[col].round() == df[col]).all():\n",
        "            df[col] = pd.to_numeric(df[col], downcast='integer')\n",
        "        else:\n",
        "            df[col] = pd.to_numeric(df[col], downcast='float')\n",
        "    end_mem = df.memory_usage().sum() / 1024**2\n",
        "    if verbose:\n",
        "        print('{:.1f}% compressed'.format(100 * (start_mem - end_mem) / start_mem))\n",
        "    \n",
        "    return df"
      ],
      "execution_count": null,
      "outputs": []
    },
    {
      "cell_type": "code",
      "metadata": {
        "colab": {
          "base_uri": "https://localhost:8080/"
        },
        "id": "1I6lg7H4JcoC",
        "outputId": "a28939f1-71e7-4dc2-c72b-a0c2c6506f5d"
      },
      "source": [
        "all_df = [sales_train, shops, items, item_categories, test]\n",
        "for df in all_df:\n",
        "    df = downcast(df)"
      ],
      "execution_count": null,
      "outputs": [
        {
          "output_type": "stream",
          "text": [
            "62.5% compressed\n",
            "38.6% compressed\n",
            "54.2% compressed\n",
            "39.9% compressed\n",
            "70.8% compressed\n"
          ],
          "name": "stdout"
        }
      ]
    },
    {
      "cell_type": "code",
      "metadata": {
        "colab": {
          "base_uri": "https://localhost:8080/",
          "height": 204
        },
        "id": "QCofvprGJcoF",
        "scrolled": true,
        "outputId": "41a88156-2261-4d2c-fbe8-eef72dcc6449"
      },
      "source": [
        "sales_train.head()"
      ],
      "execution_count": null,
      "outputs": [
        {
          "output_type": "execute_result",
          "data": {
            "text/html": [
              "<div>\n",
              "<style scoped>\n",
              "    .dataframe tbody tr th:only-of-type {\n",
              "        vertical-align: middle;\n",
              "    }\n",
              "\n",
              "    .dataframe tbody tr th {\n",
              "        vertical-align: top;\n",
              "    }\n",
              "\n",
              "    .dataframe thead th {\n",
              "        text-align: right;\n",
              "    }\n",
              "</style>\n",
              "<table border=\"1\" class=\"dataframe\">\n",
              "  <thead>\n",
              "    <tr style=\"text-align: right;\">\n",
              "      <th></th>\n",
              "      <th>date</th>\n",
              "      <th>date_block_num</th>\n",
              "      <th>shop_id</th>\n",
              "      <th>item_id</th>\n",
              "      <th>item_price</th>\n",
              "      <th>item_cnt_day</th>\n",
              "    </tr>\n",
              "  </thead>\n",
              "  <tbody>\n",
              "    <tr>\n",
              "      <th>0</th>\n",
              "      <td>02.01.2013</td>\n",
              "      <td>0</td>\n",
              "      <td>59</td>\n",
              "      <td>22154</td>\n",
              "      <td>999.000000</td>\n",
              "      <td>1</td>\n",
              "    </tr>\n",
              "    <tr>\n",
              "      <th>1</th>\n",
              "      <td>03.01.2013</td>\n",
              "      <td>0</td>\n",
              "      <td>25</td>\n",
              "      <td>2552</td>\n",
              "      <td>899.000000</td>\n",
              "      <td>1</td>\n",
              "    </tr>\n",
              "    <tr>\n",
              "      <th>2</th>\n",
              "      <td>05.01.2013</td>\n",
              "      <td>0</td>\n",
              "      <td>25</td>\n",
              "      <td>2552</td>\n",
              "      <td>899.000000</td>\n",
              "      <td>-1</td>\n",
              "    </tr>\n",
              "    <tr>\n",
              "      <th>3</th>\n",
              "      <td>06.01.2013</td>\n",
              "      <td>0</td>\n",
              "      <td>25</td>\n",
              "      <td>2554</td>\n",
              "      <td>1709.050049</td>\n",
              "      <td>1</td>\n",
              "    </tr>\n",
              "    <tr>\n",
              "      <th>4</th>\n",
              "      <td>15.01.2013</td>\n",
              "      <td>0</td>\n",
              "      <td>25</td>\n",
              "      <td>2555</td>\n",
              "      <td>1099.000000</td>\n",
              "      <td>1</td>\n",
              "    </tr>\n",
              "  </tbody>\n",
              "</table>\n",
              "</div>"
            ],
            "text/plain": [
              "         date  date_block_num  shop_id  item_id   item_price  item_cnt_day\n",
              "0  02.01.2013               0       59    22154   999.000000             1\n",
              "1  03.01.2013               0       25     2552   899.000000             1\n",
              "2  05.01.2013               0       25     2552   899.000000            -1\n",
              "3  06.01.2013               0       25     2554  1709.050049             1\n",
              "4  15.01.2013               0       25     2555  1099.000000             1"
            ]
          },
          "metadata": {
            "tags": []
          },
          "execution_count": 4
        }
      ]
    },
    {
      "cell_type": "code",
      "metadata": {
        "colab": {
          "base_uri": "https://localhost:8080/",
          "height": 204
        },
        "id": "LIoBP7szJcoI",
        "outputId": "d32f67ea-a827-4088-acc6-741f81ccb3c3"
      },
      "source": [
        "shops.head()"
      ],
      "execution_count": null,
      "outputs": [
        {
          "output_type": "execute_result",
          "data": {
            "text/html": [
              "<div>\n",
              "<style scoped>\n",
              "    .dataframe tbody tr th:only-of-type {\n",
              "        vertical-align: middle;\n",
              "    }\n",
              "\n",
              "    .dataframe tbody tr th {\n",
              "        vertical-align: top;\n",
              "    }\n",
              "\n",
              "    .dataframe thead th {\n",
              "        text-align: right;\n",
              "    }\n",
              "</style>\n",
              "<table border=\"1\" class=\"dataframe\">\n",
              "  <thead>\n",
              "    <tr style=\"text-align: right;\">\n",
              "      <th></th>\n",
              "      <th>shop_name</th>\n",
              "      <th>shop_id</th>\n",
              "    </tr>\n",
              "  </thead>\n",
              "  <tbody>\n",
              "    <tr>\n",
              "      <th>0</th>\n",
              "      <td>!Якутск Орджоникидзе, 56 фран</td>\n",
              "      <td>0</td>\n",
              "    </tr>\n",
              "    <tr>\n",
              "      <th>1</th>\n",
              "      <td>!Якутск ТЦ \"Центральный\" фран</td>\n",
              "      <td>1</td>\n",
              "    </tr>\n",
              "    <tr>\n",
              "      <th>2</th>\n",
              "      <td>Адыгея ТЦ \"Мега\"</td>\n",
              "      <td>2</td>\n",
              "    </tr>\n",
              "    <tr>\n",
              "      <th>3</th>\n",
              "      <td>Балашиха ТРК \"Октябрь-Киномир\"</td>\n",
              "      <td>3</td>\n",
              "    </tr>\n",
              "    <tr>\n",
              "      <th>4</th>\n",
              "      <td>Волжский ТЦ \"Волга Молл\"</td>\n",
              "      <td>4</td>\n",
              "    </tr>\n",
              "  </tbody>\n",
              "</table>\n",
              "</div>"
            ],
            "text/plain": [
              "                        shop_name  shop_id\n",
              "0   !Якутск Орджоникидзе, 56 фран        0\n",
              "1   !Якутск ТЦ \"Центральный\" фран        1\n",
              "2                Адыгея ТЦ \"Мега\"        2\n",
              "3  Балашиха ТРК \"Октябрь-Киномир\"        3\n",
              "4        Волжский ТЦ \"Волга Молл\"        4"
            ]
          },
          "metadata": {
            "tags": []
          },
          "execution_count": 5
        }
      ]
    },
    {
      "cell_type": "code",
      "metadata": {
        "colab": {
          "base_uri": "https://localhost:8080/",
          "height": 204
        },
        "id": "YuLJt9ktJcoJ",
        "outputId": "69d48355-f060-40f3-c929-e8ec36bff771"
      },
      "source": [
        "items.head()"
      ],
      "execution_count": null,
      "outputs": [
        {
          "output_type": "execute_result",
          "data": {
            "text/html": [
              "<div>\n",
              "<style scoped>\n",
              "    .dataframe tbody tr th:only-of-type {\n",
              "        vertical-align: middle;\n",
              "    }\n",
              "\n",
              "    .dataframe tbody tr th {\n",
              "        vertical-align: top;\n",
              "    }\n",
              "\n",
              "    .dataframe thead th {\n",
              "        text-align: right;\n",
              "    }\n",
              "</style>\n",
              "<table border=\"1\" class=\"dataframe\">\n",
              "  <thead>\n",
              "    <tr style=\"text-align: right;\">\n",
              "      <th></th>\n",
              "      <th>item_name</th>\n",
              "      <th>item_id</th>\n",
              "      <th>item_category_id</th>\n",
              "    </tr>\n",
              "  </thead>\n",
              "  <tbody>\n",
              "    <tr>\n",
              "      <th>0</th>\n",
              "      <td>! ВО ВЛАСТИ НАВАЖДЕНИЯ (ПЛАСТ.)         D</td>\n",
              "      <td>0</td>\n",
              "      <td>40</td>\n",
              "    </tr>\n",
              "    <tr>\n",
              "      <th>1</th>\n",
              "      <td>!ABBYY FineReader 12 Professional Edition Full...</td>\n",
              "      <td>1</td>\n",
              "      <td>76</td>\n",
              "    </tr>\n",
              "    <tr>\n",
              "      <th>2</th>\n",
              "      <td>***В ЛУЧАХ СЛАВЫ   (UNV)                    D</td>\n",
              "      <td>2</td>\n",
              "      <td>40</td>\n",
              "    </tr>\n",
              "    <tr>\n",
              "      <th>3</th>\n",
              "      <td>***ГОЛУБАЯ ВОЛНА  (Univ)                      D</td>\n",
              "      <td>3</td>\n",
              "      <td>40</td>\n",
              "    </tr>\n",
              "    <tr>\n",
              "      <th>4</th>\n",
              "      <td>***КОРОБКА (СТЕКЛО)                       D</td>\n",
              "      <td>4</td>\n",
              "      <td>40</td>\n",
              "    </tr>\n",
              "  </tbody>\n",
              "</table>\n",
              "</div>"
            ],
            "text/plain": [
              "                                           item_name  item_id  \\\n",
              "0          ! ВО ВЛАСТИ НАВАЖДЕНИЯ (ПЛАСТ.)         D        0   \n",
              "1  !ABBYY FineReader 12 Professional Edition Full...        1   \n",
              "2      ***В ЛУЧАХ СЛАВЫ   (UNV)                    D        2   \n",
              "3    ***ГОЛУБАЯ ВОЛНА  (Univ)                      D        3   \n",
              "4        ***КОРОБКА (СТЕКЛО)                       D        4   \n",
              "\n",
              "   item_category_id  \n",
              "0                40  \n",
              "1                76  \n",
              "2                40  \n",
              "3                40  \n",
              "4                40  "
            ]
          },
          "metadata": {
            "tags": []
          },
          "execution_count": 6
        }
      ]
    },
    {
      "cell_type": "code",
      "metadata": {
        "colab": {
          "base_uri": "https://localhost:8080/",
          "height": 204
        },
        "id": "7parnnCAJcoL",
        "outputId": "68699414-4afb-4428-fc56-cbc0c5cd1552"
      },
      "source": [
        "item_categories.head()"
      ],
      "execution_count": null,
      "outputs": [
        {
          "output_type": "execute_result",
          "data": {
            "text/html": [
              "<div>\n",
              "<style scoped>\n",
              "    .dataframe tbody tr th:only-of-type {\n",
              "        vertical-align: middle;\n",
              "    }\n",
              "\n",
              "    .dataframe tbody tr th {\n",
              "        vertical-align: top;\n",
              "    }\n",
              "\n",
              "    .dataframe thead th {\n",
              "        text-align: right;\n",
              "    }\n",
              "</style>\n",
              "<table border=\"1\" class=\"dataframe\">\n",
              "  <thead>\n",
              "    <tr style=\"text-align: right;\">\n",
              "      <th></th>\n",
              "      <th>item_category_name</th>\n",
              "      <th>item_category_id</th>\n",
              "    </tr>\n",
              "  </thead>\n",
              "  <tbody>\n",
              "    <tr>\n",
              "      <th>0</th>\n",
              "      <td>PC - Гарнитуры/Наушники</td>\n",
              "      <td>0</td>\n",
              "    </tr>\n",
              "    <tr>\n",
              "      <th>1</th>\n",
              "      <td>Аксессуары - PS2</td>\n",
              "      <td>1</td>\n",
              "    </tr>\n",
              "    <tr>\n",
              "      <th>2</th>\n",
              "      <td>Аксессуары - PS3</td>\n",
              "      <td>2</td>\n",
              "    </tr>\n",
              "    <tr>\n",
              "      <th>3</th>\n",
              "      <td>Аксессуары - PS4</td>\n",
              "      <td>3</td>\n",
              "    </tr>\n",
              "    <tr>\n",
              "      <th>4</th>\n",
              "      <td>Аксессуары - PSP</td>\n",
              "      <td>4</td>\n",
              "    </tr>\n",
              "  </tbody>\n",
              "</table>\n",
              "</div>"
            ],
            "text/plain": [
              "        item_category_name  item_category_id\n",
              "0  PC - Гарнитуры/Наушники                 0\n",
              "1         Аксессуары - PS2                 1\n",
              "2         Аксессуары - PS3                 2\n",
              "3         Аксессуары - PS4                 3\n",
              "4         Аксессуары - PSP                 4"
            ]
          },
          "metadata": {
            "tags": []
          },
          "execution_count": 7
        }
      ]
    },
    {
      "cell_type": "code",
      "metadata": {
        "colab": {
          "base_uri": "https://localhost:8080/",
          "height": 204
        },
        "id": "7Ym0vdsTJcoM",
        "scrolled": false,
        "outputId": "de6f63ec-9472-4bd3-9701-a4cce555b397"
      },
      "source": [
        "test.head()"
      ],
      "execution_count": null,
      "outputs": [
        {
          "output_type": "execute_result",
          "data": {
            "text/html": [
              "<div>\n",
              "<style scoped>\n",
              "    .dataframe tbody tr th:only-of-type {\n",
              "        vertical-align: middle;\n",
              "    }\n",
              "\n",
              "    .dataframe tbody tr th {\n",
              "        vertical-align: top;\n",
              "    }\n",
              "\n",
              "    .dataframe thead th {\n",
              "        text-align: right;\n",
              "    }\n",
              "</style>\n",
              "<table border=\"1\" class=\"dataframe\">\n",
              "  <thead>\n",
              "    <tr style=\"text-align: right;\">\n",
              "      <th></th>\n",
              "      <th>ID</th>\n",
              "      <th>shop_id</th>\n",
              "      <th>item_id</th>\n",
              "    </tr>\n",
              "  </thead>\n",
              "  <tbody>\n",
              "    <tr>\n",
              "      <th>0</th>\n",
              "      <td>0</td>\n",
              "      <td>5</td>\n",
              "      <td>5037</td>\n",
              "    </tr>\n",
              "    <tr>\n",
              "      <th>1</th>\n",
              "      <td>1</td>\n",
              "      <td>5</td>\n",
              "      <td>5320</td>\n",
              "    </tr>\n",
              "    <tr>\n",
              "      <th>2</th>\n",
              "      <td>2</td>\n",
              "      <td>5</td>\n",
              "      <td>5233</td>\n",
              "    </tr>\n",
              "    <tr>\n",
              "      <th>3</th>\n",
              "      <td>3</td>\n",
              "      <td>5</td>\n",
              "      <td>5232</td>\n",
              "    </tr>\n",
              "    <tr>\n",
              "      <th>4</th>\n",
              "      <td>4</td>\n",
              "      <td>5</td>\n",
              "      <td>5268</td>\n",
              "    </tr>\n",
              "  </tbody>\n",
              "</table>\n",
              "</div>"
            ],
            "text/plain": [
              "   ID  shop_id  item_id\n",
              "0   0        5     5037\n",
              "1   1        5     5320\n",
              "2   2        5     5233\n",
              "3   3        5     5232\n",
              "4   4        5     5268"
            ]
          },
          "metadata": {
            "tags": []
          },
          "execution_count": 8
        }
      ]
    },
    {
      "cell_type": "code",
      "metadata": {
        "colab": {
          "base_uri": "https://localhost:8080/",
          "height": 204
        },
        "id": "s0vDrrr0JcoO",
        "outputId": "8399eb5d-6b1c-45a1-d208-1ea9ef00c8b4"
      },
      "source": [
        "submission.head()"
      ],
      "execution_count": null,
      "outputs": [
        {
          "output_type": "execute_result",
          "data": {
            "text/html": [
              "<div>\n",
              "<style scoped>\n",
              "    .dataframe tbody tr th:only-of-type {\n",
              "        vertical-align: middle;\n",
              "    }\n",
              "\n",
              "    .dataframe tbody tr th {\n",
              "        vertical-align: top;\n",
              "    }\n",
              "\n",
              "    .dataframe thead th {\n",
              "        text-align: right;\n",
              "    }\n",
              "</style>\n",
              "<table border=\"1\" class=\"dataframe\">\n",
              "  <thead>\n",
              "    <tr style=\"text-align: right;\">\n",
              "      <th></th>\n",
              "      <th>ID</th>\n",
              "      <th>item_cnt_month</th>\n",
              "    </tr>\n",
              "  </thead>\n",
              "  <tbody>\n",
              "    <tr>\n",
              "      <th>0</th>\n",
              "      <td>0</td>\n",
              "      <td>0.5</td>\n",
              "    </tr>\n",
              "    <tr>\n",
              "      <th>1</th>\n",
              "      <td>1</td>\n",
              "      <td>0.5</td>\n",
              "    </tr>\n",
              "    <tr>\n",
              "      <th>2</th>\n",
              "      <td>2</td>\n",
              "      <td>0.5</td>\n",
              "    </tr>\n",
              "    <tr>\n",
              "      <th>3</th>\n",
              "      <td>3</td>\n",
              "      <td>0.5</td>\n",
              "    </tr>\n",
              "    <tr>\n",
              "      <th>4</th>\n",
              "      <td>4</td>\n",
              "      <td>0.5</td>\n",
              "    </tr>\n",
              "  </tbody>\n",
              "</table>\n",
              "</div>"
            ],
            "text/plain": [
              "   ID  item_cnt_month\n",
              "0   0             0.5\n",
              "1   1             0.5\n",
              "2   2             0.5\n",
              "3   3             0.5\n",
              "4   4             0.5"
            ]
          },
          "metadata": {
            "tags": []
          },
          "execution_count": 9
        }
      ]
    },
    {
      "cell_type": "code",
      "metadata": {
        "colab": {
          "base_uri": "https://localhost:8080/"
        },
        "id": "h95BEn7jJcoQ",
        "scrolled": false,
        "outputId": "eb4a2a21-deae-4798-b7a2-a8b7bfffad53"
      },
      "source": [
        "print(np.shape(sales_train))\n",
        "print(np.shape(test))"
      ],
      "execution_count": null,
      "outputs": [
        {
          "output_type": "stream",
          "text": [
            "(2935849, 6)\n",
            "(214200, 3)\n"
          ],
          "name": "stdout"
        }
      ]
    },
    {
      "cell_type": "code",
      "metadata": {
        "colab": {
          "base_uri": "https://localhost:8080/"
        },
        "id": "YrcqGP1zJcoS",
        "outputId": "506123e0-5203-4978-8719-a175f8d4d729"
      },
      "source": [
        "sales_train.isnull().sum()"
      ],
      "execution_count": null,
      "outputs": [
        {
          "output_type": "execute_result",
          "data": {
            "text/plain": [
              "date              0\n",
              "date_block_num    0\n",
              "shop_id           0\n",
              "item_id           0\n",
              "item_price        0\n",
              "item_cnt_day      0\n",
              "dtype: int64"
            ]
          },
          "metadata": {
            "tags": []
          },
          "execution_count": 11
        }
      ]
    },
    {
      "cell_type": "code",
      "metadata": {
        "colab": {
          "base_uri": "https://localhost:8080/"
        },
        "id": "q_zUuWBAJcoT",
        "outputId": "76ac61e7-1b9c-4794-86cd-bc75a800ff7d"
      },
      "source": [
        "sum(sales_train.duplicated()), sum(test.duplicated()),sum(shops.duplicated()), sum(items.duplicated())"
      ],
      "execution_count": null,
      "outputs": [
        {
          "output_type": "execute_result",
          "data": {
            "text/plain": [
              "(6, 0, 0, 0)"
            ]
          },
          "metadata": {
            "tags": []
          },
          "execution_count": 12
        }
      ]
    },
    {
      "cell_type": "code",
      "metadata": {
        "colab": {
          "base_uri": "https://localhost:8080/"
        },
        "id": "LApi7tKQJcoU",
        "outputId": "508d51c0-e538-4431-909e-868ae1e7b240"
      },
      "source": [
        "sum(item_categories.duplicated()), sum(test.duplicated())"
      ],
      "execution_count": null,
      "outputs": [
        {
          "output_type": "execute_result",
          "data": {
            "text/plain": [
              "(0, 0)"
            ]
          },
          "metadata": {
            "tags": []
          },
          "execution_count": 13
        }
      ]
    },
    {
      "cell_type": "code",
      "metadata": {
        "colab": {
          "base_uri": "https://localhost:8080/",
          "height": 235
        },
        "id": "fSO4H9sZJcoW",
        "outputId": "9983b960-4b71-4828-a955-475a1ab73646"
      },
      "source": [
        "sales_train[sales_train.duplicated() == True]"
      ],
      "execution_count": null,
      "outputs": [
        {
          "output_type": "execute_result",
          "data": {
            "text/html": [
              "<div>\n",
              "<style scoped>\n",
              "    .dataframe tbody tr th:only-of-type {\n",
              "        vertical-align: middle;\n",
              "    }\n",
              "\n",
              "    .dataframe tbody tr th {\n",
              "        vertical-align: top;\n",
              "    }\n",
              "\n",
              "    .dataframe thead th {\n",
              "        text-align: right;\n",
              "    }\n",
              "</style>\n",
              "<table border=\"1\" class=\"dataframe\">\n",
              "  <thead>\n",
              "    <tr style=\"text-align: right;\">\n",
              "      <th></th>\n",
              "      <th>date</th>\n",
              "      <th>date_block_num</th>\n",
              "      <th>shop_id</th>\n",
              "      <th>item_id</th>\n",
              "      <th>item_price</th>\n",
              "      <th>item_cnt_day</th>\n",
              "    </tr>\n",
              "  </thead>\n",
              "  <tbody>\n",
              "    <tr>\n",
              "      <th>76962</th>\n",
              "      <td>05.01.2013</td>\n",
              "      <td>0</td>\n",
              "      <td>54</td>\n",
              "      <td>20130</td>\n",
              "      <td>149.0</td>\n",
              "      <td>1</td>\n",
              "    </tr>\n",
              "    <tr>\n",
              "      <th>1435367</th>\n",
              "      <td>23.02.2014</td>\n",
              "      <td>13</td>\n",
              "      <td>50</td>\n",
              "      <td>3423</td>\n",
              "      <td>999.0</td>\n",
              "      <td>1</td>\n",
              "    </tr>\n",
              "    <tr>\n",
              "      <th>1496766</th>\n",
              "      <td>23.03.2014</td>\n",
              "      <td>14</td>\n",
              "      <td>21</td>\n",
              "      <td>3423</td>\n",
              "      <td>999.0</td>\n",
              "      <td>1</td>\n",
              "    </tr>\n",
              "    <tr>\n",
              "      <th>1671873</th>\n",
              "      <td>01.05.2014</td>\n",
              "      <td>16</td>\n",
              "      <td>50</td>\n",
              "      <td>3423</td>\n",
              "      <td>999.0</td>\n",
              "      <td>1</td>\n",
              "    </tr>\n",
              "    <tr>\n",
              "      <th>1866340</th>\n",
              "      <td>12.07.2014</td>\n",
              "      <td>18</td>\n",
              "      <td>25</td>\n",
              "      <td>3423</td>\n",
              "      <td>999.0</td>\n",
              "      <td>1</td>\n",
              "    </tr>\n",
              "    <tr>\n",
              "      <th>2198566</th>\n",
              "      <td>31.12.2014</td>\n",
              "      <td>23</td>\n",
              "      <td>42</td>\n",
              "      <td>21619</td>\n",
              "      <td>499.0</td>\n",
              "      <td>1</td>\n",
              "    </tr>\n",
              "  </tbody>\n",
              "</table>\n",
              "</div>"
            ],
            "text/plain": [
              "               date  date_block_num  shop_id  item_id  item_price  \\\n",
              "76962    05.01.2013               0       54    20130       149.0   \n",
              "1435367  23.02.2014              13       50     3423       999.0   \n",
              "1496766  23.03.2014              14       21     3423       999.0   \n",
              "1671873  01.05.2014              16       50     3423       999.0   \n",
              "1866340  12.07.2014              18       25     3423       999.0   \n",
              "2198566  31.12.2014              23       42    21619       499.0   \n",
              "\n",
              "         item_cnt_day  \n",
              "76962               1  \n",
              "1435367             1  \n",
              "1496766             1  \n",
              "1671873             1  \n",
              "1866340             1  \n",
              "2198566             1  "
            ]
          },
          "metadata": {
            "tags": []
          },
          "execution_count": 14
        }
      ]
    },
    {
      "cell_type": "code",
      "metadata": {
        "id": "H8CRO8COJcoX"
      },
      "source": [
        "sales_train.drop_duplicates(inplace = True)"
      ],
      "execution_count": null,
      "outputs": []
    },
    {
      "cell_type": "code",
      "metadata": {
        "colab": {
          "base_uri": "https://localhost:8080/",
          "height": 741
        },
        "id": "zJ8aqjKeJcoY",
        "outputId": "6b930eaa-f221-43b3-f832-08d3fc86b252"
      },
      "source": [
        "import seaborn as sns\n",
        "import matplotlib.pyplot as plt\n",
        "%matplotlib inline\n",
        "\n",
        "colormap = plt.cm.RdBu\n",
        "plt.figure(figsize=(14,12))\n",
        "plt.title('Pearson Correlation of Features', y=1.05, size=15)\n",
        "sns.heatmap(sales_train.corr(),linewidths=0.1,vmax=1.0, \n",
        "            square=True, cmap=colormap, linecolor='white', annot=True)"
      ],
      "execution_count": null,
      "outputs": [
        {
          "output_type": "execute_result",
          "data": {
            "text/plain": [
              "<AxesSubplot:title={'center':'Pearson Correlation of Features'}>"
            ]
          },
          "metadata": {
            "tags": []
          },
          "execution_count": 16
        },
        {
          "output_type": "display_data",
          "data": {
            "image/png": "[encoded data removed]",
            "text/plain": [
              "<Figure size 1008x864 with 2 Axes>"
            ]
          },
          "metadata": {
            "tags": [],
            "needs_background": "light"
          }
        }
      ]
    },
    {
      "cell_type": "code",
      "metadata": {
        "colab": {
          "base_uri": "https://localhost:8080/",
          "height": 298
        },
        "id": "x6b-R_2ZJcoZ",
        "outputId": "6a49239f-68d4-4e7e-f6e5-da510cf2fe25"
      },
      "source": [
        "plt.figure(figsize=(10,4))\n",
        "sns.boxplot(x=sales_train.item_cnt_day)"
      ],
      "execution_count": null,
      "outputs": [
        {
          "output_type": "execute_result",
          "data": {
            "text/plain": [
              "<AxesSubplot:xlabel='item_cnt_day'>"
            ]
          },
          "metadata": {
            "tags": []
          },
          "execution_count": 17
        },
        {
          "output_type": "display_data",
          "data": {
            "image/png": "[encoded data removed]",
            "text/plain": [
              "<Figure size 720x288 with 1 Axes>"
            ]
          },
          "metadata": {
            "tags": [],
            "needs_background": "light"
          }
        }
      ]
    },
    {
      "cell_type": "code",
      "metadata": {
        "colab": {
          "base_uri": "https://localhost:8080/",
          "height": 298
        },
        "id": "AL8tpgtLJcoa",
        "outputId": "e085e0ca-0001-4b13-e0ea-6b24be8943f2"
      },
      "source": [
        "plt.figure(figsize=(10,4))\n",
        "sns.boxplot(x=sales_train.item_price)"
      ],
      "execution_count": null,
      "outputs": [
        {
          "output_type": "execute_result",
          "data": {
            "text/plain": [
              "<AxesSubplot:xlabel='item_price'>"
            ]
          },
          "metadata": {
            "tags": []
          },
          "execution_count": 18
        },
        {
          "output_type": "display_data",
          "data": {
            "image/png": "[encoded data removed]",
            "text/plain": [
              "<Figure size 720x288 with 1 Axes>"
            ]
          },
          "metadata": {
            "tags": [],
            "needs_background": "light"
          }
        }
      ]
    },
    {
      "cell_type": "code",
      "metadata": {
        "id": "EuVgEzpkJcob"
      },
      "source": [
        "# sns Theme \n",
        "sns.set_style('darkgrid') \n",
        "\n",
        "# 소수점 표현 제한\n",
        "pd.set_option('display.float_format', lambda x : '{:.3f}'.format(x))"
      ],
      "execution_count": null,
      "outputs": []
    },
    {
      "cell_type": "code",
      "metadata": {
        "colab": {
          "base_uri": "https://localhost:8080/",
          "height": 390
        },
        "id": "KmcbbdcjJcod",
        "outputId": "510a504d-64d6-4c7c-dd2c-5a7a9bfc5ef4"
      },
      "source": [
        "train_df = pd.DataFrame(sales_train)\n",
        "train_df.describe(include=\"all\")"
      ],
      "execution_count": null,
      "outputs": [
        {
          "output_type": "execute_result",
          "data": {
            "text/html": [
              "<div>\n",
              "<style scoped>\n",
              "    .dataframe tbody tr th:only-of-type {\n",
              "        vertical-align: middle;\n",
              "    }\n",
              "\n",
              "    .dataframe tbody tr th {\n",
              "        vertical-align: top;\n",
              "    }\n",
              "\n",
              "    .dataframe thead th {\n",
              "        text-align: right;\n",
              "    }\n",
              "</style>\n",
              "<table border=\"1\" class=\"dataframe\">\n",
              "  <thead>\n",
              "    <tr style=\"text-align: right;\">\n",
              "      <th></th>\n",
              "      <th>date</th>\n",
              "      <th>date_block_num</th>\n",
              "      <th>shop_id</th>\n",
              "      <th>item_id</th>\n",
              "      <th>item_price</th>\n",
              "      <th>item_cnt_day</th>\n",
              "    </tr>\n",
              "  </thead>\n",
              "  <tbody>\n",
              "    <tr>\n",
              "      <th>count</th>\n",
              "      <td>2935843</td>\n",
              "      <td>2935843.000</td>\n",
              "      <td>2935843.000</td>\n",
              "      <td>2935843.000</td>\n",
              "      <td>2935843.000</td>\n",
              "      <td>2935843.000</td>\n",
              "    </tr>\n",
              "    <tr>\n",
              "      <th>unique</th>\n",
              "      <td>1034</td>\n",
              "      <td>nan</td>\n",
              "      <td>nan</td>\n",
              "      <td>nan</td>\n",
              "      <td>nan</td>\n",
              "      <td>nan</td>\n",
              "    </tr>\n",
              "    <tr>\n",
              "      <th>top</th>\n",
              "      <td>28.12.2013</td>\n",
              "      <td>nan</td>\n",
              "      <td>nan</td>\n",
              "      <td>nan</td>\n",
              "      <td>nan</td>\n",
              "      <td>nan</td>\n",
              "    </tr>\n",
              "    <tr>\n",
              "      <th>freq</th>\n",
              "      <td>9434</td>\n",
              "      <td>nan</td>\n",
              "      <td>nan</td>\n",
              "      <td>nan</td>\n",
              "      <td>nan</td>\n",
              "      <td>nan</td>\n",
              "    </tr>\n",
              "    <tr>\n",
              "      <th>mean</th>\n",
              "      <td>NaN</td>\n",
              "      <td>14.570</td>\n",
              "      <td>33.002</td>\n",
              "      <td>10197.229</td>\n",
              "      <td>890.624</td>\n",
              "      <td>1.243</td>\n",
              "    </tr>\n",
              "    <tr>\n",
              "      <th>std</th>\n",
              "      <td>NaN</td>\n",
              "      <td>9.423</td>\n",
              "      <td>16.227</td>\n",
              "      <td>6324.293</td>\n",
              "      <td>1726.442</td>\n",
              "      <td>2.619</td>\n",
              "    </tr>\n",
              "    <tr>\n",
              "      <th>min</th>\n",
              "      <td>NaN</td>\n",
              "      <td>0.000</td>\n",
              "      <td>0.000</td>\n",
              "      <td>0.000</td>\n",
              "      <td>-1.000</td>\n",
              "      <td>-22.000</td>\n",
              "    </tr>\n",
              "    <tr>\n",
              "      <th>25%</th>\n",
              "      <td>NaN</td>\n",
              "      <td>7.000</td>\n",
              "      <td>22.000</td>\n",
              "      <td>4476.000</td>\n",
              "      <td>249.000</td>\n",
              "      <td>1.000</td>\n",
              "    </tr>\n",
              "    <tr>\n",
              "      <th>50%</th>\n",
              "      <td>NaN</td>\n",
              "      <td>14.000</td>\n",
              "      <td>31.000</td>\n",
              "      <td>9343.000</td>\n",
              "      <td>399.000</td>\n",
              "      <td>1.000</td>\n",
              "    </tr>\n",
              "    <tr>\n",
              "      <th>75%</th>\n",
              "      <td>NaN</td>\n",
              "      <td>23.000</td>\n",
              "      <td>47.000</td>\n",
              "      <td>15684.000</td>\n",
              "      <td>999.000</td>\n",
              "      <td>1.000</td>\n",
              "    </tr>\n",
              "    <tr>\n",
              "      <th>max</th>\n",
              "      <td>NaN</td>\n",
              "      <td>33.000</td>\n",
              "      <td>59.000</td>\n",
              "      <td>22169.000</td>\n",
              "      <td>307980.000</td>\n",
              "      <td>2169.000</td>\n",
              "    </tr>\n",
              "  </tbody>\n",
              "</table>\n",
              "</div>"
            ],
            "text/plain": [
              "              date  date_block_num     shop_id     item_id  item_price  \\\n",
              "count      2935843     2935843.000 2935843.000 2935843.000 2935843.000   \n",
              "unique        1034             nan         nan         nan         nan   \n",
              "top     28.12.2013             nan         nan         nan         nan   \n",
              "freq          9434             nan         nan         nan         nan   \n",
              "mean           NaN          14.570      33.002   10197.229     890.624   \n",
              "std            NaN           9.423      16.227    6324.293    1726.442   \n",
              "min            NaN           0.000       0.000       0.000      -1.000   \n",
              "25%            NaN           7.000      22.000    4476.000     249.000   \n",
              "50%            NaN          14.000      31.000    9343.000     399.000   \n",
              "75%            NaN          23.000      47.000   15684.000     999.000   \n",
              "max            NaN          33.000      59.000   22169.000  307980.000   \n",
              "\n",
              "        item_cnt_day  \n",
              "count    2935843.000  \n",
              "unique           nan  \n",
              "top              nan  \n",
              "freq             nan  \n",
              "mean           1.243  \n",
              "std            2.619  \n",
              "min          -22.000  \n",
              "25%            1.000  \n",
              "50%            1.000  \n",
              "75%            1.000  \n",
              "max         2169.000  "
            ]
          },
          "metadata": {
            "tags": []
          },
          "execution_count": 20
        }
      ]
    },
    {
      "cell_type": "code",
      "metadata": {
        "id": "jcQceSkQJcoe"
      },
      "source": [
        "sales_train = sales_train[sales_train['item_price'] > 0]\n",
        "sales_train = sales_train[sales_train['item_price'] < 50000]\n",
        "sales_train = sales_train[sales_train['item_cnt_day']>0]\n",
        "sales_train = sales_train[sales_train['item_cnt_day']<1000]"
      ],
      "execution_count": null,
      "outputs": []
    },
    {
      "cell_type": "code",
      "metadata": {
        "colab": {
          "base_uri": "https://localhost:8080/",
          "height": 298
        },
        "id": "0cSL5WZ5Jcof",
        "outputId": "88f384ab-c311-450b-fec1-0e649a61474e"
      },
      "source": [
        "plt.figure(figsize=(10,4))\n",
        "sns.boxplot(x=sales_train.item_cnt_day)"
      ],
      "execution_count": null,
      "outputs": [
        {
          "output_type": "execute_result",
          "data": {
            "text/plain": [
              "<AxesSubplot:xlabel='item_cnt_day'>"
            ]
          },
          "metadata": {
            "tags": []
          },
          "execution_count": 22
        },
        {
          "output_type": "display_data",
          "data": {
            "image/png": "[encoded data removed]",
            "text/plain": [
              "<Figure size 720x288 with 1 Axes>"
            ]
          },
          "metadata": {
            "tags": []
          }
        }
      ]
    },
    {
      "cell_type": "code",
      "metadata": {
        "colab": {
          "base_uri": "https://localhost:8080/",
          "height": 298
        },
        "id": "bD0Cr9viJcog",
        "scrolled": true,
        "outputId": "90899bc9-c06e-499c-d461-e73aab22cb80"
      },
      "source": [
        "plt.figure(figsize=(10,4))\n",
        "sns.boxplot(x=sales_train.item_price)"
      ],
      "execution_count": null,
      "outputs": [
        {
          "output_type": "execute_result",
          "data": {
            "text/plain": [
              "<AxesSubplot:xlabel='item_price'>"
            ]
          },
          "metadata": {
            "tags": []
          },
          "execution_count": 23
        },
        {
          "output_type": "display_data",
          "data": {
            "image/png": "[encoded data removed]",
            "text/plain": [
              "<Figure size 720x288 with 1 Axes>"
            ]
          },
          "metadata": {
            "tags": []
          }
        }
      ]
    },
    {
      "cell_type": "markdown",
      "metadata": {
        "id": "8iSjFiT2Jcoh"
      },
      "source": [
        "### 2.3 데이터 통일성 확인\n",
        "#### 여기서 이제 데이터를 이해하고 전체적인 값을 확인하는 것이 중요하다. 몇가지 작업을 해야한다. 현재 #### train 데이터에서 shop_id와 shop_name이 일치하지 않는 부분이 있다."
      ]
    },
    {
      "cell_type": "code",
      "metadata": {
        "colab": {
          "base_uri": "https://localhost:8080/"
        },
        "id": "lbuDLEzSJcoi",
        "outputId": "e9d7e74c-99c9-471b-f592-b890390cf3d5"
      },
      "source": [
        "\n",
        "print(shops['shop_name'][0], '||', shops['shop_name'][57])\n",
        "print(shops['shop_name'][1], '||', shops['shop_name'][58])\n",
        "print(shops['shop_name'][10], '||', shops['shop_name'][11])\n",
        "print(shops['shop_name'][39], '||', shops['shop_name'][40])\n",
        "\n",
        "#  Modify shop_id in sales_train data\n",
        "sales_train.loc[sales_train['shop_id'] == 0, 'shop_id'] = 57\n",
        "sales_train.loc[sales_train['shop_id'] == 1, 'shop_id'] = 58\n",
        "sales_train.loc[sales_train['shop_id'] == 10, 'shop_id'] = 11\n",
        "sales_train.loc[sales_train['shop_id'] == 39, 'shop_id'] = 40\n",
        "\n",
        "#  Modify shop_id in test data\n",
        "test.loc[test['shop_id'] == 0, 'shop_id'] = 57\n",
        "test.loc[test['shop_id'] == 1, 'shop_id'] = 58\n",
        "test.loc[test['shop_id'] == 10, 'shop_id'] = 11\n",
        "test.loc[test['shop_id'] == 39, 'shop_id'] = 40"
      ],
      "execution_count": null,
      "outputs": [
        {
          "output_type": "stream",
          "text": [
            "!Якутск Орджоникидзе, 56 фран || Якутск Орджоникидзе, 56\n",
            "!Якутск ТЦ \"Центральный\" фран || Якутск ТЦ \"Центральный\"\n",
            "Жуковский ул. Чкалова 39м? || Жуковский ул. Чкалова 39м²\n",
            "РостовНаДону ТРК \"Мегацентр Горизонт\" || РостовНаДону ТРК \"Мегацентр Горизонт\" Островной\n"
          ],
          "name": "stdout"
        }
      ]
    },
    {
      "cell_type": "code",
      "metadata": {
        "colab": {
          "base_uri": "https://localhost:8080/",
          "height": 204
        },
        "id": "mCHSjL2gJcok",
        "outputId": "84534e4d-fdc8-4480-cbd4-2e2d3e97a01f"
      },
      "source": [
        "shops.head()"
      ],
      "execution_count": null,
      "outputs": [
        {
          "output_type": "execute_result",
          "data": {
            "text/html": [
              "<div>\n",
              "<style scoped>\n",
              "    .dataframe tbody tr th:only-of-type {\n",
              "        vertical-align: middle;\n",
              "    }\n",
              "\n",
              "    .dataframe tbody tr th {\n",
              "        vertical-align: top;\n",
              "    }\n",
              "\n",
              "    .dataframe thead th {\n",
              "        text-align: right;\n",
              "    }\n",
              "</style>\n",
              "<table border=\"1\" class=\"dataframe\">\n",
              "  <thead>\n",
              "    <tr style=\"text-align: right;\">\n",
              "      <th></th>\n",
              "      <th>shop_name</th>\n",
              "      <th>shop_id</th>\n",
              "    </tr>\n",
              "  </thead>\n",
              "  <tbody>\n",
              "    <tr>\n",
              "      <th>0</th>\n",
              "      <td>!Якутск Орджоникидзе, 56 фран</td>\n",
              "      <td>0</td>\n",
              "    </tr>\n",
              "    <tr>\n",
              "      <th>1</th>\n",
              "      <td>!Якутск ТЦ \"Центральный\" фран</td>\n",
              "      <td>1</td>\n",
              "    </tr>\n",
              "    <tr>\n",
              "      <th>2</th>\n",
              "      <td>Адыгея ТЦ \"Мега\"</td>\n",
              "      <td>2</td>\n",
              "    </tr>\n",
              "    <tr>\n",
              "      <th>3</th>\n",
              "      <td>Балашиха ТРК \"Октябрь-Киномир\"</td>\n",
              "      <td>3</td>\n",
              "    </tr>\n",
              "    <tr>\n",
              "      <th>4</th>\n",
              "      <td>Волжский ТЦ \"Волга Молл\"</td>\n",
              "      <td>4</td>\n",
              "    </tr>\n",
              "  </tbody>\n",
              "</table>\n",
              "</div>"
            ],
            "text/plain": [
              "                        shop_name  shop_id\n",
              "0   !Якутск Орджоникидзе, 56 фран        0\n",
              "1   !Якутск ТЦ \"Центральный\" фран        1\n",
              "2                Адыгея ТЦ \"Мега\"        2\n",
              "3  Балашиха ТРК \"Октябрь-Киномир\"        3\n",
              "4        Волжский ТЦ \"Волга Молл\"        4"
            ]
          },
          "metadata": {
            "tags": []
          },
          "execution_count": 25
        }
      ]
    },
    {
      "cell_type": "code",
      "metadata": {
        "id": "kW_JNjsdJcol"
      },
      "source": [
        "# Leaking to imporve performance\n",
        "unique_test_shop_id = test['shop_id'].unique()\n",
        "sales_train = sales_train[sales_train['shop_id'].isin(unique_test_shop_id)]\n",
        "\n",
        "shops['city'] = shops['shop_name'].apply(lambda x: x.split()[0])\n",
        "shops['city'].unique()\n",
        "\n",
        "shops.loc[shops['city'] =='!Якутск', 'city'] = 'Якутск'\n"
      ],
      "execution_count": null,
      "outputs": []
    },
    {
      "cell_type": "code",
      "metadata": {
        "colab": {
          "base_uri": "https://localhost:8080/",
          "height": 204
        },
        "id": "UDPzxCjqJcom",
        "outputId": "a8e1fc99-38fd-4e7e-b523-a52a24332187"
      },
      "source": [
        "shops.head()"
      ],
      "execution_count": null,
      "outputs": [
        {
          "output_type": "execute_result",
          "data": {
            "text/html": [
              "<div>\n",
              "<style scoped>\n",
              "    .dataframe tbody tr th:only-of-type {\n",
              "        vertical-align: middle;\n",
              "    }\n",
              "\n",
              "    .dataframe tbody tr th {\n",
              "        vertical-align: top;\n",
              "    }\n",
              "\n",
              "    .dataframe thead th {\n",
              "        text-align: right;\n",
              "    }\n",
              "</style>\n",
              "<table border=\"1\" class=\"dataframe\">\n",
              "  <thead>\n",
              "    <tr style=\"text-align: right;\">\n",
              "      <th></th>\n",
              "      <th>shop_name</th>\n",
              "      <th>shop_id</th>\n",
              "      <th>city</th>\n",
              "    </tr>\n",
              "  </thead>\n",
              "  <tbody>\n",
              "    <tr>\n",
              "      <th>0</th>\n",
              "      <td>!Якутск Орджоникидзе, 56 фран</td>\n",
              "      <td>0</td>\n",
              "      <td>Якутск</td>\n",
              "    </tr>\n",
              "    <tr>\n",
              "      <th>1</th>\n",
              "      <td>!Якутск ТЦ \"Центральный\" фран</td>\n",
              "      <td>1</td>\n",
              "      <td>Якутск</td>\n",
              "    </tr>\n",
              "    <tr>\n",
              "      <th>2</th>\n",
              "      <td>Адыгея ТЦ \"Мега\"</td>\n",
              "      <td>2</td>\n",
              "      <td>Адыгея</td>\n",
              "    </tr>\n",
              "    <tr>\n",
              "      <th>3</th>\n",
              "      <td>Балашиха ТРК \"Октябрь-Киномир\"</td>\n",
              "      <td>3</td>\n",
              "      <td>Балашиха</td>\n",
              "    </tr>\n",
              "    <tr>\n",
              "      <th>4</th>\n",
              "      <td>Волжский ТЦ \"Волга Молл\"</td>\n",
              "      <td>4</td>\n",
              "      <td>Волжский</td>\n",
              "    </tr>\n",
              "  </tbody>\n",
              "</table>\n",
              "</div>"
            ],
            "text/plain": [
              "                        shop_name  shop_id      city\n",
              "0   !Якутск Орджоникидзе, 56 фран        0    Якутск\n",
              "1   !Якутск ТЦ \"Центральный\" фран        1    Якутск\n",
              "2                Адыгея ТЦ \"Мега\"        2    Адыгея\n",
              "3  Балашиха ТРК \"Октябрь-Киномир\"        3  Балашиха\n",
              "4        Волжский ТЦ \"Волга Молл\"        4  Волжский"
            ]
          },
          "metadata": {
            "tags": []
          },
          "execution_count": 27
        }
      ]
    },
    {
      "cell_type": "code",
      "metadata": {
        "colab": {
          "base_uri": "https://localhost:8080/",
          "height": 204
        },
        "id": "vYFalV_oJcon",
        "outputId": "8a6a6e30-b6b7-4712-8f20-3fc8ee3a3f81"
      },
      "source": [
        "from sklearn.preprocessing import LabelEncoder\n",
        "\n",
        "# Create Label Encoder\n",
        "label_encoder = LabelEncoder()\n",
        "# City Feature Label Encoding \n",
        "shops['city'] = label_encoder.fit_transform(shops['city'])\n",
        "# Remove shop_name feature\n",
        "shops = shops.drop('shop_name', axis=1)\n",
        "\n",
        "shops.head()\n"
      ],
      "execution_count": null,
      "outputs": [
        {
          "output_type": "execute_result",
          "data": {
            "text/html": [
              "<div>\n",
              "<style scoped>\n",
              "    .dataframe tbody tr th:only-of-type {\n",
              "        vertical-align: middle;\n",
              "    }\n",
              "\n",
              "    .dataframe tbody tr th {\n",
              "        vertical-align: top;\n",
              "    }\n",
              "\n",
              "    .dataframe thead th {\n",
              "        text-align: right;\n",
              "    }\n",
              "</style>\n",
              "<table border=\"1\" class=\"dataframe\">\n",
              "  <thead>\n",
              "    <tr style=\"text-align: right;\">\n",
              "      <th></th>\n",
              "      <th>shop_id</th>\n",
              "      <th>city</th>\n",
              "    </tr>\n",
              "  </thead>\n",
              "  <tbody>\n",
              "    <tr>\n",
              "      <th>0</th>\n",
              "      <td>0</td>\n",
              "      <td>29</td>\n",
              "    </tr>\n",
              "    <tr>\n",
              "      <th>1</th>\n",
              "      <td>1</td>\n",
              "      <td>29</td>\n",
              "    </tr>\n",
              "    <tr>\n",
              "      <th>2</th>\n",
              "      <td>2</td>\n",
              "      <td>0</td>\n",
              "    </tr>\n",
              "    <tr>\n",
              "      <th>3</th>\n",
              "      <td>3</td>\n",
              "      <td>1</td>\n",
              "    </tr>\n",
              "    <tr>\n",
              "      <th>4</th>\n",
              "      <td>4</td>\n",
              "      <td>2</td>\n",
              "    </tr>\n",
              "  </tbody>\n",
              "</table>\n",
              "</div>"
            ],
            "text/plain": [
              "   shop_id  city\n",
              "0        0    29\n",
              "1        1    29\n",
              "2        2     0\n",
              "3        3     1\n",
              "4        4     2"
            ]
          },
          "metadata": {
            "tags": []
          },
          "execution_count": 28
        }
      ]
    },
    {
      "cell_type": "code",
      "metadata": {
        "id": "IP0eG3H4Jcoo"
      },
      "source": [
        "# Remove item_name feature\n",
        "items = items.drop(['item_name'], axis=1)\n",
        "# Create the date the product was first sold as a feature\n",
        "items['first_sale_date'] = sales_train.groupby('item_id').agg({'date_block_num': 'min'})['date_block_num']\n",
        "\n",
        "items.head()\n",
        "items[items['first_sale_date'].isna()]\n",
        "\n",
        "# Replace NaN of first_sale_date with 34 첫번째 팔린 날짜\n",
        "items['first_sale_date'] = items['first_sale_date'].fillna(34)"
      ],
      "execution_count": null,
      "outputs": []
    },
    {
      "cell_type": "code",
      "metadata": {
        "colab": {
          "base_uri": "https://localhost:8080/",
          "height": 451
        },
        "id": "TQYSZugQJcop",
        "outputId": "58b9d3b4-bb10-4ee0-c729-b8bf8038ff38"
      },
      "source": [
        "sales_train.groupby('item_id').agg({'date_block_num': 'min'})"
      ],
      "execution_count": null,
      "outputs": [
        {
          "output_type": "execute_result",
          "data": {
            "text/html": [
              "<div>\n",
              "<style scoped>\n",
              "    .dataframe tbody tr th:only-of-type {\n",
              "        vertical-align: middle;\n",
              "    }\n",
              "\n",
              "    .dataframe tbody tr th {\n",
              "        vertical-align: top;\n",
              "    }\n",
              "\n",
              "    .dataframe thead th {\n",
              "        text-align: right;\n",
              "    }\n",
              "</style>\n",
              "<table border=\"1\" class=\"dataframe\">\n",
              "  <thead>\n",
              "    <tr style=\"text-align: right;\">\n",
              "      <th></th>\n",
              "      <th>date_block_num</th>\n",
              "    </tr>\n",
              "    <tr>\n",
              "      <th>item_id</th>\n",
              "      <th></th>\n",
              "    </tr>\n",
              "  </thead>\n",
              "  <tbody>\n",
              "    <tr>\n",
              "      <th>1</th>\n",
              "      <td>15</td>\n",
              "    </tr>\n",
              "    <tr>\n",
              "      <th>16</th>\n",
              "      <td>20</td>\n",
              "    </tr>\n",
              "    <tr>\n",
              "      <th>17</th>\n",
              "      <td>20</td>\n",
              "    </tr>\n",
              "    <tr>\n",
              "      <th>18</th>\n",
              "      <td>19</td>\n",
              "    </tr>\n",
              "    <tr>\n",
              "      <th>19</th>\n",
              "      <td>0</td>\n",
              "    </tr>\n",
              "    <tr>\n",
              "      <th>...</th>\n",
              "      <td>...</td>\n",
              "    </tr>\n",
              "    <tr>\n",
              "      <th>22165</th>\n",
              "      <td>7</td>\n",
              "    </tr>\n",
              "    <tr>\n",
              "      <th>22166</th>\n",
              "      <td>9</td>\n",
              "    </tr>\n",
              "    <tr>\n",
              "      <th>22167</th>\n",
              "      <td>8</td>\n",
              "    </tr>\n",
              "    <tr>\n",
              "      <th>22168</th>\n",
              "      <td>0</td>\n",
              "    </tr>\n",
              "    <tr>\n",
              "      <th>22169</th>\n",
              "      <td>14</td>\n",
              "    </tr>\n",
              "  </tbody>\n",
              "</table>\n",
              "<p>21080 rows × 1 columns</p>\n",
              "</div>"
            ],
            "text/plain": [
              "         date_block_num\n",
              "item_id                \n",
              "1                    15\n",
              "16                   20\n",
              "17                   20\n",
              "18                   19\n",
              "19                    0\n",
              "...                 ...\n",
              "22165                 7\n",
              "22166                 9\n",
              "22167                 8\n",
              "22168                 0\n",
              "22169                14\n",
              "\n",
              "[21080 rows x 1 columns]"
            ]
          },
          "metadata": {
            "tags": []
          },
          "execution_count": 30
        }
      ]
    },
    {
      "cell_type": "code",
      "metadata": {
        "id": "1MsnjJKiJcoq"
      },
      "source": [
        "\n",
        "# Extract the first word of the item_categories_name into category\n",
        "item_categories['category'] = item_categories['item_category_name'].apply(lambda x: x.split()[0])  \n",
        "item_categories['category'].value_counts()\n",
        "\n",
        "def make_etc(x):\n",
        "    if len(item_categories[item_categories['category']==x]) >= 5:\n",
        "        return x\n",
        "    else:\n",
        "        return 'etc'\n",
        "\n",
        "# Replace with 'etc' if category count is less than 5\n",
        "item_categories['category'] = item_categories['category'].apply(make_etc)\n",
        "item_categories.head()\n",
        "\n",
        "# Create Label Encoder\n",
        "label_encoder = LabelEncoder()\n",
        "# Category Feature Label Encoding \n",
        "item_categories['category'] = label_encoder.fit_transform(item_categories['category'])\n",
        "\n",
        "# Remove item_category_name feature\n",
        "item_categories = item_categories.drop('item_category_name', axis=1)\n"
      ],
      "execution_count": null,
      "outputs": []
    },
    {
      "cell_type": "code",
      "metadata": {
        "colab": {
          "base_uri": "https://localhost:8080/",
          "height": 204
        },
        "id": "-CZvJq6-Jcos",
        "outputId": "8bad97c5-3fa7-4062-bdb8-7e4ebb5da3ba"
      },
      "source": [
        "item_categories.head()"
      ],
      "execution_count": null,
      "outputs": [
        {
          "output_type": "execute_result",
          "data": {
            "text/html": [
              "<div>\n",
              "<style scoped>\n",
              "    .dataframe tbody tr th:only-of-type {\n",
              "        vertical-align: middle;\n",
              "    }\n",
              "\n",
              "    .dataframe tbody tr th {\n",
              "        vertical-align: top;\n",
              "    }\n",
              "\n",
              "    .dataframe thead th {\n",
              "        text-align: right;\n",
              "    }\n",
              "</style>\n",
              "<table border=\"1\" class=\"dataframe\">\n",
              "  <thead>\n",
              "    <tr style=\"text-align: right;\">\n",
              "      <th></th>\n",
              "      <th>item_category_id</th>\n",
              "      <th>category</th>\n",
              "    </tr>\n",
              "  </thead>\n",
              "  <tbody>\n",
              "    <tr>\n",
              "      <th>0</th>\n",
              "      <td>0</td>\n",
              "      <td>0</td>\n",
              "    </tr>\n",
              "    <tr>\n",
              "      <th>1</th>\n",
              "      <td>1</td>\n",
              "      <td>1</td>\n",
              "    </tr>\n",
              "    <tr>\n",
              "      <th>2</th>\n",
              "      <td>2</td>\n",
              "      <td>1</td>\n",
              "    </tr>\n",
              "    <tr>\n",
              "      <th>3</th>\n",
              "      <td>3</td>\n",
              "      <td>1</td>\n",
              "    </tr>\n",
              "    <tr>\n",
              "      <th>4</th>\n",
              "      <td>4</td>\n",
              "      <td>1</td>\n",
              "    </tr>\n",
              "  </tbody>\n",
              "</table>\n",
              "</div>"
            ],
            "text/plain": [
              "   item_category_id  category\n",
              "0                 0         0\n",
              "1                 1         1\n",
              "2                 2         1\n",
              "3                 3         1\n",
              "4                 4         1"
            ]
          },
          "metadata": {
            "tags": []
          },
          "execution_count": 32
        }
      ]
    },
    {
      "cell_type": "code",
      "metadata": {
        "colab": {
          "base_uri": "https://localhost:8080/",
          "height": 204
        },
        "id": "jYcHoptRJcot",
        "outputId": "76e922a2-27d7-44a8-e7fe-80ead84f2ffb"
      },
      "source": [
        "from itertools import product\n",
        "\n",
        "train = []\n",
        "# Create date_block_num, sop_id, item_id combination\n",
        "for i in sales_train['date_block_num'].unique():\n",
        "    all_shop = sales_train.loc[sales_train['date_block_num']==i, 'shop_id'].unique()\n",
        "    all_item = sales_train.loc[sales_train['date_block_num']==i, 'item_id'].unique()\n",
        "    train.append(np.array(list(product([i], all_shop, all_item))))\n",
        "    \n",
        "\n",
        "idx_features = ['date_block_num', 'shop_id', 'item_id'] # base features\n",
        "train = pd.DataFrame(np.vstack(train), columns=idx_features)\n",
        "group = sales_train.groupby(idx_features).agg({'item_cnt_day': 'sum',\n",
        "                                               'item_price': 'mean'})\n",
        "group = group.reset_index()\n",
        "group = group.rename(columns={'item_cnt_day': 'item_cnt_month', 'item_price': 'item_price_mean'})\n",
        "\n",
        "train = train.merge(group, on=idx_features, how='left')\n",
        "\n",
        "train.head()\n"
      ],
      "execution_count": null,
      "outputs": [
        {
          "output_type": "execute_result",
          "data": {
            "text/html": [
              "<div>\n",
              "<style scoped>\n",
              "    .dataframe tbody tr th:only-of-type {\n",
              "        vertical-align: middle;\n",
              "    }\n",
              "\n",
              "    .dataframe tbody tr th {\n",
              "        vertical-align: top;\n",
              "    }\n",
              "\n",
              "    .dataframe thead th {\n",
              "        text-align: right;\n",
              "    }\n",
              "</style>\n",
              "<table border=\"1\" class=\"dataframe\">\n",
              "  <thead>\n",
              "    <tr style=\"text-align: right;\">\n",
              "      <th></th>\n",
              "      <th>date_block_num</th>\n",
              "      <th>shop_id</th>\n",
              "      <th>item_id</th>\n",
              "      <th>item_cnt_month</th>\n",
              "      <th>item_price_mean</th>\n",
              "    </tr>\n",
              "  </thead>\n",
              "  <tbody>\n",
              "    <tr>\n",
              "      <th>0</th>\n",
              "      <td>0</td>\n",
              "      <td>59</td>\n",
              "      <td>22154</td>\n",
              "      <td>1.000</td>\n",
              "      <td>999.000</td>\n",
              "    </tr>\n",
              "    <tr>\n",
              "      <th>1</th>\n",
              "      <td>0</td>\n",
              "      <td>59</td>\n",
              "      <td>2552</td>\n",
              "      <td>nan</td>\n",
              "      <td>nan</td>\n",
              "    </tr>\n",
              "    <tr>\n",
              "      <th>2</th>\n",
              "      <td>0</td>\n",
              "      <td>59</td>\n",
              "      <td>2554</td>\n",
              "      <td>nan</td>\n",
              "      <td>nan</td>\n",
              "    </tr>\n",
              "    <tr>\n",
              "      <th>3</th>\n",
              "      <td>0</td>\n",
              "      <td>59</td>\n",
              "      <td>2555</td>\n",
              "      <td>nan</td>\n",
              "      <td>nan</td>\n",
              "    </tr>\n",
              "    <tr>\n",
              "      <th>4</th>\n",
              "      <td>0</td>\n",
              "      <td>59</td>\n",
              "      <td>2564</td>\n",
              "      <td>nan</td>\n",
              "      <td>nan</td>\n",
              "    </tr>\n",
              "  </tbody>\n",
              "</table>\n",
              "</div>"
            ],
            "text/plain": [
              "   date_block_num  shop_id  item_id  item_cnt_month  item_price_mean\n",
              "0               0       59    22154           1.000          999.000\n",
              "1               0       59     2552             nan              nan\n",
              "2               0       59     2554             nan              nan\n",
              "3               0       59     2555             nan              nan\n",
              "4               0       59     2564             nan              nan"
            ]
          },
          "metadata": {
            "tags": []
          },
          "execution_count": 33
        }
      ]
    },
    {
      "cell_type": "code",
      "metadata": {
        "colab": {
          "base_uri": "https://localhost:8080/",
          "height": 395
        },
        "id": "2tgpSkb9Jcow",
        "outputId": "528ed8d2-a579-4c85-f791-ba59b3b81ef2"
      },
      "source": [
        "import gc\n",
        "\n",
        "# group variable garbage collection\n",
        "del group\n",
        "gc.collect();\n",
        "# Add a feature for the number of items sold\n",
        "group = sales_train.groupby(idx_features).agg({'item_cnt_day': 'count'})\n",
        "group = group.reset_index()\n",
        "group = group.rename(columns={'item_cnt_day': 'item_count'})\n",
        "\n",
        "train = train.merge(group, on=idx_features, how='left')\n",
        "\n",
        "# Garbage collection\n",
        "del group, sales_train\n",
        "gc.collect()\n",
        "\n",
        "train.head()\n",
        "\n",
        "# Set test data date_block_num to 34\n",
        "test['date_block_num'] = 34\n",
        "\n",
        "\n",
        "# Concatenate train and test\n",
        "all_data = pd.concat([train, test.drop('ID', axis=1)],\n",
        "                     ignore_index=True,\n",
        "                     keys=idx_features)\n",
        "# Replace NaN with 0\n",
        "all_data = all_data.fillna(0)\n",
        "\n",
        "all_data.head()\n",
        "\n",
        "# Merge other data\n",
        "all_data = all_data.merge(shops, on='shop_id', how='left')\n",
        "all_data = all_data.merge(items, on='item_id', how='left')\n",
        "all_data = all_data.merge(item_categories, on='item_category_id', how='left')\n",
        "\n",
        "# Data downcasting\n",
        "all_data = downcast(all_data)\n",
        "\n",
        "# Garbage collection\n",
        "del shops, items, item_categories\n",
        "gc.collect();\n",
        "\n",
        "def resumetable(df):\n",
        "    print(f'Data Shape: {df.shape}')\n",
        "    summary = pd.DataFrame(df.dtypes, columns=['Dtypes'])\n",
        "    summary['Null'] = df.isnull().sum().values\n",
        "    summary['Uniques'] = df.nunique().values\n",
        "    summary['First_values'] = df.loc[0].values\n",
        "    summary['Second_values'] = df.loc[1].values\n",
        "    summary['Third_values'] = df.loc[2].values\n",
        "    \n",
        "    return summary\n",
        "resumetable(all_data)\n",
        "\n"
      ],
      "execution_count": null,
      "outputs": [
        {
          "output_type": "stream",
          "text": [
            "59.6% compressed\n",
            "Data Shape: (8856961, 10)\n"
          ],
          "name": "stdout"
        },
        {
          "output_type": "execute_result",
          "data": {
            "text/html": [
              "<div>\n",
              "<style scoped>\n",
              "    .dataframe tbody tr th:only-of-type {\n",
              "        vertical-align: middle;\n",
              "    }\n",
              "\n",
              "    .dataframe tbody tr th {\n",
              "        vertical-align: top;\n",
              "    }\n",
              "\n",
              "    .dataframe thead th {\n",
              "        text-align: right;\n",
              "    }\n",
              "</style>\n",
              "<table border=\"1\" class=\"dataframe\">\n",
              "  <thead>\n",
              "    <tr style=\"text-align: right;\">\n",
              "      <th></th>\n",
              "      <th>Dtypes</th>\n",
              "      <th>Null</th>\n",
              "      <th>Uniques</th>\n",
              "      <th>First_values</th>\n",
              "      <th>Second_values</th>\n",
              "      <th>Third_values</th>\n",
              "    </tr>\n",
              "  </thead>\n",
              "  <tbody>\n",
              "    <tr>\n",
              "      <th>date_block_num</th>\n",
              "      <td>int8</td>\n",
              "      <td>0</td>\n",
              "      <td>35</td>\n",
              "      <td>0.000</td>\n",
              "      <td>0.000</td>\n",
              "      <td>0.000</td>\n",
              "    </tr>\n",
              "    <tr>\n",
              "      <th>shop_id</th>\n",
              "      <td>int8</td>\n",
              "      <td>0</td>\n",
              "      <td>42</td>\n",
              "      <td>59.000</td>\n",
              "      <td>59.000</td>\n",
              "      <td>59.000</td>\n",
              "    </tr>\n",
              "    <tr>\n",
              "      <th>item_id</th>\n",
              "      <td>int16</td>\n",
              "      <td>0</td>\n",
              "      <td>21464</td>\n",
              "      <td>22154.000</td>\n",
              "      <td>2552.000</td>\n",
              "      <td>2554.000</td>\n",
              "    </tr>\n",
              "    <tr>\n",
              "      <th>item_cnt_month</th>\n",
              "      <td>int16</td>\n",
              "      <td>0</td>\n",
              "      <td>407</td>\n",
              "      <td>1.000</td>\n",
              "      <td>0.000</td>\n",
              "      <td>0.000</td>\n",
              "    </tr>\n",
              "    <tr>\n",
              "      <th>item_price_mean</th>\n",
              "      <td>float32</td>\n",
              "      <td>0</td>\n",
              "      <td>34147</td>\n",
              "      <td>999.000</td>\n",
              "      <td>0.000</td>\n",
              "      <td>0.000</td>\n",
              "    </tr>\n",
              "    <tr>\n",
              "      <th>item_count</th>\n",
              "      <td>int8</td>\n",
              "      <td>0</td>\n",
              "      <td>40</td>\n",
              "      <td>1.000</td>\n",
              "      <td>0.000</td>\n",
              "      <td>0.000</td>\n",
              "    </tr>\n",
              "    <tr>\n",
              "      <th>city</th>\n",
              "      <td>int8</td>\n",
              "      <td>0</td>\n",
              "      <td>28</td>\n",
              "      <td>30.000</td>\n",
              "      <td>30.000</td>\n",
              "      <td>30.000</td>\n",
              "    </tr>\n",
              "    <tr>\n",
              "      <th>item_category_id</th>\n",
              "      <td>int8</td>\n",
              "      <td>0</td>\n",
              "      <td>84</td>\n",
              "      <td>37.000</td>\n",
              "      <td>58.000</td>\n",
              "      <td>58.000</td>\n",
              "    </tr>\n",
              "    <tr>\n",
              "      <th>first_sale_date</th>\n",
              "      <td>int8</td>\n",
              "      <td>0</td>\n",
              "      <td>35</td>\n",
              "      <td>0.000</td>\n",
              "      <td>0.000</td>\n",
              "      <td>0.000</td>\n",
              "    </tr>\n",
              "    <tr>\n",
              "      <th>category</th>\n",
              "      <td>int8</td>\n",
              "      <td>0</td>\n",
              "      <td>10</td>\n",
              "      <td>5.000</td>\n",
              "      <td>7.000</td>\n",
              "      <td>7.000</td>\n",
              "    </tr>\n",
              "  </tbody>\n",
              "</table>\n",
              "</div>"
            ],
            "text/plain": [
              "                   Dtypes  Null  Uniques  First_values  Second_values  \\\n",
              "date_block_num       int8     0       35         0.000          0.000   \n",
              "shop_id              int8     0       42        59.000         59.000   \n",
              "item_id             int16     0    21464     22154.000       2552.000   \n",
              "item_cnt_month      int16     0      407         1.000          0.000   \n",
              "item_price_mean   float32     0    34147       999.000          0.000   \n",
              "item_count           int8     0       40         1.000          0.000   \n",
              "city                 int8     0       28        30.000         30.000   \n",
              "item_category_id     int8     0       84        37.000         58.000   \n",
              "first_sale_date      int8     0       35         0.000          0.000   \n",
              "category             int8     0       10         5.000          7.000   \n",
              "\n",
              "                  Third_values  \n",
              "date_block_num           0.000  \n",
              "shop_id                 59.000  \n",
              "item_id               2554.000  \n",
              "item_cnt_month           0.000  \n",
              "item_price_mean          0.000  \n",
              "item_count               0.000  \n",
              "city                    30.000  \n",
              "item_category_id        58.000  \n",
              "first_sale_date          0.000  \n",
              "category                 7.000  "
            ]
          },
          "metadata": {
            "tags": []
          },
          "execution_count": 34
        }
      ]
    },
    {
      "cell_type": "code",
      "metadata": {
        "colab": {
          "base_uri": "https://localhost:8080/",
          "height": 204
        },
        "id": "Andl_3qRJcoz",
        "outputId": "9bb35ad3-c9c8-44f9-9611-4b32da69c841"
      },
      "source": [
        "all_data.head()"
      ],
      "execution_count": null,
      "outputs": [
        {
          "output_type": "execute_result",
          "data": {
            "text/html": [
              "<div>\n",
              "<style scoped>\n",
              "    .dataframe tbody tr th:only-of-type {\n",
              "        vertical-align: middle;\n",
              "    }\n",
              "\n",
              "    .dataframe tbody tr th {\n",
              "        vertical-align: top;\n",
              "    }\n",
              "\n",
              "    .dataframe thead th {\n",
              "        text-align: right;\n",
              "    }\n",
              "</style>\n",
              "<table border=\"1\" class=\"dataframe\">\n",
              "  <thead>\n",
              "    <tr style=\"text-align: right;\">\n",
              "      <th></th>\n",
              "      <th>date_block_num</th>\n",
              "      <th>shop_id</th>\n",
              "      <th>item_id</th>\n",
              "      <th>item_cnt_month</th>\n",
              "      <th>item_price_mean</th>\n",
              "      <th>item_count</th>\n",
              "      <th>city</th>\n",
              "      <th>item_category_id</th>\n",
              "      <th>first_sale_date</th>\n",
              "      <th>category</th>\n",
              "    </tr>\n",
              "  </thead>\n",
              "  <tbody>\n",
              "    <tr>\n",
              "      <th>0</th>\n",
              "      <td>0</td>\n",
              "      <td>59</td>\n",
              "      <td>22154</td>\n",
              "      <td>1</td>\n",
              "      <td>999.000</td>\n",
              "      <td>1</td>\n",
              "      <td>30</td>\n",
              "      <td>37</td>\n",
              "      <td>0</td>\n",
              "      <td>5</td>\n",
              "    </tr>\n",
              "    <tr>\n",
              "      <th>1</th>\n",
              "      <td>0</td>\n",
              "      <td>59</td>\n",
              "      <td>2552</td>\n",
              "      <td>0</td>\n",
              "      <td>0.000</td>\n",
              "      <td>0</td>\n",
              "      <td>30</td>\n",
              "      <td>58</td>\n",
              "      <td>0</td>\n",
              "      <td>7</td>\n",
              "    </tr>\n",
              "    <tr>\n",
              "      <th>2</th>\n",
              "      <td>0</td>\n",
              "      <td>59</td>\n",
              "      <td>2554</td>\n",
              "      <td>0</td>\n",
              "      <td>0.000</td>\n",
              "      <td>0</td>\n",
              "      <td>30</td>\n",
              "      <td>58</td>\n",
              "      <td>0</td>\n",
              "      <td>7</td>\n",
              "    </tr>\n",
              "    <tr>\n",
              "      <th>3</th>\n",
              "      <td>0</td>\n",
              "      <td>59</td>\n",
              "      <td>2555</td>\n",
              "      <td>0</td>\n",
              "      <td>0.000</td>\n",
              "      <td>0</td>\n",
              "      <td>30</td>\n",
              "      <td>56</td>\n",
              "      <td>0</td>\n",
              "      <td>7</td>\n",
              "    </tr>\n",
              "    <tr>\n",
              "      <th>4</th>\n",
              "      <td>0</td>\n",
              "      <td>59</td>\n",
              "      <td>2564</td>\n",
              "      <td>0</td>\n",
              "      <td>0.000</td>\n",
              "      <td>0</td>\n",
              "      <td>30</td>\n",
              "      <td>59</td>\n",
              "      <td>0</td>\n",
              "      <td>7</td>\n",
              "    </tr>\n",
              "  </tbody>\n",
              "</table>\n",
              "</div>"
            ],
            "text/plain": [
              "   date_block_num  shop_id  item_id  item_cnt_month  item_price_mean  \\\n",
              "0               0       59    22154               1          999.000   \n",
              "1               0       59     2552               0            0.000   \n",
              "2               0       59     2554               0            0.000   \n",
              "3               0       59     2555               0            0.000   \n",
              "4               0       59     2564               0            0.000   \n",
              "\n",
              "   item_count  city  item_category_id  first_sale_date  category  \n",
              "0           1    30                37                0         5  \n",
              "1           0    30                58                0         7  \n",
              "2           0    30                58                0         7  \n",
              "3           0    30                56                0         7  \n",
              "4           0    30                59                0         7  "
            ]
          },
          "metadata": {
            "tags": []
          },
          "execution_count": 35
        }
      ]
    },
    {
      "cell_type": "code",
      "metadata": {
        "colab": {
          "base_uri": "https://localhost:8080/",
          "height": 1000
        },
        "id": "V_9Zxq2yJco0",
        "outputId": "6ffa0997-64cd-48d3-8b63-f008927ee0dc"
      },
      "source": [
        "all_data.groupby('date_block_num').agg({'item_cnt_month': 'sum'})"
      ],
      "execution_count": null,
      "outputs": [
        {
          "output_type": "execute_result",
          "data": {
            "text/html": [
              "<div>\n",
              "<style scoped>\n",
              "    .dataframe tbody tr th:only-of-type {\n",
              "        vertical-align: middle;\n",
              "    }\n",
              "\n",
              "    .dataframe tbody tr th {\n",
              "        vertical-align: top;\n",
              "    }\n",
              "\n",
              "    .dataframe thead th {\n",
              "        text-align: right;\n",
              "    }\n",
              "</style>\n",
              "<table border=\"1\" class=\"dataframe\">\n",
              "  <thead>\n",
              "    <tr style=\"text-align: right;\">\n",
              "      <th></th>\n",
              "      <th>item_cnt_month</th>\n",
              "    </tr>\n",
              "    <tr>\n",
              "      <th>date_block_num</th>\n",
              "      <th></th>\n",
              "    </tr>\n",
              "  </thead>\n",
              "  <tbody>\n",
              "    <tr>\n",
              "      <th>0</th>\n",
              "      <td>100718.000</td>\n",
              "    </tr>\n",
              "    <tr>\n",
              "      <th>1</th>\n",
              "      <td>100207.000</td>\n",
              "    </tr>\n",
              "    <tr>\n",
              "      <th>2</th>\n",
              "      <td>114905.000</td>\n",
              "    </tr>\n",
              "    <tr>\n",
              "      <th>3</th>\n",
              "      <td>84189.000</td>\n",
              "    </tr>\n",
              "    <tr>\n",
              "      <th>4</th>\n",
              "      <td>85763.000</td>\n",
              "    </tr>\n",
              "    <tr>\n",
              "      <th>5</th>\n",
              "      <td>103566.000</td>\n",
              "    </tr>\n",
              "    <tr>\n",
              "      <th>6</th>\n",
              "      <td>94986.000</td>\n",
              "    </tr>\n",
              "    <tr>\n",
              "      <th>7</th>\n",
              "      <td>101691.000</td>\n",
              "    </tr>\n",
              "    <tr>\n",
              "      <th>8</th>\n",
              "      <td>107568.000</td>\n",
              "    </tr>\n",
              "    <tr>\n",
              "      <th>9</th>\n",
              "      <td>98640.000</td>\n",
              "    </tr>\n",
              "    <tr>\n",
              "      <th>10</th>\n",
              "      <td>105871.000</td>\n",
              "    </tr>\n",
              "    <tr>\n",
              "      <th>11</th>\n",
              "      <td>149596.000</td>\n",
              "    </tr>\n",
              "    <tr>\n",
              "      <th>12</th>\n",
              "      <td>93532.000</td>\n",
              "    </tr>\n",
              "    <tr>\n",
              "      <th>13</th>\n",
              "      <td>89568.000</td>\n",
              "    </tr>\n",
              "    <tr>\n",
              "      <th>14</th>\n",
              "      <td>93754.000</td>\n",
              "    </tr>\n",
              "    <tr>\n",
              "      <th>15</th>\n",
              "      <td>77863.000</td>\n",
              "    </tr>\n",
              "    <tr>\n",
              "      <th>16</th>\n",
              "      <td>79114.000</td>\n",
              "    </tr>\n",
              "    <tr>\n",
              "      <th>17</th>\n",
              "      <td>79394.000</td>\n",
              "    </tr>\n",
              "    <tr>\n",
              "      <th>18</th>\n",
              "      <td>74844.000</td>\n",
              "    </tr>\n",
              "    <tr>\n",
              "      <th>19</th>\n",
              "      <td>84347.000</td>\n",
              "    </tr>\n",
              "    <tr>\n",
              "      <th>20</th>\n",
              "      <td>81850.000</td>\n",
              "    </tr>\n",
              "    <tr>\n",
              "      <th>21</th>\n",
              "      <td>81493.000</td>\n",
              "    </tr>\n",
              "    <tr>\n",
              "      <th>22</th>\n",
              "      <td>97211.000</td>\n",
              "    </tr>\n",
              "    <tr>\n",
              "      <th>23</th>\n",
              "      <td>140654.000</td>\n",
              "    </tr>\n",
              "    <tr>\n",
              "      <th>24</th>\n",
              "      <td>91120.000</td>\n",
              "    </tr>\n",
              "    <tr>\n",
              "      <th>25</th>\n",
              "      <td>72865.000</td>\n",
              "    </tr>\n",
              "    <tr>\n",
              "      <th>26</th>\n",
              "      <td>71656.000</td>\n",
              "    </tr>\n",
              "    <tr>\n",
              "      <th>27</th>\n",
              "      <td>71979.000</td>\n",
              "    </tr>\n",
              "    <tr>\n",
              "      <th>28</th>\n",
              "      <td>67005.000</td>\n",
              "    </tr>\n",
              "    <tr>\n",
              "      <th>29</th>\n",
              "      <td>60220.000</td>\n",
              "    </tr>\n",
              "    <tr>\n",
              "      <th>30</th>\n",
              "      <td>60084.000</td>\n",
              "    </tr>\n",
              "    <tr>\n",
              "      <th>31</th>\n",
              "      <td>65280.000</td>\n",
              "    </tr>\n",
              "    <tr>\n",
              "      <th>32</th>\n",
              "      <td>72365.000</td>\n",
              "    </tr>\n",
              "    <tr>\n",
              "      <th>33</th>\n",
              "      <td>63216.000</td>\n",
              "    </tr>\n",
              "    <tr>\n",
              "      <th>34</th>\n",
              "      <td>0.000</td>\n",
              "    </tr>\n",
              "  </tbody>\n",
              "</table>\n",
              "</div>"
            ],
            "text/plain": [
              "                item_cnt_month\n",
              "date_block_num                \n",
              "0                   100718.000\n",
              "1                   100207.000\n",
              "2                   114905.000\n",
              "3                    84189.000\n",
              "4                    85763.000\n",
              "5                   103566.000\n",
              "6                    94986.000\n",
              "7                   101691.000\n",
              "8                   107568.000\n",
              "9                    98640.000\n",
              "10                  105871.000\n",
              "11                  149596.000\n",
              "12                   93532.000\n",
              "13                   89568.000\n",
              "14                   93754.000\n",
              "15                   77863.000\n",
              "16                   79114.000\n",
              "17                   79394.000\n",
              "18                   74844.000\n",
              "19                   84347.000\n",
              "20                   81850.000\n",
              "21                   81493.000\n",
              "22                   97211.000\n",
              "23                  140654.000\n",
              "24                   91120.000\n",
              "25                   72865.000\n",
              "26                   71656.000\n",
              "27                   71979.000\n",
              "28                   67005.000\n",
              "29                   60220.000\n",
              "30                   60084.000\n",
              "31                   65280.000\n",
              "32                   72365.000\n",
              "33                   63216.000\n",
              "34                       0.000"
            ]
          },
          "metadata": {
            "tags": []
          },
          "execution_count": 36
        }
      ]
    },
    {
      "cell_type": "code",
      "metadata": {
        "colab": {
          "base_uri": "https://localhost:8080/",
          "height": 1000
        },
        "id": "A2DpdGhBJco1",
        "outputId": "16a1cf50-fbaf-46a9-8f84-6d7fb5672e58"
      },
      "source": [
        "import seaborn as sns\n",
        "import matplotlib as mpl\n",
        "import matplotlib.pyplot as plt\n",
        "%matplotlib inline\n",
        "\n",
        "mpl.rc('font', size=13)\n",
        "figure, ax = plt.subplots() \n",
        "figure.set_size_inches(11, 5)\n",
        "\n",
        "# total montly item sales\n",
        "group_month_sum = all_data.groupby('date_block_num').agg({'item_cnt_month': 'sum'})\n",
        "group_month_sum = group_month_sum.reset_index()\n",
        "\n",
        "sns.barplot(x='date_block_num', y='item_cnt_month', data=group_month_sum)\n",
        "ax.set(title='Distribution of monthly item counts by date block number',\n",
        "       xlabel='Date block number', \n",
        "       ylabel='Monthly item counts');\n",
        "\n",
        "figure, ax= plt.subplots() \n",
        "figure.set_size_inches(11, 5)\n",
        "\n",
        "# Total item sales by item_category_id\n",
        "group_cat_sum = all_data.groupby('item_category_id').agg({'item_cnt_month': 'sum'})\n",
        "group_cat_sum = group_cat_sum.reset_index()\n",
        "\n",
        "# Extract only item categories with total sales > 10,000\n",
        "group_cat_sum = group_cat_sum[group_cat_sum['item_cnt_month'] > 10000]\n",
        "\n",
        "sns.barplot(x='item_category_id', y='item_cnt_month', data=group_cat_sum)\n",
        "ax.set(title='Distribution of total item counts by item category id',\n",
        "       xlabel='Item category ID', \n",
        "       ylabel='Total item counts')\n",
        "ax.tick_params(axis='x', labelrotation=90) # Rotate X label\n",
        "\n",
        "figure, ax= plt.subplots() \n",
        "figure.set_size_inches(11, 5)\n",
        "\n",
        "# Total item sales by shop_id\n",
        "group_shop_sum = all_data.groupby('shop_id').agg({'item_cnt_month': 'sum'})\n",
        "group_shop_sum = group_shop_sum.reset_index()\n",
        "\n",
        "group_shop_sum = group_shop_sum[group_shop_sum['item_cnt_month'] > 10000]\n",
        "\n",
        "sns.barplot(x='shop_id', y='item_cnt_month', data=group_shop_sum)\n",
        "ax.set(title='Distribution of total item counts by shop id',\n",
        "       xlabel='Shop ID', \n",
        "       ylabel='Total item counts')\n",
        "ax.tick_params(axis='x', labelrotation=90)"
      ],
      "execution_count": null,
      "outputs": [
        {
          "output_type": "display_data",
          "data": {
            "image/png": "[encoded data removed]",
            "text/plain": [
              "<Figure size 792x360 with 1 Axes>"
            ]
          },
          "metadata": {
            "tags": [],
            "needs_background": "light"
          }
        },
        {
          "output_type": "display_data",
          "data": {
            "image/png": "[encoded data removed]",
            "text/plain": [
              "<Figure size 792x360 with 1 Axes>"
            ]
          },
          "metadata": {
            "tags": [],
            "needs_background": "light"
          }
        },
        {
          "output_type": "display_data",
          "data": {
            "image/png": "[encoded data removed]",
            "text/plain": [
              "<Figure size 792x360 with 1 Axes>"
            ]
          },
          "metadata": {
            "tags": [],
            "needs_background": "light"
          }
        }
      ]
    },
    {
      "cell_type": "code",
      "metadata": {
        "id": "YqZMaCVMJco3"
      },
      "source": [
        "#all_data, item_mean_features = add_mean_features(df=all_data,\n",
        "#                                                 mean_features=item_mean_features,\n",
        "#                                                 idx_features=['date_block_num', 'item_id'])\n",
        "\n",
        "def add_mean_features(df, mean_features, idx_features):\n",
        "    # Check base features\n",
        "    assert (idx_features[0] == 'date_block_num') and \\\n",
        "           len(idx_features) in [2, 3]\n",
        "    \n",
        "    # Set derived feature name \n",
        "    if len(idx_features) == 2:\n",
        "        feature_name = idx_features[1] + '_mean_sales'\n",
        "    else:\n",
        "        feature_name = idx_features[1] + '_' + idx_features[2] + '_mean_sales'\n",
        "    \n",
        "    # Get average monthly sales by grouping based on base features\n",
        "    group = df.groupby(idx_features).agg({'item_cnt_month': 'mean'})\n",
        "    group = group.reset_index()\n",
        "    group = group.rename(columns={'item_cnt_month': feature_name})\n",
        "    \n",
        "    # Merge df with group based on idx_features\n",
        "    df = df.merge(group, on=idx_features, how='left')\n",
        "    # Date downcasting\n",
        "    df = downcast(df, False)\n",
        "    # Append newly created mean_feature_name features to the mean_features list\n",
        "    mean_features.append(feature_name)\n",
        "    # Garbage collection\n",
        "    del group\n",
        "    gc.collect()\n",
        "    \n",
        "    return df, mean_features"
      ],
      "execution_count": null,
      "outputs": []
    },
    {
      "cell_type": "code",
      "metadata": {
        "colab": {
          "base_uri": "https://localhost:8080/",
          "height": 297
        },
        "id": "uxdomu_rJco5",
        "outputId": "b7d7eadf-6cba-4fc4-85ad-3fd6d6185cbc"
      },
      "source": [
        "all_data.describe()"
      ],
      "execution_count": null,
      "outputs": [
        {
          "output_type": "execute_result",
          "data": {
            "text/html": [
              "<div>\n",
              "<style scoped>\n",
              "    .dataframe tbody tr th:only-of-type {\n",
              "        vertical-align: middle;\n",
              "    }\n",
              "\n",
              "    .dataframe tbody tr th {\n",
              "        vertical-align: top;\n",
              "    }\n",
              "\n",
              "    .dataframe thead th {\n",
              "        text-align: right;\n",
              "    }\n",
              "</style>\n",
              "<table border=\"1\" class=\"dataframe\">\n",
              "  <thead>\n",
              "    <tr style=\"text-align: right;\">\n",
              "      <th></th>\n",
              "      <th>date_block_num</th>\n",
              "      <th>shop_id</th>\n",
              "      <th>item_id</th>\n",
              "      <th>item_cnt_month</th>\n",
              "      <th>item_price_mean</th>\n",
              "      <th>item_count</th>\n",
              "      <th>city</th>\n",
              "      <th>item_category_id</th>\n",
              "      <th>first_sale_date</th>\n",
              "      <th>category</th>\n",
              "    </tr>\n",
              "  </thead>\n",
              "  <tbody>\n",
              "    <tr>\n",
              "      <th>count</th>\n",
              "      <td>8856961.000</td>\n",
              "      <td>8856961.000</td>\n",
              "      <td>8856961.000</td>\n",
              "      <td>8856961.000</td>\n",
              "      <td>8856961.000</td>\n",
              "      <td>8856961.000</td>\n",
              "      <td>8856961.000</td>\n",
              "      <td>8856961.000</td>\n",
              "      <td>8856961.000</td>\n",
              "      <td>8856961.000</td>\n",
              "    </tr>\n",
              "    <tr>\n",
              "      <th>mean</th>\n",
              "      <td>16.019</td>\n",
              "      <td>31.019</td>\n",
              "      <td>11250.661</td>\n",
              "      <td>0.341</td>\n",
              "      <td>121.119</td>\n",
              "      <td>0.274</td>\n",
              "      <td>15.208</td>\n",
              "      <td>44.834</td>\n",
              "      <td>6.229</td>\n",
              "      <td>5.563</td>\n",
              "    </tr>\n",
              "    <tr>\n",
              "      <th>std</th>\n",
              "      <td>9.977</td>\n",
              "      <td>17.923</td>\n",
              "      <td>6216.085</td>\n",
              "      <td>3.387</td>\n",
              "      <td>661.657</td>\n",
              "      <td>1.008</td>\n",
              "      <td>8.358</td>\n",
              "      <td>15.272</td>\n",
              "      <td>8.508</td>\n",
              "      <td>1.826</td>\n",
              "    </tr>\n",
              "    <tr>\n",
              "      <th>min</th>\n",
              "      <td>0.000</td>\n",
              "      <td>2.000</td>\n",
              "      <td>1.000</td>\n",
              "      <td>0.000</td>\n",
              "      <td>0.000</td>\n",
              "      <td>0.000</td>\n",
              "      <td>0.000</td>\n",
              "      <td>0.000</td>\n",
              "      <td>0.000</td>\n",
              "      <td>0.000</td>\n",
              "    </tr>\n",
              "    <tr>\n",
              "      <th>25%</th>\n",
              "      <td>7.000</td>\n",
              "      <td>15.000</td>\n",
              "      <td>5859.000</td>\n",
              "      <td>0.000</td>\n",
              "      <td>0.000</td>\n",
              "      <td>0.000</td>\n",
              "      <td>9.000</td>\n",
              "      <td>37.000</td>\n",
              "      <td>0.000</td>\n",
              "      <td>5.000</td>\n",
              "    </tr>\n",
              "    <tr>\n",
              "      <th>50%</th>\n",
              "      <td>15.000</td>\n",
              "      <td>31.000</td>\n",
              "      <td>11344.000</td>\n",
              "      <td>0.000</td>\n",
              "      <td>0.000</td>\n",
              "      <td>0.000</td>\n",
              "      <td>13.000</td>\n",
              "      <td>40.000</td>\n",
              "      <td>1.000</td>\n",
              "      <td>5.000</td>\n",
              "    </tr>\n",
              "    <tr>\n",
              "      <th>75%</th>\n",
              "      <td>24.000</td>\n",
              "      <td>47.000</td>\n",
              "      <td>16533.000</td>\n",
              "      <td>0.000</td>\n",
              "      <td>0.000</td>\n",
              "      <td>0.000</td>\n",
              "      <td>22.000</td>\n",
              "      <td>55.000</td>\n",
              "      <td>11.000</td>\n",
              "      <td>7.000</td>\n",
              "    </tr>\n",
              "    <tr>\n",
              "      <th>max</th>\n",
              "      <td>34.000</td>\n",
              "      <td>59.000</td>\n",
              "      <td>22169.000</td>\n",
              "      <td>1644.000</td>\n",
              "      <td>49782.000</td>\n",
              "      <td>57.000</td>\n",
              "      <td>30.000</td>\n",
              "      <td>83.000</td>\n",
              "      <td>34.000</td>\n",
              "      <td>9.000</td>\n",
              "    </tr>\n",
              "  </tbody>\n",
              "</table>\n",
              "</div>"
            ],
            "text/plain": [
              "       date_block_num     shop_id     item_id  item_cnt_month  \\\n",
              "count     8856961.000 8856961.000 8856961.000     8856961.000   \n",
              "mean           16.019      31.019   11250.661           0.341   \n",
              "std             9.977      17.923    6216.085           3.387   \n",
              "min             0.000       2.000       1.000           0.000   \n",
              "25%             7.000      15.000    5859.000           0.000   \n",
              "50%            15.000      31.000   11344.000           0.000   \n",
              "75%            24.000      47.000   16533.000           0.000   \n",
              "max            34.000      59.000   22169.000        1644.000   \n",
              "\n",
              "       item_price_mean  item_count        city  item_category_id  \\\n",
              "count      8856961.000 8856961.000 8856961.000       8856961.000   \n",
              "mean           121.119       0.274      15.208            44.834   \n",
              "std            661.657       1.008       8.358            15.272   \n",
              "min              0.000       0.000       0.000             0.000   \n",
              "25%              0.000       0.000       9.000            37.000   \n",
              "50%              0.000       0.000      13.000            40.000   \n",
              "75%              0.000       0.000      22.000            55.000   \n",
              "max          49782.000      57.000      30.000            83.000   \n",
              "\n",
              "       first_sale_date    category  \n",
              "count      8856961.000 8856961.000  \n",
              "mean             6.229       5.563  \n",
              "std              8.508       1.826  \n",
              "min              0.000       0.000  \n",
              "25%              0.000       5.000  \n",
              "50%              1.000       5.000  \n",
              "75%             11.000       7.000  \n",
              "max             34.000       9.000  "
            ]
          },
          "metadata": {
            "tags": []
          },
          "execution_count": 39
        }
      ]
    },
    {
      "cell_type": "code",
      "metadata": {
        "id": "eWSA51RhJco6"
      },
      "source": [
        "# List of derived features containing 'item_id' in the grouping base features\n",
        "item_mean_features = []\n",
        "\n",
        "\n",
        "# Create monthly average sales derived features grouped by ['date_block_num', 'item_id']\n",
        "all_data, item_mean_features = add_mean_features(df=all_data,\n",
        "                                                 mean_features=item_mean_features,\n",
        "                                                 idx_features=['date_block_num', 'item_id'])"
      ],
      "execution_count": null,
      "outputs": []
    },
    {
      "cell_type": "code",
      "metadata": {
        "id": "ljY5Nsg6Wuzo"
      },
      "source": [
        ""
      ],
      "execution_count": null,
      "outputs": []
    },
    {
      "cell_type": "code",
      "metadata": {
        "colab": {
          "base_uri": "https://localhost:8080/"
        },
        "id": "zffVO81EJco7",
        "outputId": "02b604ea-f1ee-4a27-c7b4-ffd831263834"
      },
      "source": [
        "item_mean_features"
      ],
      "execution_count": null,
      "outputs": [
        {
          "output_type": "execute_result",
          "data": {
            "text/plain": [
              "['item_id_mean_sales']"
            ]
          },
          "metadata": {
            "tags": []
          },
          "execution_count": 41
        }
      ]
    },
    {
      "cell_type": "code",
      "metadata": {
        "colab": {
          "base_uri": "https://localhost:8080/",
          "height": 297
        },
        "id": "sWczGFlgJco8",
        "outputId": "5f222cd1-e8ab-4903-bd32-12af57067217"
      },
      "source": [
        "all_data.describe()"
      ],
      "execution_count": null,
      "outputs": [
        {
          "output_type": "execute_result",
          "data": {
            "text/html": [
              "<div>\n",
              "<style scoped>\n",
              "    .dataframe tbody tr th:only-of-type {\n",
              "        vertical-align: middle;\n",
              "    }\n",
              "\n",
              "    .dataframe tbody tr th {\n",
              "        vertical-align: top;\n",
              "    }\n",
              "\n",
              "    .dataframe thead th {\n",
              "        text-align: right;\n",
              "    }\n",
              "</style>\n",
              "<table border=\"1\" class=\"dataframe\">\n",
              "  <thead>\n",
              "    <tr style=\"text-align: right;\">\n",
              "      <th></th>\n",
              "      <th>date_block_num</th>\n",
              "      <th>shop_id</th>\n",
              "      <th>item_id</th>\n",
              "      <th>item_cnt_month</th>\n",
              "      <th>item_price_mean</th>\n",
              "      <th>item_count</th>\n",
              "      <th>city</th>\n",
              "      <th>item_category_id</th>\n",
              "      <th>first_sale_date</th>\n",
              "      <th>category</th>\n",
              "      <th>item_id_mean_sales</th>\n",
              "    </tr>\n",
              "  </thead>\n",
              "  <tbody>\n",
              "    <tr>\n",
              "      <th>count</th>\n",
              "      <td>8856961.000</td>\n",
              "      <td>8856961.000</td>\n",
              "      <td>8856961.000</td>\n",
              "      <td>8856961.000</td>\n",
              "      <td>8856961.000</td>\n",
              "      <td>8856961.000</td>\n",
              "      <td>8856961.000</td>\n",
              "      <td>8856961.000</td>\n",
              "      <td>8856961.000</td>\n",
              "      <td>8856961.000</td>\n",
              "      <td>8856961.000</td>\n",
              "    </tr>\n",
              "    <tr>\n",
              "      <th>mean</th>\n",
              "      <td>16.019</td>\n",
              "      <td>31.019</td>\n",
              "      <td>11250.661</td>\n",
              "      <td>0.341</td>\n",
              "      <td>121.119</td>\n",
              "      <td>0.274</td>\n",
              "      <td>15.208</td>\n",
              "      <td>44.834</td>\n",
              "      <td>6.229</td>\n",
              "      <td>5.563</td>\n",
              "      <td>0.330</td>\n",
              "    </tr>\n",
              "    <tr>\n",
              "      <th>std</th>\n",
              "      <td>9.977</td>\n",
              "      <td>17.923</td>\n",
              "      <td>6216.085</td>\n",
              "      <td>3.387</td>\n",
              "      <td>661.657</td>\n",
              "      <td>1.008</td>\n",
              "      <td>8.358</td>\n",
              "      <td>15.272</td>\n",
              "      <td>8.508</td>\n",
              "      <td>1.826</td>\n",
              "      <td>2.038</td>\n",
              "    </tr>\n",
              "    <tr>\n",
              "      <th>min</th>\n",
              "      <td>0.000</td>\n",
              "      <td>2.000</td>\n",
              "      <td>1.000</td>\n",
              "      <td>0.000</td>\n",
              "      <td>0.000</td>\n",
              "      <td>0.000</td>\n",
              "      <td>0.000</td>\n",
              "      <td>0.000</td>\n",
              "      <td>0.000</td>\n",
              "      <td>0.000</td>\n",
              "      <td>0.000</td>\n",
              "    </tr>\n",
              "    <tr>\n",
              "      <th>25%</th>\n",
              "      <td>7.000</td>\n",
              "      <td>15.000</td>\n",
              "      <td>5859.000</td>\n",
              "      <td>0.000</td>\n",
              "      <td>0.000</td>\n",
              "      <td>0.000</td>\n",
              "      <td>9.000</td>\n",
              "      <td>37.000</td>\n",
              "      <td>0.000</td>\n",
              "      <td>5.000</td>\n",
              "      <td>0.028</td>\n",
              "    </tr>\n",
              "    <tr>\n",
              "      <th>50%</th>\n",
              "      <td>15.000</td>\n",
              "      <td>31.000</td>\n",
              "      <td>11344.000</td>\n",
              "      <td>0.000</td>\n",
              "      <td>0.000</td>\n",
              "      <td>0.000</td>\n",
              "      <td>13.000</td>\n",
              "      <td>40.000</td>\n",
              "      <td>1.000</td>\n",
              "      <td>5.000</td>\n",
              "      <td>0.086</td>\n",
              "    </tr>\n",
              "    <tr>\n",
              "      <th>75%</th>\n",
              "      <td>24.000</td>\n",
              "      <td>47.000</td>\n",
              "      <td>16533.000</td>\n",
              "      <td>0.000</td>\n",
              "      <td>0.000</td>\n",
              "      <td>0.000</td>\n",
              "      <td>22.000</td>\n",
              "      <td>55.000</td>\n",
              "      <td>11.000</td>\n",
              "      <td>7.000</td>\n",
              "      <td>0.244</td>\n",
              "    </tr>\n",
              "    <tr>\n",
              "      <th>max</th>\n",
              "      <td>34.000</td>\n",
              "      <td>59.000</td>\n",
              "      <td>22169.000</td>\n",
              "      <td>1644.000</td>\n",
              "      <td>49782.000</td>\n",
              "      <td>57.000</td>\n",
              "      <td>30.000</td>\n",
              "      <td>83.000</td>\n",
              "      <td>34.000</td>\n",
              "      <td>9.000</td>\n",
              "      <td>267.868</td>\n",
              "    </tr>\n",
              "  </tbody>\n",
              "</table>\n",
              "</div>"
            ],
            "text/plain": [
              "       date_block_num     shop_id     item_id  item_cnt_month  \\\n",
              "count     8856961.000 8856961.000 8856961.000     8856961.000   \n",
              "mean           16.019      31.019   11250.661           0.341   \n",
              "std             9.977      17.923    6216.085           3.387   \n",
              "min             0.000       2.000       1.000           0.000   \n",
              "25%             7.000      15.000    5859.000           0.000   \n",
              "50%            15.000      31.000   11344.000           0.000   \n",
              "75%            24.000      47.000   16533.000           0.000   \n",
              "max            34.000      59.000   22169.000        1644.000   \n",
              "\n",
              "       item_price_mean  item_count        city  item_category_id  \\\n",
              "count      8856961.000 8856961.000 8856961.000       8856961.000   \n",
              "mean           121.119       0.274      15.208            44.834   \n",
              "std            661.657       1.008       8.358            15.272   \n",
              "min              0.000       0.000       0.000             0.000   \n",
              "25%              0.000       0.000       9.000            37.000   \n",
              "50%              0.000       0.000      13.000            40.000   \n",
              "75%              0.000       0.000      22.000            55.000   \n",
              "max          49782.000      57.000      30.000            83.000   \n",
              "\n",
              "       first_sale_date    category  item_id_mean_sales  \n",
              "count      8856961.000 8856961.000         8856961.000  \n",
              "mean             6.229       5.563               0.330  \n",
              "std              8.508       1.826               2.038  \n",
              "min              0.000       0.000               0.000  \n",
              "25%              0.000       5.000               0.028  \n",
              "50%              1.000       5.000               0.086  \n",
              "75%             11.000       7.000               0.244  \n",
              "max             34.000       9.000             267.868  "
            ]
          },
          "metadata": {
            "tags": []
          },
          "execution_count": 42
        }
      ]
    },
    {
      "cell_type": "code",
      "metadata": {
        "colab": {
          "base_uri": "https://localhost:8080/"
        },
        "id": "6uLILCbyJco9",
        "outputId": "c50db284-9ede-4149-f57b-b6b4d374af1c"
      },
      "source": [
        "# Create monthly average sales derived features grouped by ['date_block_num', 'item_id', 'city']\n",
        "all_data, item_mean_features = add_mean_features(df=all_data,\n",
        "                                                 mean_features=item_mean_features,\n",
        "                                                 idx_features=['date_block_num', 'item_id', 'city'])\n",
        "\n",
        "item_mean_features\n"
      ],
      "execution_count": null,
      "outputs": [
        {
          "output_type": "execute_result",
          "data": {
            "text/plain": [
              "['item_id_mean_sales', 'item_id_city_mean_sales']"
            ]
          },
          "metadata": {
            "tags": []
          },
          "execution_count": 43
        }
      ]
    },
    {
      "cell_type": "code",
      "metadata": {
        "colab": {
          "base_uri": "https://localhost:8080/"
        },
        "id": "1l_bZXFIJco9",
        "outputId": "1175b064-ce0b-45cc-e84c-277df81be480"
      },
      "source": [
        "# List of derived features containing 'shop_id' in the grouping base features\n",
        "shop_mean_features = []\n",
        "\n",
        "# Create monthly average sales derived features grouped by ['date_block_num', 'shop_id', 'item_category_id']\n",
        "all_data, shop_mean_features = add_mean_features(df=all_data, \n",
        "                                                 mean_features=shop_mean_features,\n",
        "                                                 idx_features=['date_block_num', 'shop_id', 'item_category_id'])\n",
        "shop_mean_features"
      ],
      "execution_count": null,
      "outputs": [
        {
          "output_type": "execute_result",
          "data": {
            "text/plain": [
              "['shop_id_item_category_id_mean_sales']"
            ]
          },
          "metadata": {
            "tags": []
          },
          "execution_count": 44
        }
      ]
    },
    {
      "cell_type": "code",
      "metadata": {
        "id": "GVMRTridJco-"
      },
      "source": [
        "#all_data, lag_features_to_clip = add_lag_features(df=all_data, \n",
        "#                                                  lag_features_to_clip=lag_features_to_clip,\n",
        "#                                                  idx_features=idx_features,\n",
        "#                                                  lag_feature='item_cnt_month', \n",
        "#                                                  nlags=3,\n",
        "#                                                  clip=True)\n",
        "\n",
        "\n",
        "\n",
        "def add_lag_features(df, lag_features_to_clip, idx_features, \n",
        "                     lag_feature, nlags=3, clip=False):\n",
        "    # Copy only the part of the DataFrame needed to create the lag features\n",
        "    df_temp = df[idx_features + [lag_feature]].copy() \n",
        "\n",
        "    # Create lag features\n",
        "    for i in range(1, nlags+1):\n",
        "        # Lag featrue name -> 'item_cnt_month'\n",
        "        lag_feature_name = lag_feature +'_lag' + str(i)\n",
        "        # Set df_temp column name --> ['date_block_num', 'shop_id', 'item_id'] + item_cnt_month\n",
        "        df_temp.columns = idx_features + [lag_feature_name]\n",
        "        # Add 1 to date_block_num feature in df_temp\n",
        "        df_temp['date_block_num'] += i\n",
        "       \n",
        "        \n",
        "        # Merge df with df_temp based on idx_feature\n",
        "        df = df.merge(df_temp.drop_duplicates(), \n",
        "                      on=idx_features, \n",
        "                      how='left')\n",
        "        # Replace NaN with 0\n",
        "        df[lag_feature_name] = df[lag_feature_name].fillna(0)\n",
        "        # Add lag features to lag_features_to_clip to clip between 0 and 20\n",
        "        if clip: \n",
        "            lag_features_to_clip.append(lag_feature_name)\n",
        "    # Date downcasting\n",
        "    df = downcast(df, False)\n",
        "    # Garbage collection\n",
        "    del df_temp\n",
        "    gc.collect()\n",
        "    \n",
        "    return df, lag_features_to_clip"
      ],
      "execution_count": null,
      "outputs": []
    },
    {
      "cell_type": "code",
      "metadata": {
        "colab": {
          "base_uri": "https://localhost:8080/"
        },
        "id": "loDRKS1NJco_",
        "outputId": "35829e2f-3941-42b4-d16d-3827a8b318e7"
      },
      "source": [
        "#idx_features = ['date_block_num', 'shop_id', 'item_id']\n",
        "\n",
        "lag_features_to_clip = [] # list of lag features to be clipped to between 0 to 20 \n",
        "idx_features = ['date_block_num', 'shop_id', 'item_id'] # base features\n",
        "# Create 3 month lag features of item_cnt_month based on idx_features\n",
        "\n",
        "all_data, lag_features_to_clip = add_lag_features(df=all_data, \n",
        "                                                  lag_features_to_clip=lag_features_to_clip,\n",
        "                                                  idx_features=idx_features,\n",
        "                                                  lag_feature='item_cnt_month', \n",
        "                                                  nlags=3,\n",
        "                                                  clip=True)\n",
        "all_data.head().T\n",
        "\n",
        "lag_features_to_clip"
      ],
      "execution_count": null,
      "outputs": [
        {
          "output_type": "execute_result",
          "data": {
            "text/plain": [
              "['item_cnt_month_lag1', 'item_cnt_month_lag2', 'item_cnt_month_lag3']"
            ]
          },
          "metadata": {
            "tags": []
          },
          "execution_count": 46
        }
      ]
    },
    {
      "cell_type": "code",
      "metadata": {
        "colab": {
          "base_uri": "https://localhost:8080/",
          "height": 546
        },
        "id": "MruZ_86zJcpA",
        "outputId": "d4008f1d-1013-405f-9579-a31f8193e301"
      },
      "source": [
        "all_data.head().T"
      ],
      "execution_count": null,
      "outputs": [
        {
          "output_type": "execute_result",
          "data": {
            "text/html": [
              "<div>\n",
              "<style scoped>\n",
              "    .dataframe tbody tr th:only-of-type {\n",
              "        vertical-align: middle;\n",
              "    }\n",
              "\n",
              "    .dataframe tbody tr th {\n",
              "        vertical-align: top;\n",
              "    }\n",
              "\n",
              "    .dataframe thead th {\n",
              "        text-align: right;\n",
              "    }\n",
              "</style>\n",
              "<table border=\"1\" class=\"dataframe\">\n",
              "  <thead>\n",
              "    <tr style=\"text-align: right;\">\n",
              "      <th></th>\n",
              "      <th>0</th>\n",
              "      <th>1</th>\n",
              "      <th>2</th>\n",
              "      <th>3</th>\n",
              "      <th>4</th>\n",
              "    </tr>\n",
              "  </thead>\n",
              "  <tbody>\n",
              "    <tr>\n",
              "      <th>date_block_num</th>\n",
              "      <td>0.000</td>\n",
              "      <td>0.000</td>\n",
              "      <td>0.000</td>\n",
              "      <td>0.000</td>\n",
              "      <td>0.000</td>\n",
              "    </tr>\n",
              "    <tr>\n",
              "      <th>shop_id</th>\n",
              "      <td>59.000</td>\n",
              "      <td>59.000</td>\n",
              "      <td>59.000</td>\n",
              "      <td>59.000</td>\n",
              "      <td>59.000</td>\n",
              "    </tr>\n",
              "    <tr>\n",
              "      <th>item_id</th>\n",
              "      <td>22154.000</td>\n",
              "      <td>2552.000</td>\n",
              "      <td>2554.000</td>\n",
              "      <td>2555.000</td>\n",
              "      <td>2564.000</td>\n",
              "    </tr>\n",
              "    <tr>\n",
              "      <th>item_cnt_month</th>\n",
              "      <td>1.000</td>\n",
              "      <td>0.000</td>\n",
              "      <td>0.000</td>\n",
              "      <td>0.000</td>\n",
              "      <td>0.000</td>\n",
              "    </tr>\n",
              "    <tr>\n",
              "      <th>item_price_mean</th>\n",
              "      <td>999.000</td>\n",
              "      <td>0.000</td>\n",
              "      <td>0.000</td>\n",
              "      <td>0.000</td>\n",
              "      <td>0.000</td>\n",
              "    </tr>\n",
              "    <tr>\n",
              "      <th>item_count</th>\n",
              "      <td>1.000</td>\n",
              "      <td>0.000</td>\n",
              "      <td>0.000</td>\n",
              "      <td>0.000</td>\n",
              "      <td>0.000</td>\n",
              "    </tr>\n",
              "    <tr>\n",
              "      <th>city</th>\n",
              "      <td>30.000</td>\n",
              "      <td>30.000</td>\n",
              "      <td>30.000</td>\n",
              "      <td>30.000</td>\n",
              "      <td>30.000</td>\n",
              "    </tr>\n",
              "    <tr>\n",
              "      <th>item_category_id</th>\n",
              "      <td>37.000</td>\n",
              "      <td>58.000</td>\n",
              "      <td>58.000</td>\n",
              "      <td>56.000</td>\n",
              "      <td>59.000</td>\n",
              "    </tr>\n",
              "    <tr>\n",
              "      <th>first_sale_date</th>\n",
              "      <td>0.000</td>\n",
              "      <td>0.000</td>\n",
              "      <td>0.000</td>\n",
              "      <td>0.000</td>\n",
              "      <td>0.000</td>\n",
              "    </tr>\n",
              "    <tr>\n",
              "      <th>category</th>\n",
              "      <td>5.000</td>\n",
              "      <td>7.000</td>\n",
              "      <td>7.000</td>\n",
              "      <td>7.000</td>\n",
              "      <td>7.000</td>\n",
              "    </tr>\n",
              "    <tr>\n",
              "      <th>item_id_mean_sales</th>\n",
              "      <td>0.457</td>\n",
              "      <td>0.029</td>\n",
              "      <td>0.029</td>\n",
              "      <td>0.029</td>\n",
              "      <td>0.143</td>\n",
              "    </tr>\n",
              "    <tr>\n",
              "      <th>item_id_city_mean_sales</th>\n",
              "      <td>1.000</td>\n",
              "      <td>0.000</td>\n",
              "      <td>0.000</td>\n",
              "      <td>0.000</td>\n",
              "      <td>0.000</td>\n",
              "    </tr>\n",
              "    <tr>\n",
              "      <th>shop_id_item_category_id_mean_sales</th>\n",
              "      <td>0.097</td>\n",
              "      <td>0.000</td>\n",
              "      <td>0.000</td>\n",
              "      <td>0.011</td>\n",
              "      <td>0.013</td>\n",
              "    </tr>\n",
              "    <tr>\n",
              "      <th>item_cnt_month_lag1</th>\n",
              "      <td>0.000</td>\n",
              "      <td>0.000</td>\n",
              "      <td>0.000</td>\n",
              "      <td>0.000</td>\n",
              "      <td>0.000</td>\n",
              "    </tr>\n",
              "    <tr>\n",
              "      <th>item_cnt_month_lag2</th>\n",
              "      <td>0.000</td>\n",
              "      <td>0.000</td>\n",
              "      <td>0.000</td>\n",
              "      <td>0.000</td>\n",
              "      <td>0.000</td>\n",
              "    </tr>\n",
              "    <tr>\n",
              "      <th>item_cnt_month_lag3</th>\n",
              "      <td>0.000</td>\n",
              "      <td>0.000</td>\n",
              "      <td>0.000</td>\n",
              "      <td>0.000</td>\n",
              "      <td>0.000</td>\n",
              "    </tr>\n",
              "  </tbody>\n",
              "</table>\n",
              "</div>"
            ],
            "text/plain": [
              "                                            0        1        2        3  \\\n",
              "date_block_num                          0.000    0.000    0.000    0.000   \n",
              "shop_id                                59.000   59.000   59.000   59.000   \n",
              "item_id                             22154.000 2552.000 2554.000 2555.000   \n",
              "item_cnt_month                          1.000    0.000    0.000    0.000   \n",
              "item_price_mean                       999.000    0.000    0.000    0.000   \n",
              "item_count                              1.000    0.000    0.000    0.000   \n",
              "city                                   30.000   30.000   30.000   30.000   \n",
              "item_category_id                       37.000   58.000   58.000   56.000   \n",
              "first_sale_date                         0.000    0.000    0.000    0.000   \n",
              "category                                5.000    7.000    7.000    7.000   \n",
              "item_id_mean_sales                      0.457    0.029    0.029    0.029   \n",
              "item_id_city_mean_sales                 1.000    0.000    0.000    0.000   \n",
              "shop_id_item_category_id_mean_sales     0.097    0.000    0.000    0.011   \n",
              "item_cnt_month_lag1                     0.000    0.000    0.000    0.000   \n",
              "item_cnt_month_lag2                     0.000    0.000    0.000    0.000   \n",
              "item_cnt_month_lag3                     0.000    0.000    0.000    0.000   \n",
              "\n",
              "                                           4  \n",
              "date_block_num                         0.000  \n",
              "shop_id                               59.000  \n",
              "item_id                             2564.000  \n",
              "item_cnt_month                         0.000  \n",
              "item_price_mean                        0.000  \n",
              "item_count                             0.000  \n",
              "city                                  30.000  \n",
              "item_category_id                      59.000  \n",
              "first_sale_date                        0.000  \n",
              "category                               7.000  \n",
              "item_id_mean_sales                     0.143  \n",
              "item_id_city_mean_sales                0.000  \n",
              "shop_id_item_category_id_mean_sales    0.013  \n",
              "item_cnt_month_lag1                    0.000  \n",
              "item_cnt_month_lag2                    0.000  \n",
              "item_cnt_month_lag3                    0.000  "
            ]
          },
          "metadata": {
            "tags": []
          },
          "execution_count": 47
        }
      ]
    },
    {
      "cell_type": "code",
      "metadata": {
        "colab": {
          "base_uri": "https://localhost:8080/"
        },
        "id": "75e_CNVHJcpA",
        "outputId": "ff2600d6-1130-46c9-b978-b587d98ba65d"
      },
      "source": [
        "item_mean_features"
      ],
      "execution_count": null,
      "outputs": [
        {
          "output_type": "execute_result",
          "data": {
            "text/plain": [
              "['item_id_mean_sales', 'item_id_city_mean_sales']"
            ]
          },
          "metadata": {
            "tags": []
          },
          "execution_count": 48
        }
      ]
    },
    {
      "cell_type": "code",
      "metadata": {
        "colab": {
          "base_uri": "https://localhost:8080/"
        },
        "id": "LXN7yXaZJcpB",
        "outputId": "9ef43b1f-41d7-4cbb-e310-5b6001846a08"
      },
      "source": [
        "# Create 3 month lag features of item_count feature based on idx_features\n",
        "all_data, lag_features_to_clip = add_lag_features(df=all_data, \n",
        "                                                  lag_features_to_clip=lag_features_to_clip,\n",
        "                                                  idx_features=idx_features,\n",
        "                                                  lag_feature='item_count', \n",
        "                                                  nlags=3)\n",
        "\n",
        "# Create 3 month lag features of item_price_mean feature based on idx_features\n",
        "all_data, lag_features_to_clip = add_lag_features(df=all_data, \n",
        "                                                  lag_features_to_clip=lag_features_to_clip,\n",
        "                                                  idx_features=idx_features,\n",
        "                                                  lag_feature='item_price_mean', \n",
        "                                                  nlags=3)\n",
        "X_test_temp = all_data[all_data['date_block_num'] == 34]\n",
        "X_test_temp[item_mean_features].sum()"
      ],
      "execution_count": null,
      "outputs": [
        {
          "output_type": "execute_result",
          "data": {
            "text/plain": [
              "item_id_mean_sales        0.000\n",
              "item_id_city_mean_sales   0.000\n",
              "dtype: float32"
            ]
          },
          "metadata": {
            "tags": []
          },
          "execution_count": 49
        }
      ]
    },
    {
      "cell_type": "code",
      "metadata": {
        "colab": {
          "base_uri": "https://localhost:8080/",
          "height": 420
        },
        "id": "i4nU4ml3JcpC",
        "outputId": "c6c187da-6958-4aca-d2ab-189ec13a9946"
      },
      "source": [
        "X_test_temp[item_mean_features]"
      ],
      "execution_count": null,
      "outputs": [
        {
          "output_type": "execute_result",
          "data": {
            "text/html": [
              "<div>\n",
              "<style scoped>\n",
              "    .dataframe tbody tr th:only-of-type {\n",
              "        vertical-align: middle;\n",
              "    }\n",
              "\n",
              "    .dataframe tbody tr th {\n",
              "        vertical-align: top;\n",
              "    }\n",
              "\n",
              "    .dataframe thead th {\n",
              "        text-align: right;\n",
              "    }\n",
              "</style>\n",
              "<table border=\"1\" class=\"dataframe\">\n",
              "  <thead>\n",
              "    <tr style=\"text-align: right;\">\n",
              "      <th></th>\n",
              "      <th>item_id_mean_sales</th>\n",
              "      <th>item_id_city_mean_sales</th>\n",
              "    </tr>\n",
              "  </thead>\n",
              "  <tbody>\n",
              "    <tr>\n",
              "      <th>8642761</th>\n",
              "      <td>0.000</td>\n",
              "      <td>0.000</td>\n",
              "    </tr>\n",
              "    <tr>\n",
              "      <th>8642762</th>\n",
              "      <td>0.000</td>\n",
              "      <td>0.000</td>\n",
              "    </tr>\n",
              "    <tr>\n",
              "      <th>8642763</th>\n",
              "      <td>0.000</td>\n",
              "      <td>0.000</td>\n",
              "    </tr>\n",
              "    <tr>\n",
              "      <th>8642764</th>\n",
              "      <td>0.000</td>\n",
              "      <td>0.000</td>\n",
              "    </tr>\n",
              "    <tr>\n",
              "      <th>8642765</th>\n",
              "      <td>0.000</td>\n",
              "      <td>0.000</td>\n",
              "    </tr>\n",
              "    <tr>\n",
              "      <th>...</th>\n",
              "      <td>...</td>\n",
              "      <td>...</td>\n",
              "    </tr>\n",
              "    <tr>\n",
              "      <th>8856956</th>\n",
              "      <td>0.000</td>\n",
              "      <td>0.000</td>\n",
              "    </tr>\n",
              "    <tr>\n",
              "      <th>8856957</th>\n",
              "      <td>0.000</td>\n",
              "      <td>0.000</td>\n",
              "    </tr>\n",
              "    <tr>\n",
              "      <th>8856958</th>\n",
              "      <td>0.000</td>\n",
              "      <td>0.000</td>\n",
              "    </tr>\n",
              "    <tr>\n",
              "      <th>8856959</th>\n",
              "      <td>0.000</td>\n",
              "      <td>0.000</td>\n",
              "    </tr>\n",
              "    <tr>\n",
              "      <th>8856960</th>\n",
              "      <td>0.000</td>\n",
              "      <td>0.000</td>\n",
              "    </tr>\n",
              "  </tbody>\n",
              "</table>\n",
              "<p>214200 rows × 2 columns</p>\n",
              "</div>"
            ],
            "text/plain": [
              "         item_id_mean_sales  item_id_city_mean_sales\n",
              "8642761               0.000                    0.000\n",
              "8642762               0.000                    0.000\n",
              "8642763               0.000                    0.000\n",
              "8642764               0.000                    0.000\n",
              "8642765               0.000                    0.000\n",
              "...                     ...                      ...\n",
              "8856956               0.000                    0.000\n",
              "8856957               0.000                    0.000\n",
              "8856958               0.000                    0.000\n",
              "8856959               0.000                    0.000\n",
              "8856960               0.000                    0.000\n",
              "\n",
              "[214200 rows x 2 columns]"
            ]
          },
          "metadata": {
            "tags": []
          },
          "execution_count": 50
        }
      ]
    },
    {
      "cell_type": "code",
      "metadata": {
        "colab": {
          "base_uri": "https://localhost:8080/"
        },
        "id": "ENVpAKNsJcpC",
        "outputId": "7e5d76a7-3084-400f-ae8d-a518a23ab6c7"
      },
      "source": [
        "# Create lag features by item_mean_features element based on dx_features\n",
        "for item_mean_feature in item_mean_features:\n",
        "    all_data, lag_features_to_clip = add_lag_features(df=all_data, \n",
        "                                                      lag_features_to_clip=lag_features_to_clip, \n",
        "                                                      idx_features=idx_features, \n",
        "                                                      lag_feature=item_mean_feature, \n",
        "                                                      nlags=3)\n",
        "# Remove features in item_mean_features\n",
        "all_data = all_data.drop(item_mean_features, axis=1)\n",
        "shop_mean_features"
      ],
      "execution_count": null,
      "outputs": [
        {
          "output_type": "execute_result",
          "data": {
            "text/plain": [
              "['shop_id_item_category_id_mean_sales']"
            ]
          },
          "metadata": {
            "tags": []
          },
          "execution_count": 51
        }
      ]
    },
    {
      "cell_type": "code",
      "metadata": {
        "id": "w8ivC9zSJcpD"
      },
      "source": [
        "# Create lag features by shop_mean_features element based on ['date_block_num', 'shop_id', 'item_category_id']\n",
        "for shop_mean_feature in shop_mean_features:\n",
        "    all_data, lag_features_to_clip = add_lag_features(df=all_data,\n",
        "                                                      lag_features_to_clip=lag_features_to_clip, \n",
        "                                                      idx_features=['date_block_num', 'shop_id', 'item_category_id'], \n",
        "                                                      lag_feature=shop_mean_feature, \n",
        "                                                      nlags=3)"
      ],
      "execution_count": null,
      "outputs": []
    },
    {
      "cell_type": "code",
      "metadata": {
        "colab": {
          "base_uri": "https://localhost:8080/"
        },
        "id": "IVKT0-wrJcpE",
        "outputId": "304a90dc-3297-4d29-c009-ebda64308e9d"
      },
      "source": [
        "lag_features_to_clip"
      ],
      "execution_count": null,
      "outputs": [
        {
          "output_type": "execute_result",
          "data": {
            "text/plain": [
              "['item_cnt_month_lag1', 'item_cnt_month_lag2', 'item_cnt_month_lag3']"
            ]
          },
          "metadata": {
            "tags": []
          },
          "execution_count": 53
        }
      ]
    },
    {
      "cell_type": "code",
      "metadata": {
        "colab": {
          "base_uri": "https://localhost:8080/",
          "height": 224
        },
        "id": "N1ayThAxJcpE",
        "scrolled": true,
        "outputId": "ffe7461c-c9b6-4278-c84a-3b73772a4490"
      },
      "source": [
        "all_data.head()"
      ],
      "execution_count": null,
      "outputs": [
        {
          "output_type": "execute_result",
          "data": {
            "text/html": [
              "<div>\n",
              "<style scoped>\n",
              "    .dataframe tbody tr th:only-of-type {\n",
              "        vertical-align: middle;\n",
              "    }\n",
              "\n",
              "    .dataframe tbody tr th {\n",
              "        vertical-align: top;\n",
              "    }\n",
              "\n",
              "    .dataframe thead th {\n",
              "        text-align: right;\n",
              "    }\n",
              "</style>\n",
              "<table border=\"1\" class=\"dataframe\">\n",
              "  <thead>\n",
              "    <tr style=\"text-align: right;\">\n",
              "      <th></th>\n",
              "      <th>date_block_num</th>\n",
              "      <th>shop_id</th>\n",
              "      <th>item_id</th>\n",
              "      <th>item_cnt_month</th>\n",
              "      <th>item_price_mean</th>\n",
              "      <th>item_count</th>\n",
              "      <th>city</th>\n",
              "      <th>item_category_id</th>\n",
              "      <th>first_sale_date</th>\n",
              "      <th>category</th>\n",
              "      <th>...</th>\n",
              "      <th>item_price_mean_lag3</th>\n",
              "      <th>item_id_mean_sales_lag1</th>\n",
              "      <th>item_id_mean_sales_lag2</th>\n",
              "      <th>item_id_mean_sales_lag3</th>\n",
              "      <th>item_id_city_mean_sales_lag1</th>\n",
              "      <th>item_id_city_mean_sales_lag2</th>\n",
              "      <th>item_id_city_mean_sales_lag3</th>\n",
              "      <th>shop_id_item_category_id_mean_sales_lag1</th>\n",
              "      <th>shop_id_item_category_id_mean_sales_lag2</th>\n",
              "      <th>shop_id_item_category_id_mean_sales_lag3</th>\n",
              "    </tr>\n",
              "  </thead>\n",
              "  <tbody>\n",
              "    <tr>\n",
              "      <th>0</th>\n",
              "      <td>0</td>\n",
              "      <td>59</td>\n",
              "      <td>22154</td>\n",
              "      <td>1</td>\n",
              "      <td>999.000</td>\n",
              "      <td>1</td>\n",
              "      <td>30</td>\n",
              "      <td>37</td>\n",
              "      <td>0</td>\n",
              "      <td>5</td>\n",
              "      <td>...</td>\n",
              "      <td>0.000</td>\n",
              "      <td>0.000</td>\n",
              "      <td>0.000</td>\n",
              "      <td>0.000</td>\n",
              "      <td>0.000</td>\n",
              "      <td>0.000</td>\n",
              "      <td>0.000</td>\n",
              "      <td>0.000</td>\n",
              "      <td>0.000</td>\n",
              "      <td>0.000</td>\n",
              "    </tr>\n",
              "    <tr>\n",
              "      <th>1</th>\n",
              "      <td>0</td>\n",
              "      <td>59</td>\n",
              "      <td>2552</td>\n",
              "      <td>0</td>\n",
              "      <td>0.000</td>\n",
              "      <td>0</td>\n",
              "      <td>30</td>\n",
              "      <td>58</td>\n",
              "      <td>0</td>\n",
              "      <td>7</td>\n",
              "      <td>...</td>\n",
              "      <td>0.000</td>\n",
              "      <td>0.000</td>\n",
              "      <td>0.000</td>\n",
              "      <td>0.000</td>\n",
              "      <td>0.000</td>\n",
              "      <td>0.000</td>\n",
              "      <td>0.000</td>\n",
              "      <td>0.000</td>\n",
              "      <td>0.000</td>\n",
              "      <td>0.000</td>\n",
              "    </tr>\n",
              "    <tr>\n",
              "      <th>2</th>\n",
              "      <td>0</td>\n",
              "      <td>59</td>\n",
              "      <td>2554</td>\n",
              "      <td>0</td>\n",
              "      <td>0.000</td>\n",
              "      <td>0</td>\n",
              "      <td>30</td>\n",
              "      <td>58</td>\n",
              "      <td>0</td>\n",
              "      <td>7</td>\n",
              "      <td>...</td>\n",
              "      <td>0.000</td>\n",
              "      <td>0.000</td>\n",
              "      <td>0.000</td>\n",
              "      <td>0.000</td>\n",
              "      <td>0.000</td>\n",
              "      <td>0.000</td>\n",
              "      <td>0.000</td>\n",
              "      <td>0.000</td>\n",
              "      <td>0.000</td>\n",
              "      <td>0.000</td>\n",
              "    </tr>\n",
              "    <tr>\n",
              "      <th>3</th>\n",
              "      <td>0</td>\n",
              "      <td>59</td>\n",
              "      <td>2555</td>\n",
              "      <td>0</td>\n",
              "      <td>0.000</td>\n",
              "      <td>0</td>\n",
              "      <td>30</td>\n",
              "      <td>56</td>\n",
              "      <td>0</td>\n",
              "      <td>7</td>\n",
              "      <td>...</td>\n",
              "      <td>0.000</td>\n",
              "      <td>0.000</td>\n",
              "      <td>0.000</td>\n",
              "      <td>0.000</td>\n",
              "      <td>0.000</td>\n",
              "      <td>0.000</td>\n",
              "      <td>0.000</td>\n",
              "      <td>0.000</td>\n",
              "      <td>0.000</td>\n",
              "      <td>0.000</td>\n",
              "    </tr>\n",
              "    <tr>\n",
              "      <th>4</th>\n",
              "      <td>0</td>\n",
              "      <td>59</td>\n",
              "      <td>2564</td>\n",
              "      <td>0</td>\n",
              "      <td>0.000</td>\n",
              "      <td>0</td>\n",
              "      <td>30</td>\n",
              "      <td>59</td>\n",
              "      <td>0</td>\n",
              "      <td>7</td>\n",
              "      <td>...</td>\n",
              "      <td>0.000</td>\n",
              "      <td>0.000</td>\n",
              "      <td>0.000</td>\n",
              "      <td>0.000</td>\n",
              "      <td>0.000</td>\n",
              "      <td>0.000</td>\n",
              "      <td>0.000</td>\n",
              "      <td>0.000</td>\n",
              "      <td>0.000</td>\n",
              "      <td>0.000</td>\n",
              "    </tr>\n",
              "  </tbody>\n",
              "</table>\n",
              "<p>5 rows × 29 columns</p>\n",
              "</div>"
            ],
            "text/plain": [
              "   date_block_num  shop_id  item_id  item_cnt_month  item_price_mean  \\\n",
              "0               0       59    22154               1          999.000   \n",
              "1               0       59     2552               0            0.000   \n",
              "2               0       59     2554               0            0.000   \n",
              "3               0       59     2555               0            0.000   \n",
              "4               0       59     2564               0            0.000   \n",
              "\n",
              "   item_count  city  item_category_id  first_sale_date  category  ...  \\\n",
              "0           1    30                37                0         5  ...   \n",
              "1           0    30                58                0         7  ...   \n",
              "2           0    30                58                0         7  ...   \n",
              "3           0    30                56                0         7  ...   \n",
              "4           0    30                59                0         7  ...   \n",
              "\n",
              "   item_price_mean_lag3  item_id_mean_sales_lag1  item_id_mean_sales_lag2  \\\n",
              "0                 0.000                    0.000                    0.000   \n",
              "1                 0.000                    0.000                    0.000   \n",
              "2                 0.000                    0.000                    0.000   \n",
              "3                 0.000                    0.000                    0.000   \n",
              "4                 0.000                    0.000                    0.000   \n",
              "\n",
              "   item_id_mean_sales_lag3  item_id_city_mean_sales_lag1  \\\n",
              "0                    0.000                         0.000   \n",
              "1                    0.000                         0.000   \n",
              "2                    0.000                         0.000   \n",
              "3                    0.000                         0.000   \n",
              "4                    0.000                         0.000   \n",
              "\n",
              "   item_id_city_mean_sales_lag2  item_id_city_mean_sales_lag3  \\\n",
              "0                         0.000                         0.000   \n",
              "1                         0.000                         0.000   \n",
              "2                         0.000                         0.000   \n",
              "3                         0.000                         0.000   \n",
              "4                         0.000                         0.000   \n",
              "\n",
              "   shop_id_item_category_id_mean_sales_lag1  \\\n",
              "0                                     0.000   \n",
              "1                                     0.000   \n",
              "2                                     0.000   \n",
              "3                                     0.000   \n",
              "4                                     0.000   \n",
              "\n",
              "   shop_id_item_category_id_mean_sales_lag2  \\\n",
              "0                                     0.000   \n",
              "1                                     0.000   \n",
              "2                                     0.000   \n",
              "3                                     0.000   \n",
              "4                                     0.000   \n",
              "\n",
              "   shop_id_item_category_id_mean_sales_lag3  \n",
              "0                                     0.000  \n",
              "1                                     0.000  \n",
              "2                                     0.000  \n",
              "3                                     0.000  \n",
              "4                                     0.000  \n",
              "\n",
              "[5 rows x 29 columns]"
            ]
          },
          "metadata": {
            "tags": []
          },
          "execution_count": 54
        }
      ]
    },
    {
      "cell_type": "code",
      "metadata": {
        "colab": {
          "base_uri": "https://localhost:8080/"
        },
        "id": "4YqCEG0SJcpF",
        "outputId": "da6334d7-2238-4323-d25d-b7bffa0da5eb"
      },
      "source": [
        "all_data[all_data['date_block_num'] < 3].index"
      ],
      "execution_count": null,
      "outputs": [
        {
          "output_type": "execute_result",
          "data": {
            "text/plain": [
              "Int64Index([     0,      1,      2,      3,      4,      5,      6,      7,\n",
              "                 8,      9,\n",
              "            ...\n",
              "            827186, 827187, 827188, 827189, 827190, 827191, 827192, 827193,\n",
              "            827194, 827195],\n",
              "           dtype='int64', length=827196)"
            ]
          },
          "metadata": {
            "tags": []
          },
          "execution_count": 55
        }
      ]
    },
    {
      "cell_type": "code",
      "metadata": {
        "id": "uTgfPe13JcpF"
      },
      "source": [
        "# Remove features in shop_mean_features\n",
        "all_data = all_data.drop(shop_mean_features, axis=1)\n",
        "# Remove data less than date ID 3\n",
        "all_data = all_data.drop(all_data[all_data['date_block_num'] < 3].index)\n",
        "\n",
        "all_data['item_cnt_month_lag_mean'] = all_data[['item_cnt_month_lag1',\n",
        "                                         'item_cnt_month_lag2', \n",
        "                                         'item_cnt_month_lag3']].mean(axis=1)"
      ],
      "execution_count": null,
      "outputs": []
    },
    {
      "cell_type": "code",
      "metadata": {
        "colab": {
          "base_uri": "https://localhost:8080/",
          "height": 420
        },
        "id": "abx_aTNvJcpG",
        "outputId": "c889b0b8-0d32-48e2-a20b-842bb86844c3"
      },
      "source": [
        "all_data[['item_cnt_month_lag1', 'item_cnt_month_lag2', 'item_cnt_month_lag3','item_cnt_month']]"
      ],
      "execution_count": null,
      "outputs": [
        {
          "output_type": "execute_result",
          "data": {
            "text/html": [
              "<div>\n",
              "<style scoped>\n",
              "    .dataframe tbody tr th:only-of-type {\n",
              "        vertical-align: middle;\n",
              "    }\n",
              "\n",
              "    .dataframe tbody tr th {\n",
              "        vertical-align: top;\n",
              "    }\n",
              "\n",
              "    .dataframe thead th {\n",
              "        text-align: right;\n",
              "    }\n",
              "</style>\n",
              "<table border=\"1\" class=\"dataframe\">\n",
              "  <thead>\n",
              "    <tr style=\"text-align: right;\">\n",
              "      <th></th>\n",
              "      <th>item_cnt_month_lag1</th>\n",
              "      <th>item_cnt_month_lag2</th>\n",
              "      <th>item_cnt_month_lag3</th>\n",
              "      <th>item_cnt_month</th>\n",
              "    </tr>\n",
              "  </thead>\n",
              "  <tbody>\n",
              "    <tr>\n",
              "      <th>827196</th>\n",
              "      <td>1</td>\n",
              "      <td>4</td>\n",
              "      <td>0</td>\n",
              "      <td>3</td>\n",
              "    </tr>\n",
              "    <tr>\n",
              "      <th>827197</th>\n",
              "      <td>5</td>\n",
              "      <td>6</td>\n",
              "      <td>0</td>\n",
              "      <td>3</td>\n",
              "    </tr>\n",
              "    <tr>\n",
              "      <th>827198</th>\n",
              "      <td>0</td>\n",
              "      <td>0</td>\n",
              "      <td>0</td>\n",
              "      <td>3</td>\n",
              "    </tr>\n",
              "    <tr>\n",
              "      <th>827199</th>\n",
              "      <td>1</td>\n",
              "      <td>0</td>\n",
              "      <td>0</td>\n",
              "      <td>1</td>\n",
              "    </tr>\n",
              "    <tr>\n",
              "      <th>827200</th>\n",
              "      <td>0</td>\n",
              "      <td>0</td>\n",
              "      <td>0</td>\n",
              "      <td>1</td>\n",
              "    </tr>\n",
              "    <tr>\n",
              "      <th>...</th>\n",
              "      <td>...</td>\n",
              "      <td>...</td>\n",
              "      <td>...</td>\n",
              "      <td>...</td>\n",
              "    </tr>\n",
              "    <tr>\n",
              "      <th>8856956</th>\n",
              "      <td>1</td>\n",
              "      <td>0</td>\n",
              "      <td>0</td>\n",
              "      <td>0</td>\n",
              "    </tr>\n",
              "    <tr>\n",
              "      <th>8856957</th>\n",
              "      <td>0</td>\n",
              "      <td>0</td>\n",
              "      <td>0</td>\n",
              "      <td>0</td>\n",
              "    </tr>\n",
              "    <tr>\n",
              "      <th>8856958</th>\n",
              "      <td>0</td>\n",
              "      <td>0</td>\n",
              "      <td>0</td>\n",
              "      <td>0</td>\n",
              "    </tr>\n",
              "    <tr>\n",
              "      <th>8856959</th>\n",
              "      <td>0</td>\n",
              "      <td>0</td>\n",
              "      <td>0</td>\n",
              "      <td>0</td>\n",
              "    </tr>\n",
              "    <tr>\n",
              "      <th>8856960</th>\n",
              "      <td>0</td>\n",
              "      <td>0</td>\n",
              "      <td>0</td>\n",
              "      <td>0</td>\n",
              "    </tr>\n",
              "  </tbody>\n",
              "</table>\n",
              "<p>8029765 rows × 4 columns</p>\n",
              "</div>"
            ],
            "text/plain": [
              "         item_cnt_month_lag1  item_cnt_month_lag2  item_cnt_month_lag3  \\\n",
              "827196                     1                    4                    0   \n",
              "827197                     5                    6                    0   \n",
              "827198                     0                    0                    0   \n",
              "827199                     1                    0                    0   \n",
              "827200                     0                    0                    0   \n",
              "...                      ...                  ...                  ...   \n",
              "8856956                    1                    0                    0   \n",
              "8856957                    0                    0                    0   \n",
              "8856958                    0                    0                    0   \n",
              "8856959                    0                    0                    0   \n",
              "8856960                    0                    0                    0   \n",
              "\n",
              "         item_cnt_month  \n",
              "827196                3  \n",
              "827197                3  \n",
              "827198                3  \n",
              "827199                1  \n",
              "827200                1  \n",
              "...                 ...  \n",
              "8856956               0  \n",
              "8856957               0  \n",
              "8856958               0  \n",
              "8856959               0  \n",
              "8856960               0  \n",
              "\n",
              "[8029765 rows x 4 columns]"
            ]
          },
          "metadata": {
            "tags": []
          },
          "execution_count": 57
        }
      ]
    },
    {
      "cell_type": "code",
      "metadata": {
        "colab": {
          "base_uri": "https://localhost:8080/"
        },
        "id": "3CYs3NwbJcpG",
        "outputId": "1607a67e-5eb5-40a1-e810-52627146a496"
      },
      "source": [
        "all_data['date_block_num']"
      ],
      "execution_count": null,
      "outputs": [
        {
          "output_type": "execute_result",
          "data": {
            "text/plain": [
              "827196      3\n",
              "827197      3\n",
              "827198      3\n",
              "827199      3\n",
              "827200      3\n",
              "           ..\n",
              "8856956    34\n",
              "8856957    34\n",
              "8856958    34\n",
              "8856959    34\n",
              "8856960    34\n",
              "Name: date_block_num, Length: 8029765, dtype: int8"
            ]
          },
          "metadata": {
            "tags": []
          },
          "execution_count": 58
        }
      ]
    },
    {
      "cell_type": "code",
      "metadata": {
        "colab": {
          "base_uri": "https://localhost:8080/"
        },
        "id": "SXbzGbh8JcpH",
        "outputId": "54ece6c2-9bf4-4cd3-acd6-ed918d9b55eb"
      },
      "source": [
        "# Clip 0~20\n",
        "all_data[lag_features_to_clip + ['item_cnt_month', 'item_cnt_month_lag_mean']] = all_data[lag_features_to_clip +['item_cnt_month', 'item_cnt_month_lag_mean']].clip(0, 20)\n",
        "all_data['lag_grad1'] = all_data['item_cnt_month_lag1']/all_data['item_cnt_month_lag2']\n",
        "all_data['lag_grad1'] = all_data['lag_grad1'].replace([np.inf, -np.inf], \n",
        "                                                        np.nan).fillna(0)\n",
        "\n",
        "all_data['lag_grad2'] = all_data['item_cnt_month_lag2']/all_data['item_cnt_month_lag3']\n",
        "all_data['lag_grad2'] = all_data['lag_grad2'].replace([np.inf, -np.inf], \n",
        "                                                        np.nan).fillna(0)\n",
        "all_data['brand_new'] = all_data['first_sale_date'] == all_data['date_block_num']\n",
        "\n",
        "all_data['duration_after_first_sale'] = all_data['date_block_num'] - all_data['first_sale_date']\n",
        "all_data = all_data.drop('first_sale_date', axis=1)\n",
        "all_data['month'] = all_data['date_block_num']%12\n",
        "# Remove item_price_mean, item_count features\n",
        "all_data = all_data.drop(['item_price_mean', 'item_count'], axis=1)\n",
        "all_data = downcast(all_data, False) # Data downcasting\n",
        "all_data.info()"
      ],
      "execution_count": null,
      "outputs": [
        {
          "output_type": "stream",
          "text": [
            "<class 'pandas.core.frame.DataFrame'>\n",
            "Int64Index: 8029765 entries, 827196 to 8856960\n",
            "Data columns (total 31 columns):\n",
            " #   Column                                    Dtype  \n",
            "---  ------                                    -----  \n",
            " 0   date_block_num                            int8   \n",
            " 1   shop_id                                   int8   \n",
            " 2   item_id                                   int16  \n",
            " 3   item_cnt_month                            int8   \n",
            " 4   city                                      int8   \n",
            " 5   item_category_id                          int8   \n",
            " 6   category                                  int8   \n",
            " 7   item_cnt_month_lag1                       int8   \n",
            " 8   item_cnt_month_lag2                       int8   \n",
            " 9   item_cnt_month_lag3                       int8   \n",
            " 10  item_count_lag1                           int8   \n",
            " 11  item_count_lag2                           int8   \n",
            " 12  item_count_lag3                           int8   \n",
            " 13  item_price_mean_lag1                      float32\n",
            " 14  item_price_mean_lag2                      float32\n",
            " 15  item_price_mean_lag3                      float32\n",
            " 16  item_id_mean_sales_lag1                   float32\n",
            " 17  item_id_mean_sales_lag2                   float32\n",
            " 18  item_id_mean_sales_lag3                   float32\n",
            " 19  item_id_city_mean_sales_lag1              float32\n",
            " 20  item_id_city_mean_sales_lag2              float32\n",
            " 21  item_id_city_mean_sales_lag3              float32\n",
            " 22  shop_id_item_category_id_mean_sales_lag1  float32\n",
            " 23  shop_id_item_category_id_mean_sales_lag2  float32\n",
            " 24  shop_id_item_category_id_mean_sales_lag3  float32\n",
            " 25  item_cnt_month_lag_mean                   float32\n",
            " 26  lag_grad1                                 float32\n",
            " 27  lag_grad2                                 float32\n",
            " 28  brand_new                                 int8   \n",
            " 29  duration_after_first_sale                 int8   \n",
            " 30  month                                     int8   \n",
            "dtypes: float32(15), int16(1), int8(15)\n",
            "memory usage: 650.9 MB\n"
          ],
          "name": "stdout"
        }
      ]
    },
    {
      "cell_type": "code",
      "metadata": {
        "colab": {
          "base_uri": "https://localhost:8080/",
          "height": 440
        },
        "id": "x5lhl7d4JcpI",
        "outputId": "e8e7bb95-e3d0-44fe-aaec-408b7d61ec0b"
      },
      "source": [
        "all_data"
      ],
      "execution_count": null,
      "outputs": [
        {
          "output_type": "execute_result",
          "data": {
            "text/html": [
              "<div>\n",
              "<style scoped>\n",
              "    .dataframe tbody tr th:only-of-type {\n",
              "        vertical-align: middle;\n",
              "    }\n",
              "\n",
              "    .dataframe tbody tr th {\n",
              "        vertical-align: top;\n",
              "    }\n",
              "\n",
              "    .dataframe thead th {\n",
              "        text-align: right;\n",
              "    }\n",
              "</style>\n",
              "<table border=\"1\" class=\"dataframe\">\n",
              "  <thead>\n",
              "    <tr style=\"text-align: right;\">\n",
              "      <th></th>\n",
              "      <th>date_block_num</th>\n",
              "      <th>shop_id</th>\n",
              "      <th>item_id</th>\n",
              "      <th>item_cnt_month</th>\n",
              "      <th>city</th>\n",
              "      <th>item_category_id</th>\n",
              "      <th>category</th>\n",
              "      <th>item_cnt_month_lag1</th>\n",
              "      <th>item_cnt_month_lag2</th>\n",
              "      <th>item_cnt_month_lag3</th>\n",
              "      <th>...</th>\n",
              "      <th>item_id_city_mean_sales_lag3</th>\n",
              "      <th>shop_id_item_category_id_mean_sales_lag1</th>\n",
              "      <th>shop_id_item_category_id_mean_sales_lag2</th>\n",
              "      <th>shop_id_item_category_id_mean_sales_lag3</th>\n",
              "      <th>item_cnt_month_lag_mean</th>\n",
              "      <th>lag_grad1</th>\n",
              "      <th>lag_grad2</th>\n",
              "      <th>brand_new</th>\n",
              "      <th>duration_after_first_sale</th>\n",
              "      <th>month</th>\n",
              "    </tr>\n",
              "  </thead>\n",
              "  <tbody>\n",
              "    <tr>\n",
              "      <th>827196</th>\n",
              "      <td>3</td>\n",
              "      <td>25</td>\n",
              "      <td>8092</td>\n",
              "      <td>3</td>\n",
              "      <td>13</td>\n",
              "      <td>40</td>\n",
              "      <td>5</td>\n",
              "      <td>1</td>\n",
              "      <td>4</td>\n",
              "      <td>0</td>\n",
              "      <td>...</td>\n",
              "      <td>0.000</td>\n",
              "      <td>1.087</td>\n",
              "      <td>1.049</td>\n",
              "      <td>0.000</td>\n",
              "      <td>1.667</td>\n",
              "      <td>0.250</td>\n",
              "      <td>0.000</td>\n",
              "      <td>0</td>\n",
              "      <td>3</td>\n",
              "      <td>3</td>\n",
              "    </tr>\n",
              "    <tr>\n",
              "      <th>827197</th>\n",
              "      <td>3</td>\n",
              "      <td>25</td>\n",
              "      <td>7850</td>\n",
              "      <td>3</td>\n",
              "      <td>13</td>\n",
              "      <td>30</td>\n",
              "      <td>3</td>\n",
              "      <td>5</td>\n",
              "      <td>6</td>\n",
              "      <td>0</td>\n",
              "      <td>...</td>\n",
              "      <td>0.000</td>\n",
              "      <td>3.654</td>\n",
              "      <td>2.279</td>\n",
              "      <td>0.000</td>\n",
              "      <td>3.667</td>\n",
              "      <td>0.833</td>\n",
              "      <td>0.000</td>\n",
              "      <td>0</td>\n",
              "      <td>3</td>\n",
              "      <td>3</td>\n",
              "    </tr>\n",
              "    <tr>\n",
              "      <th>827198</th>\n",
              "      <td>3</td>\n",
              "      <td>25</td>\n",
              "      <td>8051</td>\n",
              "      <td>3</td>\n",
              "      <td>13</td>\n",
              "      <td>66</td>\n",
              "      <td>8</td>\n",
              "      <td>0</td>\n",
              "      <td>0</td>\n",
              "      <td>0</td>\n",
              "      <td>...</td>\n",
              "      <td>0.000</td>\n",
              "      <td>1.828</td>\n",
              "      <td>1.389</td>\n",
              "      <td>0.000</td>\n",
              "      <td>0.000</td>\n",
              "      <td>0.000</td>\n",
              "      <td>0.000</td>\n",
              "      <td>0</td>\n",
              "      <td>3</td>\n",
              "      <td>3</td>\n",
              "    </tr>\n",
              "    <tr>\n",
              "      <th>827199</th>\n",
              "      <td>3</td>\n",
              "      <td>25</td>\n",
              "      <td>8088</td>\n",
              "      <td>1</td>\n",
              "      <td>13</td>\n",
              "      <td>55</td>\n",
              "      <td>7</td>\n",
              "      <td>1</td>\n",
              "      <td>0</td>\n",
              "      <td>0</td>\n",
              "      <td>...</td>\n",
              "      <td>0.000</td>\n",
              "      <td>0.600</td>\n",
              "      <td>0.562</td>\n",
              "      <td>0.000</td>\n",
              "      <td>0.333</td>\n",
              "      <td>0.000</td>\n",
              "      <td>0.000</td>\n",
              "      <td>0</td>\n",
              "      <td>3</td>\n",
              "      <td>3</td>\n",
              "    </tr>\n",
              "    <tr>\n",
              "      <th>827200</th>\n",
              "      <td>3</td>\n",
              "      <td>25</td>\n",
              "      <td>8089</td>\n",
              "      <td>1</td>\n",
              "      <td>13</td>\n",
              "      <td>55</td>\n",
              "      <td>7</td>\n",
              "      <td>0</td>\n",
              "      <td>0</td>\n",
              "      <td>0</td>\n",
              "      <td>...</td>\n",
              "      <td>0.000</td>\n",
              "      <td>0.600</td>\n",
              "      <td>0.562</td>\n",
              "      <td>0.000</td>\n",
              "      <td>0.000</td>\n",
              "      <td>0.000</td>\n",
              "      <td>0.000</td>\n",
              "      <td>0</td>\n",
              "      <td>3</td>\n",
              "      <td>3</td>\n",
              "    </tr>\n",
              "    <tr>\n",
              "      <th>...</th>\n",
              "      <td>...</td>\n",
              "      <td>...</td>\n",
              "      <td>...</td>\n",
              "      <td>...</td>\n",
              "      <td>...</td>\n",
              "      <td>...</td>\n",
              "      <td>...</td>\n",
              "      <td>...</td>\n",
              "      <td>...</td>\n",
              "      <td>...</td>\n",
              "      <td>...</td>\n",
              "      <td>...</td>\n",
              "      <td>...</td>\n",
              "      <td>...</td>\n",
              "      <td>...</td>\n",
              "      <td>...</td>\n",
              "      <td>...</td>\n",
              "      <td>...</td>\n",
              "      <td>...</td>\n",
              "      <td>...</td>\n",
              "      <td>...</td>\n",
              "    </tr>\n",
              "    <tr>\n",
              "      <th>8856956</th>\n",
              "      <td>34</td>\n",
              "      <td>45</td>\n",
              "      <td>18454</td>\n",
              "      <td>0</td>\n",
              "      <td>20</td>\n",
              "      <td>55</td>\n",
              "      <td>7</td>\n",
              "      <td>1</td>\n",
              "      <td>0</td>\n",
              "      <td>0</td>\n",
              "      <td>...</td>\n",
              "      <td>0.000</td>\n",
              "      <td>0.127</td>\n",
              "      <td>0.106</td>\n",
              "      <td>0.128</td>\n",
              "      <td>0.333</td>\n",
              "      <td>0.000</td>\n",
              "      <td>0.000</td>\n",
              "      <td>0</td>\n",
              "      <td>11</td>\n",
              "      <td>10</td>\n",
              "    </tr>\n",
              "    <tr>\n",
              "      <th>8856957</th>\n",
              "      <td>34</td>\n",
              "      <td>45</td>\n",
              "      <td>16188</td>\n",
              "      <td>0</td>\n",
              "      <td>20</td>\n",
              "      <td>64</td>\n",
              "      <td>8</td>\n",
              "      <td>0</td>\n",
              "      <td>0</td>\n",
              "      <td>0</td>\n",
              "      <td>...</td>\n",
              "      <td>0.000</td>\n",
              "      <td>0.094</td>\n",
              "      <td>0.220</td>\n",
              "      <td>0.102</td>\n",
              "      <td>0.000</td>\n",
              "      <td>0.000</td>\n",
              "      <td>0.000</td>\n",
              "      <td>0</td>\n",
              "      <td>2</td>\n",
              "      <td>10</td>\n",
              "    </tr>\n",
              "    <tr>\n",
              "      <th>8856958</th>\n",
              "      <td>34</td>\n",
              "      <td>45</td>\n",
              "      <td>15757</td>\n",
              "      <td>0</td>\n",
              "      <td>20</td>\n",
              "      <td>55</td>\n",
              "      <td>7</td>\n",
              "      <td>0</td>\n",
              "      <td>0</td>\n",
              "      <td>0</td>\n",
              "      <td>...</td>\n",
              "      <td>0.000</td>\n",
              "      <td>0.127</td>\n",
              "      <td>0.106</td>\n",
              "      <td>0.128</td>\n",
              "      <td>0.000</td>\n",
              "      <td>0.000</td>\n",
              "      <td>0.000</td>\n",
              "      <td>0</td>\n",
              "      <td>34</td>\n",
              "      <td>10</td>\n",
              "    </tr>\n",
              "    <tr>\n",
              "      <th>8856959</th>\n",
              "      <td>34</td>\n",
              "      <td>45</td>\n",
              "      <td>19648</td>\n",
              "      <td>0</td>\n",
              "      <td>20</td>\n",
              "      <td>40</td>\n",
              "      <td>5</td>\n",
              "      <td>0</td>\n",
              "      <td>0</td>\n",
              "      <td>0</td>\n",
              "      <td>...</td>\n",
              "      <td>0.000</td>\n",
              "      <td>0.084</td>\n",
              "      <td>0.112</td>\n",
              "      <td>0.083</td>\n",
              "      <td>0.000</td>\n",
              "      <td>0.000</td>\n",
              "      <td>0.000</td>\n",
              "      <td>0</td>\n",
              "      <td>11</td>\n",
              "      <td>10</td>\n",
              "    </tr>\n",
              "    <tr>\n",
              "      <th>8856960</th>\n",
              "      <td>34</td>\n",
              "      <td>45</td>\n",
              "      <td>969</td>\n",
              "      <td>0</td>\n",
              "      <td>20</td>\n",
              "      <td>37</td>\n",
              "      <td>5</td>\n",
              "      <td>0</td>\n",
              "      <td>0</td>\n",
              "      <td>0</td>\n",
              "      <td>...</td>\n",
              "      <td>0.000</td>\n",
              "      <td>0.128</td>\n",
              "      <td>0.124</td>\n",
              "      <td>0.094</td>\n",
              "      <td>0.000</td>\n",
              "      <td>0.000</td>\n",
              "      <td>0.000</td>\n",
              "      <td>0</td>\n",
              "      <td>17</td>\n",
              "      <td>10</td>\n",
              "    </tr>\n",
              "  </tbody>\n",
              "</table>\n",
              "<p>8029765 rows × 31 columns</p>\n",
              "</div>"
            ],
            "text/plain": [
              "         date_block_num  shop_id  item_id  item_cnt_month  city  \\\n",
              "827196                3       25     8092               3    13   \n",
              "827197                3       25     7850               3    13   \n",
              "827198                3       25     8051               3    13   \n",
              "827199                3       25     8088               1    13   \n",
              "827200                3       25     8089               1    13   \n",
              "...                 ...      ...      ...             ...   ...   \n",
              "8856956              34       45    18454               0    20   \n",
              "8856957              34       45    16188               0    20   \n",
              "8856958              34       45    15757               0    20   \n",
              "8856959              34       45    19648               0    20   \n",
              "8856960              34       45      969               0    20   \n",
              "\n",
              "         item_category_id  category  item_cnt_month_lag1  item_cnt_month_lag2  \\\n",
              "827196                 40         5                    1                    4   \n",
              "827197                 30         3                    5                    6   \n",
              "827198                 66         8                    0                    0   \n",
              "827199                 55         7                    1                    0   \n",
              "827200                 55         7                    0                    0   \n",
              "...                   ...       ...                  ...                  ...   \n",
              "8856956                55         7                    1                    0   \n",
              "8856957                64         8                    0                    0   \n",
              "8856958                55         7                    0                    0   \n",
              "8856959                40         5                    0                    0   \n",
              "8856960                37         5                    0                    0   \n",
              "\n",
              "         item_cnt_month_lag3  ...  item_id_city_mean_sales_lag3  \\\n",
              "827196                     0  ...                         0.000   \n",
              "827197                     0  ...                         0.000   \n",
              "827198                     0  ...                         0.000   \n",
              "827199                     0  ...                         0.000   \n",
              "827200                     0  ...                         0.000   \n",
              "...                      ...  ...                           ...   \n",
              "8856956                    0  ...                         0.000   \n",
              "8856957                    0  ...                         0.000   \n",
              "8856958                    0  ...                         0.000   \n",
              "8856959                    0  ...                         0.000   \n",
              "8856960                    0  ...                         0.000   \n",
              "\n",
              "         shop_id_item_category_id_mean_sales_lag1  \\\n",
              "827196                                      1.087   \n",
              "827197                                      3.654   \n",
              "827198                                      1.828   \n",
              "827199                                      0.600   \n",
              "827200                                      0.600   \n",
              "...                                           ...   \n",
              "8856956                                     0.127   \n",
              "8856957                                     0.094   \n",
              "8856958                                     0.127   \n",
              "8856959                                     0.084   \n",
              "8856960                                     0.128   \n",
              "\n",
              "         shop_id_item_category_id_mean_sales_lag2  \\\n",
              "827196                                      1.049   \n",
              "827197                                      2.279   \n",
              "827198                                      1.389   \n",
              "827199                                      0.562   \n",
              "827200                                      0.562   \n",
              "...                                           ...   \n",
              "8856956                                     0.106   \n",
              "8856957                                     0.220   \n",
              "8856958                                     0.106   \n",
              "8856959                                     0.112   \n",
              "8856960                                     0.124   \n",
              "\n",
              "         shop_id_item_category_id_mean_sales_lag3  item_cnt_month_lag_mean  \\\n",
              "827196                                      0.000                    1.667   \n",
              "827197                                      0.000                    3.667   \n",
              "827198                                      0.000                    0.000   \n",
              "827199                                      0.000                    0.333   \n",
              "827200                                      0.000                    0.000   \n",
              "...                                           ...                      ...   \n",
              "8856956                                     0.128                    0.333   \n",
              "8856957                                     0.102                    0.000   \n",
              "8856958                                     0.128                    0.000   \n",
              "8856959                                     0.083                    0.000   \n",
              "8856960                                     0.094                    0.000   \n",
              "\n",
              "         lag_grad1  lag_grad2  brand_new  duration_after_first_sale  month  \n",
              "827196       0.250      0.000          0                          3      3  \n",
              "827197       0.833      0.000          0                          3      3  \n",
              "827198       0.000      0.000          0                          3      3  \n",
              "827199       0.000      0.000          0                          3      3  \n",
              "827200       0.000      0.000          0                          3      3  \n",
              "...            ...        ...        ...                        ...    ...  \n",
              "8856956      0.000      0.000          0                         11     10  \n",
              "8856957      0.000      0.000          0                          2     10  \n",
              "8856958      0.000      0.000          0                         34     10  \n",
              "8856959      0.000      0.000          0                         11     10  \n",
              "8856960      0.000      0.000          0                         17     10  \n",
              "\n",
              "[8029765 rows x 31 columns]"
            ]
          },
          "metadata": {
            "tags": []
          },
          "execution_count": 60
        }
      ]
    },
    {
      "cell_type": "code",
      "metadata": {
        "colab": {
          "base_uri": "https://localhost:8080/"
        },
        "id": "ulY57s5_JcpI",
        "outputId": "d4b3cadd-f6ea-4237-e2f0-da507af03d74"
      },
      "source": [
        "np.shape(all_data)"
      ],
      "execution_count": null,
      "outputs": [
        {
          "output_type": "execute_result",
          "data": {
            "text/plain": [
              "(8029765, 31)"
            ]
          },
          "metadata": {
            "tags": []
          },
          "execution_count": 61
        }
      ]
    },
    {
      "cell_type": "code",
      "metadata": {
        "colab": {
          "base_uri": "https://localhost:8080/"
        },
        "id": "dMcJrhxXJcpJ",
        "outputId": "6b2fce91-15ab-42ed-a4c5-a53e5d7ff953"
      },
      "source": [
        "len(all_data[all_data['date_block_num'] == 33])"
      ],
      "execution_count": null,
      "outputs": [
        {
          "output_type": "execute_result",
          "data": {
            "text/plain": [
              "221718"
            ]
          },
          "metadata": {
            "tags": []
          },
          "execution_count": 62
        }
      ]
    },
    {
      "cell_type": "code",
      "metadata": {
        "colab": {
          "base_uri": "https://localhost:8080/"
        },
        "id": "GCy7GV7zJcpK",
        "outputId": "4b33ee46-0e16-4e8a-cb44-188ad9c8e052"
      },
      "source": [
        "len(all_data[all_data['date_block_num'] == 34])"
      ],
      "execution_count": null,
      "outputs": [
        {
          "output_type": "execute_result",
          "data": {
            "text/plain": [
              "214200"
            ]
          },
          "metadata": {
            "tags": []
          },
          "execution_count": 63
        }
      ]
    },
    {
      "cell_type": "code",
      "metadata": {
        "colab": {
          "base_uri": "https://localhost:8080/"
        },
        "id": "3o4rpiWTJcpK",
        "outputId": "3f805ca9-cdaf-4bb6-8aa4-dd331f97d709"
      },
      "source": [
        "len(all_data[all_data['date_block_num'] == 34])"
      ],
      "execution_count": null,
      "outputs": [
        {
          "output_type": "execute_result",
          "data": {
            "text/plain": [
              "214200"
            ]
          },
          "metadata": {
            "tags": []
          },
          "execution_count": 64
        }
      ]
    },
    {
      "cell_type": "code",
      "metadata": {
        "colab": {
          "base_uri": "https://localhost:8080/",
          "height": 440
        },
        "id": "By2CZ4ndVZta",
        "outputId": "e44a9da8-b06a-4cc9-93c2-ae1a87ae8d1a"
      },
      "source": [
        "all_data"
      ],
      "execution_count": null,
      "outputs": [
        {
          "output_type": "execute_result",
          "data": {
            "text/html": [
              "<div>\n",
              "<style scoped>\n",
              "    .dataframe tbody tr th:only-of-type {\n",
              "        vertical-align: middle;\n",
              "    }\n",
              "\n",
              "    .dataframe tbody tr th {\n",
              "        vertical-align: top;\n",
              "    }\n",
              "\n",
              "    .dataframe thead th {\n",
              "        text-align: right;\n",
              "    }\n",
              "</style>\n",
              "<table border=\"1\" class=\"dataframe\">\n",
              "  <thead>\n",
              "    <tr style=\"text-align: right;\">\n",
              "      <th></th>\n",
              "      <th>date_block_num</th>\n",
              "      <th>shop_id</th>\n",
              "      <th>item_id</th>\n",
              "      <th>item_cnt_month</th>\n",
              "      <th>city</th>\n",
              "      <th>item_category_id</th>\n",
              "      <th>category</th>\n",
              "      <th>item_cnt_month_lag1</th>\n",
              "      <th>item_cnt_month_lag2</th>\n",
              "      <th>item_cnt_month_lag3</th>\n",
              "      <th>...</th>\n",
              "      <th>item_id_city_mean_sales_lag3</th>\n",
              "      <th>shop_id_item_category_id_mean_sales_lag1</th>\n",
              "      <th>shop_id_item_category_id_mean_sales_lag2</th>\n",
              "      <th>shop_id_item_category_id_mean_sales_lag3</th>\n",
              "      <th>item_cnt_month_lag_mean</th>\n",
              "      <th>lag_grad1</th>\n",
              "      <th>lag_grad2</th>\n",
              "      <th>brand_new</th>\n",
              "      <th>duration_after_first_sale</th>\n",
              "      <th>month</th>\n",
              "    </tr>\n",
              "  </thead>\n",
              "  <tbody>\n",
              "    <tr>\n",
              "      <th>827196</th>\n",
              "      <td>3</td>\n",
              "      <td>25</td>\n",
              "      <td>8092</td>\n",
              "      <td>3</td>\n",
              "      <td>13</td>\n",
              "      <td>40</td>\n",
              "      <td>5</td>\n",
              "      <td>1</td>\n",
              "      <td>4</td>\n",
              "      <td>0</td>\n",
              "      <td>...</td>\n",
              "      <td>0.000</td>\n",
              "      <td>1.087</td>\n",
              "      <td>1.049</td>\n",
              "      <td>0.000</td>\n",
              "      <td>1.667</td>\n",
              "      <td>0.250</td>\n",
              "      <td>0.000</td>\n",
              "      <td>0</td>\n",
              "      <td>3</td>\n",
              "      <td>3</td>\n",
              "    </tr>\n",
              "    <tr>\n",
              "      <th>827197</th>\n",
              "      <td>3</td>\n",
              "      <td>25</td>\n",
              "      <td>7850</td>\n",
              "      <td>3</td>\n",
              "      <td>13</td>\n",
              "      <td>30</td>\n",
              "      <td>3</td>\n",
              "      <td>5</td>\n",
              "      <td>6</td>\n",
              "      <td>0</td>\n",
              "      <td>...</td>\n",
              "      <td>0.000</td>\n",
              "      <td>3.654</td>\n",
              "      <td>2.279</td>\n",
              "      <td>0.000</td>\n",
              "      <td>3.667</td>\n",
              "      <td>0.833</td>\n",
              "      <td>0.000</td>\n",
              "      <td>0</td>\n",
              "      <td>3</td>\n",
              "      <td>3</td>\n",
              "    </tr>\n",
              "    <tr>\n",
              "      <th>827198</th>\n",
              "      <td>3</td>\n",
              "      <td>25</td>\n",
              "      <td>8051</td>\n",
              "      <td>3</td>\n",
              "      <td>13</td>\n",
              "      <td>66</td>\n",
              "      <td>8</td>\n",
              "      <td>0</td>\n",
              "      <td>0</td>\n",
              "      <td>0</td>\n",
              "      <td>...</td>\n",
              "      <td>0.000</td>\n",
              "      <td>1.828</td>\n",
              "      <td>1.389</td>\n",
              "      <td>0.000</td>\n",
              "      <td>0.000</td>\n",
              "      <td>0.000</td>\n",
              "      <td>0.000</td>\n",
              "      <td>0</td>\n",
              "      <td>3</td>\n",
              "      <td>3</td>\n",
              "    </tr>\n",
              "    <tr>\n",
              "      <th>827199</th>\n",
              "      <td>3</td>\n",
              "      <td>25</td>\n",
              "      <td>8088</td>\n",
              "      <td>1</td>\n",
              "      <td>13</td>\n",
              "      <td>55</td>\n",
              "      <td>7</td>\n",
              "      <td>1</td>\n",
              "      <td>0</td>\n",
              "      <td>0</td>\n",
              "      <td>...</td>\n",
              "      <td>0.000</td>\n",
              "      <td>0.600</td>\n",
              "      <td>0.562</td>\n",
              "      <td>0.000</td>\n",
              "      <td>0.333</td>\n",
              "      <td>0.000</td>\n",
              "      <td>0.000</td>\n",
              "      <td>0</td>\n",
              "      <td>3</td>\n",
              "      <td>3</td>\n",
              "    </tr>\n",
              "    <tr>\n",
              "      <th>827200</th>\n",
              "      <td>3</td>\n",
              "      <td>25</td>\n",
              "      <td>8089</td>\n",
              "      <td>1</td>\n",
              "      <td>13</td>\n",
              "      <td>55</td>\n",
              "      <td>7</td>\n",
              "      <td>0</td>\n",
              "      <td>0</td>\n",
              "      <td>0</td>\n",
              "      <td>...</td>\n",
              "      <td>0.000</td>\n",
              "      <td>0.600</td>\n",
              "      <td>0.562</td>\n",
              "      <td>0.000</td>\n",
              "      <td>0.000</td>\n",
              "      <td>0.000</td>\n",
              "      <td>0.000</td>\n",
              "      <td>0</td>\n",
              "      <td>3</td>\n",
              "      <td>3</td>\n",
              "    </tr>\n",
              "    <tr>\n",
              "      <th>...</th>\n",
              "      <td>...</td>\n",
              "      <td>...</td>\n",
              "      <td>...</td>\n",
              "      <td>...</td>\n",
              "      <td>...</td>\n",
              "      <td>...</td>\n",
              "      <td>...</td>\n",
              "      <td>...</td>\n",
              "      <td>...</td>\n",
              "      <td>...</td>\n",
              "      <td>...</td>\n",
              "      <td>...</td>\n",
              "      <td>...</td>\n",
              "      <td>...</td>\n",
              "      <td>...</td>\n",
              "      <td>...</td>\n",
              "      <td>...</td>\n",
              "      <td>...</td>\n",
              "      <td>...</td>\n",
              "      <td>...</td>\n",
              "      <td>...</td>\n",
              "    </tr>\n",
              "    <tr>\n",
              "      <th>8856956</th>\n",
              "      <td>34</td>\n",
              "      <td>45</td>\n",
              "      <td>18454</td>\n",
              "      <td>0</td>\n",
              "      <td>20</td>\n",
              "      <td>55</td>\n",
              "      <td>7</td>\n",
              "      <td>1</td>\n",
              "      <td>0</td>\n",
              "      <td>0</td>\n",
              "      <td>...</td>\n",
              "      <td>0.000</td>\n",
              "      <td>0.127</td>\n",
              "      <td>0.106</td>\n",
              "      <td>0.128</td>\n",
              "      <td>0.333</td>\n",
              "      <td>0.000</td>\n",
              "      <td>0.000</td>\n",
              "      <td>0</td>\n",
              "      <td>11</td>\n",
              "      <td>10</td>\n",
              "    </tr>\n",
              "    <tr>\n",
              "      <th>8856957</th>\n",
              "      <td>34</td>\n",
              "      <td>45</td>\n",
              "      <td>16188</td>\n",
              "      <td>0</td>\n",
              "      <td>20</td>\n",
              "      <td>64</td>\n",
              "      <td>8</td>\n",
              "      <td>0</td>\n",
              "      <td>0</td>\n",
              "      <td>0</td>\n",
              "      <td>...</td>\n",
              "      <td>0.000</td>\n",
              "      <td>0.094</td>\n",
              "      <td>0.220</td>\n",
              "      <td>0.102</td>\n",
              "      <td>0.000</td>\n",
              "      <td>0.000</td>\n",
              "      <td>0.000</td>\n",
              "      <td>0</td>\n",
              "      <td>2</td>\n",
              "      <td>10</td>\n",
              "    </tr>\n",
              "    <tr>\n",
              "      <th>8856958</th>\n",
              "      <td>34</td>\n",
              "      <td>45</td>\n",
              "      <td>15757</td>\n",
              "      <td>0</td>\n",
              "      <td>20</td>\n",
              "      <td>55</td>\n",
              "      <td>7</td>\n",
              "      <td>0</td>\n",
              "      <td>0</td>\n",
              "      <td>0</td>\n",
              "      <td>...</td>\n",
              "      <td>0.000</td>\n",
              "      <td>0.127</td>\n",
              "      <td>0.106</td>\n",
              "      <td>0.128</td>\n",
              "      <td>0.000</td>\n",
              "      <td>0.000</td>\n",
              "      <td>0.000</td>\n",
              "      <td>0</td>\n",
              "      <td>34</td>\n",
              "      <td>10</td>\n",
              "    </tr>\n",
              "    <tr>\n",
              "      <th>8856959</th>\n",
              "      <td>34</td>\n",
              "      <td>45</td>\n",
              "      <td>19648</td>\n",
              "      <td>0</td>\n",
              "      <td>20</td>\n",
              "      <td>40</td>\n",
              "      <td>5</td>\n",
              "      <td>0</td>\n",
              "      <td>0</td>\n",
              "      <td>0</td>\n",
              "      <td>...</td>\n",
              "      <td>0.000</td>\n",
              "      <td>0.084</td>\n",
              "      <td>0.112</td>\n",
              "      <td>0.083</td>\n",
              "      <td>0.000</td>\n",
              "      <td>0.000</td>\n",
              "      <td>0.000</td>\n",
              "      <td>0</td>\n",
              "      <td>11</td>\n",
              "      <td>10</td>\n",
              "    </tr>\n",
              "    <tr>\n",
              "      <th>8856960</th>\n",
              "      <td>34</td>\n",
              "      <td>45</td>\n",
              "      <td>969</td>\n",
              "      <td>0</td>\n",
              "      <td>20</td>\n",
              "      <td>37</td>\n",
              "      <td>5</td>\n",
              "      <td>0</td>\n",
              "      <td>0</td>\n",
              "      <td>0</td>\n",
              "      <td>...</td>\n",
              "      <td>0.000</td>\n",
              "      <td>0.128</td>\n",
              "      <td>0.124</td>\n",
              "      <td>0.094</td>\n",
              "      <td>0.000</td>\n",
              "      <td>0.000</td>\n",
              "      <td>0.000</td>\n",
              "      <td>0</td>\n",
              "      <td>17</td>\n",
              "      <td>10</td>\n",
              "    </tr>\n",
              "  </tbody>\n",
              "</table>\n",
              "<p>8029765 rows × 31 columns</p>\n",
              "</div>"
            ],
            "text/plain": [
              "         date_block_num  shop_id  item_id  item_cnt_month  city  \\\n",
              "827196                3       25     8092               3    13   \n",
              "827197                3       25     7850               3    13   \n",
              "827198                3       25     8051               3    13   \n",
              "827199                3       25     8088               1    13   \n",
              "827200                3       25     8089               1    13   \n",
              "...                 ...      ...      ...             ...   ...   \n",
              "8856956              34       45    18454               0    20   \n",
              "8856957              34       45    16188               0    20   \n",
              "8856958              34       45    15757               0    20   \n",
              "8856959              34       45    19648               0    20   \n",
              "8856960              34       45      969               0    20   \n",
              "\n",
              "         item_category_id  category  item_cnt_month_lag1  item_cnt_month_lag2  \\\n",
              "827196                 40         5                    1                    4   \n",
              "827197                 30         3                    5                    6   \n",
              "827198                 66         8                    0                    0   \n",
              "827199                 55         7                    1                    0   \n",
              "827200                 55         7                    0                    0   \n",
              "...                   ...       ...                  ...                  ...   \n",
              "8856956                55         7                    1                    0   \n",
              "8856957                64         8                    0                    0   \n",
              "8856958                55         7                    0                    0   \n",
              "8856959                40         5                    0                    0   \n",
              "8856960                37         5                    0                    0   \n",
              "\n",
              "         item_cnt_month_lag3  ...  item_id_city_mean_sales_lag3  \\\n",
              "827196                     0  ...                         0.000   \n",
              "827197                     0  ...                         0.000   \n",
              "827198                     0  ...                         0.000   \n",
              "827199                     0  ...                         0.000   \n",
              "827200                     0  ...                         0.000   \n",
              "...                      ...  ...                           ...   \n",
              "8856956                    0  ...                         0.000   \n",
              "8856957                    0  ...                         0.000   \n",
              "8856958                    0  ...                         0.000   \n",
              "8856959                    0  ...                         0.000   \n",
              "8856960                    0  ...                         0.000   \n",
              "\n",
              "         shop_id_item_category_id_mean_sales_lag1  \\\n",
              "827196                                      1.087   \n",
              "827197                                      3.654   \n",
              "827198                                      1.828   \n",
              "827199                                      0.600   \n",
              "827200                                      0.600   \n",
              "...                                           ...   \n",
              "8856956                                     0.127   \n",
              "8856957                                     0.094   \n",
              "8856958                                     0.127   \n",
              "8856959                                     0.084   \n",
              "8856960                                     0.128   \n",
              "\n",
              "         shop_id_item_category_id_mean_sales_lag2  \\\n",
              "827196                                      1.049   \n",
              "827197                                      2.279   \n",
              "827198                                      1.389   \n",
              "827199                                      0.562   \n",
              "827200                                      0.562   \n",
              "...                                           ...   \n",
              "8856956                                     0.106   \n",
              "8856957                                     0.220   \n",
              "8856958                                     0.106   \n",
              "8856959                                     0.112   \n",
              "8856960                                     0.124   \n",
              "\n",
              "         shop_id_item_category_id_mean_sales_lag3  item_cnt_month_lag_mean  \\\n",
              "827196                                      0.000                    1.667   \n",
              "827197                                      0.000                    3.667   \n",
              "827198                                      0.000                    0.000   \n",
              "827199                                      0.000                    0.333   \n",
              "827200                                      0.000                    0.000   \n",
              "...                                           ...                      ...   \n",
              "8856956                                     0.128                    0.333   \n",
              "8856957                                     0.102                    0.000   \n",
              "8856958                                     0.128                    0.000   \n",
              "8856959                                     0.083                    0.000   \n",
              "8856960                                     0.094                    0.000   \n",
              "\n",
              "         lag_grad1  lag_grad2  brand_new  duration_after_first_sale  month  \n",
              "827196       0.250      0.000          0                          3      3  \n",
              "827197       0.833      0.000          0                          3      3  \n",
              "827198       0.000      0.000          0                          3      3  \n",
              "827199       0.000      0.000          0                          3      3  \n",
              "827200       0.000      0.000          0                          3      3  \n",
              "...            ...        ...        ...                        ...    ...  \n",
              "8856956      0.000      0.000          0                         11     10  \n",
              "8856957      0.000      0.000          0                          2     10  \n",
              "8856958      0.000      0.000          0                         34     10  \n",
              "8856959      0.000      0.000          0                         11     10  \n",
              "8856960      0.000      0.000          0                         17     10  \n",
              "\n",
              "[8029765 rows x 31 columns]"
            ]
          },
          "metadata": {
            "tags": []
          },
          "execution_count": 65
        }
      ]
    },
    {
      "cell_type": "code",
      "metadata": {
        "id": "Xe1y0zbkJcpL"
      },
      "source": [
        "# Train data (Features)\n",
        "X_train = all_data[all_data['date_block_num'] < 33]\n",
        "X_train = X_train.drop(['item_cnt_month'], axis=1)\n",
        "# Valid data (Features)\n",
        "X_valid = all_data[all_data['date_block_num'] == 33]\n",
        "X_valid = X_valid.drop(['item_cnt_month'], axis=1)\n",
        "# Test data (Features)\n",
        "X_test = all_data[all_data['date_block_num'] == 34]\n",
        "X_test = X_test.drop(['item_cnt_month'], axis=1)\n",
        "\n",
        "# Train data (Target values)\n",
        "y_train = all_data[all_data['date_block_num'] < 33]['item_cnt_month']\n",
        "# Valid data (Target values)\n",
        "y_valid = all_data[all_data['date_block_num'] == 33]['item_cnt_month']\n"
      ],
      "execution_count": null,
      "outputs": []
    },
    {
      "cell_type": "markdown",
      "metadata": {
        "id": "eRgNaUfSirrg"
      },
      "source": [
        "## Models"
      ]
    },
    {
      "cell_type": "markdown",
      "metadata": {
        "id": "XD1Hl-0cinQp"
      },
      "source": [
        "### LightGBM"
      ]
    },
    {
      "cell_type": "code",
      "metadata": {
        "colab": {
          "base_uri": "https://localhost:8080/"
        },
        "id": "kbWRQuHHJcpL",
        "outputId": "d43be5e2-64c5-41bf-c9da-f4d24b6f3951"
      },
      "source": [
        "import lightgbm as lgb\n",
        "\n",
        "# lgb hyper-parameters\n",
        "params = {'boosting_type': 'gbdt',\n",
        "          'metric': 'rmse',\n",
        "          'num_leaves': 255,\n",
        "          'learning_rate': 0.005,\n",
        "          'feature_fraction': 0.75,\n",
        "          'bagging_fraction': 0.75,\n",
        "          'bagging_freq': 5,\n",
        "          'force_col_wise' : True,\n",
        "          'random_state': 10}\n",
        "\n",
        "cat_features = ['shop_id', 'city', 'item_category_id', 'category', 'month']\n",
        "\n",
        "# lgb train and valid dataset\n",
        "dtrain = lgb.Dataset(X_train, y_train)\n",
        "dvalid = lgb.Dataset(X_valid, y_valid)\n",
        "\n",
        "\n",
        "# Train LightGBM model\n",
        "lgb_model = lgb.train(params=params,\n",
        "                     train_set=dtrain,\n",
        "                     num_boost_round=1500,\n",
        "                     valid_sets=(dtrain, dvalid),\n",
        "                     early_stopping_rounds=150,\n",
        "                     categorical_feature=cat_features,\n",
        "                     verbose_eval=100)      \n",
        "\n",
        "lgb_preds = lgb_model.predict(X_test).clip(0,20)\n",
        "\n",
        "# submission['item_cnt_month'] = lgb_preds\n",
        "# submission.to_csv('lgb_submission3.csv', index=False) # public score 0.86752\n"
      ],
      "execution_count": null,
      "outputs": [
        {
          "output_type": "stream",
          "text": [
            "[LightGBM] [Info] Total Bins 3953\n",
            "[LightGBM] [Info] Number of data points in the train set: 7593847, number of used features: 30\n",
            "[LightGBM] [Info] Start training from score 0.307755\n",
            "Training until validation scores don't improve for 150 rounds\n",
            "[100]\ttraining's rmse: 1.01919\tvalid_1's rmse: 0.913962\n",
            "[200]\ttraining's rmse: 0.914525\tvalid_1's rmse: 0.841499\n",
            "[300]\ttraining's rmse: 0.862187\tvalid_1's rmse: 0.812615\n",
            "[400]\ttraining's rmse: 0.833325\tvalid_1's rmse: 0.800856\n",
            "[500]\ttraining's rmse: 0.813941\tvalid_1's rmse: 0.797061\n",
            "[600]\ttraining's rmse: 0.800292\tvalid_1's rmse: 0.79638\n",
            "[700]\ttraining's rmse: 0.789909\tvalid_1's rmse: 0.795847\n",
            "[800]\ttraining's rmse: 0.781486\tvalid_1's rmse: 0.795461\n",
            "[900]\ttraining's rmse: 0.774332\tvalid_1's rmse: 0.795567\n",
            "Early stopping, best iteration is:\n",
            "[838]\ttraining's rmse: 0.778768\tvalid_1's rmse: 0.795307\n"
          ],
          "name": "stdout"
        }
      ]
    },
    {
      "cell_type": "markdown",
      "metadata": {
        "id": "T68pf3pjoF7G"
      },
      "source": [
        "### Catboost"
      ]
    },
    {
      "cell_type": "code",
      "metadata": {
        "colab": {
          "base_uri": "https://localhost:8080/"
        },
        "id": "mMdqqURuoepV",
        "outputId": "5910ce3e-43d8-4391-b117-e7fe1bd52801"
      },
      "source": [
        "!pip install catboost"
      ],
      "execution_count": null,
      "outputs": [
        {
          "output_type": "stream",
          "text": [
            "Requirement already satisfied: catboost in c:\\programdata\\anaconda3\\lib\\site-packages (0.26)\n",
            "Requirement already satisfied: plotly in c:\\programdata\\anaconda3\\lib\\site-packages (from catboost) (5.1.0)\n",
            "Requirement already satisfied: scipy in c:\\programdata\\anaconda3\\lib\\site-packages (from catboost) (1.6.3)\n",
            "Requirement already satisfied: pandas>=0.24.0 in c:\\programdata\\anaconda3\\lib\\site-packages (from catboost) (1.1.3)\n",
            "Requirement already satisfied: matplotlib in c:\\programdata\\anaconda3\\lib\\site-packages (from catboost) (3.3.2)\n",
            "Requirement already satisfied: numpy>=1.16.0 in c:\\programdata\\anaconda3\\lib\\site-packages (from catboost) (1.20.3)\n",
            "Requirement already satisfied: six in c:\\programdata\\anaconda3\\lib\\site-packages (from catboost) (1.16.0)\n",
            "Requirement already satisfied: graphviz in c:\\programdata\\anaconda3\\lib\\site-packages (from catboost) (0.16)\n",
            "Requirement already satisfied: tenacity>=6.2.0 in c:\\programdata\\anaconda3\\lib\\site-packages (from plotly->catboost) (8.0.0)\n",
            "Requirement already satisfied: python-dateutil>=2.7.3 in c:\\programdata\\anaconda3\\lib\\site-packages (from pandas>=0.24.0->catboost) (2.8.1)\n",
            "Requirement already satisfied: pytz>=2017.2 in c:\\programdata\\anaconda3\\lib\\site-packages (from pandas>=0.24.0->catboost) (2020.1)\n",
            "Requirement already satisfied: pillow>=6.2.0 in c:\\programdata\\anaconda3\\lib\\site-packages (from matplotlib->catboost) (8.0.1)\n",
            "Requirement already satisfied: certifi>=2020.06.20 in c:\\programdata\\anaconda3\\lib\\site-packages (from matplotlib->catboost) (2020.6.20)\n",
            "Requirement already satisfied: kiwisolver>=1.0.1 in c:\\programdata\\anaconda3\\lib\\site-packages (from matplotlib->catboost) (1.3.0)\n",
            "Requirement already satisfied: cycler>=0.10 in c:\\programdata\\anaconda3\\lib\\site-packages (from matplotlib->catboost) (0.10.0)\n",
            "Requirement already satisfied: pyparsing!=2.0.4,!=2.1.2,!=2.1.6,>=2.0.3 in c:\\programdata\\anaconda3\\lib\\site-packages (from matplotlib->catboost) (2.4.7)\n"
          ],
          "name": "stdout"
        }
      ]
    },
    {
      "cell_type": "code",
      "metadata": {
        "colab": {
          "base_uri": "https://localhost:8080/"
        },
        "id": "seY3MVpAcy5C",
        "outputId": "ee9ce4c5-bd9e-40fa-b55c-38ac84f74464"
      },
      "source": [
        "%%time\n",
        "from catboost import CatBoostRegressor\n",
        "from sklearn.metrics import mean_squared_error\n",
        "\n",
        "model_catboost = CatBoostRegressor(verbose=False, random_seed=566)\n",
        "\n",
        "\n",
        "model_catboost.fit(X_train,y_train);\n",
        "prediction_catboost = model_catboost.predict(X_valid)\n",
        "print(mean_squared_error(y_valid, prediction_catboost, squared=False))"
      ],
      "execution_count": null,
      "outputs": [
        {
          "output_type": "stream",
          "text": [
            "0.8097263823150711\n",
            "Wall time: 13min 33s\n"
          ],
          "name": "stdout"
        }
      ]
    },
    {
      "cell_type": "code",
      "metadata": {
        "id": "WOKQO4HspxhA"
      },
      "source": [
        "# prediction = model_catboost.predict(X_test)\n",
        "# prediction_catboost = prediction\n",
        "\n",
        "# submission = pd.DataFrame({\n",
        "#     \"ID\": np.arange(prediction.shape[0]), \n",
        "#     \"item_cnt_month\": prediction.clip(0, 20)\n",
        "# })\n",
        "# submission.to_csv('submission_catboost.csv', index=False)"
      ],
      "execution_count": null,
      "outputs": []
    },
    {
      "cell_type": "markdown",
      "metadata": {
        "id": "0eBhgSWooEWu"
      },
      "source": [
        "### Neural Network\n"
      ]
    },
    {
      "cell_type": "code",
      "metadata": {
        "colab": {
          "base_uri": "https://localhost:8080/"
        },
        "id": "mLClmKddn9we",
        "outputId": "60fd4650-bcc8-4d45-a6db-26c2e938bf92"
      },
      "source": [
        "import numpy as np\n",
        "import pandas as pd\n",
        "from sklearn.metrics import mean_squared_error\n",
        "from keras.models import Model\n",
        "from keras.layers import Input, Dense, Dropout\n",
        "from keras.regularizers import l2, l1\n",
        "from keras.optimizers import RMSprop, Adam\n",
        "#from tensorflow import set_random_seed\n",
        "import tensorflow as tf    \n",
        "\n",
        "np.random.seed(566)\n",
        "\n",
        "# define model\n",
        "def Sales_prediction_model(input_shape):\n",
        "    in_layer = Input(input_shape)\n",
        "    x = Dense(16,kernel_initializer='RandomUniform', kernel_regularizer=l2(0.02), activation = \"relu\")(in_layer)\n",
        "    x = Dense(8, kernel_initializer='RandomUniform', kernel_regularizer=l2(0.02), activation = \"relu\")(x)\n",
        "    x = Dense(1, kernel_initializer='RandomUniform', kernel_regularizer=l2(0.02), activation = \"relu\")(x)\n",
        "    \n",
        "    model = Model(inputs = in_layer, outputs = x, name='Sales_prediction_model')\n",
        "    return model\n",
        "\n",
        "# NN cannot take missing values, fill NaN with 0.\n",
        "X_train2 = X_train.fillna(0)\n",
        "X_valid2 = X_valid.fillna(0)\n",
        "X_test2 = X_test.fillna(0)\n",
        "\n",
        "# We do no feature scaling here. \n",
        "# Some features like 'item_avg_sale_last_6' are already scaled in feature engineering part.\n",
        "\n",
        "input_shape = [X_train2.shape[1]]\n",
        "model_nn = Sales_prediction_model(input_shape)\n",
        "model_nn.compile(optimizer = Adam(lr=0.0005) , loss = [\"mse\"], metrics=['mse'])\n",
        "model_nn.fit(X_train2, y_train, validation_data = (X_valid2, y_valid), batch_size = 10000, epochs=5)\n",
        "\n",
        "\n",
        "prediction_nn = model_nn.predict(X_valid2)\n",
        "print(mean_squared_error(y_valid, prediction_nn, squared=False))"
      ],
      "execution_count": null,
      "outputs": [
        {
          "output_type": "stream",
          "text": [
            "Epoch 1/5\n",
            "760/760 [==============================] - 3s 4ms/step - loss: 1.4935 - mse: 1.4556 - val_loss: 0.8972 - val_mse: 0.8250\n",
            "Epoch 2/5\n",
            "760/760 [==============================] - 3s 4ms/step - loss: 1.0572 - mse: 0.9879 - val_loss: 0.8958 - val_mse: 0.8323\n",
            "Epoch 3/5\n",
            "760/760 [==============================] - 3s 3ms/step - loss: 1.0356 - mse: 0.9745 - val_loss: 0.8457 - val_mse: 0.7877\n",
            "Epoch 4/5\n",
            "760/760 [==============================] - 3s 4ms/step - loss: 1.0357 - mse: 0.9786 - val_loss: 0.8495 - val_mse: 0.7950\n",
            "Epoch 5/5\n",
            "760/760 [==============================] - 3s 3ms/step - loss: 1.0359 - mse: 0.9812 - val_loss: 0.8466 - val_mse: 0.7929\n",
            "0.8904661\n"
          ],
          "name": "stdout"
        }
      ]
    },
    {
      "cell_type": "code",
      "metadata": {
        "id": "AiMRJss2p7qK"
      },
      "source": [
        "# prediction = model_nn.predict(X_test)\n",
        "# prediction_nn = prediction\n",
        "\n",
        "# submission = pd.DataFrame({\n",
        "#     \"ID\": np.arange(prediction.shape[0]), \n",
        "#     \"item_cnt_month\": prediction.clip(0, 20).flatten()\n",
        "# })\n",
        "# submission.to_csv('submission_nn.csv', index=False)"
      ],
      "execution_count": null,
      "outputs": []
    },
    {
      "cell_type": "markdown",
      "metadata": {
        "id": "HNQSgq7MoNMm"
      },
      "source": [
        "### Xgboost"
      ]
    },
    {
      "cell_type": "code",
      "metadata": {
        "id": "hEf7veMdoMrJ",
        "outputId": "d55c8b03-bcae-4af9-9c96-b4fe019f8176"
      },
      "source": [
        "%%time\n",
        "from xgboost import XGBRegressor\n",
        "\n",
        "model_xgb = XGBRegressor(\n",
        "    max_depth=7,\n",
        "    n_estimators=1000,\n",
        "    min_child_weight=300,   \n",
        "    colsample_bytree=0.8, \n",
        "    subsample=0.8, \n",
        "    gamma = 0.005,\n",
        "    eta=0.1,    \n",
        "    seed=42)\n",
        "\n",
        "model_xgb.fit(\n",
        "    X_train, \n",
        "    y_train, \n",
        "    eval_metric=\"rmse\", \n",
        "    eval_set=[(X_train, y_train), (X_valid, y_valid)], \n",
        "    verbose=10, \n",
        "    early_stopping_rounds = 40,\n",
        "    )\n",
        "\n",
        "\n",
        "prediction_xgb = model_xgb.predict(X_valid)\n",
        "print(mean_squared_error(y_valid, prediction_xgb, squared=False))"
      ],
      "execution_count": null,
      "outputs": [
        {
          "output_type": "stream",
          "text": [
            "[0]\tvalidation_0-rmse:1.19354\tvalidation_1-rmse:1.05909\n",
            "[10]\tvalidation_0-rmse:0.94115\tvalidation_1-rmse:0.85285\n",
            "[20]\tvalidation_0-rmse:0.88877\tvalidation_1-rmse:0.81810\n",
            "[30]\tvalidation_0-rmse:0.87349\tvalidation_1-rmse:0.81087\n",
            "[40]\tvalidation_0-rmse:0.86626\tvalidation_1-rmse:0.80794\n",
            "[50]\tvalidation_0-rmse:0.86106\tvalidation_1-rmse:0.80803\n",
            "[60]\tvalidation_0-rmse:0.85716\tvalidation_1-rmse:0.80711\n",
            "[70]\tvalidation_0-rmse:0.85366\tvalidation_1-rmse:0.80612\n",
            "[80]\tvalidation_0-rmse:0.85072\tvalidation_1-rmse:0.80655\n",
            "[90]\tvalidation_0-rmse:0.84808\tvalidation_1-rmse:0.80637\n",
            "[100]\tvalidation_0-rmse:0.84555\tvalidation_1-rmse:0.80649\n",
            "[110]\tvalidation_0-rmse:0.84372\tvalidation_1-rmse:0.80483\n",
            "[120]\tvalidation_0-rmse:0.84107\tvalidation_1-rmse:0.80603\n",
            "[130]\tvalidation_0-rmse:0.83920\tvalidation_1-rmse:0.80564\n",
            "[140]\tvalidation_0-rmse:0.83802\tvalidation_1-rmse:0.80592\n",
            "[146]\tvalidation_0-rmse:0.83691\tvalidation_1-rmse:0.80618\n",
            "0.80480874\n",
            "Wall time: 22min 26s\n"
          ],
          "name": "stdout"
        }
      ]
    },
    {
      "cell_type": "code",
      "metadata": {
        "id": "he2MqrZQqBsp"
      },
      "source": [
        "# prediction = model_xgb.predict(X_test)\n",
        "# prediction_xgb = prediction\n",
        "\n",
        "# submission = pd.DataFrame({\n",
        "#     \"ID\": np.arange(prediction.shape[0]), \n",
        "#     \"item_cnt_month\": prediction.clip(0, 20)\n",
        "# })\n",
        "# submission.to_csv('submission_xgb.csv', index=False)"
      ],
      "execution_count": null,
      "outputs": []
    },
    {
      "cell_type": "markdown",
      "metadata": {
        "id": "Sv-pAoyCoWcp"
      },
      "source": [
        "## Ensemble based on different models\n",
        "\n",
        "### Meta features"
      ]
    },
    {
      "cell_type": "code",
      "metadata": {
        "id": "fC1T-7gToW7p",
        "outputId": "5265a0a2-b4e6-407e-f134-f1710a3683da"
      },
      "source": [
        "%%time\n",
        "models = [lgb_model, model_catboost, model_nn, model_xgb] \n",
        "\n",
        "meta_X_train = [model.predict(X_valid) for model in models]\n",
        "\n",
        "meta_X_train[2] = meta_X_train[2].flatten()\n",
        "\n",
        "meta_X_train = np.array(meta_X_train).T\n",
        "\n",
        "meta_X_test = [model.predict(X_test) for model in models]\n",
        "\n",
        "meta_X_test[2] = meta_X_test[2].flatten()\n",
        "\n",
        "meta_X_test = np.array(meta_X_test).T\n",
        "\n",
        "meta_y_train = y_valid"
      ],
      "execution_count": null,
      "outputs": [
        {
          "output_type": "stream",
          "text": [
            "Wall time: 24.6 s\n"
          ],
          "name": "stdout"
        }
      ]
    },
    {
      "cell_type": "markdown",
      "metadata": {
        "id": "pqhhxDzSo3-D"
      },
      "source": [
        "### Simple convex mix\n",
        "\n",
        "### Two models"
      ]
    },
    {
      "cell_type": "code",
      "metadata": {
        "id": "4gCcUysVo2RV",
        "outputId": "c3662f9c-d711-431c-b32f-cf2f481699f2"
      },
      "source": [
        "from sklearn.metrics import mean_squared_error\n",
        "\n",
        "# choose models \n",
        "model_index = [0,1]  # lgbm and catboost score 0.793736\n",
        "# model_index = [0,2] # lgbm and nn score 0.795233\n",
        "# model_index = [0,-1]  # lgbm and xgb  score 0.794566\n",
        "\n",
        "alphas_to_try = np.linspace(0, 1, 1001)\n",
        "rmse_scores = np.empty_like(alphas_to_try)\n",
        "\n",
        "for ind, alpha in enumerate(alphas_to_try):\n",
        "    simple_mix_pred = alpha * meta_X_train[:,model_index[0]] + (1 - alpha) * meta_X_train[:,model_index[1]]\n",
        "    rmse_scores[ind] = mean_squared_error(meta_y_train, simple_mix_pred, squared=False)\n",
        "\n",
        "\n",
        "best_alpha = alphas_to_try[np.argmin(rmse_scores)]\n",
        "rmse_train_simple_mix = np.min(rmse_scores) \n",
        "\n",
        "print('Best alpha: %f; Corresponding rmse score on train: %f' % (best_alpha, rmse_train_simple_mix))"
      ],
      "execution_count": null,
      "outputs": [
        {
          "output_type": "stream",
          "text": [
            "Best alpha: 0.762000; Corresponding rmse score on train: 0.793736\n"
          ],
          "name": "stdout"
        }
      ]
    },
    {
      "cell_type": "code",
      "metadata": {
        "id": "2gjZqhH3pEAh"
      },
      "source": [
        "# remember that meta_X_test is a prediction for a model for X_test\n",
        "meta_prediction = best_alpha * meta_X_test[:,model_index[0]] + (1 - best_alpha) * meta_X_test[:,model_index[1]]\n",
        "submission = pd.DataFrame({\n",
        "    \"ID\": np.arange(meta_prediction.shape[0]), \n",
        "    \"item_cnt_month\": meta_prediction.clip(0, 20).flatten()\n",
        "})\n",
        "submission.to_csv('submission_meta_simple_mix_lgbm_cat2.csv', index=False) # public score 0.86646"
      ],
      "execution_count": null,
      "outputs": []
    },
    {
      "cell_type": "markdown",
      "metadata": {
        "id": "Hc8yPdFlpJpp"
      },
      "source": [
        "### Three models"
      ]
    },
    {
      "cell_type": "code",
      "metadata": {
        "id": "LE4QvZDtpH4V",
        "outputId": "6c0a6633-f3ef-4341-b5f5-8210b6c2a06f"
      },
      "source": [
        "%%time\n",
        "from sklearn.metrics import mean_squared_error\n",
        "\n",
        "\n",
        "alphas_to_try = np.linspace(0, 1, 51)\n",
        "betas_to_try = np.linspace(0, 1, 51)\n",
        "gammas_to_try = np.linspace(0, 1, 51)\n",
        "rmse_scores = np.zeros((len(alphas_to_try), len(betas_to_try),len(gammas_to_try)))\n",
        "\n",
        "for ind1, alpha in enumerate(alphas_to_try):\n",
        "    for ind2, beta in enumerate(betas_to_try):  \n",
        "        for ind3, gamma in enumerate(gammas_to_try):  \n",
        "            simple_mix_pred = alpha * meta_X_train[:,0] + beta * meta_X_train[:,1] +  gamma * meta_X_train[:,3]\n",
        "            rmse_scores[ind1, ind2, ind3] = mean_squared_error(meta_y_train, simple_mix_pred, squared=False)\n",
        "\n",
        "\n",
        "ind1, ind2, ind3 = np.unravel_index(rmse_scores.argmin(), rmse_scores.shape)\n",
        "best_alpha, best_beta, best_gamma = alphas_to_try[ind1], betas_to_try[ind2], gammas_to_try[ind3]\n",
        "rmse_train_simple_mix = np.min(rmse_scores) \n",
        "\n",
        "print('Best alpha: %f; best beta: %f; best gamma: %f; Corresponding rmse score on train: %f' % (best_alpha, best_beta, best_gamma, rmse_train_simple_mix))"
      ],
      "execution_count": null,
      "outputs": [
        {
          "output_type": "stream",
          "text": [
            "Best alpha: 0.660000; best beta: 0.220000; best gamma: 0.100000; Corresponding rmse score on train: 0.793357\n",
            "Wall time: 10min 49s\n"
          ],
          "name": "stdout"
        }
      ]
    },
    {
      "cell_type": "code",
      "metadata": {
        "id": "4fz2MHlZpMac"
      },
      "source": [
        "# remember that meta_X_test is a prediction for a model for X_test\n",
        "meta_prediction = best_alpha * meta_X_test[:,0] + best_beta * meta_X_test[:,1] + best_gamma * meta_X_test[:,3]\n",
        "submission = pd.DataFrame({\n",
        "    \"ID\": np.arange(meta_prediction.shape[0]), \n",
        "    \"item_cnt_month\": meta_prediction.clip(0, 20).flatten()\n",
        "})\n",
        "submission.to_csv('submission_meta_simple_mix_3_models.csv', index=False) # public score 0.86896"
      ],
      "execution_count": null,
      "outputs": []
    },
    {
      "cell_type": "markdown",
      "metadata": {
        "id": "K5hyYSUtpTlp"
      },
      "source": [
        "## Stacking"
      ]
    },
    {
      "cell_type": "code",
      "metadata": {
        "id": "I67Z1-tXpRYb",
        "outputId": "017ab190-ada9-446c-a876-11284fbac165"
      },
      "source": [
        "from sklearn.linear_model import LinearRegression\n",
        "from lightgbm import LGBMRegressor\n",
        "\n",
        "meta_model = LinearRegression()\n",
        "\n",
        "meta_model.fit(meta_X_train, meta_y_train)\n",
        "\n",
        "meta_prediction = meta_model.predict(meta_X_test)\n",
        "print(mean_squared_error(meta_y_train, meta_model.predict(meta_X_train), squared=False))"
      ],
      "execution_count": null,
      "outputs": [
        {
          "output_type": "stream",
          "text": [
            "0.793174726004556\n"
          ],
          "name": "stdout"
        }
      ]
    },
    {
      "cell_type": "code",
      "metadata": {
        "id": "FuKke5zIpWQd"
      },
      "source": [
        "submission = pd.DataFrame({\n",
        "    \"ID\": np.arange(meta_prediction.shape[0]), \n",
        "    \"item_cnt_month\": meta_prediction.clip(0, 20).flatten()\n",
        "})\n",
        "submission.to_csv('submission_meta_lr_4_models.csv', index=False) # public score 0.86978"
      ],
      "execution_count": null,
      "outputs": []
    },
    {
      "cell_type": "markdown",
      "metadata": {
        "id": "X6sEB0YmxYPN"
      },
      "source": [
        "### Simple convex mix Two models\n",
        "- lgbm and catboost \n",
        "- public score 0.86646 제일 잘 나왔습니다."
      ]
    },
    {
      "cell_type": "markdown",
      "metadata": {
        "id": "MaRNOYAzx1i_"
      },
      "source": [
        "![image.png](data:image/png;base64,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)"
      ]
    },
    {
      "cell_type": "markdown",
      "metadata": {
        "id": "W9sleV96xieD"
      },
      "source": [
        "![image.png](data:image/png;base64,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)"
      ]
    },
    {
      "cell_type": "code",
      "metadata": {
        "id": "JofDx8qSxj64"
      },
      "source": [
        ""
      ],
      "execution_count": null,
      "outputs": []
    }
  ]
}