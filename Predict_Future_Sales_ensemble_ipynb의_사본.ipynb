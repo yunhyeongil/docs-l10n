{
  "nbformat": 4,
  "nbformat_minor": 0,
  "metadata": {
    "colab": {
      "name": "Predict Future Sales_ensemble.ipynb의 사본",
      "provenance": [],
      "collapsed_sections": [
        "8iSjFiT2Jcoh",
        "XD1Hl-0cinQp",
        "T68pf3pjoF7G",
        "HNQSgq7MoNMm",
        "pqhhxDzSo3-D",
        "Hc8yPdFlpJpp"
      ],
      "include_colab_link": true
    },
    "kernelspec": {
      "name": "python3",
      "display_name": "Python 3"
    },
    "language_info": {
      "name": "python"
    }
  },
  "cells": [
    {
      "cell_type": "markdown",
      "metadata": {
        "id": "view-in-github",
        "colab_type": "text"
      },
      "source": [
        "<a href=\"https://colab.research.google.com/github/yunhyeongil/docs-l10n/blob/master/Predict_Future_Sales_ensemble_ipynb%EC%9D%98_%EC%82%AC%EB%B3%B8.ipynb\" target=\"_parent\"><img src=\"https://colab.research.google.com/assets/colab-badge.svg\" alt=\"Open In Colab\"/></a>"
      ]
    },
    {
      "cell_type": "code",
      "metadata": {
        "id": "KGxkejQMJcn2"
      },
      "source": [
        "import numpy as np\n",
        "import pandas as pd\n",
        "import warnings\n",
        "\n",
        "\n",
        "\n",
        "warnings.filterwarnings(action='ignore') # Ignore warning message\n",
        "\n",
        "# date path\n",
        "data_path = '/content/drive/MyDrive/dataset/data/'\n",
        "\n",
        "sales_train = pd.read_csv(data_path + 'sales_train.csv')\n",
        "shops = pd.read_csv(data_path + 'shops.csv')\n",
        "items = pd.read_csv(data_path + 'items.csv')\n",
        "item_categories = pd.read_csv(data_path + 'item_categories.csv')\n",
        "test = pd.read_csv(data_path + 'test.csv')\n",
        "submission = pd.read_csv(data_path + 'sample_submission.csv')"
      ],
      "execution_count": null,
      "outputs": []
    },
    {
      "cell_type": "code",
      "metadata": {
        "id": "cMJKfq6iJcoA"
      },
      "source": [
        "def downcast(df, verbose=True):\n",
        "    start_mem = df.memory_usage().sum() / 1024**2\n",
        "    for col in df.columns:\n",
        "        dtype_name = df[col].dtype.name\n",
        "        if dtype_name == 'object':\n",
        "            pass\n",
        "        elif dtype_name == 'bool':\n",
        "            df[col] = df[col].astype('int8')\n",
        "        elif dtype_name.startswith('int') or (df[col].round() == df[col]).all():\n",
        "            df[col] = pd.to_numeric(df[col], downcast='integer')\n",
        "        else:\n",
        "            df[col] = pd.to_numeric(df[col], downcast='float')\n",
        "    end_mem = df.memory_usage().sum() / 1024**2\n",
        "    if verbose:\n",
        "        print('{:.1f}% compressed'.format(100 * (start_mem - end_mem) / start_mem))\n",
        "    \n",
        "    return df"
      ],
      "execution_count": null,
      "outputs": []
    },
    {
      "cell_type": "code",
      "metadata": {
        "colab": {
          "base_uri": "https://localhost:8080/"
        },
        "id": "1I6lg7H4JcoC",
        "outputId": "a28939f1-71e7-4dc2-c72b-a0c2c6506f5d"
      },
      "source": [
        "all_df = [sales_train, shops, items, item_categories, test]\n",
        "for df in all_df:\n",
        "    df = downcast(df)"
      ],
      "execution_count": null,
      "outputs": [
        {
          "output_type": "stream",
          "text": [
            "62.5% compressed\n",
            "38.6% compressed\n",
            "54.2% compressed\n",
            "39.9% compressed\n",
            "70.8% compressed\n"
          ],
          "name": "stdout"
        }
      ]
    },
    {
      "cell_type": "code",
      "metadata": {
        "colab": {
          "base_uri": "https://localhost:8080/",
          "height": 204
        },
        "id": "QCofvprGJcoF",
        "scrolled": true,
        "outputId": "41a88156-2261-4d2c-fbe8-eef72dcc6449"
      },
      "source": [
        "sales_train.head()"
      ],
      "execution_count": null,
      "outputs": [
        {
          "output_type": "execute_result",
          "data": {
            "text/html": [
              "<div>\n",
              "<style scoped>\n",
              "    .dataframe tbody tr th:only-of-type {\n",
              "        vertical-align: middle;\n",
              "    }\n",
              "\n",
              "    .dataframe tbody tr th {\n",
              "        vertical-align: top;\n",
              "    }\n",
              "\n",
              "    .dataframe thead th {\n",
              "        text-align: right;\n",
              "    }\n",
              "</style>\n",
              "<table border=\"1\" class=\"dataframe\">\n",
              "  <thead>\n",
              "    <tr style=\"text-align: right;\">\n",
              "      <th></th>\n",
              "      <th>date</th>\n",
              "      <th>date_block_num</th>\n",
              "      <th>shop_id</th>\n",
              "      <th>item_id</th>\n",
              "      <th>item_price</th>\n",
              "      <th>item_cnt_day</th>\n",
              "    </tr>\n",
              "  </thead>\n",
              "  <tbody>\n",
              "    <tr>\n",
              "      <th>0</th>\n",
              "      <td>02.01.2013</td>\n",
              "      <td>0</td>\n",
              "      <td>59</td>\n",
              "      <td>22154</td>\n",
              "      <td>999.000000</td>\n",
              "      <td>1</td>\n",
              "    </tr>\n",
              "    <tr>\n",
              "      <th>1</th>\n",
              "      <td>03.01.2013</td>\n",
              "      <td>0</td>\n",
              "      <td>25</td>\n",
              "      <td>2552</td>\n",
              "      <td>899.000000</td>\n",
              "      <td>1</td>\n",
              "    </tr>\n",
              "    <tr>\n",
              "      <th>2</th>\n",
              "      <td>05.01.2013</td>\n",
              "      <td>0</td>\n",
              "      <td>25</td>\n",
              "      <td>2552</td>\n",
              "      <td>899.000000</td>\n",
              "      <td>-1</td>\n",
              "    </tr>\n",
              "    <tr>\n",
              "      <th>3</th>\n",
              "      <td>06.01.2013</td>\n",
              "      <td>0</td>\n",
              "      <td>25</td>\n",
              "      <td>2554</td>\n",
              "      <td>1709.050049</td>\n",
              "      <td>1</td>\n",
              "    </tr>\n",
              "    <tr>\n",
              "      <th>4</th>\n",
              "      <td>15.01.2013</td>\n",
              "      <td>0</td>\n",
              "      <td>25</td>\n",
              "      <td>2555</td>\n",
              "      <td>1099.000000</td>\n",
              "      <td>1</td>\n",
              "    </tr>\n",
              "  </tbody>\n",
              "</table>\n",
              "</div>"
            ],
            "text/plain": [
              "         date  date_block_num  shop_id  item_id   item_price  item_cnt_day\n",
              "0  02.01.2013               0       59    22154   999.000000             1\n",
              "1  03.01.2013               0       25     2552   899.000000             1\n",
              "2  05.01.2013               0       25     2552   899.000000            -1\n",
              "3  06.01.2013               0       25     2554  1709.050049             1\n",
              "4  15.01.2013               0       25     2555  1099.000000             1"
            ]
          },
          "metadata": {
            "tags": []
          },
          "execution_count": 9
        }
      ]
    },
    {
      "cell_type": "code",
      "metadata": {
        "colab": {
          "base_uri": "https://localhost:8080/",
          "height": 204
        },
        "id": "LIoBP7szJcoI",
        "outputId": "d32f67ea-a827-4088-acc6-741f81ccb3c3"
      },
      "source": [
        "shops.head()"
      ],
      "execution_count": null,
      "outputs": [
        {
          "output_type": "execute_result",
          "data": {
            "text/html": [
              "<div>\n",
              "<style scoped>\n",
              "    .dataframe tbody tr th:only-of-type {\n",
              "        vertical-align: middle;\n",
              "    }\n",
              "\n",
              "    .dataframe tbody tr th {\n",
              "        vertical-align: top;\n",
              "    }\n",
              "\n",
              "    .dataframe thead th {\n",
              "        text-align: right;\n",
              "    }\n",
              "</style>\n",
              "<table border=\"1\" class=\"dataframe\">\n",
              "  <thead>\n",
              "    <tr style=\"text-align: right;\">\n",
              "      <th></th>\n",
              "      <th>shop_name</th>\n",
              "      <th>shop_id</th>\n",
              "    </tr>\n",
              "  </thead>\n",
              "  <tbody>\n",
              "    <tr>\n",
              "      <th>0</th>\n",
              "      <td>!Якутск Орджоникидзе, 56 фран</td>\n",
              "      <td>0</td>\n",
              "    </tr>\n",
              "    <tr>\n",
              "      <th>1</th>\n",
              "      <td>!Якутск ТЦ \"Центральный\" фран</td>\n",
              "      <td>1</td>\n",
              "    </tr>\n",
              "    <tr>\n",
              "      <th>2</th>\n",
              "      <td>Адыгея ТЦ \"Мега\"</td>\n",
              "      <td>2</td>\n",
              "    </tr>\n",
              "    <tr>\n",
              "      <th>3</th>\n",
              "      <td>Балашиха ТРК \"Октябрь-Киномир\"</td>\n",
              "      <td>3</td>\n",
              "    </tr>\n",
              "    <tr>\n",
              "      <th>4</th>\n",
              "      <td>Волжский ТЦ \"Волга Молл\"</td>\n",
              "      <td>4</td>\n",
              "    </tr>\n",
              "  </tbody>\n",
              "</table>\n",
              "</div>"
            ],
            "text/plain": [
              "                        shop_name  shop_id\n",
              "0   !Якутск Орджоникидзе, 56 фран        0\n",
              "1   !Якутск ТЦ \"Центральный\" фран        1\n",
              "2                Адыгея ТЦ \"Мега\"        2\n",
              "3  Балашиха ТРК \"Октябрь-Киномир\"        3\n",
              "4        Волжский ТЦ \"Волга Молл\"        4"
            ]
          },
          "metadata": {
            "tags": []
          },
          "execution_count": 10
        }
      ]
    },
    {
      "cell_type": "code",
      "metadata": {
        "colab": {
          "base_uri": "https://localhost:8080/",
          "height": 204
        },
        "id": "YuLJt9ktJcoJ",
        "outputId": "69d48355-f060-40f3-c929-e8ec36bff771"
      },
      "source": [
        "items.head()"
      ],
      "execution_count": null,
      "outputs": [
        {
          "output_type": "execute_result",
          "data": {
            "text/html": [
              "<div>\n",
              "<style scoped>\n",
              "    .dataframe tbody tr th:only-of-type {\n",
              "        vertical-align: middle;\n",
              "    }\n",
              "\n",
              "    .dataframe tbody tr th {\n",
              "        vertical-align: top;\n",
              "    }\n",
              "\n",
              "    .dataframe thead th {\n",
              "        text-align: right;\n",
              "    }\n",
              "</style>\n",
              "<table border=\"1\" class=\"dataframe\">\n",
              "  <thead>\n",
              "    <tr style=\"text-align: right;\">\n",
              "      <th></th>\n",
              "      <th>item_name</th>\n",
              "      <th>item_id</th>\n",
              "      <th>item_category_id</th>\n",
              "    </tr>\n",
              "  </thead>\n",
              "  <tbody>\n",
              "    <tr>\n",
              "      <th>0</th>\n",
              "      <td>! ВО ВЛАСТИ НАВАЖДЕНИЯ (ПЛАСТ.)         D</td>\n",
              "      <td>0</td>\n",
              "      <td>40</td>\n",
              "    </tr>\n",
              "    <tr>\n",
              "      <th>1</th>\n",
              "      <td>!ABBYY FineReader 12 Professional Edition Full...</td>\n",
              "      <td>1</td>\n",
              "      <td>76</td>\n",
              "    </tr>\n",
              "    <tr>\n",
              "      <th>2</th>\n",
              "      <td>***В ЛУЧАХ СЛАВЫ   (UNV)                    D</td>\n",
              "      <td>2</td>\n",
              "      <td>40</td>\n",
              "    </tr>\n",
              "    <tr>\n",
              "      <th>3</th>\n",
              "      <td>***ГОЛУБАЯ ВОЛНА  (Univ)                      D</td>\n",
              "      <td>3</td>\n",
              "      <td>40</td>\n",
              "    </tr>\n",
              "    <tr>\n",
              "      <th>4</th>\n",
              "      <td>***КОРОБКА (СТЕКЛО)                       D</td>\n",
              "      <td>4</td>\n",
              "      <td>40</td>\n",
              "    </tr>\n",
              "  </tbody>\n",
              "</table>\n",
              "</div>"
            ],
            "text/plain": [
              "                                           item_name  item_id  item_category_id\n",
              "0          ! ВО ВЛАСТИ НАВАЖДЕНИЯ (ПЛАСТ.)         D        0                40\n",
              "1  !ABBYY FineReader 12 Professional Edition Full...        1                76\n",
              "2      ***В ЛУЧАХ СЛАВЫ   (UNV)                    D        2                40\n",
              "3    ***ГОЛУБАЯ ВОЛНА  (Univ)                      D        3                40\n",
              "4        ***КОРОБКА (СТЕКЛО)                       D        4                40"
            ]
          },
          "metadata": {
            "tags": []
          },
          "execution_count": 11
        }
      ]
    },
    {
      "cell_type": "code",
      "metadata": {
        "colab": {
          "base_uri": "https://localhost:8080/",
          "height": 204
        },
        "id": "7parnnCAJcoL",
        "outputId": "68699414-4afb-4428-fc56-cbc0c5cd1552"
      },
      "source": [
        "item_categories.head()"
      ],
      "execution_count": null,
      "outputs": [
        {
          "output_type": "execute_result",
          "data": {
            "text/html": [
              "<div>\n",
              "<style scoped>\n",
              "    .dataframe tbody tr th:only-of-type {\n",
              "        vertical-align: middle;\n",
              "    }\n",
              "\n",
              "    .dataframe tbody tr th {\n",
              "        vertical-align: top;\n",
              "    }\n",
              "\n",
              "    .dataframe thead th {\n",
              "        text-align: right;\n",
              "    }\n",
              "</style>\n",
              "<table border=\"1\" class=\"dataframe\">\n",
              "  <thead>\n",
              "    <tr style=\"text-align: right;\">\n",
              "      <th></th>\n",
              "      <th>item_category_name</th>\n",
              "      <th>item_category_id</th>\n",
              "    </tr>\n",
              "  </thead>\n",
              "  <tbody>\n",
              "    <tr>\n",
              "      <th>0</th>\n",
              "      <td>PC - Гарнитуры/Наушники</td>\n",
              "      <td>0</td>\n",
              "    </tr>\n",
              "    <tr>\n",
              "      <th>1</th>\n",
              "      <td>Аксессуары - PS2</td>\n",
              "      <td>1</td>\n",
              "    </tr>\n",
              "    <tr>\n",
              "      <th>2</th>\n",
              "      <td>Аксессуары - PS3</td>\n",
              "      <td>2</td>\n",
              "    </tr>\n",
              "    <tr>\n",
              "      <th>3</th>\n",
              "      <td>Аксессуары - PS4</td>\n",
              "      <td>3</td>\n",
              "    </tr>\n",
              "    <tr>\n",
              "      <th>4</th>\n",
              "      <td>Аксессуары - PSP</td>\n",
              "      <td>4</td>\n",
              "    </tr>\n",
              "  </tbody>\n",
              "</table>\n",
              "</div>"
            ],
            "text/plain": [
              "        item_category_name  item_category_id\n",
              "0  PC - Гарнитуры/Наушники                 0\n",
              "1         Аксессуары - PS2                 1\n",
              "2         Аксессуары - PS3                 2\n",
              "3         Аксессуары - PS4                 3\n",
              "4         Аксессуары - PSP                 4"
            ]
          },
          "metadata": {
            "tags": []
          },
          "execution_count": 12
        }
      ]
    },
    {
      "cell_type": "code",
      "metadata": {
        "colab": {
          "base_uri": "https://localhost:8080/",
          "height": 204
        },
        "id": "7Ym0vdsTJcoM",
        "scrolled": false,
        "outputId": "de6f63ec-9472-4bd3-9701-a4cce555b397"
      },
      "source": [
        "test.head()"
      ],
      "execution_count": null,
      "outputs": [
        {
          "output_type": "execute_result",
          "data": {
            "text/html": [
              "<div>\n",
              "<style scoped>\n",
              "    .dataframe tbody tr th:only-of-type {\n",
              "        vertical-align: middle;\n",
              "    }\n",
              "\n",
              "    .dataframe tbody tr th {\n",
              "        vertical-align: top;\n",
              "    }\n",
              "\n",
              "    .dataframe thead th {\n",
              "        text-align: right;\n",
              "    }\n",
              "</style>\n",
              "<table border=\"1\" class=\"dataframe\">\n",
              "  <thead>\n",
              "    <tr style=\"text-align: right;\">\n",
              "      <th></th>\n",
              "      <th>ID</th>\n",
              "      <th>shop_id</th>\n",
              "      <th>item_id</th>\n",
              "    </tr>\n",
              "  </thead>\n",
              "  <tbody>\n",
              "    <tr>\n",
              "      <th>0</th>\n",
              "      <td>0</td>\n",
              "      <td>5</td>\n",
              "      <td>5037</td>\n",
              "    </tr>\n",
              "    <tr>\n",
              "      <th>1</th>\n",
              "      <td>1</td>\n",
              "      <td>5</td>\n",
              "      <td>5320</td>\n",
              "    </tr>\n",
              "    <tr>\n",
              "      <th>2</th>\n",
              "      <td>2</td>\n",
              "      <td>5</td>\n",
              "      <td>5233</td>\n",
              "    </tr>\n",
              "    <tr>\n",
              "      <th>3</th>\n",
              "      <td>3</td>\n",
              "      <td>5</td>\n",
              "      <td>5232</td>\n",
              "    </tr>\n",
              "    <tr>\n",
              "      <th>4</th>\n",
              "      <td>4</td>\n",
              "      <td>5</td>\n",
              "      <td>5268</td>\n",
              "    </tr>\n",
              "  </tbody>\n",
              "</table>\n",
              "</div>"
            ],
            "text/plain": [
              "   ID  shop_id  item_id\n",
              "0   0        5     5037\n",
              "1   1        5     5320\n",
              "2   2        5     5233\n",
              "3   3        5     5232\n",
              "4   4        5     5268"
            ]
          },
          "metadata": {
            "tags": []
          },
          "execution_count": 13
        }
      ]
    },
    {
      "cell_type": "code",
      "metadata": {
        "colab": {
          "base_uri": "https://localhost:8080/",
          "height": 204
        },
        "id": "s0vDrrr0JcoO",
        "outputId": "8399eb5d-6b1c-45a1-d208-1ea9ef00c8b4"
      },
      "source": [
        "submission.head()"
      ],
      "execution_count": null,
      "outputs": [
        {
          "output_type": "execute_result",
          "data": {
            "text/html": [
              "<div>\n",
              "<style scoped>\n",
              "    .dataframe tbody tr th:only-of-type {\n",
              "        vertical-align: middle;\n",
              "    }\n",
              "\n",
              "    .dataframe tbody tr th {\n",
              "        vertical-align: top;\n",
              "    }\n",
              "\n",
              "    .dataframe thead th {\n",
              "        text-align: right;\n",
              "    }\n",
              "</style>\n",
              "<table border=\"1\" class=\"dataframe\">\n",
              "  <thead>\n",
              "    <tr style=\"text-align: right;\">\n",
              "      <th></th>\n",
              "      <th>ID</th>\n",
              "      <th>item_cnt_month</th>\n",
              "    </tr>\n",
              "  </thead>\n",
              "  <tbody>\n",
              "    <tr>\n",
              "      <th>0</th>\n",
              "      <td>0</td>\n",
              "      <td>0.5</td>\n",
              "    </tr>\n",
              "    <tr>\n",
              "      <th>1</th>\n",
              "      <td>1</td>\n",
              "      <td>0.5</td>\n",
              "    </tr>\n",
              "    <tr>\n",
              "      <th>2</th>\n",
              "      <td>2</td>\n",
              "      <td>0.5</td>\n",
              "    </tr>\n",
              "    <tr>\n",
              "      <th>3</th>\n",
              "      <td>3</td>\n",
              "      <td>0.5</td>\n",
              "    </tr>\n",
              "    <tr>\n",
              "      <th>4</th>\n",
              "      <td>4</td>\n",
              "      <td>0.5</td>\n",
              "    </tr>\n",
              "  </tbody>\n",
              "</table>\n",
              "</div>"
            ],
            "text/plain": [
              "   ID  item_cnt_month\n",
              "0   0             0.5\n",
              "1   1             0.5\n",
              "2   2             0.5\n",
              "3   3             0.5\n",
              "4   4             0.5"
            ]
          },
          "metadata": {
            "tags": []
          },
          "execution_count": 14
        }
      ]
    },
    {
      "cell_type": "code",
      "metadata": {
        "colab": {
          "base_uri": "https://localhost:8080/"
        },
        "id": "h95BEn7jJcoQ",
        "scrolled": false,
        "outputId": "eb4a2a21-deae-4798-b7a2-a8b7bfffad53"
      },
      "source": [
        "print(np.shape(sales_train))\n",
        "print(np.shape(test))"
      ],
      "execution_count": null,
      "outputs": [
        {
          "output_type": "stream",
          "text": [
            "(2935849, 6)\n",
            "(214200, 3)\n"
          ],
          "name": "stdout"
        }
      ]
    },
    {
      "cell_type": "code",
      "metadata": {
        "colab": {
          "base_uri": "https://localhost:8080/"
        },
        "id": "YrcqGP1zJcoS",
        "outputId": "506123e0-5203-4978-8719-a175f8d4d729"
      },
      "source": [
        "sales_train.isnull().sum()"
      ],
      "execution_count": null,
      "outputs": [
        {
          "output_type": "execute_result",
          "data": {
            "text/plain": [
              "date              0\n",
              "date_block_num    0\n",
              "shop_id           0\n",
              "item_id           0\n",
              "item_price        0\n",
              "item_cnt_day      0\n",
              "dtype: int64"
            ]
          },
          "metadata": {
            "tags": []
          },
          "execution_count": 16
        }
      ]
    },
    {
      "cell_type": "code",
      "metadata": {
        "colab": {
          "base_uri": "https://localhost:8080/"
        },
        "id": "q_zUuWBAJcoT",
        "outputId": "76ac61e7-1b9c-4794-86cd-bc75a800ff7d"
      },
      "source": [
        "sum(sales_train.duplicated()), sum(test.duplicated()),sum(shops.duplicated()), sum(items.duplicated())"
      ],
      "execution_count": null,
      "outputs": [
        {
          "output_type": "execute_result",
          "data": {
            "text/plain": [
              "(6, 0, 0, 0)"
            ]
          },
          "metadata": {
            "tags": []
          },
          "execution_count": 17
        }
      ]
    },
    {
      "cell_type": "code",
      "metadata": {
        "colab": {
          "base_uri": "https://localhost:8080/"
        },
        "id": "LApi7tKQJcoU",
        "outputId": "508d51c0-e538-4431-909e-868ae1e7b240"
      },
      "source": [
        "sum(item_categories.duplicated()), sum(test.duplicated())"
      ],
      "execution_count": null,
      "outputs": [
        {
          "output_type": "execute_result",
          "data": {
            "text/plain": [
              "(0, 0)"
            ]
          },
          "metadata": {
            "tags": []
          },
          "execution_count": 18
        }
      ]
    },
    {
      "cell_type": "code",
      "metadata": {
        "colab": {
          "base_uri": "https://localhost:8080/",
          "height": 235
        },
        "id": "fSO4H9sZJcoW",
        "outputId": "9983b960-4b71-4828-a955-475a1ab73646"
      },
      "source": [
        "sales_train[sales_train.duplicated() == True]"
      ],
      "execution_count": null,
      "outputs": [
        {
          "output_type": "execute_result",
          "data": {
            "text/html": [
              "<div>\n",
              "<style scoped>\n",
              "    .dataframe tbody tr th:only-of-type {\n",
              "        vertical-align: middle;\n",
              "    }\n",
              "\n",
              "    .dataframe tbody tr th {\n",
              "        vertical-align: top;\n",
              "    }\n",
              "\n",
              "    .dataframe thead th {\n",
              "        text-align: right;\n",
              "    }\n",
              "</style>\n",
              "<table border=\"1\" class=\"dataframe\">\n",
              "  <thead>\n",
              "    <tr style=\"text-align: right;\">\n",
              "      <th></th>\n",
              "      <th>date</th>\n",
              "      <th>date_block_num</th>\n",
              "      <th>shop_id</th>\n",
              "      <th>item_id</th>\n",
              "      <th>item_price</th>\n",
              "      <th>item_cnt_day</th>\n",
              "    </tr>\n",
              "  </thead>\n",
              "  <tbody>\n",
              "    <tr>\n",
              "      <th>76962</th>\n",
              "      <td>05.01.2013</td>\n",
              "      <td>0</td>\n",
              "      <td>54</td>\n",
              "      <td>20130</td>\n",
              "      <td>149.0</td>\n",
              "      <td>1</td>\n",
              "    </tr>\n",
              "    <tr>\n",
              "      <th>1435367</th>\n",
              "      <td>23.02.2014</td>\n",
              "      <td>13</td>\n",
              "      <td>50</td>\n",
              "      <td>3423</td>\n",
              "      <td>999.0</td>\n",
              "      <td>1</td>\n",
              "    </tr>\n",
              "    <tr>\n",
              "      <th>1496766</th>\n",
              "      <td>23.03.2014</td>\n",
              "      <td>14</td>\n",
              "      <td>21</td>\n",
              "      <td>3423</td>\n",
              "      <td>999.0</td>\n",
              "      <td>1</td>\n",
              "    </tr>\n",
              "    <tr>\n",
              "      <th>1671873</th>\n",
              "      <td>01.05.2014</td>\n",
              "      <td>16</td>\n",
              "      <td>50</td>\n",
              "      <td>3423</td>\n",
              "      <td>999.0</td>\n",
              "      <td>1</td>\n",
              "    </tr>\n",
              "    <tr>\n",
              "      <th>1866340</th>\n",
              "      <td>12.07.2014</td>\n",
              "      <td>18</td>\n",
              "      <td>25</td>\n",
              "      <td>3423</td>\n",
              "      <td>999.0</td>\n",
              "      <td>1</td>\n",
              "    </tr>\n",
              "    <tr>\n",
              "      <th>2198566</th>\n",
              "      <td>31.12.2014</td>\n",
              "      <td>23</td>\n",
              "      <td>42</td>\n",
              "      <td>21619</td>\n",
              "      <td>499.0</td>\n",
              "      <td>1</td>\n",
              "    </tr>\n",
              "  </tbody>\n",
              "</table>\n",
              "</div>"
            ],
            "text/plain": [
              "               date  date_block_num  shop_id  item_id  item_price  item_cnt_day\n",
              "76962    05.01.2013               0       54    20130       149.0             1\n",
              "1435367  23.02.2014              13       50     3423       999.0             1\n",
              "1496766  23.03.2014              14       21     3423       999.0             1\n",
              "1671873  01.05.2014              16       50     3423       999.0             1\n",
              "1866340  12.07.2014              18       25     3423       999.0             1\n",
              "2198566  31.12.2014              23       42    21619       499.0             1"
            ]
          },
          "metadata": {
            "tags": []
          },
          "execution_count": 19
        }
      ]
    },
    {
      "cell_type": "code",
      "metadata": {
        "id": "H8CRO8COJcoX"
      },
      "source": [
        "sales_train.drop_duplicates(inplace = True)"
      ],
      "execution_count": null,
      "outputs": []
    },
    {
      "cell_type": "code",
      "metadata": {
        "colab": {
          "base_uri": "https://localhost:8080/",
          "height": 741
        },
        "id": "zJ8aqjKeJcoY",
        "outputId": "6b930eaa-f221-43b3-f832-08d3fc86b252"
      },
      "source": [
        "import seaborn as sns\n",
        "import matplotlib.pyplot as plt\n",
        "%matplotlib inline\n",
        "\n",
        "colormap = plt.cm.RdBu\n",
        "plt.figure(figsize=(14,12))\n",
        "plt.title('Pearson Correlation of Features', y=1.05, size=15)\n",
        "sns.heatmap(sales_train.corr(),linewidths=0.1,vmax=1.0, \n",
        "            square=True, cmap=colormap, linecolor='white', annot=True)"
      ],
      "execution_count": null,
      "outputs": [
        {
          "output_type": "execute_result",
          "data": {
            "text/plain": [
              "<matplotlib.axes._subplots.AxesSubplot at 0x7ff5f4975fd0>"
            ]
          },
          "metadata": {
            "tags": []
          },
          "execution_count": 21
        },
        {
          "output_type": "display_data",
          "data": {
            "image/png": "[encoded data removed]",
            "text/plain": [
              "<Figure size 1008x864 with 2 Axes>"
            ]
          },
          "metadata": {
            "tags": [],
            "needs_background": "light"
          }
        }
      ]
    },
    {
      "cell_type": "code",
      "metadata": {
        "colab": {
          "base_uri": "https://localhost:8080/",
          "height": 298
        },
        "id": "x6b-R_2ZJcoZ",
        "outputId": "6a49239f-68d4-4e7e-f6e5-da510cf2fe25"
      },
      "source": [
        "plt.figure(figsize=(10,4))\n",
        "sns.boxplot(x=sales_train.item_cnt_day)"
      ],
      "execution_count": null,
      "outputs": [
        {
          "output_type": "execute_result",
          "data": {
            "text/plain": [
              "<matplotlib.axes._subplots.AxesSubplot at 0x7ff5dce72550>"
            ]
          },
          "metadata": {
            "tags": []
          },
          "execution_count": 22
        },
        {
          "output_type": "display_data",
          "data": {
            "image/png": "[encoded data removed]",
            "text/plain": [
              "<Figure size 720x288 with 1 Axes>"
            ]
          },
          "metadata": {
            "tags": [],
            "needs_background": "light"
          }
        }
      ]
    },
    {
      "cell_type": "code",
      "metadata": {
        "colab": {
          "base_uri": "https://localhost:8080/",
          "height": 298
        },
        "id": "AL8tpgtLJcoa",
        "outputId": "e085e0ca-0001-4b13-e0ea-6b24be8943f2"
      },
      "source": [
        "plt.figure(figsize=(10,4))\n",
        "sns.boxplot(x=sales_train.item_price)"
      ],
      "execution_count": null,
      "outputs": [
        {
          "output_type": "execute_result",
          "data": {
            "text/plain": [
              "<matplotlib.axes._subplots.AxesSubplot at 0x7ff5f4975a50>"
            ]
          },
          "metadata": {
            "tags": []
          },
          "execution_count": 23
        },
        {
          "output_type": "display_data",
          "data": {
            "image/png": "[encoded data removed]",
            "text/plain": [
              "<Figure size 720x288 with 1 Axes>"
            ]
          },
          "metadata": {
            "tags": [],
            "needs_background": "light"
          }
        }
      ]
    },
    {
      "cell_type": "code",
      "metadata": {
        "id": "EuVgEzpkJcob"
      },
      "source": [
        "# sns Theme \n",
        "sns.set_style('darkgrid') \n",
        "\n",
        "# 소수점 표현 제한\n",
        "pd.set_option('display.float_format', lambda x : '{:.3f}'.format(x))"
      ],
      "execution_count": null,
      "outputs": []
    },
    {
      "cell_type": "code",
      "metadata": {
        "colab": {
          "base_uri": "https://localhost:8080/",
          "height": 390
        },
        "id": "KmcbbdcjJcod",
        "outputId": "510a504d-64d6-4c7c-dd2c-5a7a9bfc5ef4"
      },
      "source": [
        "train_df = pd.DataFrame(sales_train)\n",
        "train_df.describe(include=\"all\")"
      ],
      "execution_count": null,
      "outputs": [
        {
          "output_type": "execute_result",
          "data": {
            "text/html": [
              "<div>\n",
              "<style scoped>\n",
              "    .dataframe tbody tr th:only-of-type {\n",
              "        vertical-align: middle;\n",
              "    }\n",
              "\n",
              "    .dataframe tbody tr th {\n",
              "        vertical-align: top;\n",
              "    }\n",
              "\n",
              "    .dataframe thead th {\n",
              "        text-align: right;\n",
              "    }\n",
              "</style>\n",
              "<table border=\"1\" class=\"dataframe\">\n",
              "  <thead>\n",
              "    <tr style=\"text-align: right;\">\n",
              "      <th></th>\n",
              "      <th>date</th>\n",
              "      <th>date_block_num</th>\n",
              "      <th>shop_id</th>\n",
              "      <th>item_id</th>\n",
              "      <th>item_price</th>\n",
              "      <th>item_cnt_day</th>\n",
              "    </tr>\n",
              "  </thead>\n",
              "  <tbody>\n",
              "    <tr>\n",
              "      <th>count</th>\n",
              "      <td>2935843</td>\n",
              "      <td>2935843.000</td>\n",
              "      <td>2935843.000</td>\n",
              "      <td>2935843.000</td>\n",
              "      <td>2935843.000</td>\n",
              "      <td>2935843.000</td>\n",
              "    </tr>\n",
              "    <tr>\n",
              "      <th>unique</th>\n",
              "      <td>1034</td>\n",
              "      <td>nan</td>\n",
              "      <td>nan</td>\n",
              "      <td>nan</td>\n",
              "      <td>nan</td>\n",
              "      <td>nan</td>\n",
              "    </tr>\n",
              "    <tr>\n",
              "      <th>top</th>\n",
              "      <td>28.12.2013</td>\n",
              "      <td>nan</td>\n",
              "      <td>nan</td>\n",
              "      <td>nan</td>\n",
              "      <td>nan</td>\n",
              "      <td>nan</td>\n",
              "    </tr>\n",
              "    <tr>\n",
              "      <th>freq</th>\n",
              "      <td>9434</td>\n",
              "      <td>nan</td>\n",
              "      <td>nan</td>\n",
              "      <td>nan</td>\n",
              "      <td>nan</td>\n",
              "      <td>nan</td>\n",
              "    </tr>\n",
              "    <tr>\n",
              "      <th>mean</th>\n",
              "      <td>NaN</td>\n",
              "      <td>14.570</td>\n",
              "      <td>33.002</td>\n",
              "      <td>10197.229</td>\n",
              "      <td>890.624</td>\n",
              "      <td>1.243</td>\n",
              "    </tr>\n",
              "    <tr>\n",
              "      <th>std</th>\n",
              "      <td>NaN</td>\n",
              "      <td>9.423</td>\n",
              "      <td>16.227</td>\n",
              "      <td>6324.293</td>\n",
              "      <td>1726.442</td>\n",
              "      <td>2.619</td>\n",
              "    </tr>\n",
              "    <tr>\n",
              "      <th>min</th>\n",
              "      <td>NaN</td>\n",
              "      <td>0.000</td>\n",
              "      <td>0.000</td>\n",
              "      <td>0.000</td>\n",
              "      <td>-1.000</td>\n",
              "      <td>-22.000</td>\n",
              "    </tr>\n",
              "    <tr>\n",
              "      <th>25%</th>\n",
              "      <td>NaN</td>\n",
              "      <td>7.000</td>\n",
              "      <td>22.000</td>\n",
              "      <td>4476.000</td>\n",
              "      <td>249.000</td>\n",
              "      <td>1.000</td>\n",
              "    </tr>\n",
              "    <tr>\n",
              "      <th>50%</th>\n",
              "      <td>NaN</td>\n",
              "      <td>14.000</td>\n",
              "      <td>31.000</td>\n",
              "      <td>9343.000</td>\n",
              "      <td>399.000</td>\n",
              "      <td>1.000</td>\n",
              "    </tr>\n",
              "    <tr>\n",
              "      <th>75%</th>\n",
              "      <td>NaN</td>\n",
              "      <td>23.000</td>\n",
              "      <td>47.000</td>\n",
              "      <td>15684.000</td>\n",
              "      <td>999.000</td>\n",
              "      <td>1.000</td>\n",
              "    </tr>\n",
              "    <tr>\n",
              "      <th>max</th>\n",
              "      <td>NaN</td>\n",
              "      <td>33.000</td>\n",
              "      <td>59.000</td>\n",
              "      <td>22169.000</td>\n",
              "      <td>307980.000</td>\n",
              "      <td>2169.000</td>\n",
              "    </tr>\n",
              "  </tbody>\n",
              "</table>\n",
              "</div>"
            ],
            "text/plain": [
              "              date  date_block_num  ...  item_price  item_cnt_day\n",
              "count      2935843     2935843.000  ... 2935843.000   2935843.000\n",
              "unique        1034             nan  ...         nan           nan\n",
              "top     28.12.2013             nan  ...         nan           nan\n",
              "freq          9434             nan  ...         nan           nan\n",
              "mean           NaN          14.570  ...     890.624         1.243\n",
              "std            NaN           9.423  ...    1726.442         2.619\n",
              "min            NaN           0.000  ...      -1.000       -22.000\n",
              "25%            NaN           7.000  ...     249.000         1.000\n",
              "50%            NaN          14.000  ...     399.000         1.000\n",
              "75%            NaN          23.000  ...     999.000         1.000\n",
              "max            NaN          33.000  ...  307980.000      2169.000\n",
              "\n",
              "[11 rows x 6 columns]"
            ]
          },
          "metadata": {
            "tags": []
          },
          "execution_count": 25
        }
      ]
    },
    {
      "cell_type": "code",
      "metadata": {
        "id": "jcQceSkQJcoe"
      },
      "source": [
        "sales_train = sales_train[sales_train['item_price'] > 0]\n",
        "sales_train = sales_train[sales_train['item_price'] < 50000]\n",
        "sales_train = sales_train[sales_train['item_cnt_day']>0]\n",
        "sales_train = sales_train[sales_train['item_cnt_day']<1000]"
      ],
      "execution_count": null,
      "outputs": []
    },
    {
      "cell_type": "code",
      "metadata": {
        "colab": {
          "base_uri": "https://localhost:8080/",
          "height": 298
        },
        "id": "0cSL5WZ5Jcof",
        "outputId": "88f384ab-c311-450b-fec1-0e649a61474e"
      },
      "source": [
        "plt.figure(figsize=(10,4))\n",
        "sns.boxplot(x=sales_train.item_cnt_day)"
      ],
      "execution_count": null,
      "outputs": [
        {
          "output_type": "execute_result",
          "data": {
            "text/plain": [
              "<matplotlib.axes._subplots.AxesSubplot at 0x7ff5dce97350>"
            ]
          },
          "metadata": {
            "tags": []
          },
          "execution_count": 27
        },
        {
          "output_type": "display_data",
          "data": {
            "image/png": "[encoded data removed]",
            "text/plain": [
              "<Figure size 720x288 with 1 Axes>"
            ]
          },
          "metadata": {
            "tags": []
          }
        }
      ]
    },
    {
      "cell_type": "code",
      "metadata": {
        "colab": {
          "base_uri": "https://localhost:8080/",
          "height": 298
        },
        "id": "bD0Cr9viJcog",
        "scrolled": true,
        "outputId": "90899bc9-c06e-499c-d461-e73aab22cb80"
      },
      "source": [
        "plt.figure(figsize=(10,4))\n",
        "sns.boxplot(x=sales_train.item_price)"
      ],
      "execution_count": null,
      "outputs": [
        {
          "output_type": "execute_result",
          "data": {
            "text/plain": [
              "<matplotlib.axes._subplots.AxesSubplot at 0x7ff5e57345d0>"
            ]
          },
          "metadata": {
            "tags": []
          },
          "execution_count": 28
        },
        {
          "output_type": "display_data",
          "data": {
            "image/png": "[encoded data removed]",
            "text/plain": [
              "<Figure size 720x288 with 1 Axes>"
            ]
          },
          "metadata": {
            "tags": []
          }
        }
      ]
    },
    {
      "cell_type": "markdown",
      "metadata": {
        "id": "8iSjFiT2Jcoh"
      },
      "source": [
        "### 2.3 데이터 통일성 확인\n",
        "#### 여기서 이제 데이터를 이해하고 전체적인 값을 확인하는 것이 중요하다. 몇가지 작업을 해야한다. 현재 #### train 데이터에서 shop_id와 shop_name이 일치하지 않는 부분이 있다."
      ]
    },
    {
      "cell_type": "code",
      "metadata": {
        "colab": {
          "base_uri": "https://localhost:8080/"
        },
        "id": "lbuDLEzSJcoi",
        "outputId": "e9d7e74c-99c9-471b-f592-b890390cf3d5"
      },
      "source": [
        "\n",
        "print(shops['shop_name'][0], '||', shops['shop_name'][57])\n",
        "print(shops['shop_name'][1], '||', shops['shop_name'][58])\n",
        "print(shops['shop_name'][10], '||', shops['shop_name'][11])\n",
        "print(shops['shop_name'][39], '||', shops['shop_name'][40])\n",
        "\n",
        "#  Modify shop_id in sales_train data\n",
        "sales_train.loc[sales_train['shop_id'] == 0, 'shop_id'] = 57\n",
        "sales_train.loc[sales_train['shop_id'] == 1, 'shop_id'] = 58\n",
        "sales_train.loc[sales_train['shop_id'] == 10, 'shop_id'] = 11\n",
        "sales_train.loc[sales_train['shop_id'] == 39, 'shop_id'] = 40\n",
        "\n",
        "#  Modify shop_id in test data\n",
        "test.loc[test['shop_id'] == 0, 'shop_id'] = 57\n",
        "test.loc[test['shop_id'] == 1, 'shop_id'] = 58\n",
        "test.loc[test['shop_id'] == 10, 'shop_id'] = 11\n",
        "test.loc[test['shop_id'] == 39, 'shop_id'] = 40"
      ],
      "execution_count": null,
      "outputs": [
        {
          "output_type": "stream",
          "text": [
            "!Якутск Орджоникидзе, 56 фран || Якутск Орджоникидзе, 56\n",
            "!Якутск ТЦ \"Центральный\" фран || Якутск ТЦ \"Центральный\"\n",
            "Жуковский ул. Чкалова 39м? || Жуковский ул. Чкалова 39м²\n",
            "РостовНаДону ТРК \"Мегацентр Горизонт\" || РостовНаДону ТРК \"Мегацентр Горизонт\" Островной\n"
          ],
          "name": "stdout"
        }
      ]
    },
    {
      "cell_type": "code",
      "metadata": {
        "colab": {
          "base_uri": "https://localhost:8080/",
          "height": 204
        },
        "id": "mCHSjL2gJcok",
        "outputId": "84534e4d-fdc8-4480-cbd4-2e2d3e97a01f"
      },
      "source": [
        "shops.head()"
      ],
      "execution_count": null,
      "outputs": [
        {
          "output_type": "execute_result",
          "data": {
            "text/html": [
              "<div>\n",
              "<style scoped>\n",
              "    .dataframe tbody tr th:only-of-type {\n",
              "        vertical-align: middle;\n",
              "    }\n",
              "\n",
              "    .dataframe tbody tr th {\n",
              "        vertical-align: top;\n",
              "    }\n",
              "\n",
              "    .dataframe thead th {\n",
              "        text-align: right;\n",
              "    }\n",
              "</style>\n",
              "<table border=\"1\" class=\"dataframe\">\n",
              "  <thead>\n",
              "    <tr style=\"text-align: right;\">\n",
              "      <th></th>\n",
              "      <th>shop_name</th>\n",
              "      <th>shop_id</th>\n",
              "    </tr>\n",
              "  </thead>\n",
              "  <tbody>\n",
              "    <tr>\n",
              "      <th>0</th>\n",
              "      <td>!Якутск Орджоникидзе, 56 фран</td>\n",
              "      <td>0</td>\n",
              "    </tr>\n",
              "    <tr>\n",
              "      <th>1</th>\n",
              "      <td>!Якутск ТЦ \"Центральный\" фран</td>\n",
              "      <td>1</td>\n",
              "    </tr>\n",
              "    <tr>\n",
              "      <th>2</th>\n",
              "      <td>Адыгея ТЦ \"Мега\"</td>\n",
              "      <td>2</td>\n",
              "    </tr>\n",
              "    <tr>\n",
              "      <th>3</th>\n",
              "      <td>Балашиха ТРК \"Октябрь-Киномир\"</td>\n",
              "      <td>3</td>\n",
              "    </tr>\n",
              "    <tr>\n",
              "      <th>4</th>\n",
              "      <td>Волжский ТЦ \"Волга Молл\"</td>\n",
              "      <td>4</td>\n",
              "    </tr>\n",
              "  </tbody>\n",
              "</table>\n",
              "</div>"
            ],
            "text/plain": [
              "                        shop_name  shop_id\n",
              "0   !Якутск Орджоникидзе, 56 фран        0\n",
              "1   !Якутск ТЦ \"Центральный\" фран        1\n",
              "2                Адыгея ТЦ \"Мега\"        2\n",
              "3  Балашиха ТРК \"Октябрь-Киномир\"        3\n",
              "4        Волжский ТЦ \"Волга Молл\"        4"
            ]
          },
          "metadata": {
            "tags": []
          },
          "execution_count": 30
        }
      ]
    },
    {
      "cell_type": "code",
      "metadata": {
        "id": "kW_JNjsdJcol"
      },
      "source": [
        "# Leaking to imporve performance\n",
        "unique_test_shop_id = test['shop_id'].unique()\n",
        "sales_train = sales_train[sales_train['shop_id'].isin(unique_test_shop_id)]\n",
        "\n",
        "shops['city'] = shops['shop_name'].apply(lambda x: x.split()[0])\n",
        "shops['city'].unique()\n",
        "\n",
        "shops.loc[shops['city'] =='!Якутск', 'city'] = 'Якутск'\n"
      ],
      "execution_count": null,
      "outputs": []
    },
    {
      "cell_type": "code",
      "metadata": {
        "colab": {
          "base_uri": "https://localhost:8080/",
          "height": 204
        },
        "id": "UDPzxCjqJcom",
        "outputId": "a8e1fc99-38fd-4e7e-b523-a52a24332187"
      },
      "source": [
        "shops.head()"
      ],
      "execution_count": null,
      "outputs": [
        {
          "output_type": "execute_result",
          "data": {
            "text/html": [
              "<div>\n",
              "<style scoped>\n",
              "    .dataframe tbody tr th:only-of-type {\n",
              "        vertical-align: middle;\n",
              "    }\n",
              "\n",
              "    .dataframe tbody tr th {\n",
              "        vertical-align: top;\n",
              "    }\n",
              "\n",
              "    .dataframe thead th {\n",
              "        text-align: right;\n",
              "    }\n",
              "</style>\n",
              "<table border=\"1\" class=\"dataframe\">\n",
              "  <thead>\n",
              "    <tr style=\"text-align: right;\">\n",
              "      <th></th>\n",
              "      <th>shop_name</th>\n",
              "      <th>shop_id</th>\n",
              "      <th>city</th>\n",
              "    </tr>\n",
              "  </thead>\n",
              "  <tbody>\n",
              "    <tr>\n",
              "      <th>0</th>\n",
              "      <td>!Якутск Орджоникидзе, 56 фран</td>\n",
              "      <td>0</td>\n",
              "      <td>Якутск</td>\n",
              "    </tr>\n",
              "    <tr>\n",
              "      <th>1</th>\n",
              "      <td>!Якутск ТЦ \"Центральный\" фран</td>\n",
              "      <td>1</td>\n",
              "      <td>Якутск</td>\n",
              "    </tr>\n",
              "    <tr>\n",
              "      <th>2</th>\n",
              "      <td>Адыгея ТЦ \"Мега\"</td>\n",
              "      <td>2</td>\n",
              "      <td>Адыгея</td>\n",
              "    </tr>\n",
              "    <tr>\n",
              "      <th>3</th>\n",
              "      <td>Балашиха ТРК \"Октябрь-Киномир\"</td>\n",
              "      <td>3</td>\n",
              "      <td>Балашиха</td>\n",
              "    </tr>\n",
              "    <tr>\n",
              "      <th>4</th>\n",
              "      <td>Волжский ТЦ \"Волга Молл\"</td>\n",
              "      <td>4</td>\n",
              "      <td>Волжский</td>\n",
              "    </tr>\n",
              "  </tbody>\n",
              "</table>\n",
              "</div>"
            ],
            "text/plain": [
              "                        shop_name  shop_id      city\n",
              "0   !Якутск Орджоникидзе, 56 фран        0    Якутск\n",
              "1   !Якутск ТЦ \"Центральный\" фран        1    Якутск\n",
              "2                Адыгея ТЦ \"Мега\"        2    Адыгея\n",
              "3  Балашиха ТРК \"Октябрь-Киномир\"        3  Балашиха\n",
              "4        Волжский ТЦ \"Волга Молл\"        4  Волжский"
            ]
          },
          "metadata": {
            "tags": []
          },
          "execution_count": 32
        }
      ]
    },
    {
      "cell_type": "code",
      "metadata": {
        "colab": {
          "base_uri": "https://localhost:8080/",
          "height": 204
        },
        "id": "vYFalV_oJcon",
        "outputId": "8a6a6e30-b6b7-4712-8f20-3fc8ee3a3f81"
      },
      "source": [
        "from sklearn.preprocessing import LabelEncoder\n",
        "\n",
        "# Create Label Encoder\n",
        "label_encoder = LabelEncoder()\n",
        "# City Feature Label Encoding \n",
        "shops['city'] = label_encoder.fit_transform(shops['city'])\n",
        "# Remove shop_name feature\n",
        "shops = shops.drop('shop_name', axis=1)\n",
        "\n",
        "shops.head()\n"
      ],
      "execution_count": null,
      "outputs": [
        {
          "output_type": "execute_result",
          "data": {
            "text/html": [
              "<div>\n",
              "<style scoped>\n",
              "    .dataframe tbody tr th:only-of-type {\n",
              "        vertical-align: middle;\n",
              "    }\n",
              "\n",
              "    .dataframe tbody tr th {\n",
              "        vertical-align: top;\n",
              "    }\n",
              "\n",
              "    .dataframe thead th {\n",
              "        text-align: right;\n",
              "    }\n",
              "</style>\n",
              "<table border=\"1\" class=\"dataframe\">\n",
              "  <thead>\n",
              "    <tr style=\"text-align: right;\">\n",
              "      <th></th>\n",
              "      <th>shop_id</th>\n",
              "      <th>city</th>\n",
              "    </tr>\n",
              "  </thead>\n",
              "  <tbody>\n",
              "    <tr>\n",
              "      <th>0</th>\n",
              "      <td>0</td>\n",
              "      <td>29</td>\n",
              "    </tr>\n",
              "    <tr>\n",
              "      <th>1</th>\n",
              "      <td>1</td>\n",
              "      <td>29</td>\n",
              "    </tr>\n",
              "    <tr>\n",
              "      <th>2</th>\n",
              "      <td>2</td>\n",
              "      <td>0</td>\n",
              "    </tr>\n",
              "    <tr>\n",
              "      <th>3</th>\n",
              "      <td>3</td>\n",
              "      <td>1</td>\n",
              "    </tr>\n",
              "    <tr>\n",
              "      <th>4</th>\n",
              "      <td>4</td>\n",
              "      <td>2</td>\n",
              "    </tr>\n",
              "  </tbody>\n",
              "</table>\n",
              "</div>"
            ],
            "text/plain": [
              "   shop_id  city\n",
              "0        0    29\n",
              "1        1    29\n",
              "2        2     0\n",
              "3        3     1\n",
              "4        4     2"
            ]
          },
          "metadata": {
            "tags": []
          },
          "execution_count": 33
        }
      ]
    },
    {
      "cell_type": "code",
      "metadata": {
        "id": "IP0eG3H4Jcoo"
      },
      "source": [
        "# Remove item_name feature\n",
        "items = items.drop(['item_name'], axis=1)\n",
        "# Create the date the product was first sold as a feature\n",
        "items['first_sale_date'] = sales_train.groupby('item_id').agg({'date_block_num': 'min'})['date_block_num']\n",
        "\n",
        "items.head()\n",
        "items[items['first_sale_date'].isna()]\n",
        "\n",
        "# Replace NaN of first_sale_date with 34 첫번째 팔린 날짜\n",
        "items['first_sale_date'] = items['first_sale_date'].fillna(34)"
      ],
      "execution_count": null,
      "outputs": []
    },
    {
      "cell_type": "code",
      "metadata": {
        "colab": {
          "base_uri": "https://localhost:8080/",
          "height": 451
        },
        "id": "TQYSZugQJcop",
        "outputId": "58b9d3b4-bb10-4ee0-c729-b8bf8038ff38"
      },
      "source": [
        "sales_train.groupby('item_id').agg({'date_block_num': 'min'})"
      ],
      "execution_count": null,
      "outputs": [
        {
          "output_type": "execute_result",
          "data": {
            "text/html": [
              "<div>\n",
              "<style scoped>\n",
              "    .dataframe tbody tr th:only-of-type {\n",
              "        vertical-align: middle;\n",
              "    }\n",
              "\n",
              "    .dataframe tbody tr th {\n",
              "        vertical-align: top;\n",
              "    }\n",
              "\n",
              "    .dataframe thead th {\n",
              "        text-align: right;\n",
              "    }\n",
              "</style>\n",
              "<table border=\"1\" class=\"dataframe\">\n",
              "  <thead>\n",
              "    <tr style=\"text-align: right;\">\n",
              "      <th></th>\n",
              "      <th>date_block_num</th>\n",
              "    </tr>\n",
              "    <tr>\n",
              "      <th>item_id</th>\n",
              "      <th></th>\n",
              "    </tr>\n",
              "  </thead>\n",
              "  <tbody>\n",
              "    <tr>\n",
              "      <th>1</th>\n",
              "      <td>15</td>\n",
              "    </tr>\n",
              "    <tr>\n",
              "      <th>16</th>\n",
              "      <td>20</td>\n",
              "    </tr>\n",
              "    <tr>\n",
              "      <th>17</th>\n",
              "      <td>20</td>\n",
              "    </tr>\n",
              "    <tr>\n",
              "      <th>18</th>\n",
              "      <td>19</td>\n",
              "    </tr>\n",
              "    <tr>\n",
              "      <th>19</th>\n",
              "      <td>0</td>\n",
              "    </tr>\n",
              "    <tr>\n",
              "      <th>...</th>\n",
              "      <td>...</td>\n",
              "    </tr>\n",
              "    <tr>\n",
              "      <th>22165</th>\n",
              "      <td>7</td>\n",
              "    </tr>\n",
              "    <tr>\n",
              "      <th>22166</th>\n",
              "      <td>9</td>\n",
              "    </tr>\n",
              "    <tr>\n",
              "      <th>22167</th>\n",
              "      <td>8</td>\n",
              "    </tr>\n",
              "    <tr>\n",
              "      <th>22168</th>\n",
              "      <td>0</td>\n",
              "    </tr>\n",
              "    <tr>\n",
              "      <th>22169</th>\n",
              "      <td>14</td>\n",
              "    </tr>\n",
              "  </tbody>\n",
              "</table>\n",
              "<p>21080 rows × 1 columns</p>\n",
              "</div>"
            ],
            "text/plain": [
              "         date_block_num\n",
              "item_id                \n",
              "1                    15\n",
              "16                   20\n",
              "17                   20\n",
              "18                   19\n",
              "19                    0\n",
              "...                 ...\n",
              "22165                 7\n",
              "22166                 9\n",
              "22167                 8\n",
              "22168                 0\n",
              "22169                14\n",
              "\n",
              "[21080 rows x 1 columns]"
            ]
          },
          "metadata": {
            "tags": []
          },
          "execution_count": 35
        }
      ]
    },
    {
      "cell_type": "code",
      "metadata": {
        "id": "1MsnjJKiJcoq"
      },
      "source": [
        "\n",
        "# Extract the first word of the item_categories_name into category\n",
        "item_categories['category'] = item_categories['item_category_name'].apply(lambda x: x.split()[0])  \n",
        "item_categories['category'].value_counts()\n",
        "\n",
        "def make_etc(x):\n",
        "    if len(item_categories[item_categories['category']==x]) >= 5:\n",
        "        return x\n",
        "    else:\n",
        "        return 'etc'\n",
        "\n",
        "# Replace with 'etc' if category count is less than 5\n",
        "item_categories['category'] = item_categories['category'].apply(make_etc)\n",
        "item_categories.head()\n",
        "\n",
        "# Create Label Encoder\n",
        "label_encoder = LabelEncoder()\n",
        "# Category Feature Label Encoding \n",
        "item_categories['category'] = label_encoder.fit_transform(item_categories['category'])\n",
        "\n",
        "# Remove item_category_name feature\n",
        "item_categories = item_categories.drop('item_category_name', axis=1)\n"
      ],
      "execution_count": null,
      "outputs": []
    },
    {
      "cell_type": "code",
      "metadata": {
        "colab": {
          "base_uri": "https://localhost:8080/",
          "height": 204
        },
        "id": "-CZvJq6-Jcos",
        "outputId": "8bad97c5-3fa7-4062-bdb8-7e4ebb5da3ba"
      },
      "source": [
        "item_categories.head()"
      ],
      "execution_count": null,
      "outputs": [
        {
          "output_type": "execute_result",
          "data": {
            "text/html": [
              "<div>\n",
              "<style scoped>\n",
              "    .dataframe tbody tr th:only-of-type {\n",
              "        vertical-align: middle;\n",
              "    }\n",
              "\n",
              "    .dataframe tbody tr th {\n",
              "        vertical-align: top;\n",
              "    }\n",
              "\n",
              "    .dataframe thead th {\n",
              "        text-align: right;\n",
              "    }\n",
              "</style>\n",
              "<table border=\"1\" class=\"dataframe\">\n",
              "  <thead>\n",
              "    <tr style=\"text-align: right;\">\n",
              "      <th></th>\n",
              "      <th>item_category_id</th>\n",
              "      <th>category</th>\n",
              "    </tr>\n",
              "  </thead>\n",
              "  <tbody>\n",
              "    <tr>\n",
              "      <th>0</th>\n",
              "      <td>0</td>\n",
              "      <td>0</td>\n",
              "    </tr>\n",
              "    <tr>\n",
              "      <th>1</th>\n",
              "      <td>1</td>\n",
              "      <td>1</td>\n",
              "    </tr>\n",
              "    <tr>\n",
              "      <th>2</th>\n",
              "      <td>2</td>\n",
              "      <td>1</td>\n",
              "    </tr>\n",
              "    <tr>\n",
              "      <th>3</th>\n",
              "      <td>3</td>\n",
              "      <td>1</td>\n",
              "    </tr>\n",
              "    <tr>\n",
              "      <th>4</th>\n",
              "      <td>4</td>\n",
              "      <td>1</td>\n",
              "    </tr>\n",
              "  </tbody>\n",
              "</table>\n",
              "</div>"
            ],
            "text/plain": [
              "   item_category_id  category\n",
              "0                 0         0\n",
              "1                 1         1\n",
              "2                 2         1\n",
              "3                 3         1\n",
              "4                 4         1"
            ]
          },
          "metadata": {
            "tags": []
          },
          "execution_count": 37
        }
      ]
    },
    {
      "cell_type": "code",
      "metadata": {
        "colab": {
          "base_uri": "https://localhost:8080/",
          "height": 204
        },
        "id": "jYcHoptRJcot",
        "outputId": "76e922a2-27d7-44a8-e7fe-80ead84f2ffb"
      },
      "source": [
        "from itertools import product\n",
        "\n",
        "train = []\n",
        "# Create date_block_num, sop_id, item_id combination\n",
        "for i in sales_train['date_block_num'].unique():\n",
        "    all_shop = sales_train.loc[sales_train['date_block_num']==i, 'shop_id'].unique()\n",
        "    all_item = sales_train.loc[sales_train['date_block_num']==i, 'item_id'].unique()\n",
        "    train.append(np.array(list(product([i], all_shop, all_item))))\n",
        "    \n",
        "\n",
        "idx_features = ['date_block_num', 'shop_id', 'item_id'] # base features\n",
        "train = pd.DataFrame(np.vstack(train), columns=idx_features)\n",
        "group = sales_train.groupby(idx_features).agg({'item_cnt_day': 'sum',\n",
        "                                               'item_price': 'mean'})\n",
        "group = group.reset_index()\n",
        "group = group.rename(columns={'item_cnt_day': 'item_cnt_month', 'item_price': 'item_price_mean'})\n",
        "\n",
        "train = train.merge(group, on=idx_features, how='left')\n",
        "\n",
        "train.head()\n"
      ],
      "execution_count": null,
      "outputs": [
        {
          "output_type": "execute_result",
          "data": {
            "text/html": [
              "<div>\n",
              "<style scoped>\n",
              "    .dataframe tbody tr th:only-of-type {\n",
              "        vertical-align: middle;\n",
              "    }\n",
              "\n",
              "    .dataframe tbody tr th {\n",
              "        vertical-align: top;\n",
              "    }\n",
              "\n",
              "    .dataframe thead th {\n",
              "        text-align: right;\n",
              "    }\n",
              "</style>\n",
              "<table border=\"1\" class=\"dataframe\">\n",
              "  <thead>\n",
              "    <tr style=\"text-align: right;\">\n",
              "      <th></th>\n",
              "      <th>date_block_num</th>\n",
              "      <th>shop_id</th>\n",
              "      <th>item_id</th>\n",
              "      <th>item_cnt_month</th>\n",
              "      <th>item_price_mean</th>\n",
              "    </tr>\n",
              "  </thead>\n",
              "  <tbody>\n",
              "    <tr>\n",
              "      <th>0</th>\n",
              "      <td>0</td>\n",
              "      <td>59</td>\n",
              "      <td>22154</td>\n",
              "      <td>1.000</td>\n",
              "      <td>999.000</td>\n",
              "    </tr>\n",
              "    <tr>\n",
              "      <th>1</th>\n",
              "      <td>0</td>\n",
              "      <td>59</td>\n",
              "      <td>2552</td>\n",
              "      <td>nan</td>\n",
              "      <td>nan</td>\n",
              "    </tr>\n",
              "    <tr>\n",
              "      <th>2</th>\n",
              "      <td>0</td>\n",
              "      <td>59</td>\n",
              "      <td>2554</td>\n",
              "      <td>nan</td>\n",
              "      <td>nan</td>\n",
              "    </tr>\n",
              "    <tr>\n",
              "      <th>3</th>\n",
              "      <td>0</td>\n",
              "      <td>59</td>\n",
              "      <td>2555</td>\n",
              "      <td>nan</td>\n",
              "      <td>nan</td>\n",
              "    </tr>\n",
              "    <tr>\n",
              "      <th>4</th>\n",
              "      <td>0</td>\n",
              "      <td>59</td>\n",
              "      <td>2564</td>\n",
              "      <td>nan</td>\n",
              "      <td>nan</td>\n",
              "    </tr>\n",
              "  </tbody>\n",
              "</table>\n",
              "</div>"
            ],
            "text/plain": [
              "   date_block_num  shop_id  item_id  item_cnt_month  item_price_mean\n",
              "0               0       59    22154           1.000          999.000\n",
              "1               0       59     2552             nan              nan\n",
              "2               0       59     2554             nan              nan\n",
              "3               0       59     2555             nan              nan\n",
              "4               0       59     2564             nan              nan"
            ]
          },
          "metadata": {
            "tags": []
          },
          "execution_count": 38
        }
      ]
    },
    {
      "cell_type": "code",
      "metadata": {
        "colab": {
          "base_uri": "https://localhost:8080/",
          "height": 395
        },
        "id": "2tgpSkb9Jcow",
        "outputId": "528ed8d2-a579-4c85-f791-ba59b3b81ef2"
      },
      "source": [
        "import gc\n",
        "\n",
        "# group variable garbage collection\n",
        "del group\n",
        "gc.collect();\n",
        "# Add a feature for the number of items sold\n",
        "group = sales_train.groupby(idx_features).agg({'item_cnt_day': 'count'})\n",
        "group = group.reset_index()\n",
        "group = group.rename(columns={'item_cnt_day': 'item_count'})\n",
        "\n",
        "train = train.merge(group, on=idx_features, how='left')\n",
        "\n",
        "# Garbage collection\n",
        "del group, sales_train\n",
        "gc.collect()\n",
        "\n",
        "train.head()\n",
        "\n",
        "# Set test data date_block_num to 34\n",
        "test['date_block_num'] = 34\n",
        "\n",
        "\n",
        "# Concatenate train and test\n",
        "all_data = pd.concat([train, test.drop('ID', axis=1)],\n",
        "                     ignore_index=True,\n",
        "                     keys=idx_features)\n",
        "# Replace NaN with 0\n",
        "all_data = all_data.fillna(0)\n",
        "\n",
        "all_data.head()\n",
        "\n",
        "# Merge other data\n",
        "all_data = all_data.merge(shops, on='shop_id', how='left')\n",
        "all_data = all_data.merge(items, on='item_id', how='left')\n",
        "all_data = all_data.merge(item_categories, on='item_category_id', how='left')\n",
        "\n",
        "# Data downcasting\n",
        "all_data = downcast(all_data)\n",
        "\n",
        "# Garbage collection\n",
        "del shops, items, item_categories\n",
        "gc.collect();\n",
        "\n",
        "def resumetable(df):\n",
        "    print(f'Data Shape: {df.shape}')\n",
        "    summary = pd.DataFrame(df.dtypes, columns=['Dtypes'])\n",
        "    summary['Null'] = df.isnull().sum().values\n",
        "    summary['Uniques'] = df.nunique().values\n",
        "    summary['First_values'] = df.loc[0].values\n",
        "    summary['Second_values'] = df.loc[1].values\n",
        "    summary['Third_values'] = df.loc[2].values\n",
        "    \n",
        "    return summary\n",
        "resumetable(all_data)\n",
        "\n"
      ],
      "execution_count": null,
      "outputs": [
        {
          "output_type": "stream",
          "text": [
            "64.6% compressed\n",
            "Data Shape: (8856961, 10)\n"
          ],
          "name": "stdout"
        },
        {
          "output_type": "execute_result",
          "data": {
            "text/html": [
              "<div>\n",
              "<style scoped>\n",
              "    .dataframe tbody tr th:only-of-type {\n",
              "        vertical-align: middle;\n",
              "    }\n",
              "\n",
              "    .dataframe tbody tr th {\n",
              "        vertical-align: top;\n",
              "    }\n",
              "\n",
              "    .dataframe thead th {\n",
              "        text-align: right;\n",
              "    }\n",
              "</style>\n",
              "<table border=\"1\" class=\"dataframe\">\n",
              "  <thead>\n",
              "    <tr style=\"text-align: right;\">\n",
              "      <th></th>\n",
              "      <th>Dtypes</th>\n",
              "      <th>Null</th>\n",
              "      <th>Uniques</th>\n",
              "      <th>First_values</th>\n",
              "      <th>Second_values</th>\n",
              "      <th>Third_values</th>\n",
              "    </tr>\n",
              "  </thead>\n",
              "  <tbody>\n",
              "    <tr>\n",
              "      <th>date_block_num</th>\n",
              "      <td>int8</td>\n",
              "      <td>0</td>\n",
              "      <td>35</td>\n",
              "      <td>0.000</td>\n",
              "      <td>0.000</td>\n",
              "      <td>0.000</td>\n",
              "    </tr>\n",
              "    <tr>\n",
              "      <th>shop_id</th>\n",
              "      <td>int8</td>\n",
              "      <td>0</td>\n",
              "      <td>42</td>\n",
              "      <td>59.000</td>\n",
              "      <td>59.000</td>\n",
              "      <td>59.000</td>\n",
              "    </tr>\n",
              "    <tr>\n",
              "      <th>item_id</th>\n",
              "      <td>int16</td>\n",
              "      <td>0</td>\n",
              "      <td>21464</td>\n",
              "      <td>22154.000</td>\n",
              "      <td>2552.000</td>\n",
              "      <td>2554.000</td>\n",
              "    </tr>\n",
              "    <tr>\n",
              "      <th>item_cnt_month</th>\n",
              "      <td>int16</td>\n",
              "      <td>0</td>\n",
              "      <td>407</td>\n",
              "      <td>1.000</td>\n",
              "      <td>0.000</td>\n",
              "      <td>0.000</td>\n",
              "    </tr>\n",
              "    <tr>\n",
              "      <th>item_price_mean</th>\n",
              "      <td>float32</td>\n",
              "      <td>0</td>\n",
              "      <td>34147</td>\n",
              "      <td>999.000</td>\n",
              "      <td>0.000</td>\n",
              "      <td>0.000</td>\n",
              "    </tr>\n",
              "    <tr>\n",
              "      <th>item_count</th>\n",
              "      <td>int8</td>\n",
              "      <td>0</td>\n",
              "      <td>40</td>\n",
              "      <td>1.000</td>\n",
              "      <td>0.000</td>\n",
              "      <td>0.000</td>\n",
              "    </tr>\n",
              "    <tr>\n",
              "      <th>city</th>\n",
              "      <td>int8</td>\n",
              "      <td>0</td>\n",
              "      <td>28</td>\n",
              "      <td>30.000</td>\n",
              "      <td>30.000</td>\n",
              "      <td>30.000</td>\n",
              "    </tr>\n",
              "    <tr>\n",
              "      <th>item_category_id</th>\n",
              "      <td>int8</td>\n",
              "      <td>0</td>\n",
              "      <td>84</td>\n",
              "      <td>37.000</td>\n",
              "      <td>58.000</td>\n",
              "      <td>58.000</td>\n",
              "    </tr>\n",
              "    <tr>\n",
              "      <th>first_sale_date</th>\n",
              "      <td>int8</td>\n",
              "      <td>0</td>\n",
              "      <td>35</td>\n",
              "      <td>0.000</td>\n",
              "      <td>0.000</td>\n",
              "      <td>0.000</td>\n",
              "    </tr>\n",
              "    <tr>\n",
              "      <th>category</th>\n",
              "      <td>int8</td>\n",
              "      <td>0</td>\n",
              "      <td>10</td>\n",
              "      <td>5.000</td>\n",
              "      <td>7.000</td>\n",
              "      <td>7.000</td>\n",
              "    </tr>\n",
              "  </tbody>\n",
              "</table>\n",
              "</div>"
            ],
            "text/plain": [
              "                   Dtypes  Null  ...  Second_values  Third_values\n",
              "date_block_num       int8     0  ...          0.000         0.000\n",
              "shop_id              int8     0  ...         59.000        59.000\n",
              "item_id             int16     0  ...       2552.000      2554.000\n",
              "item_cnt_month      int16     0  ...          0.000         0.000\n",
              "item_price_mean   float32     0  ...          0.000         0.000\n",
              "item_count           int8     0  ...          0.000         0.000\n",
              "city                 int8     0  ...         30.000        30.000\n",
              "item_category_id     int8     0  ...         58.000        58.000\n",
              "first_sale_date      int8     0  ...          0.000         0.000\n",
              "category             int8     0  ...          7.000         7.000\n",
              "\n",
              "[10 rows x 6 columns]"
            ]
          },
          "metadata": {
            "tags": []
          },
          "execution_count": 39
        }
      ]
    },
    {
      "cell_type": "code",
      "metadata": {
        "colab": {
          "base_uri": "https://localhost:8080/",
          "height": 204
        },
        "id": "Andl_3qRJcoz",
        "outputId": "9bb35ad3-c9c8-44f9-9611-4b32da69c841"
      },
      "source": [
        "all_data.head()"
      ],
      "execution_count": null,
      "outputs": [
        {
          "output_type": "execute_result",
          "data": {
            "text/html": [
              "<div>\n",
              "<style scoped>\n",
              "    .dataframe tbody tr th:only-of-type {\n",
              "        vertical-align: middle;\n",
              "    }\n",
              "\n",
              "    .dataframe tbody tr th {\n",
              "        vertical-align: top;\n",
              "    }\n",
              "\n",
              "    .dataframe thead th {\n",
              "        text-align: right;\n",
              "    }\n",
              "</style>\n",
              "<table border=\"1\" class=\"dataframe\">\n",
              "  <thead>\n",
              "    <tr style=\"text-align: right;\">\n",
              "      <th></th>\n",
              "      <th>date_block_num</th>\n",
              "      <th>shop_id</th>\n",
              "      <th>item_id</th>\n",
              "      <th>item_cnt_month</th>\n",
              "      <th>item_price_mean</th>\n",
              "      <th>item_count</th>\n",
              "      <th>city</th>\n",
              "      <th>item_category_id</th>\n",
              "      <th>first_sale_date</th>\n",
              "      <th>category</th>\n",
              "    </tr>\n",
              "  </thead>\n",
              "  <tbody>\n",
              "    <tr>\n",
              "      <th>0</th>\n",
              "      <td>0</td>\n",
              "      <td>59</td>\n",
              "      <td>22154</td>\n",
              "      <td>1</td>\n",
              "      <td>999.000</td>\n",
              "      <td>1</td>\n",
              "      <td>30</td>\n",
              "      <td>37</td>\n",
              "      <td>0</td>\n",
              "      <td>5</td>\n",
              "    </tr>\n",
              "    <tr>\n",
              "      <th>1</th>\n",
              "      <td>0</td>\n",
              "      <td>59</td>\n",
              "      <td>2552</td>\n",
              "      <td>0</td>\n",
              "      <td>0.000</td>\n",
              "      <td>0</td>\n",
              "      <td>30</td>\n",
              "      <td>58</td>\n",
              "      <td>0</td>\n",
              "      <td>7</td>\n",
              "    </tr>\n",
              "    <tr>\n",
              "      <th>2</th>\n",
              "      <td>0</td>\n",
              "      <td>59</td>\n",
              "      <td>2554</td>\n",
              "      <td>0</td>\n",
              "      <td>0.000</td>\n",
              "      <td>0</td>\n",
              "      <td>30</td>\n",
              "      <td>58</td>\n",
              "      <td>0</td>\n",
              "      <td>7</td>\n",
              "    </tr>\n",
              "    <tr>\n",
              "      <th>3</th>\n",
              "      <td>0</td>\n",
              "      <td>59</td>\n",
              "      <td>2555</td>\n",
              "      <td>0</td>\n",
              "      <td>0.000</td>\n",
              "      <td>0</td>\n",
              "      <td>30</td>\n",
              "      <td>56</td>\n",
              "      <td>0</td>\n",
              "      <td>7</td>\n",
              "    </tr>\n",
              "    <tr>\n",
              "      <th>4</th>\n",
              "      <td>0</td>\n",
              "      <td>59</td>\n",
              "      <td>2564</td>\n",
              "      <td>0</td>\n",
              "      <td>0.000</td>\n",
              "      <td>0</td>\n",
              "      <td>30</td>\n",
              "      <td>59</td>\n",
              "      <td>0</td>\n",
              "      <td>7</td>\n",
              "    </tr>\n",
              "  </tbody>\n",
              "</table>\n",
              "</div>"
            ],
            "text/plain": [
              "   date_block_num  shop_id  ...  first_sale_date  category\n",
              "0               0       59  ...                0         5\n",
              "1               0       59  ...                0         7\n",
              "2               0       59  ...                0         7\n",
              "3               0       59  ...                0         7\n",
              "4               0       59  ...                0         7\n",
              "\n",
              "[5 rows x 10 columns]"
            ]
          },
          "metadata": {
            "tags": []
          },
          "execution_count": 40
        }
      ]
    },
    {
      "cell_type": "code",
      "metadata": {
        "colab": {
          "base_uri": "https://localhost:8080/",
          "height": 1000
        },
        "id": "V_9Zxq2yJco0",
        "outputId": "6ffa0997-64cd-48d3-8b63-f008927ee0dc"
      },
      "source": [
        "all_data.groupby('date_block_num').agg({'item_cnt_month': 'sum'})"
      ],
      "execution_count": null,
      "outputs": [
        {
          "output_type": "execute_result",
          "data": {
            "text/html": [
              "<div>\n",
              "<style scoped>\n",
              "    .dataframe tbody tr th:only-of-type {\n",
              "        vertical-align: middle;\n",
              "    }\n",
              "\n",
              "    .dataframe tbody tr th {\n",
              "        vertical-align: top;\n",
              "    }\n",
              "\n",
              "    .dataframe thead th {\n",
              "        text-align: right;\n",
              "    }\n",
              "</style>\n",
              "<table border=\"1\" class=\"dataframe\">\n",
              "  <thead>\n",
              "    <tr style=\"text-align: right;\">\n",
              "      <th></th>\n",
              "      <th>item_cnt_month</th>\n",
              "    </tr>\n",
              "    <tr>\n",
              "      <th>date_block_num</th>\n",
              "      <th></th>\n",
              "    </tr>\n",
              "  </thead>\n",
              "  <tbody>\n",
              "    <tr>\n",
              "      <th>0</th>\n",
              "      <td>100718.000</td>\n",
              "    </tr>\n",
              "    <tr>\n",
              "      <th>1</th>\n",
              "      <td>100207.000</td>\n",
              "    </tr>\n",
              "    <tr>\n",
              "      <th>2</th>\n",
              "      <td>114905.000</td>\n",
              "    </tr>\n",
              "    <tr>\n",
              "      <th>3</th>\n",
              "      <td>84189.000</td>\n",
              "    </tr>\n",
              "    <tr>\n",
              "      <th>4</th>\n",
              "      <td>85763.000</td>\n",
              "    </tr>\n",
              "    <tr>\n",
              "      <th>5</th>\n",
              "      <td>103566.000</td>\n",
              "    </tr>\n",
              "    <tr>\n",
              "      <th>6</th>\n",
              "      <td>94986.000</td>\n",
              "    </tr>\n",
              "    <tr>\n",
              "      <th>7</th>\n",
              "      <td>101691.000</td>\n",
              "    </tr>\n",
              "    <tr>\n",
              "      <th>8</th>\n",
              "      <td>107568.000</td>\n",
              "    </tr>\n",
              "    <tr>\n",
              "      <th>9</th>\n",
              "      <td>98640.000</td>\n",
              "    </tr>\n",
              "    <tr>\n",
              "      <th>10</th>\n",
              "      <td>105871.000</td>\n",
              "    </tr>\n",
              "    <tr>\n",
              "      <th>11</th>\n",
              "      <td>149596.000</td>\n",
              "    </tr>\n",
              "    <tr>\n",
              "      <th>12</th>\n",
              "      <td>93532.000</td>\n",
              "    </tr>\n",
              "    <tr>\n",
              "      <th>13</th>\n",
              "      <td>89568.000</td>\n",
              "    </tr>\n",
              "    <tr>\n",
              "      <th>14</th>\n",
              "      <td>93754.000</td>\n",
              "    </tr>\n",
              "    <tr>\n",
              "      <th>15</th>\n",
              "      <td>77863.000</td>\n",
              "    </tr>\n",
              "    <tr>\n",
              "      <th>16</th>\n",
              "      <td>79114.000</td>\n",
              "    </tr>\n",
              "    <tr>\n",
              "      <th>17</th>\n",
              "      <td>79394.000</td>\n",
              "    </tr>\n",
              "    <tr>\n",
              "      <th>18</th>\n",
              "      <td>74844.000</td>\n",
              "    </tr>\n",
              "    <tr>\n",
              "      <th>19</th>\n",
              "      <td>84347.000</td>\n",
              "    </tr>\n",
              "    <tr>\n",
              "      <th>20</th>\n",
              "      <td>81850.000</td>\n",
              "    </tr>\n",
              "    <tr>\n",
              "      <th>21</th>\n",
              "      <td>81493.000</td>\n",
              "    </tr>\n",
              "    <tr>\n",
              "      <th>22</th>\n",
              "      <td>97211.000</td>\n",
              "    </tr>\n",
              "    <tr>\n",
              "      <th>23</th>\n",
              "      <td>140654.000</td>\n",
              "    </tr>\n",
              "    <tr>\n",
              "      <th>24</th>\n",
              "      <td>91120.000</td>\n",
              "    </tr>\n",
              "    <tr>\n",
              "      <th>25</th>\n",
              "      <td>72865.000</td>\n",
              "    </tr>\n",
              "    <tr>\n",
              "      <th>26</th>\n",
              "      <td>71656.000</td>\n",
              "    </tr>\n",
              "    <tr>\n",
              "      <th>27</th>\n",
              "      <td>71979.000</td>\n",
              "    </tr>\n",
              "    <tr>\n",
              "      <th>28</th>\n",
              "      <td>67005.000</td>\n",
              "    </tr>\n",
              "    <tr>\n",
              "      <th>29</th>\n",
              "      <td>60220.000</td>\n",
              "    </tr>\n",
              "    <tr>\n",
              "      <th>30</th>\n",
              "      <td>60084.000</td>\n",
              "    </tr>\n",
              "    <tr>\n",
              "      <th>31</th>\n",
              "      <td>65280.000</td>\n",
              "    </tr>\n",
              "    <tr>\n",
              "      <th>32</th>\n",
              "      <td>72365.000</td>\n",
              "    </tr>\n",
              "    <tr>\n",
              "      <th>33</th>\n",
              "      <td>63216.000</td>\n",
              "    </tr>\n",
              "    <tr>\n",
              "      <th>34</th>\n",
              "      <td>0.000</td>\n",
              "    </tr>\n",
              "  </tbody>\n",
              "</table>\n",
              "</div>"
            ],
            "text/plain": [
              "                item_cnt_month\n",
              "date_block_num                \n",
              "0                   100718.000\n",
              "1                   100207.000\n",
              "2                   114905.000\n",
              "3                    84189.000\n",
              "4                    85763.000\n",
              "5                   103566.000\n",
              "6                    94986.000\n",
              "7                   101691.000\n",
              "8                   107568.000\n",
              "9                    98640.000\n",
              "10                  105871.000\n",
              "11                  149596.000\n",
              "12                   93532.000\n",
              "13                   89568.000\n",
              "14                   93754.000\n",
              "15                   77863.000\n",
              "16                   79114.000\n",
              "17                   79394.000\n",
              "18                   74844.000\n",
              "19                   84347.000\n",
              "20                   81850.000\n",
              "21                   81493.000\n",
              "22                   97211.000\n",
              "23                  140654.000\n",
              "24                   91120.000\n",
              "25                   72865.000\n",
              "26                   71656.000\n",
              "27                   71979.000\n",
              "28                   67005.000\n",
              "29                   60220.000\n",
              "30                   60084.000\n",
              "31                   65280.000\n",
              "32                   72365.000\n",
              "33                   63216.000\n",
              "34                       0.000"
            ]
          },
          "metadata": {
            "tags": []
          },
          "execution_count": 41
        }
      ]
    },
    {
      "cell_type": "code",
      "metadata": {
        "colab": {
          "base_uri": "https://localhost:8080/",
          "height": 1000
        },
        "id": "A2DpdGhBJco1",
        "outputId": "16a1cf50-fbaf-46a9-8f84-6d7fb5672e58"
      },
      "source": [
        "import seaborn as sns\n",
        "import matplotlib as mpl\n",
        "import matplotlib.pyplot as plt\n",
        "%matplotlib inline\n",
        "\n",
        "mpl.rc('font', size=13)\n",
        "figure, ax = plt.subplots() \n",
        "figure.set_size_inches(11, 5)\n",
        "\n",
        "# total montly item sales\n",
        "group_month_sum = all_data.groupby('date_block_num').agg({'item_cnt_month': 'sum'})\n",
        "group_month_sum = group_month_sum.reset_index()\n",
        "\n",
        "sns.barplot(x='date_block_num', y='item_cnt_month', data=group_month_sum)\n",
        "ax.set(title='Distribution of monthly item counts by date block number',\n",
        "       xlabel='Date block number', \n",
        "       ylabel='Monthly item counts');\n",
        "\n",
        "figure, ax= plt.subplots() \n",
        "figure.set_size_inches(11, 5)\n",
        "\n",
        "# Total item sales by item_category_id\n",
        "group_cat_sum = all_data.groupby('item_category_id').agg({'item_cnt_month': 'sum'})\n",
        "group_cat_sum = group_cat_sum.reset_index()\n",
        "\n",
        "# Extract only item categories with total sales > 10,000\n",
        "group_cat_sum = group_cat_sum[group_cat_sum['item_cnt_month'] > 10000]\n",
        "\n",
        "sns.barplot(x='item_category_id', y='item_cnt_month', data=group_cat_sum)\n",
        "ax.set(title='Distribution of total item counts by item category id',\n",
        "       xlabel='Item category ID', \n",
        "       ylabel='Total item counts')\n",
        "ax.tick_params(axis='x', labelrotation=90) # Rotate X label\n",
        "\n",
        "figure, ax= plt.subplots() \n",
        "figure.set_size_inches(11, 5)\n",
        "\n",
        "# Total item sales by shop_id\n",
        "group_shop_sum = all_data.groupby('shop_id').agg({'item_cnt_month': 'sum'})\n",
        "group_shop_sum = group_shop_sum.reset_index()\n",
        "\n",
        "group_shop_sum = group_shop_sum[group_shop_sum['item_cnt_month'] > 10000]\n",
        "\n",
        "sns.barplot(x='shop_id', y='item_cnt_month', data=group_shop_sum)\n",
        "ax.set(title='Distribution of total item counts by shop id',\n",
        "       xlabel='Shop ID', \n",
        "       ylabel='Total item counts')\n",
        "ax.tick_params(axis='x', labelrotation=90)"
      ],
      "execution_count": null,
      "outputs": [
        {
          "output_type": "display_data",
          "data": {
            "image/png": "[encoded data removed]",
            "text/plain": [
              "<Figure size 792x360 with 1 Axes>"
            ]
          },
          "metadata": {
            "tags": [],
            "needs_background": "light"
          }
        },
        {
          "output_type": "display_data",
          "data": {
            "image/png": "[encoded data removed]",
            "text/plain": [
              "<Figure size 792x360 with 1 Axes>"
            ]
          },
          "metadata": {
            "tags": [],
            "needs_background": "light"
          }
        },
        {
          "output_type": "display_data",
          "data": {
            "image/png": "[encoded data removed]",
            "text/plain": [
              "<Figure size 792x360 with 1 Axes>"
            ]
          },
          "metadata": {
            "tags": [],
            "needs_background": "light"
          }
        }
      ]
    },
    {
      "cell_type": "code",
      "metadata": {
        "id": "YqZMaCVMJco3"
      },
      "source": [
        "#all_data, item_mean_features = add_mean_features(df=all_data,\n",
        "#                                                 mean_features=item_mean_features,\n",
        "#                                                 idx_features=['date_block_num', 'item_id'])\n",
        "\n",
        "def add_mean_features(df, mean_features, idx_features):\n",
        "    # Check base features\n",
        "    assert (idx_features[0] == 'date_block_num') and \\\n",
        "           len(idx_features) in [2, 3]\n",
        "    \n",
        "    # Set derived feature name \n",
        "    if len(idx_features) == 2:\n",
        "        feature_name = idx_features[1] + '_mean_sales'\n",
        "    else:\n",
        "        feature_name = idx_features[1] + '_' + idx_features[2] + '_mean_sales'\n",
        "    \n",
        "    # Get average monthly sales by grouping based on base features\n",
        "    group = df.groupby(idx_features).agg({'item_cnt_month': 'mean'})\n",
        "    group = group.reset_index()\n",
        "    group = group.rename(columns={'item_cnt_month': feature_name})\n",
        "    \n",
        "    # Merge df with group based on idx_features\n",
        "    df = df.merge(group, on=idx_features, how='left')\n",
        "    # Date downcasting\n",
        "    df = downcast(df, False)\n",
        "    # Append newly created mean_feature_name features to the mean_features list\n",
        "    mean_features.append(feature_name)\n",
        "    # Garbage collection\n",
        "    del group\n",
        "    gc.collect()\n",
        "    \n",
        "    return df, mean_features"
      ],
      "execution_count": null,
      "outputs": []
    },
    {
      "cell_type": "code",
      "metadata": {
        "colab": {
          "base_uri": "https://localhost:8080/",
          "height": 297
        },
        "id": "uxdomu_rJco5",
        "outputId": "b7d7eadf-6cba-4fc4-85ad-3fd6d6185cbc"
      },
      "source": [
        "all_data.describe()"
      ],
      "execution_count": null,
      "outputs": [
        {
          "output_type": "execute_result",
          "data": {
            "text/html": [
              "<div>\n",
              "<style scoped>\n",
              "    .dataframe tbody tr th:only-of-type {\n",
              "        vertical-align: middle;\n",
              "    }\n",
              "\n",
              "    .dataframe tbody tr th {\n",
              "        vertical-align: top;\n",
              "    }\n",
              "\n",
              "    .dataframe thead th {\n",
              "        text-align: right;\n",
              "    }\n",
              "</style>\n",
              "<table border=\"1\" class=\"dataframe\">\n",
              "  <thead>\n",
              "    <tr style=\"text-align: right;\">\n",
              "      <th></th>\n",
              "      <th>date_block_num</th>\n",
              "      <th>shop_id</th>\n",
              "      <th>item_id</th>\n",
              "      <th>item_cnt_month</th>\n",
              "      <th>item_price_mean</th>\n",
              "      <th>item_count</th>\n",
              "      <th>city</th>\n",
              "      <th>item_category_id</th>\n",
              "      <th>first_sale_date</th>\n",
              "      <th>category</th>\n",
              "    </tr>\n",
              "  </thead>\n",
              "  <tbody>\n",
              "    <tr>\n",
              "      <th>count</th>\n",
              "      <td>8856961.000</td>\n",
              "      <td>8856961.000</td>\n",
              "      <td>8856961.000</td>\n",
              "      <td>8856961.000</td>\n",
              "      <td>8856961.000</td>\n",
              "      <td>8856961.000</td>\n",
              "      <td>8856961.000</td>\n",
              "      <td>8856961.000</td>\n",
              "      <td>8856961.000</td>\n",
              "      <td>8856961.000</td>\n",
              "    </tr>\n",
              "    <tr>\n",
              "      <th>mean</th>\n",
              "      <td>16.019</td>\n",
              "      <td>31.019</td>\n",
              "      <td>11250.661</td>\n",
              "      <td>0.341</td>\n",
              "      <td>121.119</td>\n",
              "      <td>0.274</td>\n",
              "      <td>15.208</td>\n",
              "      <td>44.834</td>\n",
              "      <td>6.229</td>\n",
              "      <td>5.563</td>\n",
              "    </tr>\n",
              "    <tr>\n",
              "      <th>std</th>\n",
              "      <td>9.977</td>\n",
              "      <td>17.923</td>\n",
              "      <td>6216.085</td>\n",
              "      <td>3.387</td>\n",
              "      <td>661.657</td>\n",
              "      <td>1.008</td>\n",
              "      <td>8.358</td>\n",
              "      <td>15.272</td>\n",
              "      <td>8.508</td>\n",
              "      <td>1.826</td>\n",
              "    </tr>\n",
              "    <tr>\n",
              "      <th>min</th>\n",
              "      <td>0.000</td>\n",
              "      <td>2.000</td>\n",
              "      <td>1.000</td>\n",
              "      <td>0.000</td>\n",
              "      <td>0.000</td>\n",
              "      <td>0.000</td>\n",
              "      <td>0.000</td>\n",
              "      <td>0.000</td>\n",
              "      <td>0.000</td>\n",
              "      <td>0.000</td>\n",
              "    </tr>\n",
              "    <tr>\n",
              "      <th>25%</th>\n",
              "      <td>7.000</td>\n",
              "      <td>15.000</td>\n",
              "      <td>5859.000</td>\n",
              "      <td>0.000</td>\n",
              "      <td>0.000</td>\n",
              "      <td>0.000</td>\n",
              "      <td>9.000</td>\n",
              "      <td>37.000</td>\n",
              "      <td>0.000</td>\n",
              "      <td>5.000</td>\n",
              "    </tr>\n",
              "    <tr>\n",
              "      <th>50%</th>\n",
              "      <td>15.000</td>\n",
              "      <td>31.000</td>\n",
              "      <td>11344.000</td>\n",
              "      <td>0.000</td>\n",
              "      <td>0.000</td>\n",
              "      <td>0.000</td>\n",
              "      <td>13.000</td>\n",
              "      <td>40.000</td>\n",
              "      <td>1.000</td>\n",
              "      <td>5.000</td>\n",
              "    </tr>\n",
              "    <tr>\n",
              "      <th>75%</th>\n",
              "      <td>24.000</td>\n",
              "      <td>47.000</td>\n",
              "      <td>16533.000</td>\n",
              "      <td>0.000</td>\n",
              "      <td>0.000</td>\n",
              "      <td>0.000</td>\n",
              "      <td>22.000</td>\n",
              "      <td>55.000</td>\n",
              "      <td>11.000</td>\n",
              "      <td>7.000</td>\n",
              "    </tr>\n",
              "    <tr>\n",
              "      <th>max</th>\n",
              "      <td>34.000</td>\n",
              "      <td>59.000</td>\n",
              "      <td>22169.000</td>\n",
              "      <td>1644.000</td>\n",
              "      <td>49782.000</td>\n",
              "      <td>57.000</td>\n",
              "      <td>30.000</td>\n",
              "      <td>83.000</td>\n",
              "      <td>34.000</td>\n",
              "      <td>9.000</td>\n",
              "    </tr>\n",
              "  </tbody>\n",
              "</table>\n",
              "</div>"
            ],
            "text/plain": [
              "       date_block_num     shop_id  ...  first_sale_date    category\n",
              "count     8856961.000 8856961.000  ...      8856961.000 8856961.000\n",
              "mean           16.019      31.019  ...            6.229       5.563\n",
              "std             9.977      17.923  ...            8.508       1.826\n",
              "min             0.000       2.000  ...            0.000       0.000\n",
              "25%             7.000      15.000  ...            0.000       5.000\n",
              "50%            15.000      31.000  ...            1.000       5.000\n",
              "75%            24.000      47.000  ...           11.000       7.000\n",
              "max            34.000      59.000  ...           34.000       9.000\n",
              "\n",
              "[8 rows x 10 columns]"
            ]
          },
          "metadata": {
            "tags": []
          },
          "execution_count": 44
        }
      ]
    },
    {
      "cell_type": "code",
      "metadata": {
        "id": "eWSA51RhJco6"
      },
      "source": [
        "# List of derived features containing 'item_id' in the grouping base features\n",
        "item_mean_features = []\n",
        "\n",
        "\n",
        "# Create monthly average sales derived features grouped by ['date_block_num', 'item_id']\n",
        "all_data, item_mean_features = add_mean_features(df=all_data,\n",
        "                                                 mean_features=item_mean_features,\n",
        "                                                 idx_features=['date_block_num', 'item_id'])"
      ],
      "execution_count": null,
      "outputs": []
    },
    {
      "cell_type": "code",
      "metadata": {
        "id": "ljY5Nsg6Wuzo"
      },
      "source": [
        ""
      ],
      "execution_count": null,
      "outputs": []
    },
    {
      "cell_type": "code",
      "metadata": {
        "colab": {
          "base_uri": "https://localhost:8080/"
        },
        "id": "zffVO81EJco7",
        "outputId": "02b604ea-f1ee-4a27-c7b4-ffd831263834"
      },
      "source": [
        "item_mean_features"
      ],
      "execution_count": null,
      "outputs": [
        {
          "output_type": "execute_result",
          "data": {
            "text/plain": [
              "['item_id_mean_sales']"
            ]
          },
          "metadata": {
            "tags": []
          },
          "execution_count": 46
        }
      ]
    },
    {
      "cell_type": "code",
      "metadata": {
        "colab": {
          "base_uri": "https://localhost:8080/",
          "height": 297
        },
        "id": "sWczGFlgJco8",
        "outputId": "5f222cd1-e8ab-4903-bd32-12af57067217"
      },
      "source": [
        "all_data.describe()"
      ],
      "execution_count": null,
      "outputs": [
        {
          "output_type": "execute_result",
          "data": {
            "text/html": [
              "<div>\n",
              "<style scoped>\n",
              "    .dataframe tbody tr th:only-of-type {\n",
              "        vertical-align: middle;\n",
              "    }\n",
              "\n",
              "    .dataframe tbody tr th {\n",
              "        vertical-align: top;\n",
              "    }\n",
              "\n",
              "    .dataframe thead th {\n",
              "        text-align: right;\n",
              "    }\n",
              "</style>\n",
              "<table border=\"1\" class=\"dataframe\">\n",
              "  <thead>\n",
              "    <tr style=\"text-align: right;\">\n",
              "      <th></th>\n",
              "      <th>date_block_num</th>\n",
              "      <th>shop_id</th>\n",
              "      <th>item_id</th>\n",
              "      <th>item_cnt_month</th>\n",
              "      <th>item_price_mean</th>\n",
              "      <th>item_count</th>\n",
              "      <th>city</th>\n",
              "      <th>item_category_id</th>\n",
              "      <th>first_sale_date</th>\n",
              "      <th>category</th>\n",
              "      <th>item_id_mean_sales</th>\n",
              "    </tr>\n",
              "  </thead>\n",
              "  <tbody>\n",
              "    <tr>\n",
              "      <th>count</th>\n",
              "      <td>8856961.000</td>\n",
              "      <td>8856961.000</td>\n",
              "      <td>8856961.000</td>\n",
              "      <td>8856961.000</td>\n",
              "      <td>8856961.000</td>\n",
              "      <td>8856961.000</td>\n",
              "      <td>8856961.000</td>\n",
              "      <td>8856961.000</td>\n",
              "      <td>8856961.000</td>\n",
              "      <td>8856961.000</td>\n",
              "      <td>8856961.000</td>\n",
              "    </tr>\n",
              "    <tr>\n",
              "      <th>mean</th>\n",
              "      <td>16.019</td>\n",
              "      <td>31.019</td>\n",
              "      <td>11250.661</td>\n",
              "      <td>0.341</td>\n",
              "      <td>121.119</td>\n",
              "      <td>0.274</td>\n",
              "      <td>15.208</td>\n",
              "      <td>44.834</td>\n",
              "      <td>6.229</td>\n",
              "      <td>5.563</td>\n",
              "      <td>0.330</td>\n",
              "    </tr>\n",
              "    <tr>\n",
              "      <th>std</th>\n",
              "      <td>9.977</td>\n",
              "      <td>17.923</td>\n",
              "      <td>6216.085</td>\n",
              "      <td>3.387</td>\n",
              "      <td>661.657</td>\n",
              "      <td>1.008</td>\n",
              "      <td>8.358</td>\n",
              "      <td>15.272</td>\n",
              "      <td>8.508</td>\n",
              "      <td>1.826</td>\n",
              "      <td>2.038</td>\n",
              "    </tr>\n",
              "    <tr>\n",
              "      <th>min</th>\n",
              "      <td>0.000</td>\n",
              "      <td>2.000</td>\n",
              "      <td>1.000</td>\n",
              "      <td>0.000</td>\n",
              "      <td>0.000</td>\n",
              "      <td>0.000</td>\n",
              "      <td>0.000</td>\n",
              "      <td>0.000</td>\n",
              "      <td>0.000</td>\n",
              "      <td>0.000</td>\n",
              "      <td>0.000</td>\n",
              "    </tr>\n",
              "    <tr>\n",
              "      <th>25%</th>\n",
              "      <td>7.000</td>\n",
              "      <td>15.000</td>\n",
              "      <td>5859.000</td>\n",
              "      <td>0.000</td>\n",
              "      <td>0.000</td>\n",
              "      <td>0.000</td>\n",
              "      <td>9.000</td>\n",
              "      <td>37.000</td>\n",
              "      <td>0.000</td>\n",
              "      <td>5.000</td>\n",
              "      <td>0.028</td>\n",
              "    </tr>\n",
              "    <tr>\n",
              "      <th>50%</th>\n",
              "      <td>15.000</td>\n",
              "      <td>31.000</td>\n",
              "      <td>11344.000</td>\n",
              "      <td>0.000</td>\n",
              "      <td>0.000</td>\n",
              "      <td>0.000</td>\n",
              "      <td>13.000</td>\n",
              "      <td>40.000</td>\n",
              "      <td>1.000</td>\n",
              "      <td>5.000</td>\n",
              "      <td>0.086</td>\n",
              "    </tr>\n",
              "    <tr>\n",
              "      <th>75%</th>\n",
              "      <td>24.000</td>\n",
              "      <td>47.000</td>\n",
              "      <td>16533.000</td>\n",
              "      <td>0.000</td>\n",
              "      <td>0.000</td>\n",
              "      <td>0.000</td>\n",
              "      <td>22.000</td>\n",
              "      <td>55.000</td>\n",
              "      <td>11.000</td>\n",
              "      <td>7.000</td>\n",
              "      <td>0.244</td>\n",
              "    </tr>\n",
              "    <tr>\n",
              "      <th>max</th>\n",
              "      <td>34.000</td>\n",
              "      <td>59.000</td>\n",
              "      <td>22169.000</td>\n",
              "      <td>1644.000</td>\n",
              "      <td>49782.000</td>\n",
              "      <td>57.000</td>\n",
              "      <td>30.000</td>\n",
              "      <td>83.000</td>\n",
              "      <td>34.000</td>\n",
              "      <td>9.000</td>\n",
              "      <td>267.868</td>\n",
              "    </tr>\n",
              "  </tbody>\n",
              "</table>\n",
              "</div>"
            ],
            "text/plain": [
              "       date_block_num     shop_id  ...    category  item_id_mean_sales\n",
              "count     8856961.000 8856961.000  ... 8856961.000         8856961.000\n",
              "mean           16.019      31.019  ...       5.563               0.330\n",
              "std             9.977      17.923  ...       1.826               2.038\n",
              "min             0.000       2.000  ...       0.000               0.000\n",
              "25%             7.000      15.000  ...       5.000               0.028\n",
              "50%            15.000      31.000  ...       5.000               0.086\n",
              "75%            24.000      47.000  ...       7.000               0.244\n",
              "max            34.000      59.000  ...       9.000             267.868\n",
              "\n",
              "[8 rows x 11 columns]"
            ]
          },
          "metadata": {
            "tags": []
          },
          "execution_count": 47
        }
      ]
    },
    {
      "cell_type": "code",
      "metadata": {
        "colab": {
          "base_uri": "https://localhost:8080/"
        },
        "id": "6uLILCbyJco9",
        "outputId": "c50db284-9ede-4149-f57b-b6b4d374af1c"
      },
      "source": [
        "# Create monthly average sales derived features grouped by ['date_block_num', 'item_id', 'city']\n",
        "all_data, item_mean_features = add_mean_features(df=all_data,\n",
        "                                                 mean_features=item_mean_features,\n",
        "                                                 idx_features=['date_block_num', 'item_id', 'city'])\n",
        "\n",
        "item_mean_features\n"
      ],
      "execution_count": null,
      "outputs": [
        {
          "output_type": "execute_result",
          "data": {
            "text/plain": [
              "['item_id_mean_sales', 'item_id_city_mean_sales']"
            ]
          },
          "metadata": {
            "tags": []
          },
          "execution_count": 48
        }
      ]
    },
    {
      "cell_type": "code",
      "metadata": {
        "colab": {
          "base_uri": "https://localhost:8080/"
        },
        "id": "1l_bZXFIJco9",
        "outputId": "1175b064-ce0b-45cc-e84c-277df81be480"
      },
      "source": [
        "# List of derived features containing 'shop_id' in the grouping base features\n",
        "shop_mean_features = []\n",
        "\n",
        "# Create monthly average sales derived features grouped by ['date_block_num', 'shop_id', 'item_category_id']\n",
        "all_data, shop_mean_features = add_mean_features(df=all_data, \n",
        "                                                 mean_features=shop_mean_features,\n",
        "                                                 idx_features=['date_block_num', 'shop_id', 'item_category_id'])\n",
        "shop_mean_features"
      ],
      "execution_count": null,
      "outputs": [
        {
          "output_type": "execute_result",
          "data": {
            "text/plain": [
              "['shop_id_item_category_id_mean_sales']"
            ]
          },
          "metadata": {
            "tags": []
          },
          "execution_count": 49
        }
      ]
    },
    {
      "cell_type": "code",
      "metadata": {
        "id": "GVMRTridJco-"
      },
      "source": [
        "#all_data, lag_features_to_clip = add_lag_features(df=all_data, \n",
        "#                                                  lag_features_to_clip=lag_features_to_clip,\n",
        "#                                                  idx_features=idx_features,\n",
        "#                                                  lag_feature='item_cnt_month', \n",
        "#                                                  nlags=3,\n",
        "#                                                  clip=True)\n",
        "\n",
        "\n",
        "\n",
        "def add_lag_features(df, lag_features_to_clip, idx_features, \n",
        "                     lag_feature, nlags=3, clip=False):\n",
        "    # Copy only the part of the DataFrame needed to create the lag features\n",
        "    df_temp = df[idx_features + [lag_feature]].copy() \n",
        "\n",
        "    # Create lag features\n",
        "    for i in range(1, nlags+1):\n",
        "        # Lag featrue name -> 'item_cnt_month'\n",
        "        lag_feature_name = lag_feature +'_lag' + str(i)\n",
        "        # Set df_temp column name --> ['date_block_num', 'shop_id', 'item_id'] + item_cnt_month\n",
        "        df_temp.columns = idx_features + [lag_feature_name]\n",
        "        # Add 1 to date_block_num feature in df_temp\n",
        "        df_temp['date_block_num'] += i\n",
        "       \n",
        "        \n",
        "        # Merge df with df_temp based on idx_feature\n",
        "        df = df.merge(df_temp.drop_duplicates(), \n",
        "                      on=idx_features, \n",
        "                      how='left')\n",
        "        # Replace NaN with 0\n",
        "        df[lag_feature_name] = df[lag_feature_name].fillna(0)\n",
        "        # Add lag features to lag_features_to_clip to clip between 0 and 20\n",
        "        if clip: \n",
        "            lag_features_to_clip.append(lag_feature_name)\n",
        "    # Date downcasting\n",
        "    df = downcast(df, False)\n",
        "    # Garbage collection\n",
        "    del df_temp\n",
        "    gc.collect()\n",
        "    \n",
        "    return df, lag_features_to_clip"
      ],
      "execution_count": null,
      "outputs": []
    },
    {
      "cell_type": "code",
      "metadata": {
        "colab": {
          "base_uri": "https://localhost:8080/"
        },
        "id": "loDRKS1NJco_",
        "outputId": "35829e2f-3941-42b4-d16d-3827a8b318e7"
      },
      "source": [
        "#idx_features = ['date_block_num', 'shop_id', 'item_id']\n",
        "\n",
        "lag_features_to_clip = [] # list of lag features to be clipped to between 0 to 20 \n",
        "idx_features = ['date_block_num', 'shop_id', 'item_id'] # base features\n",
        "# Create 3 month lag features of item_cnt_month based on idx_features\n",
        "\n",
        "all_data, lag_features_to_clip = add_lag_features(df=all_data, \n",
        "                                                  lag_features_to_clip=lag_features_to_clip,\n",
        "                                                  idx_features=idx_features,\n",
        "                                                  lag_feature='item_cnt_month', \n",
        "                                                  nlags=3,\n",
        "                                                  clip=True)\n",
        "all_data.head().T\n",
        "\n",
        "lag_features_to_clip"
      ],
      "execution_count": null,
      "outputs": [
        {
          "output_type": "execute_result",
          "data": {
            "text/plain": [
              "['item_cnt_month_lag1', 'item_cnt_month_lag2', 'item_cnt_month_lag3']"
            ]
          },
          "metadata": {
            "tags": []
          },
          "execution_count": 51
        }
      ]
    },
    {
      "cell_type": "code",
      "metadata": {
        "colab": {
          "base_uri": "https://localhost:8080/",
          "height": 546
        },
        "id": "MruZ_86zJcpA",
        "outputId": "d4008f1d-1013-405f-9579-a31f8193e301"
      },
      "source": [
        "all_data.head().T"
      ],
      "execution_count": null,
      "outputs": [
        {
          "output_type": "execute_result",
          "data": {
            "text/html": [
              "<div>\n",
              "<style scoped>\n",
              "    .dataframe tbody tr th:only-of-type {\n",
              "        vertical-align: middle;\n",
              "    }\n",
              "\n",
              "    .dataframe tbody tr th {\n",
              "        vertical-align: top;\n",
              "    }\n",
              "\n",
              "    .dataframe thead th {\n",
              "        text-align: right;\n",
              "    }\n",
              "</style>\n",
              "<table border=\"1\" class=\"dataframe\">\n",
              "  <thead>\n",
              "    <tr style=\"text-align: right;\">\n",
              "      <th></th>\n",
              "      <th>0</th>\n",
              "      <th>1</th>\n",
              "      <th>2</th>\n",
              "      <th>3</th>\n",
              "      <th>4</th>\n",
              "    </tr>\n",
              "  </thead>\n",
              "  <tbody>\n",
              "    <tr>\n",
              "      <th>date_block_num</th>\n",
              "      <td>0.000</td>\n",
              "      <td>0.000</td>\n",
              "      <td>0.000</td>\n",
              "      <td>0.000</td>\n",
              "      <td>0.000</td>\n",
              "    </tr>\n",
              "    <tr>\n",
              "      <th>shop_id</th>\n",
              "      <td>59.000</td>\n",
              "      <td>59.000</td>\n",
              "      <td>59.000</td>\n",
              "      <td>59.000</td>\n",
              "      <td>59.000</td>\n",
              "    </tr>\n",
              "    <tr>\n",
              "      <th>item_id</th>\n",
              "      <td>22154.000</td>\n",
              "      <td>2552.000</td>\n",
              "      <td>2554.000</td>\n",
              "      <td>2555.000</td>\n",
              "      <td>2564.000</td>\n",
              "    </tr>\n",
              "    <tr>\n",
              "      <th>item_cnt_month</th>\n",
              "      <td>1.000</td>\n",
              "      <td>0.000</td>\n",
              "      <td>0.000</td>\n",
              "      <td>0.000</td>\n",
              "      <td>0.000</td>\n",
              "    </tr>\n",
              "    <tr>\n",
              "      <th>item_price_mean</th>\n",
              "      <td>999.000</td>\n",
              "      <td>0.000</td>\n",
              "      <td>0.000</td>\n",
              "      <td>0.000</td>\n",
              "      <td>0.000</td>\n",
              "    </tr>\n",
              "    <tr>\n",
              "      <th>item_count</th>\n",
              "      <td>1.000</td>\n",
              "      <td>0.000</td>\n",
              "      <td>0.000</td>\n",
              "      <td>0.000</td>\n",
              "      <td>0.000</td>\n",
              "    </tr>\n",
              "    <tr>\n",
              "      <th>city</th>\n",
              "      <td>30.000</td>\n",
              "      <td>30.000</td>\n",
              "      <td>30.000</td>\n",
              "      <td>30.000</td>\n",
              "      <td>30.000</td>\n",
              "    </tr>\n",
              "    <tr>\n",
              "      <th>item_category_id</th>\n",
              "      <td>37.000</td>\n",
              "      <td>58.000</td>\n",
              "      <td>58.000</td>\n",
              "      <td>56.000</td>\n",
              "      <td>59.000</td>\n",
              "    </tr>\n",
              "    <tr>\n",
              "      <th>first_sale_date</th>\n",
              "      <td>0.000</td>\n",
              "      <td>0.000</td>\n",
              "      <td>0.000</td>\n",
              "      <td>0.000</td>\n",
              "      <td>0.000</td>\n",
              "    </tr>\n",
              "    <tr>\n",
              "      <th>category</th>\n",
              "      <td>5.000</td>\n",
              "      <td>7.000</td>\n",
              "      <td>7.000</td>\n",
              "      <td>7.000</td>\n",
              "      <td>7.000</td>\n",
              "    </tr>\n",
              "    <tr>\n",
              "      <th>item_id_mean_sales</th>\n",
              "      <td>0.457</td>\n",
              "      <td>0.029</td>\n",
              "      <td>0.029</td>\n",
              "      <td>0.029</td>\n",
              "      <td>0.143</td>\n",
              "    </tr>\n",
              "    <tr>\n",
              "      <th>item_id_city_mean_sales</th>\n",
              "      <td>1.000</td>\n",
              "      <td>0.000</td>\n",
              "      <td>0.000</td>\n",
              "      <td>0.000</td>\n",
              "      <td>0.000</td>\n",
              "    </tr>\n",
              "    <tr>\n",
              "      <th>shop_id_item_category_id_mean_sales</th>\n",
              "      <td>0.097</td>\n",
              "      <td>0.000</td>\n",
              "      <td>0.000</td>\n",
              "      <td>0.011</td>\n",
              "      <td>0.013</td>\n",
              "    </tr>\n",
              "    <tr>\n",
              "      <th>item_cnt_month_lag1</th>\n",
              "      <td>0.000</td>\n",
              "      <td>0.000</td>\n",
              "      <td>0.000</td>\n",
              "      <td>0.000</td>\n",
              "      <td>0.000</td>\n",
              "    </tr>\n",
              "    <tr>\n",
              "      <th>item_cnt_month_lag2</th>\n",
              "      <td>0.000</td>\n",
              "      <td>0.000</td>\n",
              "      <td>0.000</td>\n",
              "      <td>0.000</td>\n",
              "      <td>0.000</td>\n",
              "    </tr>\n",
              "    <tr>\n",
              "      <th>item_cnt_month_lag3</th>\n",
              "      <td>0.000</td>\n",
              "      <td>0.000</td>\n",
              "      <td>0.000</td>\n",
              "      <td>0.000</td>\n",
              "      <td>0.000</td>\n",
              "    </tr>\n",
              "  </tbody>\n",
              "</table>\n",
              "</div>"
            ],
            "text/plain": [
              "                                            0        1  ...        3        4\n",
              "date_block_num                          0.000    0.000  ...    0.000    0.000\n",
              "shop_id                                59.000   59.000  ...   59.000   59.000\n",
              "item_id                             22154.000 2552.000  ... 2555.000 2564.000\n",
              "item_cnt_month                          1.000    0.000  ...    0.000    0.000\n",
              "item_price_mean                       999.000    0.000  ...    0.000    0.000\n",
              "item_count                              1.000    0.000  ...    0.000    0.000\n",
              "city                                   30.000   30.000  ...   30.000   30.000\n",
              "item_category_id                       37.000   58.000  ...   56.000   59.000\n",
              "first_sale_date                         0.000    0.000  ...    0.000    0.000\n",
              "category                                5.000    7.000  ...    7.000    7.000\n",
              "item_id_mean_sales                      0.457    0.029  ...    0.029    0.143\n",
              "item_id_city_mean_sales                 1.000    0.000  ...    0.000    0.000\n",
              "shop_id_item_category_id_mean_sales     0.097    0.000  ...    0.011    0.013\n",
              "item_cnt_month_lag1                     0.000    0.000  ...    0.000    0.000\n",
              "item_cnt_month_lag2                     0.000    0.000  ...    0.000    0.000\n",
              "item_cnt_month_lag3                     0.000    0.000  ...    0.000    0.000\n",
              "\n",
              "[16 rows x 5 columns]"
            ]
          },
          "metadata": {
            "tags": []
          },
          "execution_count": 52
        }
      ]
    },
    {
      "cell_type": "code",
      "metadata": {
        "colab": {
          "base_uri": "https://localhost:8080/"
        },
        "id": "75e_CNVHJcpA",
        "outputId": "ff2600d6-1130-46c9-b978-b587d98ba65d"
      },
      "source": [
        "item_mean_features"
      ],
      "execution_count": null,
      "outputs": [
        {
          "output_type": "execute_result",
          "data": {
            "text/plain": [
              "['item_id_mean_sales', 'item_id_city_mean_sales']"
            ]
          },
          "metadata": {
            "tags": []
          },
          "execution_count": 53
        }
      ]
    },
    {
      "cell_type": "code",
      "metadata": {
        "colab": {
          "base_uri": "https://localhost:8080/"
        },
        "id": "LXN7yXaZJcpB",
        "outputId": "9ef43b1f-41d7-4cbb-e310-5b6001846a08"
      },
      "source": [
        "# Create 3 month lag features of item_count feature based on idx_features\n",
        "all_data, lag_features_to_clip = add_lag_features(df=all_data, \n",
        "                                                  lag_features_to_clip=lag_features_to_clip,\n",
        "                                                  idx_features=idx_features,\n",
        "                                                  lag_feature='item_count', \n",
        "                                                  nlags=3)\n",
        "\n",
        "# Create 3 month lag features of item_price_mean feature based on idx_features\n",
        "all_data, lag_features_to_clip = add_lag_features(df=all_data, \n",
        "                                                  lag_features_to_clip=lag_features_to_clip,\n",
        "                                                  idx_features=idx_features,\n",
        "                                                  lag_feature='item_price_mean', \n",
        "                                                  nlags=3)\n",
        "X_test_temp = all_data[all_data['date_block_num'] == 34]\n",
        "X_test_temp[item_mean_features].sum()"
      ],
      "execution_count": null,
      "outputs": [
        {
          "output_type": "execute_result",
          "data": {
            "text/plain": [
              "item_id_mean_sales        0.000\n",
              "item_id_city_mean_sales   0.000\n",
              "dtype: float32"
            ]
          },
          "metadata": {
            "tags": []
          },
          "execution_count": 54
        }
      ]
    },
    {
      "cell_type": "code",
      "metadata": {
        "colab": {
          "base_uri": "https://localhost:8080/",
          "height": 420
        },
        "id": "i4nU4ml3JcpC",
        "outputId": "c6c187da-6958-4aca-d2ab-189ec13a9946"
      },
      "source": [
        "X_test_temp[item_mean_features]"
      ],
      "execution_count": null,
      "outputs": [
        {
          "output_type": "execute_result",
          "data": {
            "text/html": [
              "<div>\n",
              "<style scoped>\n",
              "    .dataframe tbody tr th:only-of-type {\n",
              "        vertical-align: middle;\n",
              "    }\n",
              "\n",
              "    .dataframe tbody tr th {\n",
              "        vertical-align: top;\n",
              "    }\n",
              "\n",
              "    .dataframe thead th {\n",
              "        text-align: right;\n",
              "    }\n",
              "</style>\n",
              "<table border=\"1\" class=\"dataframe\">\n",
              "  <thead>\n",
              "    <tr style=\"text-align: right;\">\n",
              "      <th></th>\n",
              "      <th>item_id_mean_sales</th>\n",
              "      <th>item_id_city_mean_sales</th>\n",
              "    </tr>\n",
              "  </thead>\n",
              "  <tbody>\n",
              "    <tr>\n",
              "      <th>8642761</th>\n",
              "      <td>0.000</td>\n",
              "      <td>0.000</td>\n",
              "    </tr>\n",
              "    <tr>\n",
              "      <th>8642762</th>\n",
              "      <td>0.000</td>\n",
              "      <td>0.000</td>\n",
              "    </tr>\n",
              "    <tr>\n",
              "      <th>8642763</th>\n",
              "      <td>0.000</td>\n",
              "      <td>0.000</td>\n",
              "    </tr>\n",
              "    <tr>\n",
              "      <th>8642764</th>\n",
              "      <td>0.000</td>\n",
              "      <td>0.000</td>\n",
              "    </tr>\n",
              "    <tr>\n",
              "      <th>8642765</th>\n",
              "      <td>0.000</td>\n",
              "      <td>0.000</td>\n",
              "    </tr>\n",
              "    <tr>\n",
              "      <th>...</th>\n",
              "      <td>...</td>\n",
              "      <td>...</td>\n",
              "    </tr>\n",
              "    <tr>\n",
              "      <th>8856956</th>\n",
              "      <td>0.000</td>\n",
              "      <td>0.000</td>\n",
              "    </tr>\n",
              "    <tr>\n",
              "      <th>8856957</th>\n",
              "      <td>0.000</td>\n",
              "      <td>0.000</td>\n",
              "    </tr>\n",
              "    <tr>\n",
              "      <th>8856958</th>\n",
              "      <td>0.000</td>\n",
              "      <td>0.000</td>\n",
              "    </tr>\n",
              "    <tr>\n",
              "      <th>8856959</th>\n",
              "      <td>0.000</td>\n",
              "      <td>0.000</td>\n",
              "    </tr>\n",
              "    <tr>\n",
              "      <th>8856960</th>\n",
              "      <td>0.000</td>\n",
              "      <td>0.000</td>\n",
              "    </tr>\n",
              "  </tbody>\n",
              "</table>\n",
              "<p>214200 rows × 2 columns</p>\n",
              "</div>"
            ],
            "text/plain": [
              "         item_id_mean_sales  item_id_city_mean_sales\n",
              "8642761               0.000                    0.000\n",
              "8642762               0.000                    0.000\n",
              "8642763               0.000                    0.000\n",
              "8642764               0.000                    0.000\n",
              "8642765               0.000                    0.000\n",
              "...                     ...                      ...\n",
              "8856956               0.000                    0.000\n",
              "8856957               0.000                    0.000\n",
              "8856958               0.000                    0.000\n",
              "8856959               0.000                    0.000\n",
              "8856960               0.000                    0.000\n",
              "\n",
              "[214200 rows x 2 columns]"
            ]
          },
          "metadata": {
            "tags": []
          },
          "execution_count": 55
        }
      ]
    },
    {
      "cell_type": "code",
      "metadata": {
        "colab": {
          "base_uri": "https://localhost:8080/"
        },
        "id": "ENVpAKNsJcpC",
        "outputId": "7e5d76a7-3084-400f-ae8d-a518a23ab6c7"
      },
      "source": [
        "# Create lag features by item_mean_features element based on dx_features\n",
        "for item_mean_feature in item_mean_features:\n",
        "    all_data, lag_features_to_clip = add_lag_features(df=all_data, \n",
        "                                                      lag_features_to_clip=lag_features_to_clip, \n",
        "                                                      idx_features=idx_features, \n",
        "                                                      lag_feature=item_mean_feature, \n",
        "                                                      nlags=3)\n",
        "# Remove features in item_mean_features\n",
        "all_data = all_data.drop(item_mean_features, axis=1)\n",
        "shop_mean_features"
      ],
      "execution_count": null,
      "outputs": [
        {
          "output_type": "execute_result",
          "data": {
            "text/plain": [
              "['shop_id_item_category_id_mean_sales']"
            ]
          },
          "metadata": {
            "tags": []
          },
          "execution_count": 56
        }
      ]
    },
    {
      "cell_type": "code",
      "metadata": {
        "id": "w8ivC9zSJcpD"
      },
      "source": [
        "# Create lag features by shop_mean_features element based on ['date_block_num', 'shop_id', 'item_category_id']\n",
        "for shop_mean_feature in shop_mean_features:\n",
        "    all_data, lag_features_to_clip = add_lag_features(df=all_data,\n",
        "                                                      lag_features_to_clip=lag_features_to_clip, \n",
        "                                                      idx_features=['date_block_num', 'shop_id', 'item_category_id'], \n",
        "                                                      lag_feature=shop_mean_feature, \n",
        "                                                      nlags=3)"
      ],
      "execution_count": null,
      "outputs": []
    },
    {
      "cell_type": "code",
      "metadata": {
        "colab": {
          "base_uri": "https://localhost:8080/"
        },
        "id": "IVKT0-wrJcpE",
        "outputId": "304a90dc-3297-4d29-c009-ebda64308e9d"
      },
      "source": [
        "lag_features_to_clip"
      ],
      "execution_count": null,
      "outputs": [
        {
          "output_type": "execute_result",
          "data": {
            "text/plain": [
              "['item_cnt_month_lag1', 'item_cnt_month_lag2', 'item_cnt_month_lag3']"
            ]
          },
          "metadata": {
            "tags": []
          },
          "execution_count": 58
        }
      ]
    },
    {
      "cell_type": "code",
      "metadata": {
        "colab": {
          "base_uri": "https://localhost:8080/",
          "height": 224
        },
        "id": "N1ayThAxJcpE",
        "scrolled": true,
        "outputId": "ffe7461c-c9b6-4278-c84a-3b73772a4490"
      },
      "source": [
        "all_data.head()"
      ],
      "execution_count": null,
      "outputs": [
        {
          "output_type": "execute_result",
          "data": {
            "text/html": [
              "<div>\n",
              "<style scoped>\n",
              "    .dataframe tbody tr th:only-of-type {\n",
              "        vertical-align: middle;\n",
              "    }\n",
              "\n",
              "    .dataframe tbody tr th {\n",
              "        vertical-align: top;\n",
              "    }\n",
              "\n",
              "    .dataframe thead th {\n",
              "        text-align: right;\n",
              "    }\n",
              "</style>\n",
              "<table border=\"1\" class=\"dataframe\">\n",
              "  <thead>\n",
              "    <tr style=\"text-align: right;\">\n",
              "      <th></th>\n",
              "      <th>date_block_num</th>\n",
              "      <th>shop_id</th>\n",
              "      <th>item_id</th>\n",
              "      <th>item_cnt_month</th>\n",
              "      <th>item_price_mean</th>\n",
              "      <th>item_count</th>\n",
              "      <th>city</th>\n",
              "      <th>item_category_id</th>\n",
              "      <th>first_sale_date</th>\n",
              "      <th>category</th>\n",
              "      <th>shop_id_item_category_id_mean_sales</th>\n",
              "      <th>item_cnt_month_lag1</th>\n",
              "      <th>item_cnt_month_lag2</th>\n",
              "      <th>item_cnt_month_lag3</th>\n",
              "      <th>item_count_lag1</th>\n",
              "      <th>item_count_lag2</th>\n",
              "      <th>item_count_lag3</th>\n",
              "      <th>item_price_mean_lag1</th>\n",
              "      <th>item_price_mean_lag2</th>\n",
              "      <th>item_price_mean_lag3</th>\n",
              "      <th>item_id_mean_sales_lag1</th>\n",
              "      <th>item_id_mean_sales_lag2</th>\n",
              "      <th>item_id_mean_sales_lag3</th>\n",
              "      <th>item_id_city_mean_sales_lag1</th>\n",
              "      <th>item_id_city_mean_sales_lag2</th>\n",
              "      <th>item_id_city_mean_sales_lag3</th>\n",
              "      <th>shop_id_item_category_id_mean_sales_lag1</th>\n",
              "      <th>shop_id_item_category_id_mean_sales_lag2</th>\n",
              "      <th>shop_id_item_category_id_mean_sales_lag3</th>\n",
              "    </tr>\n",
              "  </thead>\n",
              "  <tbody>\n",
              "    <tr>\n",
              "      <th>0</th>\n",
              "      <td>0</td>\n",
              "      <td>59</td>\n",
              "      <td>22154</td>\n",
              "      <td>1</td>\n",
              "      <td>999.000</td>\n",
              "      <td>1</td>\n",
              "      <td>30</td>\n",
              "      <td>37</td>\n",
              "      <td>0</td>\n",
              "      <td>5</td>\n",
              "      <td>0.097</td>\n",
              "      <td>0</td>\n",
              "      <td>0</td>\n",
              "      <td>0</td>\n",
              "      <td>0</td>\n",
              "      <td>0</td>\n",
              "      <td>0</td>\n",
              "      <td>0.000</td>\n",
              "      <td>0.000</td>\n",
              "      <td>0.000</td>\n",
              "      <td>0.000</td>\n",
              "      <td>0.000</td>\n",
              "      <td>0.000</td>\n",
              "      <td>0.000</td>\n",
              "      <td>0.000</td>\n",
              "      <td>0.000</td>\n",
              "      <td>0.000</td>\n",
              "      <td>0.000</td>\n",
              "      <td>0.000</td>\n",
              "    </tr>\n",
              "    <tr>\n",
              "      <th>1</th>\n",
              "      <td>0</td>\n",
              "      <td>59</td>\n",
              "      <td>2552</td>\n",
              "      <td>0</td>\n",
              "      <td>0.000</td>\n",
              "      <td>0</td>\n",
              "      <td>30</td>\n",
              "      <td>58</td>\n",
              "      <td>0</td>\n",
              "      <td>7</td>\n",
              "      <td>0.000</td>\n",
              "      <td>0</td>\n",
              "      <td>0</td>\n",
              "      <td>0</td>\n",
              "      <td>0</td>\n",
              "      <td>0</td>\n",
              "      <td>0</td>\n",
              "      <td>0.000</td>\n",
              "      <td>0.000</td>\n",
              "      <td>0.000</td>\n",
              "      <td>0.000</td>\n",
              "      <td>0.000</td>\n",
              "      <td>0.000</td>\n",
              "      <td>0.000</td>\n",
              "      <td>0.000</td>\n",
              "      <td>0.000</td>\n",
              "      <td>0.000</td>\n",
              "      <td>0.000</td>\n",
              "      <td>0.000</td>\n",
              "    </tr>\n",
              "    <tr>\n",
              "      <th>2</th>\n",
              "      <td>0</td>\n",
              "      <td>59</td>\n",
              "      <td>2554</td>\n",
              "      <td>0</td>\n",
              "      <td>0.000</td>\n",
              "      <td>0</td>\n",
              "      <td>30</td>\n",
              "      <td>58</td>\n",
              "      <td>0</td>\n",
              "      <td>7</td>\n",
              "      <td>0.000</td>\n",
              "      <td>0</td>\n",
              "      <td>0</td>\n",
              "      <td>0</td>\n",
              "      <td>0</td>\n",
              "      <td>0</td>\n",
              "      <td>0</td>\n",
              "      <td>0.000</td>\n",
              "      <td>0.000</td>\n",
              "      <td>0.000</td>\n",
              "      <td>0.000</td>\n",
              "      <td>0.000</td>\n",
              "      <td>0.000</td>\n",
              "      <td>0.000</td>\n",
              "      <td>0.000</td>\n",
              "      <td>0.000</td>\n",
              "      <td>0.000</td>\n",
              "      <td>0.000</td>\n",
              "      <td>0.000</td>\n",
              "    </tr>\n",
              "    <tr>\n",
              "      <th>3</th>\n",
              "      <td>0</td>\n",
              "      <td>59</td>\n",
              "      <td>2555</td>\n",
              "      <td>0</td>\n",
              "      <td>0.000</td>\n",
              "      <td>0</td>\n",
              "      <td>30</td>\n",
              "      <td>56</td>\n",
              "      <td>0</td>\n",
              "      <td>7</td>\n",
              "      <td>0.011</td>\n",
              "      <td>0</td>\n",
              "      <td>0</td>\n",
              "      <td>0</td>\n",
              "      <td>0</td>\n",
              "      <td>0</td>\n",
              "      <td>0</td>\n",
              "      <td>0.000</td>\n",
              "      <td>0.000</td>\n",
              "      <td>0.000</td>\n",
              "      <td>0.000</td>\n",
              "      <td>0.000</td>\n",
              "      <td>0.000</td>\n",
              "      <td>0.000</td>\n",
              "      <td>0.000</td>\n",
              "      <td>0.000</td>\n",
              "      <td>0.000</td>\n",
              "      <td>0.000</td>\n",
              "      <td>0.000</td>\n",
              "    </tr>\n",
              "    <tr>\n",
              "      <th>4</th>\n",
              "      <td>0</td>\n",
              "      <td>59</td>\n",
              "      <td>2564</td>\n",
              "      <td>0</td>\n",
              "      <td>0.000</td>\n",
              "      <td>0</td>\n",
              "      <td>30</td>\n",
              "      <td>59</td>\n",
              "      <td>0</td>\n",
              "      <td>7</td>\n",
              "      <td>0.013</td>\n",
              "      <td>0</td>\n",
              "      <td>0</td>\n",
              "      <td>0</td>\n",
              "      <td>0</td>\n",
              "      <td>0</td>\n",
              "      <td>0</td>\n",
              "      <td>0.000</td>\n",
              "      <td>0.000</td>\n",
              "      <td>0.000</td>\n",
              "      <td>0.000</td>\n",
              "      <td>0.000</td>\n",
              "      <td>0.000</td>\n",
              "      <td>0.000</td>\n",
              "      <td>0.000</td>\n",
              "      <td>0.000</td>\n",
              "      <td>0.000</td>\n",
              "      <td>0.000</td>\n",
              "      <td>0.000</td>\n",
              "    </tr>\n",
              "  </tbody>\n",
              "</table>\n",
              "</div>"
            ],
            "text/plain": [
              "   date_block_num  ...  shop_id_item_category_id_mean_sales_lag3\n",
              "0               0  ...                                     0.000\n",
              "1               0  ...                                     0.000\n",
              "2               0  ...                                     0.000\n",
              "3               0  ...                                     0.000\n",
              "4               0  ...                                     0.000\n",
              "\n",
              "[5 rows x 29 columns]"
            ]
          },
          "metadata": {
            "tags": []
          },
          "execution_count": 59
        }
      ]
    },
    {
      "cell_type": "code",
      "metadata": {
        "colab": {
          "base_uri": "https://localhost:8080/"
        },
        "id": "4YqCEG0SJcpF",
        "outputId": "da6334d7-2238-4323-d25d-b7bffa0da5eb"
      },
      "source": [
        "all_data[all_data['date_block_num'] < 3].index"
      ],
      "execution_count": null,
      "outputs": [
        {
          "output_type": "execute_result",
          "data": {
            "text/plain": [
              "Int64Index([     0,      1,      2,      3,      4,      5,      6,      7,\n",
              "                 8,      9,\n",
              "            ...\n",
              "            827186, 827187, 827188, 827189, 827190, 827191, 827192, 827193,\n",
              "            827194, 827195],\n",
              "           dtype='int64', length=827196)"
            ]
          },
          "metadata": {
            "tags": []
          },
          "execution_count": 60
        }
      ]
    },
    {
      "cell_type": "code",
      "metadata": {
        "id": "uTgfPe13JcpF"
      },
      "source": [
        "# Remove features in shop_mean_features\n",
        "all_data = all_data.drop(shop_mean_features, axis=1)\n",
        "# Remove data less than date ID 3\n",
        "all_data = all_data.drop(all_data[all_data['date_block_num'] < 3].index)\n",
        "\n",
        "all_data['item_cnt_month_lag_mean'] = all_data[['item_cnt_month_lag1',\n",
        "                                         'item_cnt_month_lag2', \n",
        "                                         'item_cnt_month_lag3']].mean(axis=1)"
      ],
      "execution_count": null,
      "outputs": []
    },
    {
      "cell_type": "code",
      "metadata": {
        "colab": {
          "base_uri": "https://localhost:8080/",
          "height": 420
        },
        "id": "abx_aTNvJcpG",
        "outputId": "c889b0b8-0d32-48e2-a20b-842bb86844c3"
      },
      "source": [
        "all_data[['item_cnt_month_lag1', 'item_cnt_month_lag2', 'item_cnt_month_lag3','item_cnt_month']]"
      ],
      "execution_count": null,
      "outputs": [
        {
          "output_type": "execute_result",
          "data": {
            "text/html": [
              "<div>\n",
              "<style scoped>\n",
              "    .dataframe tbody tr th:only-of-type {\n",
              "        vertical-align: middle;\n",
              "    }\n",
              "\n",
              "    .dataframe tbody tr th {\n",
              "        vertical-align: top;\n",
              "    }\n",
              "\n",
              "    .dataframe thead th {\n",
              "        text-align: right;\n",
              "    }\n",
              "</style>\n",
              "<table border=\"1\" class=\"dataframe\">\n",
              "  <thead>\n",
              "    <tr style=\"text-align: right;\">\n",
              "      <th></th>\n",
              "      <th>item_cnt_month_lag1</th>\n",
              "      <th>item_cnt_month_lag2</th>\n",
              "      <th>item_cnt_month_lag3</th>\n",
              "      <th>item_cnt_month</th>\n",
              "    </tr>\n",
              "  </thead>\n",
              "  <tbody>\n",
              "    <tr>\n",
              "      <th>827196</th>\n",
              "      <td>1</td>\n",
              "      <td>4</td>\n",
              "      <td>0</td>\n",
              "      <td>3</td>\n",
              "    </tr>\n",
              "    <tr>\n",
              "      <th>827197</th>\n",
              "      <td>5</td>\n",
              "      <td>6</td>\n",
              "      <td>0</td>\n",
              "      <td>3</td>\n",
              "    </tr>\n",
              "    <tr>\n",
              "      <th>827198</th>\n",
              "      <td>0</td>\n",
              "      <td>0</td>\n",
              "      <td>0</td>\n",
              "      <td>3</td>\n",
              "    </tr>\n",
              "    <tr>\n",
              "      <th>827199</th>\n",
              "      <td>1</td>\n",
              "      <td>0</td>\n",
              "      <td>0</td>\n",
              "      <td>1</td>\n",
              "    </tr>\n",
              "    <tr>\n",
              "      <th>827200</th>\n",
              "      <td>0</td>\n",
              "      <td>0</td>\n",
              "      <td>0</td>\n",
              "      <td>1</td>\n",
              "    </tr>\n",
              "    <tr>\n",
              "      <th>...</th>\n",
              "      <td>...</td>\n",
              "      <td>...</td>\n",
              "      <td>...</td>\n",
              "      <td>...</td>\n",
              "    </tr>\n",
              "    <tr>\n",
              "      <th>8856956</th>\n",
              "      <td>1</td>\n",
              "      <td>0</td>\n",
              "      <td>0</td>\n",
              "      <td>0</td>\n",
              "    </tr>\n",
              "    <tr>\n",
              "      <th>8856957</th>\n",
              "      <td>0</td>\n",
              "      <td>0</td>\n",
              "      <td>0</td>\n",
              "      <td>0</td>\n",
              "    </tr>\n",
              "    <tr>\n",
              "      <th>8856958</th>\n",
              "      <td>0</td>\n",
              "      <td>0</td>\n",
              "      <td>0</td>\n",
              "      <td>0</td>\n",
              "    </tr>\n",
              "    <tr>\n",
              "      <th>8856959</th>\n",
              "      <td>0</td>\n",
              "      <td>0</td>\n",
              "      <td>0</td>\n",
              "      <td>0</td>\n",
              "    </tr>\n",
              "    <tr>\n",
              "      <th>8856960</th>\n",
              "      <td>0</td>\n",
              "      <td>0</td>\n",
              "      <td>0</td>\n",
              "      <td>0</td>\n",
              "    </tr>\n",
              "  </tbody>\n",
              "</table>\n",
              "<p>8029765 rows × 4 columns</p>\n",
              "</div>"
            ],
            "text/plain": [
              "         item_cnt_month_lag1  ...  item_cnt_month\n",
              "827196                     1  ...               3\n",
              "827197                     5  ...               3\n",
              "827198                     0  ...               3\n",
              "827199                     1  ...               1\n",
              "827200                     0  ...               1\n",
              "...                      ...  ...             ...\n",
              "8856956                    1  ...               0\n",
              "8856957                    0  ...               0\n",
              "8856958                    0  ...               0\n",
              "8856959                    0  ...               0\n",
              "8856960                    0  ...               0\n",
              "\n",
              "[8029765 rows x 4 columns]"
            ]
          },
          "metadata": {
            "tags": []
          },
          "execution_count": 62
        }
      ]
    },
    {
      "cell_type": "code",
      "metadata": {
        "colab": {
          "base_uri": "https://localhost:8080/"
        },
        "id": "3CYs3NwbJcpG",
        "outputId": "1607a67e-5eb5-40a1-e810-52627146a496"
      },
      "source": [
        "all_data['date_block_num']"
      ],
      "execution_count": null,
      "outputs": [
        {
          "output_type": "execute_result",
          "data": {
            "text/plain": [
              "827196      3\n",
              "827197      3\n",
              "827198      3\n",
              "827199      3\n",
              "827200      3\n",
              "           ..\n",
              "8856956    34\n",
              "8856957    34\n",
              "8856958    34\n",
              "8856959    34\n",
              "8856960    34\n",
              "Name: date_block_num, Length: 8029765, dtype: int8"
            ]
          },
          "metadata": {
            "tags": []
          },
          "execution_count": 63
        }
      ]
    },
    {
      "cell_type": "code",
      "metadata": {
        "colab": {
          "base_uri": "https://localhost:8080/"
        },
        "id": "SXbzGbh8JcpH",
        "outputId": "54ece6c2-9bf4-4cd3-acd6-ed918d9b55eb"
      },
      "source": [
        "# Clip 0~20\n",
        "all_data[lag_features_to_clip + ['item_cnt_month', 'item_cnt_month_lag_mean']] = all_data[lag_features_to_clip +['item_cnt_month', 'item_cnt_month_lag_mean']].clip(0, 20)\n",
        "all_data['lag_grad1'] = all_data['item_cnt_month_lag1']/all_data['item_cnt_month_lag2']\n",
        "all_data['lag_grad1'] = all_data['lag_grad1'].replace([np.inf, -np.inf], \n",
        "                                                        np.nan).fillna(0)\n",
        "\n",
        "all_data['lag_grad2'] = all_data['item_cnt_month_lag2']/all_data['item_cnt_month_lag3']\n",
        "all_data['lag_grad2'] = all_data['lag_grad2'].replace([np.inf, -np.inf], \n",
        "                                                        np.nan).fillna(0)\n",
        "all_data['brand_new'] = all_data['first_sale_date'] == all_data['date_block_num']\n",
        "\n",
        "all_data['duration_after_first_sale'] = all_data['date_block_num'] - all_data['first_sale_date']\n",
        "all_data = all_data.drop('first_sale_date', axis=1)\n",
        "all_data['month'] = all_data['date_block_num']%12\n",
        "# Remove item_price_mean, item_count features\n",
        "all_data = all_data.drop(['item_price_mean', 'item_count'], axis=1)\n",
        "all_data = downcast(all_data, False) # Data downcasting\n",
        "all_data.info()"
      ],
      "execution_count": null,
      "outputs": [
        {
          "output_type": "stream",
          "text": [
            "<class 'pandas.core.frame.DataFrame'>\n",
            "Int64Index: 8029765 entries, 827196 to 8856960\n",
            "Data columns (total 31 columns):\n",
            " #   Column                                    Dtype  \n",
            "---  ------                                    -----  \n",
            " 0   date_block_num                            int8   \n",
            " 1   shop_id                                   int8   \n",
            " 2   item_id                                   int16  \n",
            " 3   item_cnt_month                            int8   \n",
            " 4   city                                      int8   \n",
            " 5   item_category_id                          int8   \n",
            " 6   category                                  int8   \n",
            " 7   item_cnt_month_lag1                       int8   \n",
            " 8   item_cnt_month_lag2                       int8   \n",
            " 9   item_cnt_month_lag3                       int8   \n",
            " 10  item_count_lag1                           int8   \n",
            " 11  item_count_lag2                           int8   \n",
            " 12  item_count_lag3                           int8   \n",
            " 13  item_price_mean_lag1                      float32\n",
            " 14  item_price_mean_lag2                      float32\n",
            " 15  item_price_mean_lag3                      float32\n",
            " 16  item_id_mean_sales_lag1                   float32\n",
            " 17  item_id_mean_sales_lag2                   float32\n",
            " 18  item_id_mean_sales_lag3                   float32\n",
            " 19  item_id_city_mean_sales_lag1              float32\n",
            " 20  item_id_city_mean_sales_lag2              float32\n",
            " 21  item_id_city_mean_sales_lag3              float32\n",
            " 22  shop_id_item_category_id_mean_sales_lag1  float32\n",
            " 23  shop_id_item_category_id_mean_sales_lag2  float32\n",
            " 24  shop_id_item_category_id_mean_sales_lag3  float32\n",
            " 25  item_cnt_month_lag_mean                   float32\n",
            " 26  lag_grad1                                 float32\n",
            " 27  lag_grad2                                 float32\n",
            " 28  brand_new                                 int8   \n",
            " 29  duration_after_first_sale                 int8   \n",
            " 30  month                                     int8   \n",
            "dtypes: float32(15), int16(1), int8(15)\n",
            "memory usage: 650.9 MB\n"
          ],
          "name": "stdout"
        }
      ]
    },
    {
      "cell_type": "code",
      "metadata": {
        "colab": {
          "base_uri": "https://localhost:8080/",
          "height": 440
        },
        "id": "x5lhl7d4JcpI",
        "outputId": "e8e7bb95-e3d0-44fe-aaec-408b7d61ec0b"
      },
      "source": [
        "all_data"
      ],
      "execution_count": null,
      "outputs": [
        {
          "output_type": "execute_result",
          "data": {
            "text/html": [
              "<div>\n",
              "<style scoped>\n",
              "    .dataframe tbody tr th:only-of-type {\n",
              "        vertical-align: middle;\n",
              "    }\n",
              "\n",
              "    .dataframe tbody tr th {\n",
              "        vertical-align: top;\n",
              "    }\n",
              "\n",
              "    .dataframe thead th {\n",
              "        text-align: right;\n",
              "    }\n",
              "</style>\n",
              "<table border=\"1\" class=\"dataframe\">\n",
              "  <thead>\n",
              "    <tr style=\"text-align: right;\">\n",
              "      <th></th>\n",
              "      <th>date_block_num</th>\n",
              "      <th>shop_id</th>\n",
              "      <th>item_id</th>\n",
              "      <th>item_cnt_month</th>\n",
              "      <th>city</th>\n",
              "      <th>item_category_id</th>\n",
              "      <th>category</th>\n",
              "      <th>item_cnt_month_lag1</th>\n",
              "      <th>item_cnt_month_lag2</th>\n",
              "      <th>item_cnt_month_lag3</th>\n",
              "      <th>item_count_lag1</th>\n",
              "      <th>item_count_lag2</th>\n",
              "      <th>item_count_lag3</th>\n",
              "      <th>item_price_mean_lag1</th>\n",
              "      <th>item_price_mean_lag2</th>\n",
              "      <th>item_price_mean_lag3</th>\n",
              "      <th>item_id_mean_sales_lag1</th>\n",
              "      <th>item_id_mean_sales_lag2</th>\n",
              "      <th>item_id_mean_sales_lag3</th>\n",
              "      <th>item_id_city_mean_sales_lag1</th>\n",
              "      <th>item_id_city_mean_sales_lag2</th>\n",
              "      <th>item_id_city_mean_sales_lag3</th>\n",
              "      <th>shop_id_item_category_id_mean_sales_lag1</th>\n",
              "      <th>shop_id_item_category_id_mean_sales_lag2</th>\n",
              "      <th>shop_id_item_category_id_mean_sales_lag3</th>\n",
              "      <th>item_cnt_month_lag_mean</th>\n",
              "      <th>lag_grad1</th>\n",
              "      <th>lag_grad2</th>\n",
              "      <th>brand_new</th>\n",
              "      <th>duration_after_first_sale</th>\n",
              "      <th>month</th>\n",
              "    </tr>\n",
              "  </thead>\n",
              "  <tbody>\n",
              "    <tr>\n",
              "      <th>827196</th>\n",
              "      <td>3</td>\n",
              "      <td>25</td>\n",
              "      <td>8092</td>\n",
              "      <td>3</td>\n",
              "      <td>13</td>\n",
              "      <td>40</td>\n",
              "      <td>5</td>\n",
              "      <td>1</td>\n",
              "      <td>4</td>\n",
              "      <td>0</td>\n",
              "      <td>1</td>\n",
              "      <td>4</td>\n",
              "      <td>0</td>\n",
              "      <td>149.000</td>\n",
              "      <td>149.000</td>\n",
              "      <td>0.000</td>\n",
              "      <td>0.667</td>\n",
              "      <td>1.429</td>\n",
              "      <td>0.000</td>\n",
              "      <td>1.000</td>\n",
              "      <td>2.143</td>\n",
              "      <td>0.000</td>\n",
              "      <td>1.087</td>\n",
              "      <td>1.049</td>\n",
              "      <td>0.000</td>\n",
              "      <td>1.667</td>\n",
              "      <td>0.250</td>\n",
              "      <td>0.000</td>\n",
              "      <td>0</td>\n",
              "      <td>3</td>\n",
              "      <td>3</td>\n",
              "    </tr>\n",
              "    <tr>\n",
              "      <th>827197</th>\n",
              "      <td>3</td>\n",
              "      <td>25</td>\n",
              "      <td>7850</td>\n",
              "      <td>3</td>\n",
              "      <td>13</td>\n",
              "      <td>30</td>\n",
              "      <td>3</td>\n",
              "      <td>5</td>\n",
              "      <td>6</td>\n",
              "      <td>0</td>\n",
              "      <td>4</td>\n",
              "      <td>5</td>\n",
              "      <td>0</td>\n",
              "      <td>199.000</td>\n",
              "      <td>199.000</td>\n",
              "      <td>0.000</td>\n",
              "      <td>2.000</td>\n",
              "      <td>3.114</td>\n",
              "      <td>0.000</td>\n",
              "      <td>3.714</td>\n",
              "      <td>2.286</td>\n",
              "      <td>0.000</td>\n",
              "      <td>3.654</td>\n",
              "      <td>2.279</td>\n",
              "      <td>0.000</td>\n",
              "      <td>3.667</td>\n",
              "      <td>0.833</td>\n",
              "      <td>0.000</td>\n",
              "      <td>0</td>\n",
              "      <td>3</td>\n",
              "      <td>3</td>\n",
              "    </tr>\n",
              "    <tr>\n",
              "      <th>827198</th>\n",
              "      <td>3</td>\n",
              "      <td>25</td>\n",
              "      <td>8051</td>\n",
              "      <td>3</td>\n",
              "      <td>13</td>\n",
              "      <td>66</td>\n",
              "      <td>8</td>\n",
              "      <td>0</td>\n",
              "      <td>0</td>\n",
              "      <td>0</td>\n",
              "      <td>0</td>\n",
              "      <td>0</td>\n",
              "      <td>0</td>\n",
              "      <td>0.000</td>\n",
              "      <td>0.000</td>\n",
              "      <td>0.000</td>\n",
              "      <td>0.028</td>\n",
              "      <td>0.086</td>\n",
              "      <td>0.000</td>\n",
              "      <td>0.000</td>\n",
              "      <td>0.429</td>\n",
              "      <td>0.000</td>\n",
              "      <td>1.828</td>\n",
              "      <td>1.389</td>\n",
              "      <td>0.000</td>\n",
              "      <td>0.000</td>\n",
              "      <td>0.000</td>\n",
              "      <td>0.000</td>\n",
              "      <td>0</td>\n",
              "      <td>3</td>\n",
              "      <td>3</td>\n",
              "    </tr>\n",
              "    <tr>\n",
              "      <th>827199</th>\n",
              "      <td>3</td>\n",
              "      <td>25</td>\n",
              "      <td>8088</td>\n",
              "      <td>1</td>\n",
              "      <td>13</td>\n",
              "      <td>55</td>\n",
              "      <td>7</td>\n",
              "      <td>1</td>\n",
              "      <td>0</td>\n",
              "      <td>0</td>\n",
              "      <td>1</td>\n",
              "      <td>0</td>\n",
              "      <td>0</td>\n",
              "      <td>199.000</td>\n",
              "      <td>0.000</td>\n",
              "      <td>0.000</td>\n",
              "      <td>0.111</td>\n",
              "      <td>0.086</td>\n",
              "      <td>0.000</td>\n",
              "      <td>0.286</td>\n",
              "      <td>0.000</td>\n",
              "      <td>0.000</td>\n",
              "      <td>0.600</td>\n",
              "      <td>0.562</td>\n",
              "      <td>0.000</td>\n",
              "      <td>0.333</td>\n",
              "      <td>0.000</td>\n",
              "      <td>0.000</td>\n",
              "      <td>0</td>\n",
              "      <td>3</td>\n",
              "      <td>3</td>\n",
              "    </tr>\n",
              "    <tr>\n",
              "      <th>827200</th>\n",
              "      <td>3</td>\n",
              "      <td>25</td>\n",
              "      <td>8089</td>\n",
              "      <td>1</td>\n",
              "      <td>13</td>\n",
              "      <td>55</td>\n",
              "      <td>7</td>\n",
              "      <td>0</td>\n",
              "      <td>0</td>\n",
              "      <td>0</td>\n",
              "      <td>0</td>\n",
              "      <td>0</td>\n",
              "      <td>0</td>\n",
              "      <td>0.000</td>\n",
              "      <td>0.000</td>\n",
              "      <td>0.000</td>\n",
              "      <td>0.361</td>\n",
              "      <td>0.200</td>\n",
              "      <td>0.000</td>\n",
              "      <td>0.571</td>\n",
              "      <td>0.000</td>\n",
              "      <td>0.000</td>\n",
              "      <td>0.600</td>\n",
              "      <td>0.562</td>\n",
              "      <td>0.000</td>\n",
              "      <td>0.000</td>\n",
              "      <td>0.000</td>\n",
              "      <td>0.000</td>\n",
              "      <td>0</td>\n",
              "      <td>3</td>\n",
              "      <td>3</td>\n",
              "    </tr>\n",
              "    <tr>\n",
              "      <th>...</th>\n",
              "      <td>...</td>\n",
              "      <td>...</td>\n",
              "      <td>...</td>\n",
              "      <td>...</td>\n",
              "      <td>...</td>\n",
              "      <td>...</td>\n",
              "      <td>...</td>\n",
              "      <td>...</td>\n",
              "      <td>...</td>\n",
              "      <td>...</td>\n",
              "      <td>...</td>\n",
              "      <td>...</td>\n",
              "      <td>...</td>\n",
              "      <td>...</td>\n",
              "      <td>...</td>\n",
              "      <td>...</td>\n",
              "      <td>...</td>\n",
              "      <td>...</td>\n",
              "      <td>...</td>\n",
              "      <td>...</td>\n",
              "      <td>...</td>\n",
              "      <td>...</td>\n",
              "      <td>...</td>\n",
              "      <td>...</td>\n",
              "      <td>...</td>\n",
              "      <td>...</td>\n",
              "      <td>...</td>\n",
              "      <td>...</td>\n",
              "      <td>...</td>\n",
              "      <td>...</td>\n",
              "      <td>...</td>\n",
              "    </tr>\n",
              "    <tr>\n",
              "      <th>8856956</th>\n",
              "      <td>34</td>\n",
              "      <td>45</td>\n",
              "      <td>18454</td>\n",
              "      <td>0</td>\n",
              "      <td>20</td>\n",
              "      <td>55</td>\n",
              "      <td>7</td>\n",
              "      <td>1</td>\n",
              "      <td>0</td>\n",
              "      <td>0</td>\n",
              "      <td>1</td>\n",
              "      <td>0</td>\n",
              "      <td>0</td>\n",
              "      <td>99.000</td>\n",
              "      <td>0.000</td>\n",
              "      <td>0.000</td>\n",
              "      <td>0.048</td>\n",
              "      <td>0.073</td>\n",
              "      <td>0.585</td>\n",
              "      <td>0.500</td>\n",
              "      <td>0.000</td>\n",
              "      <td>0.000</td>\n",
              "      <td>0.127</td>\n",
              "      <td>0.106</td>\n",
              "      <td>0.128</td>\n",
              "      <td>0.333</td>\n",
              "      <td>0.000</td>\n",
              "      <td>0.000</td>\n",
              "      <td>0</td>\n",
              "      <td>11</td>\n",
              "      <td>10</td>\n",
              "    </tr>\n",
              "    <tr>\n",
              "      <th>8856957</th>\n",
              "      <td>34</td>\n",
              "      <td>45</td>\n",
              "      <td>16188</td>\n",
              "      <td>0</td>\n",
              "      <td>20</td>\n",
              "      <td>64</td>\n",
              "      <td>8</td>\n",
              "      <td>0</td>\n",
              "      <td>0</td>\n",
              "      <td>0</td>\n",
              "      <td>0</td>\n",
              "      <td>0</td>\n",
              "      <td>0</td>\n",
              "      <td>0.000</td>\n",
              "      <td>0.000</td>\n",
              "      <td>0.000</td>\n",
              "      <td>0.024</td>\n",
              "      <td>0.000</td>\n",
              "      <td>0.000</td>\n",
              "      <td>0.000</td>\n",
              "      <td>0.000</td>\n",
              "      <td>0.000</td>\n",
              "      <td>0.094</td>\n",
              "      <td>0.220</td>\n",
              "      <td>0.102</td>\n",
              "      <td>0.000</td>\n",
              "      <td>0.000</td>\n",
              "      <td>0.000</td>\n",
              "      <td>0</td>\n",
              "      <td>2</td>\n",
              "      <td>10</td>\n",
              "    </tr>\n",
              "    <tr>\n",
              "      <th>8856958</th>\n",
              "      <td>34</td>\n",
              "      <td>45</td>\n",
              "      <td>15757</td>\n",
              "      <td>0</td>\n",
              "      <td>20</td>\n",
              "      <td>55</td>\n",
              "      <td>7</td>\n",
              "      <td>0</td>\n",
              "      <td>0</td>\n",
              "      <td>0</td>\n",
              "      <td>0</td>\n",
              "      <td>0</td>\n",
              "      <td>0</td>\n",
              "      <td>0.000</td>\n",
              "      <td>0.000</td>\n",
              "      <td>0.000</td>\n",
              "      <td>0.119</td>\n",
              "      <td>0.098</td>\n",
              "      <td>0.244</td>\n",
              "      <td>0.000</td>\n",
              "      <td>0.000</td>\n",
              "      <td>0.000</td>\n",
              "      <td>0.127</td>\n",
              "      <td>0.106</td>\n",
              "      <td>0.128</td>\n",
              "      <td>0.000</td>\n",
              "      <td>0.000</td>\n",
              "      <td>0.000</td>\n",
              "      <td>0</td>\n",
              "      <td>34</td>\n",
              "      <td>10</td>\n",
              "    </tr>\n",
              "    <tr>\n",
              "      <th>8856959</th>\n",
              "      <td>34</td>\n",
              "      <td>45</td>\n",
              "      <td>19648</td>\n",
              "      <td>0</td>\n",
              "      <td>20</td>\n",
              "      <td>40</td>\n",
              "      <td>5</td>\n",
              "      <td>0</td>\n",
              "      <td>0</td>\n",
              "      <td>0</td>\n",
              "      <td>0</td>\n",
              "      <td>0</td>\n",
              "      <td>0</td>\n",
              "      <td>0.000</td>\n",
              "      <td>0.000</td>\n",
              "      <td>0.000</td>\n",
              "      <td>0.048</td>\n",
              "      <td>0.146</td>\n",
              "      <td>0.098</td>\n",
              "      <td>0.000</td>\n",
              "      <td>0.000</td>\n",
              "      <td>0.000</td>\n",
              "      <td>0.084</td>\n",
              "      <td>0.112</td>\n",
              "      <td>0.083</td>\n",
              "      <td>0.000</td>\n",
              "      <td>0.000</td>\n",
              "      <td>0.000</td>\n",
              "      <td>0</td>\n",
              "      <td>11</td>\n",
              "      <td>10</td>\n",
              "    </tr>\n",
              "    <tr>\n",
              "      <th>8856960</th>\n",
              "      <td>34</td>\n",
              "      <td>45</td>\n",
              "      <td>969</td>\n",
              "      <td>0</td>\n",
              "      <td>20</td>\n",
              "      <td>37</td>\n",
              "      <td>5</td>\n",
              "      <td>0</td>\n",
              "      <td>0</td>\n",
              "      <td>0</td>\n",
              "      <td>0</td>\n",
              "      <td>0</td>\n",
              "      <td>0</td>\n",
              "      <td>0.000</td>\n",
              "      <td>0.000</td>\n",
              "      <td>0.000</td>\n",
              "      <td>0.071</td>\n",
              "      <td>0.024</td>\n",
              "      <td>0.049</td>\n",
              "      <td>0.500</td>\n",
              "      <td>0.000</td>\n",
              "      <td>0.000</td>\n",
              "      <td>0.128</td>\n",
              "      <td>0.124</td>\n",
              "      <td>0.094</td>\n",
              "      <td>0.000</td>\n",
              "      <td>0.000</td>\n",
              "      <td>0.000</td>\n",
              "      <td>0</td>\n",
              "      <td>17</td>\n",
              "      <td>10</td>\n",
              "    </tr>\n",
              "  </tbody>\n",
              "</table>\n",
              "<p>8029765 rows × 31 columns</p>\n",
              "</div>"
            ],
            "text/plain": [
              "         date_block_num  shop_id  ...  duration_after_first_sale  month\n",
              "827196                3       25  ...                          3      3\n",
              "827197                3       25  ...                          3      3\n",
              "827198                3       25  ...                          3      3\n",
              "827199                3       25  ...                          3      3\n",
              "827200                3       25  ...                          3      3\n",
              "...                 ...      ...  ...                        ...    ...\n",
              "8856956              34       45  ...                         11     10\n",
              "8856957              34       45  ...                          2     10\n",
              "8856958              34       45  ...                         34     10\n",
              "8856959              34       45  ...                         11     10\n",
              "8856960              34       45  ...                         17     10\n",
              "\n",
              "[8029765 rows x 31 columns]"
            ]
          },
          "metadata": {
            "tags": []
          },
          "execution_count": 65
        }
      ]
    },
    {
      "cell_type": "code",
      "metadata": {
        "colab": {
          "base_uri": "https://localhost:8080/"
        },
        "id": "ulY57s5_JcpI",
        "outputId": "d4b3cadd-f6ea-4237-e2f0-da507af03d74"
      },
      "source": [
        "np.shape(all_data)"
      ],
      "execution_count": null,
      "outputs": [
        {
          "output_type": "execute_result",
          "data": {
            "text/plain": [
              "(8029765, 31)"
            ]
          },
          "metadata": {
            "tags": []
          },
          "execution_count": 66
        }
      ]
    },
    {
      "cell_type": "code",
      "metadata": {
        "colab": {
          "base_uri": "https://localhost:8080/"
        },
        "id": "dMcJrhxXJcpJ",
        "outputId": "6b2fce91-15ab-42ed-a4c5-a53e5d7ff953"
      },
      "source": [
        "len(all_data[all_data['date_block_num'] == 33])"
      ],
      "execution_count": null,
      "outputs": [
        {
          "output_type": "execute_result",
          "data": {
            "text/plain": [
              "221718"
            ]
          },
          "metadata": {
            "tags": []
          },
          "execution_count": 67
        }
      ]
    },
    {
      "cell_type": "code",
      "metadata": {
        "colab": {
          "base_uri": "https://localhost:8080/"
        },
        "id": "GCy7GV7zJcpK",
        "outputId": "4b33ee46-0e16-4e8a-cb44-188ad9c8e052"
      },
      "source": [
        "len(all_data[all_data['date_block_num'] == 34])"
      ],
      "execution_count": null,
      "outputs": [
        {
          "output_type": "execute_result",
          "data": {
            "text/plain": [
              "214200"
            ]
          },
          "metadata": {
            "tags": []
          },
          "execution_count": 68
        }
      ]
    },
    {
      "cell_type": "code",
      "metadata": {
        "colab": {
          "base_uri": "https://localhost:8080/"
        },
        "id": "3o4rpiWTJcpK",
        "outputId": "3f805ca9-cdaf-4bb6-8aa4-dd331f97d709"
      },
      "source": [
        "len(all_data[all_data['date_block_num'] == 34])"
      ],
      "execution_count": null,
      "outputs": [
        {
          "output_type": "execute_result",
          "data": {
            "text/plain": [
              "214200"
            ]
          },
          "metadata": {
            "tags": []
          },
          "execution_count": 69
        }
      ]
    },
    {
      "cell_type": "code",
      "metadata": {
        "colab": {
          "base_uri": "https://localhost:8080/",
          "height": 440
        },
        "id": "By2CZ4ndVZta",
        "outputId": "e44a9da8-b06a-4cc9-93c2-ae1a87ae8d1a"
      },
      "source": [
        "all_data"
      ],
      "execution_count": null,
      "outputs": [
        {
          "output_type": "execute_result",
          "data": {
            "text/html": [
              "<div>\n",
              "<style scoped>\n",
              "    .dataframe tbody tr th:only-of-type {\n",
              "        vertical-align: middle;\n",
              "    }\n",
              "\n",
              "    .dataframe tbody tr th {\n",
              "        vertical-align: top;\n",
              "    }\n",
              "\n",
              "    .dataframe thead th {\n",
              "        text-align: right;\n",
              "    }\n",
              "</style>\n",
              "<table border=\"1\" class=\"dataframe\">\n",
              "  <thead>\n",
              "    <tr style=\"text-align: right;\">\n",
              "      <th></th>\n",
              "      <th>date_block_num</th>\n",
              "      <th>shop_id</th>\n",
              "      <th>item_id</th>\n",
              "      <th>item_cnt_month</th>\n",
              "      <th>city</th>\n",
              "      <th>item_category_id</th>\n",
              "      <th>category</th>\n",
              "      <th>item_cnt_month_lag1</th>\n",
              "      <th>item_cnt_month_lag2</th>\n",
              "      <th>item_cnt_month_lag3</th>\n",
              "      <th>item_count_lag1</th>\n",
              "      <th>item_count_lag2</th>\n",
              "      <th>item_count_lag3</th>\n",
              "      <th>item_price_mean_lag1</th>\n",
              "      <th>item_price_mean_lag2</th>\n",
              "      <th>item_price_mean_lag3</th>\n",
              "      <th>item_id_mean_sales_lag1</th>\n",
              "      <th>item_id_mean_sales_lag2</th>\n",
              "      <th>item_id_mean_sales_lag3</th>\n",
              "      <th>item_id_city_mean_sales_lag1</th>\n",
              "      <th>item_id_city_mean_sales_lag2</th>\n",
              "      <th>item_id_city_mean_sales_lag3</th>\n",
              "      <th>shop_id_item_category_id_mean_sales_lag1</th>\n",
              "      <th>shop_id_item_category_id_mean_sales_lag2</th>\n",
              "      <th>shop_id_item_category_id_mean_sales_lag3</th>\n",
              "      <th>item_cnt_month_lag_mean</th>\n",
              "      <th>lag_grad1</th>\n",
              "      <th>lag_grad2</th>\n",
              "      <th>brand_new</th>\n",
              "      <th>duration_after_first_sale</th>\n",
              "      <th>month</th>\n",
              "    </tr>\n",
              "  </thead>\n",
              "  <tbody>\n",
              "    <tr>\n",
              "      <th>827196</th>\n",
              "      <td>3</td>\n",
              "      <td>25</td>\n",
              "      <td>8092</td>\n",
              "      <td>3</td>\n",
              "      <td>13</td>\n",
              "      <td>40</td>\n",
              "      <td>5</td>\n",
              "      <td>1</td>\n",
              "      <td>4</td>\n",
              "      <td>0</td>\n",
              "      <td>1</td>\n",
              "      <td>4</td>\n",
              "      <td>0</td>\n",
              "      <td>149.000</td>\n",
              "      <td>149.000</td>\n",
              "      <td>0.000</td>\n",
              "      <td>0.667</td>\n",
              "      <td>1.429</td>\n",
              "      <td>0.000</td>\n",
              "      <td>1.000</td>\n",
              "      <td>2.143</td>\n",
              "      <td>0.000</td>\n",
              "      <td>1.087</td>\n",
              "      <td>1.049</td>\n",
              "      <td>0.000</td>\n",
              "      <td>1.667</td>\n",
              "      <td>0.250</td>\n",
              "      <td>0.000</td>\n",
              "      <td>0</td>\n",
              "      <td>3</td>\n",
              "      <td>3</td>\n",
              "    </tr>\n",
              "    <tr>\n",
              "      <th>827197</th>\n",
              "      <td>3</td>\n",
              "      <td>25</td>\n",
              "      <td>7850</td>\n",
              "      <td>3</td>\n",
              "      <td>13</td>\n",
              "      <td>30</td>\n",
              "      <td>3</td>\n",
              "      <td>5</td>\n",
              "      <td>6</td>\n",
              "      <td>0</td>\n",
              "      <td>4</td>\n",
              "      <td>5</td>\n",
              "      <td>0</td>\n",
              "      <td>199.000</td>\n",
              "      <td>199.000</td>\n",
              "      <td>0.000</td>\n",
              "      <td>2.000</td>\n",
              "      <td>3.114</td>\n",
              "      <td>0.000</td>\n",
              "      <td>3.714</td>\n",
              "      <td>2.286</td>\n",
              "      <td>0.000</td>\n",
              "      <td>3.654</td>\n",
              "      <td>2.279</td>\n",
              "      <td>0.000</td>\n",
              "      <td>3.667</td>\n",
              "      <td>0.833</td>\n",
              "      <td>0.000</td>\n",
              "      <td>0</td>\n",
              "      <td>3</td>\n",
              "      <td>3</td>\n",
              "    </tr>\n",
              "    <tr>\n",
              "      <th>827198</th>\n",
              "      <td>3</td>\n",
              "      <td>25</td>\n",
              "      <td>8051</td>\n",
              "      <td>3</td>\n",
              "      <td>13</td>\n",
              "      <td>66</td>\n",
              "      <td>8</td>\n",
              "      <td>0</td>\n",
              "      <td>0</td>\n",
              "      <td>0</td>\n",
              "      <td>0</td>\n",
              "      <td>0</td>\n",
              "      <td>0</td>\n",
              "      <td>0.000</td>\n",
              "      <td>0.000</td>\n",
              "      <td>0.000</td>\n",
              "      <td>0.028</td>\n",
              "      <td>0.086</td>\n",
              "      <td>0.000</td>\n",
              "      <td>0.000</td>\n",
              "      <td>0.429</td>\n",
              "      <td>0.000</td>\n",
              "      <td>1.828</td>\n",
              "      <td>1.389</td>\n",
              "      <td>0.000</td>\n",
              "      <td>0.000</td>\n",
              "      <td>0.000</td>\n",
              "      <td>0.000</td>\n",
              "      <td>0</td>\n",
              "      <td>3</td>\n",
              "      <td>3</td>\n",
              "    </tr>\n",
              "    <tr>\n",
              "      <th>827199</th>\n",
              "      <td>3</td>\n",
              "      <td>25</td>\n",
              "      <td>8088</td>\n",
              "      <td>1</td>\n",
              "      <td>13</td>\n",
              "      <td>55</td>\n",
              "      <td>7</td>\n",
              "      <td>1</td>\n",
              "      <td>0</td>\n",
              "      <td>0</td>\n",
              "      <td>1</td>\n",
              "      <td>0</td>\n",
              "      <td>0</td>\n",
              "      <td>199.000</td>\n",
              "      <td>0.000</td>\n",
              "      <td>0.000</td>\n",
              "      <td>0.111</td>\n",
              "      <td>0.086</td>\n",
              "      <td>0.000</td>\n",
              "      <td>0.286</td>\n",
              "      <td>0.000</td>\n",
              "      <td>0.000</td>\n",
              "      <td>0.600</td>\n",
              "      <td>0.562</td>\n",
              "      <td>0.000</td>\n",
              "      <td>0.333</td>\n",
              "      <td>0.000</td>\n",
              "      <td>0.000</td>\n",
              "      <td>0</td>\n",
              "      <td>3</td>\n",
              "      <td>3</td>\n",
              "    </tr>\n",
              "    <tr>\n",
              "      <th>827200</th>\n",
              "      <td>3</td>\n",
              "      <td>25</td>\n",
              "      <td>8089</td>\n",
              "      <td>1</td>\n",
              "      <td>13</td>\n",
              "      <td>55</td>\n",
              "      <td>7</td>\n",
              "      <td>0</td>\n",
              "      <td>0</td>\n",
              "      <td>0</td>\n",
              "      <td>0</td>\n",
              "      <td>0</td>\n",
              "      <td>0</td>\n",
              "      <td>0.000</td>\n",
              "      <td>0.000</td>\n",
              "      <td>0.000</td>\n",
              "      <td>0.361</td>\n",
              "      <td>0.200</td>\n",
              "      <td>0.000</td>\n",
              "      <td>0.571</td>\n",
              "      <td>0.000</td>\n",
              "      <td>0.000</td>\n",
              "      <td>0.600</td>\n",
              "      <td>0.562</td>\n",
              "      <td>0.000</td>\n",
              "      <td>0.000</td>\n",
              "      <td>0.000</td>\n",
              "      <td>0.000</td>\n",
              "      <td>0</td>\n",
              "      <td>3</td>\n",
              "      <td>3</td>\n",
              "    </tr>\n",
              "    <tr>\n",
              "      <th>...</th>\n",
              "      <td>...</td>\n",
              "      <td>...</td>\n",
              "      <td>...</td>\n",
              "      <td>...</td>\n",
              "      <td>...</td>\n",
              "      <td>...</td>\n",
              "      <td>...</td>\n",
              "      <td>...</td>\n",
              "      <td>...</td>\n",
              "      <td>...</td>\n",
              "      <td>...</td>\n",
              "      <td>...</td>\n",
              "      <td>...</td>\n",
              "      <td>...</td>\n",
              "      <td>...</td>\n",
              "      <td>...</td>\n",
              "      <td>...</td>\n",
              "      <td>...</td>\n",
              "      <td>...</td>\n",
              "      <td>...</td>\n",
              "      <td>...</td>\n",
              "      <td>...</td>\n",
              "      <td>...</td>\n",
              "      <td>...</td>\n",
              "      <td>...</td>\n",
              "      <td>...</td>\n",
              "      <td>...</td>\n",
              "      <td>...</td>\n",
              "      <td>...</td>\n",
              "      <td>...</td>\n",
              "      <td>...</td>\n",
              "    </tr>\n",
              "    <tr>\n",
              "      <th>8856956</th>\n",
              "      <td>34</td>\n",
              "      <td>45</td>\n",
              "      <td>18454</td>\n",
              "      <td>0</td>\n",
              "      <td>20</td>\n",
              "      <td>55</td>\n",
              "      <td>7</td>\n",
              "      <td>1</td>\n",
              "      <td>0</td>\n",
              "      <td>0</td>\n",
              "      <td>1</td>\n",
              "      <td>0</td>\n",
              "      <td>0</td>\n",
              "      <td>99.000</td>\n",
              "      <td>0.000</td>\n",
              "      <td>0.000</td>\n",
              "      <td>0.048</td>\n",
              "      <td>0.073</td>\n",
              "      <td>0.585</td>\n",
              "      <td>0.500</td>\n",
              "      <td>0.000</td>\n",
              "      <td>0.000</td>\n",
              "      <td>0.127</td>\n",
              "      <td>0.106</td>\n",
              "      <td>0.128</td>\n",
              "      <td>0.333</td>\n",
              "      <td>0.000</td>\n",
              "      <td>0.000</td>\n",
              "      <td>0</td>\n",
              "      <td>11</td>\n",
              "      <td>10</td>\n",
              "    </tr>\n",
              "    <tr>\n",
              "      <th>8856957</th>\n",
              "      <td>34</td>\n",
              "      <td>45</td>\n",
              "      <td>16188</td>\n",
              "      <td>0</td>\n",
              "      <td>20</td>\n",
              "      <td>64</td>\n",
              "      <td>8</td>\n",
              "      <td>0</td>\n",
              "      <td>0</td>\n",
              "      <td>0</td>\n",
              "      <td>0</td>\n",
              "      <td>0</td>\n",
              "      <td>0</td>\n",
              "      <td>0.000</td>\n",
              "      <td>0.000</td>\n",
              "      <td>0.000</td>\n",
              "      <td>0.024</td>\n",
              "      <td>0.000</td>\n",
              "      <td>0.000</td>\n",
              "      <td>0.000</td>\n",
              "      <td>0.000</td>\n",
              "      <td>0.000</td>\n",
              "      <td>0.094</td>\n",
              "      <td>0.220</td>\n",
              "      <td>0.102</td>\n",
              "      <td>0.000</td>\n",
              "      <td>0.000</td>\n",
              "      <td>0.000</td>\n",
              "      <td>0</td>\n",
              "      <td>2</td>\n",
              "      <td>10</td>\n",
              "    </tr>\n",
              "    <tr>\n",
              "      <th>8856958</th>\n",
              "      <td>34</td>\n",
              "      <td>45</td>\n",
              "      <td>15757</td>\n",
              "      <td>0</td>\n",
              "      <td>20</td>\n",
              "      <td>55</td>\n",
              "      <td>7</td>\n",
              "      <td>0</td>\n",
              "      <td>0</td>\n",
              "      <td>0</td>\n",
              "      <td>0</td>\n",
              "      <td>0</td>\n",
              "      <td>0</td>\n",
              "      <td>0.000</td>\n",
              "      <td>0.000</td>\n",
              "      <td>0.000</td>\n",
              "      <td>0.119</td>\n",
              "      <td>0.098</td>\n",
              "      <td>0.244</td>\n",
              "      <td>0.000</td>\n",
              "      <td>0.000</td>\n",
              "      <td>0.000</td>\n",
              "      <td>0.127</td>\n",
              "      <td>0.106</td>\n",
              "      <td>0.128</td>\n",
              "      <td>0.000</td>\n",
              "      <td>0.000</td>\n",
              "      <td>0.000</td>\n",
              "      <td>0</td>\n",
              "      <td>34</td>\n",
              "      <td>10</td>\n",
              "    </tr>\n",
              "    <tr>\n",
              "      <th>8856959</th>\n",
              "      <td>34</td>\n",
              "      <td>45</td>\n",
              "      <td>19648</td>\n",
              "      <td>0</td>\n",
              "      <td>20</td>\n",
              "      <td>40</td>\n",
              "      <td>5</td>\n",
              "      <td>0</td>\n",
              "      <td>0</td>\n",
              "      <td>0</td>\n",
              "      <td>0</td>\n",
              "      <td>0</td>\n",
              "      <td>0</td>\n",
              "      <td>0.000</td>\n",
              "      <td>0.000</td>\n",
              "      <td>0.000</td>\n",
              "      <td>0.048</td>\n",
              "      <td>0.146</td>\n",
              "      <td>0.098</td>\n",
              "      <td>0.000</td>\n",
              "      <td>0.000</td>\n",
              "      <td>0.000</td>\n",
              "      <td>0.084</td>\n",
              "      <td>0.112</td>\n",
              "      <td>0.083</td>\n",
              "      <td>0.000</td>\n",
              "      <td>0.000</td>\n",
              "      <td>0.000</td>\n",
              "      <td>0</td>\n",
              "      <td>11</td>\n",
              "      <td>10</td>\n",
              "    </tr>\n",
              "    <tr>\n",
              "      <th>8856960</th>\n",
              "      <td>34</td>\n",
              "      <td>45</td>\n",
              "      <td>969</td>\n",
              "      <td>0</td>\n",
              "      <td>20</td>\n",
              "      <td>37</td>\n",
              "      <td>5</td>\n",
              "      <td>0</td>\n",
              "      <td>0</td>\n",
              "      <td>0</td>\n",
              "      <td>0</td>\n",
              "      <td>0</td>\n",
              "      <td>0</td>\n",
              "      <td>0.000</td>\n",
              "      <td>0.000</td>\n",
              "      <td>0.000</td>\n",
              "      <td>0.071</td>\n",
              "      <td>0.024</td>\n",
              "      <td>0.049</td>\n",
              "      <td>0.500</td>\n",
              "      <td>0.000</td>\n",
              "      <td>0.000</td>\n",
              "      <td>0.128</td>\n",
              "      <td>0.124</td>\n",
              "      <td>0.094</td>\n",
              "      <td>0.000</td>\n",
              "      <td>0.000</td>\n",
              "      <td>0.000</td>\n",
              "      <td>0</td>\n",
              "      <td>17</td>\n",
              "      <td>10</td>\n",
              "    </tr>\n",
              "  </tbody>\n",
              "</table>\n",
              "<p>8029765 rows × 31 columns</p>\n",
              "</div>"
            ],
            "text/plain": [
              "         date_block_num  shop_id  ...  duration_after_first_sale  month\n",
              "827196                3       25  ...                          3      3\n",
              "827197                3       25  ...                          3      3\n",
              "827198                3       25  ...                          3      3\n",
              "827199                3       25  ...                          3      3\n",
              "827200                3       25  ...                          3      3\n",
              "...                 ...      ...  ...                        ...    ...\n",
              "8856956              34       45  ...                         11     10\n",
              "8856957              34       45  ...                          2     10\n",
              "8856958              34       45  ...                         34     10\n",
              "8856959              34       45  ...                         11     10\n",
              "8856960              34       45  ...                         17     10\n",
              "\n",
              "[8029765 rows x 31 columns]"
            ]
          },
          "metadata": {
            "tags": []
          },
          "execution_count": 70
        }
      ]
    },
    {
      "cell_type": "code",
      "metadata": {
        "id": "Xe1y0zbkJcpL"
      },
      "source": [
        "# Train data (Features)\n",
        "X_train = all_data[all_data['date_block_num'] < 33]\n",
        "X_train = X_train.drop(['item_cnt_month'], axis=1)\n",
        "# Valid data (Features)\n",
        "X_valid = all_data[all_data['date_block_num'] == 33]\n",
        "X_valid = X_valid.drop(['item_cnt_month'], axis=1)\n",
        "# Test data (Features)\n",
        "X_test = all_data[all_data['date_block_num'] == 34]\n",
        "X_test = X_test.drop(['item_cnt_month'], axis=1)\n",
        "\n",
        "# Train data (Target values)\n",
        "y_train = all_data[all_data['date_block_num'] < 33]['item_cnt_month']\n",
        "# Valid data (Target values)\n",
        "y_valid = all_data[all_data['date_block_num'] == 33]['item_cnt_month']\n"
      ],
      "execution_count": null,
      "outputs": []
    },
    {
      "cell_type": "markdown",
      "metadata": {
        "id": "eRgNaUfSirrg"
      },
      "source": [
        "## Models"
      ]
    },
    {
      "cell_type": "markdown",
      "metadata": {
        "id": "XD1Hl-0cinQp"
      },
      "source": [
        "### LightGBM"
      ]
    },
    {
      "cell_type": "code",
      "metadata": {
        "colab": {
          "base_uri": "https://localhost:8080/"
        },
        "id": "kbWRQuHHJcpL",
        "outputId": "d43be5e2-64c5-41bf-c9da-f4d24b6f3951"
      },
      "source": [
        "import lightgbm as lgb\n",
        "\n",
        "# lgb hyper-parameters\n",
        "params = {'boosting_type': 'gbdt',\n",
        "          'metric': 'rmse',\n",
        "          'num_leaves': 255,\n",
        "          'learning_rate': 0.005,\n",
        "          'feature_fraction': 0.75,\n",
        "          'bagging_fraction': 0.75,\n",
        "          'bagging_freq': 5,\n",
        "          'force_col_wise' : True,\n",
        "          'random_state': 10}\n",
        "\n",
        "cat_features = ['shop_id', 'city', 'item_category_id', 'category', 'month']\n",
        "\n",
        "# lgb train and valid dataset\n",
        "dtrain = lgb.Dataset(X_train, y_train)\n",
        "dvalid = lgb.Dataset(X_valid, y_valid)\n",
        "\n",
        "\n",
        "# Train LightGBM model\n",
        "lgb_model = lgb.train(params=params,\n",
        "                     train_set=dtrain,\n",
        "                     num_boost_round=1500,\n",
        "                     valid_sets=(dtrain, dvalid),\n",
        "                     early_stopping_rounds=150,\n",
        "                     categorical_feature=cat_features,\n",
        "                     verbose_eval=100)      \n",
        "\n",
        "lgb_preds = lgb_model.predict(X_test).clip(0,20)\n",
        "\n",
        "submission['item_cnt_month'] = lgb_preds\n",
        "submission.to_csv('lgb_submission3.csv', index=False) # 0.88398\n"
      ],
      "execution_count": null,
      "outputs": [
        {
          "output_type": "stream",
          "text": [
            "Training until validation scores don't improve for 150 rounds.\n",
            "[100]\ttraining's rmse: 1.01972\tvalid_1's rmse: 0.913804\n",
            "[200]\ttraining's rmse: 0.915315\tvalid_1's rmse: 0.841459\n",
            "[300]\ttraining's rmse: 0.862754\tvalid_1's rmse: 0.811887\n",
            "[400]\ttraining's rmse: 0.83372\tvalid_1's rmse: 0.799976\n",
            "[500]\ttraining's rmse: 0.814621\tvalid_1's rmse: 0.795288\n",
            "[600]\ttraining's rmse: 0.801147\tvalid_1's rmse: 0.793271\n",
            "[700]\ttraining's rmse: 0.791165\tvalid_1's rmse: 0.7925\n",
            "[800]\ttraining's rmse: 0.782658\tvalid_1's rmse: 0.791469\n",
            "[900]\ttraining's rmse: 0.775554\tvalid_1's rmse: 0.791208\n",
            "[1000]\ttraining's rmse: 0.769241\tvalid_1's rmse: 0.790887\n",
            "[1100]\ttraining's rmse: 0.764101\tvalid_1's rmse: 0.790754\n",
            "[1200]\ttraining's rmse: 0.759672\tvalid_1's rmse: 0.790942\n",
            "Early stopping, best iteration is:\n",
            "[1112]\ttraining's rmse: 0.763529\tvalid_1's rmse: 0.790725\n"
          ],
          "name": "stdout"
        }
      ]
    },
    {
      "cell_type": "markdown",
      "metadata": {
        "id": "T68pf3pjoF7G"
      },
      "source": [
        "### Catboost"
      ]
    },
    {
      "cell_type": "code",
      "metadata": {
        "colab": {
          "base_uri": "https://localhost:8080/"
        },
        "id": "mMdqqURuoepV",
        "outputId": "5910ce3e-43d8-4391-b117-e7fe1bd52801"
      },
      "source": [
        "!pip install catboost"
      ],
      "execution_count": null,
      "outputs": [
        {
          "output_type": "stream",
          "text": [
            "Requirement already satisfied: catboost in /usr/local/lib/python3.7/dist-packages (0.26)\n",
            "Requirement already satisfied: six in /usr/local/lib/python3.7/dist-packages (from catboost) (1.15.0)\n",
            "Requirement already satisfied: graphviz in /usr/local/lib/python3.7/dist-packages (from catboost) (0.10.1)\n",
            "Requirement already satisfied: scipy in /usr/local/lib/python3.7/dist-packages (from catboost) (1.4.1)\n",
            "Requirement already satisfied: matplotlib in /usr/local/lib/python3.7/dist-packages (from catboost) (3.2.2)\n",
            "Requirement already satisfied: pandas>=0.24.0 in /usr/local/lib/python3.7/dist-packages (from catboost) (1.1.5)\n",
            "Requirement already satisfied: numpy>=1.16.0 in /usr/local/lib/python3.7/dist-packages (from catboost) (1.19.5)\n",
            "Requirement already satisfied: plotly in /usr/local/lib/python3.7/dist-packages (from catboost) (4.4.1)\n",
            "Requirement already satisfied: pyparsing!=2.0.4,!=2.1.2,!=2.1.6,>=2.0.1 in /usr/local/lib/python3.7/dist-packages (from matplotlib->catboost) (2.4.7)\n",
            "Requirement already satisfied: kiwisolver>=1.0.1 in /usr/local/lib/python3.7/dist-packages (from matplotlib->catboost) (1.3.1)\n",
            "Requirement already satisfied: python-dateutil>=2.1 in /usr/local/lib/python3.7/dist-packages (from matplotlib->catboost) (2.8.1)\n",
            "Requirement already satisfied: cycler>=0.10 in /usr/local/lib/python3.7/dist-packages (from matplotlib->catboost) (0.10.0)\n",
            "Requirement already satisfied: pytz>=2017.2 in /usr/local/lib/python3.7/dist-packages (from pandas>=0.24.0->catboost) (2018.9)\n",
            "Requirement already satisfied: retrying>=1.3.3 in /usr/local/lib/python3.7/dist-packages (from plotly->catboost) (1.3.3)\n"
          ],
          "name": "stdout"
        }
      ]
    },
    {
      "cell_type": "code",
      "metadata": {
        "colab": {
          "base_uri": "https://localhost:8080/"
        },
        "id": "seY3MVpAcy5C",
        "outputId": "ee9ce4c5-bd9e-40fa-b55c-38ac84f74464"
      },
      "source": [
        "%%time\n",
        "from catboost import CatBoostRegressor\n",
        "from sklearn.metrics import mean_squared_error\n",
        "\n",
        "model_catboost = CatBoostRegressor(verbose=False, random_seed=566)\n",
        "\n",
        "\n",
        "model_catboost.fit(X_train,y_train);\n",
        "prediction_catboost = model_catboost.predict(X_valid)\n",
        "print(mean_squared_error(y_valid, prediction_catboost, squared=False))"
      ],
      "execution_count": null,
      "outputs": [
        {
          "output_type": "stream",
          "text": [
            "0.8097263823150711\n",
            "CPU times: user 33min, sys: 4.14 s, total: 33min 4s\n",
            "Wall time: 16min 59s\n"
          ],
          "name": "stdout"
        }
      ]
    },
    {
      "cell_type": "code",
      "metadata": {
        "id": "WOKQO4HspxhA"
      },
      "source": [
        "# prediction = model_catboost.predict(X_test)\n",
        "# prediction_catboost = prediction\n",
        "\n",
        "# submission = pd.DataFrame({\n",
        "#     \"ID\": np.arange(prediction.shape[0]), \n",
        "#     \"item_cnt_month\": prediction.clip(0, 20)\n",
        "# })\n",
        "# submission.to_csv('submission_catboost.csv', index=False)"
      ],
      "execution_count": null,
      "outputs": []
    },
    {
      "cell_type": "markdown",
      "metadata": {
        "id": "0eBhgSWooEWu"
      },
      "source": [
        "### Neural Network\n"
      ]
    },
    {
      "cell_type": "code",
      "metadata": {
        "colab": {
          "base_uri": "https://localhost:8080/"
        },
        "id": "mLClmKddn9we",
        "outputId": "60fd4650-bcc8-4d45-a6db-26c2e938bf92"
      },
      "source": [
        "import numpy as np\n",
        "import pandas as pd\n",
        "from sklearn.metrics import mean_squared_error\n",
        "from keras.models import Model\n",
        "from keras.layers import Input, Dense, Dropout\n",
        "from keras.regularizers import l2, l1\n",
        "from keras.optimizers import RMSprop, Adam\n",
        "#from tensorflow import set_random_seed\n",
        "import tensorflow as tf    \n",
        "\n",
        "np.random.seed(566)\n",
        "\n",
        "# define model\n",
        "def Sales_prediction_model(input_shape):\n",
        "    in_layer = Input(input_shape)\n",
        "    x = Dense(16,kernel_initializer='RandomUniform', kernel_regularizer=l2(0.02), activation = \"relu\")(in_layer)\n",
        "    x = Dense(8, kernel_initializer='RandomUniform', kernel_regularizer=l2(0.02), activation = \"relu\")(x)\n",
        "    x = Dense(1, kernel_initializer='RandomUniform', kernel_regularizer=l2(0.02), activation = \"relu\")(x)\n",
        "    \n",
        "    model = Model(inputs = in_layer, outputs = x, name='Sales_prediction_model')\n",
        "    return model\n",
        "\n",
        "# NN cannot take missing values, fill NaN with 0.\n",
        "X_train2 = X_train.fillna(0)\n",
        "X_valid2 = X_valid.fillna(0)\n",
        "X_test2 = X_test.fillna(0)\n",
        "\n",
        "# We do no feature scaling here. \n",
        "# Some features like 'item_avg_sale_last_6' are already scaled in feature engineering part.\n",
        "\n",
        "input_shape = [X_train2.shape[1]]\n",
        "model_nn = Sales_prediction_model(input_shape)\n",
        "model_nn.compile(optimizer = Adam(lr=0.0005) , loss = [\"mse\"], metrics=['mse'])\n",
        "model_nn.fit(X_train2, y_train, validation_data = (X_valid2, y_valid), batch_size = 10000, epochs=5)\n",
        "\n",
        "\n",
        "prediction_nn = model_nn.predict(X_valid2)\n",
        "print(mean_squared_error(y_valid, prediction_nn, squared=False))"
      ],
      "execution_count": null,
      "outputs": [
        {
          "output_type": "stream",
          "text": [
            "Epoch 1/5\n",
            "760/760 [==============================] - 17s 6ms/step - loss: 1.3911 - mse: 1.3675 - val_loss: 1.1787 - val_mse: 1.0995\n",
            "Epoch 2/5\n",
            "760/760 [==============================] - 4s 5ms/step - loss: 1.1324 - mse: 1.0534 - val_loss: 0.8754 - val_mse: 0.8069\n",
            "Epoch 3/5\n",
            "760/760 [==============================] - 4s 5ms/step - loss: 1.1002 - mse: 1.0327 - val_loss: 0.8904 - val_mse: 0.8298\n",
            "Epoch 4/5\n",
            "760/760 [==============================] - 4s 5ms/step - loss: 1.0599 - mse: 1.0006 - val_loss: 0.9144 - val_mse: 0.8618\n",
            "Epoch 5/5\n",
            "760/760 [==============================] - 4s 5ms/step - loss: 1.3112 - mse: 1.2550 - val_loss: 0.9729 - val_mse: 0.9165\n",
            "0.9573436\n"
          ],
          "name": "stdout"
        }
      ]
    },
    {
      "cell_type": "code",
      "metadata": {
        "id": "AiMRJss2p7qK"
      },
      "source": [
        "# prediction = model_nn.predict(X_test)\n",
        "# prediction_nn = prediction\n",
        "\n",
        "# submission = pd.DataFrame({\n",
        "#     \"ID\": np.arange(prediction.shape[0]), \n",
        "#     \"item_cnt_month\": prediction.clip(0, 20).flatten()\n",
        "# })\n",
        "# submission.to_csv('submission_nn.csv', index=False)"
      ],
      "execution_count": null,
      "outputs": []
    },
    {
      "cell_type": "markdown",
      "metadata": {
        "id": "HNQSgq7MoNMm"
      },
      "source": [
        "### Xgboost"
      ]
    },
    {
      "cell_type": "code",
      "metadata": {
        "id": "hEf7veMdoMrJ"
      },
      "source": [
        "%%time\n",
        "from xgboost import XGBRegressor\n",
        "\n",
        "model_xgb = XGBRegressor(\n",
        "    max_depth=7,\n",
        "    n_estimators=1000,\n",
        "    min_child_weight=300,   \n",
        "    colsample_bytree=0.8, \n",
        "    subsample=0.8, \n",
        "    gamma = 0.005,\n",
        "    eta=0.1,    \n",
        "    seed=42)\n",
        "\n",
        "model_xgb.fit(\n",
        "    X_train, \n",
        "    y_train, \n",
        "    eval_metric=\"rmse\", \n",
        "    eval_set=[(X_train, y_train), (X_valid, y_valid)], \n",
        "    verbose=10, \n",
        "    early_stopping_rounds = 40,\n",
        "    )\n",
        "\n",
        "\n",
        "prediction_xgb = model_xgb.predict(X_valid)\n",
        "print(mean_squared_error(y_valid, prediction_xgb, squared=False))"
      ],
      "execution_count": null,
      "outputs": []
    },
    {
      "cell_type": "code",
      "metadata": {
        "id": "he2MqrZQqBsp"
      },
      "source": [
        "# prediction = model_xgb.predict(X_test)\n",
        "# prediction_xgb = prediction\n",
        "\n",
        "# submission = pd.DataFrame({\n",
        "#     \"ID\": np.arange(prediction.shape[0]), \n",
        "#     \"item_cnt_month\": prediction.clip(0, 20)\n",
        "# })\n",
        "# submission.to_csv('submission_xgb.csv', index=False)"
      ],
      "execution_count": null,
      "outputs": []
    },
    {
      "cell_type": "markdown",
      "metadata": {
        "id": "Sv-pAoyCoWcp"
      },
      "source": [
        "## Ensemble based on different models\n",
        "\n",
        "### Meta features"
      ]
    },
    {
      "cell_type": "code",
      "metadata": {
        "id": "fC1T-7gToW7p"
      },
      "source": [
        "%%time\n",
        "models = [model_lgbm, model_catboost, model_nn, model_xgb] \n",
        "\n",
        "meta_X_train = [model.predict(X_valid) for model in models]\n",
        "\n",
        "meta_X_train[2] = meta_X_train[2].flatten()\n",
        "\n",
        "meta_X_train = np.array(meta_X_train).T\n",
        "\n",
        "meta_X_test = [model.predict(X_test) for model in models]\n",
        "\n",
        "meta_X_test[2] = meta_X_test[2].flatten()\n",
        "\n",
        "meta_X_test = np.array(meta_X_test).T\n",
        "\n",
        "meta_y_train = y_valid"
      ],
      "execution_count": null,
      "outputs": []
    },
    {
      "cell_type": "markdown",
      "metadata": {
        "id": "pqhhxDzSo3-D"
      },
      "source": [
        "### Simple convex mix\n",
        "\n",
        "### Two models"
      ]
    },
    {
      "cell_type": "code",
      "metadata": {
        "id": "4gCcUysVo2RV"
      },
      "source": [
        "from sklearn.metrics import mean_squared_error\n",
        "\n",
        "# choose models \n",
        "model_index = [0,1]  # lgbm and catboost score 0.790230\n",
        "# model_index = [0,2] # lgbm and nn score 0.790814\n",
        "# model_index = [0,-1]  # lgbm and xgb  score 0.790587\n",
        "\n",
        "alphas_to_try = np.linspace(0, 1, 1001)\n",
        "rmse_scores = np.empty_like(alphas_to_try)\n",
        "\n",
        "for ind, alpha in enumerate(alphas_to_try):\n",
        "    simple_mix_pred = alpha * meta_X_train[:,model_index[0]] + (1 - alpha) * meta_X_train[:,model_index[1]]\n",
        "    rmse_scores[ind] = mean_squared_error(meta_y_train, simple_mix_pred, squared=False)\n",
        "\n",
        "\n",
        "best_alpha = alphas_to_try[np.argmin(rmse_scores)]\n",
        "rmse_train_simple_mix = np.min(rmse_scores) \n",
        "\n",
        "print('Best alpha: %f; Corresponding rmse score on train: %f' % (best_alpha, rmse_train_simple_mix))"
      ],
      "execution_count": null,
      "outputs": []
    },
    {
      "cell_type": "code",
      "metadata": {
        "id": "2gjZqhH3pEAh"
      },
      "source": [
        "# # remember that meta_X_test is a prediction for a model for X_test\n",
        "# meta_prediction = best_alpha * meta_X_test[:,model_index[0]] + (1 - best_alpha) * meta_X_test[:,model_index[1]]\n",
        "# submission = pd.DataFrame({\n",
        "#     \"ID\": np.arange(meta_prediction.shape[0]), \n",
        "#     \"item_cnt_month\": meta_prediction.clip(0, 20).flatten()\n",
        "# })\n",
        "# submission.to_csv('submission_meta_simple_mix_lgbm_cat.csv', index=False)"
      ],
      "execution_count": null,
      "outputs": []
    },
    {
      "cell_type": "markdown",
      "metadata": {
        "id": "Hc8yPdFlpJpp"
      },
      "source": [
        "### Three models"
      ]
    },
    {
      "cell_type": "code",
      "metadata": {
        "id": "LE4QvZDtpH4V"
      },
      "source": [
        "%%time\n",
        "from sklearn.metrics import mean_squared_error\n",
        "\n",
        "\n",
        "alphas_to_try = np.linspace(0, 1, 51)\n",
        "betas_to_try = np.linspace(0, 1, 51)\n",
        "gammas_to_try = np.linspace(0, 1, 51)\n",
        "rmse_scores = np.zeros((len(alphas_to_try), len(betas_to_try),len(gammas_to_try)))\n",
        "\n",
        "for ind1, alpha in enumerate(alphas_to_try):\n",
        "    for ind2, beta in enumerate(betas_to_try):  \n",
        "        for ind3, gamma in enumerate(gammas_to_try):  \n",
        "            simple_mix_pred = alpha * meta_X_train[:,0] + beta * meta_X_train[:,1] +  gamma * meta_X_train[:,3]\n",
        "            rmse_scores[ind1, ind2, ind3] = mean_squared_error(meta_y_train, simple_mix_pred, squared=False)\n",
        "\n",
        "\n",
        "ind1, ind2, ind3 = np.unravel_index(rmse_scores.argmin(), rmse_scores.shape)\n",
        "best_alpha, best_beta, best_gamma = alphas_to_try[ind1], betas_to_try[ind2], gammas_to_try[ind3]\n",
        "rmse_train_simple_mix = np.min(rmse_scores) \n",
        "\n",
        "print('Best alpha: %f; best beta: %f; best gamma: %f; Corresponding rmse score on train: %f' % (best_alpha, best_beta, best_gamma, rmse_train_simple_mix))"
      ],
      "execution_count": null,
      "outputs": []
    },
    {
      "cell_type": "code",
      "metadata": {
        "id": "4fz2MHlZpMac"
      },
      "source": [
        "# # remember that meta_X_test is a prediction for a model for X_test\n",
        "# meta_prediction = best_alpha * meta_X_test[:,0] + best_beta * meta_X_test[:,1] + best_gamma * meta_X_test[:,3]\n",
        "# submission = pd.DataFrame({\n",
        "#     \"ID\": np.arange(meta_prediction.shape[0]), \n",
        "#     \"item_cnt_month\": meta_prediction.clip(0, 20).flatten()\n",
        "# })\n",
        "# submission.to_csv('submission_meta_simple_mix_3_models.csv', index=False) # public score 0.88083"
      ],
      "execution_count": null,
      "outputs": []
    },
    {
      "cell_type": "markdown",
      "metadata": {
        "id": "K5hyYSUtpTlp"
      },
      "source": [
        "## Stacking"
      ]
    },
    {
      "cell_type": "code",
      "metadata": {
        "id": "I67Z1-tXpRYb"
      },
      "source": [
        "from sklearn.linear_model import LinearRegression\n",
        "from lightgbm import LGBMRegressor\n",
        "\n",
        "meta_model = LinearRegression()\n",
        "\n",
        "meta_model.fit(meta_X_train, meta_y_train)\n",
        "\n",
        "meta_prediction = meta_model.predict(meta_X_test)\n",
        "print(mean_squared_error(meta_y_train, meta_model.predict(meta_X_train), squared=False))"
      ],
      "execution_count": null,
      "outputs": []
    },
    {
      "cell_type": "code",
      "metadata": {
        "id": "FuKke5zIpWQd"
      },
      "source": [
        "# submission = pd.DataFrame({\n",
        "#     \"ID\": np.arange(meta_prediction.shape[0]), \n",
        "#     \"item_cnt_month\": meta_prediction.clip(0, 20).flatten()\n",
        "# })\n",
        "# submission.to_csv('submission_meta_lr_4_models.csv', index=False)"
      ],
      "execution_count": null,
      "outputs": []
    }
  ]
}