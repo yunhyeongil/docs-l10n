{
  "nbformat": 4,
  "nbformat_minor": 0,
  "metadata": {
    "colab": {
      "name": "최종제출_연습_모델.ipynb",
      "provenance": [],
      "collapsed_sections": [],
      "toc_visible": true,
      "include_colab_link": true
    },
    "kernelspec": {
      "display_name": "Python 3",
      "language": "python",
      "name": "python3"
    },
    "language_info": {
      "codemirror_mode": {
        "name": "ipython",
        "version": 3
      },
      "file_extension": ".py",
      "mimetype": "text/x-python",
      "name": "python",
      "nbconvert_exporter": "python",
      "pygments_lexer": "ipython3",
      "version": "3.8.5"
    },
    "accelerator": "GPU"
  },
  "cells": [
    {
      "cell_type": "markdown",
      "metadata": {
        "id": "view-in-github",
        "colab_type": "text"
      },
      "source": [
        "<a href=\"https://colab.research.google.com/github/yunhyeongil/docs-l10n/blob/master/%EC%B5%9C%EC%A2%85%EC%A0%9C%EC%B6%9C_%EC%97%B0%EC%8A%B5_%EB%AA%A8%EB%8D%B8.ipynb\" target=\"_parent\"><img src=\"https://colab.research.google.com/assets/colab-badge.svg\" alt=\"Open In Colab\"/></a>"
      ]
    },
    {
      "cell_type": "code",
      "metadata": {
        "colab": {
          "base_uri": "https://localhost:8080/"
        },
        "id": "c8uoASZ86mOI",
        "outputId": "678141be-e75f-4ff9-9b5c-a7282c1f9058"
      },
      "source": [
        "from google.colab import drive\n",
        "drive.mount('/content/drive')"
      ],
      "execution_count": null,
      "outputs": [
        {
          "output_type": "stream",
          "text": [
            "Mounted at /content/drive\n"
          ],
          "name": "stdout"
        }
      ]
    },
    {
      "cell_type": "code",
      "metadata": {
        "id": "KGxkejQMJcn2"
      },
      "source": [
        "import numpy as np\n",
        "import pandas as pd\n",
        "import warnings\n",
        "\n",
        "\n",
        "\n",
        "warnings.filterwarnings(action='ignore') # Ignore warning message\n",
        "\n",
        "# date path\n",
        "data_path = '/content/drive/MyDrive/dataset/'\n",
        "\n",
        "sales_train = pd.read_csv(data_path + 'sales_train.csv')\n",
        "shops = pd.read_csv(data_path + 'shops.csv')\n",
        "items = pd.read_csv(data_path + 'items.csv')\n",
        "item_categories = pd.read_csv(data_path + 'item_categories.csv')\n",
        "test = pd.read_csv(data_path + 'test.csv')\n",
        "submission = pd.read_csv(data_path + 'sample_submission.csv')"
      ],
      "execution_count": null,
      "outputs": []
    },
    {
      "cell_type": "code",
      "metadata": {
        "id": "cMJKfq6iJcoA"
      },
      "source": [
        "def downcast(df, verbose=True):\n",
        "    start_mem = df.memory_usage().sum() / 1024**2\n",
        "    for col in df.columns:\n",
        "        dtype_name = df[col].dtype.name\n",
        "        if dtype_name == 'object':\n",
        "            pass\n",
        "        elif dtype_name == 'bool':\n",
        "            df[col] = df[col].astype('int8')\n",
        "        elif dtype_name.startswith('int') or (df[col].round() == df[col]).all():\n",
        "            df[col] = pd.to_numeric(df[col], downcast='integer')\n",
        "        else:\n",
        "            df[col] = pd.to_numeric(df[col], downcast='float')\n",
        "    end_mem = df.memory_usage().sum() / 1024**2\n",
        "    if verbose:\n",
        "        print('{:.1f}% compressed'.format(100 * (start_mem - end_mem) / start_mem))\n",
        "    \n",
        "    return df"
      ],
      "execution_count": null,
      "outputs": []
    },
    {
      "cell_type": "code",
      "metadata": {
        "colab": {
          "base_uri": "https://localhost:8080/"
        },
        "id": "1I6lg7H4JcoC",
        "outputId": "6de80ddf-5406-4882-b8a3-3bf34267e1f2"
      },
      "source": [
        "all_df = [sales_train, shops, items, item_categories, test]\n",
        "for df in all_df:\n",
        "    df = downcast(df)"
      ],
      "execution_count": null,
      "outputs": [
        {
          "output_type": "stream",
          "text": [
            "62.5% compressed\n",
            "38.6% compressed\n",
            "54.2% compressed\n",
            "39.9% compressed\n",
            "70.8% compressed\n"
          ],
          "name": "stdout"
        }
      ]
    },
    {
      "cell_type": "code",
      "metadata": {
        "colab": {
          "base_uri": "https://localhost:8080/",
          "height": 204
        },
        "id": "QCofvprGJcoF",
        "scrolled": true,
        "outputId": "2a073fea-a67b-4783-b72a-4f0737a3b790"
      },
      "source": [
        "sales_train.head()"
      ],
      "execution_count": null,
      "outputs": [
        {
          "output_type": "execute_result",
          "data": {
            "text/html": [
              "<div>\n",
              "<style scoped>\n",
              "    .dataframe tbody tr th:only-of-type {\n",
              "        vertical-align: middle;\n",
              "    }\n",
              "\n",
              "    .dataframe tbody tr th {\n",
              "        vertical-align: top;\n",
              "    }\n",
              "\n",
              "    .dataframe thead th {\n",
              "        text-align: right;\n",
              "    }\n",
              "</style>\n",
              "<table border=\"1\" class=\"dataframe\">\n",
              "  <thead>\n",
              "    <tr style=\"text-align: right;\">\n",
              "      <th></th>\n",
              "      <th>date</th>\n",
              "      <th>date_block_num</th>\n",
              "      <th>shop_id</th>\n",
              "      <th>item_id</th>\n",
              "      <th>item_price</th>\n",
              "      <th>item_cnt_day</th>\n",
              "    </tr>\n",
              "  </thead>\n",
              "  <tbody>\n",
              "    <tr>\n",
              "      <th>0</th>\n",
              "      <td>02.01.2013</td>\n",
              "      <td>0</td>\n",
              "      <td>59</td>\n",
              "      <td>22154</td>\n",
              "      <td>999.000000</td>\n",
              "      <td>1</td>\n",
              "    </tr>\n",
              "    <tr>\n",
              "      <th>1</th>\n",
              "      <td>03.01.2013</td>\n",
              "      <td>0</td>\n",
              "      <td>25</td>\n",
              "      <td>2552</td>\n",
              "      <td>899.000000</td>\n",
              "      <td>1</td>\n",
              "    </tr>\n",
              "    <tr>\n",
              "      <th>2</th>\n",
              "      <td>05.01.2013</td>\n",
              "      <td>0</td>\n",
              "      <td>25</td>\n",
              "      <td>2552</td>\n",
              "      <td>899.000000</td>\n",
              "      <td>-1</td>\n",
              "    </tr>\n",
              "    <tr>\n",
              "      <th>3</th>\n",
              "      <td>06.01.2013</td>\n",
              "      <td>0</td>\n",
              "      <td>25</td>\n",
              "      <td>2554</td>\n",
              "      <td>1709.050049</td>\n",
              "      <td>1</td>\n",
              "    </tr>\n",
              "    <tr>\n",
              "      <th>4</th>\n",
              "      <td>15.01.2013</td>\n",
              "      <td>0</td>\n",
              "      <td>25</td>\n",
              "      <td>2555</td>\n",
              "      <td>1099.000000</td>\n",
              "      <td>1</td>\n",
              "    </tr>\n",
              "  </tbody>\n",
              "</table>\n",
              "</div>"
            ],
            "text/plain": [
              "         date  date_block_num  shop_id  item_id   item_price  item_cnt_day\n",
              "0  02.01.2013               0       59    22154   999.000000             1\n",
              "1  03.01.2013               0       25     2552   899.000000             1\n",
              "2  05.01.2013               0       25     2552   899.000000            -1\n",
              "3  06.01.2013               0       25     2554  1709.050049             1\n",
              "4  15.01.2013               0       25     2555  1099.000000             1"
            ]
          },
          "metadata": {
            "tags": []
          },
          "execution_count": 5
        }
      ]
    },
    {
      "cell_type": "code",
      "metadata": {
        "colab": {
          "base_uri": "https://localhost:8080/",
          "height": 204
        },
        "id": "LIoBP7szJcoI",
        "outputId": "6df2e57d-d3a0-4eaa-d705-a2701006d792"
      },
      "source": [
        "shops.head()"
      ],
      "execution_count": null,
      "outputs": [
        {
          "output_type": "execute_result",
          "data": {
            "text/html": [
              "<div>\n",
              "<style scoped>\n",
              "    .dataframe tbody tr th:only-of-type {\n",
              "        vertical-align: middle;\n",
              "    }\n",
              "\n",
              "    .dataframe tbody tr th {\n",
              "        vertical-align: top;\n",
              "    }\n",
              "\n",
              "    .dataframe thead th {\n",
              "        text-align: right;\n",
              "    }\n",
              "</style>\n",
              "<table border=\"1\" class=\"dataframe\">\n",
              "  <thead>\n",
              "    <tr style=\"text-align: right;\">\n",
              "      <th></th>\n",
              "      <th>shop_name</th>\n",
              "      <th>shop_id</th>\n",
              "    </tr>\n",
              "  </thead>\n",
              "  <tbody>\n",
              "    <tr>\n",
              "      <th>0</th>\n",
              "      <td>!Якутск Орджоникидзе, 56 фран</td>\n",
              "      <td>0</td>\n",
              "    </tr>\n",
              "    <tr>\n",
              "      <th>1</th>\n",
              "      <td>!Якутск ТЦ \"Центральный\" фран</td>\n",
              "      <td>1</td>\n",
              "    </tr>\n",
              "    <tr>\n",
              "      <th>2</th>\n",
              "      <td>Адыгея ТЦ \"Мега\"</td>\n",
              "      <td>2</td>\n",
              "    </tr>\n",
              "    <tr>\n",
              "      <th>3</th>\n",
              "      <td>Балашиха ТРК \"Октябрь-Киномир\"</td>\n",
              "      <td>3</td>\n",
              "    </tr>\n",
              "    <tr>\n",
              "      <th>4</th>\n",
              "      <td>Волжский ТЦ \"Волга Молл\"</td>\n",
              "      <td>4</td>\n",
              "    </tr>\n",
              "  </tbody>\n",
              "</table>\n",
              "</div>"
            ],
            "text/plain": [
              "                        shop_name  shop_id\n",
              "0   !Якутск Орджоникидзе, 56 фран        0\n",
              "1   !Якутск ТЦ \"Центральный\" фран        1\n",
              "2                Адыгея ТЦ \"Мега\"        2\n",
              "3  Балашиха ТРК \"Октябрь-Киномир\"        3\n",
              "4        Волжский ТЦ \"Волга Молл\"        4"
            ]
          },
          "metadata": {
            "tags": []
          },
          "execution_count": 6
        }
      ]
    },
    {
      "cell_type": "code",
      "metadata": {
        "colab": {
          "base_uri": "https://localhost:8080/",
          "height": 204
        },
        "id": "YuLJt9ktJcoJ",
        "outputId": "1bc17f86-4a42-4781-ca11-c16130f682b2"
      },
      "source": [
        "items.head()"
      ],
      "execution_count": null,
      "outputs": [
        {
          "output_type": "execute_result",
          "data": {
            "text/html": [
              "<div>\n",
              "<style scoped>\n",
              "    .dataframe tbody tr th:only-of-type {\n",
              "        vertical-align: middle;\n",
              "    }\n",
              "\n",
              "    .dataframe tbody tr th {\n",
              "        vertical-align: top;\n",
              "    }\n",
              "\n",
              "    .dataframe thead th {\n",
              "        text-align: right;\n",
              "    }\n",
              "</style>\n",
              "<table border=\"1\" class=\"dataframe\">\n",
              "  <thead>\n",
              "    <tr style=\"text-align: right;\">\n",
              "      <th></th>\n",
              "      <th>item_name</th>\n",
              "      <th>item_id</th>\n",
              "      <th>item_category_id</th>\n",
              "    </tr>\n",
              "  </thead>\n",
              "  <tbody>\n",
              "    <tr>\n",
              "      <th>0</th>\n",
              "      <td>! ВО ВЛАСТИ НАВАЖДЕНИЯ (ПЛАСТ.)         D</td>\n",
              "      <td>0</td>\n",
              "      <td>40</td>\n",
              "    </tr>\n",
              "    <tr>\n",
              "      <th>1</th>\n",
              "      <td>!ABBYY FineReader 12 Professional Edition Full...</td>\n",
              "      <td>1</td>\n",
              "      <td>76</td>\n",
              "    </tr>\n",
              "    <tr>\n",
              "      <th>2</th>\n",
              "      <td>***В ЛУЧАХ СЛАВЫ   (UNV)                    D</td>\n",
              "      <td>2</td>\n",
              "      <td>40</td>\n",
              "    </tr>\n",
              "    <tr>\n",
              "      <th>3</th>\n",
              "      <td>***ГОЛУБАЯ ВОЛНА  (Univ)                      D</td>\n",
              "      <td>3</td>\n",
              "      <td>40</td>\n",
              "    </tr>\n",
              "    <tr>\n",
              "      <th>4</th>\n",
              "      <td>***КОРОБКА (СТЕКЛО)                       D</td>\n",
              "      <td>4</td>\n",
              "      <td>40</td>\n",
              "    </tr>\n",
              "  </tbody>\n",
              "</table>\n",
              "</div>"
            ],
            "text/plain": [
              "                                           item_name  item_id  item_category_id\n",
              "0          ! ВО ВЛАСТИ НАВАЖДЕНИЯ (ПЛАСТ.)         D        0                40\n",
              "1  !ABBYY FineReader 12 Professional Edition Full...        1                76\n",
              "2      ***В ЛУЧАХ СЛАВЫ   (UNV)                    D        2                40\n",
              "3    ***ГОЛУБАЯ ВОЛНА  (Univ)                      D        3                40\n",
              "4        ***КОРОБКА (СТЕКЛО)                       D        4                40"
            ]
          },
          "metadata": {
            "tags": []
          },
          "execution_count": 7
        }
      ]
    },
    {
      "cell_type": "code",
      "metadata": {
        "colab": {
          "base_uri": "https://localhost:8080/",
          "height": 204
        },
        "id": "7parnnCAJcoL",
        "outputId": "76057e15-2bdc-4dfa-ceb0-4e2a25ca45c1"
      },
      "source": [
        "item_categories.head()"
      ],
      "execution_count": null,
      "outputs": [
        {
          "output_type": "execute_result",
          "data": {
            "text/html": [
              "<div>\n",
              "<style scoped>\n",
              "    .dataframe tbody tr th:only-of-type {\n",
              "        vertical-align: middle;\n",
              "    }\n",
              "\n",
              "    .dataframe tbody tr th {\n",
              "        vertical-align: top;\n",
              "    }\n",
              "\n",
              "    .dataframe thead th {\n",
              "        text-align: right;\n",
              "    }\n",
              "</style>\n",
              "<table border=\"1\" class=\"dataframe\">\n",
              "  <thead>\n",
              "    <tr style=\"text-align: right;\">\n",
              "      <th></th>\n",
              "      <th>item_category_name</th>\n",
              "      <th>item_category_id</th>\n",
              "    </tr>\n",
              "  </thead>\n",
              "  <tbody>\n",
              "    <tr>\n",
              "      <th>0</th>\n",
              "      <td>PC - Гарнитуры/Наушники</td>\n",
              "      <td>0</td>\n",
              "    </tr>\n",
              "    <tr>\n",
              "      <th>1</th>\n",
              "      <td>Аксессуары - PS2</td>\n",
              "      <td>1</td>\n",
              "    </tr>\n",
              "    <tr>\n",
              "      <th>2</th>\n",
              "      <td>Аксессуары - PS3</td>\n",
              "      <td>2</td>\n",
              "    </tr>\n",
              "    <tr>\n",
              "      <th>3</th>\n",
              "      <td>Аксессуары - PS4</td>\n",
              "      <td>3</td>\n",
              "    </tr>\n",
              "    <tr>\n",
              "      <th>4</th>\n",
              "      <td>Аксессуары - PSP</td>\n",
              "      <td>4</td>\n",
              "    </tr>\n",
              "  </tbody>\n",
              "</table>\n",
              "</div>"
            ],
            "text/plain": [
              "        item_category_name  item_category_id\n",
              "0  PC - Гарнитуры/Наушники                 0\n",
              "1         Аксессуары - PS2                 1\n",
              "2         Аксессуары - PS3                 2\n",
              "3         Аксессуары - PS4                 3\n",
              "4         Аксессуары - PSP                 4"
            ]
          },
          "metadata": {
            "tags": []
          },
          "execution_count": 8
        }
      ]
    },
    {
      "cell_type": "code",
      "metadata": {
        "colab": {
          "base_uri": "https://localhost:8080/",
          "height": 204
        },
        "id": "7Ym0vdsTJcoM",
        "scrolled": false,
        "outputId": "812e296e-18e8-4c69-b026-522a899abd77"
      },
      "source": [
        "test.head()"
      ],
      "execution_count": null,
      "outputs": [
        {
          "output_type": "execute_result",
          "data": {
            "text/html": [
              "<div>\n",
              "<style scoped>\n",
              "    .dataframe tbody tr th:only-of-type {\n",
              "        vertical-align: middle;\n",
              "    }\n",
              "\n",
              "    .dataframe tbody tr th {\n",
              "        vertical-align: top;\n",
              "    }\n",
              "\n",
              "    .dataframe thead th {\n",
              "        text-align: right;\n",
              "    }\n",
              "</style>\n",
              "<table border=\"1\" class=\"dataframe\">\n",
              "  <thead>\n",
              "    <tr style=\"text-align: right;\">\n",
              "      <th></th>\n",
              "      <th>ID</th>\n",
              "      <th>shop_id</th>\n",
              "      <th>item_id</th>\n",
              "    </tr>\n",
              "  </thead>\n",
              "  <tbody>\n",
              "    <tr>\n",
              "      <th>0</th>\n",
              "      <td>0</td>\n",
              "      <td>5</td>\n",
              "      <td>5037</td>\n",
              "    </tr>\n",
              "    <tr>\n",
              "      <th>1</th>\n",
              "      <td>1</td>\n",
              "      <td>5</td>\n",
              "      <td>5320</td>\n",
              "    </tr>\n",
              "    <tr>\n",
              "      <th>2</th>\n",
              "      <td>2</td>\n",
              "      <td>5</td>\n",
              "      <td>5233</td>\n",
              "    </tr>\n",
              "    <tr>\n",
              "      <th>3</th>\n",
              "      <td>3</td>\n",
              "      <td>5</td>\n",
              "      <td>5232</td>\n",
              "    </tr>\n",
              "    <tr>\n",
              "      <th>4</th>\n",
              "      <td>4</td>\n",
              "      <td>5</td>\n",
              "      <td>5268</td>\n",
              "    </tr>\n",
              "  </tbody>\n",
              "</table>\n",
              "</div>"
            ],
            "text/plain": [
              "   ID  shop_id  item_id\n",
              "0   0        5     5037\n",
              "1   1        5     5320\n",
              "2   2        5     5233\n",
              "3   3        5     5232\n",
              "4   4        5     5268"
            ]
          },
          "metadata": {
            "tags": []
          },
          "execution_count": 9
        }
      ]
    },
    {
      "cell_type": "code",
      "metadata": {
        "colab": {
          "base_uri": "https://localhost:8080/",
          "height": 204
        },
        "id": "s0vDrrr0JcoO",
        "outputId": "a166cadf-7ed4-4d3d-9b6f-09382613914e"
      },
      "source": [
        "submission.head()"
      ],
      "execution_count": null,
      "outputs": [
        {
          "output_type": "execute_result",
          "data": {
            "text/html": [
              "<div>\n",
              "<style scoped>\n",
              "    .dataframe tbody tr th:only-of-type {\n",
              "        vertical-align: middle;\n",
              "    }\n",
              "\n",
              "    .dataframe tbody tr th {\n",
              "        vertical-align: top;\n",
              "    }\n",
              "\n",
              "    .dataframe thead th {\n",
              "        text-align: right;\n",
              "    }\n",
              "</style>\n",
              "<table border=\"1\" class=\"dataframe\">\n",
              "  <thead>\n",
              "    <tr style=\"text-align: right;\">\n",
              "      <th></th>\n",
              "      <th>ID</th>\n",
              "      <th>item_cnt_month</th>\n",
              "    </tr>\n",
              "  </thead>\n",
              "  <tbody>\n",
              "    <tr>\n",
              "      <th>0</th>\n",
              "      <td>0</td>\n",
              "      <td>0.5</td>\n",
              "    </tr>\n",
              "    <tr>\n",
              "      <th>1</th>\n",
              "      <td>1</td>\n",
              "      <td>0.5</td>\n",
              "    </tr>\n",
              "    <tr>\n",
              "      <th>2</th>\n",
              "      <td>2</td>\n",
              "      <td>0.5</td>\n",
              "    </tr>\n",
              "    <tr>\n",
              "      <th>3</th>\n",
              "      <td>3</td>\n",
              "      <td>0.5</td>\n",
              "    </tr>\n",
              "    <tr>\n",
              "      <th>4</th>\n",
              "      <td>4</td>\n",
              "      <td>0.5</td>\n",
              "    </tr>\n",
              "  </tbody>\n",
              "</table>\n",
              "</div>"
            ],
            "text/plain": [
              "   ID  item_cnt_month\n",
              "0   0             0.5\n",
              "1   1             0.5\n",
              "2   2             0.5\n",
              "3   3             0.5\n",
              "4   4             0.5"
            ]
          },
          "metadata": {
            "tags": []
          },
          "execution_count": 10
        }
      ]
    },
    {
      "cell_type": "code",
      "metadata": {
        "colab": {
          "base_uri": "https://localhost:8080/"
        },
        "id": "h95BEn7jJcoQ",
        "scrolled": false,
        "outputId": "a34f170d-3148-4a39-9f32-993d413fd3f4"
      },
      "source": [
        "print(np.shape(sales_train))\n",
        "print(np.shape(test))"
      ],
      "execution_count": null,
      "outputs": [
        {
          "output_type": "stream",
          "text": [
            "(2935849, 6)\n",
            "(214200, 3)\n"
          ],
          "name": "stdout"
        }
      ]
    },
    {
      "cell_type": "code",
      "metadata": {
        "colab": {
          "base_uri": "https://localhost:8080/"
        },
        "id": "YrcqGP1zJcoS",
        "outputId": "f33f6624-3d4e-4bcb-de0e-54888147e667"
      },
      "source": [
        "sales_train.isnull().sum()"
      ],
      "execution_count": null,
      "outputs": [
        {
          "output_type": "execute_result",
          "data": {
            "text/plain": [
              "date              0\n",
              "date_block_num    0\n",
              "shop_id           0\n",
              "item_id           0\n",
              "item_price        0\n",
              "item_cnt_day      0\n",
              "dtype: int64"
            ]
          },
          "metadata": {
            "tags": []
          },
          "execution_count": 12
        }
      ]
    },
    {
      "cell_type": "code",
      "metadata": {
        "colab": {
          "base_uri": "https://localhost:8080/"
        },
        "id": "q_zUuWBAJcoT",
        "outputId": "e3cd4388-db76-4125-d6b5-d611af088dce"
      },
      "source": [
        "sum(sales_train.duplicated()), sum(test.duplicated()),sum(shops.duplicated()), sum(items.duplicated())"
      ],
      "execution_count": null,
      "outputs": [
        {
          "output_type": "execute_result",
          "data": {
            "text/plain": [
              "(6, 0, 0, 0)"
            ]
          },
          "metadata": {
            "tags": []
          },
          "execution_count": 13
        }
      ]
    },
    {
      "cell_type": "code",
      "metadata": {
        "colab": {
          "base_uri": "https://localhost:8080/"
        },
        "id": "LApi7tKQJcoU",
        "outputId": "98cd92f7-0cd0-4e07-c4a8-7055b4547d62"
      },
      "source": [
        "sum(item_categories.duplicated()), sum(test.duplicated())"
      ],
      "execution_count": null,
      "outputs": [
        {
          "output_type": "execute_result",
          "data": {
            "text/plain": [
              "(0, 0)"
            ]
          },
          "metadata": {
            "tags": []
          },
          "execution_count": 14
        }
      ]
    },
    {
      "cell_type": "code",
      "metadata": {
        "colab": {
          "base_uri": "https://localhost:8080/",
          "height": 235
        },
        "id": "fSO4H9sZJcoW",
        "outputId": "5a23af58-58dd-4271-d629-3a2c3ac4293c"
      },
      "source": [
        "sales_train[sales_train.duplicated() == True]"
      ],
      "execution_count": null,
      "outputs": [
        {
          "output_type": "execute_result",
          "data": {
            "text/html": [
              "<div>\n",
              "<style scoped>\n",
              "    .dataframe tbody tr th:only-of-type {\n",
              "        vertical-align: middle;\n",
              "    }\n",
              "\n",
              "    .dataframe tbody tr th {\n",
              "        vertical-align: top;\n",
              "    }\n",
              "\n",
              "    .dataframe thead th {\n",
              "        text-align: right;\n",
              "    }\n",
              "</style>\n",
              "<table border=\"1\" class=\"dataframe\">\n",
              "  <thead>\n",
              "    <tr style=\"text-align: right;\">\n",
              "      <th></th>\n",
              "      <th>date</th>\n",
              "      <th>date_block_num</th>\n",
              "      <th>shop_id</th>\n",
              "      <th>item_id</th>\n",
              "      <th>item_price</th>\n",
              "      <th>item_cnt_day</th>\n",
              "    </tr>\n",
              "  </thead>\n",
              "  <tbody>\n",
              "    <tr>\n",
              "      <th>76962</th>\n",
              "      <td>05.01.2013</td>\n",
              "      <td>0</td>\n",
              "      <td>54</td>\n",
              "      <td>20130</td>\n",
              "      <td>149.0</td>\n",
              "      <td>1</td>\n",
              "    </tr>\n",
              "    <tr>\n",
              "      <th>1435367</th>\n",
              "      <td>23.02.2014</td>\n",
              "      <td>13</td>\n",
              "      <td>50</td>\n",
              "      <td>3423</td>\n",
              "      <td>999.0</td>\n",
              "      <td>1</td>\n",
              "    </tr>\n",
              "    <tr>\n",
              "      <th>1496766</th>\n",
              "      <td>23.03.2014</td>\n",
              "      <td>14</td>\n",
              "      <td>21</td>\n",
              "      <td>3423</td>\n",
              "      <td>999.0</td>\n",
              "      <td>1</td>\n",
              "    </tr>\n",
              "    <tr>\n",
              "      <th>1671873</th>\n",
              "      <td>01.05.2014</td>\n",
              "      <td>16</td>\n",
              "      <td>50</td>\n",
              "      <td>3423</td>\n",
              "      <td>999.0</td>\n",
              "      <td>1</td>\n",
              "    </tr>\n",
              "    <tr>\n",
              "      <th>1866340</th>\n",
              "      <td>12.07.2014</td>\n",
              "      <td>18</td>\n",
              "      <td>25</td>\n",
              "      <td>3423</td>\n",
              "      <td>999.0</td>\n",
              "      <td>1</td>\n",
              "    </tr>\n",
              "    <tr>\n",
              "      <th>2198566</th>\n",
              "      <td>31.12.2014</td>\n",
              "      <td>23</td>\n",
              "      <td>42</td>\n",
              "      <td>21619</td>\n",
              "      <td>499.0</td>\n",
              "      <td>1</td>\n",
              "    </tr>\n",
              "  </tbody>\n",
              "</table>\n",
              "</div>"
            ],
            "text/plain": [
              "               date  date_block_num  shop_id  item_id  item_price  item_cnt_day\n",
              "76962    05.01.2013               0       54    20130       149.0             1\n",
              "1435367  23.02.2014              13       50     3423       999.0             1\n",
              "1496766  23.03.2014              14       21     3423       999.0             1\n",
              "1671873  01.05.2014              16       50     3423       999.0             1\n",
              "1866340  12.07.2014              18       25     3423       999.0             1\n",
              "2198566  31.12.2014              23       42    21619       499.0             1"
            ]
          },
          "metadata": {
            "tags": []
          },
          "execution_count": 15
        }
      ]
    },
    {
      "cell_type": "code",
      "metadata": {
        "id": "H8CRO8COJcoX"
      },
      "source": [
        "sales_train.drop_duplicates(inplace = True)"
      ],
      "execution_count": null,
      "outputs": []
    },
    {
      "cell_type": "code",
      "metadata": {
        "colab": {
          "base_uri": "https://localhost:8080/",
          "height": 741
        },
        "id": "zJ8aqjKeJcoY",
        "outputId": "73124cf5-aa6e-4426-9687-ce219c26f07b"
      },
      "source": [
        "import seaborn as sns\n",
        "import matplotlib.pyplot as plt\n",
        "%matplotlib inline\n",
        "\n",
        "colormap = plt.cm.RdBu\n",
        "plt.figure(figsize=(14,12))\n",
        "plt.title('Pearson Correlation of Features', y=1.05, size=15)\n",
        "sns.heatmap(sales_train.corr(),linewidths=0.1,vmax=1.0, \n",
        "            square=True, cmap=colormap, linecolor='white', annot=True)"
      ],
      "execution_count": null,
      "outputs": [
        {
          "output_type": "execute_result",
          "data": {
            "text/plain": [
              "<matplotlib.axes._subplots.AxesSubplot at 0x7fa3aa2f8f90>"
            ]
          },
          "metadata": {
            "tags": []
          },
          "execution_count": 17
        },
        {
          "output_type": "display_data",
          "data": {
            "image/png": "[encoded data removed]",
            "text/plain": [
              "<Figure size 1008x864 with 2 Axes>"
            ]
          },
          "metadata": {
            "tags": [],
            "needs_background": "light"
          }
        }
      ]
    },
    {
      "cell_type": "code",
      "metadata": {
        "colab": {
          "base_uri": "https://localhost:8080/",
          "height": 298
        },
        "id": "x6b-R_2ZJcoZ",
        "outputId": "e31fa8a0-6254-4016-b007-21f6b720a8cc"
      },
      "source": [
        "plt.figure(figsize=(10,4))\n",
        "sns.boxplot(x=sales_train.item_cnt_day)"
      ],
      "execution_count": null,
      "outputs": [
        {
          "output_type": "execute_result",
          "data": {
            "text/plain": [
              "<matplotlib.axes._subplots.AxesSubplot at 0x7fa3aa569210>"
            ]
          },
          "metadata": {
            "tags": []
          },
          "execution_count": 18
        },
        {
          "output_type": "display_data",
          "data": {
            "image/png": "[encoded data removed]",
            "text/plain": [
              "<Figure size 720x288 with 1 Axes>"
            ]
          },
          "metadata": {
            "tags": [],
            "needs_background": "light"
          }
        }
      ]
    },
    {
      "cell_type": "code",
      "metadata": {
        "colab": {
          "base_uri": "https://localhost:8080/",
          "height": 298
        },
        "id": "AL8tpgtLJcoa",
        "outputId": "ada5967a-fad9-4e62-a824-7a9b8d3c16c9"
      },
      "source": [
        "plt.figure(figsize=(10,4))\n",
        "sns.boxplot(x=sales_train.item_price)"
      ],
      "execution_count": null,
      "outputs": [
        {
          "output_type": "execute_result",
          "data": {
            "text/plain": [
              "<matplotlib.axes._subplots.AxesSubplot at 0x7fa3a14b7750>"
            ]
          },
          "metadata": {
            "tags": []
          },
          "execution_count": 19
        },
        {
          "output_type": "display_data",
          "data": {
            "image/png": "[encoded data removed]",
            "text/plain": [
              "<Figure size 720x288 with 1 Axes>"
            ]
          },
          "metadata": {
            "tags": [],
            "needs_background": "light"
          }
        }
      ]
    },
    {
      "cell_type": "code",
      "metadata": {
        "id": "EuVgEzpkJcob"
      },
      "source": [
        "# sns Theme \n",
        "sns.set_style('darkgrid') \n",
        "\n",
        "# 소수점 표현 제한\n",
        "pd.set_option('display.float_format', lambda x : '{:.3f}'.format(x))"
      ],
      "execution_count": null,
      "outputs": []
    },
    {
      "cell_type": "code",
      "metadata": {
        "colab": {
          "base_uri": "https://localhost:8080/",
          "height": 390
        },
        "id": "KmcbbdcjJcod",
        "outputId": "f57741bd-a517-4911-f53d-b241df973186"
      },
      "source": [
        "train_df = pd.DataFrame(sales_train)\n",
        "train_df.describe(include=\"all\")"
      ],
      "execution_count": null,
      "outputs": [
        {
          "output_type": "execute_result",
          "data": {
            "text/html": [
              "<div>\n",
              "<style scoped>\n",
              "    .dataframe tbody tr th:only-of-type {\n",
              "        vertical-align: middle;\n",
              "    }\n",
              "\n",
              "    .dataframe tbody tr th {\n",
              "        vertical-align: top;\n",
              "    }\n",
              "\n",
              "    .dataframe thead th {\n",
              "        text-align: right;\n",
              "    }\n",
              "</style>\n",
              "<table border=\"1\" class=\"dataframe\">\n",
              "  <thead>\n",
              "    <tr style=\"text-align: right;\">\n",
              "      <th></th>\n",
              "      <th>date</th>\n",
              "      <th>date_block_num</th>\n",
              "      <th>shop_id</th>\n",
              "      <th>item_id</th>\n",
              "      <th>item_price</th>\n",
              "      <th>item_cnt_day</th>\n",
              "    </tr>\n",
              "  </thead>\n",
              "  <tbody>\n",
              "    <tr>\n",
              "      <th>count</th>\n",
              "      <td>2935843</td>\n",
              "      <td>2935843.000</td>\n",
              "      <td>2935843.000</td>\n",
              "      <td>2935843.000</td>\n",
              "      <td>2935843.000</td>\n",
              "      <td>2935843.000</td>\n",
              "    </tr>\n",
              "    <tr>\n",
              "      <th>unique</th>\n",
              "      <td>1034</td>\n",
              "      <td>nan</td>\n",
              "      <td>nan</td>\n",
              "      <td>nan</td>\n",
              "      <td>nan</td>\n",
              "      <td>nan</td>\n",
              "    </tr>\n",
              "    <tr>\n",
              "      <th>top</th>\n",
              "      <td>28.12.2013</td>\n",
              "      <td>nan</td>\n",
              "      <td>nan</td>\n",
              "      <td>nan</td>\n",
              "      <td>nan</td>\n",
              "      <td>nan</td>\n",
              "    </tr>\n",
              "    <tr>\n",
              "      <th>freq</th>\n",
              "      <td>9434</td>\n",
              "      <td>nan</td>\n",
              "      <td>nan</td>\n",
              "      <td>nan</td>\n",
              "      <td>nan</td>\n",
              "      <td>nan</td>\n",
              "    </tr>\n",
              "    <tr>\n",
              "      <th>mean</th>\n",
              "      <td>NaN</td>\n",
              "      <td>14.570</td>\n",
              "      <td>33.002</td>\n",
              "      <td>10197.229</td>\n",
              "      <td>890.624</td>\n",
              "      <td>1.243</td>\n",
              "    </tr>\n",
              "    <tr>\n",
              "      <th>std</th>\n",
              "      <td>NaN</td>\n",
              "      <td>9.423</td>\n",
              "      <td>16.227</td>\n",
              "      <td>6324.293</td>\n",
              "      <td>1726.442</td>\n",
              "      <td>2.619</td>\n",
              "    </tr>\n",
              "    <tr>\n",
              "      <th>min</th>\n",
              "      <td>NaN</td>\n",
              "      <td>0.000</td>\n",
              "      <td>0.000</td>\n",
              "      <td>0.000</td>\n",
              "      <td>-1.000</td>\n",
              "      <td>-22.000</td>\n",
              "    </tr>\n",
              "    <tr>\n",
              "      <th>25%</th>\n",
              "      <td>NaN</td>\n",
              "      <td>7.000</td>\n",
              "      <td>22.000</td>\n",
              "      <td>4476.000</td>\n",
              "      <td>249.000</td>\n",
              "      <td>1.000</td>\n",
              "    </tr>\n",
              "    <tr>\n",
              "      <th>50%</th>\n",
              "      <td>NaN</td>\n",
              "      <td>14.000</td>\n",
              "      <td>31.000</td>\n",
              "      <td>9343.000</td>\n",
              "      <td>399.000</td>\n",
              "      <td>1.000</td>\n",
              "    </tr>\n",
              "    <tr>\n",
              "      <th>75%</th>\n",
              "      <td>NaN</td>\n",
              "      <td>23.000</td>\n",
              "      <td>47.000</td>\n",
              "      <td>15684.000</td>\n",
              "      <td>999.000</td>\n",
              "      <td>1.000</td>\n",
              "    </tr>\n",
              "    <tr>\n",
              "      <th>max</th>\n",
              "      <td>NaN</td>\n",
              "      <td>33.000</td>\n",
              "      <td>59.000</td>\n",
              "      <td>22169.000</td>\n",
              "      <td>307980.000</td>\n",
              "      <td>2169.000</td>\n",
              "    </tr>\n",
              "  </tbody>\n",
              "</table>\n",
              "</div>"
            ],
            "text/plain": [
              "              date  date_block_num  ...  item_price  item_cnt_day\n",
              "count      2935843     2935843.000  ... 2935843.000   2935843.000\n",
              "unique        1034             nan  ...         nan           nan\n",
              "top     28.12.2013             nan  ...         nan           nan\n",
              "freq          9434             nan  ...         nan           nan\n",
              "mean           NaN          14.570  ...     890.624         1.243\n",
              "std            NaN           9.423  ...    1726.442         2.619\n",
              "min            NaN           0.000  ...      -1.000       -22.000\n",
              "25%            NaN           7.000  ...     249.000         1.000\n",
              "50%            NaN          14.000  ...     399.000         1.000\n",
              "75%            NaN          23.000  ...     999.000         1.000\n",
              "max            NaN          33.000  ...  307980.000      2169.000\n",
              "\n",
              "[11 rows x 6 columns]"
            ]
          },
          "metadata": {
            "tags": []
          },
          "execution_count": 21
        }
      ]
    },
    {
      "cell_type": "code",
      "metadata": {
        "id": "jcQceSkQJcoe"
      },
      "source": [
        "sales_train = sales_train[sales_train['item_price'] > 0]\n",
        "sales_train = sales_train[sales_train['item_price'] < 50000]\n",
        "sales_train = sales_train[sales_train['item_cnt_day']>0]\n",
        "sales_train = sales_train[sales_train['item_cnt_day']<1000]"
      ],
      "execution_count": null,
      "outputs": []
    },
    {
      "cell_type": "code",
      "metadata": {
        "colab": {
          "base_uri": "https://localhost:8080/",
          "height": 298
        },
        "id": "0cSL5WZ5Jcof",
        "outputId": "140ab10b-0767-425e-f065-c7a6f5860ba5"
      },
      "source": [
        "plt.figure(figsize=(10,4))\n",
        "sns.boxplot(x=sales_train.item_cnt_day)"
      ],
      "execution_count": null,
      "outputs": [
        {
          "output_type": "execute_result",
          "data": {
            "text/plain": [
              "<matplotlib.axes._subplots.AxesSubplot at 0x7fa3a9d9fa90>"
            ]
          },
          "metadata": {
            "tags": []
          },
          "execution_count": 23
        },
        {
          "output_type": "display_data",
          "data": {
            "image/png": "[encoded data removed]",
            "text/plain": [
              "<Figure size 720x288 with 1 Axes>"
            ]
          },
          "metadata": {
            "tags": []
          }
        }
      ]
    },
    {
      "cell_type": "code",
      "metadata": {
        "colab": {
          "base_uri": "https://localhost:8080/",
          "height": 298
        },
        "id": "bD0Cr9viJcog",
        "scrolled": true,
        "outputId": "108b43b9-c2a3-45da-9d55-74b413a650f2"
      },
      "source": [
        "plt.figure(figsize=(10,4))\n",
        "sns.boxplot(x=sales_train.item_price)"
      ],
      "execution_count": null,
      "outputs": [
        {
          "output_type": "execute_result",
          "data": {
            "text/plain": [
              "<matplotlib.axes._subplots.AxesSubplot at 0x7fa3a14f1150>"
            ]
          },
          "metadata": {
            "tags": []
          },
          "execution_count": 24
        },
        {
          "output_type": "display_data",
          "data": {
            "image/png": "[encoded data removed]",
            "text/plain": [
              "<Figure size 720x288 with 1 Axes>"
            ]
          },
          "metadata": {
            "tags": []
          }
        }
      ]
    },
    {
      "cell_type": "markdown",
      "metadata": {
        "id": "8iSjFiT2Jcoh"
      },
      "source": [
        "### 2.3 데이터 통일성 확인\n",
        "#### 여기서 이제 데이터를 이해하고 전체적인 값을 확인하는 것이 중요하다. 몇가지 작업을 해야한다. 현재 #### train 데이터에서 shop_id와 shop_name이 일치하지 않는 부분이 있다."
      ]
    },
    {
      "cell_type": "code",
      "metadata": {
        "colab": {
          "base_uri": "https://localhost:8080/"
        },
        "id": "lbuDLEzSJcoi",
        "outputId": "73f9d68e-da76-4d2a-9c4c-e3a04bf93c9c"
      },
      "source": [
        "\n",
        "print(shops['shop_name'][0], '||', shops['shop_name'][57])\n",
        "print(shops['shop_name'][1], '||', shops['shop_name'][58])\n",
        "print(shops['shop_name'][10], '||', shops['shop_name'][11])\n",
        "print(shops['shop_name'][39], '||', shops['shop_name'][40])\n",
        "\n",
        "#  Modify shop_id in sales_train data\n",
        "sales_train.loc[sales_train['shop_id'] == 0, 'shop_id'] = 57\n",
        "sales_train.loc[sales_train['shop_id'] == 1, 'shop_id'] = 58\n",
        "sales_train.loc[sales_train['shop_id'] == 10, 'shop_id'] = 11\n",
        "sales_train.loc[sales_train['shop_id'] == 39, 'shop_id'] = 40\n",
        "\n",
        "#  Modify shop_id in test data\n",
        "test.loc[test['shop_id'] == 0, 'shop_id'] = 57\n",
        "test.loc[test['shop_id'] == 1, 'shop_id'] = 58\n",
        "test.loc[test['shop_id'] == 10, 'shop_id'] = 11\n",
        "test.loc[test['shop_id'] == 39, 'shop_id'] = 40"
      ],
      "execution_count": null,
      "outputs": [
        {
          "output_type": "stream",
          "text": [
            "!Якутск Орджоникидзе, 56 фран || Якутск Орджоникидзе, 56\n",
            "!Якутск ТЦ \"Центральный\" фран || Якутск ТЦ \"Центральный\"\n",
            "Жуковский ул. Чкалова 39м? || Жуковский ул. Чкалова 39м²\n",
            "РостовНаДону ТРК \"Мегацентр Горизонт\" || РостовНаДону ТРК \"Мегацентр Горизонт\" Островной\n"
          ],
          "name": "stdout"
        }
      ]
    },
    {
      "cell_type": "code",
      "metadata": {
        "colab": {
          "base_uri": "https://localhost:8080/",
          "height": 204
        },
        "id": "mCHSjL2gJcok",
        "outputId": "bc3d15e0-c44d-4ff6-a477-961dcf598a18"
      },
      "source": [
        "shops.head()"
      ],
      "execution_count": null,
      "outputs": [
        {
          "output_type": "execute_result",
          "data": {
            "text/html": [
              "<div>\n",
              "<style scoped>\n",
              "    .dataframe tbody tr th:only-of-type {\n",
              "        vertical-align: middle;\n",
              "    }\n",
              "\n",
              "    .dataframe tbody tr th {\n",
              "        vertical-align: top;\n",
              "    }\n",
              "\n",
              "    .dataframe thead th {\n",
              "        text-align: right;\n",
              "    }\n",
              "</style>\n",
              "<table border=\"1\" class=\"dataframe\">\n",
              "  <thead>\n",
              "    <tr style=\"text-align: right;\">\n",
              "      <th></th>\n",
              "      <th>shop_name</th>\n",
              "      <th>shop_id</th>\n",
              "    </tr>\n",
              "  </thead>\n",
              "  <tbody>\n",
              "    <tr>\n",
              "      <th>0</th>\n",
              "      <td>!Якутск Орджоникидзе, 56 фран</td>\n",
              "      <td>0</td>\n",
              "    </tr>\n",
              "    <tr>\n",
              "      <th>1</th>\n",
              "      <td>!Якутск ТЦ \"Центральный\" фран</td>\n",
              "      <td>1</td>\n",
              "    </tr>\n",
              "    <tr>\n",
              "      <th>2</th>\n",
              "      <td>Адыгея ТЦ \"Мега\"</td>\n",
              "      <td>2</td>\n",
              "    </tr>\n",
              "    <tr>\n",
              "      <th>3</th>\n",
              "      <td>Балашиха ТРК \"Октябрь-Киномир\"</td>\n",
              "      <td>3</td>\n",
              "    </tr>\n",
              "    <tr>\n",
              "      <th>4</th>\n",
              "      <td>Волжский ТЦ \"Волга Молл\"</td>\n",
              "      <td>4</td>\n",
              "    </tr>\n",
              "  </tbody>\n",
              "</table>\n",
              "</div>"
            ],
            "text/plain": [
              "                        shop_name  shop_id\n",
              "0   !Якутск Орджоникидзе, 56 фран        0\n",
              "1   !Якутск ТЦ \"Центральный\" фран        1\n",
              "2                Адыгея ТЦ \"Мега\"        2\n",
              "3  Балашиха ТРК \"Октябрь-Киномир\"        3\n",
              "4        Волжский ТЦ \"Волга Молл\"        4"
            ]
          },
          "metadata": {
            "tags": []
          },
          "execution_count": 26
        }
      ]
    },
    {
      "cell_type": "code",
      "metadata": {
        "id": "kW_JNjsdJcol"
      },
      "source": [
        "# Leaking to imporve performance\n",
        "unique_test_shop_id = test['shop_id'].unique()\n",
        "sales_train = sales_train[sales_train['shop_id'].isin(unique_test_shop_id)]\n",
        "\n",
        "shops['city'] = shops['shop_name'].apply(lambda x: x.split()[0])\n",
        "shops['city'].unique()\n",
        "\n",
        "shops.loc[shops['city'] =='!Якутск', 'city'] = 'Якутск'\n"
      ],
      "execution_count": null,
      "outputs": []
    },
    {
      "cell_type": "code",
      "metadata": {
        "colab": {
          "base_uri": "https://localhost:8080/",
          "height": 204
        },
        "id": "UDPzxCjqJcom",
        "outputId": "f45ffaee-7e3b-4131-eaba-64f9f7a2c8b2"
      },
      "source": [
        "shops.head()"
      ],
      "execution_count": null,
      "outputs": [
        {
          "output_type": "execute_result",
          "data": {
            "text/html": [
              "<div>\n",
              "<style scoped>\n",
              "    .dataframe tbody tr th:only-of-type {\n",
              "        vertical-align: middle;\n",
              "    }\n",
              "\n",
              "    .dataframe tbody tr th {\n",
              "        vertical-align: top;\n",
              "    }\n",
              "\n",
              "    .dataframe thead th {\n",
              "        text-align: right;\n",
              "    }\n",
              "</style>\n",
              "<table border=\"1\" class=\"dataframe\">\n",
              "  <thead>\n",
              "    <tr style=\"text-align: right;\">\n",
              "      <th></th>\n",
              "      <th>shop_name</th>\n",
              "      <th>shop_id</th>\n",
              "      <th>city</th>\n",
              "    </tr>\n",
              "  </thead>\n",
              "  <tbody>\n",
              "    <tr>\n",
              "      <th>0</th>\n",
              "      <td>!Якутск Орджоникидзе, 56 фран</td>\n",
              "      <td>0</td>\n",
              "      <td>Якутск</td>\n",
              "    </tr>\n",
              "    <tr>\n",
              "      <th>1</th>\n",
              "      <td>!Якутск ТЦ \"Центральный\" фран</td>\n",
              "      <td>1</td>\n",
              "      <td>Якутск</td>\n",
              "    </tr>\n",
              "    <tr>\n",
              "      <th>2</th>\n",
              "      <td>Адыгея ТЦ \"Мега\"</td>\n",
              "      <td>2</td>\n",
              "      <td>Адыгея</td>\n",
              "    </tr>\n",
              "    <tr>\n",
              "      <th>3</th>\n",
              "      <td>Балашиха ТРК \"Октябрь-Киномир\"</td>\n",
              "      <td>3</td>\n",
              "      <td>Балашиха</td>\n",
              "    </tr>\n",
              "    <tr>\n",
              "      <th>4</th>\n",
              "      <td>Волжский ТЦ \"Волга Молл\"</td>\n",
              "      <td>4</td>\n",
              "      <td>Волжский</td>\n",
              "    </tr>\n",
              "  </tbody>\n",
              "</table>\n",
              "</div>"
            ],
            "text/plain": [
              "                        shop_name  shop_id      city\n",
              "0   !Якутск Орджоникидзе, 56 фран        0    Якутск\n",
              "1   !Якутск ТЦ \"Центральный\" фран        1    Якутск\n",
              "2                Адыгея ТЦ \"Мега\"        2    Адыгея\n",
              "3  Балашиха ТРК \"Октябрь-Киномир\"        3  Балашиха\n",
              "4        Волжский ТЦ \"Волга Молл\"        4  Волжский"
            ]
          },
          "metadata": {
            "tags": []
          },
          "execution_count": 28
        }
      ]
    },
    {
      "cell_type": "code",
      "metadata": {
        "colab": {
          "base_uri": "https://localhost:8080/",
          "height": 204
        },
        "id": "vYFalV_oJcon",
        "outputId": "5bed5cfe-75b0-49ea-c2f9-a04806a8de5b"
      },
      "source": [
        "from sklearn.preprocessing import LabelEncoder\n",
        "\n",
        "# Create Label Encoder\n",
        "label_encoder = LabelEncoder()\n",
        "# City Feature Label Encoding \n",
        "shops['city'] = label_encoder.fit_transform(shops['city'])\n",
        "# Remove shop_name feature\n",
        "shops = shops.drop('shop_name', axis=1)\n",
        "\n",
        "shops.head()\n"
      ],
      "execution_count": null,
      "outputs": [
        {
          "output_type": "execute_result",
          "data": {
            "text/html": [
              "<div>\n",
              "<style scoped>\n",
              "    .dataframe tbody tr th:only-of-type {\n",
              "        vertical-align: middle;\n",
              "    }\n",
              "\n",
              "    .dataframe tbody tr th {\n",
              "        vertical-align: top;\n",
              "    }\n",
              "\n",
              "    .dataframe thead th {\n",
              "        text-align: right;\n",
              "    }\n",
              "</style>\n",
              "<table border=\"1\" class=\"dataframe\">\n",
              "  <thead>\n",
              "    <tr style=\"text-align: right;\">\n",
              "      <th></th>\n",
              "      <th>shop_id</th>\n",
              "      <th>city</th>\n",
              "    </tr>\n",
              "  </thead>\n",
              "  <tbody>\n",
              "    <tr>\n",
              "      <th>0</th>\n",
              "      <td>0</td>\n",
              "      <td>29</td>\n",
              "    </tr>\n",
              "    <tr>\n",
              "      <th>1</th>\n",
              "      <td>1</td>\n",
              "      <td>29</td>\n",
              "    </tr>\n",
              "    <tr>\n",
              "      <th>2</th>\n",
              "      <td>2</td>\n",
              "      <td>0</td>\n",
              "    </tr>\n",
              "    <tr>\n",
              "      <th>3</th>\n",
              "      <td>3</td>\n",
              "      <td>1</td>\n",
              "    </tr>\n",
              "    <tr>\n",
              "      <th>4</th>\n",
              "      <td>4</td>\n",
              "      <td>2</td>\n",
              "    </tr>\n",
              "  </tbody>\n",
              "</table>\n",
              "</div>"
            ],
            "text/plain": [
              "   shop_id  city\n",
              "0        0    29\n",
              "1        1    29\n",
              "2        2     0\n",
              "3        3     1\n",
              "4        4     2"
            ]
          },
          "metadata": {
            "tags": []
          },
          "execution_count": 29
        }
      ]
    },
    {
      "cell_type": "code",
      "metadata": {
        "id": "IP0eG3H4Jcoo"
      },
      "source": [
        "# Remove item_name feature\n",
        "items = items.drop(['item_name'], axis=1)\n",
        "# Create the date the product was first sold as a feature\n",
        "items['first_sale_date'] = sales_train.groupby('item_id').agg({'date_block_num': 'min'})['date_block_num']\n",
        "\n",
        "items.head()\n",
        "items[items['first_sale_date'].isna()]\n",
        "\n",
        "# Replace NaN of first_sale_date with 34 첫번째 팔린 날짜\n",
        "items['first_sale_date'] = items['first_sale_date'].fillna(34)"
      ],
      "execution_count": null,
      "outputs": []
    },
    {
      "cell_type": "code",
      "metadata": {
        "colab": {
          "base_uri": "https://localhost:8080/",
          "height": 451
        },
        "id": "TQYSZugQJcop",
        "outputId": "fbe968af-5fa0-4081-cc6c-8280d334a0ee"
      },
      "source": [
        "sales_train.groupby('item_id').agg({'date_block_num': 'min'})"
      ],
      "execution_count": null,
      "outputs": [
        {
          "output_type": "execute_result",
          "data": {
            "text/html": [
              "<div>\n",
              "<style scoped>\n",
              "    .dataframe tbody tr th:only-of-type {\n",
              "        vertical-align: middle;\n",
              "    }\n",
              "\n",
              "    .dataframe tbody tr th {\n",
              "        vertical-align: top;\n",
              "    }\n",
              "\n",
              "    .dataframe thead th {\n",
              "        text-align: right;\n",
              "    }\n",
              "</style>\n",
              "<table border=\"1\" class=\"dataframe\">\n",
              "  <thead>\n",
              "    <tr style=\"text-align: right;\">\n",
              "      <th></th>\n",
              "      <th>date_block_num</th>\n",
              "    </tr>\n",
              "    <tr>\n",
              "      <th>item_id</th>\n",
              "      <th></th>\n",
              "    </tr>\n",
              "  </thead>\n",
              "  <tbody>\n",
              "    <tr>\n",
              "      <th>1</th>\n",
              "      <td>15</td>\n",
              "    </tr>\n",
              "    <tr>\n",
              "      <th>16</th>\n",
              "      <td>20</td>\n",
              "    </tr>\n",
              "    <tr>\n",
              "      <th>17</th>\n",
              "      <td>20</td>\n",
              "    </tr>\n",
              "    <tr>\n",
              "      <th>18</th>\n",
              "      <td>19</td>\n",
              "    </tr>\n",
              "    <tr>\n",
              "      <th>19</th>\n",
              "      <td>0</td>\n",
              "    </tr>\n",
              "    <tr>\n",
              "      <th>...</th>\n",
              "      <td>...</td>\n",
              "    </tr>\n",
              "    <tr>\n",
              "      <th>22165</th>\n",
              "      <td>7</td>\n",
              "    </tr>\n",
              "    <tr>\n",
              "      <th>22166</th>\n",
              "      <td>9</td>\n",
              "    </tr>\n",
              "    <tr>\n",
              "      <th>22167</th>\n",
              "      <td>8</td>\n",
              "    </tr>\n",
              "    <tr>\n",
              "      <th>22168</th>\n",
              "      <td>0</td>\n",
              "    </tr>\n",
              "    <tr>\n",
              "      <th>22169</th>\n",
              "      <td>14</td>\n",
              "    </tr>\n",
              "  </tbody>\n",
              "</table>\n",
              "<p>21080 rows × 1 columns</p>\n",
              "</div>"
            ],
            "text/plain": [
              "         date_block_num\n",
              "item_id                \n",
              "1                    15\n",
              "16                   20\n",
              "17                   20\n",
              "18                   19\n",
              "19                    0\n",
              "...                 ...\n",
              "22165                 7\n",
              "22166                 9\n",
              "22167                 8\n",
              "22168                 0\n",
              "22169                14\n",
              "\n",
              "[21080 rows x 1 columns]"
            ]
          },
          "metadata": {
            "tags": []
          },
          "execution_count": 31
        }
      ]
    },
    {
      "cell_type": "code",
      "metadata": {
        "id": "1MsnjJKiJcoq"
      },
      "source": [
        "\n",
        "# Extract the first word of the item_categories_name into category\n",
        "item_categories['category'] = item_categories['item_category_name'].apply(lambda x: x.split()[0])  \n",
        "item_categories['category'].value_counts()\n",
        "\n",
        "def make_etc(x):\n",
        "    if len(item_categories[item_categories['category']==x]) >= 5:\n",
        "        return x\n",
        "    else:\n",
        "        return 'etc'\n",
        "\n",
        "# Replace with 'etc' if category count is less than 5\n",
        "item_categories['category'] = item_categories['category'].apply(make_etc)\n",
        "item_categories.head()\n",
        "\n",
        "# Create Label Encoder\n",
        "label_encoder = LabelEncoder()\n",
        "# Category Feature Label Encoding \n",
        "item_categories['category'] = label_encoder.fit_transform(item_categories['category'])\n",
        "\n",
        "# Remove item_category_name feature\n",
        "item_categories = item_categories.drop('item_category_name', axis=1)\n"
      ],
      "execution_count": null,
      "outputs": []
    },
    {
      "cell_type": "code",
      "metadata": {
        "colab": {
          "base_uri": "https://localhost:8080/",
          "height": 204
        },
        "id": "-CZvJq6-Jcos",
        "outputId": "27c323da-7ba0-4c1e-cae0-522e5021c650"
      },
      "source": [
        "item_categories.head()"
      ],
      "execution_count": null,
      "outputs": [
        {
          "output_type": "execute_result",
          "data": {
            "text/html": [
              "<div>\n",
              "<style scoped>\n",
              "    .dataframe tbody tr th:only-of-type {\n",
              "        vertical-align: middle;\n",
              "    }\n",
              "\n",
              "    .dataframe tbody tr th {\n",
              "        vertical-align: top;\n",
              "    }\n",
              "\n",
              "    .dataframe thead th {\n",
              "        text-align: right;\n",
              "    }\n",
              "</style>\n",
              "<table border=\"1\" class=\"dataframe\">\n",
              "  <thead>\n",
              "    <tr style=\"text-align: right;\">\n",
              "      <th></th>\n",
              "      <th>item_category_id</th>\n",
              "      <th>category</th>\n",
              "    </tr>\n",
              "  </thead>\n",
              "  <tbody>\n",
              "    <tr>\n",
              "      <th>0</th>\n",
              "      <td>0</td>\n",
              "      <td>0</td>\n",
              "    </tr>\n",
              "    <tr>\n",
              "      <th>1</th>\n",
              "      <td>1</td>\n",
              "      <td>1</td>\n",
              "    </tr>\n",
              "    <tr>\n",
              "      <th>2</th>\n",
              "      <td>2</td>\n",
              "      <td>1</td>\n",
              "    </tr>\n",
              "    <tr>\n",
              "      <th>3</th>\n",
              "      <td>3</td>\n",
              "      <td>1</td>\n",
              "    </tr>\n",
              "    <tr>\n",
              "      <th>4</th>\n",
              "      <td>4</td>\n",
              "      <td>1</td>\n",
              "    </tr>\n",
              "  </tbody>\n",
              "</table>\n",
              "</div>"
            ],
            "text/plain": [
              "   item_category_id  category\n",
              "0                 0         0\n",
              "1                 1         1\n",
              "2                 2         1\n",
              "3                 3         1\n",
              "4                 4         1"
            ]
          },
          "metadata": {
            "tags": []
          },
          "execution_count": 33
        }
      ]
    },
    {
      "cell_type": "code",
      "metadata": {
        "colab": {
          "base_uri": "https://localhost:8080/",
          "height": 204
        },
        "id": "jYcHoptRJcot",
        "outputId": "ae522a86-2dfe-4085-f402-999e92479d25"
      },
      "source": [
        "from itertools import product\n",
        "\n",
        "train = []\n",
        "# Create date_block_num, sop_id, item_id combination\n",
        "for i in sales_train['date_block_num'].unique():\n",
        "    all_shop = sales_train.loc[sales_train['date_block_num']==i, 'shop_id'].unique()\n",
        "    all_item = sales_train.loc[sales_train['date_block_num']==i, 'item_id'].unique()\n",
        "    train.append(np.array(list(product([i], all_shop, all_item))))\n",
        "    \n",
        "\n",
        "idx_features = ['date_block_num', 'shop_id', 'item_id'] # base features\n",
        "train = pd.DataFrame(np.vstack(train), columns=idx_features)\n",
        "group = sales_train.groupby(idx_features).agg({'item_cnt_day': 'sum',\n",
        "                                               'item_price': 'mean'})\n",
        "group = group.reset_index()\n",
        "group = group.rename(columns={'item_cnt_day': 'item_cnt_month', 'item_price': 'item_price_mean'})\n",
        "\n",
        "train = train.merge(group, on=idx_features, how='left')\n",
        "\n",
        "train.head()\n"
      ],
      "execution_count": null,
      "outputs": [
        {
          "output_type": "execute_result",
          "data": {
            "text/html": [
              "<div>\n",
              "<style scoped>\n",
              "    .dataframe tbody tr th:only-of-type {\n",
              "        vertical-align: middle;\n",
              "    }\n",
              "\n",
              "    .dataframe tbody tr th {\n",
              "        vertical-align: top;\n",
              "    }\n",
              "\n",
              "    .dataframe thead th {\n",
              "        text-align: right;\n",
              "    }\n",
              "</style>\n",
              "<table border=\"1\" class=\"dataframe\">\n",
              "  <thead>\n",
              "    <tr style=\"text-align: right;\">\n",
              "      <th></th>\n",
              "      <th>date_block_num</th>\n",
              "      <th>shop_id</th>\n",
              "      <th>item_id</th>\n",
              "      <th>item_cnt_month</th>\n",
              "      <th>item_price_mean</th>\n",
              "    </tr>\n",
              "  </thead>\n",
              "  <tbody>\n",
              "    <tr>\n",
              "      <th>0</th>\n",
              "      <td>0</td>\n",
              "      <td>59</td>\n",
              "      <td>22154</td>\n",
              "      <td>1.000</td>\n",
              "      <td>999.000</td>\n",
              "    </tr>\n",
              "    <tr>\n",
              "      <th>1</th>\n",
              "      <td>0</td>\n",
              "      <td>59</td>\n",
              "      <td>2552</td>\n",
              "      <td>nan</td>\n",
              "      <td>nan</td>\n",
              "    </tr>\n",
              "    <tr>\n",
              "      <th>2</th>\n",
              "      <td>0</td>\n",
              "      <td>59</td>\n",
              "      <td>2554</td>\n",
              "      <td>nan</td>\n",
              "      <td>nan</td>\n",
              "    </tr>\n",
              "    <tr>\n",
              "      <th>3</th>\n",
              "      <td>0</td>\n",
              "      <td>59</td>\n",
              "      <td>2555</td>\n",
              "      <td>nan</td>\n",
              "      <td>nan</td>\n",
              "    </tr>\n",
              "    <tr>\n",
              "      <th>4</th>\n",
              "      <td>0</td>\n",
              "      <td>59</td>\n",
              "      <td>2564</td>\n",
              "      <td>nan</td>\n",
              "      <td>nan</td>\n",
              "    </tr>\n",
              "  </tbody>\n",
              "</table>\n",
              "</div>"
            ],
            "text/plain": [
              "   date_block_num  shop_id  item_id  item_cnt_month  item_price_mean\n",
              "0               0       59    22154           1.000          999.000\n",
              "1               0       59     2552             nan              nan\n",
              "2               0       59     2554             nan              nan\n",
              "3               0       59     2555             nan              nan\n",
              "4               0       59     2564             nan              nan"
            ]
          },
          "metadata": {
            "tags": []
          },
          "execution_count": 34
        }
      ]
    },
    {
      "cell_type": "code",
      "metadata": {
        "colab": {
          "base_uri": "https://localhost:8080/",
          "height": 395
        },
        "id": "2tgpSkb9Jcow",
        "outputId": "326c0775-c72e-4282-ab90-6eaa0b6cedb2"
      },
      "source": [
        "import gc\n",
        "\n",
        "# group variable garbage collection\n",
        "del group\n",
        "gc.collect();\n",
        "# Add a feature for the number of items sold\n",
        "group = sales_train.groupby(idx_features).agg({'item_cnt_day': 'count'})\n",
        "group = group.reset_index()\n",
        "group = group.rename(columns={'item_cnt_day': 'item_count'})\n",
        "\n",
        "train = train.merge(group, on=idx_features, how='left')\n",
        "\n",
        "# Garbage collection\n",
        "del group, sales_train\n",
        "gc.collect()\n",
        "\n",
        "train.head()\n",
        "\n",
        "# Set test data date_block_num to 34\n",
        "test['date_block_num'] = 34\n",
        "\n",
        "\n",
        "# Concatenate train and test\n",
        "all_data = pd.concat([train, test.drop('ID', axis=1)],\n",
        "                     ignore_index=True,\n",
        "                     keys=idx_features)\n",
        "# Replace NaN with 0\n",
        "all_data = all_data.fillna(0)\n",
        "\n",
        "all_data.head()\n",
        "\n",
        "# Merge other data\n",
        "all_data = all_data.merge(shops, on='shop_id', how='left')\n",
        "all_data = all_data.merge(items, on='item_id', how='left')\n",
        "all_data = all_data.merge(item_categories, on='item_category_id', how='left')\n",
        "\n",
        "# Data downcasting\n",
        "all_data = downcast(all_data)\n",
        "\n",
        "# Garbage collection\n",
        "del shops, items, item_categories\n",
        "gc.collect();\n",
        "\n",
        "def resumetable(df):\n",
        "    print(f'Data Shape: {df.shape}')\n",
        "    summary = pd.DataFrame(df.dtypes, columns=['Dtypes'])\n",
        "    summary['Null'] = df.isnull().sum().values\n",
        "    summary['Uniques'] = df.nunique().values\n",
        "    summary['First_values'] = df.loc[0].values\n",
        "    summary['Second_values'] = df.loc[1].values\n",
        "    summary['Third_values'] = df.loc[2].values\n",
        "    \n",
        "    return summary\n",
        "resumetable(all_data)\n",
        "\n"
      ],
      "execution_count": null,
      "outputs": [
        {
          "output_type": "stream",
          "text": [
            "64.6% compressed\n",
            "Data Shape: (8856961, 10)\n"
          ],
          "name": "stdout"
        },
        {
          "output_type": "execute_result",
          "data": {
            "text/html": [
              "<div>\n",
              "<style scoped>\n",
              "    .dataframe tbody tr th:only-of-type {\n",
              "        vertical-align: middle;\n",
              "    }\n",
              "\n",
              "    .dataframe tbody tr th {\n",
              "        vertical-align: top;\n",
              "    }\n",
              "\n",
              "    .dataframe thead th {\n",
              "        text-align: right;\n",
              "    }\n",
              "</style>\n",
              "<table border=\"1\" class=\"dataframe\">\n",
              "  <thead>\n",
              "    <tr style=\"text-align: right;\">\n",
              "      <th></th>\n",
              "      <th>Dtypes</th>\n",
              "      <th>Null</th>\n",
              "      <th>Uniques</th>\n",
              "      <th>First_values</th>\n",
              "      <th>Second_values</th>\n",
              "      <th>Third_values</th>\n",
              "    </tr>\n",
              "  </thead>\n",
              "  <tbody>\n",
              "    <tr>\n",
              "      <th>date_block_num</th>\n",
              "      <td>int8</td>\n",
              "      <td>0</td>\n",
              "      <td>35</td>\n",
              "      <td>0.000</td>\n",
              "      <td>0.000</td>\n",
              "      <td>0.000</td>\n",
              "    </tr>\n",
              "    <tr>\n",
              "      <th>shop_id</th>\n",
              "      <td>int8</td>\n",
              "      <td>0</td>\n",
              "      <td>42</td>\n",
              "      <td>59.000</td>\n",
              "      <td>59.000</td>\n",
              "      <td>59.000</td>\n",
              "    </tr>\n",
              "    <tr>\n",
              "      <th>item_id</th>\n",
              "      <td>int16</td>\n",
              "      <td>0</td>\n",
              "      <td>21464</td>\n",
              "      <td>22154.000</td>\n",
              "      <td>2552.000</td>\n",
              "      <td>2554.000</td>\n",
              "    </tr>\n",
              "    <tr>\n",
              "      <th>item_cnt_month</th>\n",
              "      <td>int16</td>\n",
              "      <td>0</td>\n",
              "      <td>407</td>\n",
              "      <td>1.000</td>\n",
              "      <td>0.000</td>\n",
              "      <td>0.000</td>\n",
              "    </tr>\n",
              "    <tr>\n",
              "      <th>item_price_mean</th>\n",
              "      <td>float32</td>\n",
              "      <td>0</td>\n",
              "      <td>34147</td>\n",
              "      <td>999.000</td>\n",
              "      <td>0.000</td>\n",
              "      <td>0.000</td>\n",
              "    </tr>\n",
              "    <tr>\n",
              "      <th>item_count</th>\n",
              "      <td>int8</td>\n",
              "      <td>0</td>\n",
              "      <td>40</td>\n",
              "      <td>1.000</td>\n",
              "      <td>0.000</td>\n",
              "      <td>0.000</td>\n",
              "    </tr>\n",
              "    <tr>\n",
              "      <th>city</th>\n",
              "      <td>int8</td>\n",
              "      <td>0</td>\n",
              "      <td>28</td>\n",
              "      <td>30.000</td>\n",
              "      <td>30.000</td>\n",
              "      <td>30.000</td>\n",
              "    </tr>\n",
              "    <tr>\n",
              "      <th>item_category_id</th>\n",
              "      <td>int8</td>\n",
              "      <td>0</td>\n",
              "      <td>84</td>\n",
              "      <td>37.000</td>\n",
              "      <td>58.000</td>\n",
              "      <td>58.000</td>\n",
              "    </tr>\n",
              "    <tr>\n",
              "      <th>first_sale_date</th>\n",
              "      <td>int8</td>\n",
              "      <td>0</td>\n",
              "      <td>35</td>\n",
              "      <td>0.000</td>\n",
              "      <td>0.000</td>\n",
              "      <td>0.000</td>\n",
              "    </tr>\n",
              "    <tr>\n",
              "      <th>category</th>\n",
              "      <td>int8</td>\n",
              "      <td>0</td>\n",
              "      <td>10</td>\n",
              "      <td>5.000</td>\n",
              "      <td>7.000</td>\n",
              "      <td>7.000</td>\n",
              "    </tr>\n",
              "  </tbody>\n",
              "</table>\n",
              "</div>"
            ],
            "text/plain": [
              "                   Dtypes  Null  ...  Second_values  Third_values\n",
              "date_block_num       int8     0  ...          0.000         0.000\n",
              "shop_id              int8     0  ...         59.000        59.000\n",
              "item_id             int16     0  ...       2552.000      2554.000\n",
              "item_cnt_month      int16     0  ...          0.000         0.000\n",
              "item_price_mean   float32     0  ...          0.000         0.000\n",
              "item_count           int8     0  ...          0.000         0.000\n",
              "city                 int8     0  ...         30.000        30.000\n",
              "item_category_id     int8     0  ...         58.000        58.000\n",
              "first_sale_date      int8     0  ...          0.000         0.000\n",
              "category             int8     0  ...          7.000         7.000\n",
              "\n",
              "[10 rows x 6 columns]"
            ]
          },
          "metadata": {
            "tags": []
          },
          "execution_count": 35
        }
      ]
    },
    {
      "cell_type": "code",
      "metadata": {
        "colab": {
          "base_uri": "https://localhost:8080/",
          "height": 204
        },
        "id": "Andl_3qRJcoz",
        "outputId": "e5d41111-e005-4d7e-b151-5f1718278e2d"
      },
      "source": [
        "all_data.head()"
      ],
      "execution_count": null,
      "outputs": [
        {
          "output_type": "execute_result",
          "data": {
            "text/html": [
              "<div>\n",
              "<style scoped>\n",
              "    .dataframe tbody tr th:only-of-type {\n",
              "        vertical-align: middle;\n",
              "    }\n",
              "\n",
              "    .dataframe tbody tr th {\n",
              "        vertical-align: top;\n",
              "    }\n",
              "\n",
              "    .dataframe thead th {\n",
              "        text-align: right;\n",
              "    }\n",
              "</style>\n",
              "<table border=\"1\" class=\"dataframe\">\n",
              "  <thead>\n",
              "    <tr style=\"text-align: right;\">\n",
              "      <th></th>\n",
              "      <th>date_block_num</th>\n",
              "      <th>shop_id</th>\n",
              "      <th>item_id</th>\n",
              "      <th>item_cnt_month</th>\n",
              "      <th>item_price_mean</th>\n",
              "      <th>item_count</th>\n",
              "      <th>city</th>\n",
              "      <th>item_category_id</th>\n",
              "      <th>first_sale_date</th>\n",
              "      <th>category</th>\n",
              "    </tr>\n",
              "  </thead>\n",
              "  <tbody>\n",
              "    <tr>\n",
              "      <th>0</th>\n",
              "      <td>0</td>\n",
              "      <td>59</td>\n",
              "      <td>22154</td>\n",
              "      <td>1</td>\n",
              "      <td>999.000</td>\n",
              "      <td>1</td>\n",
              "      <td>30</td>\n",
              "      <td>37</td>\n",
              "      <td>0</td>\n",
              "      <td>5</td>\n",
              "    </tr>\n",
              "    <tr>\n",
              "      <th>1</th>\n",
              "      <td>0</td>\n",
              "      <td>59</td>\n",
              "      <td>2552</td>\n",
              "      <td>0</td>\n",
              "      <td>0.000</td>\n",
              "      <td>0</td>\n",
              "      <td>30</td>\n",
              "      <td>58</td>\n",
              "      <td>0</td>\n",
              "      <td>7</td>\n",
              "    </tr>\n",
              "    <tr>\n",
              "      <th>2</th>\n",
              "      <td>0</td>\n",
              "      <td>59</td>\n",
              "      <td>2554</td>\n",
              "      <td>0</td>\n",
              "      <td>0.000</td>\n",
              "      <td>0</td>\n",
              "      <td>30</td>\n",
              "      <td>58</td>\n",
              "      <td>0</td>\n",
              "      <td>7</td>\n",
              "    </tr>\n",
              "    <tr>\n",
              "      <th>3</th>\n",
              "      <td>0</td>\n",
              "      <td>59</td>\n",
              "      <td>2555</td>\n",
              "      <td>0</td>\n",
              "      <td>0.000</td>\n",
              "      <td>0</td>\n",
              "      <td>30</td>\n",
              "      <td>56</td>\n",
              "      <td>0</td>\n",
              "      <td>7</td>\n",
              "    </tr>\n",
              "    <tr>\n",
              "      <th>4</th>\n",
              "      <td>0</td>\n",
              "      <td>59</td>\n",
              "      <td>2564</td>\n",
              "      <td>0</td>\n",
              "      <td>0.000</td>\n",
              "      <td>0</td>\n",
              "      <td>30</td>\n",
              "      <td>59</td>\n",
              "      <td>0</td>\n",
              "      <td>7</td>\n",
              "    </tr>\n",
              "  </tbody>\n",
              "</table>\n",
              "</div>"
            ],
            "text/plain": [
              "   date_block_num  shop_id  ...  first_sale_date  category\n",
              "0               0       59  ...                0         5\n",
              "1               0       59  ...                0         7\n",
              "2               0       59  ...                0         7\n",
              "3               0       59  ...                0         7\n",
              "4               0       59  ...                0         7\n",
              "\n",
              "[5 rows x 10 columns]"
            ]
          },
          "metadata": {
            "tags": []
          },
          "execution_count": 36
        }
      ]
    },
    {
      "cell_type": "code",
      "metadata": {
        "colab": {
          "base_uri": "https://localhost:8080/",
          "height": 1000
        },
        "id": "V_9Zxq2yJco0",
        "outputId": "8330ae7b-1892-4fda-ad00-46fd3b7b7745"
      },
      "source": [
        "all_data.groupby('date_block_num').agg({'item_cnt_month': 'sum'})"
      ],
      "execution_count": null,
      "outputs": [
        {
          "output_type": "execute_result",
          "data": {
            "text/html": [
              "<div>\n",
              "<style scoped>\n",
              "    .dataframe tbody tr th:only-of-type {\n",
              "        vertical-align: middle;\n",
              "    }\n",
              "\n",
              "    .dataframe tbody tr th {\n",
              "        vertical-align: top;\n",
              "    }\n",
              "\n",
              "    .dataframe thead th {\n",
              "        text-align: right;\n",
              "    }\n",
              "</style>\n",
              "<table border=\"1\" class=\"dataframe\">\n",
              "  <thead>\n",
              "    <tr style=\"text-align: right;\">\n",
              "      <th></th>\n",
              "      <th>item_cnt_month</th>\n",
              "    </tr>\n",
              "    <tr>\n",
              "      <th>date_block_num</th>\n",
              "      <th></th>\n",
              "    </tr>\n",
              "  </thead>\n",
              "  <tbody>\n",
              "    <tr>\n",
              "      <th>0</th>\n",
              "      <td>100718.000</td>\n",
              "    </tr>\n",
              "    <tr>\n",
              "      <th>1</th>\n",
              "      <td>100207.000</td>\n",
              "    </tr>\n",
              "    <tr>\n",
              "      <th>2</th>\n",
              "      <td>114905.000</td>\n",
              "    </tr>\n",
              "    <tr>\n",
              "      <th>3</th>\n",
              "      <td>84189.000</td>\n",
              "    </tr>\n",
              "    <tr>\n",
              "      <th>4</th>\n",
              "      <td>85763.000</td>\n",
              "    </tr>\n",
              "    <tr>\n",
              "      <th>5</th>\n",
              "      <td>103566.000</td>\n",
              "    </tr>\n",
              "    <tr>\n",
              "      <th>6</th>\n",
              "      <td>94986.000</td>\n",
              "    </tr>\n",
              "    <tr>\n",
              "      <th>7</th>\n",
              "      <td>101691.000</td>\n",
              "    </tr>\n",
              "    <tr>\n",
              "      <th>8</th>\n",
              "      <td>107568.000</td>\n",
              "    </tr>\n",
              "    <tr>\n",
              "      <th>9</th>\n",
              "      <td>98640.000</td>\n",
              "    </tr>\n",
              "    <tr>\n",
              "      <th>10</th>\n",
              "      <td>105871.000</td>\n",
              "    </tr>\n",
              "    <tr>\n",
              "      <th>11</th>\n",
              "      <td>149596.000</td>\n",
              "    </tr>\n",
              "    <tr>\n",
              "      <th>12</th>\n",
              "      <td>93532.000</td>\n",
              "    </tr>\n",
              "    <tr>\n",
              "      <th>13</th>\n",
              "      <td>89568.000</td>\n",
              "    </tr>\n",
              "    <tr>\n",
              "      <th>14</th>\n",
              "      <td>93754.000</td>\n",
              "    </tr>\n",
              "    <tr>\n",
              "      <th>15</th>\n",
              "      <td>77863.000</td>\n",
              "    </tr>\n",
              "    <tr>\n",
              "      <th>16</th>\n",
              "      <td>79114.000</td>\n",
              "    </tr>\n",
              "    <tr>\n",
              "      <th>17</th>\n",
              "      <td>79394.000</td>\n",
              "    </tr>\n",
              "    <tr>\n",
              "      <th>18</th>\n",
              "      <td>74844.000</td>\n",
              "    </tr>\n",
              "    <tr>\n",
              "      <th>19</th>\n",
              "      <td>84347.000</td>\n",
              "    </tr>\n",
              "    <tr>\n",
              "      <th>20</th>\n",
              "      <td>81850.000</td>\n",
              "    </tr>\n",
              "    <tr>\n",
              "      <th>21</th>\n",
              "      <td>81493.000</td>\n",
              "    </tr>\n",
              "    <tr>\n",
              "      <th>22</th>\n",
              "      <td>97211.000</td>\n",
              "    </tr>\n",
              "    <tr>\n",
              "      <th>23</th>\n",
              "      <td>140654.000</td>\n",
              "    </tr>\n",
              "    <tr>\n",
              "      <th>24</th>\n",
              "      <td>91120.000</td>\n",
              "    </tr>\n",
              "    <tr>\n",
              "      <th>25</th>\n",
              "      <td>72865.000</td>\n",
              "    </tr>\n",
              "    <tr>\n",
              "      <th>26</th>\n",
              "      <td>71656.000</td>\n",
              "    </tr>\n",
              "    <tr>\n",
              "      <th>27</th>\n",
              "      <td>71979.000</td>\n",
              "    </tr>\n",
              "    <tr>\n",
              "      <th>28</th>\n",
              "      <td>67005.000</td>\n",
              "    </tr>\n",
              "    <tr>\n",
              "      <th>29</th>\n",
              "      <td>60220.000</td>\n",
              "    </tr>\n",
              "    <tr>\n",
              "      <th>30</th>\n",
              "      <td>60084.000</td>\n",
              "    </tr>\n",
              "    <tr>\n",
              "      <th>31</th>\n",
              "      <td>65280.000</td>\n",
              "    </tr>\n",
              "    <tr>\n",
              "      <th>32</th>\n",
              "      <td>72365.000</td>\n",
              "    </tr>\n",
              "    <tr>\n",
              "      <th>33</th>\n",
              "      <td>63216.000</td>\n",
              "    </tr>\n",
              "    <tr>\n",
              "      <th>34</th>\n",
              "      <td>0.000</td>\n",
              "    </tr>\n",
              "  </tbody>\n",
              "</table>\n",
              "</div>"
            ],
            "text/plain": [
              "                item_cnt_month\n",
              "date_block_num                \n",
              "0                   100718.000\n",
              "1                   100207.000\n",
              "2                   114905.000\n",
              "3                    84189.000\n",
              "4                    85763.000\n",
              "5                   103566.000\n",
              "6                    94986.000\n",
              "7                   101691.000\n",
              "8                   107568.000\n",
              "9                    98640.000\n",
              "10                  105871.000\n",
              "11                  149596.000\n",
              "12                   93532.000\n",
              "13                   89568.000\n",
              "14                   93754.000\n",
              "15                   77863.000\n",
              "16                   79114.000\n",
              "17                   79394.000\n",
              "18                   74844.000\n",
              "19                   84347.000\n",
              "20                   81850.000\n",
              "21                   81493.000\n",
              "22                   97211.000\n",
              "23                  140654.000\n",
              "24                   91120.000\n",
              "25                   72865.000\n",
              "26                   71656.000\n",
              "27                   71979.000\n",
              "28                   67005.000\n",
              "29                   60220.000\n",
              "30                   60084.000\n",
              "31                   65280.000\n",
              "32                   72365.000\n",
              "33                   63216.000\n",
              "34                       0.000"
            ]
          },
          "metadata": {
            "tags": []
          },
          "execution_count": 37
        }
      ]
    },
    {
      "cell_type": "code",
      "metadata": {
        "colab": {
          "base_uri": "https://localhost:8080/",
          "height": 1000
        },
        "id": "A2DpdGhBJco1",
        "outputId": "a93433f0-296d-4bcc-d541-4363f6402b60"
      },
      "source": [
        "import seaborn as sns\n",
        "import matplotlib as mpl\n",
        "import matplotlib.pyplot as plt\n",
        "%matplotlib inline\n",
        "\n",
        "mpl.rc('font', size=13)\n",
        "figure, ax = plt.subplots() \n",
        "figure.set_size_inches(11, 5)\n",
        "\n",
        "# total montly item sales\n",
        "group_month_sum = all_data.groupby('date_block_num').agg({'item_cnt_month': 'sum'})\n",
        "group_month_sum = group_month_sum.reset_index()\n",
        "\n",
        "sns.barplot(x='date_block_num', y='item_cnt_month', data=group_month_sum)\n",
        "ax.set(title='Distribution of monthly item counts by date block number',\n",
        "       xlabel='Date block number', \n",
        "       ylabel='Monthly item counts');\n",
        "\n",
        "figure, ax= plt.subplots() \n",
        "figure.set_size_inches(11, 5)\n",
        "\n",
        "# Total item sales by item_category_id\n",
        "group_cat_sum = all_data.groupby('item_category_id').agg({'item_cnt_month': 'sum'})\n",
        "group_cat_sum = group_cat_sum.reset_index()\n",
        "\n",
        "# Extract only item categories with total sales > 10,000\n",
        "group_cat_sum = group_cat_sum[group_cat_sum['item_cnt_month'] > 10000]\n",
        "\n",
        "sns.barplot(x='item_category_id', y='item_cnt_month', data=group_cat_sum)\n",
        "ax.set(title='Distribution of total item counts by item category id',\n",
        "       xlabel='Item category ID', \n",
        "       ylabel='Total item counts')\n",
        "ax.tick_params(axis='x', labelrotation=90) # Rotate X label\n",
        "\n",
        "figure, ax= plt.subplots() \n",
        "figure.set_size_inches(11, 5)\n",
        "\n",
        "# Total item sales by shop_id\n",
        "group_shop_sum = all_data.groupby('shop_id').agg({'item_cnt_month': 'sum'})\n",
        "group_shop_sum = group_shop_sum.reset_index()\n",
        "\n",
        "group_shop_sum = group_shop_sum[group_shop_sum['item_cnt_month'] > 10000]\n",
        "\n",
        "sns.barplot(x='shop_id', y='item_cnt_month', data=group_shop_sum)\n",
        "ax.set(title='Distribution of total item counts by shop id',\n",
        "       xlabel='Shop ID', \n",
        "       ylabel='Total item counts')\n",
        "ax.tick_params(axis='x', labelrotation=90)"
      ],
      "execution_count": null,
      "outputs": [
        {
          "output_type": "display_data",
          "data": {
            "image/png": "[encoded data removed]",
            "text/plain": [
              "<Figure size 792x360 with 1 Axes>"
            ]
          },
          "metadata": {
            "tags": [],
            "needs_background": "light"
          }
        },
        {
          "output_type": "display_data",
          "data": {
            "image/png": "[encoded data removed]",
            "text/plain": [
              "<Figure size 792x360 with 1 Axes>"
            ]
          },
          "metadata": {
            "tags": [],
            "needs_background": "light"
          }
        },
        {
          "output_type": "display_data",
          "data": {
            "image/png": "[encoded data removed]",
            "text/plain": [
              "<Figure size 792x360 with 1 Axes>"
            ]
          },
          "metadata": {
            "tags": [],
            "needs_background": "light"
          }
        }
      ]
    },
    {
      "cell_type": "code",
      "metadata": {
        "id": "YqZMaCVMJco3"
      },
      "source": [
        "#all_data, item_mean_features = add_mean_features(df=all_data,\n",
        "#                                                 mean_features=item_mean_features,\n",
        "#                                                 idx_features=['date_block_num', 'item_id'])\n",
        "\n",
        "def add_mean_features(df, mean_features, idx_features):\n",
        "    # Check base features\n",
        "    assert (idx_features[0] == 'date_block_num') and \\\n",
        "           len(idx_features) in [2, 3]\n",
        "    \n",
        "    # Set derived feature name \n",
        "    if len(idx_features) == 2:\n",
        "        feature_name = idx_features[1] + '_mean_sales'\n",
        "    else:\n",
        "        feature_name = idx_features[1] + '_' + idx_features[2] + '_mean_sales'\n",
        "    \n",
        "    # Get average monthly sales by grouping based on base features\n",
        "    group = df.groupby(idx_features).agg({'item_cnt_month': 'mean'})\n",
        "    group = group.reset_index()\n",
        "    group = group.rename(columns={'item_cnt_month': feature_name})\n",
        "    \n",
        "    # Merge df with group based on idx_features\n",
        "    df = df.merge(group, on=idx_features, how='left')\n",
        "    # Date downcasting\n",
        "    df = downcast(df, False)\n",
        "    # Append newly created mean_feature_name features to the mean_features list\n",
        "    mean_features.append(feature_name)\n",
        "    # Garbage collection\n",
        "    del group\n",
        "    gc.collect()\n",
        "    \n",
        "    return df, mean_features"
      ],
      "execution_count": null,
      "outputs": []
    },
    {
      "cell_type": "code",
      "metadata": {
        "colab": {
          "base_uri": "https://localhost:8080/",
          "height": 297
        },
        "id": "uxdomu_rJco5",
        "outputId": "e3f257e0-703b-44e3-c725-c6781bfa1a4a"
      },
      "source": [
        "all_data.describe()"
      ],
      "execution_count": null,
      "outputs": [
        {
          "output_type": "execute_result",
          "data": {
            "text/html": [
              "<div>\n",
              "<style scoped>\n",
              "    .dataframe tbody tr th:only-of-type {\n",
              "        vertical-align: middle;\n",
              "    }\n",
              "\n",
              "    .dataframe tbody tr th {\n",
              "        vertical-align: top;\n",
              "    }\n",
              "\n",
              "    .dataframe thead th {\n",
              "        text-align: right;\n",
              "    }\n",
              "</style>\n",
              "<table border=\"1\" class=\"dataframe\">\n",
              "  <thead>\n",
              "    <tr style=\"text-align: right;\">\n",
              "      <th></th>\n",
              "      <th>date_block_num</th>\n",
              "      <th>shop_id</th>\n",
              "      <th>item_id</th>\n",
              "      <th>item_cnt_month</th>\n",
              "      <th>item_price_mean</th>\n",
              "      <th>item_count</th>\n",
              "      <th>city</th>\n",
              "      <th>item_category_id</th>\n",
              "      <th>first_sale_date</th>\n",
              "      <th>category</th>\n",
              "    </tr>\n",
              "  </thead>\n",
              "  <tbody>\n",
              "    <tr>\n",
              "      <th>count</th>\n",
              "      <td>8856961.000</td>\n",
              "      <td>8856961.000</td>\n",
              "      <td>8856961.000</td>\n",
              "      <td>8856961.000</td>\n",
              "      <td>8856961.000</td>\n",
              "      <td>8856961.000</td>\n",
              "      <td>8856961.000</td>\n",
              "      <td>8856961.000</td>\n",
              "      <td>8856961.000</td>\n",
              "      <td>8856961.000</td>\n",
              "    </tr>\n",
              "    <tr>\n",
              "      <th>mean</th>\n",
              "      <td>16.019</td>\n",
              "      <td>31.019</td>\n",
              "      <td>11250.661</td>\n",
              "      <td>0.341</td>\n",
              "      <td>121.119</td>\n",
              "      <td>0.274</td>\n",
              "      <td>15.208</td>\n",
              "      <td>44.834</td>\n",
              "      <td>6.229</td>\n",
              "      <td>5.563</td>\n",
              "    </tr>\n",
              "    <tr>\n",
              "      <th>std</th>\n",
              "      <td>9.977</td>\n",
              "      <td>17.923</td>\n",
              "      <td>6216.085</td>\n",
              "      <td>3.387</td>\n",
              "      <td>661.657</td>\n",
              "      <td>1.008</td>\n",
              "      <td>8.358</td>\n",
              "      <td>15.272</td>\n",
              "      <td>8.508</td>\n",
              "      <td>1.826</td>\n",
              "    </tr>\n",
              "    <tr>\n",
              "      <th>min</th>\n",
              "      <td>0.000</td>\n",
              "      <td>2.000</td>\n",
              "      <td>1.000</td>\n",
              "      <td>0.000</td>\n",
              "      <td>0.000</td>\n",
              "      <td>0.000</td>\n",
              "      <td>0.000</td>\n",
              "      <td>0.000</td>\n",
              "      <td>0.000</td>\n",
              "      <td>0.000</td>\n",
              "    </tr>\n",
              "    <tr>\n",
              "      <th>25%</th>\n",
              "      <td>7.000</td>\n",
              "      <td>15.000</td>\n",
              "      <td>5859.000</td>\n",
              "      <td>0.000</td>\n",
              "      <td>0.000</td>\n",
              "      <td>0.000</td>\n",
              "      <td>9.000</td>\n",
              "      <td>37.000</td>\n",
              "      <td>0.000</td>\n",
              "      <td>5.000</td>\n",
              "    </tr>\n",
              "    <tr>\n",
              "      <th>50%</th>\n",
              "      <td>15.000</td>\n",
              "      <td>31.000</td>\n",
              "      <td>11344.000</td>\n",
              "      <td>0.000</td>\n",
              "      <td>0.000</td>\n",
              "      <td>0.000</td>\n",
              "      <td>13.000</td>\n",
              "      <td>40.000</td>\n",
              "      <td>1.000</td>\n",
              "      <td>5.000</td>\n",
              "    </tr>\n",
              "    <tr>\n",
              "      <th>75%</th>\n",
              "      <td>24.000</td>\n",
              "      <td>47.000</td>\n",
              "      <td>16533.000</td>\n",
              "      <td>0.000</td>\n",
              "      <td>0.000</td>\n",
              "      <td>0.000</td>\n",
              "      <td>22.000</td>\n",
              "      <td>55.000</td>\n",
              "      <td>11.000</td>\n",
              "      <td>7.000</td>\n",
              "    </tr>\n",
              "    <tr>\n",
              "      <th>max</th>\n",
              "      <td>34.000</td>\n",
              "      <td>59.000</td>\n",
              "      <td>22169.000</td>\n",
              "      <td>1644.000</td>\n",
              "      <td>49782.000</td>\n",
              "      <td>57.000</td>\n",
              "      <td>30.000</td>\n",
              "      <td>83.000</td>\n",
              "      <td>34.000</td>\n",
              "      <td>9.000</td>\n",
              "    </tr>\n",
              "  </tbody>\n",
              "</table>\n",
              "</div>"
            ],
            "text/plain": [
              "       date_block_num     shop_id  ...  first_sale_date    category\n",
              "count     8856961.000 8856961.000  ...      8856961.000 8856961.000\n",
              "mean           16.019      31.019  ...            6.229       5.563\n",
              "std             9.977      17.923  ...            8.508       1.826\n",
              "min             0.000       2.000  ...            0.000       0.000\n",
              "25%             7.000      15.000  ...            0.000       5.000\n",
              "50%            15.000      31.000  ...            1.000       5.000\n",
              "75%            24.000      47.000  ...           11.000       7.000\n",
              "max            34.000      59.000  ...           34.000       9.000\n",
              "\n",
              "[8 rows x 10 columns]"
            ]
          },
          "metadata": {
            "tags": []
          },
          "execution_count": 40
        }
      ]
    },
    {
      "cell_type": "code",
      "metadata": {
        "id": "eWSA51RhJco6"
      },
      "source": [
        "# List of derived features containing 'item_id' in the grouping base features\n",
        "item_mean_features = []\n",
        "\n",
        "\n",
        "# Create monthly average sales derived features grouped by ['date_block_num', 'item_id']\n",
        "all_data, item_mean_features = add_mean_features(df=all_data,\n",
        "                                                 mean_features=item_mean_features,\n",
        "                                                 idx_features=['date_block_num', 'item_id'])"
      ],
      "execution_count": null,
      "outputs": []
    },
    {
      "cell_type": "code",
      "metadata": {
        "colab": {
          "base_uri": "https://localhost:8080/"
        },
        "id": "zffVO81EJco7",
        "outputId": "e185280f-1b75-4f32-84f8-7526e042eb02"
      },
      "source": [
        "item_mean_features"
      ],
      "execution_count": null,
      "outputs": [
        {
          "output_type": "execute_result",
          "data": {
            "text/plain": [
              "['item_id_mean_sales']"
            ]
          },
          "metadata": {
            "tags": []
          },
          "execution_count": 42
        }
      ]
    },
    {
      "cell_type": "code",
      "metadata": {
        "colab": {
          "base_uri": "https://localhost:8080/",
          "height": 297
        },
        "id": "sWczGFlgJco8",
        "outputId": "c58f610a-97b9-4668-c6d0-b71540f56c93"
      },
      "source": [
        "all_data.describe()"
      ],
      "execution_count": null,
      "outputs": [
        {
          "output_type": "execute_result",
          "data": {
            "text/html": [
              "<div>\n",
              "<style scoped>\n",
              "    .dataframe tbody tr th:only-of-type {\n",
              "        vertical-align: middle;\n",
              "    }\n",
              "\n",
              "    .dataframe tbody tr th {\n",
              "        vertical-align: top;\n",
              "    }\n",
              "\n",
              "    .dataframe thead th {\n",
              "        text-align: right;\n",
              "    }\n",
              "</style>\n",
              "<table border=\"1\" class=\"dataframe\">\n",
              "  <thead>\n",
              "    <tr style=\"text-align: right;\">\n",
              "      <th></th>\n",
              "      <th>date_block_num</th>\n",
              "      <th>shop_id</th>\n",
              "      <th>item_id</th>\n",
              "      <th>item_cnt_month</th>\n",
              "      <th>item_price_mean</th>\n",
              "      <th>item_count</th>\n",
              "      <th>city</th>\n",
              "      <th>item_category_id</th>\n",
              "      <th>first_sale_date</th>\n",
              "      <th>category</th>\n",
              "      <th>item_id_mean_sales</th>\n",
              "    </tr>\n",
              "  </thead>\n",
              "  <tbody>\n",
              "    <tr>\n",
              "      <th>count</th>\n",
              "      <td>8856961.000</td>\n",
              "      <td>8856961.000</td>\n",
              "      <td>8856961.000</td>\n",
              "      <td>8856961.000</td>\n",
              "      <td>8856961.000</td>\n",
              "      <td>8856961.000</td>\n",
              "      <td>8856961.000</td>\n",
              "      <td>8856961.000</td>\n",
              "      <td>8856961.000</td>\n",
              "      <td>8856961.000</td>\n",
              "      <td>8856961.000</td>\n",
              "    </tr>\n",
              "    <tr>\n",
              "      <th>mean</th>\n",
              "      <td>16.019</td>\n",
              "      <td>31.019</td>\n",
              "      <td>11250.661</td>\n",
              "      <td>0.341</td>\n",
              "      <td>121.119</td>\n",
              "      <td>0.274</td>\n",
              "      <td>15.208</td>\n",
              "      <td>44.834</td>\n",
              "      <td>6.229</td>\n",
              "      <td>5.563</td>\n",
              "      <td>0.330</td>\n",
              "    </tr>\n",
              "    <tr>\n",
              "      <th>std</th>\n",
              "      <td>9.977</td>\n",
              "      <td>17.923</td>\n",
              "      <td>6216.085</td>\n",
              "      <td>3.387</td>\n",
              "      <td>661.657</td>\n",
              "      <td>1.008</td>\n",
              "      <td>8.358</td>\n",
              "      <td>15.272</td>\n",
              "      <td>8.508</td>\n",
              "      <td>1.826</td>\n",
              "      <td>2.038</td>\n",
              "    </tr>\n",
              "    <tr>\n",
              "      <th>min</th>\n",
              "      <td>0.000</td>\n",
              "      <td>2.000</td>\n",
              "      <td>1.000</td>\n",
              "      <td>0.000</td>\n",
              "      <td>0.000</td>\n",
              "      <td>0.000</td>\n",
              "      <td>0.000</td>\n",
              "      <td>0.000</td>\n",
              "      <td>0.000</td>\n",
              "      <td>0.000</td>\n",
              "      <td>0.000</td>\n",
              "    </tr>\n",
              "    <tr>\n",
              "      <th>25%</th>\n",
              "      <td>7.000</td>\n",
              "      <td>15.000</td>\n",
              "      <td>5859.000</td>\n",
              "      <td>0.000</td>\n",
              "      <td>0.000</td>\n",
              "      <td>0.000</td>\n",
              "      <td>9.000</td>\n",
              "      <td>37.000</td>\n",
              "      <td>0.000</td>\n",
              "      <td>5.000</td>\n",
              "      <td>0.028</td>\n",
              "    </tr>\n",
              "    <tr>\n",
              "      <th>50%</th>\n",
              "      <td>15.000</td>\n",
              "      <td>31.000</td>\n",
              "      <td>11344.000</td>\n",
              "      <td>0.000</td>\n",
              "      <td>0.000</td>\n",
              "      <td>0.000</td>\n",
              "      <td>13.000</td>\n",
              "      <td>40.000</td>\n",
              "      <td>1.000</td>\n",
              "      <td>5.000</td>\n",
              "      <td>0.086</td>\n",
              "    </tr>\n",
              "    <tr>\n",
              "      <th>75%</th>\n",
              "      <td>24.000</td>\n",
              "      <td>47.000</td>\n",
              "      <td>16533.000</td>\n",
              "      <td>0.000</td>\n",
              "      <td>0.000</td>\n",
              "      <td>0.000</td>\n",
              "      <td>22.000</td>\n",
              "      <td>55.000</td>\n",
              "      <td>11.000</td>\n",
              "      <td>7.000</td>\n",
              "      <td>0.244</td>\n",
              "    </tr>\n",
              "    <tr>\n",
              "      <th>max</th>\n",
              "      <td>34.000</td>\n",
              "      <td>59.000</td>\n",
              "      <td>22169.000</td>\n",
              "      <td>1644.000</td>\n",
              "      <td>49782.000</td>\n",
              "      <td>57.000</td>\n",
              "      <td>30.000</td>\n",
              "      <td>83.000</td>\n",
              "      <td>34.000</td>\n",
              "      <td>9.000</td>\n",
              "      <td>267.868</td>\n",
              "    </tr>\n",
              "  </tbody>\n",
              "</table>\n",
              "</div>"
            ],
            "text/plain": [
              "       date_block_num     shop_id  ...    category  item_id_mean_sales\n",
              "count     8856961.000 8856961.000  ... 8856961.000         8856961.000\n",
              "mean           16.019      31.019  ...       5.563               0.330\n",
              "std             9.977      17.923  ...       1.826               2.038\n",
              "min             0.000       2.000  ...       0.000               0.000\n",
              "25%             7.000      15.000  ...       5.000               0.028\n",
              "50%            15.000      31.000  ...       5.000               0.086\n",
              "75%            24.000      47.000  ...       7.000               0.244\n",
              "max            34.000      59.000  ...       9.000             267.868\n",
              "\n",
              "[8 rows x 11 columns]"
            ]
          },
          "metadata": {
            "tags": []
          },
          "execution_count": 43
        }
      ]
    },
    {
      "cell_type": "code",
      "metadata": {
        "colab": {
          "base_uri": "https://localhost:8080/"
        },
        "id": "6uLILCbyJco9",
        "outputId": "6f26202d-45a5-4acd-d90c-f7a9d463d378"
      },
      "source": [
        "# Create monthly average sales derived features grouped by ['date_block_num', 'item_id', 'city']\n",
        "all_data, item_mean_features = add_mean_features(df=all_data,\n",
        "                                                 mean_features=item_mean_features,\n",
        "                                                 idx_features=['date_block_num', 'item_id', 'city'])\n",
        "\n",
        "item_mean_features\n"
      ],
      "execution_count": null,
      "outputs": [
        {
          "output_type": "execute_result",
          "data": {
            "text/plain": [
              "['item_id_mean_sales', 'item_id_city_mean_sales']"
            ]
          },
          "metadata": {
            "tags": []
          },
          "execution_count": 44
        }
      ]
    },
    {
      "cell_type": "code",
      "metadata": {
        "colab": {
          "base_uri": "https://localhost:8080/"
        },
        "id": "1l_bZXFIJco9",
        "outputId": "3b49234c-ef9c-4dd1-cd28-07c03457dfba"
      },
      "source": [
        "# List of derived features containing 'shop_id' in the grouping base features\n",
        "shop_mean_features = []\n",
        "\n",
        "# Create monthly average sales derived features grouped by ['date_block_num', 'shop_id', 'item_category_id']\n",
        "all_data, shop_mean_features = add_mean_features(df=all_data, \n",
        "                                                 mean_features=shop_mean_features,\n",
        "                                                 idx_features=['date_block_num', 'shop_id', 'item_category_id'])\n",
        "shop_mean_features"
      ],
      "execution_count": null,
      "outputs": [
        {
          "output_type": "execute_result",
          "data": {
            "text/plain": [
              "['shop_id_item_category_id_mean_sales']"
            ]
          },
          "metadata": {
            "tags": []
          },
          "execution_count": 45
        }
      ]
    },
    {
      "cell_type": "code",
      "metadata": {
        "id": "GVMRTridJco-"
      },
      "source": [
        "#all_data, lag_features_to_clip = add_lag_features(df=all_data, \n",
        "#                                                  lag_features_to_clip=lag_features_to_clip,\n",
        "#                                                  idx_features=idx_features,\n",
        "#                                                  lag_feature='item_cnt_month', \n",
        "#                                                  nlags=3,\n",
        "#                                                  clip=True)\n",
        "\n",
        "\n",
        "\n",
        "def add_lag_features(df, lag_features_to_clip, idx_features, \n",
        "                     lag_feature, nlags=3, clip=False):\n",
        "    # Copy only the part of the DataFrame needed to create the lag features\n",
        "    df_temp = df[idx_features + [lag_feature]].copy() \n",
        "\n",
        "    # Create lag features\n",
        "    for i in range(1, nlags+1):\n",
        "        # Lag featrue name -> 'item_cnt_month'\n",
        "        lag_feature_name = lag_feature +'_lag' + str(i)\n",
        "        # Set df_temp column name --> ['date_block_num', 'shop_id', 'item_id'] + item_cnt_month\n",
        "        df_temp.columns = idx_features + [lag_feature_name]\n",
        "        # Add 1 to date_block_num feature in df_temp\n",
        "        df_temp['date_block_num'] += i\n",
        "       \n",
        "        \n",
        "        # Merge df with df_temp based on idx_feature\n",
        "        df = df.merge(df_temp.drop_duplicates(), \n",
        "                      on=idx_features, \n",
        "                      how='left')\n",
        "        # Replace NaN with 0\n",
        "        df[lag_feature_name] = df[lag_feature_name].fillna(0)\n",
        "        # Add lag features to lag_features_to_clip to clip between 0 and 20\n",
        "        if clip: \n",
        "            lag_features_to_clip.append(lag_feature_name)\n",
        "    # Date downcasting\n",
        "    df = downcast(df, False)\n",
        "    # Garbage collection\n",
        "    del df_temp\n",
        "    gc.collect()\n",
        "    \n",
        "    return df, lag_features_to_clip"
      ],
      "execution_count": null,
      "outputs": []
    },
    {
      "cell_type": "code",
      "metadata": {
        "colab": {
          "base_uri": "https://localhost:8080/"
        },
        "id": "loDRKS1NJco_",
        "outputId": "c3566649-6362-491b-9249-809f4afad35d"
      },
      "source": [
        "#idx_features = ['date_block_num', 'shop_id', 'item_id']\n",
        "\n",
        "lag_features_to_clip = [] # list of lag features to be clipped to between 0 to 20 \n",
        "idx_features = ['date_block_num', 'shop_id', 'item_id'] # base features\n",
        "# Create 3 month lag features of item_cnt_month based on idx_features\n",
        "\n",
        "all_data, lag_features_to_clip = add_lag_features(df=all_data, \n",
        "                                                  lag_features_to_clip=lag_features_to_clip,\n",
        "                                                  idx_features=idx_features,\n",
        "                                                  lag_feature='item_cnt_month', \n",
        "                                                  nlags=3,\n",
        "                                                  clip=True)\n",
        "all_data.head().T\n",
        "\n",
        "lag_features_to_clip"
      ],
      "execution_count": null,
      "outputs": [
        {
          "output_type": "execute_result",
          "data": {
            "text/plain": [
              "['item_cnt_month_lag1', 'item_cnt_month_lag2', 'item_cnt_month_lag3']"
            ]
          },
          "metadata": {
            "tags": []
          },
          "execution_count": 47
        }
      ]
    },
    {
      "cell_type": "code",
      "metadata": {
        "colab": {
          "base_uri": "https://localhost:8080/",
          "height": 546
        },
        "id": "MruZ_86zJcpA",
        "outputId": "93241ae7-66a5-4bcb-baf1-c48e549ffcb0"
      },
      "source": [
        "all_data.head().T"
      ],
      "execution_count": null,
      "outputs": [
        {
          "output_type": "execute_result",
          "data": {
            "text/html": [
              "<div>\n",
              "<style scoped>\n",
              "    .dataframe tbody tr th:only-of-type {\n",
              "        vertical-align: middle;\n",
              "    }\n",
              "\n",
              "    .dataframe tbody tr th {\n",
              "        vertical-align: top;\n",
              "    }\n",
              "\n",
              "    .dataframe thead th {\n",
              "        text-align: right;\n",
              "    }\n",
              "</style>\n",
              "<table border=\"1\" class=\"dataframe\">\n",
              "  <thead>\n",
              "    <tr style=\"text-align: right;\">\n",
              "      <th></th>\n",
              "      <th>0</th>\n",
              "      <th>1</th>\n",
              "      <th>2</th>\n",
              "      <th>3</th>\n",
              "      <th>4</th>\n",
              "    </tr>\n",
              "  </thead>\n",
              "  <tbody>\n",
              "    <tr>\n",
              "      <th>date_block_num</th>\n",
              "      <td>0.000</td>\n",
              "      <td>0.000</td>\n",
              "      <td>0.000</td>\n",
              "      <td>0.000</td>\n",
              "      <td>0.000</td>\n",
              "    </tr>\n",
              "    <tr>\n",
              "      <th>shop_id</th>\n",
              "      <td>59.000</td>\n",
              "      <td>59.000</td>\n",
              "      <td>59.000</td>\n",
              "      <td>59.000</td>\n",
              "      <td>59.000</td>\n",
              "    </tr>\n",
              "    <tr>\n",
              "      <th>item_id</th>\n",
              "      <td>22154.000</td>\n",
              "      <td>2552.000</td>\n",
              "      <td>2554.000</td>\n",
              "      <td>2555.000</td>\n",
              "      <td>2564.000</td>\n",
              "    </tr>\n",
              "    <tr>\n",
              "      <th>item_cnt_month</th>\n",
              "      <td>1.000</td>\n",
              "      <td>0.000</td>\n",
              "      <td>0.000</td>\n",
              "      <td>0.000</td>\n",
              "      <td>0.000</td>\n",
              "    </tr>\n",
              "    <tr>\n",
              "      <th>item_price_mean</th>\n",
              "      <td>999.000</td>\n",
              "      <td>0.000</td>\n",
              "      <td>0.000</td>\n",
              "      <td>0.000</td>\n",
              "      <td>0.000</td>\n",
              "    </tr>\n",
              "    <tr>\n",
              "      <th>item_count</th>\n",
              "      <td>1.000</td>\n",
              "      <td>0.000</td>\n",
              "      <td>0.000</td>\n",
              "      <td>0.000</td>\n",
              "      <td>0.000</td>\n",
              "    </tr>\n",
              "    <tr>\n",
              "      <th>city</th>\n",
              "      <td>30.000</td>\n",
              "      <td>30.000</td>\n",
              "      <td>30.000</td>\n",
              "      <td>30.000</td>\n",
              "      <td>30.000</td>\n",
              "    </tr>\n",
              "    <tr>\n",
              "      <th>item_category_id</th>\n",
              "      <td>37.000</td>\n",
              "      <td>58.000</td>\n",
              "      <td>58.000</td>\n",
              "      <td>56.000</td>\n",
              "      <td>59.000</td>\n",
              "    </tr>\n",
              "    <tr>\n",
              "      <th>first_sale_date</th>\n",
              "      <td>0.000</td>\n",
              "      <td>0.000</td>\n",
              "      <td>0.000</td>\n",
              "      <td>0.000</td>\n",
              "      <td>0.000</td>\n",
              "    </tr>\n",
              "    <tr>\n",
              "      <th>category</th>\n",
              "      <td>5.000</td>\n",
              "      <td>7.000</td>\n",
              "      <td>7.000</td>\n",
              "      <td>7.000</td>\n",
              "      <td>7.000</td>\n",
              "    </tr>\n",
              "    <tr>\n",
              "      <th>item_id_mean_sales</th>\n",
              "      <td>0.457</td>\n",
              "      <td>0.029</td>\n",
              "      <td>0.029</td>\n",
              "      <td>0.029</td>\n",
              "      <td>0.143</td>\n",
              "    </tr>\n",
              "    <tr>\n",
              "      <th>item_id_city_mean_sales</th>\n",
              "      <td>1.000</td>\n",
              "      <td>0.000</td>\n",
              "      <td>0.000</td>\n",
              "      <td>0.000</td>\n",
              "      <td>0.000</td>\n",
              "    </tr>\n",
              "    <tr>\n",
              "      <th>shop_id_item_category_id_mean_sales</th>\n",
              "      <td>0.097</td>\n",
              "      <td>0.000</td>\n",
              "      <td>0.000</td>\n",
              "      <td>0.011</td>\n",
              "      <td>0.013</td>\n",
              "    </tr>\n",
              "    <tr>\n",
              "      <th>item_cnt_month_lag1</th>\n",
              "      <td>0.000</td>\n",
              "      <td>0.000</td>\n",
              "      <td>0.000</td>\n",
              "      <td>0.000</td>\n",
              "      <td>0.000</td>\n",
              "    </tr>\n",
              "    <tr>\n",
              "      <th>item_cnt_month_lag2</th>\n",
              "      <td>0.000</td>\n",
              "      <td>0.000</td>\n",
              "      <td>0.000</td>\n",
              "      <td>0.000</td>\n",
              "      <td>0.000</td>\n",
              "    </tr>\n",
              "    <tr>\n",
              "      <th>item_cnt_month_lag3</th>\n",
              "      <td>0.000</td>\n",
              "      <td>0.000</td>\n",
              "      <td>0.000</td>\n",
              "      <td>0.000</td>\n",
              "      <td>0.000</td>\n",
              "    </tr>\n",
              "  </tbody>\n",
              "</table>\n",
              "</div>"
            ],
            "text/plain": [
              "                                            0        1  ...        3        4\n",
              "date_block_num                          0.000    0.000  ...    0.000    0.000\n",
              "shop_id                                59.000   59.000  ...   59.000   59.000\n",
              "item_id                             22154.000 2552.000  ... 2555.000 2564.000\n",
              "item_cnt_month                          1.000    0.000  ...    0.000    0.000\n",
              "item_price_mean                       999.000    0.000  ...    0.000    0.000\n",
              "item_count                              1.000    0.000  ...    0.000    0.000\n",
              "city                                   30.000   30.000  ...   30.000   30.000\n",
              "item_category_id                       37.000   58.000  ...   56.000   59.000\n",
              "first_sale_date                         0.000    0.000  ...    0.000    0.000\n",
              "category                                5.000    7.000  ...    7.000    7.000\n",
              "item_id_mean_sales                      0.457    0.029  ...    0.029    0.143\n",
              "item_id_city_mean_sales                 1.000    0.000  ...    0.000    0.000\n",
              "shop_id_item_category_id_mean_sales     0.097    0.000  ...    0.011    0.013\n",
              "item_cnt_month_lag1                     0.000    0.000  ...    0.000    0.000\n",
              "item_cnt_month_lag2                     0.000    0.000  ...    0.000    0.000\n",
              "item_cnt_month_lag3                     0.000    0.000  ...    0.000    0.000\n",
              "\n",
              "[16 rows x 5 columns]"
            ]
          },
          "metadata": {
            "tags": []
          },
          "execution_count": 48
        }
      ]
    },
    {
      "cell_type": "code",
      "metadata": {
        "colab": {
          "base_uri": "https://localhost:8080/"
        },
        "id": "75e_CNVHJcpA",
        "outputId": "8509b268-9185-4fb6-a955-429f5181e16f"
      },
      "source": [
        "item_mean_features"
      ],
      "execution_count": null,
      "outputs": [
        {
          "output_type": "execute_result",
          "data": {
            "text/plain": [
              "['item_id_mean_sales', 'item_id_city_mean_sales']"
            ]
          },
          "metadata": {
            "tags": []
          },
          "execution_count": 49
        }
      ]
    },
    {
      "cell_type": "code",
      "metadata": {
        "colab": {
          "base_uri": "https://localhost:8080/"
        },
        "id": "LXN7yXaZJcpB",
        "outputId": "745d49a5-2cb8-4f13-d1fc-b65ea4767ed0"
      },
      "source": [
        "# Create 3 month lag features of item_count feature based on idx_features\n",
        "all_data, lag_features_to_clip = add_lag_features(df=all_data, \n",
        "                                                  lag_features_to_clip=lag_features_to_clip,\n",
        "                                                  idx_features=idx_features,\n",
        "                                                  lag_feature='item_count', \n",
        "                                                  nlags=3)\n",
        "\n",
        "# Create 3 month lag features of item_price_mean feature based on idx_features\n",
        "all_data, lag_features_to_clip = add_lag_features(df=all_data, \n",
        "                                                  lag_features_to_clip=lag_features_to_clip,\n",
        "                                                  idx_features=idx_features,\n",
        "                                                  lag_feature='item_price_mean', \n",
        "                                                  nlags=3)\n",
        "X_test_temp = all_data[all_data['date_block_num'] == 34]\n",
        "X_test_temp[item_mean_features].sum()"
      ],
      "execution_count": null,
      "outputs": [
        {
          "output_type": "execute_result",
          "data": {
            "text/plain": [
              "item_id_mean_sales        0.000\n",
              "item_id_city_mean_sales   0.000\n",
              "dtype: float32"
            ]
          },
          "metadata": {
            "tags": []
          },
          "execution_count": 50
        }
      ]
    },
    {
      "cell_type": "code",
      "metadata": {
        "colab": {
          "base_uri": "https://localhost:8080/",
          "height": 420
        },
        "id": "i4nU4ml3JcpC",
        "outputId": "eeaf5ec1-68f6-4784-8310-b4e2658d415d"
      },
      "source": [
        "X_test_temp[item_mean_features]"
      ],
      "execution_count": null,
      "outputs": [
        {
          "output_type": "execute_result",
          "data": {
            "text/html": [
              "<div>\n",
              "<style scoped>\n",
              "    .dataframe tbody tr th:only-of-type {\n",
              "        vertical-align: middle;\n",
              "    }\n",
              "\n",
              "    .dataframe tbody tr th {\n",
              "        vertical-align: top;\n",
              "    }\n",
              "\n",
              "    .dataframe thead th {\n",
              "        text-align: right;\n",
              "    }\n",
              "</style>\n",
              "<table border=\"1\" class=\"dataframe\">\n",
              "  <thead>\n",
              "    <tr style=\"text-align: right;\">\n",
              "      <th></th>\n",
              "      <th>item_id_mean_sales</th>\n",
              "      <th>item_id_city_mean_sales</th>\n",
              "    </tr>\n",
              "  </thead>\n",
              "  <tbody>\n",
              "    <tr>\n",
              "      <th>8642761</th>\n",
              "      <td>0.000</td>\n",
              "      <td>0.000</td>\n",
              "    </tr>\n",
              "    <tr>\n",
              "      <th>8642762</th>\n",
              "      <td>0.000</td>\n",
              "      <td>0.000</td>\n",
              "    </tr>\n",
              "    <tr>\n",
              "      <th>8642763</th>\n",
              "      <td>0.000</td>\n",
              "      <td>0.000</td>\n",
              "    </tr>\n",
              "    <tr>\n",
              "      <th>8642764</th>\n",
              "      <td>0.000</td>\n",
              "      <td>0.000</td>\n",
              "    </tr>\n",
              "    <tr>\n",
              "      <th>8642765</th>\n",
              "      <td>0.000</td>\n",
              "      <td>0.000</td>\n",
              "    </tr>\n",
              "    <tr>\n",
              "      <th>...</th>\n",
              "      <td>...</td>\n",
              "      <td>...</td>\n",
              "    </tr>\n",
              "    <tr>\n",
              "      <th>8856956</th>\n",
              "      <td>0.000</td>\n",
              "      <td>0.000</td>\n",
              "    </tr>\n",
              "    <tr>\n",
              "      <th>8856957</th>\n",
              "      <td>0.000</td>\n",
              "      <td>0.000</td>\n",
              "    </tr>\n",
              "    <tr>\n",
              "      <th>8856958</th>\n",
              "      <td>0.000</td>\n",
              "      <td>0.000</td>\n",
              "    </tr>\n",
              "    <tr>\n",
              "      <th>8856959</th>\n",
              "      <td>0.000</td>\n",
              "      <td>0.000</td>\n",
              "    </tr>\n",
              "    <tr>\n",
              "      <th>8856960</th>\n",
              "      <td>0.000</td>\n",
              "      <td>0.000</td>\n",
              "    </tr>\n",
              "  </tbody>\n",
              "</table>\n",
              "<p>214200 rows × 2 columns</p>\n",
              "</div>"
            ],
            "text/plain": [
              "         item_id_mean_sales  item_id_city_mean_sales\n",
              "8642761               0.000                    0.000\n",
              "8642762               0.000                    0.000\n",
              "8642763               0.000                    0.000\n",
              "8642764               0.000                    0.000\n",
              "8642765               0.000                    0.000\n",
              "...                     ...                      ...\n",
              "8856956               0.000                    0.000\n",
              "8856957               0.000                    0.000\n",
              "8856958               0.000                    0.000\n",
              "8856959               0.000                    0.000\n",
              "8856960               0.000                    0.000\n",
              "\n",
              "[214200 rows x 2 columns]"
            ]
          },
          "metadata": {
            "tags": []
          },
          "execution_count": 51
        }
      ]
    },
    {
      "cell_type": "code",
      "metadata": {
        "colab": {
          "base_uri": "https://localhost:8080/"
        },
        "id": "ENVpAKNsJcpC",
        "outputId": "bf178d80-7ccf-477e-9804-36c7547b850e"
      },
      "source": [
        "# Create lag features by item_mean_features element based on dx_features\n",
        "for item_mean_feature in item_mean_features:\n",
        "    all_data, lag_features_to_clip = add_lag_features(df=all_data, \n",
        "                                                      lag_features_to_clip=lag_features_to_clip, \n",
        "                                                      idx_features=idx_features, \n",
        "                                                      lag_feature=item_mean_feature, \n",
        "                                                      nlags=3)\n",
        "# Remove features in item_mean_features\n",
        "all_data = all_data.drop(item_mean_features, axis=1)\n",
        "shop_mean_features"
      ],
      "execution_count": null,
      "outputs": [
        {
          "output_type": "execute_result",
          "data": {
            "text/plain": [
              "['shop_id_item_category_id_mean_sales']"
            ]
          },
          "metadata": {
            "tags": []
          },
          "execution_count": 52
        }
      ]
    },
    {
      "cell_type": "code",
      "metadata": {
        "id": "w8ivC9zSJcpD"
      },
      "source": [
        "# Create lag features by shop_mean_features element based on ['date_block_num', 'shop_id', 'item_category_id']\n",
        "for shop_mean_feature in shop_mean_features:\n",
        "    all_data, lag_features_to_clip = add_lag_features(df=all_data,\n",
        "                                                      lag_features_to_clip=lag_features_to_clip, \n",
        "                                                      idx_features=['date_block_num', 'shop_id', 'item_category_id'], \n",
        "                                                      lag_feature=shop_mean_feature, \n",
        "                                                      nlags=3)"
      ],
      "execution_count": null,
      "outputs": []
    },
    {
      "cell_type": "code",
      "metadata": {
        "colab": {
          "base_uri": "https://localhost:8080/"
        },
        "id": "IVKT0-wrJcpE",
        "outputId": "866adc66-d69a-47f4-9cae-40bf4e1e5f09"
      },
      "source": [
        "lag_features_to_clip"
      ],
      "execution_count": null,
      "outputs": [
        {
          "output_type": "execute_result",
          "data": {
            "text/plain": [
              "['item_cnt_month_lag1', 'item_cnt_month_lag2', 'item_cnt_month_lag3']"
            ]
          },
          "metadata": {
            "tags": []
          },
          "execution_count": 54
        }
      ]
    },
    {
      "cell_type": "code",
      "metadata": {
        "colab": {
          "base_uri": "https://localhost:8080/",
          "height": 224
        },
        "id": "N1ayThAxJcpE",
        "scrolled": true,
        "outputId": "891aefe3-95ea-46a2-e0c3-9996fb7a8108"
      },
      "source": [
        "all_data.head()"
      ],
      "execution_count": null,
      "outputs": [
        {
          "output_type": "execute_result",
          "data": {
            "text/html": [
              "<div>\n",
              "<style scoped>\n",
              "    .dataframe tbody tr th:only-of-type {\n",
              "        vertical-align: middle;\n",
              "    }\n",
              "\n",
              "    .dataframe tbody tr th {\n",
              "        vertical-align: top;\n",
              "    }\n",
              "\n",
              "    .dataframe thead th {\n",
              "        text-align: right;\n",
              "    }\n",
              "</style>\n",
              "<table border=\"1\" class=\"dataframe\">\n",
              "  <thead>\n",
              "    <tr style=\"text-align: right;\">\n",
              "      <th></th>\n",
              "      <th>date_block_num</th>\n",
              "      <th>shop_id</th>\n",
              "      <th>item_id</th>\n",
              "      <th>item_cnt_month</th>\n",
              "      <th>item_price_mean</th>\n",
              "      <th>item_count</th>\n",
              "      <th>city</th>\n",
              "      <th>item_category_id</th>\n",
              "      <th>first_sale_date</th>\n",
              "      <th>category</th>\n",
              "      <th>shop_id_item_category_id_mean_sales</th>\n",
              "      <th>item_cnt_month_lag1</th>\n",
              "      <th>item_cnt_month_lag2</th>\n",
              "      <th>item_cnt_month_lag3</th>\n",
              "      <th>item_count_lag1</th>\n",
              "      <th>item_count_lag2</th>\n",
              "      <th>item_count_lag3</th>\n",
              "      <th>item_price_mean_lag1</th>\n",
              "      <th>item_price_mean_lag2</th>\n",
              "      <th>item_price_mean_lag3</th>\n",
              "      <th>item_id_mean_sales_lag1</th>\n",
              "      <th>item_id_mean_sales_lag2</th>\n",
              "      <th>item_id_mean_sales_lag3</th>\n",
              "      <th>item_id_city_mean_sales_lag1</th>\n",
              "      <th>item_id_city_mean_sales_lag2</th>\n",
              "      <th>item_id_city_mean_sales_lag3</th>\n",
              "      <th>shop_id_item_category_id_mean_sales_lag1</th>\n",
              "      <th>shop_id_item_category_id_mean_sales_lag2</th>\n",
              "      <th>shop_id_item_category_id_mean_sales_lag3</th>\n",
              "    </tr>\n",
              "  </thead>\n",
              "  <tbody>\n",
              "    <tr>\n",
              "      <th>0</th>\n",
              "      <td>0</td>\n",
              "      <td>59</td>\n",
              "      <td>22154</td>\n",
              "      <td>1</td>\n",
              "      <td>999.000</td>\n",
              "      <td>1</td>\n",
              "      <td>30</td>\n",
              "      <td>37</td>\n",
              "      <td>0</td>\n",
              "      <td>5</td>\n",
              "      <td>0.097</td>\n",
              "      <td>0</td>\n",
              "      <td>0</td>\n",
              "      <td>0</td>\n",
              "      <td>0</td>\n",
              "      <td>0</td>\n",
              "      <td>0</td>\n",
              "      <td>0.000</td>\n",
              "      <td>0.000</td>\n",
              "      <td>0.000</td>\n",
              "      <td>0.000</td>\n",
              "      <td>0.000</td>\n",
              "      <td>0.000</td>\n",
              "      <td>0.000</td>\n",
              "      <td>0.000</td>\n",
              "      <td>0.000</td>\n",
              "      <td>0.000</td>\n",
              "      <td>0.000</td>\n",
              "      <td>0.000</td>\n",
              "    </tr>\n",
              "    <tr>\n",
              "      <th>1</th>\n",
              "      <td>0</td>\n",
              "      <td>59</td>\n",
              "      <td>2552</td>\n",
              "      <td>0</td>\n",
              "      <td>0.000</td>\n",
              "      <td>0</td>\n",
              "      <td>30</td>\n",
              "      <td>58</td>\n",
              "      <td>0</td>\n",
              "      <td>7</td>\n",
              "      <td>0.000</td>\n",
              "      <td>0</td>\n",
              "      <td>0</td>\n",
              "      <td>0</td>\n",
              "      <td>0</td>\n",
              "      <td>0</td>\n",
              "      <td>0</td>\n",
              "      <td>0.000</td>\n",
              "      <td>0.000</td>\n",
              "      <td>0.000</td>\n",
              "      <td>0.000</td>\n",
              "      <td>0.000</td>\n",
              "      <td>0.000</td>\n",
              "      <td>0.000</td>\n",
              "      <td>0.000</td>\n",
              "      <td>0.000</td>\n",
              "      <td>0.000</td>\n",
              "      <td>0.000</td>\n",
              "      <td>0.000</td>\n",
              "    </tr>\n",
              "    <tr>\n",
              "      <th>2</th>\n",
              "      <td>0</td>\n",
              "      <td>59</td>\n",
              "      <td>2554</td>\n",
              "      <td>0</td>\n",
              "      <td>0.000</td>\n",
              "      <td>0</td>\n",
              "      <td>30</td>\n",
              "      <td>58</td>\n",
              "      <td>0</td>\n",
              "      <td>7</td>\n",
              "      <td>0.000</td>\n",
              "      <td>0</td>\n",
              "      <td>0</td>\n",
              "      <td>0</td>\n",
              "      <td>0</td>\n",
              "      <td>0</td>\n",
              "      <td>0</td>\n",
              "      <td>0.000</td>\n",
              "      <td>0.000</td>\n",
              "      <td>0.000</td>\n",
              "      <td>0.000</td>\n",
              "      <td>0.000</td>\n",
              "      <td>0.000</td>\n",
              "      <td>0.000</td>\n",
              "      <td>0.000</td>\n",
              "      <td>0.000</td>\n",
              "      <td>0.000</td>\n",
              "      <td>0.000</td>\n",
              "      <td>0.000</td>\n",
              "    </tr>\n",
              "    <tr>\n",
              "      <th>3</th>\n",
              "      <td>0</td>\n",
              "      <td>59</td>\n",
              "      <td>2555</td>\n",
              "      <td>0</td>\n",
              "      <td>0.000</td>\n",
              "      <td>0</td>\n",
              "      <td>30</td>\n",
              "      <td>56</td>\n",
              "      <td>0</td>\n",
              "      <td>7</td>\n",
              "      <td>0.011</td>\n",
              "      <td>0</td>\n",
              "      <td>0</td>\n",
              "      <td>0</td>\n",
              "      <td>0</td>\n",
              "      <td>0</td>\n",
              "      <td>0</td>\n",
              "      <td>0.000</td>\n",
              "      <td>0.000</td>\n",
              "      <td>0.000</td>\n",
              "      <td>0.000</td>\n",
              "      <td>0.000</td>\n",
              "      <td>0.000</td>\n",
              "      <td>0.000</td>\n",
              "      <td>0.000</td>\n",
              "      <td>0.000</td>\n",
              "      <td>0.000</td>\n",
              "      <td>0.000</td>\n",
              "      <td>0.000</td>\n",
              "    </tr>\n",
              "    <tr>\n",
              "      <th>4</th>\n",
              "      <td>0</td>\n",
              "      <td>59</td>\n",
              "      <td>2564</td>\n",
              "      <td>0</td>\n",
              "      <td>0.000</td>\n",
              "      <td>0</td>\n",
              "      <td>30</td>\n",
              "      <td>59</td>\n",
              "      <td>0</td>\n",
              "      <td>7</td>\n",
              "      <td>0.013</td>\n",
              "      <td>0</td>\n",
              "      <td>0</td>\n",
              "      <td>0</td>\n",
              "      <td>0</td>\n",
              "      <td>0</td>\n",
              "      <td>0</td>\n",
              "      <td>0.000</td>\n",
              "      <td>0.000</td>\n",
              "      <td>0.000</td>\n",
              "      <td>0.000</td>\n",
              "      <td>0.000</td>\n",
              "      <td>0.000</td>\n",
              "      <td>0.000</td>\n",
              "      <td>0.000</td>\n",
              "      <td>0.000</td>\n",
              "      <td>0.000</td>\n",
              "      <td>0.000</td>\n",
              "      <td>0.000</td>\n",
              "    </tr>\n",
              "  </tbody>\n",
              "</table>\n",
              "</div>"
            ],
            "text/plain": [
              "   date_block_num  ...  shop_id_item_category_id_mean_sales_lag3\n",
              "0               0  ...                                     0.000\n",
              "1               0  ...                                     0.000\n",
              "2               0  ...                                     0.000\n",
              "3               0  ...                                     0.000\n",
              "4               0  ...                                     0.000\n",
              "\n",
              "[5 rows x 29 columns]"
            ]
          },
          "metadata": {
            "tags": []
          },
          "execution_count": 55
        }
      ]
    },
    {
      "cell_type": "code",
      "metadata": {
        "colab": {
          "base_uri": "https://localhost:8080/"
        },
        "id": "4YqCEG0SJcpF",
        "outputId": "e625515a-2bcf-431f-8e9e-ec12d2c0e507"
      },
      "source": [
        "all_data[all_data['date_block_num'] < 3].index"
      ],
      "execution_count": null,
      "outputs": [
        {
          "output_type": "execute_result",
          "data": {
            "text/plain": [
              "Int64Index([     0,      1,      2,      3,      4,      5,      6,      7,\n",
              "                 8,      9,\n",
              "            ...\n",
              "            827186, 827187, 827188, 827189, 827190, 827191, 827192, 827193,\n",
              "            827194, 827195],\n",
              "           dtype='int64', length=827196)"
            ]
          },
          "metadata": {
            "tags": []
          },
          "execution_count": 56
        }
      ]
    },
    {
      "cell_type": "code",
      "metadata": {
        "id": "uTgfPe13JcpF"
      },
      "source": [
        "# Remove features in shop_mean_features\n",
        "all_data = all_data.drop(shop_mean_features, axis=1)\n",
        "# Remove data less than date ID 3\n",
        "all_data = all_data.drop(all_data[all_data['date_block_num'] < 3].index)\n",
        "\n",
        "all_data['item_cnt_month_lag_mean'] = all_data[['item_cnt_month_lag1',\n",
        "                                         'item_cnt_month_lag2', \n",
        "                                         'item_cnt_month_lag3']].mean(axis=1)"
      ],
      "execution_count": null,
      "outputs": []
    },
    {
      "cell_type": "code",
      "metadata": {
        "colab": {
          "base_uri": "https://localhost:8080/",
          "height": 420
        },
        "id": "abx_aTNvJcpG",
        "outputId": "e7c86f57-facc-4aec-9840-b9d90cb760ac"
      },
      "source": [
        "all_data[['item_cnt_month_lag1', 'item_cnt_month_lag2', 'item_cnt_month_lag3','item_cnt_month']]"
      ],
      "execution_count": null,
      "outputs": [
        {
          "output_type": "execute_result",
          "data": {
            "text/html": [
              "<div>\n",
              "<style scoped>\n",
              "    .dataframe tbody tr th:only-of-type {\n",
              "        vertical-align: middle;\n",
              "    }\n",
              "\n",
              "    .dataframe tbody tr th {\n",
              "        vertical-align: top;\n",
              "    }\n",
              "\n",
              "    .dataframe thead th {\n",
              "        text-align: right;\n",
              "    }\n",
              "</style>\n",
              "<table border=\"1\" class=\"dataframe\">\n",
              "  <thead>\n",
              "    <tr style=\"text-align: right;\">\n",
              "      <th></th>\n",
              "      <th>item_cnt_month_lag1</th>\n",
              "      <th>item_cnt_month_lag2</th>\n",
              "      <th>item_cnt_month_lag3</th>\n",
              "      <th>item_cnt_month</th>\n",
              "    </tr>\n",
              "  </thead>\n",
              "  <tbody>\n",
              "    <tr>\n",
              "      <th>827196</th>\n",
              "      <td>1</td>\n",
              "      <td>4</td>\n",
              "      <td>0</td>\n",
              "      <td>3</td>\n",
              "    </tr>\n",
              "    <tr>\n",
              "      <th>827197</th>\n",
              "      <td>5</td>\n",
              "      <td>6</td>\n",
              "      <td>0</td>\n",
              "      <td>3</td>\n",
              "    </tr>\n",
              "    <tr>\n",
              "      <th>827198</th>\n",
              "      <td>0</td>\n",
              "      <td>0</td>\n",
              "      <td>0</td>\n",
              "      <td>3</td>\n",
              "    </tr>\n",
              "    <tr>\n",
              "      <th>827199</th>\n",
              "      <td>1</td>\n",
              "      <td>0</td>\n",
              "      <td>0</td>\n",
              "      <td>1</td>\n",
              "    </tr>\n",
              "    <tr>\n",
              "      <th>827200</th>\n",
              "      <td>0</td>\n",
              "      <td>0</td>\n",
              "      <td>0</td>\n",
              "      <td>1</td>\n",
              "    </tr>\n",
              "    <tr>\n",
              "      <th>...</th>\n",
              "      <td>...</td>\n",
              "      <td>...</td>\n",
              "      <td>...</td>\n",
              "      <td>...</td>\n",
              "    </tr>\n",
              "    <tr>\n",
              "      <th>8856956</th>\n",
              "      <td>1</td>\n",
              "      <td>0</td>\n",
              "      <td>0</td>\n",
              "      <td>0</td>\n",
              "    </tr>\n",
              "    <tr>\n",
              "      <th>8856957</th>\n",
              "      <td>0</td>\n",
              "      <td>0</td>\n",
              "      <td>0</td>\n",
              "      <td>0</td>\n",
              "    </tr>\n",
              "    <tr>\n",
              "      <th>8856958</th>\n",
              "      <td>0</td>\n",
              "      <td>0</td>\n",
              "      <td>0</td>\n",
              "      <td>0</td>\n",
              "    </tr>\n",
              "    <tr>\n",
              "      <th>8856959</th>\n",
              "      <td>0</td>\n",
              "      <td>0</td>\n",
              "      <td>0</td>\n",
              "      <td>0</td>\n",
              "    </tr>\n",
              "    <tr>\n",
              "      <th>8856960</th>\n",
              "      <td>0</td>\n",
              "      <td>0</td>\n",
              "      <td>0</td>\n",
              "      <td>0</td>\n",
              "    </tr>\n",
              "  </tbody>\n",
              "</table>\n",
              "<p>8029765 rows × 4 columns</p>\n",
              "</div>"
            ],
            "text/plain": [
              "         item_cnt_month_lag1  ...  item_cnt_month\n",
              "827196                     1  ...               3\n",
              "827197                     5  ...               3\n",
              "827198                     0  ...               3\n",
              "827199                     1  ...               1\n",
              "827200                     0  ...               1\n",
              "...                      ...  ...             ...\n",
              "8856956                    1  ...               0\n",
              "8856957                    0  ...               0\n",
              "8856958                    0  ...               0\n",
              "8856959                    0  ...               0\n",
              "8856960                    0  ...               0\n",
              "\n",
              "[8029765 rows x 4 columns]"
            ]
          },
          "metadata": {
            "tags": []
          },
          "execution_count": 58
        }
      ]
    },
    {
      "cell_type": "code",
      "metadata": {
        "colab": {
          "base_uri": "https://localhost:8080/"
        },
        "id": "3CYs3NwbJcpG",
        "outputId": "c239da5b-19d6-4b05-f058-6ced617baf0f"
      },
      "source": [
        "all_data['date_block_num']"
      ],
      "execution_count": null,
      "outputs": [
        {
          "output_type": "execute_result",
          "data": {
            "text/plain": [
              "827196      3\n",
              "827197      3\n",
              "827198      3\n",
              "827199      3\n",
              "827200      3\n",
              "           ..\n",
              "8856956    34\n",
              "8856957    34\n",
              "8856958    34\n",
              "8856959    34\n",
              "8856960    34\n",
              "Name: date_block_num, Length: 8029765, dtype: int8"
            ]
          },
          "metadata": {
            "tags": []
          },
          "execution_count": 59
        }
      ]
    },
    {
      "cell_type": "code",
      "metadata": {
        "colab": {
          "base_uri": "https://localhost:8080/"
        },
        "id": "SXbzGbh8JcpH",
        "outputId": "e20ad3e5-6a35-43b9-e260-6305adf16143"
      },
      "source": [
        "# Clip 0~20\n",
        "all_data[lag_features_to_clip + ['item_cnt_month', 'item_cnt_month_lag_mean']] = all_data[lag_features_to_clip +['item_cnt_month', 'item_cnt_month_lag_mean']].clip(0, 20)\n",
        "all_data['lag_grad1'] = all_data['item_cnt_month_lag1']/all_data['item_cnt_month_lag2']\n",
        "all_data['lag_grad1'] = all_data['lag_grad1'].replace([np.inf, -np.inf], \n",
        "                                                        np.nan).fillna(0)\n",
        "\n",
        "all_data['lag_grad2'] = all_data['item_cnt_month_lag2']/all_data['item_cnt_month_lag3']\n",
        "all_data['lag_grad2'] = all_data['lag_grad2'].replace([np.inf, -np.inf], \n",
        "                                                        np.nan).fillna(0)\n",
        "all_data['brand_new'] = all_data['first_sale_date'] == all_data['date_block_num']\n",
        "\n",
        "all_data['duration_after_first_sale'] = all_data['date_block_num'] - all_data['first_sale_date']\n",
        "all_data = all_data.drop('first_sale_date', axis=1)\n",
        "all_data['month'] = all_data['date_block_num']%12\n",
        "# Remove item_price_mean, item_count features\n",
        "all_data = all_data.drop(['item_price_mean', 'item_count'], axis=1)\n",
        "all_data = downcast(all_data, False) # Data downcasting\n",
        "all_data.info()"
      ],
      "execution_count": null,
      "outputs": [
        {
          "output_type": "stream",
          "text": [
            "<class 'pandas.core.frame.DataFrame'>\n",
            "Int64Index: 8029765 entries, 827196 to 8856960\n",
            "Data columns (total 31 columns):\n",
            " #   Column                                    Dtype  \n",
            "---  ------                                    -----  \n",
            " 0   date_block_num                            int8   \n",
            " 1   shop_id                                   int8   \n",
            " 2   item_id                                   int16  \n",
            " 3   item_cnt_month                            int8   \n",
            " 4   city                                      int8   \n",
            " 5   item_category_id                          int8   \n",
            " 6   category                                  int8   \n",
            " 7   item_cnt_month_lag1                       int8   \n",
            " 8   item_cnt_month_lag2                       int8   \n",
            " 9   item_cnt_month_lag3                       int8   \n",
            " 10  item_count_lag1                           int8   \n",
            " 11  item_count_lag2                           int8   \n",
            " 12  item_count_lag3                           int8   \n",
            " 13  item_price_mean_lag1                      float32\n",
            " 14  item_price_mean_lag2                      float32\n",
            " 15  item_price_mean_lag3                      float32\n",
            " 16  item_id_mean_sales_lag1                   float32\n",
            " 17  item_id_mean_sales_lag2                   float32\n",
            " 18  item_id_mean_sales_lag3                   float32\n",
            " 19  item_id_city_mean_sales_lag1              float32\n",
            " 20  item_id_city_mean_sales_lag2              float32\n",
            " 21  item_id_city_mean_sales_lag3              float32\n",
            " 22  shop_id_item_category_id_mean_sales_lag1  float32\n",
            " 23  shop_id_item_category_id_mean_sales_lag2  float32\n",
            " 24  shop_id_item_category_id_mean_sales_lag3  float32\n",
            " 25  item_cnt_month_lag_mean                   float32\n",
            " 26  lag_grad1                                 float32\n",
            " 27  lag_grad2                                 float32\n",
            " 28  brand_new                                 int8   \n",
            " 29  duration_after_first_sale                 int8   \n",
            " 30  month                                     int8   \n",
            "dtypes: float32(15), int16(1), int8(15)\n",
            "memory usage: 650.9 MB\n"
          ],
          "name": "stdout"
        }
      ]
    },
    {
      "cell_type": "code",
      "metadata": {
        "colab": {
          "base_uri": "https://localhost:8080/",
          "height": 440
        },
        "id": "x5lhl7d4JcpI",
        "outputId": "1abc52d1-5314-419f-df13-2fb25f0468b1"
      },
      "source": [
        "all_data"
      ],
      "execution_count": null,
      "outputs": [
        {
          "output_type": "execute_result",
          "data": {
            "text/html": [
              "<div>\n",
              "<style scoped>\n",
              "    .dataframe tbody tr th:only-of-type {\n",
              "        vertical-align: middle;\n",
              "    }\n",
              "\n",
              "    .dataframe tbody tr th {\n",
              "        vertical-align: top;\n",
              "    }\n",
              "\n",
              "    .dataframe thead th {\n",
              "        text-align: right;\n",
              "    }\n",
              "</style>\n",
              "<table border=\"1\" class=\"dataframe\">\n",
              "  <thead>\n",
              "    <tr style=\"text-align: right;\">\n",
              "      <th></th>\n",
              "      <th>date_block_num</th>\n",
              "      <th>shop_id</th>\n",
              "      <th>item_id</th>\n",
              "      <th>item_cnt_month</th>\n",
              "      <th>city</th>\n",
              "      <th>item_category_id</th>\n",
              "      <th>category</th>\n",
              "      <th>item_cnt_month_lag1</th>\n",
              "      <th>item_cnt_month_lag2</th>\n",
              "      <th>item_cnt_month_lag3</th>\n",
              "      <th>item_count_lag1</th>\n",
              "      <th>item_count_lag2</th>\n",
              "      <th>item_count_lag3</th>\n",
              "      <th>item_price_mean_lag1</th>\n",
              "      <th>item_price_mean_lag2</th>\n",
              "      <th>item_price_mean_lag3</th>\n",
              "      <th>item_id_mean_sales_lag1</th>\n",
              "      <th>item_id_mean_sales_lag2</th>\n",
              "      <th>item_id_mean_sales_lag3</th>\n",
              "      <th>item_id_city_mean_sales_lag1</th>\n",
              "      <th>item_id_city_mean_sales_lag2</th>\n",
              "      <th>item_id_city_mean_sales_lag3</th>\n",
              "      <th>shop_id_item_category_id_mean_sales_lag1</th>\n",
              "      <th>shop_id_item_category_id_mean_sales_lag2</th>\n",
              "      <th>shop_id_item_category_id_mean_sales_lag3</th>\n",
              "      <th>item_cnt_month_lag_mean</th>\n",
              "      <th>lag_grad1</th>\n",
              "      <th>lag_grad2</th>\n",
              "      <th>brand_new</th>\n",
              "      <th>duration_after_first_sale</th>\n",
              "      <th>month</th>\n",
              "    </tr>\n",
              "  </thead>\n",
              "  <tbody>\n",
              "    <tr>\n",
              "      <th>827196</th>\n",
              "      <td>3</td>\n",
              "      <td>25</td>\n",
              "      <td>8092</td>\n",
              "      <td>3</td>\n",
              "      <td>13</td>\n",
              "      <td>40</td>\n",
              "      <td>5</td>\n",
              "      <td>1</td>\n",
              "      <td>4</td>\n",
              "      <td>0</td>\n",
              "      <td>1</td>\n",
              "      <td>4</td>\n",
              "      <td>0</td>\n",
              "      <td>149.000</td>\n",
              "      <td>149.000</td>\n",
              "      <td>0.000</td>\n",
              "      <td>0.667</td>\n",
              "      <td>1.429</td>\n",
              "      <td>0.000</td>\n",
              "      <td>1.000</td>\n",
              "      <td>2.143</td>\n",
              "      <td>0.000</td>\n",
              "      <td>1.087</td>\n",
              "      <td>1.049</td>\n",
              "      <td>0.000</td>\n",
              "      <td>1.667</td>\n",
              "      <td>0.250</td>\n",
              "      <td>0.000</td>\n",
              "      <td>0</td>\n",
              "      <td>3</td>\n",
              "      <td>3</td>\n",
              "    </tr>\n",
              "    <tr>\n",
              "      <th>827197</th>\n",
              "      <td>3</td>\n",
              "      <td>25</td>\n",
              "      <td>7850</td>\n",
              "      <td>3</td>\n",
              "      <td>13</td>\n",
              "      <td>30</td>\n",
              "      <td>3</td>\n",
              "      <td>5</td>\n",
              "      <td>6</td>\n",
              "      <td>0</td>\n",
              "      <td>4</td>\n",
              "      <td>5</td>\n",
              "      <td>0</td>\n",
              "      <td>199.000</td>\n",
              "      <td>199.000</td>\n",
              "      <td>0.000</td>\n",
              "      <td>2.000</td>\n",
              "      <td>3.114</td>\n",
              "      <td>0.000</td>\n",
              "      <td>3.714</td>\n",
              "      <td>2.286</td>\n",
              "      <td>0.000</td>\n",
              "      <td>3.654</td>\n",
              "      <td>2.279</td>\n",
              "      <td>0.000</td>\n",
              "      <td>3.667</td>\n",
              "      <td>0.833</td>\n",
              "      <td>0.000</td>\n",
              "      <td>0</td>\n",
              "      <td>3</td>\n",
              "      <td>3</td>\n",
              "    </tr>\n",
              "    <tr>\n",
              "      <th>827198</th>\n",
              "      <td>3</td>\n",
              "      <td>25</td>\n",
              "      <td>8051</td>\n",
              "      <td>3</td>\n",
              "      <td>13</td>\n",
              "      <td>66</td>\n",
              "      <td>8</td>\n",
              "      <td>0</td>\n",
              "      <td>0</td>\n",
              "      <td>0</td>\n",
              "      <td>0</td>\n",
              "      <td>0</td>\n",
              "      <td>0</td>\n",
              "      <td>0.000</td>\n",
              "      <td>0.000</td>\n",
              "      <td>0.000</td>\n",
              "      <td>0.028</td>\n",
              "      <td>0.086</td>\n",
              "      <td>0.000</td>\n",
              "      <td>0.000</td>\n",
              "      <td>0.429</td>\n",
              "      <td>0.000</td>\n",
              "      <td>1.828</td>\n",
              "      <td>1.389</td>\n",
              "      <td>0.000</td>\n",
              "      <td>0.000</td>\n",
              "      <td>0.000</td>\n",
              "      <td>0.000</td>\n",
              "      <td>0</td>\n",
              "      <td>3</td>\n",
              "      <td>3</td>\n",
              "    </tr>\n",
              "    <tr>\n",
              "      <th>827199</th>\n",
              "      <td>3</td>\n",
              "      <td>25</td>\n",
              "      <td>8088</td>\n",
              "      <td>1</td>\n",
              "      <td>13</td>\n",
              "      <td>55</td>\n",
              "      <td>7</td>\n",
              "      <td>1</td>\n",
              "      <td>0</td>\n",
              "      <td>0</td>\n",
              "      <td>1</td>\n",
              "      <td>0</td>\n",
              "      <td>0</td>\n",
              "      <td>199.000</td>\n",
              "      <td>0.000</td>\n",
              "      <td>0.000</td>\n",
              "      <td>0.111</td>\n",
              "      <td>0.086</td>\n",
              "      <td>0.000</td>\n",
              "      <td>0.286</td>\n",
              "      <td>0.000</td>\n",
              "      <td>0.000</td>\n",
              "      <td>0.600</td>\n",
              "      <td>0.562</td>\n",
              "      <td>0.000</td>\n",
              "      <td>0.333</td>\n",
              "      <td>0.000</td>\n",
              "      <td>0.000</td>\n",
              "      <td>0</td>\n",
              "      <td>3</td>\n",
              "      <td>3</td>\n",
              "    </tr>\n",
              "    <tr>\n",
              "      <th>827200</th>\n",
              "      <td>3</td>\n",
              "      <td>25</td>\n",
              "      <td>8089</td>\n",
              "      <td>1</td>\n",
              "      <td>13</td>\n",
              "      <td>55</td>\n",
              "      <td>7</td>\n",
              "      <td>0</td>\n",
              "      <td>0</td>\n",
              "      <td>0</td>\n",
              "      <td>0</td>\n",
              "      <td>0</td>\n",
              "      <td>0</td>\n",
              "      <td>0.000</td>\n",
              "      <td>0.000</td>\n",
              "      <td>0.000</td>\n",
              "      <td>0.361</td>\n",
              "      <td>0.200</td>\n",
              "      <td>0.000</td>\n",
              "      <td>0.571</td>\n",
              "      <td>0.000</td>\n",
              "      <td>0.000</td>\n",
              "      <td>0.600</td>\n",
              "      <td>0.562</td>\n",
              "      <td>0.000</td>\n",
              "      <td>0.000</td>\n",
              "      <td>0.000</td>\n",
              "      <td>0.000</td>\n",
              "      <td>0</td>\n",
              "      <td>3</td>\n",
              "      <td>3</td>\n",
              "    </tr>\n",
              "    <tr>\n",
              "      <th>...</th>\n",
              "      <td>...</td>\n",
              "      <td>...</td>\n",
              "      <td>...</td>\n",
              "      <td>...</td>\n",
              "      <td>...</td>\n",
              "      <td>...</td>\n",
              "      <td>...</td>\n",
              "      <td>...</td>\n",
              "      <td>...</td>\n",
              "      <td>...</td>\n",
              "      <td>...</td>\n",
              "      <td>...</td>\n",
              "      <td>...</td>\n",
              "      <td>...</td>\n",
              "      <td>...</td>\n",
              "      <td>...</td>\n",
              "      <td>...</td>\n",
              "      <td>...</td>\n",
              "      <td>...</td>\n",
              "      <td>...</td>\n",
              "      <td>...</td>\n",
              "      <td>...</td>\n",
              "      <td>...</td>\n",
              "      <td>...</td>\n",
              "      <td>...</td>\n",
              "      <td>...</td>\n",
              "      <td>...</td>\n",
              "      <td>...</td>\n",
              "      <td>...</td>\n",
              "      <td>...</td>\n",
              "      <td>...</td>\n",
              "    </tr>\n",
              "    <tr>\n",
              "      <th>8856956</th>\n",
              "      <td>34</td>\n",
              "      <td>45</td>\n",
              "      <td>18454</td>\n",
              "      <td>0</td>\n",
              "      <td>20</td>\n",
              "      <td>55</td>\n",
              "      <td>7</td>\n",
              "      <td>1</td>\n",
              "      <td>0</td>\n",
              "      <td>0</td>\n",
              "      <td>1</td>\n",
              "      <td>0</td>\n",
              "      <td>0</td>\n",
              "      <td>99.000</td>\n",
              "      <td>0.000</td>\n",
              "      <td>0.000</td>\n",
              "      <td>0.048</td>\n",
              "      <td>0.073</td>\n",
              "      <td>0.585</td>\n",
              "      <td>0.500</td>\n",
              "      <td>0.000</td>\n",
              "      <td>0.000</td>\n",
              "      <td>0.127</td>\n",
              "      <td>0.106</td>\n",
              "      <td>0.128</td>\n",
              "      <td>0.333</td>\n",
              "      <td>0.000</td>\n",
              "      <td>0.000</td>\n",
              "      <td>0</td>\n",
              "      <td>11</td>\n",
              "      <td>10</td>\n",
              "    </tr>\n",
              "    <tr>\n",
              "      <th>8856957</th>\n",
              "      <td>34</td>\n",
              "      <td>45</td>\n",
              "      <td>16188</td>\n",
              "      <td>0</td>\n",
              "      <td>20</td>\n",
              "      <td>64</td>\n",
              "      <td>8</td>\n",
              "      <td>0</td>\n",
              "      <td>0</td>\n",
              "      <td>0</td>\n",
              "      <td>0</td>\n",
              "      <td>0</td>\n",
              "      <td>0</td>\n",
              "      <td>0.000</td>\n",
              "      <td>0.000</td>\n",
              "      <td>0.000</td>\n",
              "      <td>0.024</td>\n",
              "      <td>0.000</td>\n",
              "      <td>0.000</td>\n",
              "      <td>0.000</td>\n",
              "      <td>0.000</td>\n",
              "      <td>0.000</td>\n",
              "      <td>0.094</td>\n",
              "      <td>0.220</td>\n",
              "      <td>0.102</td>\n",
              "      <td>0.000</td>\n",
              "      <td>0.000</td>\n",
              "      <td>0.000</td>\n",
              "      <td>0</td>\n",
              "      <td>2</td>\n",
              "      <td>10</td>\n",
              "    </tr>\n",
              "    <tr>\n",
              "      <th>8856958</th>\n",
              "      <td>34</td>\n",
              "      <td>45</td>\n",
              "      <td>15757</td>\n",
              "      <td>0</td>\n",
              "      <td>20</td>\n",
              "      <td>55</td>\n",
              "      <td>7</td>\n",
              "      <td>0</td>\n",
              "      <td>0</td>\n",
              "      <td>0</td>\n",
              "      <td>0</td>\n",
              "      <td>0</td>\n",
              "      <td>0</td>\n",
              "      <td>0.000</td>\n",
              "      <td>0.000</td>\n",
              "      <td>0.000</td>\n",
              "      <td>0.119</td>\n",
              "      <td>0.098</td>\n",
              "      <td>0.244</td>\n",
              "      <td>0.000</td>\n",
              "      <td>0.000</td>\n",
              "      <td>0.000</td>\n",
              "      <td>0.127</td>\n",
              "      <td>0.106</td>\n",
              "      <td>0.128</td>\n",
              "      <td>0.000</td>\n",
              "      <td>0.000</td>\n",
              "      <td>0.000</td>\n",
              "      <td>0</td>\n",
              "      <td>34</td>\n",
              "      <td>10</td>\n",
              "    </tr>\n",
              "    <tr>\n",
              "      <th>8856959</th>\n",
              "      <td>34</td>\n",
              "      <td>45</td>\n",
              "      <td>19648</td>\n",
              "      <td>0</td>\n",
              "      <td>20</td>\n",
              "      <td>40</td>\n",
              "      <td>5</td>\n",
              "      <td>0</td>\n",
              "      <td>0</td>\n",
              "      <td>0</td>\n",
              "      <td>0</td>\n",
              "      <td>0</td>\n",
              "      <td>0</td>\n",
              "      <td>0.000</td>\n",
              "      <td>0.000</td>\n",
              "      <td>0.000</td>\n",
              "      <td>0.048</td>\n",
              "      <td>0.146</td>\n",
              "      <td>0.098</td>\n",
              "      <td>0.000</td>\n",
              "      <td>0.000</td>\n",
              "      <td>0.000</td>\n",
              "      <td>0.084</td>\n",
              "      <td>0.112</td>\n",
              "      <td>0.083</td>\n",
              "      <td>0.000</td>\n",
              "      <td>0.000</td>\n",
              "      <td>0.000</td>\n",
              "      <td>0</td>\n",
              "      <td>11</td>\n",
              "      <td>10</td>\n",
              "    </tr>\n",
              "    <tr>\n",
              "      <th>8856960</th>\n",
              "      <td>34</td>\n",
              "      <td>45</td>\n",
              "      <td>969</td>\n",
              "      <td>0</td>\n",
              "      <td>20</td>\n",
              "      <td>37</td>\n",
              "      <td>5</td>\n",
              "      <td>0</td>\n",
              "      <td>0</td>\n",
              "      <td>0</td>\n",
              "      <td>0</td>\n",
              "      <td>0</td>\n",
              "      <td>0</td>\n",
              "      <td>0.000</td>\n",
              "      <td>0.000</td>\n",
              "      <td>0.000</td>\n",
              "      <td>0.071</td>\n",
              "      <td>0.024</td>\n",
              "      <td>0.049</td>\n",
              "      <td>0.500</td>\n",
              "      <td>0.000</td>\n",
              "      <td>0.000</td>\n",
              "      <td>0.128</td>\n",
              "      <td>0.124</td>\n",
              "      <td>0.094</td>\n",
              "      <td>0.000</td>\n",
              "      <td>0.000</td>\n",
              "      <td>0.000</td>\n",
              "      <td>0</td>\n",
              "      <td>17</td>\n",
              "      <td>10</td>\n",
              "    </tr>\n",
              "  </tbody>\n",
              "</table>\n",
              "<p>8029765 rows × 31 columns</p>\n",
              "</div>"
            ],
            "text/plain": [
              "         date_block_num  shop_id  ...  duration_after_first_sale  month\n",
              "827196                3       25  ...                          3      3\n",
              "827197                3       25  ...                          3      3\n",
              "827198                3       25  ...                          3      3\n",
              "827199                3       25  ...                          3      3\n",
              "827200                3       25  ...                          3      3\n",
              "...                 ...      ...  ...                        ...    ...\n",
              "8856956              34       45  ...                         11     10\n",
              "8856957              34       45  ...                          2     10\n",
              "8856958              34       45  ...                         34     10\n",
              "8856959              34       45  ...                         11     10\n",
              "8856960              34       45  ...                         17     10\n",
              "\n",
              "[8029765 rows x 31 columns]"
            ]
          },
          "metadata": {
            "tags": []
          },
          "execution_count": 61
        }
      ]
    },
    {
      "cell_type": "code",
      "metadata": {
        "colab": {
          "base_uri": "https://localhost:8080/"
        },
        "id": "ulY57s5_JcpI",
        "outputId": "670a8770-0d2f-45ba-93fc-3ed2170cae35"
      },
      "source": [
        "np.shape(all_data)"
      ],
      "execution_count": null,
      "outputs": [
        {
          "output_type": "execute_result",
          "data": {
            "text/plain": [
              "(8029765, 31)"
            ]
          },
          "metadata": {
            "tags": []
          },
          "execution_count": 62
        }
      ]
    },
    {
      "cell_type": "code",
      "metadata": {
        "colab": {
          "base_uri": "https://localhost:8080/"
        },
        "id": "dMcJrhxXJcpJ",
        "outputId": "91fdc868-0fe0-465f-a275-08b283f9fbe9"
      },
      "source": [
        "len(all_data[all_data['date_block_num'] == 33])"
      ],
      "execution_count": null,
      "outputs": [
        {
          "output_type": "execute_result",
          "data": {
            "text/plain": [
              "221718"
            ]
          },
          "metadata": {
            "tags": []
          },
          "execution_count": 63
        }
      ]
    },
    {
      "cell_type": "code",
      "metadata": {
        "colab": {
          "base_uri": "https://localhost:8080/"
        },
        "id": "GCy7GV7zJcpK",
        "outputId": "a3fe0ecc-c304-4fa2-cad1-4602346faa72"
      },
      "source": [
        "len(all_data[all_data['date_block_num'] == 34])"
      ],
      "execution_count": null,
      "outputs": [
        {
          "output_type": "execute_result",
          "data": {
            "text/plain": [
              "214200"
            ]
          },
          "metadata": {
            "tags": []
          },
          "execution_count": 64
        }
      ]
    },
    {
      "cell_type": "code",
      "metadata": {
        "colab": {
          "base_uri": "https://localhost:8080/"
        },
        "id": "3o4rpiWTJcpK",
        "outputId": "b2d2f008-c281-4d2f-daa8-ab644f57b020"
      },
      "source": [
        "len(all_data[all_data['date_block_num'] == 34])"
      ],
      "execution_count": null,
      "outputs": [
        {
          "output_type": "execute_result",
          "data": {
            "text/plain": [
              "214200"
            ]
          },
          "metadata": {
            "tags": []
          },
          "execution_count": 65
        }
      ]
    },
    {
      "cell_type": "code",
      "metadata": {
        "colab": {
          "base_uri": "https://localhost:8080/",
          "height": 440
        },
        "id": "By2CZ4ndVZta",
        "outputId": "bbfab79a-d000-4b57-fd6c-7e2ef5a492f5"
      },
      "source": [
        "all_data"
      ],
      "execution_count": null,
      "outputs": [
        {
          "output_type": "execute_result",
          "data": {
            "text/html": [
              "<div>\n",
              "<style scoped>\n",
              "    .dataframe tbody tr th:only-of-type {\n",
              "        vertical-align: middle;\n",
              "    }\n",
              "\n",
              "    .dataframe tbody tr th {\n",
              "        vertical-align: top;\n",
              "    }\n",
              "\n",
              "    .dataframe thead th {\n",
              "        text-align: right;\n",
              "    }\n",
              "</style>\n",
              "<table border=\"1\" class=\"dataframe\">\n",
              "  <thead>\n",
              "    <tr style=\"text-align: right;\">\n",
              "      <th></th>\n",
              "      <th>date_block_num</th>\n",
              "      <th>shop_id</th>\n",
              "      <th>item_id</th>\n",
              "      <th>item_cnt_month</th>\n",
              "      <th>city</th>\n",
              "      <th>item_category_id</th>\n",
              "      <th>category</th>\n",
              "      <th>item_cnt_month_lag1</th>\n",
              "      <th>item_cnt_month_lag2</th>\n",
              "      <th>item_cnt_month_lag3</th>\n",
              "      <th>item_count_lag1</th>\n",
              "      <th>item_count_lag2</th>\n",
              "      <th>item_count_lag3</th>\n",
              "      <th>item_price_mean_lag1</th>\n",
              "      <th>item_price_mean_lag2</th>\n",
              "      <th>item_price_mean_lag3</th>\n",
              "      <th>item_id_mean_sales_lag1</th>\n",
              "      <th>item_id_mean_sales_lag2</th>\n",
              "      <th>item_id_mean_sales_lag3</th>\n",
              "      <th>item_id_city_mean_sales_lag1</th>\n",
              "      <th>item_id_city_mean_sales_lag2</th>\n",
              "      <th>item_id_city_mean_sales_lag3</th>\n",
              "      <th>shop_id_item_category_id_mean_sales_lag1</th>\n",
              "      <th>shop_id_item_category_id_mean_sales_lag2</th>\n",
              "      <th>shop_id_item_category_id_mean_sales_lag3</th>\n",
              "      <th>item_cnt_month_lag_mean</th>\n",
              "      <th>lag_grad1</th>\n",
              "      <th>lag_grad2</th>\n",
              "      <th>brand_new</th>\n",
              "      <th>duration_after_first_sale</th>\n",
              "      <th>month</th>\n",
              "    </tr>\n",
              "  </thead>\n",
              "  <tbody>\n",
              "    <tr>\n",
              "      <th>827196</th>\n",
              "      <td>3</td>\n",
              "      <td>25</td>\n",
              "      <td>8092</td>\n",
              "      <td>3</td>\n",
              "      <td>13</td>\n",
              "      <td>40</td>\n",
              "      <td>5</td>\n",
              "      <td>1</td>\n",
              "      <td>4</td>\n",
              "      <td>0</td>\n",
              "      <td>1</td>\n",
              "      <td>4</td>\n",
              "      <td>0</td>\n",
              "      <td>149.000</td>\n",
              "      <td>149.000</td>\n",
              "      <td>0.000</td>\n",
              "      <td>0.667</td>\n",
              "      <td>1.429</td>\n",
              "      <td>0.000</td>\n",
              "      <td>1.000</td>\n",
              "      <td>2.143</td>\n",
              "      <td>0.000</td>\n",
              "      <td>1.087</td>\n",
              "      <td>1.049</td>\n",
              "      <td>0.000</td>\n",
              "      <td>1.667</td>\n",
              "      <td>0.250</td>\n",
              "      <td>0.000</td>\n",
              "      <td>0</td>\n",
              "      <td>3</td>\n",
              "      <td>3</td>\n",
              "    </tr>\n",
              "    <tr>\n",
              "      <th>827197</th>\n",
              "      <td>3</td>\n",
              "      <td>25</td>\n",
              "      <td>7850</td>\n",
              "      <td>3</td>\n",
              "      <td>13</td>\n",
              "      <td>30</td>\n",
              "      <td>3</td>\n",
              "      <td>5</td>\n",
              "      <td>6</td>\n",
              "      <td>0</td>\n",
              "      <td>4</td>\n",
              "      <td>5</td>\n",
              "      <td>0</td>\n",
              "      <td>199.000</td>\n",
              "      <td>199.000</td>\n",
              "      <td>0.000</td>\n",
              "      <td>2.000</td>\n",
              "      <td>3.114</td>\n",
              "      <td>0.000</td>\n",
              "      <td>3.714</td>\n",
              "      <td>2.286</td>\n",
              "      <td>0.000</td>\n",
              "      <td>3.654</td>\n",
              "      <td>2.279</td>\n",
              "      <td>0.000</td>\n",
              "      <td>3.667</td>\n",
              "      <td>0.833</td>\n",
              "      <td>0.000</td>\n",
              "      <td>0</td>\n",
              "      <td>3</td>\n",
              "      <td>3</td>\n",
              "    </tr>\n",
              "    <tr>\n",
              "      <th>827198</th>\n",
              "      <td>3</td>\n",
              "      <td>25</td>\n",
              "      <td>8051</td>\n",
              "      <td>3</td>\n",
              "      <td>13</td>\n",
              "      <td>66</td>\n",
              "      <td>8</td>\n",
              "      <td>0</td>\n",
              "      <td>0</td>\n",
              "      <td>0</td>\n",
              "      <td>0</td>\n",
              "      <td>0</td>\n",
              "      <td>0</td>\n",
              "      <td>0.000</td>\n",
              "      <td>0.000</td>\n",
              "      <td>0.000</td>\n",
              "      <td>0.028</td>\n",
              "      <td>0.086</td>\n",
              "      <td>0.000</td>\n",
              "      <td>0.000</td>\n",
              "      <td>0.429</td>\n",
              "      <td>0.000</td>\n",
              "      <td>1.828</td>\n",
              "      <td>1.389</td>\n",
              "      <td>0.000</td>\n",
              "      <td>0.000</td>\n",
              "      <td>0.000</td>\n",
              "      <td>0.000</td>\n",
              "      <td>0</td>\n",
              "      <td>3</td>\n",
              "      <td>3</td>\n",
              "    </tr>\n",
              "    <tr>\n",
              "      <th>827199</th>\n",
              "      <td>3</td>\n",
              "      <td>25</td>\n",
              "      <td>8088</td>\n",
              "      <td>1</td>\n",
              "      <td>13</td>\n",
              "      <td>55</td>\n",
              "      <td>7</td>\n",
              "      <td>1</td>\n",
              "      <td>0</td>\n",
              "      <td>0</td>\n",
              "      <td>1</td>\n",
              "      <td>0</td>\n",
              "      <td>0</td>\n",
              "      <td>199.000</td>\n",
              "      <td>0.000</td>\n",
              "      <td>0.000</td>\n",
              "      <td>0.111</td>\n",
              "      <td>0.086</td>\n",
              "      <td>0.000</td>\n",
              "      <td>0.286</td>\n",
              "      <td>0.000</td>\n",
              "      <td>0.000</td>\n",
              "      <td>0.600</td>\n",
              "      <td>0.562</td>\n",
              "      <td>0.000</td>\n",
              "      <td>0.333</td>\n",
              "      <td>0.000</td>\n",
              "      <td>0.000</td>\n",
              "      <td>0</td>\n",
              "      <td>3</td>\n",
              "      <td>3</td>\n",
              "    </tr>\n",
              "    <tr>\n",
              "      <th>827200</th>\n",
              "      <td>3</td>\n",
              "      <td>25</td>\n",
              "      <td>8089</td>\n",
              "      <td>1</td>\n",
              "      <td>13</td>\n",
              "      <td>55</td>\n",
              "      <td>7</td>\n",
              "      <td>0</td>\n",
              "      <td>0</td>\n",
              "      <td>0</td>\n",
              "      <td>0</td>\n",
              "      <td>0</td>\n",
              "      <td>0</td>\n",
              "      <td>0.000</td>\n",
              "      <td>0.000</td>\n",
              "      <td>0.000</td>\n",
              "      <td>0.361</td>\n",
              "      <td>0.200</td>\n",
              "      <td>0.000</td>\n",
              "      <td>0.571</td>\n",
              "      <td>0.000</td>\n",
              "      <td>0.000</td>\n",
              "      <td>0.600</td>\n",
              "      <td>0.562</td>\n",
              "      <td>0.000</td>\n",
              "      <td>0.000</td>\n",
              "      <td>0.000</td>\n",
              "      <td>0.000</td>\n",
              "      <td>0</td>\n",
              "      <td>3</td>\n",
              "      <td>3</td>\n",
              "    </tr>\n",
              "    <tr>\n",
              "      <th>...</th>\n",
              "      <td>...</td>\n",
              "      <td>...</td>\n",
              "      <td>...</td>\n",
              "      <td>...</td>\n",
              "      <td>...</td>\n",
              "      <td>...</td>\n",
              "      <td>...</td>\n",
              "      <td>...</td>\n",
              "      <td>...</td>\n",
              "      <td>...</td>\n",
              "      <td>...</td>\n",
              "      <td>...</td>\n",
              "      <td>...</td>\n",
              "      <td>...</td>\n",
              "      <td>...</td>\n",
              "      <td>...</td>\n",
              "      <td>...</td>\n",
              "      <td>...</td>\n",
              "      <td>...</td>\n",
              "      <td>...</td>\n",
              "      <td>...</td>\n",
              "      <td>...</td>\n",
              "      <td>...</td>\n",
              "      <td>...</td>\n",
              "      <td>...</td>\n",
              "      <td>...</td>\n",
              "      <td>...</td>\n",
              "      <td>...</td>\n",
              "      <td>...</td>\n",
              "      <td>...</td>\n",
              "      <td>...</td>\n",
              "    </tr>\n",
              "    <tr>\n",
              "      <th>8856956</th>\n",
              "      <td>34</td>\n",
              "      <td>45</td>\n",
              "      <td>18454</td>\n",
              "      <td>0</td>\n",
              "      <td>20</td>\n",
              "      <td>55</td>\n",
              "      <td>7</td>\n",
              "      <td>1</td>\n",
              "      <td>0</td>\n",
              "      <td>0</td>\n",
              "      <td>1</td>\n",
              "      <td>0</td>\n",
              "      <td>0</td>\n",
              "      <td>99.000</td>\n",
              "      <td>0.000</td>\n",
              "      <td>0.000</td>\n",
              "      <td>0.048</td>\n",
              "      <td>0.073</td>\n",
              "      <td>0.585</td>\n",
              "      <td>0.500</td>\n",
              "      <td>0.000</td>\n",
              "      <td>0.000</td>\n",
              "      <td>0.127</td>\n",
              "      <td>0.106</td>\n",
              "      <td>0.128</td>\n",
              "      <td>0.333</td>\n",
              "      <td>0.000</td>\n",
              "      <td>0.000</td>\n",
              "      <td>0</td>\n",
              "      <td>11</td>\n",
              "      <td>10</td>\n",
              "    </tr>\n",
              "    <tr>\n",
              "      <th>8856957</th>\n",
              "      <td>34</td>\n",
              "      <td>45</td>\n",
              "      <td>16188</td>\n",
              "      <td>0</td>\n",
              "      <td>20</td>\n",
              "      <td>64</td>\n",
              "      <td>8</td>\n",
              "      <td>0</td>\n",
              "      <td>0</td>\n",
              "      <td>0</td>\n",
              "      <td>0</td>\n",
              "      <td>0</td>\n",
              "      <td>0</td>\n",
              "      <td>0.000</td>\n",
              "      <td>0.000</td>\n",
              "      <td>0.000</td>\n",
              "      <td>0.024</td>\n",
              "      <td>0.000</td>\n",
              "      <td>0.000</td>\n",
              "      <td>0.000</td>\n",
              "      <td>0.000</td>\n",
              "      <td>0.000</td>\n",
              "      <td>0.094</td>\n",
              "      <td>0.220</td>\n",
              "      <td>0.102</td>\n",
              "      <td>0.000</td>\n",
              "      <td>0.000</td>\n",
              "      <td>0.000</td>\n",
              "      <td>0</td>\n",
              "      <td>2</td>\n",
              "      <td>10</td>\n",
              "    </tr>\n",
              "    <tr>\n",
              "      <th>8856958</th>\n",
              "      <td>34</td>\n",
              "      <td>45</td>\n",
              "      <td>15757</td>\n",
              "      <td>0</td>\n",
              "      <td>20</td>\n",
              "      <td>55</td>\n",
              "      <td>7</td>\n",
              "      <td>0</td>\n",
              "      <td>0</td>\n",
              "      <td>0</td>\n",
              "      <td>0</td>\n",
              "      <td>0</td>\n",
              "      <td>0</td>\n",
              "      <td>0.000</td>\n",
              "      <td>0.000</td>\n",
              "      <td>0.000</td>\n",
              "      <td>0.119</td>\n",
              "      <td>0.098</td>\n",
              "      <td>0.244</td>\n",
              "      <td>0.000</td>\n",
              "      <td>0.000</td>\n",
              "      <td>0.000</td>\n",
              "      <td>0.127</td>\n",
              "      <td>0.106</td>\n",
              "      <td>0.128</td>\n",
              "      <td>0.000</td>\n",
              "      <td>0.000</td>\n",
              "      <td>0.000</td>\n",
              "      <td>0</td>\n",
              "      <td>34</td>\n",
              "      <td>10</td>\n",
              "    </tr>\n",
              "    <tr>\n",
              "      <th>8856959</th>\n",
              "      <td>34</td>\n",
              "      <td>45</td>\n",
              "      <td>19648</td>\n",
              "      <td>0</td>\n",
              "      <td>20</td>\n",
              "      <td>40</td>\n",
              "      <td>5</td>\n",
              "      <td>0</td>\n",
              "      <td>0</td>\n",
              "      <td>0</td>\n",
              "      <td>0</td>\n",
              "      <td>0</td>\n",
              "      <td>0</td>\n",
              "      <td>0.000</td>\n",
              "      <td>0.000</td>\n",
              "      <td>0.000</td>\n",
              "      <td>0.048</td>\n",
              "      <td>0.146</td>\n",
              "      <td>0.098</td>\n",
              "      <td>0.000</td>\n",
              "      <td>0.000</td>\n",
              "      <td>0.000</td>\n",
              "      <td>0.084</td>\n",
              "      <td>0.112</td>\n",
              "      <td>0.083</td>\n",
              "      <td>0.000</td>\n",
              "      <td>0.000</td>\n",
              "      <td>0.000</td>\n",
              "      <td>0</td>\n",
              "      <td>11</td>\n",
              "      <td>10</td>\n",
              "    </tr>\n",
              "    <tr>\n",
              "      <th>8856960</th>\n",
              "      <td>34</td>\n",
              "      <td>45</td>\n",
              "      <td>969</td>\n",
              "      <td>0</td>\n",
              "      <td>20</td>\n",
              "      <td>37</td>\n",
              "      <td>5</td>\n",
              "      <td>0</td>\n",
              "      <td>0</td>\n",
              "      <td>0</td>\n",
              "      <td>0</td>\n",
              "      <td>0</td>\n",
              "      <td>0</td>\n",
              "      <td>0.000</td>\n",
              "      <td>0.000</td>\n",
              "      <td>0.000</td>\n",
              "      <td>0.071</td>\n",
              "      <td>0.024</td>\n",
              "      <td>0.049</td>\n",
              "      <td>0.500</td>\n",
              "      <td>0.000</td>\n",
              "      <td>0.000</td>\n",
              "      <td>0.128</td>\n",
              "      <td>0.124</td>\n",
              "      <td>0.094</td>\n",
              "      <td>0.000</td>\n",
              "      <td>0.000</td>\n",
              "      <td>0.000</td>\n",
              "      <td>0</td>\n",
              "      <td>17</td>\n",
              "      <td>10</td>\n",
              "    </tr>\n",
              "  </tbody>\n",
              "</table>\n",
              "<p>8029765 rows × 31 columns</p>\n",
              "</div>"
            ],
            "text/plain": [
              "         date_block_num  shop_id  ...  duration_after_first_sale  month\n",
              "827196                3       25  ...                          3      3\n",
              "827197                3       25  ...                          3      3\n",
              "827198                3       25  ...                          3      3\n",
              "827199                3       25  ...                          3      3\n",
              "827200                3       25  ...                          3      3\n",
              "...                 ...      ...  ...                        ...    ...\n",
              "8856956              34       45  ...                         11     10\n",
              "8856957              34       45  ...                          2     10\n",
              "8856958              34       45  ...                         34     10\n",
              "8856959              34       45  ...                         11     10\n",
              "8856960              34       45  ...                         17     10\n",
              "\n",
              "[8029765 rows x 31 columns]"
            ]
          },
          "metadata": {
            "tags": []
          },
          "execution_count": 66
        }
      ]
    },
    {
      "cell_type": "code",
      "metadata": {
        "colab": {
          "base_uri": "https://localhost:8080/"
        },
        "id": "JVXV8ix1BVa2",
        "outputId": "aa453356-9619-459b-8367-63e3e9de5511"
      },
      "source": [
        "all_data.columns"
      ],
      "execution_count": null,
      "outputs": [
        {
          "output_type": "execute_result",
          "data": {
            "text/plain": [
              "Index(['date_block_num', 'shop_id', 'item_id', 'item_cnt_month', 'city',\n",
              "       'item_category_id', 'category', 'item_cnt_month_lag1',\n",
              "       'item_cnt_month_lag2', 'item_cnt_month_lag3', 'item_count_lag1',\n",
              "       'item_count_lag2', 'item_count_lag3', 'item_price_mean_lag1',\n",
              "       'item_price_mean_lag2', 'item_price_mean_lag3',\n",
              "       'item_id_mean_sales_lag1', 'item_id_mean_sales_lag2',\n",
              "       'item_id_mean_sales_lag3', 'item_id_city_mean_sales_lag1',\n",
              "       'item_id_city_mean_sales_lag2', 'item_id_city_mean_sales_lag3',\n",
              "       'shop_id_item_category_id_mean_sales_lag1',\n",
              "       'shop_id_item_category_id_mean_sales_lag2',\n",
              "       'shop_id_item_category_id_mean_sales_lag3', 'item_cnt_month_lag_mean',\n",
              "       'lag_grad1', 'lag_grad2', 'brand_new', 'duration_after_first_sale',\n",
              "       'month'],\n",
              "      dtype='object')"
            ]
          },
          "metadata": {
            "tags": []
          },
          "execution_count": 67
        }
      ]
    },
    {
      "cell_type": "code",
      "metadata": {
        "id": "6CmZqkBjcJsJ"
      },
      "source": [
        "import pickle\n",
        "all_data.to_pickle('data.pkl')"
      ],
      "execution_count": null,
      "outputs": []
    },
    {
      "cell_type": "markdown",
      "metadata": {
        "id": "co8qZweKgDEb"
      },
      "source": [
        "## data 불러오기"
      ]
    },
    {
      "cell_type": "code",
      "metadata": {
        "id": "U26arXmffHCU"
      },
      "source": [
        "import pandas as pd\n",
        "all_data = pd.read_pickle('/content/drive/MyDrive/dataset/data.pkl')"
      ],
      "execution_count": null,
      "outputs": []
    },
    {
      "cell_type": "code",
      "metadata": {
        "colab": {
          "base_uri": "https://localhost:8080/"
        },
        "id": "BwFV32M3f413",
        "outputId": "3ab03dc7-7bc8-4ed8-e7cd-6383d4f9f6b4"
      },
      "source": [
        "all_data.columns"
      ],
      "execution_count": null,
      "outputs": [
        {
          "output_type": "execute_result",
          "data": {
            "text/plain": [
              "Index(['date_block_num', 'shop_id', 'item_id', 'item_cnt_month', 'city',\n",
              "       'item_category_id', 'category', 'item_cnt_month_lag1',\n",
              "       'item_cnt_month_lag2', 'item_cnt_month_lag3', 'item_count_lag1',\n",
              "       'item_count_lag2', 'item_count_lag3', 'item_price_mean_lag1',\n",
              "       'item_price_mean_lag2', 'item_price_mean_lag3',\n",
              "       'item_id_mean_sales_lag1', 'item_id_mean_sales_lag2',\n",
              "       'item_id_mean_sales_lag3', 'item_id_city_mean_sales_lag1',\n",
              "       'item_id_city_mean_sales_lag2', 'item_id_city_mean_sales_lag3',\n",
              "       'shop_id_item_category_id_mean_sales_lag1',\n",
              "       'shop_id_item_category_id_mean_sales_lag2',\n",
              "       'shop_id_item_category_id_mean_sales_lag3', 'item_cnt_month_lag_mean',\n",
              "       'lag_grad1', 'lag_grad2', 'brand_new', 'duration_after_first_sale',\n",
              "       'month'],\n",
              "      dtype='object')"
            ]
          },
          "metadata": {
            "tags": []
          },
          "execution_count": 8
        }
      ]
    },
    {
      "cell_type": "code",
      "metadata": {
        "id": "Xe1y0zbkJcpL"
      },
      "source": [
        "# Train data (Features)\n",
        "X_train = all_data[all_data['date_block_num'] < 33]\n",
        "X_train = X_train.drop(['item_cnt_month'], axis=1)\n",
        "# Valid data (Features)\n",
        "X_valid = all_data[all_data['date_block_num'] == 33]\n",
        "X_valid = X_valid.drop(['item_cnt_month'], axis=1)\n",
        "# Test data (Features)\n",
        "X_test = all_data[all_data['date_block_num'] == 34]\n",
        "X_test = X_test.drop(['item_cnt_month'], axis=1)\n",
        "\n",
        "# Train data (Target values)\n",
        "y_train = all_data[all_data['date_block_num'] < 33]['item_cnt_month']\n",
        "# Valid data (Target values)\n",
        "y_valid = all_data[all_data['date_block_num'] == 33]['item_cnt_month']\n",
        "\n",
        "cat_features = ['shop_id', 'city', 'item_category_id', 'category', 'month']"
      ],
      "execution_count": null,
      "outputs": []
    },
    {
      "cell_type": "code",
      "metadata": {
        "id": "yAjtzHr58vpW"
      },
      "source": [
        "import gc\n",
        "# Garbage collection\n",
        "del all_data\n",
        "gc.collect();"
      ],
      "execution_count": null,
      "outputs": []
    },
    {
      "cell_type": "markdown",
      "metadata": {
        "id": "5caIZX7n9Bo2"
      },
      "source": [
        "## Models"
      ]
    },
    {
      "cell_type": "markdown",
      "metadata": {
        "id": "edqTiIOz9DUD"
      },
      "source": [
        "### CatBoost"
      ]
    },
    {
      "cell_type": "code",
      "metadata": {
        "id": "ohRLlO_tJW98"
      },
      "source": [
        "import pickle"
      ],
      "execution_count": null,
      "outputs": []
    },
    {
      "cell_type": "code",
      "metadata": {
        "colab": {
          "base_uri": "https://localhost:8080/"
        },
        "id": "7mzjeNrVDWIy",
        "outputId": "fa2a4611-611c-4f34-e943-90b099252baa"
      },
      "source": [
        "!pip install catboost"
      ],
      "execution_count": null,
      "outputs": [
        {
          "output_type": "stream",
          "text": [
            "Collecting catboost\n",
            "\u001b[?25l  Downloading https://files.pythonhosted.org/packages/5a/41/24e14322b9986cf72a8763e0a0a69cc256cf963cf9502c8f0044a62c1ae8/catboost-0.26-cp37-none-manylinux1_x86_64.whl (69.2MB)\n",
            "\u001b[K     |████████████████████████████████| 69.2MB 42kB/s \n",
            "\u001b[?25hRequirement already satisfied: plotly in /usr/local/lib/python3.7/dist-packages (from catboost) (4.4.1)\n",
            "Requirement already satisfied: six in /usr/local/lib/python3.7/dist-packages (from catboost) (1.15.0)\n",
            "Requirement already satisfied: numpy>=1.16.0 in /usr/local/lib/python3.7/dist-packages (from catboost) (1.19.5)\n",
            "Requirement already satisfied: pandas>=0.24.0 in /usr/local/lib/python3.7/dist-packages (from catboost) (1.1.5)\n",
            "Requirement already satisfied: graphviz in /usr/local/lib/python3.7/dist-packages (from catboost) (0.10.1)\n",
            "Requirement already satisfied: scipy in /usr/local/lib/python3.7/dist-packages (from catboost) (1.4.1)\n",
            "Requirement already satisfied: matplotlib in /usr/local/lib/python3.7/dist-packages (from catboost) (3.2.2)\n",
            "Requirement already satisfied: retrying>=1.3.3 in /usr/local/lib/python3.7/dist-packages (from plotly->catboost) (1.3.3)\n",
            "Requirement already satisfied: pytz>=2017.2 in /usr/local/lib/python3.7/dist-packages (from pandas>=0.24.0->catboost) (2018.9)\n",
            "Requirement already satisfied: python-dateutil>=2.7.3 in /usr/local/lib/python3.7/dist-packages (from pandas>=0.24.0->catboost) (2.8.1)\n",
            "Requirement already satisfied: pyparsing!=2.0.4,!=2.1.2,!=2.1.6,>=2.0.1 in /usr/local/lib/python3.7/dist-packages (from matplotlib->catboost) (2.4.7)\n",
            "Requirement already satisfied: cycler>=0.10 in /usr/local/lib/python3.7/dist-packages (from matplotlib->catboost) (0.10.0)\n",
            "Requirement already satisfied: kiwisolver>=1.0.1 in /usr/local/lib/python3.7/dist-packages (from matplotlib->catboost) (1.3.1)\n",
            "Installing collected packages: catboost\n",
            "Successfully installed catboost-0.26\n"
          ],
          "name": "stdout"
        }
      ]
    },
    {
      "cell_type": "code",
      "metadata": {
        "colab": {
          "base_uri": "https://localhost:8080/",
          "height": 1000
        },
        "id": "kbWRQuHHJcpL",
        "outputId": "bc25f82b-e49c-4ab2-cd37-18a7416904a7"
      },
      "source": [
        "%%time\n",
        "# !pip install catboost\n",
        "from catboost import CatBoostRegressor\n",
        "from sklearn.metrics import mean_squared_error\n",
        "\n",
        "model_catboost = CatBoostRegressor(verbose=1, random_seed=566)\n",
        "\n",
        "\n",
        "model_catboost.fit(X_train,y_train);\n",
        "prediction_catboost = model_catboost.predict(X_valid)\n",
        "print(mean_squared_error(y_valid, prediction_catboost, squared=False))"
      ],
      "execution_count": null,
      "outputs": [
        {
          "output_type": "stream",
          "text": [
            "Custom logger is already specified. Specify more than one logger at same time is not thread safe."
          ],
          "name": "stderr"
        },
        {
          "output_type": "stream",
          "text": [
            "Learning rate set to 0.19148\n",
            "0:\tlearn: 1.1493152\ttotal: 1.1s\tremaining: 18m 15s\n",
            "1:\tlearn: 1.0878090\ttotal: 2.22s\tremaining: 18m 25s\n",
            "2:\tlearn: 1.0414429\ttotal: 3.31s\tremaining: 18m 19s\n",
            "3:\tlearn: 1.0083392\ttotal: 4.38s\tremaining: 18m 11s\n",
            "4:\tlearn: 0.9837592\ttotal: 5.47s\tremaining: 18m 8s\n",
            "5:\tlearn: 0.9653902\ttotal: 6.47s\tremaining: 17m 51s\n",
            "6:\tlearn: 0.9524679\ttotal: 7.51s\tremaining: 17m 44s\n",
            "7:\tlearn: 0.9417570\ttotal: 8.65s\tremaining: 17m 52s\n",
            "8:\tlearn: 0.9343867\ttotal: 9.7s\tremaining: 17m 48s\n",
            "9:\tlearn: 0.9286999\ttotal: 10.8s\tremaining: 17m 45s\n",
            "10:\tlearn: 0.9225887\ttotal: 11.9s\tremaining: 17m 49s\n",
            "11:\tlearn: 0.9180159\ttotal: 13.2s\tremaining: 18m 4s\n",
            "12:\tlearn: 0.9149471\ttotal: 14.5s\tremaining: 18m 21s\n",
            "13:\tlearn: 0.9119629\ttotal: 15.6s\tremaining: 18m 19s\n",
            "14:\tlearn: 0.9100334\ttotal: 16.7s\tremaining: 18m 16s\n",
            "15:\tlearn: 0.9083942\ttotal: 17.9s\tremaining: 18m 18s\n",
            "16:\tlearn: 0.9051820\ttotal: 19.1s\tremaining: 18m 24s\n",
            "17:\tlearn: 0.9038964\ttotal: 20.3s\tremaining: 18m 25s\n",
            "18:\tlearn: 0.9020539\ttotal: 21.4s\tremaining: 18m 27s\n",
            "19:\tlearn: 0.9003230\ttotal: 22.6s\tremaining: 18m 25s\n",
            "20:\tlearn: 0.8990424\ttotal: 24s\tremaining: 18m 38s\n",
            "21:\tlearn: 0.8981259\ttotal: 25.1s\tremaining: 18m 35s\n",
            "22:\tlearn: 0.8968567\ttotal: 26.4s\tremaining: 18m 41s\n",
            "23:\tlearn: 0.8956566\ttotal: 27.7s\tremaining: 18m 48s\n",
            "24:\tlearn: 0.8946249\ttotal: 28.9s\tremaining: 18m 46s\n",
            "25:\tlearn: 0.8933115\ttotal: 30s\tremaining: 18m 43s\n",
            "26:\tlearn: 0.8927940\ttotal: 31.1s\tremaining: 18m 40s\n",
            "27:\tlearn: 0.8919813\ttotal: 32.1s\tremaining: 18m 35s\n",
            "28:\tlearn: 0.8912607\ttotal: 33.1s\tremaining: 18m 29s\n",
            "29:\tlearn: 0.8902928\ttotal: 34.6s\tremaining: 18m 39s\n",
            "30:\tlearn: 0.8890942\ttotal: 35.8s\tremaining: 18m 38s\n",
            "31:\tlearn: 0.8883276\ttotal: 37.1s\tremaining: 18m 42s\n",
            "32:\tlearn: 0.8876686\ttotal: 38.2s\tremaining: 18m 39s\n",
            "33:\tlearn: 0.8871287\ttotal: 39.5s\tremaining: 18m 41s\n",
            "34:\tlearn: 0.8866585\ttotal: 40.4s\tremaining: 18m 33s\n",
            "35:\tlearn: 0.8862279\ttotal: 41.4s\tremaining: 18m 28s\n",
            "36:\tlearn: 0.8856244\ttotal: 42.5s\tremaining: 18m 27s\n",
            "37:\tlearn: 0.8851939\ttotal: 43.6s\tremaining: 18m 23s\n",
            "38:\tlearn: 0.8846873\ttotal: 44.7s\tremaining: 18m 21s\n",
            "39:\tlearn: 0.8837434\ttotal: 45.8s\tremaining: 18m 19s\n",
            "40:\tlearn: 0.8832378\ttotal: 47.2s\tremaining: 18m 23s\n",
            "41:\tlearn: 0.8826532\ttotal: 48.3s\tremaining: 18m 21s\n",
            "42:\tlearn: 0.8822835\ttotal: 49.2s\tremaining: 18m 15s\n",
            "43:\tlearn: 0.8818844\ttotal: 50.2s\tremaining: 18m 11s\n",
            "44:\tlearn: 0.8816796\ttotal: 51.2s\tremaining: 18m 6s\n",
            "45:\tlearn: 0.8810233\ttotal: 52.2s\tremaining: 18m 3s\n",
            "46:\tlearn: 0.8803117\ttotal: 53.4s\tremaining: 18m 3s\n",
            "47:\tlearn: 0.8799151\ttotal: 54.5s\tremaining: 18m\n",
            "48:\tlearn: 0.8795475\ttotal: 55.9s\tremaining: 18m 4s\n",
            "49:\tlearn: 0.8792087\ttotal: 57.1s\tremaining: 18m 4s\n",
            "50:\tlearn: 0.8789120\ttotal: 58.1s\tremaining: 18m 1s\n",
            "51:\tlearn: 0.8784212\ttotal: 59.2s\tremaining: 17m 59s\n",
            "52:\tlearn: 0.8778744\ttotal: 1m\tremaining: 17m 58s\n",
            "53:\tlearn: 0.8773951\ttotal: 1m 1s\tremaining: 17m 56s\n",
            "54:\tlearn: 0.8768234\ttotal: 1m 2s\tremaining: 17m 55s\n",
            "55:\tlearn: 0.8764894\ttotal: 1m 3s\tremaining: 17m 53s\n",
            "56:\tlearn: 0.8761456\ttotal: 1m 4s\tremaining: 17m 51s\n",
            "57:\tlearn: 0.8756870\ttotal: 1m 5s\tremaining: 17m 51s\n",
            "58:\tlearn: 0.8753021\ttotal: 1m 7s\tremaining: 17m 56s\n",
            "59:\tlearn: 0.8750808\ttotal: 1m 8s\tremaining: 17m 51s\n",
            "60:\tlearn: 0.8747055\ttotal: 1m 9s\tremaining: 17m 54s\n",
            "61:\tlearn: 0.8743056\ttotal: 1m 10s\tremaining: 17m 53s\n",
            "62:\tlearn: 0.8738251\ttotal: 1m 12s\tremaining: 17m 53s\n",
            "63:\tlearn: 0.8735285\ttotal: 1m 13s\tremaining: 17m 56s\n",
            "64:\tlearn: 0.8732080\ttotal: 1m 14s\tremaining: 17m 53s\n",
            "65:\tlearn: 0.8728294\ttotal: 1m 15s\tremaining: 17m 52s\n",
            "66:\tlearn: 0.8725240\ttotal: 1m 16s\tremaining: 17m 50s\n",
            "67:\tlearn: 0.8721785\ttotal: 1m 17s\tremaining: 17m 48s\n",
            "68:\tlearn: 0.8711755\ttotal: 1m 19s\tremaining: 17m 47s\n",
            "69:\tlearn: 0.8709890\ttotal: 1m 20s\tremaining: 17m 44s\n",
            "70:\tlearn: 0.8705165\ttotal: 1m 21s\tremaining: 17m 42s\n",
            "71:\tlearn: 0.8698825\ttotal: 1m 22s\tremaining: 17m 41s\n",
            "72:\tlearn: 0.8694165\ttotal: 1m 23s\tremaining: 17m 42s\n",
            "73:\tlearn: 0.8691203\ttotal: 1m 24s\tremaining: 17m 40s\n",
            "74:\tlearn: 0.8688931\ttotal: 1m 25s\tremaining: 17m 37s\n",
            "75:\tlearn: 0.8684025\ttotal: 1m 27s\tremaining: 17m 37s\n",
            "76:\tlearn: 0.8680098\ttotal: 1m 28s\tremaining: 17m 39s\n",
            "77:\tlearn: 0.8677576\ttotal: 1m 29s\tremaining: 17m 35s\n",
            "78:\tlearn: 0.8675553\ttotal: 1m 30s\tremaining: 17m 35s\n",
            "79:\tlearn: 0.8672572\ttotal: 1m 31s\tremaining: 17m 36s\n",
            "80:\tlearn: 0.8668128\ttotal: 1m 33s\tremaining: 17m 36s\n",
            "81:\tlearn: 0.8664406\ttotal: 1m 34s\tremaining: 17m 34s\n",
            "82:\tlearn: 0.8661522\ttotal: 1m 35s\tremaining: 17m 35s\n",
            "83:\tlearn: 0.8659362\ttotal: 1m 36s\tremaining: 17m 32s\n",
            "84:\tlearn: 0.8657429\ttotal: 1m 37s\tremaining: 17m 29s\n",
            "85:\tlearn: 0.8654673\ttotal: 1m 38s\tremaining: 17m 28s\n",
            "86:\tlearn: 0.8652033\ttotal: 1m 39s\tremaining: 17m 28s\n",
            "87:\tlearn: 0.8649374\ttotal: 1m 41s\tremaining: 17m 27s\n",
            "88:\tlearn: 0.8647289\ttotal: 1m 42s\tremaining: 17m 26s\n",
            "89:\tlearn: 0.8642307\ttotal: 1m 43s\tremaining: 17m 26s\n",
            "90:\tlearn: 0.8637980\ttotal: 1m 44s\tremaining: 17m 24s\n",
            "91:\tlearn: 0.8635200\ttotal: 1m 45s\tremaining: 17m 23s\n",
            "92:\tlearn: 0.8633064\ttotal: 1m 46s\tremaining: 17m 21s\n",
            "93:\tlearn: 0.8631396\ttotal: 1m 47s\tremaining: 17m 19s\n",
            "94:\tlearn: 0.8629863\ttotal: 1m 48s\tremaining: 17m 18s\n",
            "95:\tlearn: 0.8626763\ttotal: 1m 50s\tremaining: 17m 17s\n",
            "96:\tlearn: 0.8624130\ttotal: 1m 51s\tremaining: 17m 14s\n",
            "97:\tlearn: 0.8622629\ttotal: 1m 52s\tremaining: 17m 13s\n",
            "98:\tlearn: 0.8616001\ttotal: 1m 53s\tremaining: 17m 13s\n",
            "99:\tlearn: 0.8614055\ttotal: 1m 55s\tremaining: 17m 15s\n",
            "100:\tlearn: 0.8611553\ttotal: 1m 56s\tremaining: 17m 13s\n",
            "101:\tlearn: 0.8609887\ttotal: 1m 57s\tremaining: 17m 12s\n",
            "102:\tlearn: 0.8607159\ttotal: 1m 58s\tremaining: 17m 9s\n",
            "103:\tlearn: 0.8605472\ttotal: 1m 59s\tremaining: 17m 7s\n",
            "104:\tlearn: 0.8601063\ttotal: 2m\tremaining: 17m 7s\n",
            "105:\tlearn: 0.8598965\ttotal: 2m 1s\tremaining: 17m 7s\n",
            "106:\tlearn: 0.8596885\ttotal: 2m 2s\tremaining: 17m 6s\n",
            "107:\tlearn: 0.8595342\ttotal: 2m 4s\tremaining: 17m 5s\n",
            "108:\tlearn: 0.8591586\ttotal: 2m 5s\tremaining: 17m 4s\n",
            "109:\tlearn: 0.8588065\ttotal: 2m 6s\tremaining: 17m 2s\n",
            "110:\tlearn: 0.8585862\ttotal: 2m 7s\tremaining: 17m 1s\n",
            "111:\tlearn: 0.8584130\ttotal: 2m 8s\tremaining: 16m 59s\n",
            "112:\tlearn: 0.8581140\ttotal: 2m 9s\tremaining: 16m 59s\n",
            "113:\tlearn: 0.8578740\ttotal: 2m 11s\tremaining: 16m 58s\n",
            "114:\tlearn: 0.8577288\ttotal: 2m 12s\tremaining: 16m 56s\n",
            "115:\tlearn: 0.8575230\ttotal: 2m 13s\tremaining: 16m 56s\n",
            "116:\tlearn: 0.8572594\ttotal: 2m 14s\tremaining: 16m 54s\n",
            "117:\tlearn: 0.8571339\ttotal: 2m 15s\tremaining: 16m 52s\n",
            "118:\tlearn: 0.8568701\ttotal: 2m 16s\tremaining: 16m 51s\n",
            "119:\tlearn: 0.8567420\ttotal: 2m 17s\tremaining: 16m 50s\n",
            "120:\tlearn: 0.8565965\ttotal: 2m 18s\tremaining: 16m 49s\n",
            "121:\tlearn: 0.8564357\ttotal: 2m 20s\tremaining: 16m 47s\n",
            "122:\tlearn: 0.8562735\ttotal: 2m 21s\tremaining: 16m 45s\n",
            "123:\tlearn: 0.8561089\ttotal: 2m 22s\tremaining: 16m 44s\n",
            "124:\tlearn: 0.8559736\ttotal: 2m 23s\tremaining: 16m 42s\n",
            "125:\tlearn: 0.8558513\ttotal: 2m 24s\tremaining: 16m 40s\n",
            "126:\tlearn: 0.8556805\ttotal: 2m 25s\tremaining: 16m 38s\n",
            "127:\tlearn: 0.8555019\ttotal: 2m 26s\tremaining: 16m 37s\n",
            "128:\tlearn: 0.8554095\ttotal: 2m 27s\tremaining: 16m 35s\n",
            "129:\tlearn: 0.8552921\ttotal: 2m 28s\tremaining: 16m 33s\n",
            "130:\tlearn: 0.8550359\ttotal: 2m 29s\tremaining: 16m 32s\n",
            "131:\tlearn: 0.8543205\ttotal: 2m 30s\tremaining: 16m 32s\n",
            "132:\tlearn: 0.8541614\ttotal: 2m 31s\tremaining: 16m 30s\n",
            "133:\tlearn: 0.8539204\ttotal: 2m 33s\tremaining: 16m 28s\n",
            "134:\tlearn: 0.8537886\ttotal: 2m 34s\tremaining: 16m 27s\n",
            "135:\tlearn: 0.8535466\ttotal: 2m 35s\tremaining: 16m 26s\n",
            "136:\tlearn: 0.8530717\ttotal: 2m 36s\tremaining: 16m 26s\n",
            "137:\tlearn: 0.8529674\ttotal: 2m 37s\tremaining: 16m 25s\n",
            "138:\tlearn: 0.8528647\ttotal: 2m 38s\tremaining: 16m 23s\n",
            "139:\tlearn: 0.8527562\ttotal: 2m 39s\tremaining: 16m 21s\n",
            "140:\tlearn: 0.8525821\ttotal: 2m 40s\tremaining: 16m 20s\n",
            "141:\tlearn: 0.8524744\ttotal: 2m 41s\tremaining: 16m 18s\n",
            "142:\tlearn: 0.8522938\ttotal: 2m 43s\tremaining: 16m 17s\n",
            "143:\tlearn: 0.8521077\ttotal: 2m 44s\tremaining: 16m 17s\n",
            "144:\tlearn: 0.8515691\ttotal: 2m 45s\tremaining: 16m 17s\n",
            "145:\tlearn: 0.8513761\ttotal: 2m 46s\tremaining: 16m 16s\n",
            "146:\tlearn: 0.8510809\ttotal: 2m 48s\tremaining: 16m 15s\n",
            "147:\tlearn: 0.8509245\ttotal: 2m 49s\tremaining: 16m 13s\n",
            "148:\tlearn: 0.8506954\ttotal: 2m 50s\tremaining: 16m 13s\n",
            "149:\tlearn: 0.8504388\ttotal: 2m 51s\tremaining: 16m 12s\n",
            "150:\tlearn: 0.8503116\ttotal: 2m 52s\tremaining: 16m 11s\n",
            "151:\tlearn: 0.8501611\ttotal: 2m 53s\tremaining: 16m 10s\n",
            "152:\tlearn: 0.8500257\ttotal: 2m 55s\tremaining: 16m 9s\n",
            "153:\tlearn: 0.8498733\ttotal: 2m 56s\tremaining: 16m 8s\n",
            "154:\tlearn: 0.8497737\ttotal: 2m 57s\tremaining: 16m 7s\n",
            "155:\tlearn: 0.8496315\ttotal: 2m 58s\tremaining: 16m 5s\n",
            "156:\tlearn: 0.8494461\ttotal: 2m 59s\tremaining: 16m 4s\n",
            "157:\tlearn: 0.8492895\ttotal: 3m\tremaining: 16m 3s\n",
            "158:\tlearn: 0.8488619\ttotal: 3m 1s\tremaining: 16m 2s\n",
            "159:\tlearn: 0.8487234\ttotal: 3m 3s\tremaining: 16m 1s\n",
            "160:\tlearn: 0.8486370\ttotal: 3m 4s\tremaining: 15m 59s\n",
            "161:\tlearn: 0.8484510\ttotal: 3m 5s\tremaining: 15m 59s\n",
            "162:\tlearn: 0.8482960\ttotal: 3m 6s\tremaining: 15m 58s\n",
            "163:\tlearn: 0.8481528\ttotal: 3m 7s\tremaining: 15m 56s\n",
            "164:\tlearn: 0.8480649\ttotal: 3m 8s\tremaining: 15m 54s\n",
            "165:\tlearn: 0.8479800\ttotal: 3m 9s\tremaining: 15m 53s\n",
            "166:\tlearn: 0.8479116\ttotal: 3m 10s\tremaining: 15m 51s\n",
            "167:\tlearn: 0.8477962\ttotal: 3m 12s\tremaining: 15m 51s\n",
            "168:\tlearn: 0.8476805\ttotal: 3m 13s\tremaining: 15m 50s\n",
            "169:\tlearn: 0.8474717\ttotal: 3m 14s\tremaining: 15m 49s\n",
            "170:\tlearn: 0.8473804\ttotal: 3m 15s\tremaining: 15m 48s\n",
            "171:\tlearn: 0.8472714\ttotal: 3m 16s\tremaining: 15m 47s\n",
            "172:\tlearn: 0.8471342\ttotal: 3m 18s\tremaining: 15m 46s\n",
            "173:\tlearn: 0.8469950\ttotal: 3m 19s\tremaining: 15m 46s\n",
            "174:\tlearn: 0.8468810\ttotal: 3m 20s\tremaining: 15m 45s\n",
            "175:\tlearn: 0.8466696\ttotal: 3m 21s\tremaining: 15m 44s\n",
            "176:\tlearn: 0.8465110\ttotal: 3m 22s\tremaining: 15m 42s\n",
            "177:\tlearn: 0.8464426\ttotal: 3m 23s\tremaining: 15m 41s\n",
            "178:\tlearn: 0.8463051\ttotal: 3m 24s\tremaining: 15m 39s\n",
            "179:\tlearn: 0.8461170\ttotal: 3m 26s\tremaining: 15m 38s\n",
            "180:\tlearn: 0.8460016\ttotal: 3m 27s\tremaining: 15m 37s\n",
            "181:\tlearn: 0.8458128\ttotal: 3m 28s\tremaining: 15m 36s\n",
            "182:\tlearn: 0.8457046\ttotal: 3m 29s\tremaining: 15m 35s\n",
            "183:\tlearn: 0.8455486\ttotal: 3m 30s\tremaining: 15m 35s\n",
            "184:\tlearn: 0.8451892\ttotal: 3m 32s\tremaining: 15m 34s\n",
            "185:\tlearn: 0.8450638\ttotal: 3m 33s\tremaining: 15m 33s\n",
            "186:\tlearn: 0.8449222\ttotal: 3m 34s\tremaining: 15m 32s\n",
            "187:\tlearn: 0.8448477\ttotal: 3m 35s\tremaining: 15m 30s\n",
            "188:\tlearn: 0.8447826\ttotal: 3m 36s\tremaining: 15m 30s\n",
            "189:\tlearn: 0.8446823\ttotal: 3m 38s\tremaining: 15m 29s\n",
            "190:\tlearn: 0.8445953\ttotal: 3m 39s\tremaining: 15m 28s\n",
            "191:\tlearn: 0.8444925\ttotal: 3m 40s\tremaining: 15m 26s\n",
            "192:\tlearn: 0.8443290\ttotal: 3m 41s\tremaining: 15m 25s\n",
            "193:\tlearn: 0.8442317\ttotal: 3m 42s\tremaining: 15m 24s\n",
            "194:\tlearn: 0.8441622\ttotal: 3m 43s\tremaining: 15m 24s\n",
            "195:\tlearn: 0.8438393\ttotal: 3m 45s\tremaining: 15m 23s\n",
            "196:\tlearn: 0.8436913\ttotal: 3m 46s\tremaining: 15m 22s\n",
            "197:\tlearn: 0.8435568\ttotal: 3m 47s\tremaining: 15m 20s\n",
            "198:\tlearn: 0.8433955\ttotal: 3m 48s\tremaining: 15m 19s\n",
            "199:\tlearn: 0.8431895\ttotal: 3m 49s\tremaining: 15m 18s\n",
            "200:\tlearn: 0.8431049\ttotal: 3m 50s\tremaining: 15m 17s\n",
            "201:\tlearn: 0.8429707\ttotal: 3m 51s\tremaining: 15m 16s\n",
            "202:\tlearn: 0.8428911\ttotal: 3m 53s\tremaining: 15m 15s\n",
            "203:\tlearn: 0.8428348\ttotal: 3m 54s\tremaining: 15m 13s\n",
            "204:\tlearn: 0.8426956\ttotal: 3m 55s\tremaining: 15m 11s\n",
            "205:\tlearn: 0.8426061\ttotal: 3m 56s\tremaining: 15m 9s\n",
            "206:\tlearn: 0.8424259\ttotal: 3m 57s\tremaining: 15m 9s\n",
            "207:\tlearn: 0.8423421\ttotal: 3m 58s\tremaining: 15m 7s\n",
            "208:\tlearn: 0.8422430\ttotal: 3m 59s\tremaining: 15m 5s\n",
            "209:\tlearn: 0.8421947\ttotal: 4m\tremaining: 15m 4s\n",
            "210:\tlearn: 0.8421097\ttotal: 4m 1s\tremaining: 15m 4s\n",
            "211:\tlearn: 0.8420159\ttotal: 4m 2s\tremaining: 15m 2s\n",
            "212:\tlearn: 0.8419193\ttotal: 4m 3s\tremaining: 15m 1s\n",
            "213:\tlearn: 0.8418444\ttotal: 4m 4s\tremaining: 14m 59s\n",
            "214:\tlearn: 0.8417452\ttotal: 4m 6s\tremaining: 14m 58s\n",
            "215:\tlearn: 0.8416414\ttotal: 4m 7s\tremaining: 14m 57s\n",
            "216:\tlearn: 0.8415482\ttotal: 4m 8s\tremaining: 14m 56s\n",
            "217:\tlearn: 0.8414790\ttotal: 4m 9s\tremaining: 14m 54s\n",
            "218:\tlearn: 0.8414185\ttotal: 4m 10s\tremaining: 14m 53s\n",
            "219:\tlearn: 0.8413249\ttotal: 4m 11s\tremaining: 14m 51s\n",
            "220:\tlearn: 0.8412288\ttotal: 4m 12s\tremaining: 14m 50s\n",
            "221:\tlearn: 0.8411181\ttotal: 4m 13s\tremaining: 14m 49s\n",
            "222:\tlearn: 0.8408882\ttotal: 4m 15s\tremaining: 14m 49s\n",
            "223:\tlearn: 0.8408326\ttotal: 4m 16s\tremaining: 14m 48s\n",
            "224:\tlearn: 0.8407783\ttotal: 4m 17s\tremaining: 14m 46s\n",
            "225:\tlearn: 0.8405796\ttotal: 4m 18s\tremaining: 14m 45s\n",
            "226:\tlearn: 0.8404280\ttotal: 4m 19s\tremaining: 14m 45s\n",
            "227:\tlearn: 0.8402632\ttotal: 4m 21s\tremaining: 14m 43s\n",
            "228:\tlearn: 0.8401692\ttotal: 4m 22s\tremaining: 14m 43s\n",
            "229:\tlearn: 0.8401087\ttotal: 4m 23s\tremaining: 14m 42s\n",
            "230:\tlearn: 0.8398443\ttotal: 4m 24s\tremaining: 14m 41s\n",
            "231:\tlearn: 0.8397284\ttotal: 4m 26s\tremaining: 14m 40s\n",
            "232:\tlearn: 0.8395937\ttotal: 4m 27s\tremaining: 14m 39s\n",
            "233:\tlearn: 0.8395025\ttotal: 4m 28s\tremaining: 14m 38s\n",
            "234:\tlearn: 0.8393847\ttotal: 4m 29s\tremaining: 14m 36s\n",
            "235:\tlearn: 0.8392676\ttotal: 4m 30s\tremaining: 14m 36s\n",
            "236:\tlearn: 0.8391468\ttotal: 4m 31s\tremaining: 14m 34s\n",
            "237:\tlearn: 0.8390389\ttotal: 4m 32s\tremaining: 14m 34s\n",
            "238:\tlearn: 0.8389211\ttotal: 4m 34s\tremaining: 14m 33s\n",
            "239:\tlearn: 0.8388779\ttotal: 4m 35s\tremaining: 14m 31s\n",
            "240:\tlearn: 0.8387354\ttotal: 4m 36s\tremaining: 14m 30s\n",
            "241:\tlearn: 0.8386452\ttotal: 4m 37s\tremaining: 14m 29s\n",
            "242:\tlearn: 0.8382442\ttotal: 4m 38s\tremaining: 14m 28s\n",
            "243:\tlearn: 0.8381352\ttotal: 4m 39s\tremaining: 14m 27s\n",
            "244:\tlearn: 0.8380600\ttotal: 4m 41s\tremaining: 14m 26s\n",
            "245:\tlearn: 0.8379268\ttotal: 4m 42s\tremaining: 14m 25s\n",
            "246:\tlearn: 0.8378018\ttotal: 4m 43s\tremaining: 14m 25s\n",
            "247:\tlearn: 0.8377218\ttotal: 4m 45s\tremaining: 14m 24s\n",
            "248:\tlearn: 0.8376193\ttotal: 4m 46s\tremaining: 14m 23s\n",
            "249:\tlearn: 0.8375426\ttotal: 4m 47s\tremaining: 14m 22s\n",
            "250:\tlearn: 0.8374727\ttotal: 4m 48s\tremaining: 14m 21s\n",
            "251:\tlearn: 0.8373874\ttotal: 4m 49s\tremaining: 14m 19s\n",
            "252:\tlearn: 0.8372745\ttotal: 4m 50s\tremaining: 14m 18s\n",
            "253:\tlearn: 0.8370527\ttotal: 4m 52s\tremaining: 14m 18s\n",
            "254:\tlearn: 0.8368939\ttotal: 4m 53s\tremaining: 14m 16s\n",
            "255:\tlearn: 0.8368580\ttotal: 4m 54s\tremaining: 14m 15s\n",
            "256:\tlearn: 0.8367199\ttotal: 4m 55s\tremaining: 14m 13s\n",
            "257:\tlearn: 0.8365574\ttotal: 4m 56s\tremaining: 14m 13s\n",
            "258:\tlearn: 0.8364641\ttotal: 4m 57s\tremaining: 14m 11s\n",
            "259:\tlearn: 0.8363900\ttotal: 4m 58s\tremaining: 14m 10s\n",
            "260:\tlearn: 0.8362045\ttotal: 4m 59s\tremaining: 14m 8s\n",
            "261:\tlearn: 0.8361049\ttotal: 5m\tremaining: 14m 7s\n",
            "262:\tlearn: 0.8360106\ttotal: 5m 1s\tremaining: 14m 6s\n",
            "263:\tlearn: 0.8359654\ttotal: 5m 2s\tremaining: 14m 4s\n",
            "264:\tlearn: 0.8358920\ttotal: 5m 4s\tremaining: 14m 3s\n",
            "265:\tlearn: 0.8358401\ttotal: 5m 5s\tremaining: 14m 1s\n",
            "266:\tlearn: 0.8356645\ttotal: 5m 6s\tremaining: 14m 1s\n",
            "267:\tlearn: 0.8355379\ttotal: 5m 7s\tremaining: 14m\n",
            "268:\tlearn: 0.8354444\ttotal: 5m 9s\tremaining: 13m 59s\n",
            "269:\tlearn: 0.8351502\ttotal: 5m 10s\tremaining: 13m 58s\n",
            "270:\tlearn: 0.8350460\ttotal: 5m 11s\tremaining: 13m 57s\n",
            "271:\tlearn: 0.8349459\ttotal: 5m 12s\tremaining: 13m 56s\n",
            "272:\tlearn: 0.8348906\ttotal: 5m 13s\tremaining: 13m 54s\n",
            "273:\tlearn: 0.8345248\ttotal: 5m 14s\tremaining: 13m 53s\n",
            "274:\tlearn: 0.8344281\ttotal: 5m 15s\tremaining: 13m 51s\n",
            "275:\tlearn: 0.8343506\ttotal: 5m 16s\tremaining: 13m 51s\n",
            "276:\tlearn: 0.8342987\ttotal: 5m 18s\tremaining: 13m 50s\n",
            "277:\tlearn: 0.8342455\ttotal: 5m 19s\tremaining: 13m 48s\n",
            "278:\tlearn: 0.8341873\ttotal: 5m 20s\tremaining: 13m 47s\n",
            "279:\tlearn: 0.8340455\ttotal: 5m 21s\tremaining: 13m 45s\n",
            "280:\tlearn: 0.8339742\ttotal: 5m 22s\tremaining: 13m 44s\n",
            "281:\tlearn: 0.8339060\ttotal: 5m 23s\tremaining: 13m 43s\n",
            "282:\tlearn: 0.8338531\ttotal: 5m 24s\tremaining: 13m 41s\n",
            "283:\tlearn: 0.8338117\ttotal: 5m 25s\tremaining: 13m 40s\n",
            "284:\tlearn: 0.8337378\ttotal: 5m 26s\tremaining: 13m 39s\n",
            "285:\tlearn: 0.8336714\ttotal: 5m 27s\tremaining: 13m 38s\n",
            "286:\tlearn: 0.8335778\ttotal: 5m 28s\tremaining: 13m 37s\n",
            "287:\tlearn: 0.8334797\ttotal: 5m 30s\tremaining: 13m 36s\n",
            "288:\tlearn: 0.8334203\ttotal: 5m 31s\tremaining: 13m 35s\n",
            "289:\tlearn: 0.8333585\ttotal: 5m 32s\tremaining: 13m 33s\n",
            "290:\tlearn: 0.8332689\ttotal: 5m 33s\tremaining: 13m 32s\n",
            "291:\tlearn: 0.8331979\ttotal: 5m 34s\tremaining: 13m 31s\n",
            "292:\tlearn: 0.8331485\ttotal: 5m 35s\tremaining: 13m 30s\n",
            "293:\tlearn: 0.8330641\ttotal: 5m 37s\tremaining: 13m 30s\n",
            "294:\tlearn: 0.8329509\ttotal: 5m 38s\tremaining: 13m 28s\n",
            "295:\tlearn: 0.8329081\ttotal: 5m 39s\tremaining: 13m 27s\n",
            "296:\tlearn: 0.8328286\ttotal: 5m 40s\tremaining: 13m 26s\n",
            "297:\tlearn: 0.8327843\ttotal: 5m 41s\tremaining: 13m 24s\n",
            "298:\tlearn: 0.8323900\ttotal: 5m 42s\tremaining: 13m 23s\n",
            "299:\tlearn: 0.8323526\ttotal: 5m 43s\tremaining: 13m 22s\n",
            "300:\tlearn: 0.8321770\ttotal: 5m 45s\tremaining: 13m 21s\n",
            "301:\tlearn: 0.8321252\ttotal: 5m 46s\tremaining: 13m 20s\n",
            "302:\tlearn: 0.8320142\ttotal: 5m 47s\tremaining: 13m 19s\n",
            "303:\tlearn: 0.8318421\ttotal: 5m 48s\tremaining: 13m 18s\n",
            "304:\tlearn: 0.8317152\ttotal: 5m 49s\tremaining: 13m 17s\n",
            "305:\tlearn: 0.8316554\ttotal: 5m 51s\tremaining: 13m 16s\n",
            "306:\tlearn: 0.8315309\ttotal: 5m 52s\tremaining: 13m 15s\n",
            "307:\tlearn: 0.8314418\ttotal: 5m 53s\tremaining: 13m 14s\n",
            "308:\tlearn: 0.8313606\ttotal: 5m 55s\tremaining: 13m 14s\n",
            "309:\tlearn: 0.8312633\ttotal: 5m 56s\tremaining: 13m 12s\n",
            "310:\tlearn: 0.8310102\ttotal: 5m 57s\tremaining: 13m 11s\n",
            "311:\tlearn: 0.8309435\ttotal: 5m 58s\tremaining: 13m 10s\n",
            "312:\tlearn: 0.8308094\ttotal: 5m 59s\tremaining: 13m 10s\n",
            "313:\tlearn: 0.8307101\ttotal: 6m 1s\tremaining: 13m 9s\n",
            "314:\tlearn: 0.8306040\ttotal: 6m 2s\tremaining: 13m 7s\n",
            "315:\tlearn: 0.8304064\ttotal: 6m 3s\tremaining: 13m 6s\n",
            "316:\tlearn: 0.8303821\ttotal: 6m 4s\tremaining: 13m 5s\n",
            "317:\tlearn: 0.8302398\ttotal: 6m 5s\tremaining: 13m 4s\n",
            "318:\tlearn: 0.8301627\ttotal: 6m 6s\tremaining: 13m 2s\n",
            "319:\tlearn: 0.8300820\ttotal: 6m 7s\tremaining: 13m 1s\n",
            "320:\tlearn: 0.8299990\ttotal: 6m 8s\tremaining: 12m 59s\n",
            "321:\tlearn: 0.8299429\ttotal: 6m 9s\tremaining: 12m 58s\n",
            "322:\tlearn: 0.8298847\ttotal: 6m 10s\tremaining: 12m 57s\n",
            "323:\tlearn: 0.8297358\ttotal: 6m 12s\tremaining: 12m 56s\n",
            "324:\tlearn: 0.8296678\ttotal: 6m 12s\tremaining: 12m 54s\n",
            "325:\tlearn: 0.8296459\ttotal: 6m 14s\tremaining: 12m 53s\n",
            "326:\tlearn: 0.8295826\ttotal: 6m 15s\tremaining: 12m 52s\n",
            "327:\tlearn: 0.8295378\ttotal: 6m 16s\tremaining: 12m 50s\n",
            "328:\tlearn: 0.8293973\ttotal: 6m 17s\tremaining: 12m 49s\n",
            "329:\tlearn: 0.8290523\ttotal: 6m 18s\tremaining: 12m 48s\n",
            "330:\tlearn: 0.8289936\ttotal: 6m 19s\tremaining: 12m 47s\n",
            "331:\tlearn: 0.8289305\ttotal: 6m 20s\tremaining: 12m 46s\n",
            "332:\tlearn: 0.8288797\ttotal: 6m 22s\tremaining: 12m 45s\n",
            "333:\tlearn: 0.8287911\ttotal: 6m 23s\tremaining: 12m 44s\n",
            "334:\tlearn: 0.8287236\ttotal: 6m 24s\tremaining: 12m 43s\n",
            "335:\tlearn: 0.8286639\ttotal: 6m 25s\tremaining: 12m 42s\n",
            "336:\tlearn: 0.8284381\ttotal: 6m 27s\tremaining: 12m 41s\n",
            "337:\tlearn: 0.8283856\ttotal: 6m 28s\tremaining: 12m 40s\n",
            "338:\tlearn: 0.8283377\ttotal: 6m 29s\tremaining: 12m 38s\n",
            "339:\tlearn: 0.8282881\ttotal: 6m 30s\tremaining: 12m 37s\n",
            "340:\tlearn: 0.8282202\ttotal: 6m 31s\tremaining: 12m 36s\n",
            "341:\tlearn: 0.8281685\ttotal: 6m 32s\tremaining: 12m 34s\n",
            "342:\tlearn: 0.8281049\ttotal: 6m 33s\tremaining: 12m 33s\n",
            "343:\tlearn: 0.8280506\ttotal: 6m 34s\tremaining: 12m 32s\n",
            "344:\tlearn: 0.8279532\ttotal: 6m 35s\tremaining: 12m 30s\n",
            "345:\tlearn: 0.8278830\ttotal: 6m 36s\tremaining: 12m 29s\n",
            "346:\tlearn: 0.8278161\ttotal: 6m 37s\tremaining: 12m 28s\n",
            "347:\tlearn: 0.8277743\ttotal: 6m 38s\tremaining: 12m 26s\n",
            "348:\tlearn: 0.8276895\ttotal: 6m 39s\tremaining: 12m 25s\n",
            "349:\tlearn: 0.8275920\ttotal: 6m 41s\tremaining: 12m 24s\n",
            "350:\tlearn: 0.8275400\ttotal: 6m 42s\tremaining: 12m 23s\n",
            "351:\tlearn: 0.8275067\ttotal: 6m 43s\tremaining: 12m 22s\n",
            "352:\tlearn: 0.8274266\ttotal: 6m 44s\tremaining: 12m 20s\n",
            "353:\tlearn: 0.8273647\ttotal: 6m 45s\tremaining: 12m 20s\n",
            "354:\tlearn: 0.8273090\ttotal: 6m 46s\tremaining: 12m 18s\n",
            "355:\tlearn: 0.8272523\ttotal: 6m 47s\tremaining: 12m 17s\n",
            "356:\tlearn: 0.8269055\ttotal: 6m 49s\tremaining: 12m 16s\n",
            "357:\tlearn: 0.8267349\ttotal: 6m 50s\tremaining: 12m 15s\n",
            "358:\tlearn: 0.8266375\ttotal: 6m 51s\tremaining: 12m 14s\n",
            "359:\tlearn: 0.8265688\ttotal: 6m 52s\tremaining: 12m 13s\n",
            "360:\tlearn: 0.8265156\ttotal: 6m 53s\tremaining: 12m 12s\n",
            "361:\tlearn: 0.8264347\ttotal: 6m 54s\tremaining: 12m 11s\n",
            "362:\tlearn: 0.8263643\ttotal: 6m 56s\tremaining: 12m 10s\n",
            "363:\tlearn: 0.8262693\ttotal: 6m 57s\tremaining: 12m 9s\n",
            "364:\tlearn: 0.8262171\ttotal: 6m 58s\tremaining: 12m 8s\n",
            "365:\tlearn: 0.8260347\ttotal: 7m\tremaining: 12m 7s\n",
            "366:\tlearn: 0.8259910\ttotal: 7m 1s\tremaining: 12m 6s\n",
            "367:\tlearn: 0.8259519\ttotal: 7m 2s\tremaining: 12m 5s\n",
            "368:\tlearn: 0.8258769\ttotal: 7m 3s\tremaining: 12m 4s\n",
            "369:\tlearn: 0.8254255\ttotal: 7m 4s\tremaining: 12m 3s\n",
            "370:\tlearn: 0.8253868\ttotal: 7m 5s\tremaining: 12m 1s\n",
            "371:\tlearn: 0.8252963\ttotal: 7m 6s\tremaining: 12m\n",
            "372:\tlearn: 0.8252113\ttotal: 7m 8s\tremaining: 12m\n",
            "373:\tlearn: 0.8250395\ttotal: 7m 9s\tremaining: 11m 59s\n",
            "374:\tlearn: 0.8249065\ttotal: 7m 10s\tremaining: 11m 58s\n",
            "375:\tlearn: 0.8248460\ttotal: 7m 12s\tremaining: 11m 57s\n",
            "376:\tlearn: 0.8248032\ttotal: 7m 13s\tremaining: 11m 55s\n",
            "377:\tlearn: 0.8247500\ttotal: 7m 14s\tremaining: 11m 54s\n",
            "378:\tlearn: 0.8246921\ttotal: 7m 15s\tremaining: 11m 53s\n",
            "379:\tlearn: 0.8246218\ttotal: 7m 16s\tremaining: 11m 51s\n",
            "380:\tlearn: 0.8245790\ttotal: 7m 17s\tremaining: 11m 50s\n",
            "381:\tlearn: 0.8244599\ttotal: 7m 18s\tremaining: 11m 49s\n",
            "382:\tlearn: 0.8244204\ttotal: 7m 19s\tremaining: 11m 48s\n",
            "383:\tlearn: 0.8243873\ttotal: 7m 20s\tremaining: 11m 47s\n",
            "384:\tlearn: 0.8243181\ttotal: 7m 22s\tremaining: 11m 46s\n",
            "385:\tlearn: 0.8242403\ttotal: 7m 23s\tremaining: 11m 44s\n",
            "386:\tlearn: 0.8241619\ttotal: 7m 24s\tremaining: 11m 43s\n",
            "387:\tlearn: 0.8241304\ttotal: 7m 25s\tremaining: 11m 42s\n",
            "388:\tlearn: 0.8240767\ttotal: 7m 26s\tremaining: 11m 41s\n",
            "389:\tlearn: 0.8240243\ttotal: 7m 27s\tremaining: 11m 39s\n",
            "390:\tlearn: 0.8239797\ttotal: 7m 28s\tremaining: 11m 38s\n",
            "391:\tlearn: 0.8239406\ttotal: 7m 29s\tremaining: 11m 37s\n",
            "392:\tlearn: 0.8239086\ttotal: 7m 30s\tremaining: 11m 35s\n",
            "393:\tlearn: 0.8238662\ttotal: 7m 31s\tremaining: 11m 34s\n",
            "394:\tlearn: 0.8238268\ttotal: 7m 32s\tremaining: 11m 33s\n",
            "395:\tlearn: 0.8237564\ttotal: 7m 33s\tremaining: 11m 32s\n",
            "396:\tlearn: 0.8236990\ttotal: 7m 34s\tremaining: 11m 30s\n",
            "397:\tlearn: 0.8236208\ttotal: 7m 36s\tremaining: 11m 29s\n",
            "398:\tlearn: 0.8232463\ttotal: 7m 37s\tremaining: 11m 29s\n",
            "399:\tlearn: 0.8231932\ttotal: 7m 38s\tremaining: 11m 27s\n",
            "400:\tlearn: 0.8231394\ttotal: 7m 39s\tremaining: 11m 26s\n",
            "401:\tlearn: 0.8230995\ttotal: 7m 40s\tremaining: 11m 25s\n",
            "402:\tlearn: 0.8230015\ttotal: 7m 41s\tremaining: 11m 23s\n",
            "403:\tlearn: 0.8228361\ttotal: 7m 42s\tremaining: 11m 22s\n",
            "404:\tlearn: 0.8227514\ttotal: 7m 43s\tremaining: 11m 21s\n",
            "405:\tlearn: 0.8226749\ttotal: 7m 45s\tremaining: 11m 20s\n",
            "406:\tlearn: 0.8226387\ttotal: 7m 46s\tremaining: 11m 19s\n",
            "407:\tlearn: 0.8225635\ttotal: 7m 47s\tremaining: 11m 18s\n",
            "408:\tlearn: 0.8224852\ttotal: 7m 49s\tremaining: 11m 17s\n",
            "409:\tlearn: 0.8224487\ttotal: 7m 50s\tremaining: 11m 16s\n",
            "410:\tlearn: 0.8222681\ttotal: 7m 51s\tremaining: 11m 15s\n",
            "411:\tlearn: 0.8222262\ttotal: 7m 52s\tremaining: 11m 14s\n",
            "412:\tlearn: 0.8221948\ttotal: 7m 53s\tremaining: 11m 12s\n",
            "413:\tlearn: 0.8221248\ttotal: 7m 54s\tremaining: 11m 11s\n",
            "414:\tlearn: 0.8219376\ttotal: 7m 55s\tremaining: 11m 10s\n",
            "415:\tlearn: 0.8218871\ttotal: 7m 57s\tremaining: 11m 10s\n",
            "416:\tlearn: 0.8218118\ttotal: 7m 58s\tremaining: 11m 8s\n",
            "417:\tlearn: 0.8217730\ttotal: 7m 59s\tremaining: 11m 8s\n",
            "418:\tlearn: 0.8217496\ttotal: 8m 1s\tremaining: 11m 6s\n",
            "419:\tlearn: 0.8217001\ttotal: 8m 2s\tremaining: 11m 6s\n",
            "420:\tlearn: 0.8216423\ttotal: 8m 3s\tremaining: 11m 4s\n",
            "421:\tlearn: 0.8215672\ttotal: 8m 4s\tremaining: 11m 3s\n",
            "422:\tlearn: 0.8215046\ttotal: 8m 5s\tremaining: 11m 2s\n",
            "423:\tlearn: 0.8214442\ttotal: 8m 6s\tremaining: 11m 1s\n",
            "424:\tlearn: 0.8213804\ttotal: 8m 7s\tremaining: 10m 59s\n",
            "425:\tlearn: 0.8213198\ttotal: 8m 8s\tremaining: 10m 58s\n",
            "426:\tlearn: 0.8212050\ttotal: 8m 9s\tremaining: 10m 57s\n",
            "427:\tlearn: 0.8211811\ttotal: 8m 11s\tremaining: 10m 56s\n",
            "428:\tlearn: 0.8211403\ttotal: 8m 12s\tremaining: 10m 55s\n",
            "429:\tlearn: 0.8211266\ttotal: 8m 13s\tremaining: 10m 53s\n",
            "430:\tlearn: 0.8210830\ttotal: 8m 14s\tremaining: 10m 52s\n",
            "431:\tlearn: 0.8210256\ttotal: 8m 15s\tremaining: 10m 51s\n",
            "432:\tlearn: 0.8210070\ttotal: 8m 16s\tremaining: 10m 50s\n",
            "433:\tlearn: 0.8208585\ttotal: 8m 17s\tremaining: 10m 49s\n",
            "434:\tlearn: 0.8208147\ttotal: 8m 18s\tremaining: 10m 47s\n",
            "435:\tlearn: 0.8207101\ttotal: 8m 19s\tremaining: 10m 46s\n",
            "436:\tlearn: 0.8206164\ttotal: 8m 21s\tremaining: 10m 45s\n",
            "437:\tlearn: 0.8204714\ttotal: 8m 22s\tremaining: 10m 44s\n",
            "438:\tlearn: 0.8204295\ttotal: 8m 23s\tremaining: 10m 43s\n",
            "439:\tlearn: 0.8203874\ttotal: 8m 24s\tremaining: 10m 42s\n",
            "440:\tlearn: 0.8203376\ttotal: 8m 25s\tremaining: 10m 41s\n",
            "441:\tlearn: 0.8202824\ttotal: 8m 27s\tremaining: 10m 40s\n",
            "442:\tlearn: 0.8202515\ttotal: 8m 28s\tremaining: 10m 39s\n",
            "443:\tlearn: 0.8201570\ttotal: 8m 29s\tremaining: 10m 37s\n",
            "444:\tlearn: 0.8201112\ttotal: 8m 30s\tremaining: 10m 36s\n",
            "445:\tlearn: 0.8200554\ttotal: 8m 31s\tremaining: 10m 35s\n",
            "446:\tlearn: 0.8199805\ttotal: 8m 32s\tremaining: 10m 34s\n",
            "447:\tlearn: 0.8199108\ttotal: 8m 33s\tremaining: 10m 33s\n",
            "448:\tlearn: 0.8198549\ttotal: 8m 35s\tremaining: 10m 32s\n",
            "449:\tlearn: 0.8197517\ttotal: 8m 36s\tremaining: 10m 30s\n",
            "450:\tlearn: 0.8197210\ttotal: 8m 37s\tremaining: 10m 29s\n",
            "451:\tlearn: 0.8196587\ttotal: 8m 38s\tremaining: 10m 28s\n",
            "452:\tlearn: 0.8195813\ttotal: 8m 39s\tremaining: 10m 27s\n",
            "453:\tlearn: 0.8195369\ttotal: 8m 40s\tremaining: 10m 26s\n",
            "454:\tlearn: 0.8195098\ttotal: 8m 41s\tremaining: 10m 24s\n",
            "455:\tlearn: 0.8194795\ttotal: 8m 42s\tremaining: 10m 23s\n",
            "456:\tlearn: 0.8194427\ttotal: 8m 43s\tremaining: 10m 22s\n",
            "457:\tlearn: 0.8194097\ttotal: 8m 44s\tremaining: 10m 20s\n",
            "458:\tlearn: 0.8193512\ttotal: 8m 46s\tremaining: 10m 20s\n",
            "459:\tlearn: 0.8192332\ttotal: 8m 47s\tremaining: 10m 19s\n",
            "460:\tlearn: 0.8192093\ttotal: 8m 48s\tremaining: 10m 17s\n",
            "461:\tlearn: 0.8191498\ttotal: 8m 49s\tremaining: 10m 16s\n",
            "462:\tlearn: 0.8191097\ttotal: 8m 50s\tremaining: 10m 15s\n",
            "463:\tlearn: 0.8190691\ttotal: 8m 51s\tremaining: 10m 14s\n",
            "464:\tlearn: 0.8189002\ttotal: 8m 53s\tremaining: 10m 13s\n",
            "465:\tlearn: 0.8187759\ttotal: 8m 54s\tremaining: 10m 12s\n",
            "466:\tlearn: 0.8187090\ttotal: 8m 55s\tremaining: 10m 10s\n",
            "467:\tlearn: 0.8186372\ttotal: 8m 56s\tremaining: 10m 9s\n",
            "468:\tlearn: 0.8185882\ttotal: 8m 57s\tremaining: 10m 8s\n",
            "469:\tlearn: 0.8182499\ttotal: 8m 58s\tremaining: 10m 7s\n",
            "470:\tlearn: 0.8182055\ttotal: 8m 59s\tremaining: 10m 6s\n",
            "471:\tlearn: 0.8181127\ttotal: 9m 1s\tremaining: 10m 5s\n",
            "472:\tlearn: 0.8180671\ttotal: 9m 2s\tremaining: 10m 4s\n",
            "473:\tlearn: 0.8180110\ttotal: 9m 3s\tremaining: 10m 3s\n",
            "474:\tlearn: 0.8179483\ttotal: 9m 4s\tremaining: 10m 2s\n",
            "475:\tlearn: 0.8178843\ttotal: 9m 6s\tremaining: 10m 1s\n",
            "476:\tlearn: 0.8178072\ttotal: 9m 7s\tremaining: 10m\n",
            "477:\tlearn: 0.8177188\ttotal: 9m 8s\tremaining: 9m 59s\n",
            "478:\tlearn: 0.8176537\ttotal: 9m 10s\tremaining: 9m 58s\n",
            "479:\tlearn: 0.8175652\ttotal: 9m 11s\tremaining: 9m 57s\n",
            "480:\tlearn: 0.8175049\ttotal: 9m 12s\tremaining: 9m 56s\n",
            "481:\tlearn: 0.8174176\ttotal: 9m 13s\tremaining: 9m 55s\n",
            "482:\tlearn: 0.8173424\ttotal: 9m 14s\tremaining: 9m 53s\n",
            "483:\tlearn: 0.8173019\ttotal: 9m 15s\tremaining: 9m 52s\n",
            "484:\tlearn: 0.8171732\ttotal: 9m 16s\tremaining: 9m 51s\n",
            "485:\tlearn: 0.8171160\ttotal: 9m 18s\tremaining: 9m 50s\n",
            "486:\tlearn: 0.8170300\ttotal: 9m 19s\tremaining: 9m 49s\n",
            "487:\tlearn: 0.8169990\ttotal: 9m 20s\tremaining: 9m 47s\n",
            "488:\tlearn: 0.8169425\ttotal: 9m 21s\tremaining: 9m 46s\n",
            "489:\tlearn: 0.8168856\ttotal: 9m 22s\tremaining: 9m 45s\n",
            "490:\tlearn: 0.8167833\ttotal: 9m 24s\tremaining: 9m 44s\n",
            "491:\tlearn: 0.8167266\ttotal: 9m 25s\tremaining: 9m 43s\n",
            "492:\tlearn: 0.8166539\ttotal: 9m 26s\tremaining: 9m 42s\n",
            "493:\tlearn: 0.8166051\ttotal: 9m 27s\tremaining: 9m 41s\n",
            "494:\tlearn: 0.8165666\ttotal: 9m 28s\tremaining: 9m 39s\n",
            "495:\tlearn: 0.8164600\ttotal: 9m 29s\tremaining: 9m 38s\n",
            "496:\tlearn: 0.8164348\ttotal: 9m 30s\tremaining: 9m 37s\n",
            "497:\tlearn: 0.8164023\ttotal: 9m 31s\tremaining: 9m 36s\n",
            "498:\tlearn: 0.8163507\ttotal: 9m 32s\tremaining: 9m 34s\n",
            "499:\tlearn: 0.8163237\ttotal: 9m 33s\tremaining: 9m 33s\n",
            "500:\tlearn: 0.8162769\ttotal: 9m 34s\tremaining: 9m 32s\n",
            "501:\tlearn: 0.8162421\ttotal: 9m 35s\tremaining: 9m 31s\n",
            "502:\tlearn: 0.8162026\ttotal: 9m 36s\tremaining: 9m 30s\n",
            "503:\tlearn: 0.8161665\ttotal: 9m 37s\tremaining: 9m 28s\n",
            "504:\tlearn: 0.8161246\ttotal: 9m 39s\tremaining: 9m 27s\n",
            "505:\tlearn: 0.8160849\ttotal: 9m 40s\tremaining: 9m 26s\n",
            "506:\tlearn: 0.8160485\ttotal: 9m 41s\tremaining: 9m 25s\n",
            "507:\tlearn: 0.8160152\ttotal: 9m 42s\tremaining: 9m 24s\n",
            "508:\tlearn: 0.8158871\ttotal: 9m 44s\tremaining: 9m 23s\n",
            "509:\tlearn: 0.8158510\ttotal: 9m 45s\tremaining: 9m 22s\n",
            "510:\tlearn: 0.8158237\ttotal: 9m 46s\tremaining: 9m 21s\n",
            "511:\tlearn: 0.8157917\ttotal: 9m 47s\tremaining: 9m 20s\n",
            "512:\tlearn: 0.8157443\ttotal: 9m 48s\tremaining: 9m 19s\n",
            "513:\tlearn: 0.8157191\ttotal: 9m 50s\tremaining: 9m 17s\n",
            "514:\tlearn: 0.8156524\ttotal: 9m 51s\tremaining: 9m 16s\n",
            "515:\tlearn: 0.8154652\ttotal: 9m 52s\tremaining: 9m 15s\n",
            "516:\tlearn: 0.8153947\ttotal: 9m 53s\tremaining: 9m 14s\n",
            "517:\tlearn: 0.8153107\ttotal: 9m 54s\tremaining: 9m 13s\n",
            "518:\tlearn: 0.8152682\ttotal: 9m 55s\tremaining: 9m 12s\n",
            "519:\tlearn: 0.8152277\ttotal: 9m 56s\tremaining: 9m 10s\n",
            "520:\tlearn: 0.8152174\ttotal: 9m 57s\tremaining: 9m 9s\n",
            "521:\tlearn: 0.8151700\ttotal: 9m 58s\tremaining: 9m 8s\n",
            "522:\tlearn: 0.8151228\ttotal: 10m\tremaining: 9m 7s\n",
            "523:\tlearn: 0.8150613\ttotal: 10m 1s\tremaining: 9m 6s\n",
            "524:\tlearn: 0.8149923\ttotal: 10m 2s\tremaining: 9m 5s\n",
            "525:\tlearn: 0.8149424\ttotal: 10m 3s\tremaining: 9m 3s\n",
            "526:\tlearn: 0.8149071\ttotal: 10m 4s\tremaining: 9m 2s\n",
            "527:\tlearn: 0.8148636\ttotal: 10m 5s\tremaining: 9m 1s\n",
            "528:\tlearn: 0.8148305\ttotal: 10m 6s\tremaining: 9m\n",
            "529:\tlearn: 0.8147522\ttotal: 10m 8s\tremaining: 8m 59s\n",
            "530:\tlearn: 0.8147281\ttotal: 10m 9s\tremaining: 8m 58s\n",
            "531:\tlearn: 0.8147014\ttotal: 10m 10s\tremaining: 8m 56s\n",
            "532:\tlearn: 0.8146628\ttotal: 10m 11s\tremaining: 8m 55s\n",
            "533:\tlearn: 0.8145818\ttotal: 10m 12s\tremaining: 8m 54s\n",
            "534:\tlearn: 0.8144860\ttotal: 10m 13s\tremaining: 8m 53s\n",
            "535:\tlearn: 0.8144394\ttotal: 10m 14s\tremaining: 8m 52s\n",
            "536:\tlearn: 0.8143704\ttotal: 10m 16s\tremaining: 8m 51s\n",
            "537:\tlearn: 0.8143338\ttotal: 10m 17s\tremaining: 8m 49s\n",
            "538:\tlearn: 0.8143053\ttotal: 10m 17s\tremaining: 8m 48s\n",
            "539:\tlearn: 0.8142705\ttotal: 10m 19s\tremaining: 8m 47s\n",
            "540:\tlearn: 0.8142161\ttotal: 10m 20s\tremaining: 8m 46s\n",
            "541:\tlearn: 0.8141270\ttotal: 10m 22s\tremaining: 8m 45s\n",
            "542:\tlearn: 0.8138333\ttotal: 10m 23s\tremaining: 8m 44s\n",
            "543:\tlearn: 0.8137467\ttotal: 10m 24s\tremaining: 8m 43s\n",
            "544:\tlearn: 0.8137103\ttotal: 10m 25s\tremaining: 8m 42s\n",
            "545:\tlearn: 0.8136558\ttotal: 10m 26s\tremaining: 8m 41s\n",
            "546:\tlearn: 0.8136166\ttotal: 10m 27s\tremaining: 8m 39s\n",
            "547:\tlearn: 0.8135617\ttotal: 10m 29s\tremaining: 8m 39s\n",
            "548:\tlearn: 0.8134939\ttotal: 10m 30s\tremaining: 8m 37s\n",
            "549:\tlearn: 0.8134614\ttotal: 10m 31s\tremaining: 8m 36s\n",
            "550:\tlearn: 0.8134252\ttotal: 10m 32s\tremaining: 8m 35s\n",
            "551:\tlearn: 0.8133802\ttotal: 10m 34s\tremaining: 8m 34s\n",
            "552:\tlearn: 0.8133302\ttotal: 10m 35s\tremaining: 8m 33s\n",
            "553:\tlearn: 0.8132918\ttotal: 10m 36s\tremaining: 8m 32s\n",
            "554:\tlearn: 0.8132050\ttotal: 10m 37s\tremaining: 8m 30s\n",
            "555:\tlearn: 0.8130940\ttotal: 10m 38s\tremaining: 8m 29s\n",
            "556:\tlearn: 0.8130526\ttotal: 10m 39s\tremaining: 8m 28s\n",
            "557:\tlearn: 0.8130145\ttotal: 10m 41s\tremaining: 8m 27s\n",
            "558:\tlearn: 0.8129714\ttotal: 10m 42s\tremaining: 8m 26s\n",
            "559:\tlearn: 0.8129334\ttotal: 10m 43s\tremaining: 8m 25s\n",
            "560:\tlearn: 0.8128094\ttotal: 10m 44s\tremaining: 8m 24s\n",
            "561:\tlearn: 0.8126524\ttotal: 10m 46s\tremaining: 8m 23s\n",
            "562:\tlearn: 0.8126107\ttotal: 10m 47s\tremaining: 8m 22s\n",
            "563:\tlearn: 0.8125725\ttotal: 10m 48s\tremaining: 8m 21s\n",
            "564:\tlearn: 0.8125227\ttotal: 10m 49s\tremaining: 8m 20s\n",
            "565:\tlearn: 0.8124110\ttotal: 10m 51s\tremaining: 8m 19s\n",
            "566:\tlearn: 0.8123847\ttotal: 10m 52s\tremaining: 8m 17s\n",
            "567:\tlearn: 0.8123216\ttotal: 10m 53s\tremaining: 8m 16s\n",
            "568:\tlearn: 0.8122921\ttotal: 10m 54s\tremaining: 8m 15s\n",
            "569:\tlearn: 0.8122480\ttotal: 10m 55s\tremaining: 8m 14s\n",
            "570:\tlearn: 0.8122047\ttotal: 10m 56s\tremaining: 8m 13s\n",
            "571:\tlearn: 0.8121721\ttotal: 10m 57s\tremaining: 8m 12s\n",
            "572:\tlearn: 0.8120677\ttotal: 10m 58s\tremaining: 8m 10s\n",
            "573:\tlearn: 0.8119946\ttotal: 10m 59s\tremaining: 8m 9s\n",
            "574:\tlearn: 0.8115627\ttotal: 11m 1s\tremaining: 8m 8s\n",
            "575:\tlearn: 0.8115206\ttotal: 11m 2s\tremaining: 8m 7s\n",
            "576:\tlearn: 0.8114974\ttotal: 11m 3s\tremaining: 8m 6s\n",
            "577:\tlearn: 0.8114648\ttotal: 11m 5s\tremaining: 8m 5s\n",
            "578:\tlearn: 0.8113836\ttotal: 11m 6s\tremaining: 8m 4s\n",
            "579:\tlearn: 0.8113600\ttotal: 11m 7s\tremaining: 8m 3s\n",
            "580:\tlearn: 0.8113390\ttotal: 11m 8s\tremaining: 8m 1s\n",
            "581:\tlearn: 0.8112934\ttotal: 11m 9s\tremaining: 8m\n",
            "582:\tlearn: 0.8111911\ttotal: 11m 10s\tremaining: 7m 59s\n",
            "583:\tlearn: 0.8111556\ttotal: 11m 11s\tremaining: 7m 58s\n",
            "584:\tlearn: 0.8111295\ttotal: 11m 12s\tremaining: 7m 57s\n",
            "585:\tlearn: 0.8109724\ttotal: 11m 13s\tremaining: 7m 55s\n",
            "586:\tlearn: 0.8109339\ttotal: 11m 14s\tremaining: 7m 54s\n",
            "587:\tlearn: 0.8108878\ttotal: 11m 15s\tremaining: 7m 53s\n",
            "588:\tlearn: 0.8108431\ttotal: 11m 17s\tremaining: 7m 52s\n",
            "589:\tlearn: 0.8107975\ttotal: 11m 18s\tremaining: 7m 51s\n",
            "590:\tlearn: 0.8107549\ttotal: 11m 19s\tremaining: 7m 50s\n",
            "591:\tlearn: 0.8107304\ttotal: 11m 20s\tremaining: 7m 49s\n",
            "592:\tlearn: 0.8106671\ttotal: 11m 21s\tremaining: 7m 47s\n",
            "593:\tlearn: 0.8106230\ttotal: 11m 23s\tremaining: 7m 46s\n",
            "594:\tlearn: 0.8105291\ttotal: 11m 24s\tremaining: 7m 45s\n",
            "595:\tlearn: 0.8104795\ttotal: 11m 25s\tremaining: 7m 44s\n",
            "596:\tlearn: 0.8104418\ttotal: 11m 26s\tremaining: 7m 43s\n",
            "597:\tlearn: 0.8104117\ttotal: 11m 27s\tremaining: 7m 42s\n",
            "598:\tlearn: 0.8103602\ttotal: 11m 28s\tremaining: 7m 41s\n",
            "599:\tlearn: 0.8102843\ttotal: 11m 29s\tremaining: 7m 39s\n",
            "600:\tlearn: 0.8102602\ttotal: 11m 31s\tremaining: 7m 38s\n",
            "601:\tlearn: 0.8102473\ttotal: 11m 32s\tremaining: 7m 37s\n",
            "602:\tlearn: 0.8102113\ttotal: 11m 33s\tremaining: 7m 36s\n",
            "603:\tlearn: 0.8101951\ttotal: 11m 34s\tremaining: 7m 35s\n",
            "604:\tlearn: 0.8101370\ttotal: 11m 35s\tremaining: 7m 34s\n",
            "605:\tlearn: 0.8101174\ttotal: 11m 36s\tremaining: 7m 33s\n",
            "606:\tlearn: 0.8100908\ttotal: 11m 38s\tremaining: 7m 31s\n",
            "607:\tlearn: 0.8100309\ttotal: 11m 39s\tremaining: 7m 30s\n",
            "608:\tlearn: 0.8099815\ttotal: 11m 40s\tremaining: 7m 29s\n",
            "609:\tlearn: 0.8099462\ttotal: 11m 41s\tremaining: 7m 28s\n",
            "610:\tlearn: 0.8099098\ttotal: 11m 42s\tremaining: 7m 27s\n",
            "611:\tlearn: 0.8098681\ttotal: 11m 43s\tremaining: 7m 26s\n",
            "612:\tlearn: 0.8098272\ttotal: 11m 44s\tremaining: 7m 25s\n",
            "613:\tlearn: 0.8097907\ttotal: 11m 46s\tremaining: 7m 23s\n",
            "614:\tlearn: 0.8097624\ttotal: 11m 47s\tremaining: 7m 22s\n",
            "615:\tlearn: 0.8097320\ttotal: 11m 48s\tremaining: 7m 21s\n",
            "616:\tlearn: 0.8096960\ttotal: 11m 49s\tremaining: 7m 20s\n",
            "617:\tlearn: 0.8096332\ttotal: 11m 50s\tremaining: 7m 19s\n",
            "618:\tlearn: 0.8095385\ttotal: 11m 52s\tremaining: 7m 18s\n",
            "619:\tlearn: 0.8095209\ttotal: 11m 52s\tremaining: 7m 16s\n",
            "620:\tlearn: 0.8094968\ttotal: 11m 53s\tremaining: 7m 15s\n",
            "621:\tlearn: 0.8094591\ttotal: 11m 55s\tremaining: 7m 14s\n",
            "622:\tlearn: 0.8093999\ttotal: 11m 56s\tremaining: 7m 13s\n",
            "623:\tlearn: 0.8093685\ttotal: 11m 57s\tremaining: 7m 12s\n",
            "624:\tlearn: 0.8092940\ttotal: 11m 58s\tremaining: 7m 10s\n",
            "625:\tlearn: 0.8092611\ttotal: 11m 59s\tremaining: 7m 9s\n",
            "626:\tlearn: 0.8092231\ttotal: 12m\tremaining: 7m 8s\n",
            "627:\tlearn: 0.8091544\ttotal: 12m 1s\tremaining: 7m 7s\n",
            "628:\tlearn: 0.8091053\ttotal: 12m 3s\tremaining: 7m 6s\n",
            "629:\tlearn: 0.8090494\ttotal: 12m 4s\tremaining: 7m 5s\n",
            "630:\tlearn: 0.8090218\ttotal: 12m 5s\tremaining: 7m 4s\n",
            "631:\tlearn: 0.8089936\ttotal: 12m 6s\tremaining: 7m 2s\n",
            "632:\tlearn: 0.8089570\ttotal: 12m 7s\tremaining: 7m 1s\n",
            "633:\tlearn: 0.8089253\ttotal: 12m 8s\tremaining: 7m\n",
            "634:\tlearn: 0.8088498\ttotal: 12m 9s\tremaining: 6m 59s\n",
            "635:\tlearn: 0.8087577\ttotal: 12m 10s\tremaining: 6m 58s\n",
            "636:\tlearn: 0.8087110\ttotal: 12m 11s\tremaining: 6m 57s\n",
            "637:\tlearn: 0.8086704\ttotal: 12m 12s\tremaining: 6m 55s\n",
            "638:\tlearn: 0.8086307\ttotal: 12m 14s\tremaining: 6m 54s\n",
            "639:\tlearn: 0.8085999\ttotal: 12m 15s\tremaining: 6m 53s\n",
            "640:\tlearn: 0.8085583\ttotal: 12m 16s\tremaining: 6m 52s\n",
            "641:\tlearn: 0.8085281\ttotal: 12m 17s\tremaining: 6m 51s\n",
            "642:\tlearn: 0.8084967\ttotal: 12m 18s\tremaining: 6m 50s\n",
            "643:\tlearn: 0.8084591\ttotal: 12m 19s\tremaining: 6m 48s\n",
            "644:\tlearn: 0.8084336\ttotal: 12m 20s\tremaining: 6m 47s\n",
            "645:\tlearn: 0.8082350\ttotal: 12m 22s\tremaining: 6m 46s\n",
            "646:\tlearn: 0.8081910\ttotal: 12m 24s\tremaining: 6m 45s\n",
            "647:\tlearn: 0.8081652\ttotal: 12m 25s\tremaining: 6m 44s\n",
            "648:\tlearn: 0.8080981\ttotal: 12m 26s\tremaining: 6m 43s\n",
            "649:\tlearn: 0.8080416\ttotal: 12m 27s\tremaining: 6m 42s\n",
            "650:\tlearn: 0.8079832\ttotal: 12m 28s\tremaining: 6m 41s\n",
            "651:\tlearn: 0.8078794\ttotal: 12m 29s\tremaining: 6m 40s\n",
            "652:\tlearn: 0.8077826\ttotal: 12m 31s\tremaining: 6m 39s\n",
            "653:\tlearn: 0.8077509\ttotal: 12m 32s\tremaining: 6m 38s\n",
            "654:\tlearn: 0.8077028\ttotal: 12m 33s\tremaining: 6m 37s\n",
            "655:\tlearn: 0.8076751\ttotal: 12m 34s\tremaining: 6m 35s\n",
            "656:\tlearn: 0.8076403\ttotal: 12m 36s\tremaining: 6m 34s\n",
            "657:\tlearn: 0.8076196\ttotal: 12m 37s\tremaining: 6m 33s\n",
            "658:\tlearn: 0.8075921\ttotal: 12m 38s\tremaining: 6m 32s\n",
            "659:\tlearn: 0.8075478\ttotal: 12m 39s\tremaining: 6m 31s\n",
            "660:\tlearn: 0.8075344\ttotal: 12m 40s\tremaining: 6m 30s\n",
            "661:\tlearn: 0.8073416\ttotal: 12m 41s\tremaining: 6m 28s\n",
            "662:\tlearn: 0.8073182\ttotal: 12m 42s\tremaining: 6m 27s\n",
            "663:\tlearn: 0.8072397\ttotal: 12m 43s\tremaining: 6m 26s\n",
            "664:\tlearn: 0.8072110\ttotal: 12m 44s\tremaining: 6m 25s\n",
            "665:\tlearn: 0.8071898\ttotal: 12m 45s\tremaining: 6m 24s\n",
            "666:\tlearn: 0.8071505\ttotal: 12m 46s\tremaining: 6m 22s\n",
            "667:\tlearn: 0.8071054\ttotal: 12m 48s\tremaining: 6m 21s\n",
            "668:\tlearn: 0.8070675\ttotal: 12m 49s\tremaining: 6m 20s\n",
            "669:\tlearn: 0.8070521\ttotal: 12m 50s\tremaining: 6m 19s\n",
            "670:\tlearn: 0.8070257\ttotal: 12m 51s\tremaining: 6m 18s\n",
            "671:\tlearn: 0.8069273\ttotal: 12m 52s\tremaining: 6m 17s\n",
            "672:\tlearn: 0.8068624\ttotal: 12m 53s\tremaining: 6m 16s\n",
            "673:\tlearn: 0.8066742\ttotal: 12m 55s\tremaining: 6m 14s\n",
            "674:\tlearn: 0.8066546\ttotal: 12m 56s\tremaining: 6m 13s\n",
            "675:\tlearn: 0.8065003\ttotal: 12m 57s\tremaining: 6m 12s\n",
            "676:\tlearn: 0.8064737\ttotal: 12m 58s\tremaining: 6m 11s\n",
            "677:\tlearn: 0.8063079\ttotal: 12m 59s\tremaining: 6m 10s\n",
            "678:\tlearn: 0.8062652\ttotal: 13m\tremaining: 6m 9s\n",
            "679:\tlearn: 0.8062341\ttotal: 13m 2s\tremaining: 6m 8s\n",
            "680:\tlearn: 0.8062098\ttotal: 13m 3s\tremaining: 6m 6s\n",
            "681:\tlearn: 0.8061752\ttotal: 13m 4s\tremaining: 6m 5s\n",
            "682:\tlearn: 0.8061536\ttotal: 13m 5s\tremaining: 6m 4s\n",
            "683:\tlearn: 0.8061096\ttotal: 13m 6s\tremaining: 6m 3s\n",
            "684:\tlearn: 0.8060945\ttotal: 13m 7s\tremaining: 6m 2s\n",
            "685:\tlearn: 0.8060344\ttotal: 13m 8s\tremaining: 6m\n",
            "686:\tlearn: 0.8059782\ttotal: 13m 9s\tremaining: 5m 59s\n",
            "687:\tlearn: 0.8059299\ttotal: 13m 11s\tremaining: 5m 58s\n",
            "688:\tlearn: 0.8058952\ttotal: 13m 12s\tremaining: 5m 57s\n",
            "689:\tlearn: 0.8057779\ttotal: 13m 13s\tremaining: 5m 56s\n",
            "690:\tlearn: 0.8057393\ttotal: 13m 14s\tremaining: 5m 55s\n",
            "691:\tlearn: 0.8057186\ttotal: 13m 15s\tremaining: 5m 54s\n",
            "692:\tlearn: 0.8056769\ttotal: 13m 16s\tremaining: 5m 52s\n",
            "693:\tlearn: 0.8056157\ttotal: 13m 17s\tremaining: 5m 51s\n",
            "694:\tlearn: 0.8055604\ttotal: 13m 18s\tremaining: 5m 50s\n",
            "695:\tlearn: 0.8055115\ttotal: 13m 20s\tremaining: 5m 49s\n",
            "696:\tlearn: 0.8054793\ttotal: 13m 21s\tremaining: 5m 48s\n",
            "697:\tlearn: 0.8054243\ttotal: 13m 22s\tremaining: 5m 47s\n",
            "698:\tlearn: 0.8053867\ttotal: 13m 23s\tremaining: 5m 45s\n",
            "699:\tlearn: 0.8053423\ttotal: 13m 24s\tremaining: 5m 44s\n",
            "700:\tlearn: 0.8053150\ttotal: 13m 25s\tremaining: 5m 43s\n",
            "701:\tlearn: 0.8052327\ttotal: 13m 27s\tremaining: 5m 42s\n",
            "702:\tlearn: 0.8052203\ttotal: 13m 28s\tremaining: 5m 41s\n",
            "703:\tlearn: 0.8050263\ttotal: 13m 29s\tremaining: 5m 40s\n",
            "704:\tlearn: 0.8049760\ttotal: 13m 31s\tremaining: 5m 39s\n",
            "705:\tlearn: 0.8049512\ttotal: 13m 32s\tremaining: 5m 38s\n",
            "706:\tlearn: 0.8049303\ttotal: 13m 33s\tremaining: 5m 36s\n",
            "707:\tlearn: 0.8048945\ttotal: 13m 33s\tremaining: 5m 35s\n",
            "708:\tlearn: 0.8048515\ttotal: 13m 35s\tremaining: 5m 34s\n",
            "709:\tlearn: 0.8048254\ttotal: 13m 36s\tremaining: 5m 33s\n",
            "710:\tlearn: 0.8048057\ttotal: 13m 37s\tremaining: 5m 32s\n",
            "711:\tlearn: 0.8046206\ttotal: 13m 38s\tremaining: 5m 31s\n",
            "712:\tlearn: 0.8044676\ttotal: 13m 39s\tremaining: 5m 30s\n",
            "713:\tlearn: 0.8044395\ttotal: 13m 40s\tremaining: 5m 28s\n",
            "714:\tlearn: 0.8043927\ttotal: 13m 42s\tremaining: 5m 27s\n",
            "715:\tlearn: 0.8043121\ttotal: 13m 43s\tremaining: 5m 26s\n",
            "716:\tlearn: 0.8042887\ttotal: 13m 44s\tremaining: 5m 25s\n",
            "717:\tlearn: 0.8042543\ttotal: 13m 45s\tremaining: 5m 24s\n",
            "718:\tlearn: 0.8041462\ttotal: 13m 46s\tremaining: 5m 23s\n",
            "719:\tlearn: 0.8041065\ttotal: 13m 47s\tremaining: 5m 21s\n",
            "720:\tlearn: 0.8040676\ttotal: 13m 49s\tremaining: 5m 20s\n",
            "721:\tlearn: 0.8040350\ttotal: 13m 50s\tremaining: 5m 19s\n",
            "722:\tlearn: 0.8039950\ttotal: 13m 51s\tremaining: 5m 18s\n",
            "723:\tlearn: 0.8039696\ttotal: 13m 52s\tremaining: 5m 17s\n",
            "724:\tlearn: 0.8039360\ttotal: 13m 53s\tremaining: 5m 15s\n",
            "725:\tlearn: 0.8039080\ttotal: 13m 54s\tremaining: 5m 14s\n",
            "726:\tlearn: 0.8038713\ttotal: 13m 55s\tremaining: 5m 13s\n",
            "727:\tlearn: 0.8038390\ttotal: 13m 56s\tremaining: 5m 12s\n",
            "728:\tlearn: 0.8038061\ttotal: 13m 57s\tremaining: 5m 11s\n",
            "729:\tlearn: 0.8037813\ttotal: 13m 58s\tremaining: 5m 10s\n",
            "730:\tlearn: 0.8037178\ttotal: 13m 59s\tremaining: 5m 8s\n",
            "731:\tlearn: 0.8036880\ttotal: 14m\tremaining: 5m 7s\n",
            "732:\tlearn: 0.8036526\ttotal: 14m 1s\tremaining: 5m 6s\n",
            "733:\tlearn: 0.8035753\ttotal: 14m 2s\tremaining: 5m 5s\n",
            "734:\tlearn: 0.8035561\ttotal: 14m 3s\tremaining: 5m 4s\n",
            "735:\tlearn: 0.8035193\ttotal: 14m 5s\tremaining: 5m 3s\n",
            "736:\tlearn: 0.8034850\ttotal: 14m 6s\tremaining: 5m 1s\n",
            "737:\tlearn: 0.8033865\ttotal: 14m 7s\tremaining: 5m\n",
            "738:\tlearn: 0.8033616\ttotal: 14m 8s\tremaining: 4m 59s\n",
            "739:\tlearn: 0.8033327\ttotal: 14m 9s\tremaining: 4m 58s\n",
            "740:\tlearn: 0.8032945\ttotal: 14m 10s\tremaining: 4m 57s\n",
            "741:\tlearn: 0.8032465\ttotal: 14m 12s\tremaining: 4m 56s\n",
            "742:\tlearn: 0.8031897\ttotal: 14m 13s\tremaining: 4m 55s\n",
            "743:\tlearn: 0.8031508\ttotal: 14m 14s\tremaining: 4m 53s\n",
            "744:\tlearn: 0.8031337\ttotal: 14m 15s\tremaining: 4m 52s\n",
            "745:\tlearn: 0.8030764\ttotal: 14m 16s\tremaining: 4m 51s\n",
            "746:\tlearn: 0.8030258\ttotal: 14m 17s\tremaining: 4m 50s\n",
            "747:\tlearn: 0.8030043\ttotal: 14m 18s\tremaining: 4m 49s\n",
            "748:\tlearn: 0.8029502\ttotal: 14m 19s\tremaining: 4m 48s\n",
            "749:\tlearn: 0.8029162\ttotal: 14m 21s\tremaining: 4m 47s\n",
            "750:\tlearn: 0.8026363\ttotal: 14m 22s\tremaining: 4m 45s\n",
            "751:\tlearn: 0.8025859\ttotal: 14m 23s\tremaining: 4m 44s\n",
            "752:\tlearn: 0.8025615\ttotal: 14m 24s\tremaining: 4m 43s\n",
            "753:\tlearn: 0.8025368\ttotal: 14m 25s\tremaining: 4m 42s\n",
            "754:\tlearn: 0.8025052\ttotal: 14m 26s\tremaining: 4m 41s\n",
            "755:\tlearn: 0.8024711\ttotal: 14m 28s\tremaining: 4m 40s\n",
            "756:\tlearn: 0.8024244\ttotal: 14m 29s\tremaining: 4m 39s\n",
            "757:\tlearn: 0.8023873\ttotal: 14m 30s\tremaining: 4m 37s\n",
            "758:\tlearn: 0.8023690\ttotal: 14m 31s\tremaining: 4m 36s\n",
            "759:\tlearn: 0.8023431\ttotal: 14m 32s\tremaining: 4m 35s\n",
            "760:\tlearn: 0.8021050\ttotal: 14m 34s\tremaining: 4m 34s\n",
            "761:\tlearn: 0.8020772\ttotal: 14m 35s\tremaining: 4m 33s\n",
            "762:\tlearn: 0.8020612\ttotal: 14m 36s\tremaining: 4m 32s\n",
            "763:\tlearn: 0.8020343\ttotal: 14m 37s\tremaining: 4m 31s\n",
            "764:\tlearn: 0.8019929\ttotal: 14m 38s\tremaining: 4m 29s\n",
            "765:\tlearn: 0.8019600\ttotal: 14m 39s\tremaining: 4m 28s\n",
            "766:\tlearn: 0.8019383\ttotal: 14m 40s\tremaining: 4m 27s\n",
            "767:\tlearn: 0.8018787\ttotal: 14m 41s\tremaining: 4m 26s\n",
            "768:\tlearn: 0.8018560\ttotal: 14m 43s\tremaining: 4m 25s\n",
            "769:\tlearn: 0.8017950\ttotal: 14m 44s\tremaining: 4m 24s\n",
            "770:\tlearn: 0.8017512\ttotal: 14m 45s\tremaining: 4m 23s\n",
            "771:\tlearn: 0.8017254\ttotal: 14m 46s\tremaining: 4m 21s\n",
            "772:\tlearn: 0.8017115\ttotal: 14m 47s\tremaining: 4m 20s\n",
            "773:\tlearn: 0.8016807\ttotal: 14m 48s\tremaining: 4m 19s\n",
            "774:\tlearn: 0.8016363\ttotal: 14m 50s\tremaining: 4m 18s\n",
            "775:\tlearn: 0.8016027\ttotal: 14m 51s\tremaining: 4m 17s\n",
            "776:\tlearn: 0.8015728\ttotal: 14m 52s\tremaining: 4m 16s\n",
            "777:\tlearn: 0.8015461\ttotal: 14m 53s\tremaining: 4m 15s\n",
            "778:\tlearn: 0.8013539\ttotal: 14m 54s\tremaining: 4m 13s\n",
            "779:\tlearn: 0.8012232\ttotal: 14m 56s\tremaining: 4m 12s\n",
            "780:\tlearn: 0.8011960\ttotal: 14m 57s\tremaining: 4m 11s\n",
            "781:\tlearn: 0.8011295\ttotal: 14m 58s\tremaining: 4m 10s\n",
            "782:\tlearn: 0.8010915\ttotal: 14m 59s\tremaining: 4m 9s\n",
            "783:\tlearn: 0.8010732\ttotal: 15m\tremaining: 4m 8s\n",
            "784:\tlearn: 0.8010489\ttotal: 15m 1s\tremaining: 4m 7s\n",
            "785:\tlearn: 0.8010105\ttotal: 15m 3s\tremaining: 4m 5s\n",
            "786:\tlearn: 0.8009717\ttotal: 15m 4s\tremaining: 4m 4s\n",
            "787:\tlearn: 0.8009047\ttotal: 15m 5s\tremaining: 4m 3s\n",
            "788:\tlearn: 0.8008978\ttotal: 15m 6s\tremaining: 4m 2s\n",
            "789:\tlearn: 0.8008717\ttotal: 15m 7s\tremaining: 4m 1s\n",
            "790:\tlearn: 0.8008278\ttotal: 15m 8s\tremaining: 4m\n",
            "791:\tlearn: 0.8007895\ttotal: 15m 9s\tremaining: 3m 58s\n",
            "792:\tlearn: 0.8007604\ttotal: 15m 11s\tremaining: 3m 57s\n",
            "793:\tlearn: 0.8005792\ttotal: 15m 12s\tremaining: 3m 56s\n",
            "794:\tlearn: 0.8004237\ttotal: 15m 13s\tremaining: 3m 55s\n",
            "795:\tlearn: 0.8004100\ttotal: 15m 14s\tremaining: 3m 54s\n",
            "796:\tlearn: 0.8003800\ttotal: 15m 15s\tremaining: 3m 53s\n",
            "797:\tlearn: 0.8003342\ttotal: 15m 17s\tremaining: 3m 52s\n",
            "798:\tlearn: 0.8001815\ttotal: 15m 18s\tremaining: 3m 51s\n",
            "799:\tlearn: 0.8000952\ttotal: 15m 19s\tremaining: 3m 49s\n",
            "800:\tlearn: 0.8000688\ttotal: 15m 20s\tremaining: 3m 48s\n",
            "801:\tlearn: 0.8000441\ttotal: 15m 21s\tremaining: 3m 47s\n",
            "802:\tlearn: 0.8000262\ttotal: 15m 22s\tremaining: 3m 46s\n",
            "803:\tlearn: 0.7998836\ttotal: 15m 23s\tremaining: 3m 45s\n",
            "804:\tlearn: 0.7998240\ttotal: 15m 25s\tremaining: 3m 44s\n",
            "805:\tlearn: 0.7997773\ttotal: 15m 26s\tremaining: 3m 42s\n",
            "806:\tlearn: 0.7997555\ttotal: 15m 27s\tremaining: 3m 41s\n",
            "807:\tlearn: 0.7997162\ttotal: 15m 28s\tremaining: 3m 40s\n",
            "808:\tlearn: 0.7996770\ttotal: 15m 29s\tremaining: 3m 39s\n",
            "809:\tlearn: 0.7996552\ttotal: 15m 30s\tremaining: 3m 38s\n",
            "810:\tlearn: 0.7996193\ttotal: 15m 31s\tremaining: 3m 37s\n",
            "811:\tlearn: 0.7995599\ttotal: 15m 32s\tremaining: 3m 35s\n",
            "812:\tlearn: 0.7995441\ttotal: 15m 33s\tremaining: 3m 34s\n",
            "813:\tlearn: 0.7993942\ttotal: 15m 34s\tremaining: 3m 33s\n",
            "814:\tlearn: 0.7993435\ttotal: 15m 36s\tremaining: 3m 32s\n",
            "815:\tlearn: 0.7992862\ttotal: 15m 37s\tremaining: 3m 31s\n",
            "816:\tlearn: 0.7992553\ttotal: 15m 38s\tremaining: 3m 30s\n",
            "817:\tlearn: 0.7992344\ttotal: 15m 40s\tremaining: 3m 29s\n",
            "818:\tlearn: 0.7991808\ttotal: 15m 41s\tremaining: 3m 28s\n",
            "819:\tlearn: 0.7991538\ttotal: 15m 42s\tremaining: 3m 26s\n",
            "820:\tlearn: 0.7989247\ttotal: 15m 43s\tremaining: 3m 25s\n",
            "821:\tlearn: 0.7989071\ttotal: 15m 44s\tremaining: 3m 24s\n",
            "822:\tlearn: 0.7988611\ttotal: 15m 45s\tremaining: 3m 23s\n",
            "823:\tlearn: 0.7988240\ttotal: 15m 47s\tremaining: 3m 22s\n",
            "824:\tlearn: 0.7987472\ttotal: 15m 48s\tremaining: 3m 21s\n",
            "825:\tlearn: 0.7987158\ttotal: 15m 49s\tremaining: 3m 20s\n",
            "826:\tlearn: 0.7986850\ttotal: 15m 50s\tremaining: 3m 18s\n",
            "827:\tlearn: 0.7986188\ttotal: 15m 51s\tremaining: 3m 17s\n",
            "828:\tlearn: 0.7986010\ttotal: 15m 52s\tremaining: 3m 16s\n",
            "829:\tlearn: 0.7985443\ttotal: 15m 53s\tremaining: 3m 15s\n",
            "830:\tlearn: 0.7985076\ttotal: 15m 55s\tremaining: 3m 14s\n",
            "831:\tlearn: 0.7984297\ttotal: 15m 56s\tremaining: 3m 13s\n",
            "832:\tlearn: 0.7983999\ttotal: 15m 57s\tremaining: 3m 11s\n",
            "833:\tlearn: 0.7982906\ttotal: 15m 58s\tremaining: 3m 10s\n",
            "834:\tlearn: 0.7982508\ttotal: 15m 59s\tremaining: 3m 9s\n",
            "835:\tlearn: 0.7982311\ttotal: 16m\tremaining: 3m 8s\n",
            "836:\tlearn: 0.7981962\ttotal: 16m 1s\tremaining: 3m 7s\n",
            "837:\tlearn: 0.7981775\ttotal: 16m 2s\tremaining: 3m 6s\n",
            "838:\tlearn: 0.7981260\ttotal: 16m 3s\tremaining: 3m 4s\n",
            "839:\tlearn: 0.7981036\ttotal: 16m 4s\tremaining: 3m 3s\n",
            "840:\tlearn: 0.7980527\ttotal: 16m 6s\tremaining: 3m 2s\n",
            "841:\tlearn: 0.7980353\ttotal: 16m 7s\tremaining: 3m 1s\n",
            "842:\tlearn: 0.7979307\ttotal: 16m 8s\tremaining: 3m\n",
            "843:\tlearn: 0.7978848\ttotal: 16m 9s\tremaining: 2m 59s\n",
            "844:\tlearn: 0.7978450\ttotal: 16m 11s\tremaining: 2m 58s\n",
            "845:\tlearn: 0.7978185\ttotal: 16m 12s\tremaining: 2m 57s\n",
            "846:\tlearn: 0.7977941\ttotal: 16m 13s\tremaining: 2m 55s\n",
            "847:\tlearn: 0.7977586\ttotal: 16m 14s\tremaining: 2m 54s\n",
            "848:\tlearn: 0.7977448\ttotal: 16m 15s\tremaining: 2m 53s\n",
            "849:\tlearn: 0.7977236\ttotal: 16m 16s\tremaining: 2m 52s\n",
            "850:\tlearn: 0.7976810\ttotal: 16m 18s\tremaining: 2m 51s\n",
            "851:\tlearn: 0.7976537\ttotal: 16m 19s\tremaining: 2m 50s\n",
            "852:\tlearn: 0.7975815\ttotal: 16m 20s\tremaining: 2m 48s\n",
            "853:\tlearn: 0.7975438\ttotal: 16m 21s\tremaining: 2m 47s\n",
            "854:\tlearn: 0.7974996\ttotal: 16m 22s\tremaining: 2m 46s\n",
            "855:\tlearn: 0.7974712\ttotal: 16m 23s\tremaining: 2m 45s\n",
            "856:\tlearn: 0.7974367\ttotal: 16m 24s\tremaining: 2m 44s\n",
            "857:\tlearn: 0.7973643\ttotal: 16m 25s\tremaining: 2m 43s\n",
            "858:\tlearn: 0.7973444\ttotal: 16m 26s\tremaining: 2m 41s\n",
            "859:\tlearn: 0.7973167\ttotal: 16m 28s\tremaining: 2m 40s\n",
            "860:\tlearn: 0.7973070\ttotal: 16m 29s\tremaining: 2m 39s\n",
            "861:\tlearn: 0.7972834\ttotal: 16m 30s\tremaining: 2m 38s\n",
            "862:\tlearn: 0.7972483\ttotal: 16m 31s\tremaining: 2m 37s\n",
            "863:\tlearn: 0.7972078\ttotal: 16m 32s\tremaining: 2m 36s\n",
            "864:\tlearn: 0.7971803\ttotal: 16m 33s\tremaining: 2m 35s\n",
            "865:\tlearn: 0.7971148\ttotal: 16m 34s\tremaining: 2m 33s\n",
            "866:\tlearn: 0.7970770\ttotal: 16m 35s\tremaining: 2m 32s\n",
            "867:\tlearn: 0.7970436\ttotal: 16m 36s\tremaining: 2m 31s\n",
            "868:\tlearn: 0.7970074\ttotal: 16m 37s\tremaining: 2m 30s\n",
            "869:\tlearn: 0.7969626\ttotal: 16m 38s\tremaining: 2m 29s\n",
            "870:\tlearn: 0.7969287\ttotal: 16m 40s\tremaining: 2m 28s\n",
            "871:\tlearn: 0.7968527\ttotal: 16m 41s\tremaining: 2m 26s\n",
            "872:\tlearn: 0.7968274\ttotal: 16m 42s\tremaining: 2m 25s\n",
            "873:\tlearn: 0.7967594\ttotal: 16m 43s\tremaining: 2m 24s\n",
            "874:\tlearn: 0.7965896\ttotal: 16m 44s\tremaining: 2m 23s\n",
            "875:\tlearn: 0.7965151\ttotal: 16m 45s\tremaining: 2m 22s\n",
            "876:\tlearn: 0.7962630\ttotal: 16m 47s\tremaining: 2m 21s\n",
            "877:\tlearn: 0.7962200\ttotal: 16m 48s\tremaining: 2m 20s\n",
            "878:\tlearn: 0.7962028\ttotal: 16m 49s\tremaining: 2m 19s\n",
            "879:\tlearn: 0.7961807\ttotal: 16m 50s\tremaining: 2m 17s\n",
            "880:\tlearn: 0.7961593\ttotal: 16m 51s\tremaining: 2m 16s\n",
            "881:\tlearn: 0.7961342\ttotal: 16m 52s\tremaining: 2m 15s\n",
            "882:\tlearn: 0.7960800\ttotal: 16m 53s\tremaining: 2m 14s\n",
            "883:\tlearn: 0.7959903\ttotal: 16m 55s\tremaining: 2m 13s\n",
            "884:\tlearn: 0.7959561\ttotal: 16m 56s\tremaining: 2m 12s\n",
            "885:\tlearn: 0.7959247\ttotal: 16m 57s\tremaining: 2m 10s\n",
            "886:\tlearn: 0.7958930\ttotal: 16m 58s\tremaining: 2m 9s\n",
            "887:\tlearn: 0.7958415\ttotal: 16m 59s\tremaining: 2m 8s\n",
            "888:\tlearn: 0.7958115\ttotal: 17m\tremaining: 2m 7s\n",
            "889:\tlearn: 0.7956799\ttotal: 17m 1s\tremaining: 2m 6s\n",
            "890:\tlearn: 0.7956259\ttotal: 17m 3s\tremaining: 2m 5s\n",
            "891:\tlearn: 0.7956060\ttotal: 17m 4s\tremaining: 2m 3s\n",
            "892:\tlearn: 0.7955853\ttotal: 17m 5s\tremaining: 2m 2s\n",
            "893:\tlearn: 0.7955201\ttotal: 17m 6s\tremaining: 2m 1s\n",
            "894:\tlearn: 0.7954340\ttotal: 17m 7s\tremaining: 2m\n",
            "895:\tlearn: 0.7954211\ttotal: 17m 8s\tremaining: 1m 59s\n",
            "896:\tlearn: 0.7953890\ttotal: 17m 9s\tremaining: 1m 58s\n",
            "897:\tlearn: 0.7953572\ttotal: 17m 10s\tremaining: 1m 57s\n",
            "898:\tlearn: 0.7953138\ttotal: 17m 11s\tremaining: 1m 55s\n",
            "899:\tlearn: 0.7952752\ttotal: 17m 12s\tremaining: 1m 54s\n",
            "900:\tlearn: 0.7952347\ttotal: 17m 14s\tremaining: 1m 53s\n",
            "901:\tlearn: 0.7951722\ttotal: 17m 15s\tremaining: 1m 52s\n",
            "902:\tlearn: 0.7951181\ttotal: 17m 16s\tremaining: 1m 51s\n",
            "903:\tlearn: 0.7951042\ttotal: 17m 17s\tremaining: 1m 50s\n",
            "904:\tlearn: 0.7950781\ttotal: 17m 19s\tremaining: 1m 49s\n",
            "905:\tlearn: 0.7950413\ttotal: 17m 20s\tremaining: 1m 47s\n",
            "906:\tlearn: 0.7948466\ttotal: 17m 21s\tremaining: 1m 46s\n",
            "907:\tlearn: 0.7947906\ttotal: 17m 23s\tremaining: 1m 45s\n",
            "908:\tlearn: 0.7947164\ttotal: 17m 24s\tremaining: 1m 44s\n",
            "909:\tlearn: 0.7946937\ttotal: 17m 25s\tremaining: 1m 43s\n",
            "910:\tlearn: 0.7946531\ttotal: 17m 26s\tremaining: 1m 42s\n",
            "911:\tlearn: 0.7946299\ttotal: 17m 28s\tremaining: 1m 41s\n",
            "912:\tlearn: 0.7945813\ttotal: 17m 29s\tremaining: 1m 40s\n",
            "913:\tlearn: 0.7945501\ttotal: 17m 30s\tremaining: 1m 38s\n",
            "914:\tlearn: 0.7945250\ttotal: 17m 31s\tremaining: 1m 37s\n",
            "915:\tlearn: 0.7945076\ttotal: 17m 32s\tremaining: 1m 36s\n",
            "916:\tlearn: 0.7944601\ttotal: 17m 33s\tremaining: 1m 35s\n",
            "917:\tlearn: 0.7944469\ttotal: 17m 35s\tremaining: 1m 34s\n",
            "918:\tlearn: 0.7944140\ttotal: 17m 36s\tremaining: 1m 33s\n",
            "919:\tlearn: 0.7944044\ttotal: 17m 37s\tremaining: 1m 31s\n",
            "920:\tlearn: 0.7943834\ttotal: 17m 38s\tremaining: 1m 30s\n",
            "921:\tlearn: 0.7943576\ttotal: 17m 39s\tremaining: 1m 29s\n",
            "922:\tlearn: 0.7942065\ttotal: 17m 40s\tremaining: 1m 28s\n",
            "923:\tlearn: 0.7941452\ttotal: 17m 41s\tremaining: 1m 27s\n",
            "924:\tlearn: 0.7940850\ttotal: 17m 43s\tremaining: 1m 26s\n",
            "925:\tlearn: 0.7940727\ttotal: 17m 44s\tremaining: 1m 25s\n",
            "926:\tlearn: 0.7940499\ttotal: 17m 45s\tremaining: 1m 23s\n",
            "927:\tlearn: 0.7940311\ttotal: 17m 46s\tremaining: 1m 22s\n",
            "928:\tlearn: 0.7939956\ttotal: 17m 48s\tremaining: 1m 21s\n",
            "929:\tlearn: 0.7939577\ttotal: 17m 49s\tremaining: 1m 20s\n",
            "930:\tlearn: 0.7937730\ttotal: 17m 50s\tremaining: 1m 19s\n",
            "931:\tlearn: 0.7937555\ttotal: 17m 51s\tremaining: 1m 18s\n",
            "932:\tlearn: 0.7937268\ttotal: 17m 52s\tremaining: 1m 17s\n",
            "933:\tlearn: 0.7936957\ttotal: 17m 54s\tremaining: 1m 15s\n",
            "934:\tlearn: 0.7936865\ttotal: 17m 55s\tremaining: 1m 14s\n",
            "935:\tlearn: 0.7936592\ttotal: 17m 56s\tremaining: 1m 13s\n",
            "936:\tlearn: 0.7936227\ttotal: 17m 57s\tremaining: 1m 12s\n",
            "937:\tlearn: 0.7935907\ttotal: 17m 58s\tremaining: 1m 11s\n",
            "938:\tlearn: 0.7935727\ttotal: 17m 59s\tremaining: 1m 10s\n",
            "939:\tlearn: 0.7935257\ttotal: 18m\tremaining: 1m 8s\n",
            "940:\tlearn: 0.7934829\ttotal: 18m 2s\tremaining: 1m 7s\n",
            "941:\tlearn: 0.7934484\ttotal: 18m 3s\tremaining: 1m 6s\n",
            "942:\tlearn: 0.7933983\ttotal: 18m 4s\tremaining: 1m 5s\n",
            "943:\tlearn: 0.7929767\ttotal: 18m 5s\tremaining: 1m 4s\n",
            "944:\tlearn: 0.7929659\ttotal: 18m 6s\tremaining: 1m 3s\n",
            "945:\tlearn: 0.7929400\ttotal: 18m 7s\tremaining: 1m 2s\n",
            "946:\tlearn: 0.7928510\ttotal: 18m 8s\tremaining: 1m\n",
            "947:\tlearn: 0.7928347\ttotal: 18m 9s\tremaining: 59.8s\n",
            "948:\tlearn: 0.7926312\ttotal: 18m 11s\tremaining: 58.6s\n",
            "949:\tlearn: 0.7925996\ttotal: 18m 12s\tremaining: 57.5s\n",
            "950:\tlearn: 0.7925740\ttotal: 18m 13s\tremaining: 56.3s\n",
            "951:\tlearn: 0.7924903\ttotal: 18m 14s\tremaining: 55.2s\n",
            "952:\tlearn: 0.7924431\ttotal: 18m 15s\tremaining: 54s\n",
            "953:\tlearn: 0.7923698\ttotal: 18m 17s\tremaining: 52.9s\n",
            "954:\tlearn: 0.7922504\ttotal: 18m 18s\tremaining: 51.8s\n",
            "955:\tlearn: 0.7922185\ttotal: 18m 19s\tremaining: 50.6s\n",
            "956:\tlearn: 0.7921938\ttotal: 18m 20s\tremaining: 49.4s\n",
            "957:\tlearn: 0.7921666\ttotal: 18m 21s\tremaining: 48.3s\n",
            "958:\tlearn: 0.7920817\ttotal: 18m 22s\tremaining: 47.1s\n",
            "959:\tlearn: 0.7920431\ttotal: 18m 23s\tremaining: 46s\n",
            "960:\tlearn: 0.7919444\ttotal: 18m 24s\tremaining: 44.8s\n",
            "961:\tlearn: 0.7919167\ttotal: 18m 26s\tremaining: 43.7s\n",
            "962:\tlearn: 0.7918947\ttotal: 18m 27s\tremaining: 42.5s\n",
            "963:\tlearn: 0.7918624\ttotal: 18m 28s\tremaining: 41.4s\n",
            "964:\tlearn: 0.7918534\ttotal: 18m 29s\tremaining: 40.2s\n",
            "965:\tlearn: 0.7918387\ttotal: 18m 30s\tremaining: 39.1s\n",
            "966:\tlearn: 0.7917965\ttotal: 18m 31s\tremaining: 37.9s\n",
            "967:\tlearn: 0.7917750\ttotal: 18m 32s\tremaining: 36.8s\n",
            "968:\tlearn: 0.7917346\ttotal: 18m 34s\tremaining: 35.6s\n",
            "969:\tlearn: 0.7917056\ttotal: 18m 35s\tremaining: 34.5s\n",
            "970:\tlearn: 0.7916680\ttotal: 18m 36s\tremaining: 33.4s\n",
            "971:\tlearn: 0.7915774\ttotal: 18m 38s\tremaining: 32.2s\n",
            "972:\tlearn: 0.7915517\ttotal: 18m 39s\tremaining: 31.1s\n",
            "973:\tlearn: 0.7915367\ttotal: 18m 40s\tremaining: 29.9s\n",
            "974:\tlearn: 0.7915180\ttotal: 18m 41s\tremaining: 28.8s\n",
            "975:\tlearn: 0.7914982\ttotal: 18m 42s\tremaining: 27.6s\n",
            "976:\tlearn: 0.7914696\ttotal: 18m 43s\tremaining: 26.5s\n",
            "977:\tlearn: 0.7914447\ttotal: 18m 44s\tremaining: 25.3s\n",
            "978:\tlearn: 0.7913859\ttotal: 18m 46s\tremaining: 24.2s\n",
            "979:\tlearn: 0.7913341\ttotal: 18m 47s\tremaining: 23s\n",
            "980:\tlearn: 0.7913239\ttotal: 18m 48s\tremaining: 21.9s\n",
            "981:\tlearn: 0.7913006\ttotal: 18m 49s\tremaining: 20.7s\n",
            "982:\tlearn: 0.7912704\ttotal: 18m 50s\tremaining: 19.6s\n",
            "983:\tlearn: 0.7912289\ttotal: 18m 51s\tremaining: 18.4s\n",
            "984:\tlearn: 0.7912166\ttotal: 18m 52s\tremaining: 17.3s\n",
            "985:\tlearn: 0.7911643\ttotal: 18m 54s\tremaining: 16.1s\n",
            "986:\tlearn: 0.7910402\ttotal: 18m 55s\tremaining: 15s\n",
            "987:\tlearn: 0.7910119\ttotal: 18m 56s\tremaining: 13.8s\n",
            "988:\tlearn: 0.7909832\ttotal: 18m 58s\tremaining: 12.7s\n",
            "989:\tlearn: 0.7909626\ttotal: 18m 59s\tremaining: 11.5s\n",
            "990:\tlearn: 0.7909504\ttotal: 19m\tremaining: 10.4s\n",
            "991:\tlearn: 0.7909224\ttotal: 19m 1s\tremaining: 9.2s\n",
            "992:\tlearn: 0.7906845\ttotal: 19m 2s\tremaining: 8.05s\n",
            "993:\tlearn: 0.7905822\ttotal: 19m 3s\tremaining: 6.9s\n",
            "994:\tlearn: 0.7905710\ttotal: 19m 4s\tremaining: 5.75s\n",
            "995:\tlearn: 0.7904716\ttotal: 19m 5s\tremaining: 4.6s\n",
            "996:\tlearn: 0.7904386\ttotal: 19m 6s\tremaining: 3.45s\n",
            "997:\tlearn: 0.7904191\ttotal: 19m 8s\tremaining: 2.3s\n",
            "998:\tlearn: 0.7904113\ttotal: 19m 9s\tremaining: 1.15s\n",
            "999:\tlearn: 0.7903995\ttotal: 19m 10s\tremaining: 0us\n",
            "0.8097263823150711\n"
          ],
          "name": "stdout"
        },
        {
          "output_type": "error",
          "ename": "NameError",
          "evalue": "ignored",
          "traceback": [
            "\u001b[0;31m---------------------------------------------------------------------------\u001b[0m",
            "\u001b[0;31mNameError\u001b[0m                                 Traceback (most recent call last)",
            "\u001b[0;32m<ipython-input-78-ce7c8d7f962d>\u001b[0m in \u001b[0;36m<module>\u001b[0;34m()\u001b[0m\n\u001b[0;32m----> 1\u001b[0;31m \u001b[0mget_ipython\u001b[0m\u001b[0;34m(\u001b[0m\u001b[0;34m)\u001b[0m\u001b[0;34m.\u001b[0m\u001b[0mrun_cell_magic\u001b[0m\u001b[0;34m(\u001b[0m\u001b[0;34m'time'\u001b[0m\u001b[0;34m,\u001b[0m \u001b[0;34m''\u001b[0m\u001b[0;34m,\u001b[0m \u001b[0;34m\"from catboost import CatBoostRegressor\\nfrom sklearn.metrics import mean_squared_error\\n\\nmodel_catboost = CatBoostRegressor(verbose=1, random_seed=566)\\n\\n\\nmodel_catboost.fit(X_train,y_train);\\nprediction_catboost = model_catboost.predict(X_valid)\\nprint(mean_squared_error(y_valid, prediction_catboost, squared=False))\\n\\nnp.save('prediction_catboost.npy', prediction_catboost)\\npickle.dump(model_catboost, open('model_catboost.pkl', 'wb'))\"\u001b[0m\u001b[0;34m)\u001b[0m\u001b[0;34m\u001b[0m\u001b[0;34m\u001b[0m\u001b[0m\n\u001b[0m",
            "\u001b[0;32m/usr/local/lib/python3.7/dist-packages/IPython/core/interactiveshell.py\u001b[0m in \u001b[0;36mrun_cell_magic\u001b[0;34m(self, magic_name, line, cell)\u001b[0m\n\u001b[1;32m   2115\u001b[0m             \u001b[0mmagic_arg_s\u001b[0m \u001b[0;34m=\u001b[0m \u001b[0mself\u001b[0m\u001b[0;34m.\u001b[0m\u001b[0mvar_expand\u001b[0m\u001b[0;34m(\u001b[0m\u001b[0mline\u001b[0m\u001b[0;34m,\u001b[0m \u001b[0mstack_depth\u001b[0m\u001b[0;34m)\u001b[0m\u001b[0;34m\u001b[0m\u001b[0;34m\u001b[0m\u001b[0m\n\u001b[1;32m   2116\u001b[0m             \u001b[0;32mwith\u001b[0m \u001b[0mself\u001b[0m\u001b[0;34m.\u001b[0m\u001b[0mbuiltin_trap\u001b[0m\u001b[0;34m:\u001b[0m\u001b[0;34m\u001b[0m\u001b[0;34m\u001b[0m\u001b[0m\n\u001b[0;32m-> 2117\u001b[0;31m                 \u001b[0mresult\u001b[0m \u001b[0;34m=\u001b[0m \u001b[0mfn\u001b[0m\u001b[0;34m(\u001b[0m\u001b[0mmagic_arg_s\u001b[0m\u001b[0;34m,\u001b[0m \u001b[0mcell\u001b[0m\u001b[0;34m)\u001b[0m\u001b[0;34m\u001b[0m\u001b[0;34m\u001b[0m\u001b[0m\n\u001b[0m\u001b[1;32m   2118\u001b[0m             \u001b[0;32mreturn\u001b[0m \u001b[0mresult\u001b[0m\u001b[0;34m\u001b[0m\u001b[0;34m\u001b[0m\u001b[0m\n\u001b[1;32m   2119\u001b[0m \u001b[0;34m\u001b[0m\u001b[0m\n",
            "\u001b[0;32m<decorator-gen-53>\u001b[0m in \u001b[0;36mtime\u001b[0;34m(self, line, cell, local_ns)\u001b[0m\n",
            "\u001b[0;32m/usr/local/lib/python3.7/dist-packages/IPython/core/magic.py\u001b[0m in \u001b[0;36m<lambda>\u001b[0;34m(f, *a, **k)\u001b[0m\n\u001b[1;32m    186\u001b[0m     \u001b[0;31m# but it's overkill for just that one bit of state.\u001b[0m\u001b[0;34m\u001b[0m\u001b[0;34m\u001b[0m\u001b[0;34m\u001b[0m\u001b[0m\n\u001b[1;32m    187\u001b[0m     \u001b[0;32mdef\u001b[0m \u001b[0mmagic_deco\u001b[0m\u001b[0;34m(\u001b[0m\u001b[0marg\u001b[0m\u001b[0;34m)\u001b[0m\u001b[0;34m:\u001b[0m\u001b[0;34m\u001b[0m\u001b[0;34m\u001b[0m\u001b[0m\n\u001b[0;32m--> 188\u001b[0;31m         \u001b[0mcall\u001b[0m \u001b[0;34m=\u001b[0m \u001b[0;32mlambda\u001b[0m \u001b[0mf\u001b[0m\u001b[0;34m,\u001b[0m \u001b[0;34m*\u001b[0m\u001b[0ma\u001b[0m\u001b[0;34m,\u001b[0m \u001b[0;34m**\u001b[0m\u001b[0mk\u001b[0m\u001b[0;34m:\u001b[0m \u001b[0mf\u001b[0m\u001b[0;34m(\u001b[0m\u001b[0;34m*\u001b[0m\u001b[0ma\u001b[0m\u001b[0;34m,\u001b[0m \u001b[0;34m**\u001b[0m\u001b[0mk\u001b[0m\u001b[0;34m)\u001b[0m\u001b[0;34m\u001b[0m\u001b[0;34m\u001b[0m\u001b[0m\n\u001b[0m\u001b[1;32m    189\u001b[0m \u001b[0;34m\u001b[0m\u001b[0m\n\u001b[1;32m    190\u001b[0m         \u001b[0;32mif\u001b[0m \u001b[0mcallable\u001b[0m\u001b[0;34m(\u001b[0m\u001b[0marg\u001b[0m\u001b[0;34m)\u001b[0m\u001b[0;34m:\u001b[0m\u001b[0;34m\u001b[0m\u001b[0;34m\u001b[0m\u001b[0m\n",
            "\u001b[0;32m/usr/local/lib/python3.7/dist-packages/IPython/core/magics/execution.py\u001b[0m in \u001b[0;36mtime\u001b[0;34m(self, line, cell, local_ns)\u001b[0m\n\u001b[1;32m   1191\u001b[0m         \u001b[0;32melse\u001b[0m\u001b[0;34m:\u001b[0m\u001b[0;34m\u001b[0m\u001b[0;34m\u001b[0m\u001b[0m\n\u001b[1;32m   1192\u001b[0m             \u001b[0mst\u001b[0m \u001b[0;34m=\u001b[0m \u001b[0mclock2\u001b[0m\u001b[0;34m(\u001b[0m\u001b[0;34m)\u001b[0m\u001b[0;34m\u001b[0m\u001b[0;34m\u001b[0m\u001b[0m\n\u001b[0;32m-> 1193\u001b[0;31m             \u001b[0mexec\u001b[0m\u001b[0;34m(\u001b[0m\u001b[0mcode\u001b[0m\u001b[0;34m,\u001b[0m \u001b[0mglob\u001b[0m\u001b[0;34m,\u001b[0m \u001b[0mlocal_ns\u001b[0m\u001b[0;34m)\u001b[0m\u001b[0;34m\u001b[0m\u001b[0;34m\u001b[0m\u001b[0m\n\u001b[0m\u001b[1;32m   1194\u001b[0m             \u001b[0mend\u001b[0m \u001b[0;34m=\u001b[0m \u001b[0mclock2\u001b[0m\u001b[0;34m(\u001b[0m\u001b[0;34m)\u001b[0m\u001b[0;34m\u001b[0m\u001b[0;34m\u001b[0m\u001b[0m\n\u001b[1;32m   1195\u001b[0m             \u001b[0mout\u001b[0m \u001b[0;34m=\u001b[0m \u001b[0;32mNone\u001b[0m\u001b[0;34m\u001b[0m\u001b[0;34m\u001b[0m\u001b[0m\n",
            "\u001b[0;32m<timed exec>\u001b[0m in \u001b[0;36m<module>\u001b[0;34m()\u001b[0m\n",
            "\u001b[0;31mNameError\u001b[0m: name 'pickle' is not defined"
          ]
        }
      ]
    },
    {
      "cell_type": "code",
      "metadata": {
        "id": "Bl-YpKrTJU80"
      },
      "source": [
        "np.save('prediction_catboost.npy', prediction_catboost)\n",
        "pickle.dump(model_catboost, open('model_catboost.pkl', 'wb'))"
      ],
      "execution_count": null,
      "outputs": []
    },
    {
      "cell_type": "code",
      "metadata": {
        "id": "rMzHQd3i6kF5",
        "colab": {
          "base_uri": "https://localhost:8080/",
          "height": 1000
        },
        "outputId": "93eda457-c5c6-4ddf-e786-700a89b0ffd2"
      },
      "source": [
        "importance = pd.DataFrame({'feature':X_train.columns, 'importance': model_catboost.feature_importances_})\n",
        "importance.sort_values('importance').set_index('feature').plot(kind='barh', figsize=(10,20))\n",
        "plt.show()"
      ],
      "execution_count": null,
      "outputs": [
        {
          "output_type": "display_data",
          "data": {
            "image/png": "[encoded data removed]",
            "text/plain": [
              "<Figure size 720x1440 with 1 Axes>"
            ]
          },
          "metadata": {
            "tags": [],
            "needs_background": "light"
          }
        }
      ]
    },
    {
      "cell_type": "markdown",
      "metadata": {
        "id": "zVk4A-9tTHrH"
      },
      "source": [
        "### Xgboost"
      ]
    },
    {
      "cell_type": "code",
      "metadata": {
        "colab": {
          "base_uri": "https://localhost:8080/"
        },
        "id": "1s6EnRq2KAlc",
        "outputId": "e795a33b-40ba-40f6-b486-fb73cb0ee9ad"
      },
      "source": [
        "!pip install optuna"
      ],
      "execution_count": null,
      "outputs": [
        {
          "output_type": "stream",
          "text": [
            "Collecting optuna\n",
            "\u001b[?25l  Downloading https://files.pythonhosted.org/packages/1a/18/b49ca91cf592747e19f2d333c2a86cd7c81895b922a5a09adf6335471576/optuna-2.8.0-py3-none-any.whl (301kB)\n",
            "\u001b[K     |████████████████████████████████| 307kB 9.0MB/s \n",
            "\u001b[?25hRequirement already satisfied: numpy in /usr/local/lib/python3.7/dist-packages (from optuna) (1.19.5)\n",
            "Requirement already satisfied: sqlalchemy>=1.1.0 in /usr/local/lib/python3.7/dist-packages (from optuna) (1.4.20)\n",
            "Collecting cliff\n",
            "\u001b[?25l  Downloading https://files.pythonhosted.org/packages/87/11/aea1cacbd4cf8262809c4d6f95dcb3f2802594de1f51c5bd454d69bf15c5/cliff-3.8.0-py3-none-any.whl (80kB)\n",
            "\u001b[K     |████████████████████████████████| 81kB 12.7MB/s \n",
            "\u001b[?25hCollecting alembic\n",
            "\u001b[?25l  Downloading https://files.pythonhosted.org/packages/d5/80/ef186e599a57d0e4cb78fc76e0bfc2e6953fa9716b2a5cf2de0117ed8eb5/alembic-1.6.5-py2.py3-none-any.whl (164kB)\n",
            "\u001b[K     |████████████████████████████████| 174kB 56.3MB/s \n",
            "\u001b[?25hCollecting colorlog\n",
            "  Downloading https://files.pythonhosted.org/packages/32/e6/e9ddc6fa1104fda718338b341e4b3dc31cd8039ab29e52fc73b508515361/colorlog-5.0.1-py2.py3-none-any.whl\n",
            "Requirement already satisfied: tqdm in /usr/local/lib/python3.7/dist-packages (from optuna) (4.41.1)\n",
            "Requirement already satisfied: scipy!=1.4.0 in /usr/local/lib/python3.7/dist-packages (from optuna) (1.4.1)\n",
            "Collecting cmaes>=0.8.2\n",
            "  Downloading https://files.pythonhosted.org/packages/01/1f/43b01223a0366171f474320c6e966c39a11587287f098a5f09809b45e05f/cmaes-0.8.2-py3-none-any.whl\n",
            "Requirement already satisfied: packaging>=20.0 in /usr/local/lib/python3.7/dist-packages (from optuna) (20.9)\n",
            "Requirement already satisfied: greenlet!=0.4.17; python_version >= \"3\" in /usr/local/lib/python3.7/dist-packages (from sqlalchemy>=1.1.0->optuna) (1.1.0)\n",
            "Requirement already satisfied: importlib-metadata; python_version < \"3.8\" in /usr/local/lib/python3.7/dist-packages (from sqlalchemy>=1.1.0->optuna) (4.6.0)\n",
            "Collecting cmd2>=1.0.0\n",
            "\u001b[?25l  Downloading https://files.pythonhosted.org/packages/44/ca/d407811641ec1d8bd8a38ee3165d73aa44776d7700436bd4d4a6606f2736/cmd2-2.1.2-py3-none-any.whl (141kB)\n",
            "\u001b[K     |████████████████████████████████| 143kB 54.7MB/s \n",
            "\u001b[?25hRequirement already satisfied: PrettyTable>=0.7.2 in /usr/local/lib/python3.7/dist-packages (from cliff->optuna) (2.1.0)\n",
            "Requirement already satisfied: PyYAML>=3.12 in /usr/local/lib/python3.7/dist-packages (from cliff->optuna) (3.13)\n",
            "Collecting pbr!=2.1.0,>=2.0.0\n",
            "\u001b[?25l  Downloading https://files.pythonhosted.org/packages/18/e0/1d4702dd81121d04a477c272d47ee5b6bc970d1a0990b11befa275c55cf2/pbr-5.6.0-py2.py3-none-any.whl (111kB)\n",
            "\u001b[K     |████████████████████████████████| 112kB 56.5MB/s \n",
            "\u001b[?25hCollecting stevedore>=2.0.1\n",
            "\u001b[?25l  Downloading https://files.pythonhosted.org/packages/d4/49/b602307aeac3df3384ff1fcd05da9c0376c622a6c48bb5325f28ab165b57/stevedore-3.3.0-py3-none-any.whl (49kB)\n",
            "\u001b[K     |████████████████████████████████| 51kB 9.2MB/s \n",
            "\u001b[?25hRequirement already satisfied: pyparsing>=2.1.0 in /usr/local/lib/python3.7/dist-packages (from cliff->optuna) (2.4.7)\n",
            "Collecting python-editor>=0.3\n",
            "  Downloading https://files.pythonhosted.org/packages/c6/d3/201fc3abe391bbae6606e6f1d598c15d367033332bd54352b12f35513717/python_editor-1.0.4-py3-none-any.whl\n",
            "Collecting Mako\n",
            "\u001b[?25l  Downloading https://files.pythonhosted.org/packages/f3/54/dbc07fbb20865d3b78fdb7cf7fa713e2cba4f87f71100074ef2dc9f9d1f7/Mako-1.1.4-py2.py3-none-any.whl (75kB)\n",
            "\u001b[K     |████████████████████████████████| 81kB 12.1MB/s \n",
            "\u001b[?25hRequirement already satisfied: python-dateutil in /usr/local/lib/python3.7/dist-packages (from alembic->optuna) (2.8.1)\n",
            "Requirement already satisfied: typing-extensions>=3.6.4; python_version < \"3.8\" in /usr/local/lib/python3.7/dist-packages (from importlib-metadata; python_version < \"3.8\"->sqlalchemy>=1.1.0->optuna) (3.7.4.3)\n",
            "Requirement already satisfied: zipp>=0.5 in /usr/local/lib/python3.7/dist-packages (from importlib-metadata; python_version < \"3.8\"->sqlalchemy>=1.1.0->optuna) (3.4.1)\n",
            "Requirement already satisfied: wcwidth>=0.1.7 in /usr/local/lib/python3.7/dist-packages (from cmd2>=1.0.0->cliff->optuna) (0.2.5)\n",
            "Collecting pyperclip>=1.6\n",
            "  Downloading https://files.pythonhosted.org/packages/a7/2c/4c64579f847bd5d539803c8b909e54ba087a79d01bb3aba433a95879a6c5/pyperclip-1.8.2.tar.gz\n",
            "Collecting colorama>=0.3.7\n",
            "  Downloading https://files.pythonhosted.org/packages/44/98/5b86278fbbf250d239ae0ecb724f8572af1c91f4a11edf4d36a206189440/colorama-0.4.4-py2.py3-none-any.whl\n",
            "Requirement already satisfied: attrs>=16.3.0 in /usr/local/lib/python3.7/dist-packages (from cmd2>=1.0.0->cliff->optuna) (21.2.0)\n",
            "Requirement already satisfied: MarkupSafe>=0.9.2 in /usr/local/lib/python3.7/dist-packages (from Mako->alembic->optuna) (2.0.1)\n",
            "Requirement already satisfied: six>=1.5 in /usr/local/lib/python3.7/dist-packages (from python-dateutil->alembic->optuna) (1.15.0)\n",
            "Building wheels for collected packages: pyperclip\n",
            "  Building wheel for pyperclip (setup.py) ... \u001b[?25l\u001b[?25hdone\n",
            "  Created wheel for pyperclip: filename=pyperclip-1.8.2-cp37-none-any.whl size=11136 sha256=91a0ad5629af0b03e07184429889aad515dfcc875840b9ae00e97bdd2f4d5d28\n",
            "  Stored in directory: /root/.cache/pip/wheels/25/af/b8/3407109267803f4015e1ee2ff23be0c8c19ce4008665931ee1\n",
            "Successfully built pyperclip\n",
            "Installing collected packages: pyperclip, colorama, cmd2, pbr, stevedore, cliff, python-editor, Mako, alembic, colorlog, cmaes, optuna\n",
            "Successfully installed Mako-1.1.4 alembic-1.6.5 cliff-3.8.0 cmaes-0.8.2 cmd2-2.1.2 colorama-0.4.4 colorlog-5.0.1 optuna-2.8.0 pbr-5.6.0 pyperclip-1.8.2 python-editor-1.0.4 stevedore-3.3.0\n"
          ],
          "name": "stdout"
        }
      ]
    },
    {
      "cell_type": "code",
      "metadata": {
        "id": "1_-0Aa4uE6yB",
        "colab": {
          "base_uri": "https://localhost:8080/"
        },
        "outputId": "d0064ff9-a2c8-43f0-9e7a-4bd0aba26690"
      },
      "source": [
        "import pandas as pd\n",
        "import numpy as np\n",
        "import matplotlib.pyplot as plt\n",
        "%matplotlib inline\n",
        "pd.set_option('display.float_format', lambda x: '%.3f' % x)\n",
        "pd.set_option('display.max_rows', 100)\n",
        "pd.set_option('display.max_columns', 100)\n",
        "import seaborn as sns\n",
        "import gc\n",
        "import pickle\n",
        "import time\n",
        "from itertools import product\n",
        "import optuna\n",
        "import lightgbm as lgb\n",
        "from xgboost import XGBRegressor\n",
        "from lightgbm import plot_importance\n",
        "import sklearn.metrics\n",
        "from sklearn.preprocessing import LabelEncoder\n",
        "from sklearn.metrics import mean_squared_error\n",
        "print('Done')"
      ],
      "execution_count": null,
      "outputs": [
        {
          "output_type": "stream",
          "text": [
            "Done\n"
          ],
          "name": "stdout"
        }
      ]
    },
    {
      "cell_type": "code",
      "metadata": {
        "id": "9gYAQiZqKGjo"
      },
      "source": [
        "def objective_xgboost(trial):\n",
        "    # To select which parameters to optimize, please look at the XGBoost documentation:\n",
        "    # https://xgboost.readthedocs.io/en/latest/parameter.html\n",
        "    param = {\n",
        "        'tree_method':'gpu_hist',  # Use GPU acceleration\n",
        "        'lambda': trial.suggest_loguniform(\n",
        "            'lambda', 1e-3, 10.0\n",
        "        ),\n",
        "        'alpha': trial.suggest_loguniform(\n",
        "            'alpha', 1e-3, 10.0\n",
        "        ),\n",
        "        'colsample_bytree': trial.suggest_categorical(\n",
        "            'colsample_bytree', [0.5,0.6,0.7,0.8,0.9,1.0]\n",
        "        ),\n",
        "        'subsample': trial.suggest_categorical(\n",
        "            'subsample', [0.6,0.7,0.8,1.0]\n",
        "        ),\n",
        "        'learning_rate': trial.suggest_categorical(\n",
        "            'learning_rate', [0.008,0.009,0.01,0.012,0.014,0.016,0.018, 0.02]\n",
        "        ),\n",
        "        'n_estimators': trial.suggest_categorical(\n",
        "            \"n_estimators\", [150, 200, 300, 3000]\n",
        "        ),\n",
        "        'max_depth': trial.suggest_categorical(\n",
        "            'max_depth', [4,5,7,9,11,13,15,17]\n",
        "        ),\n",
        "        'random_state': 42,\n",
        "        'min_child_weight': trial.suggest_int(\n",
        "            'min_child_weight', 1, 300\n",
        "        ),\n",
        "    }\n",
        "    model_xgb = XGBRegressor(**param)  \n",
        "    \n",
        "    model_xgb.fit(\n",
        "        X_train, \n",
        "        y_train, \n",
        "        eval_metric=\"rmse\", \n",
        "        eval_set=[(X_train, y_train), (X_valid, y_valid)], \n",
        "        verbose=10, \n",
        "        early_stopping_rounds = 40,\n",
        "    )\n",
        "    \n",
        "    preds_xgb = model_xgb.predict(X_valid)\n",
        "    \n",
        "    rmse = mean_squared_error(y_valid, preds_xgb, squared=False)\n",
        "    \n",
        "    return rmse"
      ],
      "execution_count": null,
      "outputs": []
    },
    {
      "cell_type": "code",
      "metadata": {
        "id": "psIQgFx2KaBa",
        "colab": {
          "base_uri": "https://localhost:8080/"
        },
        "outputId": "885af68b-44d4-407d-c6fc-c60dd57d6eb6"
      },
      "source": [
        "study = optuna.create_study(direction='minimize')\n",
        "study.optimize(objective_xgboost, n_trials=5)\n",
        "print('Number of finished trials:', len(study.trials))\n",
        "print('Best trial:', study.best_trial.params)"
      ],
      "execution_count": null,
      "outputs": [
        {
          "output_type": "stream",
          "text": [
            "\u001b[32m[I 2021-07-12 05:35:56,676]\u001b[0m A new study created in memory with name: no-name-76552ac4-cc5d-4413-b7ad-62436cd91506\u001b[0m\n"
          ],
          "name": "stderr"
        },
        {
          "output_type": "stream",
          "text": [
            "[05:36:08] WARNING: /workspace/src/objective/regression_obj.cu:152: reg:linear is now deprecated in favor of reg:squarederror.\n",
            "[0]\tvalidation_0-rmse:1.2381\tvalidation_1-rmse:1.0989\n",
            "Multiple eval metrics have been passed: 'validation_1-rmse' will be used for early stopping.\n",
            "\n",
            "Will train until validation_1-rmse hasn't improved in 40 rounds.\n",
            "[10]\tvalidation_0-rmse:1.15611\tvalidation_1-rmse:1.02976\n",
            "[20]\tvalidation_0-rmse:1.09341\tvalidation_1-rmse:0.977347\n",
            "[30]\tvalidation_0-rmse:1.04608\tvalidation_1-rmse:0.938431\n",
            "[40]\tvalidation_0-rmse:1.01006\tvalidation_1-rmse:0.908644\n",
            "[50]\tvalidation_0-rmse:0.983112\tvalidation_1-rmse:0.887086\n",
            "[60]\tvalidation_0-rmse:0.962894\tvalidation_1-rmse:0.871178\n",
            "[70]\tvalidation_0-rmse:0.947426\tvalidation_1-rmse:0.859526\n",
            "[80]\tvalidation_0-rmse:0.935677\tvalidation_1-rmse:0.850629\n",
            "[90]\tvalidation_0-rmse:0.926612\tvalidation_1-rmse:0.844101\n",
            "[100]\tvalidation_0-rmse:0.919464\tvalidation_1-rmse:0.838718\n",
            "[110]\tvalidation_0-rmse:0.91373\tvalidation_1-rmse:0.83448\n",
            "[120]\tvalidation_0-rmse:0.908884\tvalidation_1-rmse:0.831064\n",
            "[130]\tvalidation_0-rmse:0.904975\tvalidation_1-rmse:0.828484\n",
            "[140]\tvalidation_0-rmse:0.901798\tvalidation_1-rmse:0.826637\n",
            "[150]\tvalidation_0-rmse:0.899161\tvalidation_1-rmse:0.825155\n",
            "[160]\tvalidation_0-rmse:0.896825\tvalidation_1-rmse:0.823735\n",
            "[170]\tvalidation_0-rmse:0.89493\tvalidation_1-rmse:0.822852\n",
            "[180]\tvalidation_0-rmse:0.892936\tvalidation_1-rmse:0.821767\n",
            "[190]\tvalidation_0-rmse:0.891356\tvalidation_1-rmse:0.820818\n",
            "[200]\tvalidation_0-rmse:0.890044\tvalidation_1-rmse:0.820159\n",
            "[210]\tvalidation_0-rmse:0.888891\tvalidation_1-rmse:0.819677\n",
            "[220]\tvalidation_0-rmse:0.887755\tvalidation_1-rmse:0.819169\n",
            "[230]\tvalidation_0-rmse:0.886633\tvalidation_1-rmse:0.818639\n",
            "[240]\tvalidation_0-rmse:0.885702\tvalidation_1-rmse:0.818298\n",
            "[250]\tvalidation_0-rmse:0.884678\tvalidation_1-rmse:0.817604\n",
            "[260]\tvalidation_0-rmse:0.883755\tvalidation_1-rmse:0.817125\n",
            "[270]\tvalidation_0-rmse:0.882856\tvalidation_1-rmse:0.8166\n",
            "[280]\tvalidation_0-rmse:0.882154\tvalidation_1-rmse:0.816274\n",
            "[290]\tvalidation_0-rmse:0.881448\tvalidation_1-rmse:0.815915\n",
            "[299]\tvalidation_0-rmse:0.880756\tvalidation_1-rmse:0.815659\n"
          ],
          "name": "stdout"
        },
        {
          "output_type": "stream",
          "text": [
            "\u001b[32m[I 2021-07-12 05:36:46,010]\u001b[0m Trial 0 finished with value: 0.8156594038009644 and parameters: {'lambda': 0.008578458404110858, 'alpha': 5.9475517246361385, 'colsample_bytree': 0.9, 'subsample': 0.7, 'learning_rate': 0.018, 'n_estimators': 300, 'max_depth': 5, 'min_child_weight': 133}. Best is trial 0 with value: 0.8156594038009644.\u001b[0m\n"
          ],
          "name": "stderr"
        },
        {
          "output_type": "stream",
          "text": [
            "[05:36:56] WARNING: /workspace/src/objective/regression_obj.cu:152: reg:linear is now deprecated in favor of reg:squarederror.\n",
            "[0]\tvalidation_0-rmse:1.23737\tvalidation_1-rmse:1.09858\n",
            "Multiple eval metrics have been passed: 'validation_1-rmse' will be used for early stopping.\n",
            "\n",
            "Will train until validation_1-rmse hasn't improved in 40 rounds.\n",
            "[10]\tvalidation_0-rmse:1.1466\tvalidation_1-rmse:1.02611\n",
            "[20]\tvalidation_0-rmse:1.07463\tvalidation_1-rmse:0.969811\n",
            "[30]\tvalidation_0-rmse:1.01798\tvalidation_1-rmse:0.92722\n",
            "[40]\tvalidation_0-rmse:0.973672\tvalidation_1-rmse:0.895195\n",
            "[50]\tvalidation_0-rmse:0.938785\tvalidation_1-rmse:0.871575\n",
            "[60]\tvalidation_0-rmse:0.91145\tvalidation_1-rmse:0.853764\n",
            "[70]\tvalidation_0-rmse:0.88979\tvalidation_1-rmse:0.840548\n",
            "[80]\tvalidation_0-rmse:0.872665\tvalidation_1-rmse:0.83087\n",
            "[90]\tvalidation_0-rmse:0.858889\tvalidation_1-rmse:0.824392\n",
            "[100]\tvalidation_0-rmse:0.847608\tvalidation_1-rmse:0.819382\n",
            "[110]\tvalidation_0-rmse:0.838356\tvalidation_1-rmse:0.815637\n",
            "[120]\tvalidation_0-rmse:0.8306\tvalidation_1-rmse:0.813261\n",
            "[130]\tvalidation_0-rmse:0.823977\tvalidation_1-rmse:0.811691\n",
            "[140]\tvalidation_0-rmse:0.818097\tvalidation_1-rmse:0.810695\n",
            "[150]\tvalidation_0-rmse:0.812903\tvalidation_1-rmse:0.809943\n",
            "[160]\tvalidation_0-rmse:0.808199\tvalidation_1-rmse:0.809394\n",
            "[170]\tvalidation_0-rmse:0.804029\tvalidation_1-rmse:0.809141\n",
            "[180]\tvalidation_0-rmse:0.800035\tvalidation_1-rmse:0.809215\n",
            "[190]\tvalidation_0-rmse:0.796406\tvalidation_1-rmse:0.809467\n",
            "[200]\tvalidation_0-rmse:0.793171\tvalidation_1-rmse:0.809422\n",
            "Stopping. Best iteration:\n",
            "[168]\tvalidation_0-rmse:0.804992\tvalidation_1-rmse:0.809046\n",
            "\n"
          ],
          "name": "stdout"
        },
        {
          "output_type": "stream",
          "text": [
            "\u001b[32m[I 2021-07-12 05:38:31,432]\u001b[0m Trial 1 finished with value: 0.8090463280677795 and parameters: {'lambda': 0.01013545432701247, 'alpha': 0.07079656922403332, 'colsample_bytree': 1.0, 'subsample': 0.7, 'learning_rate': 0.016, 'n_estimators': 300, 'max_depth': 15, 'min_child_weight': 143}. Best is trial 1 with value: 0.8090463280677795.\u001b[0m\n"
          ],
          "name": "stderr"
        },
        {
          "output_type": "stream",
          "text": [
            "[05:38:43] WARNING: /workspace/src/objective/regression_obj.cu:152: reg:linear is now deprecated in favor of reg:squarederror.\n",
            "[0]\tvalidation_0-rmse:1.24316\tvalidation_1-rmse:1.10318\n",
            "Multiple eval metrics have been passed: 'validation_1-rmse' will be used for early stopping.\n",
            "\n",
            "Will train until validation_1-rmse hasn't improved in 40 rounds.\n",
            "[10]\tvalidation_0-rmse:1.20299\tvalidation_1-rmse:1.06881\n",
            "[20]\tvalidation_0-rmse:1.16712\tvalidation_1-rmse:1.03811\n",
            "[30]\tvalidation_0-rmse:1.13539\tvalidation_1-rmse:1.0111\n",
            "[40]\tvalidation_0-rmse:1.10788\tvalidation_1-rmse:0.988006\n",
            "[50]\tvalidation_0-rmse:1.08367\tvalidation_1-rmse:0.967809\n",
            "[60]\tvalidation_0-rmse:1.06268\tvalidation_1-rmse:0.950495\n",
            "[70]\tvalidation_0-rmse:1.04385\tvalidation_1-rmse:0.934938\n",
            "[80]\tvalidation_0-rmse:1.02722\tvalidation_1-rmse:0.921488\n",
            "[90]\tvalidation_0-rmse:1.01298\tvalidation_1-rmse:0.910126\n",
            "[100]\tvalidation_0-rmse:1.00029\tvalidation_1-rmse:0.900002\n",
            "[110]\tvalidation_0-rmse:0.98932\tvalidation_1-rmse:0.891346\n",
            "[120]\tvalidation_0-rmse:0.979679\tvalidation_1-rmse:0.883899\n",
            "[130]\tvalidation_0-rmse:0.971252\tvalidation_1-rmse:0.877337\n",
            "[140]\tvalidation_0-rmse:0.963841\tvalidation_1-rmse:0.871652\n",
            "[150]\tvalidation_0-rmse:0.957305\tvalidation_1-rmse:0.86672\n",
            "[160]\tvalidation_0-rmse:0.95159\tvalidation_1-rmse:0.862522\n",
            "[170]\tvalidation_0-rmse:0.94646\tvalidation_1-rmse:0.858679\n",
            "[180]\tvalidation_0-rmse:0.942168\tvalidation_1-rmse:0.855623\n",
            "[190]\tvalidation_0-rmse:0.938123\tvalidation_1-rmse:0.852545\n",
            "[200]\tvalidation_0-rmse:0.934552\tvalidation_1-rmse:0.850122\n",
            "[210]\tvalidation_0-rmse:0.931252\tvalidation_1-rmse:0.847598\n",
            "[220]\tvalidation_0-rmse:0.928392\tvalidation_1-rmse:0.845395\n",
            "[230]\tvalidation_0-rmse:0.925791\tvalidation_1-rmse:0.843438\n",
            "[240]\tvalidation_0-rmse:0.923498\tvalidation_1-rmse:0.841758\n",
            "[250]\tvalidation_0-rmse:0.92129\tvalidation_1-rmse:0.840009\n",
            "[260]\tvalidation_0-rmse:0.919241\tvalidation_1-rmse:0.838515\n",
            "[270]\tvalidation_0-rmse:0.917496\tvalidation_1-rmse:0.837255\n",
            "[280]\tvalidation_0-rmse:0.915915\tvalidation_1-rmse:0.836049\n",
            "[290]\tvalidation_0-rmse:0.914456\tvalidation_1-rmse:0.835097\n",
            "[299]\tvalidation_0-rmse:0.913154\tvalidation_1-rmse:0.834217\n"
          ],
          "name": "stdout"
        },
        {
          "output_type": "stream",
          "text": [
            "\u001b[32m[I 2021-07-12 05:39:18,087]\u001b[0m Trial 2 finished with value: 0.8342173099517822 and parameters: {'lambda': 0.47161574465986705, 'alpha': 0.0017334599550655086, 'colsample_bytree': 0.6, 'subsample': 0.7, 'learning_rate': 0.009, 'n_estimators': 300, 'max_depth': 4, 'min_child_weight': 297}. Best is trial 1 with value: 0.8090463280677795.\u001b[0m\n"
          ],
          "name": "stderr"
        },
        {
          "output_type": "stream",
          "text": [
            "[05:39:28] WARNING: /workspace/src/objective/regression_obj.cu:152: reg:linear is now deprecated in favor of reg:squarederror.\n",
            "[0]\tvalidation_0-rmse:1.24233\tvalidation_1-rmse:1.10254\n",
            "Multiple eval metrics have been passed: 'validation_1-rmse' will be used for early stopping.\n",
            "\n",
            "Will train until validation_1-rmse hasn't improved in 40 rounds.\n",
            "[10]\tvalidation_0-rmse:1.19499\tvalidation_1-rmse:1.06234\n",
            "[20]\tvalidation_0-rmse:1.15214\tvalidation_1-rmse:1.02526\n",
            "[30]\tvalidation_0-rmse:1.11454\tvalidation_1-rmse:0.993886\n",
            "[40]\tvalidation_0-rmse:1.08168\tvalidation_1-rmse:0.966348\n",
            "[50]\tvalidation_0-rmse:1.05292\tvalidation_1-rmse:0.943014\n",
            "[60]\tvalidation_0-rmse:1.02822\tvalidation_1-rmse:0.922977\n",
            "[70]\tvalidation_0-rmse:1.00609\tvalidation_1-rmse:0.904999\n",
            "[80]\tvalidation_0-rmse:0.98679\tvalidation_1-rmse:0.889793\n",
            "[90]\tvalidation_0-rmse:0.97039\tvalidation_1-rmse:0.876692\n",
            "[100]\tvalidation_0-rmse:0.956009\tvalidation_1-rmse:0.865516\n",
            "[110]\tvalidation_0-rmse:0.943261\tvalidation_1-rmse:0.855825\n",
            "[120]\tvalidation_0-rmse:0.932103\tvalidation_1-rmse:0.847374\n",
            "[130]\tvalidation_0-rmse:0.922839\tvalidation_1-rmse:0.840642\n",
            "[140]\tvalidation_0-rmse:0.914312\tvalidation_1-rmse:0.834697\n",
            "[150]\tvalidation_0-rmse:0.906901\tvalidation_1-rmse:0.82985\n",
            "[160]\tvalidation_0-rmse:0.900195\tvalidation_1-rmse:0.825254\n",
            "[170]\tvalidation_0-rmse:0.894384\tvalidation_1-rmse:0.821527\n",
            "[180]\tvalidation_0-rmse:0.88939\tvalidation_1-rmse:0.818436\n",
            "[190]\tvalidation_0-rmse:0.884707\tvalidation_1-rmse:0.815655\n",
            "[200]\tvalidation_0-rmse:0.880511\tvalidation_1-rmse:0.813574\n",
            "[210]\tvalidation_0-rmse:0.876727\tvalidation_1-rmse:0.811393\n",
            "[220]\tvalidation_0-rmse:0.873295\tvalidation_1-rmse:0.809496\n",
            "[230]\tvalidation_0-rmse:0.870226\tvalidation_1-rmse:0.807952\n",
            "[240]\tvalidation_0-rmse:0.867399\tvalidation_1-rmse:0.806347\n",
            "[250]\tvalidation_0-rmse:0.864851\tvalidation_1-rmse:0.805201\n",
            "[260]\tvalidation_0-rmse:0.862554\tvalidation_1-rmse:0.804012\n",
            "[270]\tvalidation_0-rmse:0.860277\tvalidation_1-rmse:0.803336\n",
            "[280]\tvalidation_0-rmse:0.858099\tvalidation_1-rmse:0.802582\n",
            "[290]\tvalidation_0-rmse:0.856165\tvalidation_1-rmse:0.801807\n",
            "[300]\tvalidation_0-rmse:0.854283\tvalidation_1-rmse:0.801107\n",
            "[310]\tvalidation_0-rmse:0.852608\tvalidation_1-rmse:0.800524\n",
            "[320]\tvalidation_0-rmse:0.850859\tvalidation_1-rmse:0.799996\n",
            "[330]\tvalidation_0-rmse:0.849459\tvalidation_1-rmse:0.79959\n",
            "[340]\tvalidation_0-rmse:0.84808\tvalidation_1-rmse:0.799265\n",
            "[350]\tvalidation_0-rmse:0.84678\tvalidation_1-rmse:0.798996\n",
            "[360]\tvalidation_0-rmse:0.845673\tvalidation_1-rmse:0.79865\n",
            "[370]\tvalidation_0-rmse:0.844533\tvalidation_1-rmse:0.798283\n",
            "[380]\tvalidation_0-rmse:0.843248\tvalidation_1-rmse:0.798111\n",
            "[390]\tvalidation_0-rmse:0.842197\tvalidation_1-rmse:0.797868\n",
            "[400]\tvalidation_0-rmse:0.840876\tvalidation_1-rmse:0.797756\n",
            "[410]\tvalidation_0-rmse:0.839822\tvalidation_1-rmse:0.797663\n",
            "[420]\tvalidation_0-rmse:0.838886\tvalidation_1-rmse:0.797359\n",
            "[430]\tvalidation_0-rmse:0.837848\tvalidation_1-rmse:0.797318\n",
            "[440]\tvalidation_0-rmse:0.836917\tvalidation_1-rmse:0.797114\n",
            "[450]\tvalidation_0-rmse:0.83618\tvalidation_1-rmse:0.797013\n",
            "[460]\tvalidation_0-rmse:0.835455\tvalidation_1-rmse:0.796979\n",
            "[470]\tvalidation_0-rmse:0.83465\tvalidation_1-rmse:0.797026\n",
            "[480]\tvalidation_0-rmse:0.833874\tvalidation_1-rmse:0.797023\n",
            "[490]\tvalidation_0-rmse:0.83318\tvalidation_1-rmse:0.796891\n",
            "[500]\tvalidation_0-rmse:0.832525\tvalidation_1-rmse:0.796826\n",
            "[510]\tvalidation_0-rmse:0.831887\tvalidation_1-rmse:0.796842\n",
            "[520]\tvalidation_0-rmse:0.831254\tvalidation_1-rmse:0.796806\n",
            "[530]\tvalidation_0-rmse:0.830543\tvalidation_1-rmse:0.796796\n",
            "[540]\tvalidation_0-rmse:0.830009\tvalidation_1-rmse:0.796697\n",
            "[550]\tvalidation_0-rmse:0.829426\tvalidation_1-rmse:0.796754\n",
            "[560]\tvalidation_0-rmse:0.828873\tvalidation_1-rmse:0.79696\n",
            "[570]\tvalidation_0-rmse:0.828297\tvalidation_1-rmse:0.796867\n",
            "[580]\tvalidation_0-rmse:0.827861\tvalidation_1-rmse:0.796789\n",
            "Stopping. Best iteration:\n",
            "[548]\tvalidation_0-rmse:0.829564\tvalidation_1-rmse:0.79669\n",
            "\n"
          ],
          "name": "stdout"
        },
        {
          "output_type": "stream",
          "text": [
            "\u001b[32m[I 2021-07-12 05:41:18,271]\u001b[0m Trial 3 finished with value: 0.7966895699501038 and parameters: {'lambda': 0.0018169400061047933, 'alpha': 0.4731904298722254, 'colsample_bytree': 0.6, 'subsample': 0.7, 'learning_rate': 0.009, 'n_estimators': 3000, 'max_depth': 9, 'min_child_weight': 113}. Best is trial 3 with value: 0.7966895699501038.\u001b[0m\n"
          ],
          "name": "stderr"
        },
        {
          "output_type": "stream",
          "text": [
            "[05:41:27] WARNING: /workspace/src/objective/regression_obj.cu:152: reg:linear is now deprecated in favor of reg:squarederror.\n",
            "[0]\tvalidation_0-rmse:1.24207\tvalidation_1-rmse:1.10246\n",
            "Multiple eval metrics have been passed: 'validation_1-rmse' will be used for early stopping.\n",
            "\n",
            "Will train until validation_1-rmse hasn't improved in 40 rounds.\n",
            "[10]\tvalidation_0-rmse:1.19072\tvalidation_1-rmse:1.06066\n",
            "[20]\tvalidation_0-rmse:1.14494\tvalidation_1-rmse:1.02318\n",
            "[30]\tvalidation_0-rmse:1.1046\tvalidation_1-rmse:0.990796\n",
            "[40]\tvalidation_0-rmse:1.06882\tvalidation_1-rmse:0.962494\n",
            "[50]\tvalidation_0-rmse:1.03764\tvalidation_1-rmse:0.938535\n",
            "[60]\tvalidation_0-rmse:1.0104\tvalidation_1-rmse:0.917679\n",
            "[70]\tvalidation_0-rmse:0.986353\tvalidation_1-rmse:0.899907\n",
            "[80]\tvalidation_0-rmse:0.965198\tvalidation_1-rmse:0.884676\n",
            "[90]\tvalidation_0-rmse:0.94704\tvalidation_1-rmse:0.87202\n",
            "[100]\tvalidation_0-rmse:0.930996\tvalidation_1-rmse:0.861066\n",
            "[110]\tvalidation_0-rmse:0.916346\tvalidation_1-rmse:0.851633\n",
            "[120]\tvalidation_0-rmse:0.903424\tvalidation_1-rmse:0.843815\n",
            "[130]\tvalidation_0-rmse:0.892762\tvalidation_1-rmse:0.837066\n",
            "[140]\tvalidation_0-rmse:0.882837\tvalidation_1-rmse:0.831113\n",
            "[150]\tvalidation_0-rmse:0.87426\tvalidation_1-rmse:0.82663\n",
            "[160]\tvalidation_0-rmse:0.86637\tvalidation_1-rmse:0.822349\n",
            "[170]\tvalidation_0-rmse:0.859421\tvalidation_1-rmse:0.819081\n",
            "[180]\tvalidation_0-rmse:0.853412\tvalidation_1-rmse:0.816147\n",
            "[190]\tvalidation_0-rmse:0.847853\tvalidation_1-rmse:0.813774\n",
            "[199]\tvalidation_0-rmse:0.843019\tvalidation_1-rmse:0.81211\n"
          ],
          "name": "stdout"
        },
        {
          "output_type": "stream",
          "text": [
            "\u001b[32m[I 2021-07-12 05:42:24,581]\u001b[0m Trial 4 finished with value: 0.8121102452278137 and parameters: {'lambda': 0.02185183144091926, 'alpha': 2.1665583865090525, 'colsample_bytree': 0.7, 'subsample': 1.0, 'learning_rate': 0.009, 'n_estimators': 200, 'max_depth': 11, 'min_child_weight': 45}. Best is trial 3 with value: 0.7966895699501038.\u001b[0m\n"
          ],
          "name": "stderr"
        },
        {
          "output_type": "stream",
          "text": [
            "Number of finished trials: 5\n",
            "Best trial: {'lambda': 0.0018169400061047933, 'alpha': 0.4731904298722254, 'colsample_bytree': 0.6, 'subsample': 0.7, 'learning_rate': 0.009, 'n_estimators': 3000, 'max_depth': 9, 'min_child_weight': 113}\n"
          ],
          "name": "stdout"
        }
      ]
    },
    {
      "cell_type": "code",
      "metadata": {
        "id": "IrSfw-LbKdg5",
        "colab": {
          "base_uri": "https://localhost:8080/"
        },
        "outputId": "9934be40-0a21-4a18-e153-859e559d7e9d"
      },
      "source": [
        "best_params = study.best_trial.params\n",
        "print(f'Best trial parameters\\n{best_params}')"
      ],
      "execution_count": null,
      "outputs": [
        {
          "output_type": "stream",
          "text": [
            "Best trial parameters\n",
            "{'lambda': 0.0018169400061047933, 'alpha': 0.4731904298722254, 'colsample_bytree': 0.6, 'subsample': 0.7, 'learning_rate': 0.009, 'n_estimators': 3000, 'max_depth': 9, 'min_child_weight': 113}\n"
          ],
          "name": "stdout"
        }
      ]
    },
    {
      "cell_type": "code",
      "metadata": {
        "id": "DT0rCjR_S4ob"
      },
      "source": [
        "best_params = study.best_params\n",
        "best_params['tree_method'] = 'gpu_hist'\n",
        "best_params['random_state'] = 42"
      ],
      "execution_count": null,
      "outputs": []
    },
    {
      "cell_type": "code",
      "metadata": {
        "id": "aP2RV5WuKmMg",
        "colab": {
          "base_uri": "https://localhost:8080/"
        },
        "outputId": "664ddf1f-78ff-4bb4-d793-780ac26a39e9"
      },
      "source": [
        "%%time\n",
        "from xgboost import XGBRegressor\n",
        "\n",
        "model_xgb = XGBRegressor(**(best_params))\n",
        "\n",
        "model_xgb.fit(\n",
        "    X_train, \n",
        "    y_train, \n",
        "    eval_metric=\"rmse\", \n",
        "    eval_set=[(X_train, y_train), (X_valid, y_valid)], \n",
        "    verbose=10, \n",
        "    early_stopping_rounds = 40,\n",
        "    )\n",
        "\n",
        "\n",
        "prediction_xgb = model_xgb.predict(X_valid)\n",
        "print(mean_squared_error(y_valid, prediction_xgb, squared=False))\n",
        "\n",
        "np.save('prediction_xgb.npy', prediction_xgb)\n",
        "pickle.dump(model_xgb, open('model_xgb.pkl', 'wb'))"
      ],
      "execution_count": null,
      "outputs": [
        {
          "output_type": "stream",
          "text": [
            "[05:58:25] WARNING: /workspace/src/objective/regression_obj.cu:152: reg:linear is now deprecated in favor of reg:squarederror.\n",
            "[0]\tvalidation_0-rmse:1.24233\tvalidation_1-rmse:1.10254\n",
            "Multiple eval metrics have been passed: 'validation_1-rmse' will be used for early stopping.\n",
            "\n",
            "Will train until validation_1-rmse hasn't improved in 40 rounds.\n",
            "[10]\tvalidation_0-rmse:1.19499\tvalidation_1-rmse:1.06234\n",
            "[20]\tvalidation_0-rmse:1.15214\tvalidation_1-rmse:1.02526\n",
            "[30]\tvalidation_0-rmse:1.11454\tvalidation_1-rmse:0.993886\n",
            "[40]\tvalidation_0-rmse:1.08168\tvalidation_1-rmse:0.966348\n",
            "[50]\tvalidation_0-rmse:1.05292\tvalidation_1-rmse:0.943014\n",
            "[60]\tvalidation_0-rmse:1.02822\tvalidation_1-rmse:0.922977\n",
            "[70]\tvalidation_0-rmse:1.00609\tvalidation_1-rmse:0.904999\n",
            "[80]\tvalidation_0-rmse:0.98679\tvalidation_1-rmse:0.889793\n",
            "[90]\tvalidation_0-rmse:0.97039\tvalidation_1-rmse:0.876692\n",
            "[100]\tvalidation_0-rmse:0.956009\tvalidation_1-rmse:0.865516\n",
            "[110]\tvalidation_0-rmse:0.943261\tvalidation_1-rmse:0.855825\n",
            "[120]\tvalidation_0-rmse:0.932103\tvalidation_1-rmse:0.847374\n",
            "[130]\tvalidation_0-rmse:0.922839\tvalidation_1-rmse:0.840642\n",
            "[140]\tvalidation_0-rmse:0.914312\tvalidation_1-rmse:0.834697\n",
            "[150]\tvalidation_0-rmse:0.906901\tvalidation_1-rmse:0.82985\n",
            "[160]\tvalidation_0-rmse:0.900195\tvalidation_1-rmse:0.825254\n",
            "[170]\tvalidation_0-rmse:0.894384\tvalidation_1-rmse:0.821527\n",
            "[180]\tvalidation_0-rmse:0.88939\tvalidation_1-rmse:0.818436\n",
            "[190]\tvalidation_0-rmse:0.884707\tvalidation_1-rmse:0.815655\n",
            "[200]\tvalidation_0-rmse:0.880511\tvalidation_1-rmse:0.813574\n",
            "[210]\tvalidation_0-rmse:0.876727\tvalidation_1-rmse:0.811393\n",
            "[220]\tvalidation_0-rmse:0.873298\tvalidation_1-rmse:0.809498\n",
            "[230]\tvalidation_0-rmse:0.870229\tvalidation_1-rmse:0.807954\n",
            "[240]\tvalidation_0-rmse:0.867412\tvalidation_1-rmse:0.806321\n",
            "[250]\tvalidation_0-rmse:0.864864\tvalidation_1-rmse:0.805177\n",
            "[260]\tvalidation_0-rmse:0.862567\tvalidation_1-rmse:0.803991\n",
            "[270]\tvalidation_0-rmse:0.860284\tvalidation_1-rmse:0.803316\n",
            "[280]\tvalidation_0-rmse:0.858106\tvalidation_1-rmse:0.80256\n",
            "[290]\tvalidation_0-rmse:0.856151\tvalidation_1-rmse:0.801754\n",
            "[300]\tvalidation_0-rmse:0.854263\tvalidation_1-rmse:0.801048\n",
            "[310]\tvalidation_0-rmse:0.852599\tvalidation_1-rmse:0.800463\n",
            "[320]\tvalidation_0-rmse:0.850836\tvalidation_1-rmse:0.799982\n",
            "[330]\tvalidation_0-rmse:0.849433\tvalidation_1-rmse:0.799577\n",
            "[340]\tvalidation_0-rmse:0.848045\tvalidation_1-rmse:0.799336\n",
            "[350]\tvalidation_0-rmse:0.84677\tvalidation_1-rmse:0.799066\n",
            "[360]\tvalidation_0-rmse:0.845663\tvalidation_1-rmse:0.798669\n",
            "[370]\tvalidation_0-rmse:0.844504\tvalidation_1-rmse:0.798306\n",
            "[380]\tvalidation_0-rmse:0.843208\tvalidation_1-rmse:0.798122\n",
            "[390]\tvalidation_0-rmse:0.842157\tvalidation_1-rmse:0.797887\n",
            "[400]\tvalidation_0-rmse:0.840883\tvalidation_1-rmse:0.797775\n",
            "[410]\tvalidation_0-rmse:0.839766\tvalidation_1-rmse:0.797673\n",
            "[420]\tvalidation_0-rmse:0.838827\tvalidation_1-rmse:0.797414\n",
            "[430]\tvalidation_0-rmse:0.837776\tvalidation_1-rmse:0.79737\n",
            "[440]\tvalidation_0-rmse:0.836834\tvalidation_1-rmse:0.797171\n",
            "[450]\tvalidation_0-rmse:0.836129\tvalidation_1-rmse:0.79713\n",
            "[460]\tvalidation_0-rmse:0.835391\tvalidation_1-rmse:0.797119\n",
            "[470]\tvalidation_0-rmse:0.834623\tvalidation_1-rmse:0.79708\n",
            "[480]\tvalidation_0-rmse:0.833845\tvalidation_1-rmse:0.797118\n",
            "[490]\tvalidation_0-rmse:0.833159\tvalidation_1-rmse:0.796984\n",
            "[500]\tvalidation_0-rmse:0.832488\tvalidation_1-rmse:0.796939\n",
            "[510]\tvalidation_0-rmse:0.831851\tvalidation_1-rmse:0.79701\n",
            "[520]\tvalidation_0-rmse:0.831226\tvalidation_1-rmse:0.796935\n",
            "[530]\tvalidation_0-rmse:0.830496\tvalidation_1-rmse:0.79696\n",
            "[540]\tvalidation_0-rmse:0.829905\tvalidation_1-rmse:0.79688\n",
            "[550]\tvalidation_0-rmse:0.829342\tvalidation_1-rmse:0.796949\n",
            "[560]\tvalidation_0-rmse:0.828771\tvalidation_1-rmse:0.797205\n",
            "[570]\tvalidation_0-rmse:0.828198\tvalidation_1-rmse:0.797117\n",
            "[580]\tvalidation_0-rmse:0.82776\tvalidation_1-rmse:0.797075\n",
            "Stopping. Best iteration:\n",
            "[548]\tvalidation_0-rmse:0.829466\tvalidation_1-rmse:0.796876\n",
            "\n",
            "0.796876\n",
            "CPU times: user 1min 56s, sys: 3.63 s, total: 2min\n",
            "Wall time: 2min\n"
          ],
          "name": "stdout"
        }
      ]
    },
    {
      "cell_type": "code",
      "metadata": {
        "id": "49Fv4KK2TXMQ"
      },
      "source": [
        "# public score 0.90532\n",
        "prediction = model_xgb.predict(X_test)\n",
        "prediction_xgb = prediction\n",
        "\n",
        "submission = pd.DataFrame({\n",
        "    \"ID\": np.arange(prediction.shape[0]), \n",
        "    \"item_cnt_month\": prediction.clip(0, 20)\n",
        "})\n",
        "submission.to_csv('submission_xgb.csv', index=False)"
      ],
      "execution_count": null,
      "outputs": []
    },
    {
      "cell_type": "markdown",
      "metadata": {
        "id": "SZjMq3Z8U6DO"
      },
      "source": [
        "### LightGBM"
      ]
    },
    {
      "cell_type": "code",
      "metadata": {
        "id": "TCBIhLk3XAPd",
        "colab": {
          "base_uri": "https://localhost:8080/",
          "height": 606
        },
        "outputId": "34dcc5b6-2da8-4b9f-cefe-1bfa91aa4790"
      },
      "source": [
        "import lightgbm as lgb\n",
        "\n",
        "# lgb hyper-parameters\n",
        "params = {'metric': 'rmse',\n",
        "          'num_leaves': 255,\n",
        "          'learning_rate': 0.005,\n",
        "          'feature_fraction': 0.75,\n",
        "          'bagging_fraction': 0.75,\n",
        "          'bagging_freq': 5,\n",
        "          'force_col_wise' : True,\n",
        "          'random_state': 10}\n",
        "\n",
        "# lgb train and valid dataset\n",
        "dtrain = lgb.Dataset(X_train, y_train)\n",
        "dvalid = lgb.Dataset(X_valid, y_valid)\n",
        "\n",
        "# Train LightGBM model\n",
        "lgb_model = lgb.train(params=params,\n",
        "                      train_set=dtrain,\n",
        "                      num_boost_round=1500,\n",
        "                      valid_sets=(dtrain, dvalid),\n",
        "                      early_stopping_rounds=150,\n",
        "                      categorical_feature=cat_features,\n",
        "                      verbose_eval=100)\n",
        "\n",
        "# prediction_lgbm = lgb_model.predict(X_valid)\n",
        "# print(mean_squared_error(y_valid, prediction_lgbm, squared=False))\n",
        "\n",
        "# np.save('prediction_lgbm.npy', prediction_lgbm)\n",
        "# pickle.dump(model_lgbm, open('model_lgbm.pkl', 'wb'))"
      ],
      "execution_count": null,
      "outputs": [
        {
          "output_type": "stream",
          "text": [
            "/usr/local/lib/python3.7/dist-packages/lightgbm/basic.py:1209: UserWarning: categorical_feature in Dataset is overridden.\n",
            "New categorical_feature is ['category', 'city', 'item_category_id', 'month', 'shop_id']\n",
            "  'New categorical_feature is {}'.format(sorted(list(categorical_feature))))\n",
            "/usr/local/lib/python3.7/dist-packages/lightgbm/basic.py:762: UserWarning: categorical_feature in param dict is overridden.\n",
            "  warnings.warn('categorical_feature in param dict is overridden.')\n"
          ],
          "name": "stderr"
        },
        {
          "output_type": "stream",
          "text": [
            "Training until validation scores don't improve for 150 rounds.\n",
            "[100]\ttraining's rmse: 1.01972\tvalid_1's rmse: 0.913804\n",
            "[200]\ttraining's rmse: 0.915315\tvalid_1's rmse: 0.841459\n",
            "[300]\ttraining's rmse: 0.862754\tvalid_1's rmse: 0.811887\n",
            "[400]\ttraining's rmse: 0.83372\tvalid_1's rmse: 0.799976\n",
            "[500]\ttraining's rmse: 0.814621\tvalid_1's rmse: 0.795288\n",
            "[600]\ttraining's rmse: 0.801147\tvalid_1's rmse: 0.793271\n",
            "[700]\ttraining's rmse: 0.791165\tvalid_1's rmse: 0.7925\n",
            "[800]\ttraining's rmse: 0.782658\tvalid_1's rmse: 0.791469\n",
            "[900]\ttraining's rmse: 0.775554\tvalid_1's rmse: 0.791208\n",
            "[1000]\ttraining's rmse: 0.769241\tvalid_1's rmse: 0.790887\n",
            "[1100]\ttraining's rmse: 0.764101\tvalid_1's rmse: 0.790754\n",
            "[1200]\ttraining's rmse: 0.759672\tvalid_1's rmse: 0.790942\n",
            "Early stopping, best iteration is:\n",
            "[1112]\ttraining's rmse: 0.763529\tvalid_1's rmse: 0.790725\n"
          ],
          "name": "stdout"
        },
        {
          "output_type": "error",
          "ename": "NameError",
          "evalue": "ignored",
          "traceback": [
            "\u001b[0;31m---------------------------------------------------------------------------\u001b[0m",
            "\u001b[0;31mNameError\u001b[0m                                 Traceback (most recent call last)",
            "\u001b[0;32m<ipython-input-11-65759eea5fa3>\u001b[0m in \u001b[0;36m<module>\u001b[0;34m()\u001b[0m\n\u001b[1;32m     24\u001b[0m                       verbose_eval=100)\n\u001b[1;32m     25\u001b[0m \u001b[0;34m\u001b[0m\u001b[0m\n\u001b[0;32m---> 26\u001b[0;31m \u001b[0mprediction_lgbm\u001b[0m \u001b[0;34m=\u001b[0m \u001b[0mlgb_mode\u001b[0m\u001b[0;34m.\u001b[0m\u001b[0mpredict\u001b[0m\u001b[0;34m(\u001b[0m\u001b[0mX_valid\u001b[0m\u001b[0;34m)\u001b[0m\u001b[0;34m\u001b[0m\u001b[0;34m\u001b[0m\u001b[0m\n\u001b[0m\u001b[1;32m     27\u001b[0m \u001b[0mprint\u001b[0m\u001b[0;34m(\u001b[0m\u001b[0mmean_squared_error\u001b[0m\u001b[0;34m(\u001b[0m\u001b[0my_valid\u001b[0m\u001b[0;34m,\u001b[0m \u001b[0mprediction_lgbm\u001b[0m\u001b[0;34m,\u001b[0m \u001b[0msquared\u001b[0m\u001b[0;34m=\u001b[0m\u001b[0;32mFalse\u001b[0m\u001b[0;34m)\u001b[0m\u001b[0;34m)\u001b[0m\u001b[0;34m\u001b[0m\u001b[0;34m\u001b[0m\u001b[0m\n\u001b[1;32m     28\u001b[0m \u001b[0;34m\u001b[0m\u001b[0m\n",
            "\u001b[0;31mNameError\u001b[0m: name 'lgb_mode' is not defined"
          ]
        }
      ]
    },
    {
      "cell_type": "code",
      "metadata": {
        "colab": {
          "base_uri": "https://localhost:8080/"
        },
        "id": "P83E2VkWo7oL",
        "outputId": "5f131604-7def-434d-aeef-28dbc0a345b7"
      },
      "source": [
        "from sklearn.metrics import mean_squared_error\n",
        "import numpy as np\n",
        "import pickle\n",
        "\n",
        "prediction_lgbm = lgb_model.predict(X_valid)\n",
        "print(mean_squared_error(y_valid, prediction_lgbm, squared=False))\n",
        "\n",
        "np.save('prediction_lgbm.npy', prediction_lgbm)\n",
        "pickle.dump(lgb_model, open('model_lgbm.pkl', 'wb'))"
      ],
      "execution_count": null,
      "outputs": [
        {
          "output_type": "stream",
          "text": [
            "0.7908140133310592\n"
          ],
          "name": "stdout"
        }
      ]
    },
    {
      "cell_type": "code",
      "metadata": {
        "id": "g7i0hPBap9mo"
      },
      "source": [
        "# public score 0.88398\n",
        "prediction = lgb_model.predict(X_test)\n",
        "prediction_lgb = prediction\n",
        "\n",
        "submission = pd.DataFrame({\n",
        "    \"ID\": np.arange(prediction.shape[0]), \n",
        "    \"item_cnt_month\": prediction.clip(0, 20)\n",
        "})\n",
        "submission.to_csv('submission_lgbm.csv', index=False)"
      ],
      "execution_count": null,
      "outputs": []
    },
    {
      "cell_type": "markdown",
      "metadata": {
        "id": "N7idyxDpl3O6"
      },
      "source": [
        "#### 튜닝"
      ]
    },
    {
      "cell_type": "code",
      "metadata": {
        "id": "JQamkGI5atml",
        "colab": {
          "base_uri": "https://localhost:8080/"
        },
        "outputId": "2725fd0d-92bf-475d-c7f9-3acc6bb85257"
      },
      "source": [
        "import pandas as pd\n",
        "import numpy as np\n",
        "import matplotlib.pyplot as plt\n",
        "%matplotlib inline\n",
        "pd.set_option('display.float_format', lambda x: '%.3f' % x)\n",
        "pd.set_option('display.max_rows', 100)\n",
        "pd.set_option('display.max_columns', 100)\n",
        "import seaborn as sns\n",
        "import gc\n",
        "import pickle\n",
        "import time\n",
        "from itertools import product\n",
        "import optuna\n",
        "import lightgbm as lgb\n",
        "from lightgbm import plot_importance\n",
        "import sklearn.metrics\n",
        "from sklearn.preprocessing import LabelEncoder\n",
        "from sklearn.metrics import mean_squared_error\n",
        "print('Done')"
      ],
      "execution_count": null,
      "outputs": [
        {
          "output_type": "stream",
          "text": [
            "Done\n"
          ],
          "name": "stdout"
        }
      ]
    },
    {
      "cell_type": "code",
      "metadata": {
        "id": "lKrwsul7luV4"
      },
      "source": [
        "def rmsle(y, y_pred):\n",
        "    return np.sqrt(mean_squared_error(y, y_pred))\n",
        "\n",
        "\n",
        "def plot_features(booster, figsize):    \n",
        "    fig, ax = plt.subplots(1,1,figsize=figsize)\n",
        "    return plot_importance(booster=booster, ax=ax)"
      ],
      "execution_count": null,
      "outputs": []
    },
    {
      "cell_type": "code",
      "metadata": {
        "id": "y1iC_Z7zl_ZT"
      },
      "source": [
        "lgb_train = lgb.Dataset(X_train, y_train)\n",
        "lgb_eval  = lgb.Dataset(X_valid, y_valid, reference=lgb_train)"
      ],
      "execution_count": null,
      "outputs": []
    },
    {
      "cell_type": "code",
      "metadata": {
        "id": "mIC6rFgWmLLl"
      },
      "source": [
        "def objective(trial):\n",
        "    \n",
        "    # choose parameters that you want\n",
        "    \n",
        "    param = {\n",
        "        \"objective\": \"regression\",\n",
        "        \"metric\": \"rmse\",\n",
        "        \"verbosity\": -1,\n",
        "        \"boosting_type\": \"gbdt\",\n",
        "        \"lambda_l1\": trial.suggest_float(\"lambda_l1\", 1e-8, 10.0, log=True),\n",
        "        \"lambda_l2\": trial.suggest_float(\"lambda_l2\", 1e-8, 10.0, log=True),\n",
        "        \"num_leaves\": trial.suggest_int(\"num_leaves\", 2, 256),\n",
        "        \"feature_fraction\": trial.suggest_float(\"feature_fraction\", 0.4, 1.0),\n",
        "        \"bagging_fraction\": trial.suggest_float(\"bagging_fraction\", 0.4, 1.0),\n",
        "        \"bagging_freq\": trial.suggest_int(\"bagging_freq\", 1, 7),\n",
        "        \"min_child_samples\": trial.suggest_int(\"min_child_samples\", 5, 100),\n",
        "    }\n",
        "\n",
        "    model = lgb.train(param, \n",
        "                      lgb_train,\n",
        "                      valid_sets=[lgb_train,lgb_eval],\n",
        "                      early_stopping_rounds=150,\n",
        "                      verbose_eval=100)\n",
        "    \n",
        "    y_pred = model.predict(X_valid)\n",
        "    accuracy = rmsle(y_valid, y_pred)\n",
        "\n",
        "    return accuracy"
      ],
      "execution_count": null,
      "outputs": []
    },
    {
      "cell_type": "code",
      "metadata": {
        "colab": {
          "base_uri": "https://localhost:8080/"
        },
        "id": "mQR1zO_wmMiR",
        "outputId": "e1344db0-ae37-4d60-99fb-0bde0c50bbfe"
      },
      "source": [
        "study = optuna.create_study(direction='minimize')\n",
        "study.optimize(objective, n_trials=5)\n",
        " \n",
        "print('Number of finished trials:', len(study.trials))\n",
        "print('Best trial:', study.best_trial.params)"
      ],
      "execution_count": null,
      "outputs": [
        {
          "output_type": "stream",
          "text": [
            "\u001b[32m[I 2021-07-12 07:55:28,793]\u001b[0m A new study created in memory with name: no-name-f6dffd30-ee54-47bc-b8b3-fdf4548aee0f\u001b[0m\n"
          ],
          "name": "stderr"
        },
        {
          "output_type": "stream",
          "text": [
            "Training until validation scores don't improve for 150 rounds.\n",
            "[100]\ttraining's rmse: 0.788967\tvalid_1's rmse: 0.828174\n",
            "Did not meet early stopping. Best iteration is:\n",
            "[100]\ttraining's rmse: 0.788967\tvalid_1's rmse: 0.828174\n"
          ],
          "name": "stdout"
        },
        {
          "output_type": "stream",
          "text": [
            "\u001b[32m[I 2021-07-12 07:57:02,253]\u001b[0m Trial 0 finished with value: 0.8281742869098434 and parameters: {'lambda_l1': 0.003327181008208635, 'lambda_l2': 0.1696374836580544, 'num_leaves': 109, 'feature_fraction': 0.9508536470413863, 'bagging_fraction': 0.5111411111568301, 'bagging_freq': 6, 'min_child_samples': 19}. Best is trial 0 with value: 0.8281742869098434.\u001b[0m\n"
          ],
          "name": "stderr"
        },
        {
          "output_type": "stream",
          "text": [
            "Training until validation scores don't improve for 150 rounds.\n",
            "[100]\ttraining's rmse: 0.846752\tvalid_1's rmse: 0.806343\n",
            "Did not meet early stopping. Best iteration is:\n",
            "[100]\ttraining's rmse: 0.846752\tvalid_1's rmse: 0.806343\n"
          ],
          "name": "stdout"
        },
        {
          "output_type": "stream",
          "text": [
            "\u001b[32m[I 2021-07-12 07:58:47,821]\u001b[0m Trial 1 finished with value: 0.8063430497401713 and parameters: {'lambda_l1': 0.002415751151242204, 'lambda_l2': 0.33154895445335786, 'num_leaves': 29, 'feature_fraction': 0.8000645054019844, 'bagging_fraction': 0.7789441140567532, 'bagging_freq': 2, 'min_child_samples': 59}. Best is trial 1 with value: 0.8063430497401713.\u001b[0m\n"
          ],
          "name": "stderr"
        },
        {
          "output_type": "stream",
          "text": [
            "Training until validation scores don't improve for 150 rounds.\n",
            "[100]\ttraining's rmse: 0.808307\tvalid_1's rmse: 0.811031\n",
            "Did not meet early stopping. Best iteration is:\n",
            "[100]\ttraining's rmse: 0.808307\tvalid_1's rmse: 0.811031\n"
          ],
          "name": "stdout"
        },
        {
          "output_type": "stream",
          "text": [
            "\u001b[32m[I 2021-07-12 08:00:23,479]\u001b[0m Trial 2 finished with value: 0.8110312622444493 and parameters: {'lambda_l1': 2.0042523768520097e-06, 'lambda_l2': 0.46995709537520786, 'num_leaves': 82, 'feature_fraction': 0.9266946796210911, 'bagging_fraction': 0.5576525156468347, 'bagging_freq': 7, 'min_child_samples': 73}. Best is trial 1 with value: 0.8063430497401713.\u001b[0m\n"
          ],
          "name": "stderr"
        },
        {
          "output_type": "stream",
          "text": [
            "Training until validation scores don't improve for 150 rounds.\n",
            "[100]\ttraining's rmse: 0.788921\tvalid_1's rmse: 0.809395\n",
            "Did not meet early stopping. Best iteration is:\n",
            "[100]\ttraining's rmse: 0.788921\tvalid_1's rmse: 0.809395\n"
          ],
          "name": "stdout"
        },
        {
          "output_type": "stream",
          "text": [
            "\u001b[32m[I 2021-07-12 08:02:48,903]\u001b[0m Trial 3 finished with value: 0.8093947065561347 and parameters: {'lambda_l1': 1.0487201014670635e-08, 'lambda_l2': 5.6124874825309994e-08, 'num_leaves': 145, 'feature_fraction': 0.6592578313201489, 'bagging_fraction': 0.7404295543481394, 'bagging_freq': 2, 'min_child_samples': 100}. Best is trial 1 with value: 0.8063430497401713.\u001b[0m\n"
          ],
          "name": "stderr"
        },
        {
          "output_type": "stream",
          "text": [
            "Training until validation scores don't improve for 150 rounds.\n",
            "[100]\ttraining's rmse: 0.776224\tvalid_1's rmse: 0.826002\n",
            "Did not meet early stopping. Best iteration is:\n",
            "[100]\ttraining's rmse: 0.776224\tvalid_1's rmse: 0.826002\n"
          ],
          "name": "stdout"
        },
        {
          "output_type": "stream",
          "text": [
            "\u001b[32m[I 2021-07-12 08:04:58,019]\u001b[0m Trial 4 finished with value: 0.8260015796944992 and parameters: {'lambda_l1': 0.00039008278153871415, 'lambda_l2': 0.07428441590156441, 'num_leaves': 167, 'feature_fraction': 0.708765773383661, 'bagging_fraction': 0.6945589350757297, 'bagging_freq': 4, 'min_child_samples': 50}. Best is trial 1 with value: 0.8063430497401713.\u001b[0m\n"
          ],
          "name": "stderr"
        },
        {
          "output_type": "stream",
          "text": [
            "Number of finished trials: 5\n",
            "Best trial: {'lambda_l1': 0.002415751151242204, 'lambda_l2': 0.33154895445335786, 'num_leaves': 29, 'feature_fraction': 0.8000645054019844, 'bagging_fraction': 0.7789441140567532, 'bagging_freq': 2, 'min_child_samples': 59}\n"
          ],
          "name": "stdout"
        }
      ]
    },
    {
      "cell_type": "code",
      "metadata": {
        "colab": {
          "base_uri": "https://localhost:8080/"
        },
        "id": "QqSfPQvhmOCj",
        "outputId": "44f4f617-6c6e-4daa-b9f8-91296ec58b67"
      },
      "source": [
        "best_params = study.best_trial.params\n",
        "print(f'Best trial parameters\\n{best_params}')"
      ],
      "execution_count": null,
      "outputs": [
        {
          "output_type": "stream",
          "text": [
            "Best trial parameters\n",
            "{'lambda_l1': 0.002415751151242204, 'lambda_l2': 0.33154895445335786, 'num_leaves': 29, 'feature_fraction': 0.8000645054019844, 'bagging_fraction': 0.7789441140567532, 'bagging_freq': 2, 'min_child_samples': 59}\n"
          ],
          "name": "stdout"
        }
      ]
    },
    {
      "cell_type": "code",
      "metadata": {
        "colab": {
          "base_uri": "https://localhost:8080/"
        },
        "id": "MBm6DIZhmOtA",
        "outputId": "7e1b35f6-1fe3-4be4-c182-0405980fafb5"
      },
      "source": [
        "# add some fix params\n",
        "\n",
        "x = {\"objective\": \"regression\",\n",
        "     \"metric\"   : \"rmse\",\n",
        "     \"verbosity\": -1,\n",
        "     \"boosting_type\": \"gbdt\"}\n",
        "\n",
        "best_params.update(x)\n",
        "best_params"
      ],
      "execution_count": null,
      "outputs": [
        {
          "output_type": "execute_result",
          "data": {
            "text/plain": [
              "{'bagging_fraction': 0.7789441140567532,\n",
              " 'bagging_freq': 2,\n",
              " 'boosting_type': 'gbdt',\n",
              " 'feature_fraction': 0.8000645054019844,\n",
              " 'lambda_l1': 0.002415751151242204,\n",
              " 'lambda_l2': 0.33154895445335786,\n",
              " 'metric': 'rmse',\n",
              " 'min_child_samples': 59,\n",
              " 'num_leaves': 29,\n",
              " 'objective': 'regression',\n",
              " 'verbosity': -1}"
            ]
          },
          "metadata": {
            "tags": []
          },
          "execution_count": 32
        }
      ]
    },
    {
      "cell_type": "code",
      "metadata": {
        "colab": {
          "base_uri": "https://localhost:8080/"
        },
        "id": "PZev6oHjmR0u",
        "outputId": "4f2ce65b-6d19-40c7-df12-9ee1a715920a"
      },
      "source": [
        "evals_result = {} \n",
        "\n",
        "model = lgb.train(best_params,\n",
        "                  lgb_train,\n",
        "                  valid_sets=[lgb_train,lgb_eval],\n",
        "                  evals_result=evals_result,\n",
        "                  early_stopping_rounds=150,\n",
        "                  verbose_eval=100,\n",
        "                  )"
      ],
      "execution_count": null,
      "outputs": [
        {
          "output_type": "stream",
          "text": [
            "Training until validation scores don't improve for 150 rounds.\n",
            "[100]\ttraining's rmse: 0.846752\tvalid_1's rmse: 0.806343\n",
            "Did not meet early stopping. Best iteration is:\n",
            "[100]\ttraining's rmse: 0.846752\tvalid_1's rmse: 0.806343\n"
          ],
          "name": "stdout"
        }
      ]
    },
    {
      "cell_type": "code",
      "metadata": {
        "colab": {
          "base_uri": "https://localhost:8080/"
        },
        "id": "ATGaUOOAmUGm",
        "outputId": "78a47fbc-5704-4101-d5b8-7d46bd869f04"
      },
      "source": [
        "from sklearn.metrics import mean_squared_error\n",
        "import numpy as np\n",
        "import pickle\n",
        "\n",
        "prediction_lgb = model.predict(X_valid)\n",
        "print(mean_squared_error(y_valid, prediction_lgb, squared=False))\n",
        "\n",
        "np.save('prediction_lgb_t.npy', prediction_lgb)\n",
        "pickle.dump(lgb_model, open('model_lgb_t.pkl', 'wb'))"
      ],
      "execution_count": null,
      "outputs": [
        {
          "output_type": "stream",
          "text": [
            "0.8063430497401713\n"
          ],
          "name": "stdout"
        }
      ]
    },
    {
      "cell_type": "markdown",
      "metadata": {
        "id": "5l1DnVFr2n11"
      },
      "source": [
        "## Ensemble based on different models"
      ]
    },
    {
      "cell_type": "markdown",
      "metadata": {
        "id": "9_UUF3Ww2rgI"
      },
      "source": [
        "### Meta features\n"
      ]
    },
    {
      "cell_type": "code",
      "metadata": {
        "colab": {
          "base_uri": "https://localhost:8080/"
        },
        "id": "pTe9u_j83oBF",
        "outputId": "6f0ba482-a9da-4db6-c6c8-56177b249587"
      },
      "source": [
        "!pip install catboost\n",
        "from catboost import CatBoostRegressor\n",
        "from sklearn.metrics import mean_squared_error"
      ],
      "execution_count": null,
      "outputs": [
        {
          "output_type": "stream",
          "text": [
            "Collecting catboost\n",
            "\u001b[?25l  Downloading https://files.pythonhosted.org/packages/5a/41/24e14322b9986cf72a8763e0a0a69cc256cf963cf9502c8f0044a62c1ae8/catboost-0.26-cp37-none-manylinux1_x86_64.whl (69.2MB)\n",
            "\u001b[K     |████████████████████████████████| 69.2MB 38kB/s \n",
            "\u001b[?25hRequirement already satisfied: plotly in /usr/local/lib/python3.7/dist-packages (from catboost) (4.4.1)\n",
            "Requirement already satisfied: graphviz in /usr/local/lib/python3.7/dist-packages (from catboost) (0.10.1)\n",
            "Requirement already satisfied: pandas>=0.24.0 in /usr/local/lib/python3.7/dist-packages (from catboost) (1.1.5)\n",
            "Requirement already satisfied: scipy in /usr/local/lib/python3.7/dist-packages (from catboost) (1.4.1)\n",
            "Requirement already satisfied: matplotlib in /usr/local/lib/python3.7/dist-packages (from catboost) (3.2.2)\n",
            "Requirement already satisfied: six in /usr/local/lib/python3.7/dist-packages (from catboost) (1.15.0)\n",
            "Requirement already satisfied: numpy>=1.16.0 in /usr/local/lib/python3.7/dist-packages (from catboost) (1.19.5)\n",
            "Requirement already satisfied: retrying>=1.3.3 in /usr/local/lib/python3.7/dist-packages (from plotly->catboost) (1.3.3)\n",
            "Requirement already satisfied: python-dateutil>=2.7.3 in /usr/local/lib/python3.7/dist-packages (from pandas>=0.24.0->catboost) (2.8.1)\n",
            "Requirement already satisfied: pytz>=2017.2 in /usr/local/lib/python3.7/dist-packages (from pandas>=0.24.0->catboost) (2018.9)\n",
            "Requirement already satisfied: pyparsing!=2.0.4,!=2.1.2,!=2.1.6,>=2.0.1 in /usr/local/lib/python3.7/dist-packages (from matplotlib->catboost) (2.4.7)\n",
            "Requirement already satisfied: kiwisolver>=1.0.1 in /usr/local/lib/python3.7/dist-packages (from matplotlib->catboost) (1.3.1)\n",
            "Requirement already satisfied: cycler>=0.10 in /usr/local/lib/python3.7/dist-packages (from matplotlib->catboost) (0.10.0)\n",
            "Installing collected packages: catboost\n",
            "Successfully installed catboost-0.26\n"
          ],
          "name": "stdout"
        }
      ]
    },
    {
      "cell_type": "code",
      "metadata": {
        "colab": {
          "base_uri": "https://localhost:8080/"
        },
        "id": "3KB9hjGQtPEP",
        "outputId": "bdee5ccc-9298-4319-c172-3b10a42e0626"
      },
      "source": [
        "model_catboost = pickle.load(open('/content/drive/MyDrive/dataset/model_catboost.pkl','rb'))\n",
        "model_lgbm = pickle.load(open('/content/drive/MyDrive/dataset/model_lgbm.pkl','rb'))\n",
        "model_xgb = pickle.load(open('/content/drive/MyDrive/dataset/model_xgb.pkl','rb'))\n",
        "model_lgb_t = pickle.load(open('/content/drive/MyDrive/dataset/model_lgb_t.pkl','rb'))"
      ],
      "execution_count": null,
      "outputs": [
        {
          "output_type": "stream",
          "text": [
            "[08:51:35] WARNING: /workspace/src/objective/regression_obj.cu:152: reg:linear is now deprecated in favor of reg:squarederror.\n"
          ],
          "name": "stdout"
        }
      ]
    },
    {
      "cell_type": "code",
      "metadata": {
        "colab": {
          "base_uri": "https://localhost:8080/"
        },
        "id": "FNWb2NwM3NaH",
        "outputId": "baa054b2-7cce-4314-a86f-eebf40df3c24"
      },
      "source": [
        "%%time\n",
        "models = [model_lgbm, model_catboost, model_lgb_t, model_xgb] \n",
        "\n",
        "meta_X_train = [model.predict(X_valid) for model in models]\n",
        "\n",
        "meta_X_train[2] = meta_X_train[2].flatten()\n",
        "\n",
        "meta_X_train = np.array(meta_X_train).T\n",
        "\n",
        "meta_X_test = [model.predict(X_test) for model in models]\n",
        "\n",
        "meta_X_test[2] = meta_X_test[2].flatten()\n",
        "\n",
        "meta_X_test = np.array(meta_X_test).T\n",
        "\n",
        "meta_y_train = y_valid"
      ],
      "execution_count": null,
      "outputs": [
        {
          "output_type": "stream",
          "text": [
            "CPU times: user 4min 9s, sys: 274 ms, total: 4min 9s\n",
            "Wall time: 2min 7s\n"
          ],
          "name": "stdout"
        }
      ]
    },
    {
      "cell_type": "markdown",
      "metadata": {
        "id": "ifuPm5SY4Yub"
      },
      "source": [
        "### Simple convex mix\n",
        "\n",
        "### Two models"
      ]
    },
    {
      "cell_type": "code",
      "metadata": {
        "colab": {
          "base_uri": "https://localhost:8080/"
        },
        "id": "SpDVcMxx4GE4",
        "outputId": "e20f2a49-5327-4be5-ce2c-d82511ba115e"
      },
      "source": [
        "from sklearn.metrics import mean_squared_error\n",
        "\n",
        "# choose models \n",
        "model_index = [0,1]  # lgbm and catboost score 0.790230\n",
        "# model_index = [0,2] # lgbm and lgb_t score 0.790814\n",
        "# model_index = [0,-1]  # lgbm and xgb  score 0.790587\n",
        "\n",
        "alphas_to_try = np.linspace(0, 1, 1001)\n",
        "rmse_scores = np.empty_like(alphas_to_try)\n",
        "\n",
        "for ind, alpha in enumerate(alphas_to_try):\n",
        "    simple_mix_pred = alpha * meta_X_train[:,model_index[0]] + (1 - alpha) * meta_X_train[:,model_index[1]]\n",
        "    rmse_scores[ind] = mean_squared_error(meta_y_train, simple_mix_pred, squared=False)\n",
        "\n",
        "\n",
        "best_alpha = alphas_to_try[np.argmin(rmse_scores)]\n",
        "rmse_train_simple_mix = np.min(rmse_scores) \n",
        "\n",
        "print('Best alpha: %f; Corresponding rmse score on train: %f' % (best_alpha, rmse_train_simple_mix))"
      ],
      "execution_count": null,
      "outputs": [
        {
          "output_type": "stream",
          "text": [
            "Best alpha: 0.853000; Corresponding rmse score on train: 0.790230\n"
          ],
          "name": "stdout"
        }
      ]
    },
    {
      "cell_type": "code",
      "metadata": {
        "id": "bIMAMovo4l-s"
      },
      "source": [
        "# remember that meta_X_test is a prediction for a model for X_test\n",
        "meta_prediction = best_alpha * meta_X_test[:,model_index[0]] + (1 - best_alpha) * meta_X_test[:,model_index[1]]\n",
        "submission = pd.DataFrame({\n",
        "    \"ID\": np.arange(meta_prediction.shape[0]), \n",
        "    \"item_cnt_month\": meta_prediction.clip(0, 20).flatten()\n",
        "})\n",
        "submission.to_csv('submission_meta_simple_mix_lgbm_cat.csv', index=False)"
      ],
      "execution_count": null,
      "outputs": []
    },
    {
      "cell_type": "markdown",
      "metadata": {
        "id": "ofs1WabC5f_F"
      },
      "source": [
        "### Three models\n"
      ]
    },
    {
      "cell_type": "code",
      "metadata": {
        "colab": {
          "base_uri": "https://localhost:8080/"
        },
        "id": "W9AAEuNC5Y-W",
        "outputId": "0ca0f2d7-b68d-49cc-c9ce-546b7df6af87"
      },
      "source": [
        "%%time\n",
        "from sklearn.metrics import mean_squared_error\n",
        "\n",
        "\n",
        "alphas_to_try = np.linspace(0, 1, 51)\n",
        "betas_to_try = np.linspace(0, 1, 51)\n",
        "gammas_to_try = np.linspace(0, 1, 51)\n",
        "rmse_scores = np.zeros((len(alphas_to_try), len(betas_to_try),len(gammas_to_try)))\n",
        "\n",
        "for ind1, alpha in enumerate(alphas_to_try):\n",
        "    for ind2, beta in enumerate(betas_to_try):  \n",
        "        for ind3, gamma in enumerate(gammas_to_try):  \n",
        "            simple_mix_pred = alpha * meta_X_train[:,0] + beta * meta_X_train[:,1] +  gamma * meta_X_train[:,3]\n",
        "            rmse_scores[ind1, ind2, ind3] = mean_squared_error(meta_y_train, simple_mix_pred, squared=False)\n",
        "\n",
        "\n",
        "ind1, ind2, ind3 = np.unravel_index(rmse_scores.argmin(), rmse_scores.shape)\n",
        "best_alpha, best_beta, best_gamma = alphas_to_try[ind1], betas_to_try[ind2], gammas_to_try[ind3]\n",
        "rmse_train_simple_mix = np.min(rmse_scores) \n",
        "\n",
        "print('Best alpha: %f; best beta: %f; best gamma: %f; Corresponding rmse score on train: %f' % (best_alpha, best_beta, best_gamma, rmse_train_simple_mix))"
      ],
      "execution_count": null,
      "outputs": [
        {
          "output_type": "stream",
          "text": [
            "Best alpha: 0.820000; best beta: 0.160000; best gamma: 0.020000; Corresponding rmse score on train: 0.789935\n",
            "CPU times: user 5min 36s, sys: 18.2 s, total: 5min 54s\n",
            "Wall time: 5min 54s\n"
          ],
          "name": "stdout"
        }
      ]
    },
    {
      "cell_type": "code",
      "metadata": {
        "id": "-40KkyGB5vma"
      },
      "source": [
        "# remember that meta_X_test is a prediction for a model for X_test\n",
        "meta_prediction = best_alpha * meta_X_test[:,0] + best_beta * meta_X_test[:,1] + best_gamma * meta_X_test[:,3]\n",
        "submission = pd.DataFrame({\n",
        "    \"ID\": np.arange(meta_prediction.shape[0]), \n",
        "    \"item_cnt_month\": meta_prediction.clip(0, 20).flatten()\n",
        "})\n",
        "submission.to_csv('submission_meta_simple_mix_3_models.csv', index=False) # public score 0.88083"
      ],
      "execution_count": null,
      "outputs": []
    },
    {
      "cell_type": "markdown",
      "metadata": {
        "id": "HjISj2DD9jbz"
      },
      "source": [
        "## Stacking"
      ]
    },
    {
      "cell_type": "code",
      "metadata": {
        "colab": {
          "base_uri": "https://localhost:8080/"
        },
        "id": "1GxzQtpU856E",
        "outputId": "cacbef7f-cab1-47f5-d42e-0c312f02126d"
      },
      "source": [
        "from sklearn.linear_model import LinearRegression\n",
        "from lightgbm import LGBMRegressor\n",
        "\n",
        "meta_model = LinearRegression()\n",
        "\n",
        "meta_model.fit(meta_X_train, meta_y_train)\n",
        "\n",
        "meta_prediction = meta_model.predict(meta_X_test)\n",
        "print(mean_squared_error(meta_y_train, meta_model.predict(meta_X_train), squared=False))"
      ],
      "execution_count": null,
      "outputs": [
        {
          "output_type": "stream",
          "text": [
            "0.7899029014336424\n"
          ],
          "name": "stdout"
        }
      ]
    },
    {
      "cell_type": "code",
      "metadata": {
        "id": "kAOKcPM_92MS"
      },
      "source": [
        "submission = pd.DataFrame({\n",
        "    \"ID\": np.arange(meta_prediction.shape[0]), \n",
        "    \"item_cnt_month\": meta_prediction.clip(0, 20).flatten()\n",
        "})\n",
        "submission.to_csv('submission_meta_lr_4_models.csv', index=False)"
      ],
      "execution_count": null,
      "outputs": []
    },
    {
      "cell_type": "code",
      "metadata": {
        "id": "datXJiHl961J"
      },
      "source": [
        ""
      ],
      "execution_count": null,
      "outputs": []
    }
  ]
}